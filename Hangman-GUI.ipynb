{
 "cells": [
  {
   "cell_type": "markdown",
   "id": "cc0f6590",
   "metadata": {},
   "source": [
    "# Hangman\n",
    "\n",
    "### 11 March, 2023\n",
    "\n",
    "## Team 13 Members:\n",
    "\n",
    "- Aijun Fan\n",
    "- Dharshani Nuwanmali Rathnayake Rathnayake Mudhiyanselage\n",
    "- Ke Jia\n",
    "- Lakshitha Nisal Dharmarathna Kariyawasam Pathirage\n",
    "- Qixiao Zhang\n",
    "\n",
    "\n",
    "## Code Repository:\n",
    "\n",
    "- https://github.com/jiakeke/hangman.git\n",
    "\n",
    "## Project Management:\n",
    "\n",
    "- https://trello.com/b/G8SOrkfG/project-of-team-13"
   ]
  },
  {
   "cell_type": "markdown",
   "id": "94ccd5ea",
   "metadata": {},
   "source": [
    "### Project 5. Hangman\n",
    "\n",
    "#### Requirements:\n",
    "\n",
    "The game:\n",
    "\n",
    "One player thinks a word and the other needs to guess it. Every time is a wrongly guessd letter, the other player will start to draw the hanged man picture. The player who is trying to guess, wins if the hanged man picture is not finalized.\n",
    "\n",
    "The program should have the following options to choose from: friuts, animals, car brands, countries. Eeach category should contain at least 15 words to randomly choose from. The player should be abel to select the category and than game starts.\n",
    "\n",
    "The program should allow user to play over and over again until user chooses to quit using it. When the game has stoped the program should display number of plays and numer of wins.\n",
    "\n",
    "35 points\n",
    "\n",
    "#### !!!! Bonus points:5 for creating any kind of UI for the program.\n",
    "***"
   ]
  },
  {
   "cell_type": "markdown",
   "id": "b5c03494",
   "metadata": {},
   "source": [
    "##### HangmanImage, this class is in charge of drawing hangman's body and the gallows.\n",
    " - This class requires PIL(Pillow) installed."
   ]
  },
  {
   "cell_type": "code",
   "execution_count": 1,
   "id": "3a319929",
   "metadata": {},
   "outputs": [],
   "source": [
    "from PIL import Image, ImageDraw, ImageOps\n",
    "from io import BytesIO\n",
    "\n",
    "class HangmanImage:\n",
    "    \"\"\"Draws the hangman image one body part at a time following incorrect guesses.\"\"\"\n",
    "    def __init__(self):\n",
    "        self.image = Image.new('RGB', (300,300), (255,255,255))\n",
    "        self.image = ImageOps.expand(self.image, border=4, fill=\"black\")\n",
    "        self.draw = ImageDraw.Draw(self.image)\n",
    "        self.draw_structure()\n",
    "        self.body_parts = [self.draw_head,\n",
    "                           self.draw_torso,\n",
    "                           self.draw_right_arm,\n",
    "                           self.draw_left_arm,\n",
    "                           self.draw_right_leg,\n",
    "                           self.draw_left_leg]\n",
    "        self.idx = 0\n",
    "        \n",
    "    def draw_structure(self):\n",
    "        self.draw.line((140,280,280,280), fill=\"black\", width=3)\n",
    "        self.draw.line((225,280,225,40), fill=\"black\", width=3)\n",
    "        self.draw.line((225,40,110,40), fill=\"black\", width=3)\n",
    "        self.draw.line((110,40,110,60), fill=\"black\", width=3)\n",
    "        \n",
    "    def draw_next(self):\n",
    "        self.body_parts[self.idx]()\n",
    "        self.idx+=1\n",
    "        \n",
    "    def draw_head(self):\n",
    "        self.draw.ellipse((90,60,130,100), outline='black', width=2)\n",
    "        \n",
    "    def draw_torso(self):\n",
    "        self.draw.line((110,100,110,160), fill=\"black\", width=3)\n",
    "    \n",
    "    def draw_right_arm(self):\n",
    "        self.draw.line((110,125,140,120), fill=\"black\", width=3)\n",
    "        \n",
    "    def draw_left_arm(self):\n",
    "        self.draw.line((110,125,80,120), fill=\"black\", width=3)\n",
    "    \n",
    "    def draw_right_leg(self):\n",
    "        self.draw.line((110,160,135,195), fill=\"black\", width=3)\n",
    "    \n",
    "    def draw_left_leg(self):\n",
    "        self.draw.line((110,160,85,195), fill=\"black\", width=3)\n",
    "        self.draw.text((98,70),\"x  x\", fill=\"black\")\n",
    "        \n",
    "    def get_encoded_image(self):\n",
    "        b = BytesIO()\n",
    "        self.image.save(b, format='png')\n",
    "        return b.getvalue()\n"
   ]
  },
  {
   "cell_type": "markdown",
   "id": "8bb0f87a",
   "metadata": {},
   "source": [
    "##### Here is the vocabulary for guessing."
   ]
  },
  {
   "cell_type": "code",
   "execution_count": 2,
   "id": "d95daffd",
   "metadata": {},
   "outputs": [],
   "source": [
    "words = [\n",
    "    ('Animals',\n",
    "        ('bat bear beaver cat cougar crab deer dog donkey duck eagle fish frog '\n",
    "         'goat leech lion lizard monkey moose mouse otter owl panda python '\n",
    "         'rabbit rat shark sheep skunk squid tiger turkey turtle weasel whale '\n",
    "         'wolf wombat zebra')),\n",
    "    ('Car brands',\n",
    "        ('audi bently buick chevrolet chrysler dodge ferrari ford iveco '\n",
    "         'jaguar lamborghini lincoln maybach mini nissan peugeot porsche '\n",
    "         'skoda toyota volkswagen')),\n",
    "    ('Colors',\n",
    "        ('red orange yellow green blue indigo violet white black brown')),\n",
    "    ('Countries',\n",
    "        ('america canada china denmark finland france germany iceland iran '\n",
    "         'italy japan netherland norway pakistan poland portugal spain '\n",
    "         'srilanka sweden syria')),\n",
    "    ('Fruits',\n",
    "        ('apple banana blackberry blueberry cantalope cherry grape grapefruit '\n",
    "         'grapes kiwi lemon lime litchi mango orange peach pear pineapple '\n",
    "         'strawberry tomato watermelon')),\n",
    "    ('Shapes',\n",
    "        ('square triangle rectangle circle ellipse rhombus trapazoid chevron '\n",
    "         'pentagon hexagon septagon octogon')),\n",
    "    ]\n",
    "\n",
    "words_dict = dict([(k, v.split()) for k, v in words])"
   ]
  },
  {
   "cell_type": "markdown",
   "id": "a168f944",
   "metadata": {},
   "source": [
    "##### This class containing the Hangman game play logic.\n",
    " - Choose randow word by given category.\n",
    " - Verify the letter entered by the user is correct or not.\n",
    " - Calculate the number of attempts remaining for the user.\n",
    " - Finally determine whether the user wins or not"
   ]
  },
  {
   "cell_type": "code",
   "execution_count": 3,
   "id": "b3b954ff",
   "metadata": {},
   "outputs": [],
   "source": [
    "import random\n",
    "from collections import defaultdict\n",
    "\n",
    "\n",
    "class HangmanGame:\n",
    "\n",
    "    def __init__(self, word_category=''):\n",
    "        if not word_category:\n",
    "            word_category = words[0][0]\n",
    "        self.word_category = word_category\n",
    "        self.status = 0 # 0 = in progress, 1 = win, -1 = lose\n",
    "        self.get_target_word()\n",
    "        self.remaining_guesses = 6\n",
    "        self.build_letter_dict()\n",
    "        self.word = list(\"_\"*len(self.target_word))\n",
    "\n",
    "    def get_target_word(self):\n",
    "        # get a random word by category for guessing\n",
    "        self.target_word = random.choice(words_dict[self.word_category])\n",
    "\n",
    "    def build_letter_dict(self):\n",
    "        self.letters = defaultdict(list)\n",
    "        for idx, letter in enumerate(self.target_word):\n",
    "            self.letters[letter.lower()].append(idx)\n",
    "\n",
    "    def guess(self, guess):\n",
    "        # Guess whether the input letter is correct or not\n",
    "        correct_guess = False\n",
    "        guess = guess.description.lower()\n",
    "        if len(guess) == 1:\n",
    "            if guess in self.letters:\n",
    "                for idx in self.letters[guess]:\n",
    "                    self.word[idx] = guess\n",
    "                del self.letters[guess]\n",
    "                correct_guess = True\n",
    "            else:\n",
    "                self.remaining_guesses -= 1\n",
    "                if self.remaining_guesses == 0:\n",
    "                    self.status = -1\n",
    "            if not self.letters:\n",
    "                self.status = 1\n",
    "        return correct_guess\n",
    "\n"
   ]
  },
  {
   "cell_type": "markdown",
   "id": "ba14ec21",
   "metadata": {},
   "source": [
    "##### This class is the primary class of this project, contains all of the UI elements for interacting with the game.\n",
    " - Control the progress of the entire game.\n",
    " - Generate the UI(user interface) of the entire game\n",
    " - Call the HangmanImage class to draw the the hangman.\n",
    " - Call the HangmanGame class to guess the letter is correct or not."
   ]
  },
  {
   "cell_type": "code",
   "execution_count": 4,
   "id": "6c4abe9e",
   "metadata": {},
   "outputs": [],
   "source": [
    "import string\n",
    "from ipywidgets import widgets\n",
    "from IPython.display import clear_output\n",
    "\n",
    "\n",
    "class App:\n",
    "\n",
    "    def __init__(self, game, image):\n",
    "        self.game = game\n",
    "        self.games = 0\n",
    "        self.wins = 0\n",
    "        self.image = image\n",
    "        self.word_category = self.game.word_category\n",
    "        self.default_margin = \"20px 0px 0px 20px\"\n",
    "        self.get_word_category_setter()\n",
    "        self.get_letter_buttons()\n",
    "        self.get_app()\n",
    "\n",
    "    def guess(self, guess):\n",
    "        \"\"\"\n",
    "        Sends the guessed letter to the HangmanGame class and receives a response\n",
    "        indicating whether or not the guess was correct.\n",
    "        \"\"\"\n",
    "        correct_guess = self.game.guess(guess)\n",
    "        if not correct_guess:\n",
    "            self.image.draw_next()\n",
    "        if self.game.status != 0:\n",
    "            self.disable_all_letters()\n",
    "            self.games += 1\n",
    "            if self.game.status == 1:\n",
    "                self.wins += 1\n",
    "\n",
    "    def get_hangman_image(self):\n",
    "        \"\"\"Builds a widget to display the hangman image.\"\"\"\n",
    "        self.hangman_image = widgets.Image(value=self.image.get_encoded_image())\n",
    "\n",
    "    def get_letter_buttons(self):\n",
    "        \"\"\"Builds buttons enabling the player to guess each letter of the alphabet\"\"\"\n",
    "        self.letter_buttons = [widgets.Button(description=item,\n",
    "                                              layout=widgets.Layout(height='25px',\n",
    "                                                                    width='33px'),\n",
    "                                              button_style=\"warning\",\n",
    "                                              tooltip=f\"Click to guess {item}.\")\\\n",
    "                               for item in string.ascii_uppercase]\n",
    "        for button in self.letter_buttons:\n",
    "            button.on_click(self.letter_button_handler)\n",
    "            button.on_click(self.guess)\n",
    "            button.on_click(self.get_app)\n",
    "        self.letter_button_box = widgets.HBox(self.letter_buttons)\n",
    "\n",
    "    def letter_button_handler(self, button):\n",
    "        \"\"\"Disables the letter buttons after they have been clicked on.\"\"\"\n",
    "        button.disabled = True\n",
    "        button.tooltip = \"\"\n",
    "\n",
    "    def enable_all_letter_buttons(self):\n",
    "        \"\"\"Reset all letter buttons when a new game is started.\"\"\"\n",
    "        for button in self.letter_buttons:\n",
    "            button.disabled = False\n",
    "            button.on_click(self.guess)\n",
    "            button.on_click(self.get_app)\n",
    "\n",
    "    def disable_all_letters(self):\n",
    "        \"\"\"Disables all of the letter buttons when the game is over.\"\"\"\n",
    "        for button in self.letter_buttons:\n",
    "            button.disabled = True\n",
    "            button.tooltip = \"\"\n",
    "\n",
    "    def get_word_category_setter(self):\n",
    "        \"\"\"Builds a dropdown widget enabling player to set the category of the\n",
    "           target word.\n",
    "        \"\"\"\n",
    "        categories = list(words_dict.keys())\n",
    "        self.word_category_setter = widgets.Dropdown(\n",
    "                                        description=\"Category\",\n",
    "                                        options=categories,\n",
    "                                        value=self.word_category,\n",
    "                                        layout=widgets.Layout(\n",
    "                                                height=\"auto\",\n",
    "                                                width='180px'))\n",
    "        self.word_category_setter.observe(self.set_word_category, names=['value'])\n",
    "\n",
    "    def set_word_category(self, _):\n",
    "        \"\"\"Sets the category of word and resets the game.\"\"\"\n",
    "        self.word_category = self.word_category_setter.value\n",
    "        self.reset()\n",
    "\n",
    "    def get_player_info(self):\n",
    "        \"\"\"Gets player info/stats to be displayed in the app.\"\"\"\n",
    "        player_name = widgets.HTML(f\"<h3>Player Result</h3>\",\n",
    "                                layout=widgets.Layout(margin=\"0px 0px 0px 100px\"))\n",
    "        games = widgets.HTML(f\"<h4>Games: {self.games}</h4>\",\n",
    "                                layout=widgets.Layout(margin=\"0px 0px 0px 100px\"))\n",
    "        wins = widgets.HTML(f\"<h4>Wins: {self.wins}</h4>\",\n",
    "                                layout=widgets.Layout(margin=\"0px 0px 0px 100px\"))\n",
    "        return widgets.VBox([player_name, games, wins])\n",
    "\n",
    "    def get_header(self):\n",
    "        \"\"\"\n",
    "        Builds the header section for the Hangman app.\n",
    "        \n",
    "        Contains:\n",
    "            Secret Word: \n",
    "                A blank word representing the word to be guessed.\n",
    "                Letters are revealed following correct guesses.\n",
    "            Remaining Guesses: \n",
    "                The number of guesses remaining before the player loses the game.\n",
    "            Player Result: \n",
    "                The current player's wins out of games.\n",
    "            \n",
    "        The appearence of the header section is dependent on the status of\n",
    "        the current game.\n",
    "        \"\"\"\n",
    "        info = {-1:['red', self.game.target_word],\n",
    "                0:['black',' '.join(self.game.word)],\n",
    "                1:['green', self.game.target_word]}\n",
    "        secret_word = widgets.HTML(\n",
    "                        f\"<h1><font color={info[self.game.status][0]}>Secret Word:\\\n",
    "                          {info[self.game.status][1]}</h1>\",\n",
    "                        layout=widgets.Layout(width=\"500px\"))\n",
    "        remaining_guesses = widgets.HTML(\n",
    "                        f\"<h2><font color='black'>Remaining Guesses:\\\n",
    "                          {str(self.game.remaining_guesses)}</h2>\",\n",
    "                        layout=widgets.Layout(height='auto'))\n",
    "        player_info = self.get_player_info()\n",
    "        self.header = widgets.HBox(\n",
    "                        [widgets.VBox([secret_word, remaining_guesses]),player_info])\n",
    "\n",
    "    def get_message(self):\n",
    "        \"\"\"A message that is displayed after the game is finished (win/lose).\"\"\"\n",
    "        text = \"You Win!\" if self.game.status == 1 else \"You Lose\"\n",
    "        return widgets.HTML(f\"<h1><font color='blue'> {text} </h1>\",\n",
    "                           layout=widgets.Layout(margin=self.default_margin))\n",
    "\n",
    "    def get_left_sidebar(self):\n",
    "        \"\"\"\n",
    "        Builds the left sidebar section of the app.\n",
    "        \n",
    "        Contains:\n",
    "            Win/Lose Message (Only after game has ended)\n",
    "            Play Again Button (Only after game has ended)\n",
    "        \"\"\"\n",
    "        if self.game.status == 0:\n",
    "            self.left_sidebar = widgets.VBox([self.word_category_setter])\n",
    "        else:\n",
    "            message = self.get_message()\n",
    "            play_again = self.get_play_again()\n",
    "            self.left_sidebar = widgets.VBox([self.word_category_setter,\n",
    "                                              message,\n",
    "                                              play_again])\n",
    "\n",
    "    def get_footer(self):\n",
    "        \"\"\"\n",
    "        Builds the footer section of the app.\n",
    "        \n",
    "        Contains:\n",
    "            Letter Buttons\n",
    "        \"\"\"\n",
    "        footer_text = widgets.HTML(\n",
    "            \"<h3>Click on a letter below to guess the word.</h3>\",\n",
    "            layout=widgets.Layout(margin=\"0px 0px 0px 70px\"))\n",
    "        self.footer = widgets.VBox([footer_text, self.letter_button_box])\n",
    "        self.footer.layout.margin = \"-60px 0px 0px 0px\"\n",
    "\n",
    "    def get_play_again(self):\n",
    "        \"\"\"\n",
    "        Creates a button allowing the player to play again.\n",
    "        \n",
    "        Button only becomes active after the game has ended.\n",
    "        Clicking the button resets the app.\n",
    "        \"\"\"\n",
    "        play_again = widgets.Button(description=\"Play Again\",\n",
    "                                         button_style=\"success\")\n",
    "        play_again.on_click(self.reset)\n",
    "        play_again.layout.margin = self.default_margin\n",
    "        return play_again\n",
    "\n",
    "    def get_app(self, *args):\n",
    "        \"\"\"Builds and displays the app using the widgets.AppLayout template.\"\"\"\n",
    "        self.get_header()\n",
    "        self.get_left_sidebar()\n",
    "        self.get_hangman_image()\n",
    "        self.get_footer()\n",
    "        self.app = widgets.AppLayout(header=self.header,\n",
    "                                     left_sidebar=self.left_sidebar,\n",
    "                                     center=self.hangman_image,\n",
    "                                     footer=self.footer)\n",
    "        if self.game.status == 0 and self.game.remaining_guesses < 6:\n",
    "            self.word_category_setter.disabled = True\n",
    "        else:\n",
    "            self.word_category_setter.disabled = False\n",
    "        clear_output(wait=True)\n",
    "        display(self.app)\n",
    "\n",
    "    def reset(self, *args):\n",
    "        \"\"\"Resets the app to start a new game.\"\"\"\n",
    "        if hasattr(self, \"guessed_words\"):\n",
    "            del self.guessed_words\n",
    "        self.image.__init__()\n",
    "        self.game.__init__(self.word_category)\n",
    "        self.get_letter_buttons()\n",
    "        self.get_app()\n"
   ]
  },
  {
   "cell_type": "markdown",
   "id": "6ed2260d",
   "metadata": {},
   "source": [
    "##### Here is the main program process"
   ]
  },
  {
   "cell_type": "code",
   "execution_count": 5,
   "id": "6c6d9c05",
   "metadata": {},
   "outputs": [
    {
     "data": {
      "application/vnd.jupyter.widget-view+json": {
       "model_id": "b25b51bc7f1c4cd48e56768edb1842d2",
       "version_major": 2,
       "version_minor": 0
      },
      "text/plain": [
       "AppLayout(children=(HBox(children=(VBox(children=(HTML(value='<h1><font color=black>Secret Word:              …"
      ]
     },
     "metadata": {},
     "output_type": "display_data"
    }
   ],
   "source": [
    "app = App(HangmanGame(), HangmanImage())"
   ]
  },
  {
   "cell_type": "code",
   "execution_count": null,
   "id": "5bf96ea0",
   "metadata": {},
   "outputs": [],
   "source": []
  }
 ],
 "metadata": {
  "kernelspec": {
   "display_name": "Python 3 (ipykernel)",
   "language": "python",
   "name": "python3"
  },
  "language_info": {
   "codemirror_mode": {
    "name": "ipython",
    "version": 3
   },
   "file_extension": ".py",
   "mimetype": "text/x-python",
   "name": "python",
   "nbconvert_exporter": "python",
   "pygments_lexer": "ipython3",
   "version": "3.9.13"
  },
  "widgets": {
   "application/vnd.jupyter.widget-state+json": {
    "state": {
     "000eab9efd814c83a96e5c138f603c88": {
      "model_module": "@jupyter-widgets/controls",
      "model_module_version": "1.5.0",
      "model_name": "DescriptionStyleModel",
      "state": {
       "description_width": ""
      }
     },
     "002edf549e2a47f79851f80e47d0220f": {
      "model_module": "@jupyter-widgets/controls",
      "model_module_version": "1.5.0",
      "model_name": "HTMLModel",
      "state": {
       "layout": "IPY_MODEL_714f3cb59d2841bb8c176c2127fcfc10",
       "style": "IPY_MODEL_70c8cdbb4d794a318b38af9c59ce6949",
       "value": "<h2><font color='black'>Remaining Guesses:                          -1</h2>"
      }
     },
     "003cce0ea832481693b4ce4594915171": {
      "model_module": "@jupyter-widgets/controls",
      "model_module_version": "1.5.0",
      "model_name": "HTMLModel",
      "state": {
       "layout": "IPY_MODEL_c7f6b80b51f24f26b1fd1a6b8f5467c3",
       "style": "IPY_MODEL_7d69e46d0b4b4f149ab0621bf0946847",
       "value": "<h4>Games: 0</h4>"
      }
     },
     "0046fc969b0f4a98abd2de027e40f08a": {
      "model_module": "@jupyter-widgets/controls",
      "model_module_version": "1.5.0",
      "model_name": "HTMLModel",
      "state": {
       "layout": "IPY_MODEL_348aaf828def4d33a696f1bccd518443",
       "style": "IPY_MODEL_867213ed83f24c309326f6d31e2a3988",
       "value": "<h4>Wins: 2</h4>"
      }
     },
     "004f848b48b04f37877f26852ce340e5": {
      "model_module": "@jupyter-widgets/base",
      "model_module_version": "1.2.0",
      "model_name": "LayoutModel",
      "state": {
       "margin": "0px 0px 0px 100px"
      }
     },
     "0060a2ec509e410d9efedbfbc8efea07": {
      "model_module": "@jupyter-widgets/base",
      "model_module_version": "1.2.0",
      "model_name": "LayoutModel",
      "state": {
       "margin": "0px 0px 0px 100px"
      }
     },
     "0061311220e846629f3b8aae2f5bb4f0": {
      "model_module": "@jupyter-widgets/controls",
      "model_module_version": "1.5.0",
      "model_name": "HTMLModel",
      "state": {
       "layout": "IPY_MODEL_78197440894241baaacd733ff52349e0",
       "style": "IPY_MODEL_b8e78bcf09094d9998e1cb0a5a751b0f",
       "value": "<h4>Wins: 0</h4>"
      }
     },
     "006d7771a190483dbe0e2b7e188fe281": {
      "model_module": "@jupyter-widgets/base",
      "model_module_version": "1.2.0",
      "model_name": "LayoutModel",
      "state": {
       "grid_area": "header"
      }
     },
     "007770c9c92640a2848074ceeb3f235e": {
      "model_module": "@jupyter-widgets/controls",
      "model_module_version": "1.5.0",
      "model_name": "ButtonStyleModel",
      "state": {}
     },
     "00824e63a17c45c8969952b45bdffe47": {
      "model_module": "@jupyter-widgets/controls",
      "model_module_version": "1.5.0",
      "model_name": "HTMLModel",
      "state": {
       "layout": "IPY_MODEL_218898720e354447b60dfdd3ffa99791",
       "style": "IPY_MODEL_743878fd00b845ffa8d1ffb804045296",
       "value": "<h4>Wins: 2</h4>"
      }
     },
     "00ac86be02b742c384d69a2135f58a23": {
      "model_module": "@jupyter-widgets/controls",
      "model_module_version": "1.5.0",
      "model_name": "DescriptionStyleModel",
      "state": {
       "description_width": ""
      }
     },
     "00ba42f5d5c442fca08a9589b3142691": {
      "model_module": "@jupyter-widgets/base",
      "model_module_version": "1.2.0",
      "model_name": "LayoutModel",
      "state": {
       "margin": "0px 0px 0px 100px"
      }
     },
     "00ea8d286bfc4628aad8cff0d5ff8f4a": {
      "model_module": "@jupyter-widgets/base",
      "model_module_version": "1.2.0",
      "model_name": "LayoutModel",
      "state": {
       "grid_area": "left-sidebar"
      }
     },
     "00f2381422914efdbab62f33fa61c268": {
      "model_module": "@jupyter-widgets/base",
      "model_module_version": "1.2.0",
      "model_name": "LayoutModel",
      "state": {
       "grid_template_areas": "\"header header header\"\n\"left-sidebar center center\"\n\"footer footer footer\"",
       "grid_template_columns": "1fr 2fr 1fr",
       "grid_template_rows": "1fr 3fr 1fr"
      }
     },
     "00fee4c9978e44fca2ca361d48fc0b1e": {
      "model_module": "@jupyter-widgets/controls",
      "model_module_version": "1.5.0",
      "model_name": "VBoxModel",
      "state": {
       "children": [
        "IPY_MODEL_48f7f92efab04e54a650e3f05cba3124"
       ],
       "layout": "IPY_MODEL_f8d6e559fac643d78377daa8b4ed5bd5"
      }
     },
     "0112cb67418245e89d41f4be2fa104fe": {
      "model_module": "@jupyter-widgets/controls",
      "model_module_version": "1.5.0",
      "model_name": "HTMLModel",
      "state": {
       "layout": "IPY_MODEL_b7510c97ef0948d6b5f3464194dae416",
       "style": "IPY_MODEL_b601e69c0d9442daab426ace196056be",
       "value": "<h2><font color='black'>Remaining Guesses:                          6</h2>"
      }
     },
     "013613c9250444ea83a5b8ed783d2d2c": {
      "model_module": "@jupyter-widgets/controls",
      "model_module_version": "1.5.0",
      "model_name": "VBoxModel",
      "state": {
       "children": [
        "IPY_MODEL_c6ccdbc6d9334e6a91a83e24fea019c2",
        "IPY_MODEL_422108b747f4454a86e185722a6d0068"
       ],
       "layout": "IPY_MODEL_f9a03e659d6c4a39891b421ed083d78f"
      }
     },
     "013aeb9bae2b4dc98da80fb0856d81de": {
      "model_module": "@jupyter-widgets/controls",
      "model_module_version": "1.5.0",
      "model_name": "DescriptionStyleModel",
      "state": {
       "description_width": ""
      }
     },
     "013e142eb3e744dcbfd7c98d0889af5e": {
      "model_module": "@jupyter-widgets/controls",
      "model_module_version": "1.5.0",
      "model_name": "ButtonModel",
      "state": {
       "button_style": "warning",
       "description": "U",
       "layout": "IPY_MODEL_651021c555fd451b8fabfc3c34c88822",
       "style": "IPY_MODEL_797866389a07432d884d1149c95931df",
       "tooltip": "Click to guess U."
      }
     },
     "0144cc494cd84249adb01af79c59b280": {
      "model_module": "@jupyter-widgets/controls",
      "model_module_version": "1.5.0",
      "model_name": "HTMLModel",
      "state": {
       "layout": "IPY_MODEL_62d28df9871648bfaa4236fbd6ab622a",
       "style": "IPY_MODEL_a395701f915046258697514cb68978f0",
       "value": "<h4>Games: 0</h4>"
      }
     },
     "0163582e0049483f9ef7194466187af6": {
      "model_module": "@jupyter-widgets/base",
      "model_module_version": "1.2.0",
      "model_name": "LayoutModel",
      "state": {
       "height": "25px",
       "width": "33px"
      }
     },
     "01b2c1f50e25455bb48b24725a718ad4": {
      "model_module": "@jupyter-widgets/controls",
      "model_module_version": "1.5.0",
      "model_name": "HTMLModel",
      "state": {
       "layout": "IPY_MODEL_650c5530d9234e248bff1354caa259bb",
       "style": "IPY_MODEL_420a6880b71241c1b863c8458e83486b",
       "value": "<h3>Player Result</h3>"
      }
     },
     "01d496417cf7467c9bf55ddad0102be1": {
      "model_module": "@jupyter-widgets/controls",
      "model_module_version": "1.5.0",
      "model_name": "ButtonStyleModel",
      "state": {}
     },
     "01e78628d63846128dffd34e20fc92a0": {
      "model_module": "@jupyter-widgets/controls",
      "model_module_version": "1.5.0",
      "model_name": "HBoxModel",
      "state": {
       "children": [
        "IPY_MODEL_b479f7356766476a9eba5d8bcb788679",
        "IPY_MODEL_196db15593da4f64b5f2b30ffe7fdc1e"
       ],
       "layout": "IPY_MODEL_94f0f613426c4ccfbeaba030d3771623"
      }
     },
     "01e9aeb5ec7942b1bb5cc354bcee8cfe": {
      "model_module": "@jupyter-widgets/controls",
      "model_module_version": "1.5.0",
      "model_name": "GridBoxModel",
      "state": {
       "children": [
        "IPY_MODEL_97e461736f01445ab6c0b23dc494642d",
        "IPY_MODEL_7c4766fe199940b7bc7a80c5d3dd307f",
        "IPY_MODEL_b8839b4fc90547aab88a70f963e77399",
        "IPY_MODEL_ddecd170ebeb4ebda6029398ef1bd30f"
       ],
       "layout": "IPY_MODEL_c394e8a1492d4c21a73020678643c14f"
      }
     },
     "021360e3c6ab4f3984a40f847c39d0e0": {
      "model_module": "@jupyter-widgets/controls",
      "model_module_version": "1.5.0",
      "model_name": "HTMLModel",
      "state": {
       "layout": "IPY_MODEL_13387146e9274b1d9a318c12000c4192",
       "style": "IPY_MODEL_b19050e8666a406284f6e46959a3a8ee",
       "value": "<h4>Wins: 0</h4>"
      }
     },
     "023f707bca68486095aed2d12636367b": {
      "model_module": "@jupyter-widgets/base",
      "model_module_version": "1.2.0",
      "model_name": "LayoutModel",
      "state": {
       "margin": "0px 0px 0px 100px"
      }
     },
     "02501f62e5524571a35b9b472cf3e486": {
      "model_module": "@jupyter-widgets/controls",
      "model_module_version": "1.5.0",
      "model_name": "GridBoxModel",
      "state": {
       "children": [
        "IPY_MODEL_d9180560e2474797983d3c8c7587d77a",
        "IPY_MODEL_4a84fb7bb1304359a9811f31a8097119",
        "IPY_MODEL_9b6dd5a6c09e4c45843293ac755f3434",
        "IPY_MODEL_7cf0627d7c1e4e96a7b0c26b6d6c9980"
       ],
       "layout": "IPY_MODEL_ce06ca2337dc45039b1fa8d5c8144654"
      }
     },
     "02506c36fbd743409077af96b67672f3": {
      "model_module": "@jupyter-widgets/controls",
      "model_module_version": "1.5.0",
      "model_name": "HTMLModel",
      "state": {
       "layout": "IPY_MODEL_365f93c33bb64de4a2808250619d90a1",
       "style": "IPY_MODEL_8b5f8c0e9e364a929c85ef9eb76b09ff",
       "value": "<h1><font color=red>Secret Word:                          blue</h1>"
      }
     },
     "0254740129b54c909b11bb91176693a3": {
      "model_module": "@jupyter-widgets/base",
      "model_module_version": "1.2.0",
      "model_name": "LayoutModel",
      "state": {
       "grid_area": "footer",
       "margin": "-60px 0px 0px 0px"
      }
     },
     "02582daa99634c8e8e21a08c9536fc7b": {
      "model_module": "@jupyter-widgets/controls",
      "model_module_version": "1.5.0",
      "model_name": "ButtonStyleModel",
      "state": {}
     },
     "02a40c5fc6dd4ae6bf039e145b36b274": {
      "model_module": "@jupyter-widgets/base",
      "model_module_version": "1.2.0",
      "model_name": "LayoutModel",
      "state": {
       "height": "25px",
       "width": "33px"
      }
     },
     "02a601b8ee544ea99f9ab5230ea913b4": {
      "model_module": "@jupyter-widgets/controls",
      "model_module_version": "1.5.0",
      "model_name": "GridBoxModel",
      "state": {
       "children": [
        "IPY_MODEL_d51caa0527754bb9b7211e193ef8f182",
        "IPY_MODEL_70ee85aa88bf42b4a60e5fbe00d55ad2",
        "IPY_MODEL_13adce2b692a4424b6093e0144ce9db1",
        "IPY_MODEL_7985f677842547a1a59a3edf4be1ff12"
       ],
       "layout": "IPY_MODEL_76d6d51c590e48bc82520cc6f65a4587"
      }
     },
     "02ae5b84e97a4c71b39a0aeb2075300c": {
      "model_module": "@jupyter-widgets/base",
      "model_module_version": "1.2.0",
      "model_name": "LayoutModel",
      "state": {
       "margin": "0px 0px 0px 70px"
      }
     },
     "02aea28d24e2410f8b3fec860455805a": {
      "model_module": "@jupyter-widgets/controls",
      "model_module_version": "1.5.0",
      "model_name": "DescriptionStyleModel",
      "state": {
       "description_width": ""
      }
     },
     "02c1f58e970045dc83649b2cc3c071db": {
      "model_module": "@jupyter-widgets/base",
      "model_module_version": "1.2.0",
      "model_name": "LayoutModel",
      "state": {
       "grid_area": "left-sidebar"
      }
     },
     "02d215b4a5ee4aaaacce45566757624c": {
      "model_module": "@jupyter-widgets/controls",
      "model_module_version": "1.5.0",
      "model_name": "DescriptionStyleModel",
      "state": {
       "description_width": ""
      }
     },
     "02d3135bca8b4129ba7f43acaedc35b9": {
      "model_module": "@jupyter-widgets/base",
      "model_module_version": "1.2.0",
      "model_name": "LayoutModel",
      "state": {
       "grid_area": "footer",
       "margin": "-60px 0px 0px 0px"
      }
     },
     "02dfef30353f422a916e9b34a6960573": {
      "model_module": "@jupyter-widgets/controls",
      "model_module_version": "1.5.0",
      "model_name": "ButtonStyleModel",
      "state": {}
     },
     "03010dfdc85b46f2b1775b261f2c6303": {
      "model_module": "@jupyter-widgets/controls",
      "model_module_version": "1.5.0",
      "model_name": "HTMLModel",
      "state": {
       "layout": "IPY_MODEL_95ebad30c83d4bb39ab9b77db1c89fe2",
       "style": "IPY_MODEL_a1f69bdd214d48d7b268815a33fda9da",
       "value": "<h1><font color='blue'> You Lose </h1>"
      }
     },
     "03281c59712949c4a850859c866762a5": {
      "model_module": "@jupyter-widgets/controls",
      "model_module_version": "1.5.0",
      "model_name": "DescriptionStyleModel",
      "state": {
       "description_width": ""
      }
     },
     "034b59c4795248b6aa66d682e89d98fe": {
      "model_module": "@jupyter-widgets/controls",
      "model_module_version": "1.5.0",
      "model_name": "HTMLModel",
      "state": {
       "layout": "IPY_MODEL_0544d6a1a7b947739d55ca5adf28caae",
       "style": "IPY_MODEL_343ab139cf9a4d2a9b6c39c40a2ac13a",
       "value": "<h4>Wins: 3</h4>"
      }
     },
     "0377cf07210d45b69a679ac4a7f781ef": {
      "model_module": "@jupyter-widgets/controls",
      "model_module_version": "1.5.0",
      "model_name": "HTMLModel",
      "state": {
       "layout": "IPY_MODEL_da893216a4434b398b6f3cdf3e1e9dc0",
       "style": "IPY_MODEL_37014833de8b4a53bdcf3aeff85c3ccb",
       "value": "<h2><font color='black'>Remaining Guesses:                          6</h2>"
      }
     },
     "0381c8cea8854fd39cb6b7f7889616e8": {
      "model_module": "@jupyter-widgets/controls",
      "model_module_version": "1.5.0",
      "model_name": "DescriptionStyleModel",
      "state": {
       "description_width": ""
      }
     },
     "0388dfa492f54da3b63a406767ee65d3": {
      "model_module": "@jupyter-widgets/base",
      "model_module_version": "1.2.0",
      "model_name": "LayoutModel",
      "state": {
       "grid_template_areas": "\"header header header\"\n\"left-sidebar center center\"\n\"footer footer footer\"",
       "grid_template_columns": "1fr 2fr 1fr",
       "grid_template_rows": "1fr 3fr 1fr"
      }
     },
     "038b8c81dc994ba4bc4ead9ee89ee845": {
      "model_module": "@jupyter-widgets/controls",
      "model_module_version": "1.5.0",
      "model_name": "HTMLModel",
      "state": {
       "layout": "IPY_MODEL_8446dad5125643378db3f7c44920eb83",
       "style": "IPY_MODEL_51117b85dbbe4911ac0075c5efec32b1",
       "value": "<h1><font color=black>Secret Word:                          _ _ _ _ _</h1>"
      }
     },
     "03b8dc77c6bc441880bdc268f2eff4d1": {
      "model_module": "@jupyter-widgets/controls",
      "model_module_version": "1.5.0",
      "model_name": "DescriptionStyleModel",
      "state": {
       "description_width": ""
      }
     },
     "03bfc7fa475443d69d08ad51c6264fa1": {
      "model_module": "@jupyter-widgets/base",
      "model_module_version": "1.2.0",
      "model_name": "LayoutModel",
      "state": {
       "height": "25px",
       "width": "33px"
      }
     },
     "03c5ce8850d045e29cfc3fb39f6dfb18": {
      "model_module": "@jupyter-widgets/controls",
      "model_module_version": "1.5.0",
      "model_name": "DescriptionStyleModel",
      "state": {
       "description_width": ""
      }
     },
     "03d3b40a83194a2ea90a865fd47c8718": {
      "model_module": "@jupyter-widgets/base",
      "model_module_version": "1.2.0",
      "model_name": "LayoutModel",
      "state": {
       "height": "25px",
       "width": "33px"
      }
     },
     "03f0015eddc343e0b49bc04ed0e365ee": {
      "model_module": "@jupyter-widgets/base",
      "model_module_version": "1.2.0",
      "model_name": "LayoutModel",
      "state": {
       "height": "25px",
       "width": "33px"
      }
     },
     "03fcc2f51f9a4e5ab53c96e1af91a1a0": {
      "model_module": "@jupyter-widgets/controls",
      "model_module_version": "1.5.0",
      "model_name": "DescriptionStyleModel",
      "state": {
       "description_width": ""
      }
     },
     "042f010ff7a14124ba7620799cafc4b0": {
      "model_module": "@jupyter-widgets/controls",
      "model_module_version": "1.5.0",
      "model_name": "GridBoxModel",
      "state": {
       "children": [
        "IPY_MODEL_18742a06e555477fab7e7bca77990fe9",
        "IPY_MODEL_08a3fa617c574ab2b7184ffe6e8028b1",
        "IPY_MODEL_0e4479f43cef4d018fab99c70813dfee",
        "IPY_MODEL_80c4f25ecbca4914b3e7f88f2299d143"
       ],
       "layout": "IPY_MODEL_2eaedfffb08348c99c9d211bdac728b2"
      }
     },
     "0438b57bffc74717a0d3fe423da3f33c": {
      "model_module": "@jupyter-widgets/base",
      "model_module_version": "1.2.0",
      "model_name": "LayoutModel",
      "state": {
       "margin": "0px 0px 0px 100px"
      }
     },
     "04832090f344435ea41d6a3a93b0cdeb": {
      "model_module": "@jupyter-widgets/controls",
      "model_module_version": "1.5.0",
      "model_name": "ButtonModel",
      "state": {
       "button_style": "warning",
       "description": "V",
       "disabled": true,
       "layout": "IPY_MODEL_2eb82f0890384da6870e3aeb1571db1e",
       "style": "IPY_MODEL_f028a7422d4844baabcd4c8087b6f7fa"
      }
     },
     "048a60ac28c64ec3af847a7ec413f503": {
      "model_module": "@jupyter-widgets/base",
      "model_module_version": "1.2.0",
      "model_name": "LayoutModel",
      "state": {
       "height": "auto"
      }
     },
     "048b760ce3224b6a9d7544c95916e7f0": {
      "model_module": "@jupyter-widgets/controls",
      "model_module_version": "1.5.0",
      "model_name": "DescriptionStyleModel",
      "state": {
       "description_width": ""
      }
     },
     "049c66e6071c4902a896c957090fa1e6": {
      "model_module": "@jupyter-widgets/controls",
      "model_module_version": "1.5.0",
      "model_name": "HTMLModel",
      "state": {
       "layout": "IPY_MODEL_06e6d332bb574108837b88941b26f673",
       "style": "IPY_MODEL_12033123fc6a43a3925c4eedea4a2325",
       "value": "<h2><font color='black'>Remaining Guesses:                          3</h2>"
      }
     },
     "04ad4d0d3e6741b4a550d9a4947bf5f4": {
      "model_module": "@jupyter-widgets/controls",
      "model_module_version": "1.5.0",
      "model_name": "ButtonStyleModel",
      "state": {}
     },
     "04f1c4a1babe4bdcb715646d7e9c0941": {
      "model_module": "@jupyter-widgets/controls",
      "model_module_version": "1.5.0",
      "model_name": "ButtonStyleModel",
      "state": {}
     },
     "04faff2bb70244279c58fe7261ed3a6c": {
      "model_module": "@jupyter-widgets/controls",
      "model_module_version": "1.5.0",
      "model_name": "GridBoxModel",
      "state": {
       "children": [
        "IPY_MODEL_e7fbddde5e5f49059609822d3de8e3aa",
        "IPY_MODEL_727ebd7402a942178ce3554e2a60adcd",
        "IPY_MODEL_00fee4c9978e44fca2ca361d48fc0b1e",
        "IPY_MODEL_71f1c7bf0deb445bb2ec3629653bb3b2"
       ],
       "layout": "IPY_MODEL_db20605123504d85b30516d9803ac135"
      }
     },
     "050818e55dec409da9f6ac5ce47e5076": {
      "model_module": "@jupyter-widgets/controls",
      "model_module_version": "1.5.0",
      "model_name": "DescriptionStyleModel",
      "state": {
       "description_width": ""
      }
     },
     "050b40c41d614f9e94898dc660f39d50": {
      "model_module": "@jupyter-widgets/controls",
      "model_module_version": "1.5.0",
      "model_name": "DescriptionStyleModel",
      "state": {
       "description_width": ""
      }
     },
     "0530719e4ee242148c664b8306a26f15": {
      "model_module": "@jupyter-widgets/base",
      "model_module_version": "1.2.0",
      "model_name": "LayoutModel",
      "state": {
       "height": "auto"
      }
     },
     "05406d279456456083347d7bf8067713": {
      "model_module": "@jupyter-widgets/base",
      "model_module_version": "1.2.0",
      "model_name": "LayoutModel",
      "state": {
       "height": "25px",
       "width": "33px"
      }
     },
     "0544d6a1a7b947739d55ca5adf28caae": {
      "model_module": "@jupyter-widgets/base",
      "model_module_version": "1.2.0",
      "model_name": "LayoutModel",
      "state": {
       "margin": "0px 0px 0px 100px"
      }
     },
     "054d178759a44608b94a9ebe138bc968": {
      "model_module": "@jupyter-widgets/controls",
      "model_module_version": "1.5.0",
      "model_name": "HTMLModel",
      "state": {
       "layout": "IPY_MODEL_0cd2a5a5daf44aac939da2811647130f",
       "style": "IPY_MODEL_c58c73e588f3495c93aa7b4db4847315",
       "value": "<h4>Games: 0</h4>"
      }
     },
     "055300c019f94d9d8c6fa73c289c924a": {
      "model_module": "@jupyter-widgets/base",
      "model_module_version": "1.2.0",
      "model_name": "LayoutModel",
      "state": {}
     },
     "0555822998514d62bcf014bf034969d8": {
      "model_module": "@jupyter-widgets/base",
      "model_module_version": "1.2.0",
      "model_name": "LayoutModel",
      "state": {
       "margin": "0px 0px 0px 70px"
      }
     },
     "05dc31d2cdd94cbfa593e8293cdb65d1": {
      "model_module": "@jupyter-widgets/controls",
      "model_module_version": "1.5.0",
      "model_name": "ButtonStyleModel",
      "state": {}
     },
     "05e9dc6d95464142849be3066acacb22": {
      "model_module": "@jupyter-widgets/controls",
      "model_module_version": "1.5.0",
      "model_name": "ButtonModel",
      "state": {
       "button_style": "warning",
       "description": "P",
       "layout": "IPY_MODEL_7e94f3cb05634f44b50e15730c992627",
       "style": "IPY_MODEL_49b2c06352cd48d09b2db7b4513d493a",
       "tooltip": "Click to guess P."
      }
     },
     "05ebe61cb55140898040645596bab187": {
      "model_module": "@jupyter-widgets/controls",
      "model_module_version": "1.5.0",
      "model_name": "HTMLModel",
      "state": {
       "layout": "IPY_MODEL_9c9be3a2b4c74371aa0578e35e19580d",
       "style": "IPY_MODEL_1b4aa06557274056a990b6c99f0ec6ba",
       "value": "<h3>Click on a letter below to guess the word.</h3>"
      }
     },
     "05f315dca41c46d18fe1c45f713bda20": {
      "model_module": "@jupyter-widgets/controls",
      "model_module_version": "1.5.0",
      "model_name": "HTMLModel",
      "state": {
       "layout": "IPY_MODEL_25910dfb0c6b444ab7a0441bd019c1c9",
       "style": "IPY_MODEL_ce246b54a0d549289945d13d87d7ec26",
       "value": "<h1><font color=black>Secret Word:                          _ _ _ _</h1>"
      }
     },
     "05ff7894a1234a39a554085b1cfdbb8c": {
      "model_module": "@jupyter-widgets/controls",
      "model_module_version": "1.5.0",
      "model_name": "VBoxModel",
      "state": {
       "children": [
        "IPY_MODEL_55b15625310044c58038e06450c60277",
        "IPY_MODEL_73b2edc2c8644c4a9c0afd9630238102"
       ],
       "layout": "IPY_MODEL_e552d536194f48938a936f4d5d56a734"
      }
     },
     "0620e5faa423412d80d0963cdff5617c": {
      "model_module": "@jupyter-widgets/base",
      "model_module_version": "1.2.0",
      "model_name": "LayoutModel",
      "state": {
       "height": "25px",
       "width": "33px"
      }
     },
     "0625284edea64bf2be65495ddce926ac": {
      "model_module": "@jupyter-widgets/controls",
      "model_module_version": "1.5.0",
      "model_name": "DescriptionStyleModel",
      "state": {
       "description_width": ""
      }
     },
     "06678bb0187b40498c21ba3f3a7c450f": {
      "model_module": "@jupyter-widgets/base",
      "model_module_version": "1.2.0",
      "model_name": "LayoutModel",
      "state": {
       "grid_area": "header"
      }
     },
     "0679c1a5208b4413a3779c7bf2edd6f1": {
      "model_module": "@jupyter-widgets/base",
      "model_module_version": "1.2.0",
      "model_name": "LayoutModel",
      "state": {
       "margin": "0px 0px 0px 100px"
      }
     },
     "06845ab227c54f16a7e2a35449ed9f9b": {
      "model_module": "@jupyter-widgets/controls",
      "model_module_version": "1.5.0",
      "model_name": "DescriptionStyleModel",
      "state": {
       "description_width": ""
      }
     },
     "06a5d0ba34f34db69b9861ac8edc6059": {
      "model_module": "@jupyter-widgets/controls",
      "model_module_version": "1.5.0",
      "model_name": "HTMLModel",
      "state": {
       "layout": "IPY_MODEL_87c8e7322b8e45e385950df4b9f1ba55",
       "style": "IPY_MODEL_3f36ebed5ed3412ba8ea45562cbd3eca",
       "value": "<h4>Wins: 0</h4>"
      }
     },
     "06af02f9fe3f41df8307ecc7894334ed": {
      "model_module": "@jupyter-widgets/controls",
      "model_module_version": "1.5.0",
      "model_name": "DescriptionStyleModel",
      "state": {
       "description_width": ""
      }
     },
     "06b79546b80a4315be549fed9a2a589f": {
      "model_module": "@jupyter-widgets/controls",
      "model_module_version": "1.5.0",
      "model_name": "GridBoxModel",
      "state": {
       "children": [
        "IPY_MODEL_7f78a34e39524c01bd9aa12fe25c7ffd",
        "IPY_MODEL_d9ebeac6984a4840971c73ef2574559a",
        "IPY_MODEL_6bb002beaef744b0ae234a038b07a25c",
        "IPY_MODEL_75e6ff04073f418eaa3b6feed8fe1ded"
       ],
       "layout": "IPY_MODEL_5ddf95ac3b9d4b9ebed22569049cbee3"
      }
     },
     "06e6d332bb574108837b88941b26f673": {
      "model_module": "@jupyter-widgets/base",
      "model_module_version": "1.2.0",
      "model_name": "LayoutModel",
      "state": {
       "height": "auto"
      }
     },
     "06fea9f2c52a4715969ef13739b120fa": {
      "model_module": "@jupyter-widgets/controls",
      "model_module_version": "1.5.0",
      "model_name": "VBoxModel",
      "state": {
       "children": [
        "IPY_MODEL_26b0dbf1b97e494aa20c00fe41dfd40e"
       ],
       "layout": "IPY_MODEL_16ad63f31f7b4044bca4d06963150574"
      }
     },
     "0730e8d4e61043d2b59e38ee25882262": {
      "model_module": "@jupyter-widgets/base",
      "model_module_version": "1.2.0",
      "model_name": "LayoutModel",
      "state": {
       "height": "auto"
      }
     },
     "0756916e04da4a04abcba2b6b38ea376": {
      "model_module": "@jupyter-widgets/controls",
      "model_module_version": "1.5.0",
      "model_name": "DescriptionStyleModel",
      "state": {
       "description_width": ""
      }
     },
     "075ce8a10cf54879bbbbde3a3a78411e": {
      "model_module": "@jupyter-widgets/controls",
      "model_module_version": "1.5.0",
      "model_name": "HBoxModel",
      "state": {
       "children": [
        "IPY_MODEL_ca38b8fec110499a8af13615d671662a",
        "IPY_MODEL_c4cd26951dc34348b8924ace27a8b81c"
       ],
       "layout": "IPY_MODEL_645b42aca0b64ea29c3b7d7a23046af5"
      }
     },
     "0769019c367a49f3945728839c8edb3b": {
      "model_module": "@jupyter-widgets/controls",
      "model_module_version": "1.5.0",
      "model_name": "ButtonModel",
      "state": {
       "button_style": "warning",
       "description": "J",
       "disabled": true,
       "layout": "IPY_MODEL_e88dc6d2659a4aaa82d7f19989172659",
       "style": "IPY_MODEL_f56637b8717a417e90e5c8b1f52d8b64"
      }
     },
     "077515fc81944112bb781696e33554a9": {
      "model_module": "@jupyter-widgets/base",
      "model_module_version": "1.2.0",
      "model_name": "LayoutModel",
      "state": {}
     },
     "078af8aeaf4d4b86bb320ebdb7c911de": {
      "model_module": "@jupyter-widgets/base",
      "model_module_version": "1.2.0",
      "model_name": "LayoutModel",
      "state": {
       "grid_area": "left-sidebar"
      }
     },
     "079d32f9e22742feb55344f0147490cc": {
      "model_module": "@jupyter-widgets/base",
      "model_module_version": "1.2.0",
      "model_name": "LayoutModel",
      "state": {
       "grid_area": "center"
      }
     },
     "07b3d8fa1ae5429a9ae70e337970ea71": {
      "model_module": "@jupyter-widgets/controls",
      "model_module_version": "1.5.0",
      "model_name": "DescriptionStyleModel",
      "state": {
       "description_width": ""
      }
     },
     "07d29888272f49d4a7860b7d19f792fe": {
      "model_module": "@jupyter-widgets/controls",
      "model_module_version": "1.5.0",
      "model_name": "DescriptionStyleModel",
      "state": {
       "description_width": ""
      }
     },
     "07f2662eeae34fd3951f06b89a076ab8": {
      "model_module": "@jupyter-widgets/controls",
      "model_module_version": "1.5.0",
      "model_name": "ButtonStyleModel",
      "state": {}
     },
     "07f891be34d740b38584a83f61efc89c": {
      "buffers": [
       {
        "data": "iVBORw0KGgoAAAANSUhEUgAAATQAAAE0CAIAAAAt41jIAAAD0UlEQVR4nO3dMW7DMBAAQTLw/7/MFCnsymkocG3NdGqEg4DFsaLGAAAAgGvM14e11qk5gDHGnM8kfw7OAbwhTogSJ0SJE6LECVHihChxQpQ4IUqcECVOiBInRIkTosQJUeKEKHFClDghSpwQJU6IEidEiROixAlR4oQocUKUOCFKnBAlTogSJ0SJE6LECVHihChxQpQ4IUqcECVOiHqcHuB7vP4wnL3WWqdHOMDm3EOZl7rn5xUnRDnWbnbPA9h17rkz/9icECVOiBInRIkTosQJUeKEKHFClDghSpwQJU6IEidEiROixAlR4oQocUKUOCFKnBAlTohyTckebidhO5sTosQJUeKEKHFClDghSpwQJU6IEidEiROixAlR4oQocUKUOCFKnBAlTogSJ0SJE6LECVHihChxQpQ4IUqcECVOiBInRIkTosQJUeKEKHFClDghSpwQJU6IEidEiROixAlR4oQocUKUOCFKnBAlTogSJ0SJE6LECVHihChxQpQ4IUqcECVOiBInRIkTosQJUeKEKHFClDghSpwQJU6IEidEiROixAlR4oQocUKUOCFKnBAlTogSJ0SJE6LECVHihChxQpQ4IUqcECVOiBInRIkTosQJUeKEKHFClDghSpwQJU6IEidEiROixAlR4oQocUKUOCFKnBAlTogSJ0SJE6LECVHihChxQpQ4IUqcECVOiBInRIkTosQJUeKEKHFClDghSpwQJU6IEidEiROixAlR4oQocUKUOCFKnBAlTogSJ0SJE6LECVHihChxQpQ4IUqcECVOiBInRIkTosQJUeKEKHFClDghSpwQJU6IEidEiROixAlR4oQocUKUOCFKnBAlTogSJ0SJE6LECVHihChxQpQ4IUqcECVOiBInRIkTosQJUeKEKHFClDghSpwQJU6IEidEiROixAlR4oQocUKUOCFKnBAlTogSJ0SJE6LECVHihChxQpQ4IUqcECVOiBInRIkTosQJUeKEKHFClDghSpwQJU6IEidEiROixAlR4oQocUKUOCFKnBAlTogSJ0SJE6LECVHihChxQpQ4IUqcECVOiBInRIkTosQJUeKEKHFClDghSpwQJU6IEidEiROixAlR4oQocUKUOCFKnBAlTogSJ0SJE6LECVHihChxQpQ4IUqcECVOiBInRIkToh6nB+B/c87TI5zX/whrrb0vtDkhSpwQ5Vj7Abafl/gINidEiROixAlR4oQocUKUOCFKnBAlTogSJ0SJE6LECVHihChxQpQ4IUqcECVOiBInRIkTosQJUeKEKHECAAAA3Mwv+9AUZSTGP0IAAAAASUVORK5CYII=",
        "encoding": "base64",
        "path": [
         "value"
        ]
       }
      ],
      "model_module": "@jupyter-widgets/controls",
      "model_module_version": "1.5.0",
      "model_name": "ImageModel",
      "state": {
       "layout": "IPY_MODEL_49b5fa6b01dd4faaadddb03045122d4c"
      }
     },
     "0816747a51ff4814bed76ee0c47f6955": {
      "model_module": "@jupyter-widgets/base",
      "model_module_version": "1.2.0",
      "model_name": "LayoutModel",
      "state": {
       "height": "25px",
       "width": "33px"
      }
     },
     "083c6b67397440509a1d636294854935": {
      "model_module": "@jupyter-widgets/controls",
      "model_module_version": "1.5.0",
      "model_name": "ButtonModel",
      "state": {
       "button_style": "warning",
       "description": "R",
       "disabled": true,
       "layout": "IPY_MODEL_7b4f84a5a340450da0baeda35ee2ff4c",
       "style": "IPY_MODEL_91edf5dee30c4d52bd02bef8482449ad"
      }
     },
     "084a976e3f914a16b2206693b63bf697": {
      "model_module": "@jupyter-widgets/controls",
      "model_module_version": "1.5.0",
      "model_name": "HTMLModel",
      "state": {
       "layout": "IPY_MODEL_c33f73dd67434df9959a63da8a715194",
       "style": "IPY_MODEL_a96c3c7dc38044a0b9c6e3f25642c8af",
       "value": "<h3>Player Result</h3>"
      }
     },
     "0865976918754074abb72816047b26a2": {
      "model_module": "@jupyter-widgets/controls",
      "model_module_version": "1.5.0",
      "model_name": "ButtonStyleModel",
      "state": {}
     },
     "087b627ce5fd4b00aabede3dde513916": {
      "model_module": "@jupyter-widgets/controls",
      "model_module_version": "1.5.0",
      "model_name": "VBoxModel",
      "state": {
       "children": [
        "IPY_MODEL_6b6c6f662d584803aac96eb17d66edcd"
       ],
       "layout": "IPY_MODEL_b2e6ca864a0e4bb58957eed875455549"
      }
     },
     "08a3fa617c574ab2b7184ffe6e8028b1": {
      "model_module": "@jupyter-widgets/controls",
      "model_module_version": "1.5.0",
      "model_name": "VBoxModel",
      "state": {
       "children": [
        "IPY_MODEL_74777896642748778ebf2360ce8f7ae9",
        "IPY_MODEL_93cbdd04e6644fa7b2d80a0e52afe44a"
       ],
       "layout": "IPY_MODEL_ca3545898d30448097dad24fe95a588f"
      }
     },
     "08b4b48f321744a1bb4d381aa54c4518": {
      "model_module": "@jupyter-widgets/base",
      "model_module_version": "1.2.0",
      "model_name": "LayoutModel",
      "state": {
       "margin": "0px 0px 0px 100px"
      }
     },
     "08b91e94d5fe4db28dc53562a42a1e0d": {
      "model_module": "@jupyter-widgets/base",
      "model_module_version": "1.2.0",
      "model_name": "LayoutModel",
      "state": {
       "margin": "0px 0px 0px 100px"
      }
     },
     "08c44714eefc41b08ff27b6f04db96c2": {
      "model_module": "@jupyter-widgets/base",
      "model_module_version": "1.2.0",
      "model_name": "LayoutModel",
      "state": {
       "height": "25px",
       "width": "33px"
      }
     },
     "08c8ef8035324448a262bda58219d10b": {
      "model_module": "@jupyter-widgets/base",
      "model_module_version": "1.2.0",
      "model_name": "LayoutModel",
      "state": {
       "height": "25px",
       "width": "33px"
      }
     },
     "08cf81d26fd34c078f2fb947cea8ccdd": {
      "model_module": "@jupyter-widgets/base",
      "model_module_version": "1.2.0",
      "model_name": "LayoutModel",
      "state": {
       "margin": "0px 0px 0px 100px"
      }
     },
     "08db30f88f974a8791aafe298d63eaab": {
      "model_module": "@jupyter-widgets/controls",
      "model_module_version": "1.5.0",
      "model_name": "HBoxModel",
      "state": {
       "children": [
        "IPY_MODEL_4c5ede8a6c9d47fdb2ec05f416eaf030",
        "IPY_MODEL_2a41091b28824c55b456fb29fe938f90"
       ],
       "layout": "IPY_MODEL_38f21318d98948099716743f3748c5cf"
      }
     },
     "0902c96ed67741a0a831568e0e50edb0": {
      "model_module": "@jupyter-widgets/base",
      "model_module_version": "1.2.0",
      "model_name": "LayoutModel",
      "state": {
       "height": "25px",
       "width": "33px"
      }
     },
     "0908fb3f69df469d9532bd694fccb510": {
      "model_module": "@jupyter-widgets/base",
      "model_module_version": "1.2.0",
      "model_name": "LayoutModel",
      "state": {
       "height": "auto"
      }
     },
     "0918c493a9f44933b3004f30100ddb91": {
      "model_module": "@jupyter-widgets/controls",
      "model_module_version": "1.5.0",
      "model_name": "ButtonModel",
      "state": {
       "button_style": "warning",
       "description": "Q",
       "layout": "IPY_MODEL_d3e57cdd718949648adae10a55ce19ba",
       "style": "IPY_MODEL_92d853658e99406c98c691a7c7d66668",
       "tooltip": "Click to guess Q."
      }
     },
     "091b5e483acd487fb44f588e626691e1": {
      "model_module": "@jupyter-widgets/base",
      "model_module_version": "1.2.0",
      "model_name": "LayoutModel",
      "state": {
       "grid_area": "left-sidebar"
      }
     },
     "09371921e1a34555b3cba800c2c5431a": {
      "model_module": "@jupyter-widgets/base",
      "model_module_version": "1.2.0",
      "model_name": "LayoutModel",
      "state": {
       "grid_area": "center"
      }
     },
     "094807195ac94a59917b6c02352506cf": {
      "model_module": "@jupyter-widgets/controls",
      "model_module_version": "1.5.0",
      "model_name": "ButtonModel",
      "state": {
       "button_style": "warning",
       "description": "Q",
       "disabled": true,
       "layout": "IPY_MODEL_8338b3335dca44d7a54cc914642ea3ac",
       "style": "IPY_MODEL_4cce0cce55af471cb0cfc0a992ceba8e"
      }
     },
     "09551bebd02b4bc288faf868cbd8cb36": {
      "model_module": "@jupyter-widgets/base",
      "model_module_version": "1.2.0",
      "model_name": "LayoutModel",
      "state": {
       "margin": "0px 0px 0px 70px"
      }
     },
     "097c383541c045c38a742c6e1af88353": {
      "model_module": "@jupyter-widgets/controls",
      "model_module_version": "1.5.0",
      "model_name": "ButtonModel",
      "state": {
       "button_style": "warning",
       "description": "B",
       "layout": "IPY_MODEL_6db13615cab34cf9972f06d9996ed800",
       "style": "IPY_MODEL_c834b2d42f1e4adca5eba299cc3601ff",
       "tooltip": "Click to guess B."
      }
     },
     "0981eae9b16141729d2c1c2722df9bc4": {
      "model_module": "@jupyter-widgets/controls",
      "model_module_version": "1.5.0",
      "model_name": "GridBoxModel",
      "state": {
       "children": [
        "IPY_MODEL_a207ec9c3ebe457fa5a2253103ea5380",
        "IPY_MODEL_266186772e8d41d78e624d3d0bfa33b2",
        "IPY_MODEL_d422cf5d2562454bb8ae338bb7757f90",
        "IPY_MODEL_fdf9adef99e84b4e8319bb9c4e2ac790"
       ],
       "layout": "IPY_MODEL_6c91a29b7c7342ec9032b56d61236472"
      }
     },
     "0989e90b9a814a1fbc49d37215185782": {
      "model_module": "@jupyter-widgets/controls",
      "model_module_version": "1.5.0",
      "model_name": "ButtonModel",
      "state": {
       "button_style": "warning",
       "description": "T",
       "layout": "IPY_MODEL_e1698486ffa241f1acd6618081864afe",
       "style": "IPY_MODEL_9672f36720f949f3aac16d5de31a9723",
       "tooltip": "Click to guess T."
      }
     },
     "09958d7b529b4b889ce822557a25da2c": {
      "model_module": "@jupyter-widgets/controls",
      "model_module_version": "1.5.0",
      "model_name": "HTMLModel",
      "state": {
       "layout": "IPY_MODEL_8abf5e2da2e04de1b172c07895bc2444",
       "style": "IPY_MODEL_a7c1d37a544b47ee8778d056eff417a3",
       "value": "<h1><font color='blue'> You Lose </h1>"
      }
     },
     "099e3ac9f99940e2b744fce435a07e00": {
      "model_module": "@jupyter-widgets/controls",
      "model_module_version": "1.5.0",
      "model_name": "HTMLModel",
      "state": {
       "layout": "IPY_MODEL_6d8f9948aa2c426a9480ffc25653858e",
       "style": "IPY_MODEL_7851cd03857a4363a5e7c65b77eaf4e8",
       "value": "<h4>Wins: 0</h4>"
      }
     },
     "09af240158ae40119aa2d8240dd01c49": {
      "model_module": "@jupyter-widgets/controls",
      "model_module_version": "1.5.0",
      "model_name": "VBoxModel",
      "state": {
       "children": [
        "IPY_MODEL_26b0dbf1b97e494aa20c00fe41dfd40e"
       ],
       "layout": "IPY_MODEL_2544968f9940449e967ecad6ea8e39be"
      }
     },
     "09b2936981fe43dfbb348be02a6562e2": {
      "model_module": "@jupyter-widgets/base",
      "model_module_version": "1.2.0",
      "model_name": "LayoutModel",
      "state": {}
     },
     "09ced4d11f744bb09f4b73cfcf4800b1": {
      "buffers": [
       {
        "data": "iVBORw0KGgoAAAANSUhEUgAAATQAAAE0CAIAAAAt41jIAAAD0UlEQVR4nO3dMW7DMBAAQTLw/7/MFCnsymkocG3NdGqEg4DFsaLGAAAAgGvM14e11qk5gDHGnM8kfw7OAbwhTogSJ0SJE6LECVHihChxQpQ4IUqcECVOiBInRIkTosQJUeKEKHFClDghSpwQJU6IEidEiROixAlR4oQocUKUOCFKnBAlTogSJ0SJE6LECVHihChxQpQ4IUqcECVOiHqcHuB7vP4wnL3WWqdHOMDm3EOZl7rn5xUnRDnWbnbPA9h17rkz/9icECVOiBInRIkTosQJUeKEKHFClDghSpwQJU6IEidEiROixAlR4oQocUKUOCFKnBAlTohyTckebidhO5sTosQJUeKEKHFClDghSpwQJU6IEidEiROixAlR4oQocUKUOCFKnBAlTogSJ0SJE6LECVHihChxQpQ4IUqcECVOiBInRIkTosQJUeKEKHFClDghSpwQJU6IEidEiROixAlR4oQocUKUOCFKnBAlTogSJ0SJE6LECVHihChxQpQ4IUqcECVOiBInRIkTosQJUeKEKHFClDghSpwQJU6IEidEiROixAlR4oQocUKUOCFKnBAlTogSJ0SJE6LECVHihChxQpQ4IUqcECVOiBInRIkTosQJUeKEKHFClDghSpwQJU6IEidEiROixAlR4oQocUKUOCFKnBAlTogSJ0SJE6LECVHihChxQpQ4IUqcECVOiBInRIkTosQJUeKEKHFClDghSpwQJU6IEidEiROixAlR4oQocUKUOCFKnBAlTogSJ0SJE6LECVHihChxQpQ4IUqcECVOiBInRIkTosQJUeKEKHFClDghSpwQJU6IEidEiROixAlR4oQocUKUOCFKnBAlTogSJ0SJE6LECVHihChxQpQ4IUqcECVOiBInRIkTosQJUeKEKHFClDghSpwQJU6IEidEiROixAlR4oQocUKUOCFKnBAlTogSJ0SJE6LECVHihChxQpQ4IUqcECVOiBInRIkTosQJUeKEKHFClDghSpwQJU6IEidEiROixAlR4oQocUKUOCFKnBAlTogSJ0SJE6LECVHihChxQpQ4IUqcECVOiBInRIkTosQJUeKEKHFClDghSpwQJU6IEidEiROixAlR4oQocUKUOCFKnBAlTogSJ0SJE6LECVHihChxQpQ4IUqcECVOiBInRIkToh6nB+B/c87TI5zX/whrrb0vtDkhSpwQ5Vj7Abafl/gINidEiROixAlR4oQocUKUOCFKnBAlTogSJ0SJE6LECVHihChxQpQ4IUqcECVOiBInRIkTosQJUeKEKHECAAAA3Mwv+9AUZSTGP0IAAAAASUVORK5CYII=",
        "encoding": "base64",
        "path": [
         "value"
        ]
       }
      ],
      "model_module": "@jupyter-widgets/controls",
      "model_module_version": "1.5.0",
      "model_name": "ImageModel",
      "state": {
       "layout": "IPY_MODEL_798928611a764f74b45552259b3ed3a0"
      }
     },
     "09f0f04374f54e4ea218c6f7d459edbe": {
      "model_module": "@jupyter-widgets/base",
      "model_module_version": "1.2.0",
      "model_name": "LayoutModel",
      "state": {
       "height": "25px",
       "width": "33px"
      }
     },
     "0a18bf8ee17e4db7a8218bfec45a4335": {
      "model_module": "@jupyter-widgets/base",
      "model_module_version": "1.2.0",
      "model_name": "LayoutModel",
      "state": {
       "margin": "0px 0px 0px 100px"
      }
     },
     "0a40dd532f944cbbab91c648f305b07a": {
      "model_module": "@jupyter-widgets/controls",
      "model_module_version": "1.5.0",
      "model_name": "ButtonStyleModel",
      "state": {}
     },
     "0a6c2776b75d464fb8205cb32a39ab9e": {
      "model_module": "@jupyter-widgets/controls",
      "model_module_version": "1.5.0",
      "model_name": "DescriptionStyleModel",
      "state": {
       "description_width": ""
      }
     },
     "0a9a456dddba44d3a9e28027eb1d8d94": {
      "model_module": "@jupyter-widgets/controls",
      "model_module_version": "1.5.0",
      "model_name": "ButtonStyleModel",
      "state": {}
     },
     "0aa7f9d35e7b4ae893b7a36bf0704c3e": {
      "model_module": "@jupyter-widgets/base",
      "model_module_version": "1.2.0",
      "model_name": "LayoutModel",
      "state": {
       "grid_template_areas": "\"header header header\"\n\"left-sidebar center center\"\n\"footer footer footer\"",
       "grid_template_columns": "1fr 2fr 1fr",
       "grid_template_rows": "1fr 3fr 1fr"
      }
     },
     "0aad3172aa704826bfc2f8541cdf9f3a": {
      "model_module": "@jupyter-widgets/base",
      "model_module_version": "1.2.0",
      "model_name": "LayoutModel",
      "state": {
       "width": "500px"
      }
     },
     "0ae3a6197c0c405b8574a366d8965c9f": {
      "model_module": "@jupyter-widgets/base",
      "model_module_version": "1.2.0",
      "model_name": "LayoutModel",
      "state": {
       "margin": "0px 0px 0px 100px"
      }
     },
     "0aef912b279c44dc84e968b92a889f1e": {
      "model_module": "@jupyter-widgets/base",
      "model_module_version": "1.2.0",
      "model_name": "LayoutModel",
      "state": {
       "height": "25px",
       "width": "33px"
      }
     },
     "0b0cffc1b6fa428ea694db0e766c549b": {
      "model_module": "@jupyter-widgets/controls",
      "model_module_version": "1.5.0",
      "model_name": "HTMLModel",
      "state": {
       "layout": "IPY_MODEL_5c60255c5d404b0d997103db8a27fdd4",
       "style": "IPY_MODEL_ba8c1fb319254050bdf2cce3e6c00af7",
       "value": "<h1><font color=red>Secret Word:                          indigo</h1>"
      }
     },
     "0b112f6dd3df41b0828692755327893e": {
      "model_module": "@jupyter-widgets/controls",
      "model_module_version": "1.5.0",
      "model_name": "ButtonModel",
      "state": {
       "button_style": "warning",
       "description": "L",
       "disabled": true,
       "layout": "IPY_MODEL_4378f793347440d7bac865d75e62dc80",
       "style": "IPY_MODEL_d68bd267721a40cca8044194ecc65c76"
      }
     },
     "0b4ec0da1a36474ea160e502d04718e6": {
      "model_module": "@jupyter-widgets/controls",
      "model_module_version": "1.5.0",
      "model_name": "ButtonModel",
      "state": {
       "button_style": "warning",
       "description": "K",
       "layout": "IPY_MODEL_a2856934e69e42299e0b7fbca58f9444",
       "style": "IPY_MODEL_5ffdac7399dd4e76ab65cd25009057e2",
       "tooltip": "Click to guess K."
      }
     },
     "0b5428f53725453aada590eca78d3f9d": {
      "model_module": "@jupyter-widgets/base",
      "model_module_version": "1.2.0",
      "model_name": "LayoutModel",
      "state": {
       "height": "25px",
       "width": "33px"
      }
     },
     "0b78ee1c9a6548c9b21271f4f57b7f47": {
      "model_module": "@jupyter-widgets/controls",
      "model_module_version": "1.5.0",
      "model_name": "HTMLModel",
      "state": {
       "layout": "IPY_MODEL_96149aac75ec40a694afbf2b1e9d65f5",
       "style": "IPY_MODEL_63adb3744be34ff084df0346cfee96f7",
       "value": "<h1><font color=green>Secret Word:                          mini</h1>"
      }
     },
     "0bdb844b8bb346fb89ac6144776e8414": {
      "model_module": "@jupyter-widgets/controls",
      "model_module_version": "1.5.0",
      "model_name": "VBoxModel",
      "state": {
       "children": [
        "IPY_MODEL_038b8c81dc994ba4bc4ead9ee89ee845",
        "IPY_MODEL_847c217e93704c16a548093430963248"
       ],
       "layout": "IPY_MODEL_ff7a40647ca44d4fae51278cafab7544"
      }
     },
     "0bdca61173af417b81f85026cb7fc6f5": {
      "model_module": "@jupyter-widgets/controls",
      "model_module_version": "1.5.0",
      "model_name": "HTMLModel",
      "state": {
       "layout": "IPY_MODEL_12222d70bbbc44acad720361d483e064",
       "style": "IPY_MODEL_ec1124d00b924734adbb5a422efc8f42",
       "value": "<h4>Wins: 2</h4>"
      }
     },
     "0c2d02a2e3e146a2914fb4162ab44a2e": {
      "model_module": "@jupyter-widgets/controls",
      "model_module_version": "1.5.0",
      "model_name": "ButtonStyleModel",
      "state": {}
     },
     "0c53066fd7444fe5a520ab12c0739459": {
      "model_module": "@jupyter-widgets/controls",
      "model_module_version": "1.5.0",
      "model_name": "VBoxModel",
      "state": {
       "children": [
        "IPY_MODEL_488cfb01f82e459b9ea81362d117cf34",
        "IPY_MODEL_ad6dcd21146d4c8f94f516351fc90d87",
        "IPY_MODEL_72a102628f964e3f86173bf3f30ec1ef"
       ],
       "layout": "IPY_MODEL_ef224829aa5746e1972d38cd3cde311d"
      }
     },
     "0c7636833f0b40ceb87994ca711a07b3": {
      "model_module": "@jupyter-widgets/controls",
      "model_module_version": "1.5.0",
      "model_name": "ButtonModel",
      "state": {
       "button_style": "warning",
       "description": "U",
       "disabled": true,
       "layout": "IPY_MODEL_dae96fb672ec43a997cf8163529bd1ea",
       "style": "IPY_MODEL_b9b70d591a15403e895916f03503b780"
      }
     },
     "0c872fea4a9d4ebcad179ca08012f8f5": {
      "model_module": "@jupyter-widgets/controls",
      "model_module_version": "1.5.0",
      "model_name": "DescriptionStyleModel",
      "state": {
       "description_width": ""
      }
     },
     "0cbf1d931ff546b4bc21403fa103d0cc": {
      "model_module": "@jupyter-widgets/controls",
      "model_module_version": "1.5.0",
      "model_name": "DescriptionStyleModel",
      "state": {
       "description_width": ""
      }
     },
     "0cd2a5a5daf44aac939da2811647130f": {
      "model_module": "@jupyter-widgets/base",
      "model_module_version": "1.2.0",
      "model_name": "LayoutModel",
      "state": {
       "margin": "0px 0px 0px 100px"
      }
     },
     "0cd2f5f45e5346bfb6d804e229648e26": {
      "model_module": "@jupyter-widgets/base",
      "model_module_version": "1.2.0",
      "model_name": "LayoutModel",
      "state": {
       "grid_template_areas": "\"header header header\"\n\"left-sidebar center center\"\n\"footer footer footer\"",
       "grid_template_columns": "1fr 2fr 1fr",
       "grid_template_rows": "1fr 3fr 1fr"
      }
     },
     "0cd4047e10fd43da81e9f662b25a8b5b": {
      "model_module": "@jupyter-widgets/base",
      "model_module_version": "1.2.0",
      "model_name": "LayoutModel",
      "state": {}
     },
     "0cfc2b7f2d8042179cae5288bae11fc5": {
      "model_module": "@jupyter-widgets/base",
      "model_module_version": "1.2.0",
      "model_name": "LayoutModel",
      "state": {
       "height": "25px",
       "width": "33px"
      }
     },
     "0d29a9ce394f4e0980dbe58ca5407bab": {
      "model_module": "@jupyter-widgets/controls",
      "model_module_version": "1.5.0",
      "model_name": "HBoxModel",
      "state": {
       "children": [
        "IPY_MODEL_502230a423c2483badd8f32ee0ebf063",
        "IPY_MODEL_4d4b9f2f52844a8a91d438b716725140",
        "IPY_MODEL_c35982d1da0144ac8d2e986a4c7178f6",
        "IPY_MODEL_25d4b426c470408bb31dd5743e7df99f",
        "IPY_MODEL_200d0ab159cd4c448d78fe1125f8ab60",
        "IPY_MODEL_41151ba370744c93ae1a990e7bafb40e",
        "IPY_MODEL_d0b408bb41e94a95b8506b47ed4473cf",
        "IPY_MODEL_5444744bb22d492d85fbbaef4aee0636",
        "IPY_MODEL_f9d83e19dfab4e1c9cc28666fc811c9b",
        "IPY_MODEL_bf1b63034ace49e78615719a894dc3f3",
        "IPY_MODEL_870e8ba16cc84306bcf9c88b16422ee2",
        "IPY_MODEL_0b112f6dd3df41b0828692755327893e",
        "IPY_MODEL_519d06690751473c9e2a54bec558ce48",
        "IPY_MODEL_b13c39e567b4495b8586f5d393763b14",
        "IPY_MODEL_b43c74add726415a9f1cb0c18332f3d9",
        "IPY_MODEL_ad12bc9a3dc041209897bcf41be2aa61",
        "IPY_MODEL_f59fdb15f37e4e448ffb9b84d85823b9",
        "IPY_MODEL_4fa5e463361d46d5a4caf35d9e45b051",
        "IPY_MODEL_c220c3c7e8cc4eb2857b579b8d392e9f",
        "IPY_MODEL_55ee5b4301024565bf760cb222710db1",
        "IPY_MODEL_2f38e94bd1cb4683b2089ac044a45474",
        "IPY_MODEL_799945955a3f45ebbfa6d799bc271691",
        "IPY_MODEL_fa1050cc58374dc8bb20ac25fc521932",
        "IPY_MODEL_cc6b00fe2c5643b8a18884401ef12146",
        "IPY_MODEL_88b2dccb1bda427eb1932518fc3e0df0",
        "IPY_MODEL_61e19cbb19f34645bba131116b847228"
       ],
       "layout": "IPY_MODEL_9ca50de89a1141c9b40ef23d8ad028a1"
      }
     },
     "0d4cbd4c7d444702a3f35c283b61411d": {
      "model_module": "@jupyter-widgets/controls",
      "model_module_version": "1.5.0",
      "model_name": "ButtonModel",
      "state": {
       "button_style": "warning",
       "description": "K",
       "layout": "IPY_MODEL_f594eb98f3f74261b786a4d902c0ec52",
       "style": "IPY_MODEL_39217dbd7f87469d86258bf7bb943fca",
       "tooltip": "Click to guess K."
      }
     },
     "0d78d53340d74f76b71301bb6a43e7e1": {
      "model_module": "@jupyter-widgets/controls",
      "model_module_version": "1.5.0",
      "model_name": "ButtonStyleModel",
      "state": {}
     },
     "0da89496d09b4340b2cf0c1edaa60857": {
      "model_module": "@jupyter-widgets/controls",
      "model_module_version": "1.5.0",
      "model_name": "DescriptionStyleModel",
      "state": {
       "description_width": ""
      }
     },
     "0daad3752e43401ca5dee6e3962960da": {
      "model_module": "@jupyter-widgets/controls",
      "model_module_version": "1.5.0",
      "model_name": "HTMLModel",
      "state": {
       "layout": "IPY_MODEL_24fdd5e0b7ea48b19464ecbeca8f3afe",
       "style": "IPY_MODEL_704d4ee22c62417ba4a163e51b9d8150",
       "value": "<h3>Click on a letter below to guess the word.</h3>"
      }
     },
     "0db28ad1691c42d691c905a19414f9ff": {
      "model_module": "@jupyter-widgets/base",
      "model_module_version": "1.2.0",
      "model_name": "LayoutModel",
      "state": {
       "height": "25px",
       "width": "33px"
      }
     },
     "0ddc3054a01849f8a338b3c1a692df62": {
      "model_module": "@jupyter-widgets/controls",
      "model_module_version": "1.5.0",
      "model_name": "ButtonModel",
      "state": {
       "button_style": "warning",
       "description": "L",
       "layout": "IPY_MODEL_f1682114dbdb468b8cd31abcc015e46a",
       "style": "IPY_MODEL_acd0b09994894b858ae63aa0de170371",
       "tooltip": "Click to guess L."
      }
     },
     "0e10efab70a0475c8ed9c0f38d8d146b": {
      "model_module": "@jupyter-widgets/controls",
      "model_module_version": "1.5.0",
      "model_name": "ButtonModel",
      "state": {
       "button_style": "warning",
       "description": "Y",
       "disabled": true,
       "layout": "IPY_MODEL_2f902b0a385445338677963c315c4a4e",
       "style": "IPY_MODEL_55bfb47e914e4166ac76ab51bb3f08a2"
      }
     },
     "0e151d3d30fe4d359e43417d3b418256": {
      "model_module": "@jupyter-widgets/controls",
      "model_module_version": "1.5.0",
      "model_name": "DescriptionStyleModel",
      "state": {
       "description_width": ""
      }
     },
     "0e18b995fe68426a967ac4d11c7f7bfe": {
      "model_module": "@jupyter-widgets/controls",
      "model_module_version": "1.5.0",
      "model_name": "ButtonModel",
      "state": {
       "button_style": "warning",
       "description": "H",
       "layout": "IPY_MODEL_2420f80cb05146ecbe0473c5d3643edd",
       "style": "IPY_MODEL_fec875e2155647579b576a6ac428feb8",
       "tooltip": "Click to guess H."
      }
     },
     "0e2d8b05757c4d109ce5a3ff436db9fe": {
      "model_module": "@jupyter-widgets/controls",
      "model_module_version": "1.5.0",
      "model_name": "ButtonModel",
      "state": {
       "button_style": "warning",
       "description": "A",
       "layout": "IPY_MODEL_413f2994101d464cad02918ce5fab7e7",
       "style": "IPY_MODEL_61de930269bf48cc92ca9bdab5b3ad51",
       "tooltip": "Click to guess A."
      }
     },
     "0e4479f43cef4d018fab99c70813dfee": {
      "model_module": "@jupyter-widgets/controls",
      "model_module_version": "1.5.0",
      "model_name": "VBoxModel",
      "state": {
       "children": [
        "IPY_MODEL_48f7f92efab04e54a650e3f05cba3124"
       ],
       "layout": "IPY_MODEL_812255e2aab1499fa37d2b6cde2c8d53"
      }
     },
     "0e47463f4d4949298f370715ae1460a1": {
      "model_module": "@jupyter-widgets/controls",
      "model_module_version": "1.5.0",
      "model_name": "ButtonModel",
      "state": {
       "button_style": "warning",
       "description": "C",
       "layout": "IPY_MODEL_ff3e9fd422eb4c37a2888c499b276c61",
       "style": "IPY_MODEL_98fb55367e6b4ca48e7d3bf7723a80c5",
       "tooltip": "Click to guess C."
      }
     },
     "0e5614c585584c6b91af7fcbfca3f9bb": {
      "model_module": "@jupyter-widgets/base",
      "model_module_version": "1.2.0",
      "model_name": "LayoutModel",
      "state": {
       "height": "25px",
       "width": "33px"
      }
     },
     "0e693bf8ff0f4244af6018ec0d3f310f": {
      "model_module": "@jupyter-widgets/controls",
      "model_module_version": "1.5.0",
      "model_name": "ButtonModel",
      "state": {
       "button_style": "warning",
       "description": "S",
       "layout": "IPY_MODEL_fb3efae09bc14c57bd4b8ee012825da9",
       "style": "IPY_MODEL_2a4570ddd533428a93d3578348990048",
       "tooltip": "Click to guess S."
      }
     },
     "0ed801cfb7764c5f8f116ea1943d5fb3": {
      "model_module": "@jupyter-widgets/base",
      "model_module_version": "1.2.0",
      "model_name": "LayoutModel",
      "state": {
       "width": "500px"
      }
     },
     "0eee7cc1dc8943ab89d44b15db44783c": {
      "model_module": "@jupyter-widgets/controls",
      "model_module_version": "1.5.0",
      "model_name": "HBoxModel",
      "state": {
       "children": [
        "IPY_MODEL_5f3c3e919f3145dda2e0a8fff91ad61b",
        "IPY_MODEL_726a7b8e89ef49c4bcd3cbe33f3c6a31"
       ],
       "layout": "IPY_MODEL_90c8e5d200564e04ba38f7a17574484e"
      }
     },
     "0f0022a9b7394d5f9688475c226f21c9": {
      "model_module": "@jupyter-widgets/base",
      "model_module_version": "1.2.0",
      "model_name": "LayoutModel",
      "state": {}
     },
     "0f030a3477cd472190c01a393faa7fab": {
      "model_module": "@jupyter-widgets/controls",
      "model_module_version": "1.5.0",
      "model_name": "VBoxModel",
      "state": {
       "children": [
        "IPY_MODEL_139348c2f4e34a3cb5eafe042a5972ec",
        "IPY_MODEL_93cbdd04e6644fa7b2d80a0e52afe44a"
       ],
       "layout": "IPY_MODEL_f45fef93b1fc440692b9d96c92be3270"
      }
     },
     "0f074a6c59a24230a977d506b5a910f9": {
      "model_module": "@jupyter-widgets/base",
      "model_module_version": "1.2.0",
      "model_name": "LayoutModel",
      "state": {
       "height": "25px",
       "width": "33px"
      }
     },
     "0f0e05c6b7df42899917e6742498a100": {
      "model_module": "@jupyter-widgets/base",
      "model_module_version": "1.2.0",
      "model_name": "LayoutModel",
      "state": {
       "height": "25px",
       "width": "33px"
      }
     },
     "0f213ef5ff8b4074a0d22edbeed9c5e6": {
      "model_module": "@jupyter-widgets/base",
      "model_module_version": "1.2.0",
      "model_name": "LayoutModel",
      "state": {}
     },
     "0f28e253f81e4461bc20c62e671720dc": {
      "model_module": "@jupyter-widgets/base",
      "model_module_version": "1.2.0",
      "model_name": "LayoutModel",
      "state": {
       "margin": "0px 0px 0px 100px"
      }
     },
     "0f2ab50f535c44eda3da6a44e109085d": {
      "model_module": "@jupyter-widgets/controls",
      "model_module_version": "1.5.0",
      "model_name": "ButtonStyleModel",
      "state": {}
     },
     "0f551ba743c34a37bda8ac0d96956164": {
      "model_module": "@jupyter-widgets/controls",
      "model_module_version": "1.5.0",
      "model_name": "HTMLModel",
      "state": {
       "layout": "IPY_MODEL_2ae9943753b641d88e88b2cefa27210a",
       "style": "IPY_MODEL_146880bc5841466591e1fa5e9a4774a0",
       "value": "<h2><font color='black'>Remaining Guesses:                          6</h2>"
      }
     },
     "0f6363f9bc1b4824940a041f2b371208": {
      "model_module": "@jupyter-widgets/base",
      "model_module_version": "1.2.0",
      "model_name": "LayoutModel",
      "state": {
       "margin": "0px 0px 0px 100px"
      }
     },
     "0f7bc00c19064e3487c7bbc739f8860f": {
      "model_module": "@jupyter-widgets/controls",
      "model_module_version": "1.5.0",
      "model_name": "DescriptionStyleModel",
      "state": {
       "description_width": ""
      }
     },
     "0f845f4fce5242a6a0fa23627ed9be2c": {
      "model_module": "@jupyter-widgets/base",
      "model_module_version": "1.2.0",
      "model_name": "LayoutModel",
      "state": {
       "height": "25px",
       "width": "33px"
      }
     },
     "0fbc5297d50149eda76460f3e8df55f5": {
      "model_module": "@jupyter-widgets/base",
      "model_module_version": "1.2.0",
      "model_name": "LayoutModel",
      "state": {
       "margin": "0px 0px 0px 100px"
      }
     },
     "0fc3796d22984364b3e1caf4ac1872bf": {
      "model_module": "@jupyter-widgets/base",
      "model_module_version": "1.2.0",
      "model_name": "LayoutModel",
      "state": {
       "height": "25px",
       "width": "33px"
      }
     },
     "0fd21fb900094adf8461a5c0a824f5a1": {
      "model_module": "@jupyter-widgets/controls",
      "model_module_version": "1.5.0",
      "model_name": "ButtonStyleModel",
      "state": {}
     },
     "0ff5c3b2f2f3485da551c356e69ab92f": {
      "model_module": "@jupyter-widgets/controls",
      "model_module_version": "1.5.0",
      "model_name": "ButtonStyleModel",
      "state": {}
     },
     "0ffde204697e4b7b99b2fe718f8d4a24": {
      "model_module": "@jupyter-widgets/base",
      "model_module_version": "1.2.0",
      "model_name": "LayoutModel",
      "state": {}
     },
     "1003cd7ce05048b59a8018458754f9eb": {
      "model_module": "@jupyter-widgets/controls",
      "model_module_version": "1.5.0",
      "model_name": "ButtonModel",
      "state": {
       "button_style": "warning",
       "description": "M",
       "layout": "IPY_MODEL_86c2f8ed388c4412829eef09539de3dd",
       "style": "IPY_MODEL_0f2ab50f535c44eda3da6a44e109085d",
       "tooltip": "Click to guess M."
      }
     },
     "104c268b1dc74d1399dc215327bc6014": {
      "buffers": [
       {
        "data": "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",
        "encoding": "base64",
        "path": [
         "value"
        ]
       }
      ],
      "model_module": "@jupyter-widgets/controls",
      "model_module_version": "1.5.0",
      "model_name": "ImageModel",
      "state": {
       "layout": "IPY_MODEL_725410f847f84a69840c13308fbc300a",
       "value": {}
      }
     },
     "10545f02584c4f2cad9ac3c024f4c771": {
      "model_module": "@jupyter-widgets/controls",
      "model_module_version": "1.5.0",
      "model_name": "DescriptionStyleModel",
      "state": {
       "description_width": ""
      }
     },
     "105fa0886c95404e9eec5b0839cf9ab3": {
      "model_module": "@jupyter-widgets/base",
      "model_module_version": "1.2.0",
      "model_name": "LayoutModel",
      "state": {
       "margin": "0px 0px 0px 70px"
      }
     },
     "1061e1de445c40559cc47ff04a7bedb6": {
      "model_module": "@jupyter-widgets/base",
      "model_module_version": "1.2.0",
      "model_name": "LayoutModel",
      "state": {
       "width": "500px"
      }
     },
     "108d4bff7ab14bce8c0097f090b8e711": {
      "model_module": "@jupyter-widgets/base",
      "model_module_version": "1.2.0",
      "model_name": "LayoutModel",
      "state": {
       "height": "25px",
       "width": "33px"
      }
     },
     "109bb64ca468444c80b7db55318bbc30": {
      "model_module": "@jupyter-widgets/base",
      "model_module_version": "1.2.0",
      "model_name": "LayoutModel",
      "state": {
       "height": "auto"
      }
     },
     "10a71970287745198a29e308330568e3": {
      "model_module": "@jupyter-widgets/base",
      "model_module_version": "1.2.0",
      "model_name": "LayoutModel",
      "state": {
       "height": "25px",
       "width": "33px"
      }
     },
     "10a828e663d340a1ab7b6b5f02378d0a": {
      "model_module": "@jupyter-widgets/base",
      "model_module_version": "1.2.0",
      "model_name": "LayoutModel",
      "state": {
       "width": "500px"
      }
     },
     "10d5b9e712334b64a58be78e0b0a5918": {
      "model_module": "@jupyter-widgets/controls",
      "model_module_version": "1.5.0",
      "model_name": "ButtonModel",
      "state": {
       "button_style": "warning",
       "description": "G",
       "layout": "IPY_MODEL_ed06cd076dda4093bb11acab53cdaa7f",
       "style": "IPY_MODEL_4ad5394593054759aca9f49016d8069f",
       "tooltip": "Click to guess G."
      }
     },
     "10dd27c7011641d0bcbb693985ca4174": {
      "model_module": "@jupyter-widgets/controls",
      "model_module_version": "1.5.0",
      "model_name": "ButtonModel",
      "state": {
       "button_style": "warning",
       "description": "Y",
       "disabled": true,
       "layout": "IPY_MODEL_c3eea8b539d14e129a2bad0e8854c1af",
       "style": "IPY_MODEL_6eb8967ff8774b9c9998075bd5bcaad1"
      }
     },
     "10e70e989eb548bb901535dc4dbf7357": {
      "model_module": "@jupyter-widgets/controls",
      "model_module_version": "1.5.0",
      "model_name": "ButtonStyleModel",
      "state": {}
     },
     "11189c70cd4a4999afcc2a363b4cfa3d": {
      "model_module": "@jupyter-widgets/base",
      "model_module_version": "1.2.0",
      "model_name": "LayoutModel",
      "state": {
       "margin": "20px 0px 0px 20px"
      }
     },
     "11210e0fc691402daf1c364e8957c178": {
      "model_module": "@jupyter-widgets/controls",
      "model_module_version": "1.5.0",
      "model_name": "VBoxModel",
      "state": {
       "children": [
        "IPY_MODEL_9eb7ab36f02843ee82fa86dbc58fc49b",
        "IPY_MODEL_6d03daab2bf1470b9b4e010e891a2ade"
       ],
       "layout": "IPY_MODEL_9238185b0ad740afb85b57b8f284bafa"
      }
     },
     "113d3f5e7eb34faf960ba0d8f08ce3df": {
      "model_module": "@jupyter-widgets/controls",
      "model_module_version": "1.5.0",
      "model_name": "ButtonModel",
      "state": {
       "button_style": "warning",
       "description": "B",
       "disabled": true,
       "layout": "IPY_MODEL_be678765cf3041fbb453ea0bce791ed2",
       "style": "IPY_MODEL_21ed15dfa6794a01ad71e24df6e9a4f1"
      }
     },
     "1151c10f191c4d25a5d95131917b4387": {
      "model_module": "@jupyter-widgets/controls",
      "model_module_version": "1.5.0",
      "model_name": "GridBoxModel",
      "state": {
       "children": [
        "IPY_MODEL_39a4dba3e497406daf14cea7da55c962",
        "IPY_MODEL_8f9435030e12473d98c91ef2b4c5403b",
        "IPY_MODEL_ee9e366e4cb741748432aaf7599b78eb",
        "IPY_MODEL_941a44a51f40453c8e15c9eeb8532158"
       ],
       "layout": "IPY_MODEL_873c922c43f64abc88221d5d9c588e79"
      }
     },
     "115f24ec128344af9933722c31e12e1d": {
      "model_module": "@jupyter-widgets/base",
      "model_module_version": "1.2.0",
      "model_name": "LayoutModel",
      "state": {
       "height": "25px",
       "width": "33px"
      }
     },
     "118cb8ebbae74388b29eb8df0a4faf62": {
      "model_module": "@jupyter-widgets/controls",
      "model_module_version": "1.5.0",
      "model_name": "HTMLModel",
      "state": {
       "layout": "IPY_MODEL_d3ed5a1b116945f3833fd045d1a6bc5d",
       "style": "IPY_MODEL_c8ad0c6d9a7147bd9d8269b579ef44ce",
       "value": "<h4>Wins: 0</h4>"
      }
     },
     "11a0671bd5c842d095bac4bc16ecb52f": {
      "model_module": "@jupyter-widgets/base",
      "model_module_version": "1.2.0",
      "model_name": "LayoutModel",
      "state": {
       "height": "25px",
       "width": "33px"
      }
     },
     "11e26239f1bd4ddfa5828deaa6f808d2": {
      "model_module": "@jupyter-widgets/base",
      "model_module_version": "1.2.0",
      "model_name": "LayoutModel",
      "state": {
       "margin": "0px 0px 0px 70px"
      }
     },
     "120318f0f1894727a4f9d8a5e23919b7": {
      "model_module": "@jupyter-widgets/base",
      "model_module_version": "1.2.0",
      "model_name": "LayoutModel",
      "state": {
       "height": "25px",
       "width": "33px"
      }
     },
     "12033123fc6a43a3925c4eedea4a2325": {
      "model_module": "@jupyter-widgets/controls",
      "model_module_version": "1.5.0",
      "model_name": "DescriptionStyleModel",
      "state": {
       "description_width": ""
      }
     },
     "12221e50e1ed4ef28ed73c64e649fbdd": {
      "model_module": "@jupyter-widgets/base",
      "model_module_version": "1.2.0",
      "model_name": "LayoutModel",
      "state": {
       "height": "25px",
       "width": "33px"
      }
     },
     "12222d70bbbc44acad720361d483e064": {
      "model_module": "@jupyter-widgets/base",
      "model_module_version": "1.2.0",
      "model_name": "LayoutModel",
      "state": {
       "margin": "0px 0px 0px 100px"
      }
     },
     "122a3ff2301b41d29c2f7d7cae5c50ee": {
      "model_module": "@jupyter-widgets/controls",
      "model_module_version": "1.5.0",
      "model_name": "ButtonModel",
      "state": {
       "button_style": "warning",
       "description": "M",
       "layout": "IPY_MODEL_6f7ca08ed7bc4c8d9330547f96996485",
       "style": "IPY_MODEL_1678e68bad74481695dea75d1fda2ab6",
       "tooltip": "Click to guess M."
      }
     },
     "12428018ee40426b9919a6e71612a1f4": {
      "model_module": "@jupyter-widgets/controls",
      "model_module_version": "1.5.0",
      "model_name": "DescriptionStyleModel",
      "state": {
       "description_width": ""
      }
     },
     "1260a415f0504ecd97848e19ce62832e": {
      "model_module": "@jupyter-widgets/controls",
      "model_module_version": "1.5.0",
      "model_name": "HTMLModel",
      "state": {
       "layout": "IPY_MODEL_34d733e3e3c84875a75667f3c86b6540",
       "style": "IPY_MODEL_887ed37505244b098208ffd514a10e68",
       "value": "<h4>Games: 0</h4>"
      }
     },
     "12611c3b125444149320181d6f8df94b": {
      "model_module": "@jupyter-widgets/base",
      "model_module_version": "1.2.0",
      "model_name": "LayoutModel",
      "state": {
       "height": "25px",
       "width": "33px"
      }
     },
     "1262a5a1c6934973b2f92d88e0c24a82": {
      "model_module": "@jupyter-widgets/base",
      "model_module_version": "1.2.0",
      "model_name": "LayoutModel",
      "state": {
       "height": "25px",
       "width": "33px"
      }
     },
     "126a6b701b89461cb6b167b6d5683a4a": {
      "model_module": "@jupyter-widgets/controls",
      "model_module_version": "1.5.0",
      "model_name": "ButtonStyleModel",
      "state": {}
     },
     "128774108380416a858ac889dfa669ba": {
      "model_module": "@jupyter-widgets/controls",
      "model_module_version": "1.5.0",
      "model_name": "HTMLModel",
      "state": {
       "layout": "IPY_MODEL_1bb1fde1031d4cc7a0420c2f4ec9281b",
       "style": "IPY_MODEL_7c0f271e12ef49e78370547d41cb188a",
       "value": "<h4>Games: 3</h4>"
      }
     },
     "12a3f85c9445481e81433afe9423e5a7": {
      "model_module": "@jupyter-widgets/controls",
      "model_module_version": "1.5.0",
      "model_name": "ButtonStyleModel",
      "state": {}
     },
     "12b272a6254d40cd90e52ee637abd2a7": {
      "model_module": "@jupyter-widgets/controls",
      "model_module_version": "1.5.0",
      "model_name": "GridBoxModel",
      "state": {
       "children": [
        "IPY_MODEL_951f73ce64cb4fc5a09de280dcda7f55",
        "IPY_MODEL_a58eb198e094486a9ca2289c7bfd7b30",
        "IPY_MODEL_4296ef2ab14546058c0b5e459d2d5630",
        "IPY_MODEL_3c78c7b0889045d68b02c374e0ead92e"
       ],
       "layout": "IPY_MODEL_9cc37ae20b6c49638580bc5e6c01933f"
      }
     },
     "12bc2d9c68dd4e16914206f072c686f9": {
      "model_module": "@jupyter-widgets/base",
      "model_module_version": "1.2.0",
      "model_name": "LayoutModel",
      "state": {
       "grid_area": "footer",
       "margin": "-60px 0px 0px 0px"
      }
     },
     "12c65b20c0f34a9aaab1aa3fd1f7a142": {
      "model_module": "@jupyter-widgets/controls",
      "model_module_version": "1.5.0",
      "model_name": "ButtonModel",
      "state": {
       "button_style": "warning",
       "description": "R",
       "layout": "IPY_MODEL_56337835d80c45f3adb605d636d60ce1",
       "style": "IPY_MODEL_fbc18fbe6558400a95b0b7abca3dc7c4",
       "tooltip": "Click to guess R."
      }
     },
     "12d9490e03024d1d9afb5f3a5fbf857e": {
      "model_module": "@jupyter-widgets/base",
      "model_module_version": "1.2.0",
      "model_name": "LayoutModel",
      "state": {
       "height": "25px",
       "width": "33px"
      }
     },
     "130779ab1f3f40c89b04c65986a2fd19": {
      "model_module": "@jupyter-widgets/controls",
      "model_module_version": "1.5.0",
      "model_name": "ButtonStyleModel",
      "state": {}
     },
     "131039e883e2403ebb5d476ef5754d07": {
      "model_module": "@jupyter-widgets/controls",
      "model_module_version": "1.5.0",
      "model_name": "ButtonModel",
      "state": {
       "button_style": "warning",
       "description": "K",
       "disabled": true,
       "layout": "IPY_MODEL_a49eb4fadcdf4770ad54f46623467ce8",
       "style": "IPY_MODEL_8789ffcb3d094e719de7401d2116903d"
      }
     },
     "1314489c75844ea2b1774d4c2da9b5db": {
      "model_module": "@jupyter-widgets/controls",
      "model_module_version": "1.5.0",
      "model_name": "ButtonModel",
      "state": {
       "button_style": "warning",
       "description": "P",
       "disabled": true,
       "layout": "IPY_MODEL_69f0ce1c0c284a1c8e53497a6227ada8",
       "style": "IPY_MODEL_5f9dd121e5c6470a815ee4ba7c7b524c"
      }
     },
     "131808099d654f2ea1d0b0c9add67ddf": {
      "model_module": "@jupyter-widgets/controls",
      "model_module_version": "1.5.0",
      "model_name": "ButtonModel",
      "state": {
       "button_style": "warning",
       "description": "L",
       "disabled": true,
       "layout": "IPY_MODEL_3d0996babcc7407494dad762ee4c51a3",
       "style": "IPY_MODEL_2d247cd5938e46c89a064843a3032ee1"
      }
     },
     "13350495d2d04826bdbc9ebce9774127": {
      "model_module": "@jupyter-widgets/controls",
      "model_module_version": "1.5.0",
      "model_name": "HTMLModel",
      "state": {
       "layout": "IPY_MODEL_00ba42f5d5c442fca08a9589b3142691",
       "style": "IPY_MODEL_faa1ca9858d445f294af8d182cabbfc1",
       "value": "<h4>Wins: 0</h4>"
      }
     },
     "13387146e9274b1d9a318c12000c4192": {
      "model_module": "@jupyter-widgets/base",
      "model_module_version": "1.2.0",
      "model_name": "LayoutModel",
      "state": {
       "margin": "0px 0px 0px 100px"
      }
     },
     "134c12cc285144c9b3da193b1fe44511": {
      "model_module": "@jupyter-widgets/base",
      "model_module_version": "1.2.0",
      "model_name": "LayoutModel",
      "state": {
       "grid_area": "header"
      }
     },
     "134e24048bdf41018c3afd0b9d9e1591": {
      "model_module": "@jupyter-widgets/controls",
      "model_module_version": "1.5.0",
      "model_name": "DescriptionStyleModel",
      "state": {
       "description_width": ""
      }
     },
     "13505815736b4b07b02631d274971e41": {
      "model_module": "@jupyter-widgets/controls",
      "model_module_version": "1.5.0",
      "model_name": "VBoxModel",
      "state": {
       "children": [
        "IPY_MODEL_588e652059b84ad481c1b8f82a7df0b4",
        "IPY_MODEL_f3ad378aa3aa4e25bda4e904db91739f",
        "IPY_MODEL_13350495d2d04826bdbc9ebce9774127"
       ],
       "layout": "IPY_MODEL_418ccfab212d49328b0f78ab0bb56dac"
      }
     },
     "136014bc10cf4407ad7ab0ed6b7a646e": {
      "model_module": "@jupyter-widgets/controls",
      "model_module_version": "1.5.0",
      "model_name": "VBoxModel",
      "state": {
       "children": [
        "IPY_MODEL_5bcca1fe3f0040fdad2f7b8ca11f804d",
        "IPY_MODEL_a3c47d3106c84a2286272c3be6594b8d",
        "IPY_MODEL_ac0b2ebf81494b48b8f31ce3b1ebf765"
       ],
       "layout": "IPY_MODEL_177d8a5a466d4c45a4439f02b1f5b52e"
      }
     },
     "138715ba3dca4064b91c6b1f0389f064": {
      "model_module": "@jupyter-widgets/base",
      "model_module_version": "1.2.0",
      "model_name": "LayoutModel",
      "state": {
       "grid_template_areas": "\"header header header\"\n\"left-sidebar center center\"\n\"footer footer footer\"",
       "grid_template_columns": "1fr 2fr 1fr",
       "grid_template_rows": "1fr 3fr 1fr"
      }
     },
     "1390a0d98fdb4e21981a812ae0527699": {
      "model_module": "@jupyter-widgets/controls",
      "model_module_version": "1.5.0",
      "model_name": "ButtonModel",
      "state": {
       "button_style": "warning",
       "description": "F",
       "disabled": true,
       "layout": "IPY_MODEL_a07768cff7e748ad900a7e5fac98b5a7",
       "style": "IPY_MODEL_8751ab6d6e3a43c0a7eda5a4ec440e72"
      }
     },
     "139348c2f4e34a3cb5eafe042a5972ec": {
      "model_module": "@jupyter-widgets/controls",
      "model_module_version": "1.5.0",
      "model_name": "HTMLModel",
      "state": {
       "layout": "IPY_MODEL_591d48ef1e40467a835aa927aa2b3278",
       "style": "IPY_MODEL_a908a8626dc44b54ac0194469d1ce364",
       "value": "<h3>Click on a letter below to guess the word.</h3>"
      }
     },
     "13adce2b692a4424b6093e0144ce9db1": {
      "model_module": "@jupyter-widgets/controls",
      "model_module_version": "1.5.0",
      "model_name": "VBoxModel",
      "state": {
       "children": [
        "IPY_MODEL_912851f5f5db40f397473f052068b2cf"
       ],
       "layout": "IPY_MODEL_20818c35a2f247198b950a2770a166ab"
      }
     },
     "13ae4329aa474c7aa61e47ea89bd48c0": {
      "model_module": "@jupyter-widgets/controls",
      "model_module_version": "1.5.0",
      "model_name": "HTMLModel",
      "state": {
       "layout": "IPY_MODEL_e6c352802b9c4e0e8d4180ccce8f8950",
       "style": "IPY_MODEL_aef57e3c2918455b91ba864fbbfaf67a",
       "value": "<h3>Click on a letter below to guess the word.</h3>"
      }
     },
     "13c17dfdc73f42de96b9ba31ce0da2b4": {
      "model_module": "@jupyter-widgets/base",
      "model_module_version": "1.2.0",
      "model_name": "LayoutModel",
      "state": {
       "grid_area": "header"
      }
     },
     "13d53a8a3f9646c0a68bf1d366851f0b": {
      "model_module": "@jupyter-widgets/base",
      "model_module_version": "1.2.0",
      "model_name": "LayoutModel",
      "state": {
       "height": "auto"
      }
     },
     "13d6d68847414fa29f778c86072a21a1": {
      "model_module": "@jupyter-widgets/controls",
      "model_module_version": "1.5.0",
      "model_name": "ButtonStyleModel",
      "state": {}
     },
     "13fb3689dc5c45e0b075c6dd46d2bf34": {
      "model_module": "@jupyter-widgets/controls",
      "model_module_version": "1.5.0",
      "model_name": "HTMLModel",
      "state": {
       "layout": "IPY_MODEL_0060a2ec509e410d9efedbfbc8efea07",
       "style": "IPY_MODEL_7dd7b17e12f04a9ea501578d262d5de8",
       "value": "<h4>Games: 0</h4>"
      }
     },
     "13fbe9ca48fd4037a3091b3d52c377ff": {
      "model_module": "@jupyter-widgets/controls",
      "model_module_version": "1.5.0",
      "model_name": "HTMLModel",
      "state": {
       "layout": "IPY_MODEL_11e26239f1bd4ddfa5828deaa6f808d2",
       "style": "IPY_MODEL_9d62fbd58d364f78bac71f905c72c4dd",
       "value": "<h3>Click on a letter below to guess the word.</h3>"
      }
     },
     "1430270f24744f85bfcedac4cb3b6bfa": {
      "model_module": "@jupyter-widgets/controls",
      "model_module_version": "1.5.0",
      "model_name": "HTMLModel",
      "state": {
       "layout": "IPY_MODEL_920f609765ab48a794179943a922e707",
       "style": "IPY_MODEL_b95cb5927de74c6f83d23e7ff742cf1f",
       "value": "<h1><font color=black>Secret Word:                          _ _ _ _</h1>"
      }
     },
     "1444de3eee3644ee98c4be00cf50ef80": {
      "model_module": "@jupyter-widgets/controls",
      "model_module_version": "1.5.0",
      "model_name": "VBoxModel",
      "state": {
       "children": [
        "IPY_MODEL_2b0ba44d183448ccb0ac7cae99730955",
        "IPY_MODEL_33934ece83244d1bbd31ed8e197c2fb5"
       ],
       "layout": "IPY_MODEL_4a616ee7db5e45b79bdd56495e50f198"
      }
     },
     "146015a18d9f43c0a5cb78e1951bc829": {
      "model_module": "@jupyter-widgets/controls",
      "model_module_version": "1.5.0",
      "model_name": "HTMLModel",
      "state": {
       "layout": "IPY_MODEL_08b4b48f321744a1bb4d381aa54c4518",
       "style": "IPY_MODEL_8374d0fe4769485b98a203aea62e319e",
       "value": "<h4>Games: 3</h4>"
      }
     },
     "1464fcb777224cd6a8f3eb383ad24dd1": {
      "buffers": [
       {
        "data": "iVBORw0KGgoAAAANSUhEUgAAATQAAAE0CAIAAAAt41jIAAAEvUlEQVR4nO3d0W6iUBRAUZ30/3+ZeZjEsYqAArJb13pqDRJisnNQkXs6AQAAwD7O1/8Mw3DUcQCn0+l8/p/knwOPA5ggTogSJ0SJE6LECVHihChxQpQ4IUqcECVOiBInRIkTosQJUeKEKHFClDghSpwQJU6IEidEiROixAlR4oQocUKUOCFKnBAlTogSJ0SJE6LECVHihChxQpQ4IUqcECVOiPo6+gB+j+sFw9nWMAxHH8IBTM5tKHNXn/nyihOinNZu7DNPwPbzmTPzH5MTosQJUeKEKHFClDghSpwQJU6IEidEiROixAlR4oQocUKUOCFKnBAlTogSJ0SJE6LcCWGV+9/pXx5xSwRWEucrltw7Q6WsJM7n3GQ5Ed5ly39/SJRniXOp5VlebyBRXibOec9meb+xRHmBT2tnXJc5DMNrXd088ZNv98hy4pxyU+bKvemTp4jzoW3LvN+PPpkmznnbvkX0hpOFxDlu128pL/s0PJkgzin7TTnzk1niHPHOgWZ48og4H9p7uBmeTBPnrfePMsOTUeIc956xZngyQZwQJc5v3n/t683Ft3AhTogSJ0SJE6LECVHihChxQpQ4IUqcECXOb95/SYBbfvGIOCFKnOPeMzxdtccEcd56/xmmc1pGifOhvceasck0cY54/69S4J44p+w33IxNZolz3K53r7Q6IEuIc962fZqZLCTOh/ZYOmGPJR74rcQ5Zds+lclTxDnjps/XEr15ojJZwuK589YsgLtm4V0+nDiXejZRWbKSOJ8zmuiSp8CzxPmKJd+CapKVxLmKAtmPT2shSpwQJU6IEidEiROixAlR4oQocUKUOCFKnBAlTogSJ0SJE6LECVHihChxQpQ4IUqcECVOiBInRIkTosQJUeKEKHFClDghSpwQJU6IEidEiROixAlR4oQocUKUOCFKnBAlTogSJ0SJE6LECVHihChxQpQ4IUqcECVOiBInRIkTosQJUeKEKHFClDghSpwQJU6IEidEiROixAlR4oQocUKUOCFKnBAlTogSJ0SJE6LECVHihChxQpQ4IUqcECVOiBInRIkTosQJUeKEKHFClDghSpwQJU6IEidEiROixAlR4oQocUKUOCFKnBAlTogSJ0SJE6LECVHihChxQpQ4IUqcECVOiBInRIkTosQJUeKEKHFClDghSpwQJU6IEidEiROixAlR4oQocUKUOCFKnBAlTogSJ0SJE6LECVHihChxQpQ4IUqcECVOiBInRIkTosQJUeKEKHFClDghSpwQJU6IEidEiROixAlR4oQocUKUOCFKnBAlTogSJ0SJE6LECVHihChxQpQ4IUqcECVOiBInRIkTosQJUeKEKHFClDghSpwQJU6IEidEiROixAlR4oQocUKUOCFKnBAlTogSJ0SJE6LECVHihChxQpQ4IUqcECVOiBInRIkTosQJUeKEKHFClDghSpwQJU6IEidEiROixAlR4oQocUKUOCHq6+gDYN75fD76EI7XfxGGYdh2hyYnRIkTopzW/gCbny/xI5icECVOiBInRIkTosQJUeKEKHFClDghSpwQJU6IEidEiROixAlR4oQocUKUOCFKnBAlTogSJ0SJE6LECQAAAPBh/gLkBrZ9QrhuSAAAAABJRU5ErkJggg==",
        "encoding": "base64",
        "path": [
         "value"
        ]
       }
      ],
      "model_module": "@jupyter-widgets/controls",
      "model_module_version": "1.5.0",
      "model_name": "ImageModel",
      "state": {
       "layout": "IPY_MODEL_594f20c62ac4490ca5781d40695a2252"
      }
     },
     "146880bc5841466591e1fa5e9a4774a0": {
      "model_module": "@jupyter-widgets/controls",
      "model_module_version": "1.5.0",
      "model_name": "DescriptionStyleModel",
      "state": {
       "description_width": ""
      }
     },
     "1486659c8bf340209e267f33e0fd2ec7": {
      "model_module": "@jupyter-widgets/controls",
      "model_module_version": "1.5.0",
      "model_name": "ButtonStyleModel",
      "state": {}
     },
     "14b65f7f152d41d8a33767a6789382a3": {
      "model_module": "@jupyter-widgets/base",
      "model_module_version": "1.2.0",
      "model_name": "LayoutModel",
      "state": {
       "height": "auto"
      }
     },
     "14c195af651d495c9f58adce8031e3fd": {
      "model_module": "@jupyter-widgets/controls",
      "model_module_version": "1.5.0",
      "model_name": "VBoxModel",
      "state": {
       "children": [
        "IPY_MODEL_48f7f92efab04e54a650e3f05cba3124"
       ],
       "layout": "IPY_MODEL_d70a9425e8b5419db9d02126eb9a89f9"
      }
     },
     "14d8a2d246914a81902b5993f35e9b13": {
      "model_module": "@jupyter-widgets/base",
      "model_module_version": "1.2.0",
      "model_name": "LayoutModel",
      "state": {
       "height": "25px",
       "width": "33px"
      }
     },
     "14f9ba28b2da46f281ea76c3a282328f": {
      "model_module": "@jupyter-widgets/base",
      "model_module_version": "1.2.0",
      "model_name": "LayoutModel",
      "state": {
       "margin": "0px 0px 0px 100px"
      }
     },
     "1501c5672fd944499a6c2f9322a2f6ae": {
      "model_module": "@jupyter-widgets/controls",
      "model_module_version": "1.5.0",
      "model_name": "ButtonModel",
      "state": {
       "button_style": "warning",
       "description": "C",
       "disabled": true,
       "layout": "IPY_MODEL_e79ec3cd638b40ba8983343dafb4c0b9",
       "style": "IPY_MODEL_f84fa5a965e34aa89c23456e39952975"
      }
     },
     "1504e72cb3b4429ab48849a7d2f095cd": {
      "model_module": "@jupyter-widgets/base",
      "model_module_version": "1.2.0",
      "model_name": "LayoutModel",
      "state": {
       "margin": "20px 0px 0px 20px"
      }
     },
     "156dffa0b1114eb6a363cf4f228aa199": {
      "model_module": "@jupyter-widgets/controls",
      "model_module_version": "1.5.0",
      "model_name": "ButtonStyleModel",
      "state": {}
     },
     "157ed9c7590d4f8782baa19188d24394": {
      "model_module": "@jupyter-widgets/controls",
      "model_module_version": "1.5.0",
      "model_name": "DescriptionStyleModel",
      "state": {
       "description_width": ""
      }
     },
     "158e49def682411eb5d7b0a39b152f69": {
      "model_module": "@jupyter-widgets/controls",
      "model_module_version": "1.5.0",
      "model_name": "VBoxModel",
      "state": {
       "children": [
        "IPY_MODEL_26b0dbf1b97e494aa20c00fe41dfd40e",
        "IPY_MODEL_2382b793b76040068e89c17df58ef682",
        "IPY_MODEL_7319b9284ade4bf3b3b38718acf66dcd"
       ],
       "layout": "IPY_MODEL_955ed17439f34065b7bf59fd038e3eeb"
      }
     },
     "1599ac69e5c24baf930eda9016165327": {
      "model_module": "@jupyter-widgets/controls",
      "model_module_version": "1.5.0",
      "model_name": "HTMLModel",
      "state": {
       "layout": "IPY_MODEL_0438b57bffc74717a0d3fe423da3f33c",
       "style": "IPY_MODEL_3f29268c03ed4aefac80e62d5136a9ab",
       "value": "<h4>Games: 0</h4>"
      }
     },
     "159ba3a09bf74c038d50b1a2ce16eb54": {
      "model_module": "@jupyter-widgets/controls",
      "model_module_version": "1.5.0",
      "model_name": "ButtonStyleModel",
      "state": {}
     },
     "15a5e21683874721ba831bbabc077ed1": {
      "model_module": "@jupyter-widgets/base",
      "model_module_version": "1.2.0",
      "model_name": "LayoutModel",
      "state": {
       "grid_area": "left-sidebar"
      }
     },
     "15b334ce54b84cf08221573c3c3b7e63": {
      "model_module": "@jupyter-widgets/base",
      "model_module_version": "1.2.0",
      "model_name": "LayoutModel",
      "state": {
       "margin": "20px 0px 0px 20px"
      }
     },
     "15b7edb136dd48da84351576f44b6add": {
      "model_module": "@jupyter-widgets/controls",
      "model_module_version": "1.5.0",
      "model_name": "VBoxModel",
      "state": {
       "children": [
        "IPY_MODEL_60cf585de80b4edea40a23e1d6e5fb61",
        "IPY_MODEL_45337ac07ff740d697cfdd9387a7bc33"
       ],
       "layout": "IPY_MODEL_b5899fda01724d95a755e8bcf5cec4dd"
      }
     },
     "15c9be047db8472297f9ba83fd564c47": {
      "model_module": "@jupyter-widgets/controls",
      "model_module_version": "1.5.0",
      "model_name": "HTMLModel",
      "state": {
       "layout": "IPY_MODEL_9d9e181ecc22480fbf2bf49c499d32ba",
       "style": "IPY_MODEL_fc73884423fc47c389e446e1428f22e6",
       "value": "<h4>Games: 3</h4>"
      }
     },
     "15d2fd5115734181ab75ee976964bf22": {
      "model_module": "@jupyter-widgets/base",
      "model_module_version": "1.2.0",
      "model_name": "LayoutModel",
      "state": {
       "margin": "0px 0px 0px 70px"
      }
     },
     "15e3ecd30dc040529512f52d8061fa0a": {
      "model_module": "@jupyter-widgets/base",
      "model_module_version": "1.2.0",
      "model_name": "LayoutModel",
      "state": {
       "grid_area": "footer",
       "margin": "-60px 0px 0px 0px"
      }
     },
     "15fc867166c54dddb883eac8c57932db": {
      "model_module": "@jupyter-widgets/controls",
      "model_module_version": "1.5.0",
      "model_name": "ButtonModel",
      "state": {
       "button_style": "warning",
       "description": "X",
       "layout": "IPY_MODEL_9c5047641c2649689ba9f1389fe3cfb9",
       "style": "IPY_MODEL_aee313254d824c17884bbe86e4877eed",
       "tooltip": "Click to guess X."
      }
     },
     "161f507f9a364bf2bdfef2f023166804": {
      "model_module": "@jupyter-widgets/base",
      "model_module_version": "1.2.0",
      "model_name": "LayoutModel",
      "state": {
       "margin": "0px 0px 0px 100px"
      }
     },
     "16331c49fdee4fd3a50d3f8c87001c59": {
      "model_module": "@jupyter-widgets/controls",
      "model_module_version": "1.5.0",
      "model_name": "ButtonModel",
      "state": {
       "button_style": "warning",
       "description": "S",
       "layout": "IPY_MODEL_52674fea2296469c834fd00b07cf9ba4",
       "style": "IPY_MODEL_8153b468d3cb4e1bac445c6178213458",
       "tooltip": "Click to guess S."
      }
     },
     "164cc6f09e094d23aa3cb7d0c1146c99": {
      "model_module": "@jupyter-widgets/controls",
      "model_module_version": "1.5.0",
      "model_name": "ButtonStyleModel",
      "state": {}
     },
     "16681c8c6e684d9a8570c529c7dbfab6": {
      "model_module": "@jupyter-widgets/base",
      "model_module_version": "1.2.0",
      "model_name": "LayoutModel",
      "state": {
       "margin": "0px 0px 0px 100px"
      }
     },
     "1678e68bad74481695dea75d1fda2ab6": {
      "model_module": "@jupyter-widgets/controls",
      "model_module_version": "1.5.0",
      "model_name": "ButtonStyleModel",
      "state": {}
     },
     "16a8c016076d4856b2bab9b0a130c9d2": {
      "model_module": "@jupyter-widgets/controls",
      "model_module_version": "1.5.0",
      "model_name": "HTMLModel",
      "state": {
       "layout": "IPY_MODEL_d4c7f0d7b6ad4c8aaa92854e74189821",
       "style": "IPY_MODEL_e9fe40f8b22e4025ad075e5595e69a91",
       "value": "<h1><font color=black>Secret Word:                          _ _ _ _ _ _</h1>"
      }
     },
     "16ad63f31f7b4044bca4d06963150574": {
      "model_module": "@jupyter-widgets/base",
      "model_module_version": "1.2.0",
      "model_name": "LayoutModel",
      "state": {
       "grid_area": "left-sidebar"
      }
     },
     "16c97c8c448a4e229a40bb771fbf04d5": {
      "model_module": "@jupyter-widgets/controls",
      "model_module_version": "1.5.0",
      "model_name": "VBoxModel",
      "state": {
       "children": [
        "IPY_MODEL_685a4c90ac1a413cabd9f32a272e5312",
        "IPY_MODEL_3803d965ec194312bbbf8741461551a4",
        "IPY_MODEL_76bff820a4fb4f7a989438ce0089608c"
       ],
       "layout": "IPY_MODEL_5110c7e6f7944ed49e936033891387df"
      }
     },
     "16ea80557840486ab655d3dc302c3fcc": {
      "model_module": "@jupyter-widgets/base",
      "model_module_version": "1.2.0",
      "model_name": "LayoutModel",
      "state": {
       "grid_area": "footer",
       "margin": "-60px 0px 0px 0px"
      }
     },
     "173143c0f8b7463ead25688e6f7137da": {
      "model_module": "@jupyter-widgets/base",
      "model_module_version": "1.2.0",
      "model_name": "LayoutModel",
      "state": {
       "height": "25px",
       "width": "33px"
      }
     },
     "17347ba304094604965c16bd593335b8": {
      "model_module": "@jupyter-widgets/controls",
      "model_module_version": "1.5.0",
      "model_name": "HTMLModel",
      "state": {
       "layout": "IPY_MODEL_cd76433ae6304a86acdc4f86ffc8f59d",
       "style": "IPY_MODEL_f158b69242e542c282836df64e695205",
       "value": "<h3>Player Result</h3>"
      }
     },
     "174ae815340844bda14c4d4acc14c3cd": {
      "model_module": "@jupyter-widgets/controls",
      "model_module_version": "1.5.0",
      "model_name": "ButtonStyleModel",
      "state": {}
     },
     "1755624d5bf04e928518cf92b3b3b53c": {
      "model_module": "@jupyter-widgets/controls",
      "model_module_version": "1.5.0",
      "model_name": "HTMLModel",
      "state": {
       "layout": "IPY_MODEL_d93c87b4123e454bb61e28cfd2328d48",
       "style": "IPY_MODEL_45a68b187f084ec4b70362d4950b4ae0",
       "value": "<h3>Click on a letter below to guess the word.</h3>"
      }
     },
     "175757f915274316828184a159376b04": {
      "model_module": "@jupyter-widgets/controls",
      "model_module_version": "1.5.0",
      "model_name": "HTMLModel",
      "state": {
       "layout": "IPY_MODEL_4ab38911d02b4402a7e553a79481f778",
       "style": "IPY_MODEL_610d95c919854f84a2d6076f68093926",
       "value": "<h2><font color='black'>Remaining Guesses:                          4</h2>"
      }
     },
     "1759fbaf2e02403a8a0180e131bb7076": {
      "model_module": "@jupyter-widgets/controls",
      "model_module_version": "1.5.0",
      "model_name": "HTMLModel",
      "state": {
       "layout": "IPY_MODEL_fd3c158a583546308d428c7ea1afcbb0",
       "style": "IPY_MODEL_84ecc9e8703447e0944201abf56b9326",
       "value": "<h4>Games: 2</h4>"
      }
     },
     "176591bdf42948f681d7120d7689b49e": {
      "model_module": "@jupyter-widgets/base",
      "model_module_version": "1.2.0",
      "model_name": "LayoutModel",
      "state": {
       "grid_area": "left-sidebar"
      }
     },
     "177d8a5a466d4c45a4439f02b1f5b52e": {
      "model_module": "@jupyter-widgets/base",
      "model_module_version": "1.2.0",
      "model_name": "LayoutModel",
      "state": {}
     },
     "178a2163d66e407aa01f93f51f81b6a6": {
      "model_module": "@jupyter-widgets/controls",
      "model_module_version": "1.5.0",
      "model_name": "DescriptionStyleModel",
      "state": {
       "description_width": ""
      }
     },
     "1796c5bbb11c434d8fa8f061c40fc79b": {
      "model_module": "@jupyter-widgets/base",
      "model_module_version": "1.2.0",
      "model_name": "LayoutModel",
      "state": {
       "height": "25px",
       "width": "33px"
      }
     },
     "17a8697500cb4ec2bae558e68833c0c2": {
      "model_module": "@jupyter-widgets/controls",
      "model_module_version": "1.5.0",
      "model_name": "ButtonStyleModel",
      "state": {}
     },
     "17cd391172024a9fb4982e17f741375f": {
      "model_module": "@jupyter-widgets/controls",
      "model_module_version": "1.5.0",
      "model_name": "ButtonStyleModel",
      "state": {}
     },
     "17cfea29c27344899219e3427d273ff7": {
      "model_module": "@jupyter-widgets/controls",
      "model_module_version": "1.5.0",
      "model_name": "DescriptionStyleModel",
      "state": {
       "description_width": ""
      }
     },
     "17ee954b164d4b378e7f9ceba31046e6": {
      "model_module": "@jupyter-widgets/base",
      "model_module_version": "1.2.0",
      "model_name": "LayoutModel",
      "state": {}
     },
     "183f166913e5430cb0d623f4eec17aa6": {
      "model_module": "@jupyter-widgets/controls",
      "model_module_version": "1.5.0",
      "model_name": "ButtonModel",
      "state": {
       "button_style": "warning",
       "description": "K",
       "disabled": true,
       "layout": "IPY_MODEL_7b9a57ecee53412f865297bb8da81a99",
       "style": "IPY_MODEL_d6c031ff21f84d41a1dcbae2800c885c"
      }
     },
     "18484de93976427d9bf877d0e3617b5a": {
      "model_module": "@jupyter-widgets/controls",
      "model_module_version": "1.5.0",
      "model_name": "ButtonModel",
      "state": {
       "button_style": "warning",
       "description": "O",
       "disabled": true,
       "layout": "IPY_MODEL_0f0e05c6b7df42899917e6742498a100",
       "style": "IPY_MODEL_bf5560de92494c17ab4a68611b500810"
      }
     },
     "1856e07b866045458a88cc1fba34710a": {
      "model_module": "@jupyter-widgets/base",
      "model_module_version": "1.2.0",
      "model_name": "LayoutModel",
      "state": {
       "grid_area": "footer",
       "margin": "-60px 0px 0px 0px"
      }
     },
     "18742a06e555477fab7e7bca77990fe9": {
      "model_module": "@jupyter-widgets/controls",
      "model_module_version": "1.5.0",
      "model_name": "HBoxModel",
      "state": {
       "children": [
        "IPY_MODEL_8eaad9589ebe43ec8d33d465fa72df7d",
        "IPY_MODEL_eea6ad5e1e3d4e09ad2e7df33c6666fc"
       ],
       "layout": "IPY_MODEL_71b8d3198af54239a5542f7c3b39b1f1"
      }
     },
     "188fff45656845b18f0105556dd67cc7": {
      "model_module": "@jupyter-widgets/controls",
      "model_module_version": "1.5.0",
      "model_name": "ButtonStyleModel",
      "state": {}
     },
     "18b1ac9c60e84d76ad615900e9b40617": {
      "model_module": "@jupyter-widgets/controls",
      "model_module_version": "1.5.0",
      "model_name": "DescriptionStyleModel",
      "state": {
       "description_width": ""
      }
     },
     "18c6b47f2709418f804c67c7f3360999": {
      "model_module": "@jupyter-widgets/controls",
      "model_module_version": "1.5.0",
      "model_name": "ButtonModel",
      "state": {
       "button_style": "warning",
       "description": "E",
       "layout": "IPY_MODEL_7903ba5d947a48a8bad2e5c575adfd3e",
       "style": "IPY_MODEL_ce4438cc4d464cadaa1ade66ad16e743",
       "tooltip": "Click to guess E."
      }
     },
     "18d422e0cb3c4a018fa60154e3089e99": {
      "model_module": "@jupyter-widgets/controls",
      "model_module_version": "1.5.0",
      "model_name": "ButtonStyleModel",
      "state": {}
     },
     "196db15593da4f64b5f2b30ffe7fdc1e": {
      "model_module": "@jupyter-widgets/controls",
      "model_module_version": "1.5.0",
      "model_name": "VBoxModel",
      "state": {
       "children": [
        "IPY_MODEL_c124a7e557c94f5fa085a0bdf811bc0b",
        "IPY_MODEL_e5b2826557b74e03aecf1a84f1ea003f",
        "IPY_MODEL_c7d48803706941e0a922ccdb99616a34"
       ],
       "layout": "IPY_MODEL_dae80adfef0845d696a006f9d3360b03"
      }
     },
     "1977de0534da489a870c1a98683ba7ce": {
      "model_module": "@jupyter-widgets/controls",
      "model_module_version": "1.5.0",
      "model_name": "VBoxModel",
      "state": {
       "children": [
        "IPY_MODEL_bb8a8b52967a4925999a2c857ef7971e",
        "IPY_MODEL_cb4d077fc0d84efcae059f20ee843531"
       ],
       "layout": "IPY_MODEL_4da1fa337dcc4749a17402a3537d1ea2"
      }
     },
     "1979d391a8364b42ae4cf76bc21315c5": {
      "model_module": "@jupyter-widgets/controls",
      "model_module_version": "1.5.0",
      "model_name": "VBoxModel",
      "state": {
       "children": [
        "IPY_MODEL_eaa30a0b217f469998067463328cf57a",
        "IPY_MODEL_53af3a4b87f04aea87cc2ae9355df43a",
        "IPY_MODEL_c4ad897601e1483d9d7539c427107921"
       ],
       "layout": "IPY_MODEL_fbd11aabcf0a49c9b4ad3cfcb9028a38"
      }
     },
     "199eca090481433ab9a83b90424883b7": {
      "model_module": "@jupyter-widgets/controls",
      "model_module_version": "1.5.0",
      "model_name": "ButtonStyleModel",
      "state": {}
     },
     "19a91cef7083455ba30d52589c28e741": {
      "model_module": "@jupyter-widgets/base",
      "model_module_version": "1.2.0",
      "model_name": "LayoutModel",
      "state": {
       "margin": "20px 0px 0px 20px"
      }
     },
     "19cd6ecc829441b5953c64919bf32f56": {
      "model_module": "@jupyter-widgets/base",
      "model_module_version": "1.2.0",
      "model_name": "LayoutModel",
      "state": {
       "grid_area": "center"
      }
     },
     "19ed6d5b4c15466fa4ba40056b92a24a": {
      "model_module": "@jupyter-widgets/controls",
      "model_module_version": "1.5.0",
      "model_name": "HBoxModel",
      "state": {
       "children": [
        "IPY_MODEL_37987dc4fe3d405091608f5d13c4acef",
        "IPY_MODEL_9d63ac6706e84a408eb8e5db44e445f4"
       ],
       "layout": "IPY_MODEL_b3a188f45a38409f97c80dac9646cf96"
      }
     },
     "19f7650de867414eb176f8c59a133f8e": {
      "model_module": "@jupyter-widgets/controls",
      "model_module_version": "1.5.0",
      "model_name": "DescriptionStyleModel",
      "state": {
       "description_width": ""
      }
     },
     "1a15511b55954075b625eede3c2d67f2": {
      "model_module": "@jupyter-widgets/controls",
      "model_module_version": "1.5.0",
      "model_name": "ButtonModel",
      "state": {
       "button_style": "warning",
       "description": "E",
       "layout": "IPY_MODEL_d7686041bf514e23a4fdb7d236954b61",
       "style": "IPY_MODEL_a760d79f396b4c6ea1ed2fb7be9acaea",
       "tooltip": "Click to guess E."
      }
     },
     "1a25c1301dd942a1b4e389679ae7ef7f": {
      "model_module": "@jupyter-widgets/controls",
      "model_module_version": "1.5.0",
      "model_name": "ButtonModel",
      "state": {
       "button_style": "warning",
       "description": "A",
       "disabled": true,
       "layout": "IPY_MODEL_09f0f04374f54e4ea218c6f7d459edbe",
       "style": "IPY_MODEL_b80a7836186d483fb6b12472754ba930"
      }
     },
     "1a3e3e5630a541f89df3b76910330601": {
      "model_module": "@jupyter-widgets/controls",
      "model_module_version": "1.5.0",
      "model_name": "HTMLModel",
      "state": {
       "layout": "IPY_MODEL_e15fa3fece7e48129a30f01bc9bedbf5",
       "style": "IPY_MODEL_661247776a844da9a6399a1b0e909a14",
       "value": "<h3>Player Result</h3>"
      }
     },
     "1a3fc711f269407296c029882ad9c3b6": {
      "model_module": "@jupyter-widgets/controls",
      "model_module_version": "1.5.0",
      "model_name": "VBoxModel",
      "state": {
       "children": [
        "IPY_MODEL_67f8b4c6ca114f618147fd744b590464",
        "IPY_MODEL_3d78f0d70d564804acab924c52d136db",
        "IPY_MODEL_8bbd0db0413940f4879a87ea6c06e0de"
       ],
       "layout": "IPY_MODEL_d2151ac7f7f1485fb5b57806b73e4190"
      }
     },
     "1a4ca9f1b36447939c9af50f27e5d7f8": {
      "model_module": "@jupyter-widgets/base",
      "model_module_version": "1.2.0",
      "model_name": "LayoutModel",
      "state": {
       "height": "25px",
       "width": "33px"
      }
     },
     "1a5e702ddb294f5eb6fbc27c31d0f414": {
      "model_module": "@jupyter-widgets/base",
      "model_module_version": "1.2.0",
      "model_name": "LayoutModel",
      "state": {
       "grid_area": "footer",
       "margin": "-60px 0px 0px 0px"
      }
     },
     "1a65330659b743faab78f98742347942": {
      "model_module": "@jupyter-widgets/controls",
      "model_module_version": "1.5.0",
      "model_name": "ButtonModel",
      "state": {
       "button_style": "warning",
       "description": "P",
       "disabled": true,
       "layout": "IPY_MODEL_3c15a0619f7f45cf9a6cca12225e7711",
       "style": "IPY_MODEL_159ba3a09bf74c038d50b1a2ce16eb54"
      }
     },
     "1aa434931b1c49f39e6f4c900b911417": {
      "model_module": "@jupyter-widgets/controls",
      "model_module_version": "1.5.0",
      "model_name": "DescriptionStyleModel",
      "state": {
       "description_width": ""
      }
     },
     "1aafb888998c4886b2124a1e6ef6da80": {
      "model_module": "@jupyter-widgets/controls",
      "model_module_version": "1.5.0",
      "model_name": "DescriptionStyleModel",
      "state": {
       "description_width": ""
      }
     },
     "1ab08fe70af5425ca117fc9205ff1fe1": {
      "model_module": "@jupyter-widgets/base",
      "model_module_version": "1.2.0",
      "model_name": "LayoutModel",
      "state": {
       "grid_template_areas": "\"header header header\"\n\"left-sidebar center center\"\n\"footer footer footer\"",
       "grid_template_columns": "1fr 2fr 1fr",
       "grid_template_rows": "1fr 3fr 1fr"
      }
     },
     "1ab18b488a494ebe95daf8a9291e3b15": {
      "model_module": "@jupyter-widgets/base",
      "model_module_version": "1.2.0",
      "model_name": "LayoutModel",
      "state": {
       "margin": "0px 0px 0px 100px"
      }
     },
     "1adb5b7c4d1b412b8a64f303fc6a6b95": {
      "model_module": "@jupyter-widgets/controls",
      "model_module_version": "1.5.0",
      "model_name": "HTMLModel",
      "state": {
       "layout": "IPY_MODEL_260650d675a648dabe059ea505227ab9",
       "style": "IPY_MODEL_444b348653d645a587924dc7df865941",
       "value": "<h3>Click on a letter below to guess the word.</h3>"
      }
     },
     "1ae5af507c314df8af38fc6d58ca4b7e": {
      "model_module": "@jupyter-widgets/controls",
      "model_module_version": "1.5.0",
      "model_name": "ButtonStyleModel",
      "state": {}
     },
     "1b42c12e616c45c5a73ec8a4b7fd5c25": {
      "model_module": "@jupyter-widgets/base",
      "model_module_version": "1.2.0",
      "model_name": "LayoutModel",
      "state": {}
     },
     "1b44afbf75bc4e91838dd215f39eea35": {
      "model_module": "@jupyter-widgets/controls",
      "model_module_version": "1.5.0",
      "model_name": "ButtonModel",
      "state": {
       "button_style": "warning",
       "description": "L",
       "layout": "IPY_MODEL_120318f0f1894727a4f9d8a5e23919b7",
       "style": "IPY_MODEL_246725de74864bf5bc2b92868ae72c73",
       "tooltip": "Click to guess L."
      }
     },
     "1b4aa06557274056a990b6c99f0ec6ba": {
      "model_module": "@jupyter-widgets/controls",
      "model_module_version": "1.5.0",
      "model_name": "DescriptionStyleModel",
      "state": {
       "description_width": ""
      }
     },
     "1b4ad43c6c724715915c87c8b88c13a2": {
      "model_module": "@jupyter-widgets/controls",
      "model_module_version": "1.5.0",
      "model_name": "VBoxModel",
      "state": {
       "children": [
        "IPY_MODEL_5f9c0b887f544adcbcf22fed8671d672",
        "IPY_MODEL_5e7a04b876be4f188ef952e385c6666b",
        "IPY_MODEL_d9f2903621214ed38cbcdc2bf3bdec22"
       ],
       "layout": "IPY_MODEL_2c176dcac1c342a58df0b58125c9ff00"
      }
     },
     "1b5c018402fc43008c34272819ba3d2b": {
      "model_module": "@jupyter-widgets/controls",
      "model_module_version": "1.5.0",
      "model_name": "ButtonStyleModel",
      "state": {}
     },
     "1bb1e169673e44768178ba4e19018ffb": {
      "model_module": "@jupyter-widgets/base",
      "model_module_version": "1.2.0",
      "model_name": "LayoutModel",
      "state": {
       "width": "500px"
      }
     },
     "1bb1fde1031d4cc7a0420c2f4ec9281b": {
      "model_module": "@jupyter-widgets/base",
      "model_module_version": "1.2.0",
      "model_name": "LayoutModel",
      "state": {
       "margin": "0px 0px 0px 100px"
      }
     },
     "1bc29e3a38ef4f1ea6c89afd0708feb9": {
      "model_module": "@jupyter-widgets/base",
      "model_module_version": "1.2.0",
      "model_name": "LayoutModel",
      "state": {
       "margin": "0px 0px 0px 100px"
      }
     },
     "1c4a3d9ed0d84c7a89396307611aa34f": {
      "model_module": "@jupyter-widgets/controls",
      "model_module_version": "1.5.0",
      "model_name": "ButtonStyleModel",
      "state": {}
     },
     "1c837ca74e7646ca9e14e336c2b82cae": {
      "model_module": "@jupyter-widgets/controls",
      "model_module_version": "1.5.0",
      "model_name": "HTMLModel",
      "state": {
       "layout": "IPY_MODEL_7717d988228a446ca16a3eb32ec48eeb",
       "style": "IPY_MODEL_0da89496d09b4340b2cf0c1edaa60857",
       "value": "<h3>Player Result</h3>"
      }
     },
     "1ca7d46da99248aba949342aef239366": {
      "model_module": "@jupyter-widgets/controls",
      "model_module_version": "1.5.0",
      "model_name": "ButtonModel",
      "state": {
       "button_style": "warning",
       "description": "M",
       "layout": "IPY_MODEL_85c80a4bb54f4fa89c50ef90c21fa23a",
       "style": "IPY_MODEL_322305ab3d824e88a11d88294849038d",
       "tooltip": "Click to guess M."
      }
     },
     "1cbfa07b644a43388cece312bd629ff0": {
      "model_module": "@jupyter-widgets/controls",
      "model_module_version": "1.5.0",
      "model_name": "HTMLModel",
      "state": {
       "layout": "IPY_MODEL_aa8682af6a644070a83582bbaf2f152c",
       "style": "IPY_MODEL_c5e9aa9e0ab44c33b805b1c4f67b568b",
       "value": "<h4>Games: 2</h4>"
      }
     },
     "1cdaaf9d13a6404296163672be083cd0": {
      "model_module": "@jupyter-widgets/base",
      "model_module_version": "1.2.0",
      "model_name": "LayoutModel",
      "state": {
       "height": "25px",
       "width": "33px"
      }
     },
     "1ce9366a59f24609ad922fc9e1c5fbab": {
      "model_module": "@jupyter-widgets/controls",
      "model_module_version": "1.5.0",
      "model_name": "VBoxModel",
      "state": {
       "children": [
        "IPY_MODEL_2ee8021dacce4cdaa8d0b7a06b03293c",
        "IPY_MODEL_54586e7c8c254c3d9f324ad8115b0287"
       ],
       "layout": "IPY_MODEL_b3fdd133bcba4b76b269d6f0bdf678fe"
      }
     },
     "1d009e338f26479d93836ece5c642e48": {
      "model_module": "@jupyter-widgets/base",
      "model_module_version": "1.2.0",
      "model_name": "LayoutModel",
      "state": {
       "margin": "0px 0px 0px 100px"
      }
     },
     "1d39933561c2448385a9abe1ee43012f": {
      "model_module": "@jupyter-widgets/controls",
      "model_module_version": "1.5.0",
      "model_name": "DescriptionStyleModel",
      "state": {
       "description_width": ""
      }
     },
     "1d84b0c739cf4592bb0b81b115e14432": {
      "model_module": "@jupyter-widgets/controls",
      "model_module_version": "1.5.0",
      "model_name": "ButtonStyleModel",
      "state": {}
     },
     "1dbcdb2d0e78441eafdd8ea011f390c2": {
      "model_module": "@jupyter-widgets/base",
      "model_module_version": "1.2.0",
      "model_name": "LayoutModel",
      "state": {
       "height": "25px",
       "width": "33px"
      }
     },
     "1e2f269b7f334bd1ac7e7eb9373d45f0": {
      "model_module": "@jupyter-widgets/controls",
      "model_module_version": "1.5.0",
      "model_name": "DescriptionStyleModel",
      "state": {
       "description_width": ""
      }
     },
     "1e41103d227e4729a3929710dfbf06ef": {
      "model_module": "@jupyter-widgets/base",
      "model_module_version": "1.2.0",
      "model_name": "LayoutModel",
      "state": {}
     },
     "1e593ce8b83f4737a9c3b278ab11a029": {
      "model_module": "@jupyter-widgets/controls",
      "model_module_version": "1.5.0",
      "model_name": "VBoxModel",
      "state": {
       "children": [
        "IPY_MODEL_48c1c2341db54756a59b429c44f255ca",
        "IPY_MODEL_9397e173ef284f48bcfe3bebb7607faf"
       ],
       "layout": "IPY_MODEL_d96571496c554792a526542d2564eb05"
      }
     },
     "1e6e7c1991df482a801d9105f6b2a89e": {
      "model_module": "@jupyter-widgets/base",
      "model_module_version": "1.2.0",
      "model_name": "LayoutModel",
      "state": {
       "margin": "0px 0px 0px 100px"
      }
     },
     "1e91bf0b6d2347fd9be735218b490ad0": {
      "model_module": "@jupyter-widgets/base",
      "model_module_version": "1.2.0",
      "model_name": "LayoutModel",
      "state": {
       "grid_area": "header"
      }
     },
     "1ea4003a1aca4310be25ce55c6791e7d": {
      "model_module": "@jupyter-widgets/controls",
      "model_module_version": "1.5.0",
      "model_name": "HTMLModel",
      "state": {
       "layout": "IPY_MODEL_26df95f4f9da4361b14fc09e11244de5",
       "style": "IPY_MODEL_dffdb23b8c8347b09a01c81ad12fff8b",
       "value": "<h3>Click on a letter below to guess the word.</h3>"
      }
     },
     "1ec2cd3dc95e4bb0b1849990949c961c": {
      "model_module": "@jupyter-widgets/controls",
      "model_module_version": "1.5.0",
      "model_name": "VBoxModel",
      "state": {
       "children": [
        "IPY_MODEL_b35b3be26d6d40a3a6b9f17f9b47f7ce",
        "IPY_MODEL_c4c891f8e7b34660a870dbbb487c10c2",
        "IPY_MODEL_c9e694c50fdd464ead7247322077254c"
       ],
       "layout": "IPY_MODEL_88d3a6ef822d4c7cabdb7623cbe66f9d"
      }
     },
     "1edfadd3829041e5a370c59c29e4664f": {
      "model_module": "@jupyter-widgets/base",
      "model_module_version": "1.2.0",
      "model_name": "LayoutModel",
      "state": {
       "grid_area": "footer",
       "margin": "-60px 0px 0px 0px"
      }
     },
     "1ee28073901441e79189e16a5b5cc034": {
      "model_module": "@jupyter-widgets/base",
      "model_module_version": "1.2.0",
      "model_name": "LayoutModel",
      "state": {
       "grid_area": "header"
      }
     },
     "1ee2c78b1da142c789adb4ab44fc743e": {
      "model_module": "@jupyter-widgets/controls",
      "model_module_version": "1.5.0",
      "model_name": "HBoxModel",
      "state": {
       "children": [
        "IPY_MODEL_0e2d8b05757c4d109ce5a3ff436db9fe",
        "IPY_MODEL_5451fd77da124be18b46f753d2d7228e",
        "IPY_MODEL_0e47463f4d4949298f370715ae1460a1",
        "IPY_MODEL_e6d578aef9b14affabf71068880300da",
        "IPY_MODEL_ceeb016bd732429794463304403c5826",
        "IPY_MODEL_8abf40cb94eb43399ea1b9214c7b0306",
        "IPY_MODEL_23effe09f7b74938a8d746b106af0058",
        "IPY_MODEL_f731e0b14a9c4460b91be1d33189f340",
        "IPY_MODEL_9a58d35ebb9b490e8b2749a18fcff24c",
        "IPY_MODEL_e223c1e16d8a48cc821ebc0c27b453e7",
        "IPY_MODEL_0d4cbd4c7d444702a3f35c283b61411d",
        "IPY_MODEL_5cee725240db4e629ae6dcdb3ee332e1",
        "IPY_MODEL_6d4cca6fb5ed49ad8a5b33f40c73bef2",
        "IPY_MODEL_2be7111eae0545df88404b05af8cef87",
        "IPY_MODEL_9c26470dac24418baaabb26c027382b5",
        "IPY_MODEL_e3e009f9d92342f0ab9a9eecb4abbb38",
        "IPY_MODEL_bdb1bb4af7844c7a912a370b5c2765a4",
        "IPY_MODEL_12c65b20c0f34a9aaab1aa3fd1f7a142",
        "IPY_MODEL_5f679887e25f4c8787680b6f5e815a8d",
        "IPY_MODEL_e42c851c1a464496a51cbf8f494a07c7",
        "IPY_MODEL_e878012e13e24d49bf8eb6c281cb3ff7",
        "IPY_MODEL_f77600e9b9e744499ecee1cfe5416031",
        "IPY_MODEL_eeeabe7a6ab545e0927e389f145a0bb3",
        "IPY_MODEL_6992d9f2fd784c2d924e7d5b9362099d",
        "IPY_MODEL_bf458d410f1b4265915c8260ddfd5e5b",
        "IPY_MODEL_fdf81a7bc7d94429967ee84d756908a7"
       ],
       "layout": "IPY_MODEL_a95c4bd56388436aae8f5fa47758cdfe"
      }
     },
     "1ee38ce35de8477da7a7e564b694f4a1": {
      "model_module": "@jupyter-widgets/controls",
      "model_module_version": "1.5.0",
      "model_name": "HTMLModel",
      "state": {
       "layout": "IPY_MODEL_7e6318fcf6e448bd930b4665a6a15512",
       "style": "IPY_MODEL_ef8a309f9dcb40f0898dfa434f8c85a7",
       "value": "<h3>Click on a letter below to guess the word.</h3>"
      }
     },
     "1ee4eed427bc412b9b27c26e0f0847c7": {
      "model_module": "@jupyter-widgets/controls",
      "model_module_version": "1.5.0",
      "model_name": "ButtonModel",
      "state": {
       "button_style": "success",
       "description": "Play Again",
       "layout": "IPY_MODEL_7ad2e6eb4a9a44b4970f68a80ecbbbcd",
       "style": "IPY_MODEL_1fa5fd5a141a44cbb49b70ec7d5eeada"
      }
     },
     "1f29273befc3465a9efbfe31c9c5747e": {
      "buffers": [
       {
        "data": "iVBORw0KGgoAAAANSUhEUgAAATQAAAE0CAIAAAAt41jIAAAD0UlEQVR4nO3dMW7DMBAAQTLw/7/MFCnsymkocG3NdGqEg4DFsaLGAAAAgGvM14e11qk5gDHGnM8kfw7OAbwhTogSJ0SJE6LECVHihChxQpQ4IUqcECVOiBInRIkTosQJUeKEKHFClDghSpwQJU6IEidEiROixAlR4oQocUKUOCFKnBAlTogSJ0SJE6LECVHihChxQpQ4IUqcECVOiHqcHuB7vP4wnL3WWqdHOMDm3EOZl7rn5xUnRDnWbnbPA9h17rkz/9icECVOiBInRIkTosQJUeKEKHFClDghSpwQJU6IEidEiROixAlR4oQocUKUOCFKnBAlTohyTckebidhO5sTosQJUeKEKHFClDghSpwQJU6IEidEiROixAlR4oQocUKUOCFKnBAlTogSJ0SJE6LECVHihChxQpQ4IUqcECVOiBInRIkTosQJUeKEKHFClDghSpwQJU6IEidEiROixAlR4oQocUKUOCFKnBAlTogSJ0SJE6LECVHihChxQpQ4IUqcECVOiBInRIkTosQJUeKEKHFClDghSpwQJU6IEidEiROixAlR4oQocUKUOCFKnBAlTogSJ0SJE6LECVHihChxQpQ4IUqcECVOiBInRIkTosQJUeKEKHFClDghSpwQJU6IEidEiROixAlR4oQocUKUOCFKnBAlTogSJ0SJE6LECVHihChxQpQ4IUqcECVOiBInRIkTosQJUeKEKHFClDghSpwQJU6IEidEiROixAlR4oQocUKUOCFKnBAlTogSJ0SJE6LECVHihChxQpQ4IUqcECVOiBInRIkTosQJUeKEKHFClDghSpwQJU6IEidEiROixAlR4oQocUKUOCFKnBAlTogSJ0SJE6LECVHihChxQpQ4IUqcECVOiBInRIkTosQJUeKEKHFClDghSpwQJU6IEidEiROixAlR4oQocUKUOCFKnBAlTogSJ0SJE6LECVHihChxQpQ4IUqcECVOiBInRIkTosQJUeKEKHFClDghSpwQJU6IEidEiROixAlR4oQocUKUOCFKnBAlTogSJ0SJE6LECVHihChxQpQ4IUqcECVOiBInRIkTosQJUeKEKHFClDghSpwQJU6IEidEiROixAlR4oQocUKUOCFKnBAlTogSJ0SJE6LECVHihChxQpQ4IUqcECVOiBInRIkToh6nB+B/c87TI5zX/whrrb0vtDkhSpwQ5Vj7Abafl/gINidEiROixAlR4oQocUKUOCFKnBAlTogSJ0SJE6LECVHihChxQpQ4IUqcECVOiBInRIkTosQJUeKEKHECAAAA3Mwv+9AUZSTGP0IAAAAASUVORK5CYII=",
        "encoding": "base64",
        "path": [
         "value"
        ]
       }
      ],
      "model_module": "@jupyter-widgets/controls",
      "model_module_version": "1.5.0",
      "model_name": "ImageModel",
      "state": {
       "layout": "IPY_MODEL_81238a891f9e4ba3937a657c25a2597b",
       "value": {}
      }
     },
     "1f2c10e7b01841c0b12df24a8b1bc139": {
      "model_module": "@jupyter-widgets/controls",
      "model_module_version": "1.5.0",
      "model_name": "DescriptionStyleModel",
      "state": {
       "description_width": ""
      }
     },
     "1f5a4e7336694ba0b8149bca02e70e38": {
      "model_module": "@jupyter-widgets/controls",
      "model_module_version": "1.5.0",
      "model_name": "HTMLModel",
      "state": {
       "layout": "IPY_MODEL_f1d6220c705b4699be635195c4111971",
       "style": "IPY_MODEL_978da422381f480ebee8d87009bc3767",
       "value": "<h2><font color='black'>Remaining Guesses:                          -3</h2>"
      }
     },
     "1f5e32d8655b467091fa74c1042e1b50": {
      "model_module": "@jupyter-widgets/base",
      "model_module_version": "1.2.0",
      "model_name": "LayoutModel",
      "state": {
       "grid_area": "left-sidebar"
      }
     },
     "1f7509cf6e9f4e70bb926e4a9107d5dd": {
      "model_module": "@jupyter-widgets/controls",
      "model_module_version": "1.5.0",
      "model_name": "DescriptionStyleModel",
      "state": {
       "description_width": ""
      }
     },
     "1f7f7d80457b40f284024322d177e7ba": {
      "model_module": "@jupyter-widgets/base",
      "model_module_version": "1.2.0",
      "model_name": "LayoutModel",
      "state": {
       "height": "25px",
       "width": "33px"
      }
     },
     "1fa0bf7a4d5142a78e3833eb6b69cab2": {
      "model_module": "@jupyter-widgets/controls",
      "model_module_version": "1.5.0",
      "model_name": "DescriptionStyleModel",
      "state": {
       "description_width": ""
      }
     },
     "1fa14657ddac4bb3b63fdd69caea3f34": {
      "model_module": "@jupyter-widgets/controls",
      "model_module_version": "1.5.0",
      "model_name": "ButtonModel",
      "state": {
       "button_style": "warning",
       "description": "H",
       "layout": "IPY_MODEL_f2712eac449849f78c3b20a1c8981eca",
       "style": "IPY_MODEL_3a9198b68dc44040bf72412d9b073175",
       "tooltip": "Click to guess H."
      }
     },
     "1fa5fd5a141a44cbb49b70ec7d5eeada": {
      "model_module": "@jupyter-widgets/controls",
      "model_module_version": "1.5.0",
      "model_name": "ButtonStyleModel",
      "state": {}
     },
     "1fb61722228c4ac1ab7cb1d0a05315d9": {
      "buffers": [
       {
        "data": "iVBORw0KGgoAAAANSUhEUgAAATQAAAE0CAIAAAAt41jIAAAEvUlEQVR4nO3d0W6iUBRAUZ30/3+ZeZjEsYqAArJb13pqDRJisnNQkXs6AQAAwD7O1/8Mw3DUcQCn0+l8/p/knwOPA5ggTogSJ0SJE6LECVHihChxQpQ4IUqcECVOiBInRIkTosQJUeKEKHFClDghSpwQJU6IEidEiROixAlR4oQocUKUOCFKnBAlTogSJ0SJE6LECVHihChxQpQ4IUqcECVOiPo6+gB+j+sFw9nWMAxHH8IBTM5tKHNXn/nyihOinNZu7DNPwPbzmTPzH5MTosQJUeKEKHFClDghSpwQJU6IEidEiROixAlR4oQocUKUOCFKnBAlTogSJ0SJE6LcCWGV+9/pXx5xSwRWEucrltw7Q6WsJM7n3GQ5Ed5ly39/SJRniXOp5VlebyBRXibOec9meb+xRHmBT2tnXJc5DMNrXd088ZNv98hy4pxyU+bKvemTp4jzoW3LvN+PPpkmznnbvkX0hpOFxDlu128pL/s0PJkgzin7TTnzk1niHPHOgWZ48og4H9p7uBmeTBPnrfePMsOTUeIc956xZngyQZwQJc5v3n/t683Ft3AhTogSJ0SJE6LECVHihChxQpQ4IUqcECXOb95/SYBbfvGIOCFKnOPeMzxdtccEcd56/xmmc1pGifOhvceasck0cY54/69S4J44p+w33IxNZolz3K53r7Q6IEuIc962fZqZLCTOh/ZYOmGPJR74rcQ5Zds+lclTxDnjps/XEr15ojJZwuK589YsgLtm4V0+nDiXejZRWbKSOJ8zmuiSp8CzxPmKJd+CapKVxLmKAtmPT2shSpwQJU6IEidEiROixAlR4oQocUKUOCFKnBAlTogSJ0SJE6LECVHihChxQpQ4IUqcECVOiBInRIkTosQJUeKEKHFClDghSpwQJU6IEidEiROixAlR4oQocUKUOCFKnBAlTogSJ0SJE6LECVHihChxQpQ4IUqcECVOiBInRIkTosQJUeKEKHFClDghSpwQJU6IEidEiROixAlR4oQocUKUOCFKnBAlTogSJ0SJE6LECVHihChxQpQ4IUqcECVOiBInRIkTosQJUeKEKHFClDghSpwQJU6IEidEiROixAlR4oQocUKUOCFKnBAlTogSJ0SJE6LECVHihChxQpQ4IUqcECVOiBInRIkTosQJUeKEKHFClDghSpwQJU6IEidEiROixAlR4oQocUKUOCFKnBAlTogSJ0SJE6LECVHihChxQpQ4IUqcECVOiBInRIkTosQJUeKEKHFClDghSpwQJU6IEidEiROixAlR4oQocUKUOCFKnBAlTogSJ0SJE6LECVHihChxQpQ4IUqcECVOiBInRIkTosQJUeKEKHFClDghSpwQJU6IEidEiROixAlR4oQocUKUOCFKnBAlTogSJ0SJE6LECVHihChxQpQ4IUqcECVOiBInRIkTosQJUeKEKHFClDghSpwQJU6IEidEiROixAlR4oQocUKUOCHq6+gDYN75fD76EI7XfxGGYdh2hyYnRIkTopzW/gCbny/xI5icECVOiBInRIkTosQJUeKEKHFClDghSpwQJU6IEidEiROixAlR4oQocUKUOCFKnBAlTogSJ0SJE6LECQAAAPBh/gLkBrZ9QrhuSAAAAABJRU5ErkJggg==",
        "encoding": "base64",
        "path": [
         "value"
        ]
       }
      ],
      "model_module": "@jupyter-widgets/controls",
      "model_module_version": "1.5.0",
      "model_name": "ImageModel",
      "state": {
       "layout": "IPY_MODEL_670298a6ac484d5b94660dcd3a7ff3d7"
      }
     },
     "1fd7ee9c35f54bb19e49e2b96b2e2859": {
      "model_module": "@jupyter-widgets/controls",
      "model_module_version": "1.5.0",
      "model_name": "DescriptionStyleModel",
      "state": {
       "description_width": ""
      }
     },
     "1fef1ecc2cd5461ab1505f486e40853a": {
      "model_module": "@jupyter-widgets/controls",
      "model_module_version": "1.5.0",
      "model_name": "VBoxModel",
      "state": {
       "children": [
        "IPY_MODEL_1430270f24744f85bfcedac4cb3b6bfa",
        "IPY_MODEL_2b4052024c3f4202b16dedde01318911"
       ],
       "layout": "IPY_MODEL_f7739d5383a545ecb492481b566b247d"
      }
     },
     "1ffc2c9862564af5ac8224d8850c73e2": {
      "model_module": "@jupyter-widgets/controls",
      "model_module_version": "1.5.0",
      "model_name": "ButtonStyleModel",
      "state": {}
     },
     "200d0ab159cd4c448d78fe1125f8ab60": {
      "model_module": "@jupyter-widgets/controls",
      "model_module_version": "1.5.0",
      "model_name": "ButtonModel",
      "state": {
       "button_style": "warning",
       "description": "E",
       "disabled": true,
       "layout": "IPY_MODEL_616fa9fcb87245e2ad5b64739c78a5f3",
       "style": "IPY_MODEL_5967230a50d44a33b283c600fa015024"
      }
     },
     "20154f7cacda48caa88ab4586e432ce3": {
      "model_module": "@jupyter-widgets/controls",
      "model_module_version": "1.5.0",
      "model_name": "HBoxModel",
      "state": {
       "children": [
        "IPY_MODEL_95dab46fd7794a6ca63064a5e42f933d",
        "IPY_MODEL_3a23625d003f47f49afea5724ea9338b",
        "IPY_MODEL_7ab9b744b42d4299b9f1d9f4cc01d381",
        "IPY_MODEL_388abae499b44dbda6e074f161d2f307",
        "IPY_MODEL_b5876320fc1b4ff1b486cad560287755",
        "IPY_MODEL_1390a0d98fdb4e21981a812ae0527699",
        "IPY_MODEL_9cdd3c2ce54d46f7bd5041469ef22746",
        "IPY_MODEL_ef09597b59ee4f23b1b64b715d44860c",
        "IPY_MODEL_9a38d872eaea4021a229f18a89ce71de",
        "IPY_MODEL_0769019c367a49f3945728839c8edb3b",
        "IPY_MODEL_183f166913e5430cb0d623f4eec17aa6",
        "IPY_MODEL_8f5d48a4425c4b51b0c361f84df33f48",
        "IPY_MODEL_b185f31f144a45f6a31f2028ce063473",
        "IPY_MODEL_5144a3ca41a845419aad5e6d954b0afc",
        "IPY_MODEL_d62fb57b316f4b329d375717ebf6aebf",
        "IPY_MODEL_1314489c75844ea2b1774d4c2da9b5db",
        "IPY_MODEL_fb362e15960d41f98ddbcb999701830b",
        "IPY_MODEL_3099fbaeda744d90aab3cb6a20aad31f",
        "IPY_MODEL_e9aea2678509432d9b70d806651023be",
        "IPY_MODEL_9495a3d5e79440a0af2c6b940d4c9b08",
        "IPY_MODEL_c8b5f41fed2b4312b44f85b41f989c5b",
        "IPY_MODEL_04832090f344435ea41d6a3a93b0cdeb",
        "IPY_MODEL_6bb308a709f3455c9f280266445dc507",
        "IPY_MODEL_aa8fdfa83be743cd93f74b6d41e3bacd",
        "IPY_MODEL_10dd27c7011641d0bcbb693985ca4174",
        "IPY_MODEL_9788cf52ca6947d69540b7bd98698670"
       ],
       "layout": "IPY_MODEL_077515fc81944112bb781696e33554a9"
      }
     },
     "20179939c0c349f3a12fa45fc68addfb": {
      "model_module": "@jupyter-widgets/controls",
      "model_module_version": "1.5.0",
      "model_name": "HTMLModel",
      "state": {
       "layout": "IPY_MODEL_0f28e253f81e4461bc20c62e671720dc",
       "style": "IPY_MODEL_8422810f6dee4a82a4422f1d898167a9",
       "value": "<h3>Player Result</h3>"
      }
     },
     "202b57f46a4c43989193e51e23d0c4a7": {
      "model_module": "@jupyter-widgets/base",
      "model_module_version": "1.2.0",
      "model_name": "LayoutModel",
      "state": {
       "width": "500px"
      }
     },
     "20368496fa78470b86c36ce1c56e21d0": {
      "model_module": "@jupyter-widgets/base",
      "model_module_version": "1.2.0",
      "model_name": "LayoutModel",
      "state": {}
     },
     "20532cc009944153ba202290e1dbfaf0": {
      "model_module": "@jupyter-widgets/base",
      "model_module_version": "1.2.0",
      "model_name": "LayoutModel",
      "state": {
       "grid_template_areas": "\"header header header\"\n\"left-sidebar center center\"\n\"footer footer footer\"",
       "grid_template_columns": "1fr 2fr 1fr",
       "grid_template_rows": "1fr 3fr 1fr"
      }
     },
     "2058250acb014e78832bc9545766a0b0": {
      "model_module": "@jupyter-widgets/base",
      "model_module_version": "1.2.0",
      "model_name": "LayoutModel",
      "state": {
       "width": "500px"
      }
     },
     "205e893092d24658a6aae3705804fbab": {
      "model_module": "@jupyter-widgets/controls",
      "model_module_version": "1.5.0",
      "model_name": "VBoxModel",
      "state": {
       "children": [
        "IPY_MODEL_48f7f92efab04e54a650e3f05cba3124"
       ],
       "layout": "IPY_MODEL_fb900482bb844dcfbaac61f41dce84f6"
      }
     },
     "207818771b1a47c79d44585967b8e687": {
      "model_module": "@jupyter-widgets/base",
      "model_module_version": "1.2.0",
      "model_name": "LayoutModel",
      "state": {
       "margin": "20px 0px 0px 20px"
      }
     },
     "20818c35a2f247198b950a2770a166ab": {
      "model_module": "@jupyter-widgets/base",
      "model_module_version": "1.2.0",
      "model_name": "LayoutModel",
      "state": {
       "grid_area": "left-sidebar"
      }
     },
     "20f2b87a095b44c6be0591d892aa3058": {
      "model_module": "@jupyter-widgets/base",
      "model_module_version": "1.2.0",
      "model_name": "LayoutModel",
      "state": {
       "grid_area": "left-sidebar"
      }
     },
     "20f7416b602f4c268272c8cc280c30b4": {
      "model_module": "@jupyter-widgets/controls",
      "model_module_version": "1.5.0",
      "model_name": "HTMLModel",
      "state": {
       "layout": "IPY_MODEL_57c908a427ca474ca0fff825d816b882",
       "style": "IPY_MODEL_fc1c554516e648cea0a4993b64755caf",
       "value": "<h2><font color='black'>Remaining Guesses:                          0</h2>"
      }
     },
     "211097f024a6413fb5ef17e01fb758fb": {
      "model_module": "@jupyter-widgets/base",
      "model_module_version": "1.2.0",
      "model_name": "LayoutModel",
      "state": {
       "margin": "0px 0px 0px 100px"
      }
     },
     "211ab5e0fcc243fc8ed0165acf182d24": {
      "model_module": "@jupyter-widgets/base",
      "model_module_version": "1.2.0",
      "model_name": "LayoutModel",
      "state": {
       "width": "500px"
      }
     },
     "2143aee3d80c464894ee19441e9634a5": {
      "model_module": "@jupyter-widgets/base",
      "model_module_version": "1.2.0",
      "model_name": "LayoutModel",
      "state": {
       "height": "25px",
       "width": "33px"
      }
     },
     "216afad8f960432ea771faf276e9cac4": {
      "model_module": "@jupyter-widgets/controls",
      "model_module_version": "1.5.0",
      "model_name": "VBoxModel",
      "state": {
       "children": [
        "IPY_MODEL_4f4925d6fe4246e9ae3a60239147b49c",
        "IPY_MODEL_70ada50657004bac9cca8ed3d361d344",
        "IPY_MODEL_2f5382d2f5cc441693545234ed04c6a5"
       ],
       "layout": "IPY_MODEL_dcc1d0af1de148e8a3e4e4618fafb130"
      }
     },
     "218898720e354447b60dfdd3ffa99791": {
      "model_module": "@jupyter-widgets/base",
      "model_module_version": "1.2.0",
      "model_name": "LayoutModel",
      "state": {
       "margin": "0px 0px 0px 100px"
      }
     },
     "219edbcc0a3044629c392dcd96278666": {
      "model_module": "@jupyter-widgets/controls",
      "model_module_version": "1.5.0",
      "model_name": "HTMLModel",
      "state": {
       "layout": "IPY_MODEL_d47c471a863a4b748610b010fe83a979",
       "style": "IPY_MODEL_0756916e04da4a04abcba2b6b38ea376",
       "value": "<h1><font color='blue'> You Win! </h1>"
      }
     },
     "21a5027fec4d4f5b88e1a5998f5f1e4a": {
      "model_module": "@jupyter-widgets/base",
      "model_module_version": "1.2.0",
      "model_name": "LayoutModel",
      "state": {
       "height": "auto"
      }
     },
     "21ed15dfa6794a01ad71e24df6e9a4f1": {
      "model_module": "@jupyter-widgets/controls",
      "model_module_version": "1.5.0",
      "model_name": "ButtonStyleModel",
      "state": {}
     },
     "21ef805603ae45de9eef23021b40163e": {
      "model_module": "@jupyter-widgets/base",
      "model_module_version": "1.2.0",
      "model_name": "LayoutModel",
      "state": {
       "margin": "0px 0px 0px 100px"
      }
     },
     "222aebe576d0413487fa77b689b4aaa1": {
      "model_module": "@jupyter-widgets/controls",
      "model_module_version": "1.5.0",
      "model_name": "ButtonStyleModel",
      "state": {}
     },
     "2236c7439f914c829cf3e78e12c1c5c2": {
      "model_module": "@jupyter-widgets/controls",
      "model_module_version": "1.5.0",
      "model_name": "HTMLModel",
      "state": {
       "layout": "IPY_MODEL_56ff0a98de8c496cba6582499c56cc19",
       "style": "IPY_MODEL_5789ebf3af3f43d8b1eb01517c1ec7ad",
       "value": "<h1><font color=green>Secret Word:                          mouse</h1>"
      }
     },
     "2237456f44a54f1e84bc712ebffcd5db": {
      "model_module": "@jupyter-widgets/base",
      "model_module_version": "1.2.0",
      "model_name": "LayoutModel",
      "state": {
       "margin": "0px 0px 0px 100px"
      }
     },
     "2242f544a6e64b7a8aa82b675e417fec": {
      "model_module": "@jupyter-widgets/controls",
      "model_module_version": "1.5.0",
      "model_name": "HTMLModel",
      "state": {
       "layout": "IPY_MODEL_97796b90ce7c4b3bbfd0b065df988a47",
       "style": "IPY_MODEL_593ea182082a4624af08c7331441d515",
       "value": "<h4>Games: 0</h4>"
      }
     },
     "226d4b77ec0c458da16dc75ea49d2800": {
      "model_module": "@jupyter-widgets/controls",
      "model_module_version": "1.5.0",
      "model_name": "ButtonModel",
      "state": {
       "button_style": "success",
       "description": "Play Again",
       "layout": "IPY_MODEL_11189c70cd4a4999afcc2a363b4cfa3d",
       "style": "IPY_MODEL_7e8068850c074e68875b7571ad86532e"
      }
     },
     "2288122d781c43f0b16633c5de53c71a": {
      "model_module": "@jupyter-widgets/controls",
      "model_module_version": "1.5.0",
      "model_name": "ButtonStyleModel",
      "state": {}
     },
     "2296047694284e34a7b0d01030109bf8": {
      "model_module": "@jupyter-widgets/controls",
      "model_module_version": "1.5.0",
      "model_name": "ButtonModel",
      "state": {
       "button_style": "warning",
       "description": "S",
       "layout": "IPY_MODEL_0902c96ed67741a0a831568e0e50edb0",
       "style": "IPY_MODEL_97c8603d47154b02bd73f175ea892dcd",
       "tooltip": "Click to guess S."
      }
     },
     "230bd9a6f4d14504b6a8d7aab1daa281": {
      "model_module": "@jupyter-widgets/controls",
      "model_module_version": "1.5.0",
      "model_name": "HBoxModel",
      "state": {
       "children": [
        "IPY_MODEL_9d49874eb9af45529fceb03799a89d36",
        "IPY_MODEL_a416537c61014ad1abd4c56dfd4afce9"
       ],
       "layout": "IPY_MODEL_404369386a5b41638590e7f213f112df"
      }
     },
     "23190d34500c4310ac2213d4430db6fd": {
      "model_module": "@jupyter-widgets/controls",
      "model_module_version": "1.5.0",
      "model_name": "HTMLModel",
      "state": {
       "layout": "IPY_MODEL_14b65f7f152d41d8a33767a6789382a3",
       "style": "IPY_MODEL_858d08e7336743b191a158ee335b9a2d",
       "value": "<h2><font color='black'>Remaining Guesses:                          4</h2>"
      }
     },
     "232871fdd6d74888948d1eca65d73a57": {
      "model_module": "@jupyter-widgets/controls",
      "model_module_version": "1.5.0",
      "model_name": "HBoxModel",
      "state": {
       "children": [
        "IPY_MODEL_a08d24dc3e34462bb77240eec718e412",
        "IPY_MODEL_1b4ad43c6c724715915c87c8b88c13a2"
       ],
       "layout": "IPY_MODEL_2c01943d7b48496fa44398f8c8e5141e"
      }
     },
     "236e8fc4c49a4f2a9eefb3b0544d01cc": {
      "model_module": "@jupyter-widgets/controls",
      "model_module_version": "1.5.0",
      "model_name": "ButtonModel",
      "state": {
       "button_style": "warning",
       "description": "K",
       "layout": "IPY_MODEL_ce81f4cab9ed4985bec2254ad7f2728a",
       "style": "IPY_MODEL_3ba98eb995a746dc952e4485a68e5888",
       "tooltip": "Click to guess K."
      }
     },
     "23701f4bd42e40efb5b41296a863ebe6": {
      "model_module": "@jupyter-widgets/controls",
      "model_module_version": "1.5.0",
      "model_name": "VBoxModel",
      "state": {
       "children": [
        "IPY_MODEL_592a13c334b041a7892edc95c06944d2",
        "IPY_MODEL_1f5a4e7336694ba0b8149bca02e70e38"
       ],
       "layout": "IPY_MODEL_498f6ba080ba491e88911f20e3120296"
      }
     },
     "23738f800e624be397c1bae102064920": {
      "model_module": "@jupyter-widgets/base",
      "model_module_version": "1.2.0",
      "model_name": "LayoutModel",
      "state": {
       "grid_area": "center"
      }
     },
     "237a302fde33472c8b6802dc8dc1714d": {
      "model_module": "@jupyter-widgets/controls",
      "model_module_version": "1.5.0",
      "model_name": "DescriptionStyleModel",
      "state": {
       "description_width": ""
      }
     },
     "237cbc4a6381450cab6cb4277536b1a9": {
      "model_module": "@jupyter-widgets/controls",
      "model_module_version": "1.5.0",
      "model_name": "ButtonStyleModel",
      "state": {}
     },
     "2382b793b76040068e89c17df58ef682": {
      "model_module": "@jupyter-widgets/controls",
      "model_module_version": "1.5.0",
      "model_name": "HTMLModel",
      "state": {
       "layout": "IPY_MODEL_19a91cef7083455ba30d52589c28e741",
       "style": "IPY_MODEL_2dc9b459d15845b3aa6a494d050f71c4",
       "value": "<h1><font color='blue'> You Lose </h1>"
      }
     },
     "2396148ec8854b4987c0b6e271f7c46f": {
      "model_module": "@jupyter-widgets/base",
      "model_module_version": "1.2.0",
      "model_name": "LayoutModel",
      "state": {
       "grid_area": "footer",
       "margin": "-60px 0px 0px 0px"
      }
     },
     "239816c8899448609684e9d87873f806": {
      "model_module": "@jupyter-widgets/controls",
      "model_module_version": "1.5.0",
      "model_name": "HBoxModel",
      "state": {
       "children": [
        "IPY_MODEL_d73587bdf809491196e1dcc775243552",
        "IPY_MODEL_b314afc2893a49c8994e885b4722d6d4",
        "IPY_MODEL_47ab727cf8994076bee490cbd9f9c177",
        "IPY_MODEL_8e1b792ef901400fabe2f3c8131e01db",
        "IPY_MODEL_2f792492869943a29eac11001736d409",
        "IPY_MODEL_e191f8d3f7fa48208794901b91882abb",
        "IPY_MODEL_b40d8e6bf9ee4d059defbf75986765a2",
        "IPY_MODEL_f00444081b214f69b3b637505de43d35",
        "IPY_MODEL_5f6e48e669294122a5031715955870fc",
        "IPY_MODEL_9314458ee8654422a6312fe2ee3026c0",
        "IPY_MODEL_f950305d525440d4b3eb062165599998",
        "IPY_MODEL_131808099d654f2ea1d0b0c9add67ddf",
        "IPY_MODEL_77a6a70a51ef4e53acd1784dcb224753",
        "IPY_MODEL_a57dee9cf9fb4aa28e81398015dd4595",
        "IPY_MODEL_18484de93976427d9bf877d0e3617b5a",
        "IPY_MODEL_2b9d0cf138f54c13a2614144afa4f6ce",
        "IPY_MODEL_7dd4a29620844d0e9e45f86990b4ecf6",
        "IPY_MODEL_083c6b67397440509a1d636294854935",
        "IPY_MODEL_9acb5074d502436eab501f1ea787ef11",
        "IPY_MODEL_7307186a1a10441f90ae29ebb326a964",
        "IPY_MODEL_b7d856e0940848e89ae55e53dd0fc4e8",
        "IPY_MODEL_65e1fb2af9a348198ea52d36c3a0026c",
        "IPY_MODEL_c8e1922212d24b7f8f3f5a308a020b54",
        "IPY_MODEL_cb0274c8430440578c1bbcffe7e386bd",
        "IPY_MODEL_0e10efab70a0475c8ed9c0f38d8d146b",
        "IPY_MODEL_7f615ff5940e4e77bcf0f04128bba39c"
       ],
       "layout": "IPY_MODEL_2d23dc61160d41e4bf0ccf3743c9c566"
      }
     },
     "239928f17d2b4813b0c2b8b83b276f12": {
      "model_module": "@jupyter-widgets/base",
      "model_module_version": "1.2.0",
      "model_name": "LayoutModel",
      "state": {
       "grid_area": "left-sidebar"
      }
     },
     "23baecd2fc7b48cc846f046b78964d1f": {
      "model_module": "@jupyter-widgets/base",
      "model_module_version": "1.2.0",
      "model_name": "LayoutModel",
      "state": {}
     },
     "23db7eb6fa7e4b9f82ba1a5d810f0965": {
      "model_module": "@jupyter-widgets/controls",
      "model_module_version": "1.5.0",
      "model_name": "ButtonModel",
      "state": {
       "button_style": "warning",
       "description": "Z",
       "layout": "IPY_MODEL_c0058e104e4340148b82a94c65eedd28",
       "style": "IPY_MODEL_6d4551609a3444eba52880499a0a1fe1",
       "tooltip": "Click to guess Z."
      }
     },
     "23e127328c564bdab58fea63a0dfde55": {
      "model_module": "@jupyter-widgets/controls",
      "model_module_version": "1.5.0",
      "model_name": "HTMLModel",
      "state": {
       "layout": "IPY_MODEL_0f6363f9bc1b4824940a041f2b371208",
       "style": "IPY_MODEL_ce7200908db14fb7afc261ee759da8e7",
       "value": "<h3>Player Result</h3>"
      }
     },
     "23effe09f7b74938a8d746b106af0058": {
      "model_module": "@jupyter-widgets/controls",
      "model_module_version": "1.5.0",
      "model_name": "ButtonModel",
      "state": {
       "button_style": "warning",
       "description": "G",
       "layout": "IPY_MODEL_415b9a1ebb4942d2995f0e794fd5b841",
       "style": "IPY_MODEL_3a891d380b5040de8aac25d65b494936",
       "tooltip": "Click to guess G."
      }
     },
     "23f1419364ee4e648e1ce29ec88ba407": {
      "model_module": "@jupyter-widgets/base",
      "model_module_version": "1.2.0",
      "model_name": "LayoutModel",
      "state": {
       "height": "25px",
       "width": "33px"
      }
     },
     "240031e23870420cbb076626258ca012": {
      "model_module": "@jupyter-widgets/base",
      "model_module_version": "1.2.0",
      "model_name": "LayoutModel",
      "state": {
       "margin": "0px 0px 0px 100px"
      }
     },
     "2420f7546aea4665aa5bec7a78cbc94c": {
      "model_module": "@jupyter-widgets/controls",
      "model_module_version": "1.5.0",
      "model_name": "VBoxModel",
      "state": {
       "children": [
        "IPY_MODEL_912851f5f5db40f397473f052068b2cf"
       ],
       "layout": "IPY_MODEL_ec24af71a93b4e58a102fb3f6028a1b0"
      }
     },
     "2420f80cb05146ecbe0473c5d3643edd": {
      "model_module": "@jupyter-widgets/base",
      "model_module_version": "1.2.0",
      "model_name": "LayoutModel",
      "state": {
       "height": "25px",
       "width": "33px"
      }
     },
     "24362021d1fa407d91123e3cef7b3ec2": {
      "model_module": "@jupyter-widgets/base",
      "model_module_version": "1.2.0",
      "model_name": "LayoutModel",
      "state": {}
     },
     "2451686cf8fc47829dcdcd2b1613505e": {
      "model_module": "@jupyter-widgets/base",
      "model_module_version": "1.2.0",
      "model_name": "LayoutModel",
      "state": {
       "grid_area": "left-sidebar"
      }
     },
     "246725de74864bf5bc2b92868ae72c73": {
      "model_module": "@jupyter-widgets/controls",
      "model_module_version": "1.5.0",
      "model_name": "ButtonStyleModel",
      "state": {}
     },
     "246d24b0aa1642ebbe5ad0bcd5671386": {
      "model_module": "@jupyter-widgets/base",
      "model_module_version": "1.2.0",
      "model_name": "LayoutModel",
      "state": {
       "height": "25px",
       "width": "33px"
      }
     },
     "249ef2be250747d7a0ee37ef3fe1924b": {
      "model_module": "@jupyter-widgets/base",
      "model_module_version": "1.2.0",
      "model_name": "LayoutModel",
      "state": {
       "grid_area": "header"
      }
     },
     "24fdd5e0b7ea48b19464ecbeca8f3afe": {
      "model_module": "@jupyter-widgets/base",
      "model_module_version": "1.2.0",
      "model_name": "LayoutModel",
      "state": {
       "margin": "0px 0px 0px 70px"
      }
     },
     "251b32d5c7a14a34a0acbba0bfdec29f": {
      "model_module": "@jupyter-widgets/controls",
      "model_module_version": "1.5.0",
      "model_name": "HTMLModel",
      "state": {
       "layout": "IPY_MODEL_c39ece8665d0442595b902859edc7a88",
       "style": "IPY_MODEL_d6416aa318014756854994a523921fea",
       "value": "<h1><font color=black>Secret Word:                          _ l _ _</h1>"
      }
     },
     "2544968f9940449e967ecad6ea8e39be": {
      "model_module": "@jupyter-widgets/base",
      "model_module_version": "1.2.0",
      "model_name": "LayoutModel",
      "state": {
       "grid_area": "left-sidebar"
      }
     },
     "257a8daa8f6f478a846ca60d5513f3ed": {
      "model_module": "@jupyter-widgets/controls",
      "model_module_version": "1.5.0",
      "model_name": "ButtonStyleModel",
      "state": {}
     },
     "25910dfb0c6b444ab7a0441bd019c1c9": {
      "model_module": "@jupyter-widgets/base",
      "model_module_version": "1.2.0",
      "model_name": "LayoutModel",
      "state": {
       "width": "500px"
      }
     },
     "25bb690cd93542a782625b03a15cbd99": {
      "model_module": "@jupyter-widgets/controls",
      "model_module_version": "1.5.0",
      "model_name": "HBoxModel",
      "state": {
       "children": [
        "IPY_MODEL_960f40f0bf4c4f68ba574301db577f76",
        "IPY_MODEL_804b10c2511a4bcf8d36162749c03ed3",
        "IPY_MODEL_27e6f4e02a8a4113b482ec54cea314b7",
        "IPY_MODEL_2da33f6755444d50b3fa48688c8c6735",
        "IPY_MODEL_4e046258d3174169a33bf7ee57920f3e",
        "IPY_MODEL_f5bece8fa0924dbca616a0027cddaf94",
        "IPY_MODEL_10d5b9e712334b64a58be78e0b0a5918",
        "IPY_MODEL_e87ce89cb4de4780ae607d997b617171",
        "IPY_MODEL_f84e0b443f9a46a7905df100dd2fc5ea",
        "IPY_MODEL_c3431322c394474ea77e4603f7180194",
        "IPY_MODEL_0b4ec0da1a36474ea160e502d04718e6",
        "IPY_MODEL_1b44afbf75bc4e91838dd215f39eea35",
        "IPY_MODEL_d6ec1b9fd87d44d88aa741280c0ef8a4",
        "IPY_MODEL_935efe69b8fa41b4828f94d4ce12bd0c",
        "IPY_MODEL_decf38df978c475f85b2ac31940ebb42",
        "IPY_MODEL_8bff6cf0a9924b41bb0220e97eb44c9e",
        "IPY_MODEL_0918c493a9f44933b3004f30100ddb91",
        "IPY_MODEL_29e95e0095744523b32d6bdd2c7d9d2a",
        "IPY_MODEL_0e693bf8ff0f4244af6018ec0d3f310f",
        "IPY_MODEL_0989e90b9a814a1fbc49d37215185782",
        "IPY_MODEL_d000a12700f64daba47c186cd0b2d27a",
        "IPY_MODEL_e99220f402314a1ba9f5917d228617ce",
        "IPY_MODEL_77178703b22e44f0b1e6f4907dd62a96",
        "IPY_MODEL_b5df5aa4686b42b78b68183d85e6da24",
        "IPY_MODEL_f7966b5cf4964d22998184afed10bbd1",
        "IPY_MODEL_23db7eb6fa7e4b9f82ba1a5d810f0965"
       ],
       "layout": "IPY_MODEL_ab5f44a07c9c4d1a966b1f46c51d0b6b"
      }
     },
     "25d4b426c470408bb31dd5743e7df99f": {
      "model_module": "@jupyter-widgets/controls",
      "model_module_version": "1.5.0",
      "model_name": "ButtonModel",
      "state": {
       "button_style": "warning",
       "description": "D",
       "disabled": true,
       "layout": "IPY_MODEL_b41c0a6fc55b442d8b65928aba101222",
       "style": "IPY_MODEL_d1b6b1396ba748abb1b0a912df88c133"
      }
     },
     "260650d675a648dabe059ea505227ab9": {
      "model_module": "@jupyter-widgets/base",
      "model_module_version": "1.2.0",
      "model_name": "LayoutModel",
      "state": {
       "margin": "0px 0px 0px 70px"
      }
     },
     "260e335c6a9545929444f8a862be36e9": {
      "model_module": "@jupyter-widgets/base",
      "model_module_version": "1.2.0",
      "model_name": "LayoutModel",
      "state": {}
     },
     "262dbdf35392407aa4c302592c5f2c2c": {
      "model_module": "@jupyter-widgets/base",
      "model_module_version": "1.2.0",
      "model_name": "LayoutModel",
      "state": {
       "height": "auto"
      }
     },
     "264133fc2d104960bf9c51bf9a6cf07b": {
      "model_module": "@jupyter-widgets/controls",
      "model_module_version": "1.5.0",
      "model_name": "ButtonStyleModel",
      "state": {}
     },
     "264198ab614e48a19bcb8740a4ead839": {
      "model_module": "@jupyter-widgets/base",
      "model_module_version": "1.2.0",
      "model_name": "LayoutModel",
      "state": {}
     },
     "26540069d8b14923bb0c18fcb7b063fc": {
      "buffers": [
       {
        "data": "iVBORw0KGgoAAAANSUhEUgAAATQAAAE0CAIAAAAt41jIAAAFhElEQVR4nO3d227iSBRAURj1//+y5wEpQ4MxxtedYa2ndASWFfXWqYqJfbkAAADAPq73/xiG4azzAC6Xy/X6X5L/nHgewARxQpQ4IUqcECVOiBInRIkTosQJUeKEKHFClDghSpwQJU6IEidEiROixAlR4oQocUKUOCFKnBAlTogSJ0SJE6LECVHihChxQpQ4IUqcECVOiBInRIkTosQJUeKEKHFC1J+zT+D/4/6B4WxrGIazT+EEJuc2lLmr7/zxihOiLGs39p0LsP1858y8MTkhSpwQJU6IEidEiROixAlR4oQocUKUOCFKnBAlTogSJ0SJE6LECVHihChxQpQ4IcqdEFZ5/jv9n++4JQIriXOJOffOUCkrifMzD1lOhPfzytsXEuVT4pxrfpb3L5Aoi4nzvU+zfH6xRFnAb2vfuC9zGIZlXT288Ztv98h84pzyUObKo+mTj4jzpW3LfD6OPpkmzve23SLacDKTOMftepXy55iGJxPEOWW/KWd+8pY4Rxw50AxPXhHnS3sPN8OTaeJ8dPwoMzwZJc5xx4w1w5MJ4oQocf7l+M++Pnz4Fn6IE6LECVHihChxQpQ4IUqcECVOiBInRInzL8d/JMAtv3hFnBAlznHHDE+f2mOCOB8dv8K0pmWUOF/ae6wZm0wT54jj/yoFnolzyn7DzdjkLXGO2/XulZ4OyBzifG/bPs1MZhLnS3s8OmGPRzzwfyXOKdv2qUw+Is43HvpclujDG5XJHB6e+96aB+CuefAuX06cc32aqCxZSZyfGU10zlvgU+JcYs5VUE2ykjhXea5Uk2zFb2shSpwQJU6IEidEiROixAlR4oQocUKUOCFKnBAlTogSJ0SJE6LECVHihChxQpQ4Ierr4vyNN1z/jefMet94m5Ln/+upe4tIkZtvjPPZiblKkVe+Ls7n6kbz2CnXmSmmJjln+bo4n+2XqxRZQ5wjFuf66pvTB4dR4pxlZq5z3ggziXOhh+rcVJrNfd11TvgtxAlR4oQocUKUOCFKnBAlTogSJ0SJE6LECVHihChxQpQ4IUqcECVOiBInRIkTosQJUeKEKHFClDghSpwQJU6IEidEiROixAlR4oQocUKUOCFKnBAlTogSJ0SJE6LEubGZj6OHt8QJUeLcxjAMP18bnmxCnLvQJ+uJczP3w/OiT1YT55Ye+oQ1xLkxm0+2Is596ZPFxLk9i1s2Ic5dWNyynjiPoE8WEOdeXFlhJXHuyOaTNcS5L5tPFhPnofTJfOLcncUty4jzCBa3LCDOE+iTOcR5EFdW+JQ4j2PzyUfEeSibT+YT55n0yQRxHs3ilpnEeQKLW+YQ5/n0yShxnsOVFd4S52lsPpkmzjPZfDJBnCH65J44T2ZxyyviPJ/FLaPEmaNPbsSZ4MoKz8RZYfPJA3GG2HxyT5xRBinibLk1qUwu4gxSJjfihChxQpQ4IUqcECVOiBInRIkTosQJUeKEKHFClDghSpwQJU6IEidEiROixAlR4oQocUKUOCFKnBAlTogSJ0SJE6LECVHihChxQpQ4IUqcECVOiBInRIkTosQJUeKEKHFClDghSpwQJU6IEidEiROixAlR4oQocUKUOCFKnBAlTogSJ0SJE6LECVHihChxQpQ4IUqcECVOiBInRIkTosQJUeKEKHFClDghSpwQJU6IEidEiROixAlR4oQocUKUOCFKnBAlTogSJ0SJE6LECVHihChxQpQ4IUqcECVOiBInRIkTosQJUeKEqD9nnwDvXa/Xs0/hfP0fwjAM2x7Q5IQocUKUZe0vsPl6iV/B5IQocUKUOCFKnBAlTogSJ0SJE6LECVHihChxQpQ4IUqcECVOiBInRIkTosQJUeKEKHFClDghSpwQJU4AAACAL/MvzgE3mokxXasAAAAASUVORK5CYII=",
        "encoding": "base64",
        "path": [
         "value"
        ]
       }
      ],
      "model_module": "@jupyter-widgets/controls",
      "model_module_version": "1.5.0",
      "model_name": "ImageModel",
      "state": {
       "layout": "IPY_MODEL_5bf28a1eaf1a41cdb8099f0d4a4869b5",
       "value": {}
      }
     },
     "266186772e8d41d78e624d3d0bfa33b2": {
      "model_module": "@jupyter-widgets/controls",
      "model_module_version": "1.5.0",
      "model_name": "VBoxModel",
      "state": {
       "children": [
        "IPY_MODEL_62680bbb181044e2ac4dd4264e763945",
        "IPY_MODEL_f9890b4dadea44ef9dd859edaae3ca3a"
       ],
       "layout": "IPY_MODEL_562bfd64ffac4e88b7accadf045e1808"
      }
     },
     "2670184461974a7994ba95eae55e4e07": {
      "model_module": "@jupyter-widgets/controls",
      "model_module_version": "1.5.0",
      "model_name": "ButtonStyleModel",
      "state": {}
     },
     "26b094031ffc4f8c9d6e939f69e62e38": {
      "buffers": [
       {
        "data": "iVBORw0KGgoAAAANSUhEUgAAATQAAAE0CAIAAAAt41jIAAAD0UlEQVR4nO3dMW7DMBAAQTLw/7/MFCnsymkocG3NdGqEg4DFsaLGAAAAgGvM14e11qk5gDHGnM8kfw7OAbwhTogSJ0SJE6LECVHihChxQpQ4IUqcECVOiBInRIkTosQJUeKEKHFClDghSpwQJU6IEidEiROixAlR4oQocUKUOCFKnBAlTogSJ0SJE6LECVHihChxQpQ4IUqcECVOiHqcHuB7vP4wnL3WWqdHOMDm3EOZl7rn5xUnRDnWbnbPA9h17rkz/9icECVOiBInRIkTosQJUeKEKHFClDghSpwQJU6IEidEiROixAlR4oQocUKUOCFKnBAlTohyTckebidhO5sTosQJUeKEKHFClDghSpwQJU6IEidEiROixAlR4oQocUKUOCFKnBAlTogSJ0SJE6LECVHihChxQpQ4IUqcECVOiBInRIkTosQJUeKEKHFClDghSpwQJU6IEidEiROixAlR4oQocUKUOCFKnBAlTogSJ0SJE6LECVHihChxQpQ4IUqcECVOiBInRIkTosQJUeKEKHFClDghSpwQJU6IEidEiROixAlR4oQocUKUOCFKnBAlTogSJ0SJE6LECVHihChxQpQ4IUqcECVOiBInRIkTosQJUeKEKHFClDghSpwQJU6IEidEiROixAlR4oQocUKUOCFKnBAlTogSJ0SJE6LECVHihChxQpQ4IUqcECVOiBInRIkTosQJUeKEKHFClDghSpwQJU6IEidEiROixAlR4oQocUKUOCFKnBAlTogSJ0SJE6LECVHihChxQpQ4IUqcECVOiBInRIkTosQJUeKEKHFClDghSpwQJU6IEidEiROixAlR4oQocUKUOCFKnBAlTogSJ0SJE6LECVHihChxQpQ4IUqcECVOiBInRIkTosQJUeKEKHFClDghSpwQJU6IEidEiROixAlR4oQocUKUOCFKnBAlTogSJ0SJE6LECVHihChxQpQ4IUqcECVOiBInRIkTosQJUeKEKHFClDghSpwQJU6IEidEiROixAlR4oQocUKUOCFKnBAlTogSJ0SJE6LECVHihChxQpQ4IUqcECVOiBInRIkTosQJUeKEKHFClDghSpwQJU6IEidEiROixAlR4oQocUKUOCFKnBAlTogSJ0SJE6LECVHihChxQpQ4IUqcECVOiBInRIkToh6nB+B/c87TI5zX/whrrb0vtDkhSpwQ5Vj7Abafl/gINidEiROixAlR4oQocUKUOCFKnBAlTogSJ0SJE6LECVHihChxQpQ4IUqcECVOiBInRIkTosQJUeKEKHECAAAA3Mwv+9AUZSTGP0IAAAAASUVORK5CYII=",
        "encoding": "base64",
        "path": [
         "value"
        ]
       }
      ],
      "model_module": "@jupyter-widgets/controls",
      "model_module_version": "1.5.0",
      "model_name": "ImageModel",
      "state": {
       "layout": "IPY_MODEL_929795e44aa74bb79f2a0e9765549028"
      }
     },
     "26b0dbf1b97e494aa20c00fe41dfd40e": {
      "model_module": "@jupyter-widgets/controls",
      "model_module_version": "1.5.0",
      "model_name": "DropdownModel",
      "state": {
       "_options_labels": [
        "Animals",
        "Car brands",
        "Colors",
        "Countries",
        "Fruits",
        "Shapes"
       ],
       "description": "Category",
       "index": 2,
       "layout": "IPY_MODEL_66ff151c62d8419fb2577464134a155b",
       "style": "IPY_MODEL_06845ab227c54f16a7e2a35449ed9f9b"
      }
     },
     "26c8ee0448854880b42aa4ae2784f697": {
      "model_module": "@jupyter-widgets/controls",
      "model_module_version": "1.5.0",
      "model_name": "DescriptionStyleModel",
      "state": {
       "description_width": ""
      }
     },
     "26c950fd160c4f9f9d0fea5507f957a3": {
      "model_module": "@jupyter-widgets/controls",
      "model_module_version": "1.5.0",
      "model_name": "VBoxModel",
      "state": {
       "children": [
        "IPY_MODEL_eb8459acd6b64f2ebb10e6c680e05515",
        "IPY_MODEL_1759fbaf2e02403a8a0180e131bb7076",
        "IPY_MODEL_e74298434f6b404981b32d6a644a119f"
       ],
       "layout": "IPY_MODEL_a91d95b231e149f8955259dd6772aca4"
      }
     },
     "26caa6fc5ba843b1877ca4649e005a74": {
      "model_module": "@jupyter-widgets/controls",
      "model_module_version": "1.5.0",
      "model_name": "HBoxModel",
      "state": {
       "children": [
        "IPY_MODEL_4d77a24ddbe641af8dce75a59e149058",
        "IPY_MODEL_13505815736b4b07b02631d274971e41"
       ],
       "layout": "IPY_MODEL_5a355b35fdab48b1a42cdefd9467790c"
      }
     },
     "26df95f4f9da4361b14fc09e11244de5": {
      "model_module": "@jupyter-widgets/base",
      "model_module_version": "1.2.0",
      "model_name": "LayoutModel",
      "state": {
       "margin": "0px 0px 0px 70px"
      }
     },
     "26f08b376b264dab93044ce9ea8208e2": {
      "model_module": "@jupyter-widgets/base",
      "model_module_version": "1.2.0",
      "model_name": "LayoutModel",
      "state": {
       "margin": "0px 0px 0px 100px"
      }
     },
     "272f27847cda4d0396f9b98c68355eb2": {
      "model_module": "@jupyter-widgets/base",
      "model_module_version": "1.2.0",
      "model_name": "LayoutModel",
      "state": {}
     },
     "27ae0cfb29114ebf8cc7857685c92e13": {
      "model_module": "@jupyter-widgets/controls",
      "model_module_version": "1.5.0",
      "model_name": "ButtonStyleModel",
      "state": {}
     },
     "27e6f4e02a8a4113b482ec54cea314b7": {
      "model_module": "@jupyter-widgets/controls",
      "model_module_version": "1.5.0",
      "model_name": "ButtonModel",
      "state": {
       "button_style": "warning",
       "description": "C",
       "layout": "IPY_MODEL_4776dbbd8b6a42349ec8fdcb30ccaf91",
       "style": "IPY_MODEL_ed155da4109c4b58af0235646d094133",
       "tooltip": "Click to guess C."
      }
     },
     "27f45b287ce1404a9396b59792b19fbf": {
      "model_module": "@jupyter-widgets/controls",
      "model_module_version": "1.5.0",
      "model_name": "ButtonModel",
      "state": {
       "button_style": "warning",
       "description": "R",
       "layout": "IPY_MODEL_03f0015eddc343e0b49bc04ed0e365ee",
       "style": "IPY_MODEL_cdd477ae270c498d8f6e86564f382dd5",
       "tooltip": "Click to guess R."
      }
     },
     "28145b8a6871424792c6fa0d9a142843": {
      "model_module": "@jupyter-widgets/base",
      "model_module_version": "1.2.0",
      "model_name": "LayoutModel",
      "state": {
       "height": "25px",
       "width": "33px"
      }
     },
     "2817ade7986546d1a4cf1521f0d9e5ba": {
      "model_module": "@jupyter-widgets/controls",
      "model_module_version": "1.5.0",
      "model_name": "DescriptionStyleModel",
      "state": {
       "description_width": ""
      }
     },
     "2822c59df9ac4e9283bf27ec529497bb": {
      "model_module": "@jupyter-widgets/controls",
      "model_module_version": "1.5.0",
      "model_name": "DescriptionStyleModel",
      "state": {
       "description_width": ""
      }
     },
     "28666553b1df4bc487cdbf0f9e609edc": {
      "model_module": "@jupyter-widgets/controls",
      "model_module_version": "1.5.0",
      "model_name": "DescriptionStyleModel",
      "state": {
       "description_width": ""
      }
     },
     "28712d900856420587301027b0c75ade": {
      "model_module": "@jupyter-widgets/controls",
      "model_module_version": "1.5.0",
      "model_name": "ButtonModel",
      "state": {
       "button_style": "warning",
       "description": "D",
       "layout": "IPY_MODEL_415ffd5b99734e7896678346a4f67d00",
       "style": "IPY_MODEL_fb1d1da173fc4bf3ac93dd13747d241a",
       "tooltip": "Click to guess D."
      }
     },
     "28885d4cdf2c49f4b6130c5fdf99fde7": {
      "model_module": "@jupyter-widgets/controls",
      "model_module_version": "1.5.0",
      "model_name": "GridBoxModel",
      "state": {
       "children": [
        "IPY_MODEL_232871fdd6d74888948d1eca65d73a57",
        "IPY_MODEL_49e8a142daba4116b41be2cc7595eae2",
        "IPY_MODEL_4d7dbde9c74143a2a7040209d72d7d15",
        "IPY_MODEL_81649f3b59b14d19b96edb0b6cfdabf2"
       ],
       "layout": "IPY_MODEL_20532cc009944153ba202290e1dbfaf0"
      }
     },
     "28991d2cddda4dac93555bc7658fb51d": {
      "model_module": "@jupyter-widgets/base",
      "model_module_version": "1.2.0",
      "model_name": "LayoutModel",
      "state": {}
     },
     "289c0821cbd54289b8b14969e9960b62": {
      "model_module": "@jupyter-widgets/controls",
      "model_module_version": "1.5.0",
      "model_name": "HTMLModel",
      "state": {
       "layout": "IPY_MODEL_eb56021426e54cd1b44bb6d602cf2ce3",
       "style": "IPY_MODEL_6fe40780c17048af9c5d6fb1bb768ad1",
       "value": "<h1><font color=black>Secret Word:                          _ l _ _</h1>"
      }
     },
     "28d38bbf2af64e03bb3bb4a33aee0d8a": {
      "model_module": "@jupyter-widgets/controls",
      "model_module_version": "1.5.0",
      "model_name": "ButtonModel",
      "state": {
       "button_style": "warning",
       "description": "R",
       "disabled": true,
       "layout": "IPY_MODEL_7a8efe03330c4757afcc964432e98984",
       "style": "IPY_MODEL_821142ad0e28409295151f4464d3a323"
      }
     },
     "28e0b8e37c434e308d6e78c26d6eea96": {
      "model_module": "@jupyter-widgets/base",
      "model_module_version": "1.2.0",
      "model_name": "LayoutModel",
      "state": {
       "height": "25px",
       "width": "33px"
      }
     },
     "28fcfde533414792baf466025112374e": {
      "model_module": "@jupyter-widgets/controls",
      "model_module_version": "1.5.0",
      "model_name": "HTMLModel",
      "state": {
       "layout": "IPY_MODEL_a81f0b62bb74466590c30d9f6e71762c",
       "style": "IPY_MODEL_d2a9f7f367fc4c649fda8e27780a4c06",
       "value": "<h2><font color='black'>Remaining Guesses:                          -2</h2>"
      }
     },
     "29317ce9b9524f38ab09906a29f2bbf8": {
      "model_module": "@jupyter-widgets/controls",
      "model_module_version": "1.5.0",
      "model_name": "ButtonStyleModel",
      "state": {}
     },
     "293d36113b86496ea1c272dc0120ce72": {
      "model_module": "@jupyter-widgets/controls",
      "model_module_version": "1.5.0",
      "model_name": "ButtonStyleModel",
      "state": {}
     },
     "29557cbf40484d5eab4aed69f7bdfa9b": {
      "model_module": "@jupyter-widgets/base",
      "model_module_version": "1.2.0",
      "model_name": "LayoutModel",
      "state": {
       "grid_area": "left-sidebar"
      }
     },
     "29a6ab9e6ca245eabd7175053c45bf6f": {
      "model_module": "@jupyter-widgets/controls",
      "model_module_version": "1.5.0",
      "model_name": "VBoxModel",
      "state": {
       "children": [
        "IPY_MODEL_48f7f92efab04e54a650e3f05cba3124"
       ],
       "layout": "IPY_MODEL_6b08d063bfc94798a87d4bc48dbc01a1"
      }
     },
     "29a859784a5a4e2f90bcdfde1ee9e779": {
      "model_module": "@jupyter-widgets/base",
      "model_module_version": "1.2.0",
      "model_name": "LayoutModel",
      "state": {}
     },
     "29b9efb718d7414da856cccf9b628c2b": {
      "model_module": "@jupyter-widgets/controls",
      "model_module_version": "1.5.0",
      "model_name": "HTMLModel",
      "state": {
       "layout": "IPY_MODEL_8b8f61f9de164c46baf7db9a2776634e",
       "style": "IPY_MODEL_5a0f81e46fe44aee9b1db24851f8a4bd",
       "value": "<h2><font color='black'>Remaining Guesses:                          4</h2>"
      }
     },
     "29d068a818ea4b38a3c704930c1445f9": {
      "model_module": "@jupyter-widgets/controls",
      "model_module_version": "1.5.0",
      "model_name": "DescriptionStyleModel",
      "state": {
       "description_width": ""
      }
     },
     "29d71e8d4512423bb312dd85bb7fa109": {
      "model_module": "@jupyter-widgets/base",
      "model_module_version": "1.2.0",
      "model_name": "LayoutModel",
      "state": {
       "height": "25px",
       "width": "33px"
      }
     },
     "29e95e0095744523b32d6bdd2c7d9d2a": {
      "model_module": "@jupyter-widgets/controls",
      "model_module_version": "1.5.0",
      "model_name": "ButtonModel",
      "state": {
       "button_style": "warning",
       "description": "R",
       "layout": "IPY_MODEL_dc7fb70ea0024fc89cb426cd9d6ca90a",
       "style": "IPY_MODEL_f2021ad65df448efa162551106f8cdb7",
       "tooltip": "Click to guess R."
      }
     },
     "29eb053e9db64948aa0d66cd4795e88f": {
      "model_module": "@jupyter-widgets/base",
      "model_module_version": "1.2.0",
      "model_name": "LayoutModel",
      "state": {
       "grid_area": "center"
      }
     },
     "2a055265068948a08fc9e669a4152381": {
      "model_module": "@jupyter-widgets/controls",
      "model_module_version": "1.5.0",
      "model_name": "DescriptionStyleModel",
      "state": {
       "description_width": ""
      }
     },
     "2a41091b28824c55b456fb29fe938f90": {
      "model_module": "@jupyter-widgets/controls",
      "model_module_version": "1.5.0",
      "model_name": "VBoxModel",
      "state": {
       "children": [
        "IPY_MODEL_ca31799f11344e3b97e0789b8123d325",
        "IPY_MODEL_cd59df32a1e6413b9b17d717d2b7b2cd",
        "IPY_MODEL_ceff146cdbdc4c5aa8a7186a716330c2"
       ],
       "layout": "IPY_MODEL_35659138925b48beb91c82477494ba29"
      }
     },
     "2a4570ddd533428a93d3578348990048": {
      "model_module": "@jupyter-widgets/controls",
      "model_module_version": "1.5.0",
      "model_name": "ButtonStyleModel",
      "state": {}
     },
     "2a6d27b4bfe64ae39fecbac75772bc1a": {
      "model_module": "@jupyter-widgets/controls",
      "model_module_version": "1.5.0",
      "model_name": "ButtonStyleModel",
      "state": {}
     },
     "2a6e7508a8f940b78ff951c7bdc528fd": {
      "model_module": "@jupyter-widgets/controls",
      "model_module_version": "1.5.0",
      "model_name": "VBoxModel",
      "state": {
       "children": [
        "IPY_MODEL_48f7f92efab04e54a650e3f05cba3124"
       ],
       "layout": "IPY_MODEL_ecd9bd61a7f24cca850662bdde5fe249"
      }
     },
     "2abe71cf05a1493482ad58ff910e4bf9": {
      "model_module": "@jupyter-widgets/controls",
      "model_module_version": "1.5.0",
      "model_name": "ButtonModel",
      "state": {
       "button_style": "warning",
       "description": "X",
       "disabled": true,
       "layout": "IPY_MODEL_809e621045624be0b3c1fba71de0cbf5",
       "style": "IPY_MODEL_8b67d9b5b0d948f4bda2ab27a5671c11"
      }
     },
     "2ae9943753b641d88e88b2cefa27210a": {
      "model_module": "@jupyter-widgets/base",
      "model_module_version": "1.2.0",
      "model_name": "LayoutModel",
      "state": {
       "height": "auto"
      }
     },
     "2b0ba44d183448ccb0ac7cae99730955": {
      "model_module": "@jupyter-widgets/controls",
      "model_module_version": "1.5.0",
      "model_name": "HTMLModel",
      "state": {
       "layout": "IPY_MODEL_aab4147de9f7419b8ba5ffe8aa4baea2",
       "style": "IPY_MODEL_74f205f6d2964cc49f04e4abeee80547",
       "value": "<h1><font color=red>Secret Word:                          indigo</h1>"
      }
     },
     "2b356d017df942358f663cd63397a2ba": {
      "model_module": "@jupyter-widgets/controls",
      "model_module_version": "1.5.0",
      "model_name": "HTMLModel",
      "state": {
       "layout": "IPY_MODEL_c829cdaca0ca4ba3b8221c3f9f5fcddd",
       "style": "IPY_MODEL_59b712e8683a4a3a96e4ccb758298be9",
       "value": "<h3>Click on a letter below to guess the word.</h3>"
      }
     },
     "2b4052024c3f4202b16dedde01318911": {
      "model_module": "@jupyter-widgets/controls",
      "model_module_version": "1.5.0",
      "model_name": "HTMLModel",
      "state": {
       "layout": "IPY_MODEL_c5342032064b463798aae93a8339665e",
       "style": "IPY_MODEL_45eac5f645b6492e8933345491aa49d3",
       "value": "<h2><font color='black'>Remaining Guesses:                          5</h2>"
      }
     },
     "2b5eafee130146beb17c92a7270ae46f": {
      "model_module": "@jupyter-widgets/controls",
      "model_module_version": "1.5.0",
      "model_name": "ButtonModel",
      "state": {
       "button_style": "warning",
       "description": "U",
       "layout": "IPY_MODEL_e804d383721b4ced9566888b02714805",
       "style": "IPY_MODEL_7390de7b21ed476cb18c35404c5b627d",
       "tooltip": "Click to guess U."
      }
     },
     "2b691dcc5d5d4cc7a680e7896cc01a6c": {
      "model_module": "@jupyter-widgets/controls",
      "model_module_version": "1.5.0",
      "model_name": "ButtonStyleModel",
      "state": {}
     },
     "2b9d0cf138f54c13a2614144afa4f6ce": {
      "model_module": "@jupyter-widgets/controls",
      "model_module_version": "1.5.0",
      "model_name": "ButtonModel",
      "state": {
       "button_style": "warning",
       "description": "P",
       "disabled": true,
       "layout": "IPY_MODEL_86c88a1141b046baa407bf34db13270e",
       "style": "IPY_MODEL_3101192413974f708aeb3cb6a8c931a7"
      }
     },
     "2ba076f23008437084739dbcb400be4c": {
      "model_module": "@jupyter-widgets/controls",
      "model_module_version": "1.5.0",
      "model_name": "HBoxModel",
      "state": {
       "children": [
        "IPY_MODEL_c1a5fce7eb6f468288b38d65db0e1cb8",
        "IPY_MODEL_5c4da234f8b94d2e821c49f391038c7e"
       ],
       "layout": "IPY_MODEL_91c235e146764206b0a5f2bd487b74e6"
      }
     },
     "2ba554488ffd4289a529c8e75effd6ae": {
      "model_module": "@jupyter-widgets/base",
      "model_module_version": "1.2.0",
      "model_name": "LayoutModel",
      "state": {
       "height": "auto"
      }
     },
     "2bd9ddfd37984a508ecdadc94399621b": {
      "model_module": "@jupyter-widgets/controls",
      "model_module_version": "1.5.0",
      "model_name": "DescriptionStyleModel",
      "state": {
       "description_width": ""
      }
     },
     "2be7111eae0545df88404b05af8cef87": {
      "model_module": "@jupyter-widgets/controls",
      "model_module_version": "1.5.0",
      "model_name": "ButtonModel",
      "state": {
       "button_style": "warning",
       "description": "N",
       "layout": "IPY_MODEL_2f5ebaf50a834727b1b9e42e5862eff9",
       "style": "IPY_MODEL_781f5dffb324426eb79ce9881d1fd078",
       "tooltip": "Click to guess N."
      }
     },
     "2be7d7345d77456d9efea22554ae2479": {
      "model_module": "@jupyter-widgets/controls",
      "model_module_version": "1.5.0",
      "model_name": "HTMLModel",
      "state": {
       "layout": "IPY_MODEL_b4ce5e21da54423ab85309790234a2de",
       "style": "IPY_MODEL_fb3c12f00a094c40a74a8f9df2da7e14",
       "value": "<h4>Games: 0</h4>"
      }
     },
     "2bed969f5f834f3eb7f1c92567d9b369": {
      "model_module": "@jupyter-widgets/base",
      "model_module_version": "1.2.0",
      "model_name": "LayoutModel",
      "state": {
       "height": "25px",
       "width": "33px"
      }
     },
     "2c01943d7b48496fa44398f8c8e5141e": {
      "model_module": "@jupyter-widgets/base",
      "model_module_version": "1.2.0",
      "model_name": "LayoutModel",
      "state": {
       "grid_area": "header"
      }
     },
     "2c176dcac1c342a58df0b58125c9ff00": {
      "model_module": "@jupyter-widgets/base",
      "model_module_version": "1.2.0",
      "model_name": "LayoutModel",
      "state": {}
     },
     "2c414b4d16e9457fa011957907ecba2a": {
      "model_module": "@jupyter-widgets/controls",
      "model_module_version": "1.5.0",
      "model_name": "HTMLModel",
      "state": {
       "layout": "IPY_MODEL_dfcfbe9e5b954b048f6404ab5d969e05",
       "style": "IPY_MODEL_a94428ae9a3d4e92a82caa278f0d8840",
       "value": "<h3>Click on a letter below to guess the word.</h3>"
      }
     },
     "2c868dfe29cf4c25a131d7a02724d292": {
      "model_module": "@jupyter-widgets/controls",
      "model_module_version": "1.5.0",
      "model_name": "VBoxModel",
      "state": {
       "children": [
        "IPY_MODEL_4bdd8505ef73472aba0ef40f8f2f0061",
        "IPY_MODEL_ddeb3fba3ee44a6cb7e53f8cf42ed5c3",
        "IPY_MODEL_dedf07584a1d4420b06a2ab9b66e2da9"
       ],
       "layout": "IPY_MODEL_961b84c941534820af6768c42b50bf3c"
      }
     },
     "2c8a6d6564d34da7af68023d1f725be5": {
      "model_module": "@jupyter-widgets/base",
      "model_module_version": "1.2.0",
      "model_name": "LayoutModel",
      "state": {}
     },
     "2c9ac4c7b02145cfa9ace2d6c6bbca0f": {
      "model_module": "@jupyter-widgets/base",
      "model_module_version": "1.2.0",
      "model_name": "LayoutModel",
      "state": {
       "height": "25px",
       "width": "33px"
      }
     },
     "2cb2da5a85354620960159a6d2cf8491": {
      "model_module": "@jupyter-widgets/controls",
      "model_module_version": "1.5.0",
      "model_name": "HBoxModel",
      "state": {
       "children": [
        "IPY_MODEL_e050f07533b34e5a83c1da7cfc467dc5",
        "IPY_MODEL_5659a31930e6493da7a904124ebd2884"
       ],
       "layout": "IPY_MODEL_c8828579f97947b4a9a31476eaacdc5f"
      }
     },
     "2cd075d14b904f668d751fe5889efb67": {
      "model_module": "@jupyter-widgets/controls",
      "model_module_version": "1.5.0",
      "model_name": "ButtonStyleModel",
      "state": {}
     },
     "2cd5e3624a054f59b17e0969091af297": {
      "model_module": "@jupyter-widgets/controls",
      "model_module_version": "1.5.0",
      "model_name": "DescriptionStyleModel",
      "state": {
       "description_width": ""
      }
     },
     "2cdadf1f76e64202a37fee09632ef327": {
      "model_module": "@jupyter-widgets/controls",
      "model_module_version": "1.5.0",
      "model_name": "VBoxModel",
      "state": {
       "children": [
        "IPY_MODEL_1c837ca74e7646ca9e14e336c2b82cae",
        "IPY_MODEL_517b507f470f43af9191169432b8b6d1",
        "IPY_MODEL_0046fc969b0f4a98abd2de027e40f08a"
       ],
       "layout": "IPY_MODEL_0ffde204697e4b7b99b2fe718f8d4a24"
      }
     },
     "2ce348673e1d44228248b0907f6313c3": {
      "model_module": "@jupyter-widgets/base",
      "model_module_version": "1.2.0",
      "model_name": "LayoutModel",
      "state": {
       "margin": "0px 0px 0px 70px"
      }
     },
     "2d0563af90084dfd83a10b25276065db": {
      "buffers": [
       {
        "data": "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",
        "encoding": "base64",
        "path": [
         "value"
        ]
       }
      ],
      "model_module": "@jupyter-widgets/controls",
      "model_module_version": "1.5.0",
      "model_name": "ImageModel",
      "state": {
       "layout": "IPY_MODEL_ce69de32762646d69ec9936d8b1f5e79",
       "value": {}
      }
     },
     "2d1e9bf5fe0b4f69a9628c3140e46561": {
      "model_module": "@jupyter-widgets/base",
      "model_module_version": "1.2.0",
      "model_name": "LayoutModel",
      "state": {
       "grid_area": "left-sidebar"
      }
     },
     "2d23dc61160d41e4bf0ccf3743c9c566": {
      "model_module": "@jupyter-widgets/base",
      "model_module_version": "1.2.0",
      "model_name": "LayoutModel",
      "state": {}
     },
     "2d247cd5938e46c89a064843a3032ee1": {
      "model_module": "@jupyter-widgets/controls",
      "model_module_version": "1.5.0",
      "model_name": "ButtonStyleModel",
      "state": {}
     },
     "2d3b3dce33ca417b8de20ab58860b2d3": {
      "model_module": "@jupyter-widgets/controls",
      "model_module_version": "1.5.0",
      "model_name": "ButtonStyleModel",
      "state": {}
     },
     "2d43a640a24c45cb88b65172b585ebac": {
      "model_module": "@jupyter-widgets/base",
      "model_module_version": "1.2.0",
      "model_name": "LayoutModel",
      "state": {
       "height": "25px",
       "width": "33px"
      }
     },
     "2d6e42cca5a445a0ae8be1601fa212d2": {
      "model_module": "@jupyter-widgets/controls",
      "model_module_version": "1.5.0",
      "model_name": "VBoxModel",
      "state": {
       "children": [
        "IPY_MODEL_730c4bdbaa4b4c1da98b6b66234296ae",
        "IPY_MODEL_15c9be047db8472297f9ba83fd564c47",
        "IPY_MODEL_d1d57f8fe5da4fff9b81b249f85259a6"
       ],
       "layout": "IPY_MODEL_e1e7d7be0dbc4b2b9d2fa146005ffd22"
      }
     },
     "2d7cce29d0054980b139f9301b20887e": {
      "model_module": "@jupyter-widgets/base",
      "model_module_version": "1.2.0",
      "model_name": "LayoutModel",
      "state": {
       "margin": "0px 0px 0px 100px"
      }
     },
     "2d82058f79f648ca8b7f0897db80dd8b": {
      "model_module": "@jupyter-widgets/base",
      "model_module_version": "1.2.0",
      "model_name": "LayoutModel",
      "state": {
       "height": "25px",
       "width": "33px"
      }
     },
     "2da33f6755444d50b3fa48688c8c6735": {
      "model_module": "@jupyter-widgets/controls",
      "model_module_version": "1.5.0",
      "model_name": "ButtonModel",
      "state": {
       "button_style": "warning",
       "description": "D",
       "layout": "IPY_MODEL_12611c3b125444149320181d6f8df94b",
       "style": "IPY_MODEL_2b691dcc5d5d4cc7a680e7896cc01a6c",
       "tooltip": "Click to guess D."
      }
     },
     "2dc5648deb6a4fd894bd5a2ead722cef": {
      "model_module": "@jupyter-widgets/controls",
      "model_module_version": "1.5.0",
      "model_name": "GridBoxModel",
      "state": {
       "children": [
        "IPY_MODEL_075ce8a10cf54879bbbbde3a3a78411e",
        "IPY_MODEL_60dd8d34c2d74538b5d3fd9e2146cf26",
        "IPY_MODEL_ea5dcbc3b4d047d4b575253b07d73399",
        "IPY_MODEL_979e9aed457148829b819696d4f00181"
       ],
       "layout": "IPY_MODEL_68193ef120254ed6a0f673e8a41eb0b8"
      }
     },
     "2dc9b459d15845b3aa6a494d050f71c4": {
      "model_module": "@jupyter-widgets/controls",
      "model_module_version": "1.5.0",
      "model_name": "DescriptionStyleModel",
      "state": {
       "description_width": ""
      }
     },
     "2e026a1cf9a44a6ebe0d936f943d2a7c": {
      "model_module": "@jupyter-widgets/base",
      "model_module_version": "1.2.0",
      "model_name": "LayoutModel",
      "state": {
       "width": "500px"
      }
     },
     "2e134a0b9eb249468391ef043f6f4fce": {
      "model_module": "@jupyter-widgets/base",
      "model_module_version": "1.2.0",
      "model_name": "LayoutModel",
      "state": {
       "margin": "0px 0px 0px 100px"
      }
     },
     "2e3105168f854c159af91b646a770665": {
      "model_module": "@jupyter-widgets/controls",
      "model_module_version": "1.5.0",
      "model_name": "HTMLModel",
      "state": {
       "layout": "IPY_MODEL_eb5f952285984ab7bc9d4d0764d023e6",
       "style": "IPY_MODEL_be0d3a2c5cd64a159423b7c2d1e4cc10",
       "value": "<h3>Click on a letter below to guess the word.</h3>"
      }
     },
     "2e43d4fef6aa4571b03ddeb538aae4aa": {
      "model_module": "@jupyter-widgets/base",
      "model_module_version": "1.2.0",
      "model_name": "LayoutModel",
      "state": {}
     },
     "2eaa5e1bfa8a4ef391c4042bfadcdcc0": {
      "model_module": "@jupyter-widgets/base",
      "model_module_version": "1.2.0",
      "model_name": "LayoutModel",
      "state": {
       "grid_area": "header"
      }
     },
     "2eaedfffb08348c99c9d211bdac728b2": {
      "model_module": "@jupyter-widgets/base",
      "model_module_version": "1.2.0",
      "model_name": "LayoutModel",
      "state": {
       "grid_template_areas": "\"header header header\"\n\"left-sidebar center center\"\n\"footer footer footer\"",
       "grid_template_columns": "1fr 2fr 1fr",
       "grid_template_rows": "1fr 3fr 1fr"
      }
     },
     "2eb82f0890384da6870e3aeb1571db1e": {
      "model_module": "@jupyter-widgets/base",
      "model_module_version": "1.2.0",
      "model_name": "LayoutModel",
      "state": {
       "height": "25px",
       "width": "33px"
      }
     },
     "2ec44b7656ef4506ac66b3c021db13fe": {
      "model_module": "@jupyter-widgets/base",
      "model_module_version": "1.2.0",
      "model_name": "LayoutModel",
      "state": {
       "height": "25px",
       "width": "33px"
      }
     },
     "2ed817bb69bf44a8a113400d36f66fb9": {
      "model_module": "@jupyter-widgets/controls",
      "model_module_version": "1.5.0",
      "model_name": "GridBoxModel",
      "state": {
       "children": [
        "IPY_MODEL_01e78628d63846128dffd34e20fc92a0",
        "IPY_MODEL_60ff70c6b2c44ce69d7dbad9b8fe4ee4",
        "IPY_MODEL_90f400bf3d3b441e8873f2179e86ad45",
        "IPY_MODEL_d042c7a9f02742a6bccb9f714c9ce536"
       ],
       "layout": "IPY_MODEL_e3803ef6fac54c3a91839c10ef220858"
      }
     },
     "2ee260f5677546d88009e21396e5683b": {
      "model_module": "@jupyter-widgets/base",
      "model_module_version": "1.2.0",
      "model_name": "LayoutModel",
      "state": {
       "grid_area": "left-sidebar"
      }
     },
     "2ee8021dacce4cdaa8d0b7a06b03293c": {
      "model_module": "@jupyter-widgets/controls",
      "model_module_version": "1.5.0",
      "model_name": "HTMLModel",
      "state": {
       "layout": "IPY_MODEL_e9e5a24a78c0496d92a6af61ce810ec4",
       "style": "IPY_MODEL_29d068a818ea4b38a3c704930c1445f9",
       "value": "<h3>Click on a letter below to guess the word.</h3>"
      }
     },
     "2f0c8262a1974ab29ad0e0051b3d45b2": {
      "model_module": "@jupyter-widgets/base",
      "model_module_version": "1.2.0",
      "model_name": "LayoutModel",
      "state": {
       "grid_template_areas": "\"header header header\"\n\"left-sidebar center center\"\n\"footer footer footer\"",
       "grid_template_columns": "1fr 2fr 1fr",
       "grid_template_rows": "1fr 3fr 1fr"
      }
     },
     "2f38e94bd1cb4683b2089ac044a45474": {
      "model_module": "@jupyter-widgets/controls",
      "model_module_version": "1.5.0",
      "model_name": "ButtonModel",
      "state": {
       "button_style": "warning",
       "description": "U",
       "disabled": true,
       "layout": "IPY_MODEL_8c841ad84a6949748ff52bf4145bd3bd",
       "style": "IPY_MODEL_b6b189fece894f13aed5d2d13b7d5556"
      }
     },
     "2f4f5b09e3e84ce1ab80047d4e92034a": {
      "model_module": "@jupyter-widgets/base",
      "model_module_version": "1.2.0",
      "model_name": "LayoutModel",
      "state": {
       "margin": "0px 0px 0px 100px"
      }
     },
     "2f5382d2f5cc441693545234ed04c6a5": {
      "model_module": "@jupyter-widgets/controls",
      "model_module_version": "1.5.0",
      "model_name": "HTMLModel",
      "state": {
       "layout": "IPY_MODEL_52ef922d00004f97b4a93e319c3b3d11",
       "style": "IPY_MODEL_050b40c41d614f9e94898dc660f39d50",
       "value": "<h4>Wins: 3</h4>"
      }
     },
     "2f5ebaf50a834727b1b9e42e5862eff9": {
      "model_module": "@jupyter-widgets/base",
      "model_module_version": "1.2.0",
      "model_name": "LayoutModel",
      "state": {
       "height": "25px",
       "width": "33px"
      }
     },
     "2f6ca46ffcd346c2af330facd39faf6f": {
      "model_module": "@jupyter-widgets/controls",
      "model_module_version": "1.5.0",
      "model_name": "VBoxModel",
      "state": {
       "children": [
        "IPY_MODEL_e257f80d63344aee90862a771f9c0559",
        "IPY_MODEL_20f7416b602f4c268272c8cc280c30b4"
       ],
       "layout": "IPY_MODEL_dd49315c5f454c118ac7cd4c1c32b1ce"
      }
     },
     "2f6cf8d0e2cd4a449bbe10dc3d9eeedf": {
      "model_module": "@jupyter-widgets/controls",
      "model_module_version": "1.5.0",
      "model_name": "HTMLModel",
      "state": {
       "layout": "IPY_MODEL_9c7ebe1019f74d4d9f88d58187bbc7b7",
       "style": "IPY_MODEL_a539b1d94c7f4830948b522f900fecf3",
       "value": "<h3>Player Result</h3>"
      }
     },
     "2f792492869943a29eac11001736d409": {
      "model_module": "@jupyter-widgets/controls",
      "model_module_version": "1.5.0",
      "model_name": "ButtonModel",
      "state": {
       "button_style": "warning",
       "description": "E",
       "disabled": true,
       "layout": "IPY_MODEL_6ede68d7160046b992262acac7af27bd",
       "style": "IPY_MODEL_f81d8f94c85d41d5b13a0e95215549ee"
      }
     },
     "2f8c14e5dfee4406a2781586b37c8375": {
      "model_module": "@jupyter-widgets/controls",
      "model_module_version": "1.5.0",
      "model_name": "ButtonModel",
      "state": {
       "button_style": "warning",
       "description": "H",
       "disabled": true,
       "layout": "IPY_MODEL_28145b8a6871424792c6fa0d9a142843",
       "style": "IPY_MODEL_e9301ba48b0b49a8887a0e39232693d6"
      }
     },
     "2f902b0a385445338677963c315c4a4e": {
      "model_module": "@jupyter-widgets/base",
      "model_module_version": "1.2.0",
      "model_name": "LayoutModel",
      "state": {
       "height": "25px",
       "width": "33px"
      }
     },
     "2f9a45dab2c64e24ba7ffea270fb2cf0": {
      "model_module": "@jupyter-widgets/base",
      "model_module_version": "1.2.0",
      "model_name": "LayoutModel",
      "state": {}
     },
     "2f9c0df8ffd24f9e80934388827f1536": {
      "model_module": "@jupyter-widgets/base",
      "model_module_version": "1.2.0",
      "model_name": "LayoutModel",
      "state": {
       "height": "25px",
       "width": "33px"
      }
     },
     "2f9cf4b228ff40acb68218e9619f7513": {
      "model_module": "@jupyter-widgets/controls",
      "model_module_version": "1.5.0",
      "model_name": "ButtonStyleModel",
      "state": {}
     },
     "2fa5ad0fe1b34ad4bc90817216595db6": {
      "model_module": "@jupyter-widgets/controls",
      "model_module_version": "1.5.0",
      "model_name": "ButtonStyleModel",
      "state": {}
     },
     "2fbb258397b942619eaf3ea35609c441": {
      "model_module": "@jupyter-widgets/base",
      "model_module_version": "1.2.0",
      "model_name": "LayoutModel",
      "state": {
       "height": "auto"
      }
     },
     "2fcccd5137ab434a96248c6c6b8912fd": {
      "model_module": "@jupyter-widgets/base",
      "model_module_version": "1.2.0",
      "model_name": "LayoutModel",
      "state": {
       "height": "auto"
      }
     },
     "3005a6da883943e69af0c8d5ae628852": {
      "model_module": "@jupyter-widgets/controls",
      "model_module_version": "1.5.0",
      "model_name": "HTMLModel",
      "state": {
       "layout": "IPY_MODEL_4ccc354d7e0b41e7b85e0263c280913f",
       "style": "IPY_MODEL_ae4384fcc18a41ee9361956ba1a56bd7",
       "value": "<h3>Click on a letter below to guess the word.</h3>"
      }
     },
     "30235f0837014837b0e25dae500063f8": {
      "model_module": "@jupyter-widgets/controls",
      "model_module_version": "1.5.0",
      "model_name": "ButtonStyleModel",
      "state": {}
     },
     "30623bbc95fc4c3a890937ee332070a2": {
      "model_module": "@jupyter-widgets/base",
      "model_module_version": "1.2.0",
      "model_name": "LayoutModel",
      "state": {
       "margin": "0px 0px 0px 100px"
      }
     },
     "307df4afd9ce4e77a40582e80536b784": {
      "buffers": [
       {
        "data": "iVBORw0KGgoAAAANSUhEUgAAATQAAAE0CAIAAAAt41jIAAAEyUlEQVR4nO3d0W6iUBRAUZ30/3+ZeZjEsYqAArJb13pqGyU3JjsHLXJPJwAAANjH+fqXYRiOWgdwOp3O5/9J/jlwHcAEcUKUOCFKnBAlTogSJ0SJE6LECVHihChxQpQ4IUqcECVOiBInRIkTosQJUeKEKHFClDghSpwQJU6IEidEiROixAlR4oQocUKUOCFKnBAlTogSJ0SJE6LECVHihChxQtTX0Qv4Pa43DGdbwzAcvYQDmJzbUOauPvPlFSdEOa3d2GeegO3nM2fmPyYnRIkTosQJUeKEKHFClDghSpwQJU6IEidEiROixAlR4oQocUKUOCFKnBAlTogSJ0S5E8Iq99/Tv/zFLRFYSZyvWHLvDJWykjifc5PlRHiXR/77QaI8S5xLLc/y+gES5WXinPdslvcPligv8GntjOsyh2F4raubJ37y7R5ZTpxTbspceTR98hRxPrRtmffH0SfTxDlv27eI3nCykDjH7fpfyssxDU8miHPKflPO/GSWOEe8c6AZnjwizof2Hm6GJ9PEeev9o8zwZJQ4x71nrBmeTBAnRInzm/df+3pz8S1ciBOixAlR4oQocUKUOCFKnBAlTogSJ0SJ85v3XxLgll88Ik6IEue49wxPV+0xQZy33n+G6ZyWUeJ8aO+xZmwyTZwj3v+tFLgnzin7DTdjk1niHLfr3SvtDsgS4py3bZ9mJguJ86E9tk7YY4sHfitxTtm2T2XyFHHOuOnztURvnqhMlrB57rw1G+Cu2XiXDyfOpZ5NVJasJM7njCa65CnwLHG+Ysl/QTXJSuJc5b5STbIVn9ZClDghSpwQJU6IEidEiROixAlR4oQocUKUOCFKnBAlTogSJ0SJE6LECVHihChxQpQ4IUqcECVOiBInRIkTosQJUeKEKHFClDghSpwQJU6IEidEiROixAlR4oQocUKUOCFKnBAlTogSJ0SJE6LECVHihChxQpQ4IUqcECVOiBInRIkTosQJUeKEKHFClDghSpwQJU6IEidEiROixAlR4oQocUKUOCFKnBD1dfQCfolhGI5eAr+NyQlR4oQocUKUOCFKnBAlTogSJ0SJE6LECVHihChxQpQ4IUqcECVOiBInRIkTosQJUeKEKHFClDghSpwQJU6IEidEiROixAlR4oQocUKUOCFKnBAlTogSJ0SJE6LECVHihChxQpQ4IUqcECVOiBInRIkTosQJUeKEKHFClDghSpwQJU6IEidEiROixAlR4oQocUKUOCFKnBAlTogSJ0SJE6LECVHihChxQpQ4IUqcECVOiBInRIkTosQJUeKEKHFClDghSpwQJU6IEidEiROixAlR4oQocUKUOCFKnBAlTogSJ0SJE6LECVHihChxQpQ4IUqcECVOiBInRIkTosQJUeKEKHFClDghSpwQJU6IEidEiROixAlR4oQocUKUOCFKnBAlTogSJ0SJE6LECVHihChxQpQ4IUqcECVOiBInRIkTosQJUeKEKHFClDghSpwQ9XX0Aph3Pp+PXsLx+i/CMAzbHtDkhChxQpTT2h9g8/MlfgSTE6LECVHihChxQpQ4IUqcECVOiBInRIkTosQJUeKEKHFClDghSpwQJU6IEidEiROixAlR4oQocUKUOAEAAAA+zF8yMLx8mh5EmQAAAABJRU5ErkJggg==",
        "encoding": "base64",
        "path": [
         "value"
        ]
       }
      ],
      "model_module": "@jupyter-widgets/controls",
      "model_module_version": "1.5.0",
      "model_name": "ImageModel",
      "state": {
       "layout": "IPY_MODEL_e853e87240a44c07ac6acd4d1c1275e0",
       "value": {}
      }
     },
     "3088791a8d0a4a33aad3ce4fe8a89ca4": {
      "model_module": "@jupyter-widgets/controls",
      "model_module_version": "1.5.0",
      "model_name": "HTMLModel",
      "state": {
       "layout": "IPY_MODEL_34ed4e56db7e479bbcf11fe5472c9b7f",
       "style": "IPY_MODEL_61de51816432464cbc9045a590cfb3b2",
       "value": "<h4>Games: 2</h4>"
      }
     },
     "3099fbaeda744d90aab3cb6a20aad31f": {
      "model_module": "@jupyter-widgets/controls",
      "model_module_version": "1.5.0",
      "model_name": "ButtonModel",
      "state": {
       "button_style": "warning",
       "description": "R",
       "disabled": true,
       "layout": "IPY_MODEL_8b7778b3cf4a4774869e7792a5bda373",
       "style": "IPY_MODEL_bd9bad117ca64b3ba01e4836286031d8"
      }
     },
     "309e4f5d37964708b09eb48ef39b7036": {
      "model_module": "@jupyter-widgets/controls",
      "model_module_version": "1.5.0",
      "model_name": "ButtonStyleModel",
      "state": {}
     },
     "30bc14d2bcbd4aeda805cf2488e739d9": {
      "model_module": "@jupyter-widgets/base",
      "model_module_version": "1.2.0",
      "model_name": "LayoutModel",
      "state": {
       "height": "25px",
       "width": "33px"
      }
     },
     "30e7c9a289ab4170b4f13649631a0fd6": {
      "model_module": "@jupyter-widgets/base",
      "model_module_version": "1.2.0",
      "model_name": "LayoutModel",
      "state": {
       "height": "25px",
       "width": "33px"
      }
     },
     "30efcbb19ca949dca0bac4b980f0cb98": {
      "model_module": "@jupyter-widgets/base",
      "model_module_version": "1.2.0",
      "model_name": "LayoutModel",
      "state": {
       "grid_area": "left-sidebar"
      }
     },
     "3101192413974f708aeb3cb6a8c931a7": {
      "model_module": "@jupyter-widgets/controls",
      "model_module_version": "1.5.0",
      "model_name": "ButtonStyleModel",
      "state": {}
     },
     "311c7cdbaa624d09a716cb4ffd736ac5": {
      "model_module": "@jupyter-widgets/base",
      "model_module_version": "1.2.0",
      "model_name": "LayoutModel",
      "state": {}
     },
     "319ec374a0e74307bf0b1622365ce35d": {
      "model_module": "@jupyter-widgets/controls",
      "model_module_version": "1.5.0",
      "model_name": "HTMLModel",
      "state": {
       "layout": "IPY_MODEL_16681c8c6e684d9a8570c529c7dbfab6",
       "style": "IPY_MODEL_02aea28d24e2410f8b3fec860455805a",
       "value": "<h3>Player Result</h3>"
      }
     },
     "31a13e8b39184319a6baf49a145c6664": {
      "model_module": "@jupyter-widgets/controls",
      "model_module_version": "1.5.0",
      "model_name": "DescriptionStyleModel",
      "state": {
       "description_width": ""
      }
     },
     "31e4d4f5896f4ed4bda8b0261a71061d": {
      "model_module": "@jupyter-widgets/controls",
      "model_module_version": "1.5.0",
      "model_name": "DescriptionStyleModel",
      "state": {
       "description_width": ""
      }
     },
     "31e9476038ff4573988f792229a249a5": {
      "model_module": "@jupyter-widgets/base",
      "model_module_version": "1.2.0",
      "model_name": "LayoutModel",
      "state": {
       "height": "25px",
       "width": "33px"
      }
     },
     "32107e2e2b454bbcb944558c28203994": {
      "model_module": "@jupyter-widgets/controls",
      "model_module_version": "1.5.0",
      "model_name": "DescriptionStyleModel",
      "state": {
       "description_width": ""
      }
     },
     "322305ab3d824e88a11d88294849038d": {
      "model_module": "@jupyter-widgets/controls",
      "model_module_version": "1.5.0",
      "model_name": "ButtonStyleModel",
      "state": {}
     },
     "3228e3557de947589e26448c6b3f91d8": {
      "model_module": "@jupyter-widgets/base",
      "model_module_version": "1.2.0",
      "model_name": "LayoutModel",
      "state": {
       "height": "25px",
       "width": "33px"
      }
     },
     "323104cd3d5f4f1ebf12fdc8b7873125": {
      "model_module": "@jupyter-widgets/controls",
      "model_module_version": "1.5.0",
      "model_name": "DescriptionStyleModel",
      "state": {
       "description_width": ""
      }
     },
     "3241b18a7a604923a60d1ed3b7f31d83": {
      "model_module": "@jupyter-widgets/controls",
      "model_module_version": "1.5.0",
      "model_name": "ButtonStyleModel",
      "state": {}
     },
     "324605b51eb04445a6b2bc03b949be15": {
      "buffers": [
       {
        "data": "iVBORw0KGgoAAAANSUhEUgAAATQAAAE0CAIAAAAt41jIAAAEvUlEQVR4nO3d0W6iUBRAUZ30/3+ZeZjEsYqAArJb13pqDRJisnNQkXs6AQAAwD7O1/8Mw3DUcQCn0+l8/p/knwOPA5ggTogSJ0SJE6LECVHihChxQpQ4IUqcECVOiBInRIkTosQJUeKEKHFClDghSpwQJU6IEidEiROixAlR4oQocUKUOCFKnBAlTogSJ0SJE6LECVHihChxQpQ4IUqcECVOiPo6+gB+j+sFw9nWMAxHH8IBTM5tKHNXn/nyihOinNZu7DNPwPbzmTPzH5MTosQJUeKEKHFClDghSpwQJU6IEidEiROixAlR4oQocUKUOCFKnBAlTogSJ0SJE6LcCWGV+9/pXx5xSwRWEucrltw7Q6WsJM7n3GQ5Ed5ly39/SJRniXOp5VlebyBRXibOec9meb+xRHmBT2tnXJc5DMNrXd088ZNv98hy4pxyU+bKvemTp4jzoW3LvN+PPpkmznnbvkX0hpOFxDlu128pL/s0PJkgzin7TTnzk1niHPHOgWZ48og4H9p7uBmeTBPnrfePMsOTUeIc956xZngyQZwQJc5v3n/t683Ft3AhTogSJ0SJE6LECVHihChxQpQ4IUqcECXOb95/SYBbfvGIOCFKnOPeMzxdtccEcd56/xmmc1pGifOhvceasck0cY54/69S4J44p+w33IxNZolz3K53r7Q6IEuIc962fZqZLCTOh/ZYOmGPJR74rcQ5Zds+lclTxDnjps/XEr15ojJZwuK589YsgLtm4V0+nDiXejZRWbKSOJ8zmuiSp8CzxPmKJd+CapKVxLmKAtmPT2shSpwQJU6IEidEiROixAlR4oQocUKUOCFKnBAlTogSJ0SJE6LECVHihChxQpQ4IUqcECVOiBInRIkTosQJUeKEKHFClDghSpwQJU6IEidEiROixAlR4oQocUKUOCFKnBAlTogSJ0SJE6LECVHihChxQpQ4IUqcECVOiBInRIkTosQJUeKEKHFClDghSpwQJU6IEidEiROixAlR4oQocUKUOCFKnBAlTogSJ0SJE6LECVHihChxQpQ4IUqcECVOiBInRIkTosQJUeKEKHFClDghSpwQJU6IEidEiROixAlR4oQocUKUOCFKnBAlTogSJ0SJE6LECVHihChxQpQ4IUqcECVOiBInRIkTosQJUeKEKHFClDghSpwQJU6IEidEiROixAlR4oQocUKUOCFKnBAlTogSJ0SJE6LECVHihChxQpQ4IUqcECVOiBInRIkTosQJUeKEKHFClDghSpwQJU6IEidEiROixAlR4oQocUKUOCFKnBAlTogSJ0SJE6LECVHihChxQpQ4IUqcECVOiBInRIkTosQJUeKEKHFClDghSpwQJU6IEidEiROixAlR4oQocUKUOCFKnBAlTogSJ0SJE6LECVHihChxQpQ4IUqcECVOiBInRIkTosQJUeKEKHFClDghSpwQJU6IEidEiROixAlR4oQocUKUOCHq6+gDYN75fD76EI7XfxGGYdh2hyYnRIkTopzW/gCbny/xI5icECVOiBInRIkTosQJUeKEKHFClDghSpwQJU6IEidEiROixAlR4oQocUKUOCFKnBAlTogSJ0SJE6LECQAAAPBh/gLkBrZ9QrhuSAAAAABJRU5ErkJggg==",
        "encoding": "base64",
        "path": [
         "value"
        ]
       }
      ],
      "model_module": "@jupyter-widgets/controls",
      "model_module_version": "1.5.0",
      "model_name": "ImageModel",
      "state": {
       "layout": "IPY_MODEL_fa1e51d368234f1a9cdf4f5201b9c041"
      }
     },
     "324aa6770fff4ee581dd8f780338e27c": {
      "model_module": "@jupyter-widgets/controls",
      "model_module_version": "1.5.0",
      "model_name": "HTMLModel",
      "state": {
       "layout": "IPY_MODEL_c69392fac4e34088a3d8a64407b45471",
       "style": "IPY_MODEL_575e97f20e4d4d0d9ae93e62735a4340",
       "value": "<h1><font color=black>Secret Word:                          _ _ _ _ _ _</h1>"
      }
     },
     "325e554454b54965a3b61ef88e60b888": {
      "model_module": "@jupyter-widgets/controls",
      "model_module_version": "1.5.0",
      "model_name": "HBoxModel",
      "state": {
       "children": [
        "IPY_MODEL_9d9b9bb7f4d34cdb85266e27ee2ca70c",
        "IPY_MODEL_3c2c7dc1e1e64b7187adfbd2f8b873d5",
        "IPY_MODEL_a0f8ff8541b648af9eb7043f4850c281",
        "IPY_MODEL_d4d3217e55b041fabc5266d95c6d1f4d",
        "IPY_MODEL_d2d2c11bc946430383969ee230eecc45",
        "IPY_MODEL_93faaf54a0254f5b95c714a4ec066bd0",
        "IPY_MODEL_7f0b2fb7f3074ac79a6664e81efa2ee4",
        "IPY_MODEL_48c1d03bbf5d421bafb882cf57cc7c9c",
        "IPY_MODEL_b0304378cb654950a99ce877198e3516",
        "IPY_MODEL_679384d05d87469f81f5325cf4c142ca",
        "IPY_MODEL_989b00fa124f4133a1134a11936c256b",
        "IPY_MODEL_cec635ddfec3415d9582624651c25d10",
        "IPY_MODEL_1003cd7ce05048b59a8018458754f9eb",
        "IPY_MODEL_f03e73e91f764d8f8abd2d24af4991c9",
        "IPY_MODEL_95384842ab04473d9cfb2bab5cb2d6fd",
        "IPY_MODEL_df41396c9b064c26a941ef7b91456a0f",
        "IPY_MODEL_9b221e9be98949008624b257271ee4c0",
        "IPY_MODEL_c778e00a269049689696c7aa151e7c82",
        "IPY_MODEL_fc9d900d9d20491dad795f5f038c49fa",
        "IPY_MODEL_dd3dfefa409f4f4b803c438d3b3e8a4c",
        "IPY_MODEL_9d741975f8aa46f5ba6f829089c0b6de",
        "IPY_MODEL_a4f5815fcaf44545bb2c38d37407d343",
        "IPY_MODEL_5cfd48f2a76b4079929230203ff1825c",
        "IPY_MODEL_58f797bf169245c294faf54b71b7cd10",
        "IPY_MODEL_d0377186ae5d4b3bb722f4ffc45fa158",
        "IPY_MODEL_a911a6c355464751bcec8858e797ca20"
       ],
       "layout": "IPY_MODEL_3612a27634234341a900bca1e4ff7b8d"
      }
     },
     "32605bed3d974930a7fec0cfed9fbab2": {
      "model_module": "@jupyter-widgets/controls",
      "model_module_version": "1.5.0",
      "model_name": "VBoxModel",
      "state": {
       "children": [
        "IPY_MODEL_c2140291ce294102b1ebd9336ccc4f7b",
        "IPY_MODEL_81c7716915964f49acc1a7e36067da82"
       ],
       "layout": "IPY_MODEL_af16ccbc63824deea90bd5bca4ada97c"
      }
     },
     "3268e58ec2c94b2faed281d7c25bc976": {
      "model_module": "@jupyter-widgets/controls",
      "model_module_version": "1.5.0",
      "model_name": "HTMLModel",
      "state": {
       "layout": "IPY_MODEL_c8653663c81140f7ba5b62feb25b82cd",
       "style": "IPY_MODEL_7974249c48dd42b5bdaad6f0791dd05e",
       "value": "<h1><font color=black>Secret Word:                          _ _ _</h1>"
      }
     },
     "326d56a036e94b628baa6cd46718ba8e": {
      "model_module": "@jupyter-widgets/controls",
      "model_module_version": "1.5.0",
      "model_name": "VBoxModel",
      "state": {
       "children": [
        "IPY_MODEL_514d169d79454df48b4dbcd5bdc1dc9f",
        "IPY_MODEL_20154f7cacda48caa88ab4586e432ce3"
       ],
       "layout": "IPY_MODEL_73ff905fbd8442ee826803399debdc4f"
      }
     },
     "326ed2002b17458d9eb99112c2e139fc": {
      "model_module": "@jupyter-widgets/controls",
      "model_module_version": "1.5.0",
      "model_name": "DescriptionStyleModel",
      "state": {
       "description_width": ""
      }
     },
     "3285a562bb994fcd9e0ea3fdff626303": {
      "model_module": "@jupyter-widgets/controls",
      "model_module_version": "1.5.0",
      "model_name": "ButtonStyleModel",
      "state": {}
     },
     "32a3c9cd7f574492bef507648ba13d32": {
      "model_module": "@jupyter-widgets/controls",
      "model_module_version": "1.5.0",
      "model_name": "ButtonStyleModel",
      "state": {}
     },
     "32c59e4f49004bfe9a7810da8607e1e1": {
      "model_module": "@jupyter-widgets/controls",
      "model_module_version": "1.5.0",
      "model_name": "ButtonStyleModel",
      "state": {}
     },
     "32f24ed53d9749afb8828ade98b19de2": {
      "model_module": "@jupyter-widgets/controls",
      "model_module_version": "1.5.0",
      "model_name": "ButtonStyleModel",
      "state": {}
     },
     "32fbef8fbb454275930bec27b3623b74": {
      "model_module": "@jupyter-widgets/base",
      "model_module_version": "1.2.0",
      "model_name": "LayoutModel",
      "state": {
       "grid_area": "footer",
       "margin": "-60px 0px 0px 0px"
      }
     },
     "333edb95a2284d55b33d273da44de157": {
      "model_module": "@jupyter-widgets/controls",
      "model_module_version": "1.5.0",
      "model_name": "HTMLModel",
      "state": {
       "layout": "IPY_MODEL_cdb7bc351fe14084baf481c7b258c42c",
       "style": "IPY_MODEL_ca1e4fda0934460f89e723d8e69e61cb",
       "value": "<h2><font color='black'>Remaining Guesses:                          2</h2>"
      }
     },
     "3350ef4758af4fc9949297e8bac76cb5": {
      "model_module": "@jupyter-widgets/controls",
      "model_module_version": "1.5.0",
      "model_name": "DescriptionStyleModel",
      "state": {
       "description_width": ""
      }
     },
     "3352a18f98f640fda29539404e1bb2d9": {
      "model_module": "@jupyter-widgets/controls",
      "model_module_version": "1.5.0",
      "model_name": "ButtonStyleModel",
      "state": {}
     },
     "33725958c94f4752a8d17cf51c77b178": {
      "model_module": "@jupyter-widgets/controls",
      "model_module_version": "1.5.0",
      "model_name": "HTMLModel",
      "state": {
       "layout": "IPY_MODEL_cbfad565ebc142079c6d24ba2a0c9841",
       "style": "IPY_MODEL_df405ba3e0cd453887e8497a40e21872",
       "value": "<h3>Click on a letter below to guess the word.</h3>"
      }
     },
     "33934ece83244d1bbd31ed8e197c2fb5": {
      "model_module": "@jupyter-widgets/controls",
      "model_module_version": "1.5.0",
      "model_name": "HTMLModel",
      "state": {
       "layout": "IPY_MODEL_2ba554488ffd4289a529c8e75effd6ae",
       "style": "IPY_MODEL_47094ad1f22a4ab1a04874ec238b12ad",
       "value": "<h2><font color='black'>Remaining Guesses:                          -4</h2>"
      }
     },
     "33d49675b35748b9929464d58d931cd7": {
      "model_module": "@jupyter-widgets/base",
      "model_module_version": "1.2.0",
      "model_name": "LayoutModel",
      "state": {
       "grid_area": "left-sidebar"
      }
     },
     "340e75b97b1640ee92c9911522e2e658": {
      "model_module": "@jupyter-widgets/controls",
      "model_module_version": "1.5.0",
      "model_name": "ButtonModel",
      "state": {
       "button_style": "warning",
       "description": "S",
       "disabled": true,
       "layout": "IPY_MODEL_e404c22ca566486a99e58a618751f8c5",
       "style": "IPY_MODEL_cfb6b6fabaea463097828f4ff501b35d"
      }
     },
     "34340f012bb041c6a2b9d7610afeda46": {
      "model_module": "@jupyter-widgets/base",
      "model_module_version": "1.2.0",
      "model_name": "LayoutModel",
      "state": {
       "margin": "20px 0px 0px 20px"
      }
     },
     "34365043959e4b01bd2dde308ef040d8": {
      "model_module": "@jupyter-widgets/base",
      "model_module_version": "1.2.0",
      "model_name": "LayoutModel",
      "state": {
       "height": "auto"
      }
     },
     "343ab139cf9a4d2a9b6c39c40a2ac13a": {
      "model_module": "@jupyter-widgets/controls",
      "model_module_version": "1.5.0",
      "model_name": "DescriptionStyleModel",
      "state": {
       "description_width": ""
      }
     },
     "347b4e1104d349df81066cbfaeedba16": {
      "model_module": "@jupyter-widgets/base",
      "model_module_version": "1.2.0",
      "model_name": "LayoutModel",
      "state": {
       "width": "500px"
      }
     },
     "348aaf828def4d33a696f1bccd518443": {
      "model_module": "@jupyter-widgets/base",
      "model_module_version": "1.2.0",
      "model_name": "LayoutModel",
      "state": {
       "margin": "0px 0px 0px 100px"
      }
     },
     "349b1e35a4fe42f8bd733f9c036ea183": {
      "model_module": "@jupyter-widgets/controls",
      "model_module_version": "1.5.0",
      "model_name": "DescriptionStyleModel",
      "state": {
       "description_width": ""
      }
     },
     "34b2179208b5454da4d06a7ed3867ab5": {
      "model_module": "@jupyter-widgets/controls",
      "model_module_version": "1.5.0",
      "model_name": "VBoxModel",
      "state": {
       "children": [
        "IPY_MODEL_a6f897512b054e82bcf1008e25111650",
        "IPY_MODEL_3eb8fe8ed01b4557aefbdc0e45d34a98"
       ],
       "layout": "IPY_MODEL_c098b3a682ee48e19c2f31fc96469585"
      }
     },
     "34d733e3e3c84875a75667f3c86b6540": {
      "model_module": "@jupyter-widgets/base",
      "model_module_version": "1.2.0",
      "model_name": "LayoutModel",
      "state": {
       "margin": "0px 0px 0px 100px"
      }
     },
     "34eaf98238134e3c88b5d90d61633fbb": {
      "model_module": "@jupyter-widgets/base",
      "model_module_version": "1.2.0",
      "model_name": "LayoutModel",
      "state": {
       "height": "25px",
       "width": "33px"
      }
     },
     "34ed4e56db7e479bbcf11fe5472c9b7f": {
      "model_module": "@jupyter-widgets/base",
      "model_module_version": "1.2.0",
      "model_name": "LayoutModel",
      "state": {
       "margin": "0px 0px 0px 100px"
      }
     },
     "350feb1522b740cf8ea67852f15d3d00": {
      "model_module": "@jupyter-widgets/base",
      "model_module_version": "1.2.0",
      "model_name": "LayoutModel",
      "state": {
       "height": "25px",
       "width": "33px"
      }
     },
     "3522ea9c85d647968c0dc72b4fd8c8fb": {
      "model_module": "@jupyter-widgets/controls",
      "model_module_version": "1.5.0",
      "model_name": "ButtonModel",
      "state": {
       "button_style": "warning",
       "description": "L",
       "disabled": true,
       "layout": "IPY_MODEL_42b925ec80f6475ab9919660788ae9de",
       "style": "IPY_MODEL_b0180c1eab874fb88fbc4a939cfc5fd2"
      }
     },
     "3556ea62cc004dcb86b131e2391540bc": {
      "model_module": "@jupyter-widgets/base",
      "model_module_version": "1.2.0",
      "model_name": "LayoutModel",
      "state": {
       "width": "500px"
      }
     },
     "3557d831aff7489c828ada2a56c96d26": {
      "model_module": "@jupyter-widgets/base",
      "model_module_version": "1.2.0",
      "model_name": "LayoutModel",
      "state": {
       "height": "25px",
       "width": "33px"
      }
     },
     "355e7fd6fdb24f94851f79c69b79e4d8": {
      "model_module": "@jupyter-widgets/base",
      "model_module_version": "1.2.0",
      "model_name": "LayoutModel",
      "state": {}
     },
     "35659138925b48beb91c82477494ba29": {
      "model_module": "@jupyter-widgets/base",
      "model_module_version": "1.2.0",
      "model_name": "LayoutModel",
      "state": {}
     },
     "358dc56fba4749928a3c3859c9dfb07b": {
      "model_module": "@jupyter-widgets/base",
      "model_module_version": "1.2.0",
      "model_name": "LayoutModel",
      "state": {
       "margin": "0px 0px 0px 70px"
      }
     },
     "35e518d943bb4ab28316b26ef8a37b1b": {
      "model_module": "@jupyter-widgets/base",
      "model_module_version": "1.2.0",
      "model_name": "LayoutModel",
      "state": {
       "width": "500px"
      }
     },
     "35f417c655f248c2a258184687e08eff": {
      "model_module": "@jupyter-widgets/base",
      "model_module_version": "1.2.0",
      "model_name": "LayoutModel",
      "state": {
       "height": "25px",
       "width": "33px"
      }
     },
     "35f48912e4be422dbc36d2ddd20a16aa": {
      "model_module": "@jupyter-widgets/controls",
      "model_module_version": "1.5.0",
      "model_name": "HBoxModel",
      "state": {
       "children": [
        "IPY_MODEL_bcb226c736134214a2e5626e902ff868",
        "IPY_MODEL_afba6ff528354d64af62e3ec7196d74a"
       ],
       "layout": "IPY_MODEL_e6ecfff8ca934089bd4f2a6c2a56fd6b"
      }
     },
     "3605a4cf57114dda96be8e6c01d11eb0": {
      "model_module": "@jupyter-widgets/controls",
      "model_module_version": "1.5.0",
      "model_name": "HTMLModel",
      "state": {
       "layout": "IPY_MODEL_2fcccd5137ab434a96248c6c6b8912fd",
       "style": "IPY_MODEL_934b118ce16a46b3a23917cb0e8ddf99",
       "value": "<h2><font color='black'>Remaining Guesses:                          4</h2>"
      }
     },
     "3612a27634234341a900bca1e4ff7b8d": {
      "model_module": "@jupyter-widgets/base",
      "model_module_version": "1.2.0",
      "model_name": "LayoutModel",
      "state": {}
     },
     "362a90763814464da397db2755e118fd": {
      "buffers": [
       {
        "data": "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",
        "encoding": "base64",
        "path": [
         "value"
        ]
       }
      ],
      "model_module": "@jupyter-widgets/controls",
      "model_module_version": "1.5.0",
      "model_name": "ImageModel",
      "state": {
       "layout": "IPY_MODEL_8f0ad79e8ca14dc88ec8e5f67edc9073",
       "value": {}
      }
     },
     "36381166c00045818886ff3dad02eecb": {
      "model_module": "@jupyter-widgets/controls",
      "model_module_version": "1.5.0",
      "model_name": "HTMLModel",
      "state": {
       "layout": "IPY_MODEL_1bb1e169673e44768178ba4e19018ffb",
       "style": "IPY_MODEL_7b6c8981c86a4f64b98e3c7163aa985a",
       "value": "<h1><font color=black>Secret Word:                          _ l _ _</h1>"
      }
     },
     "36536bcfa9924b118571b6487fa0a7d9": {
      "model_module": "@jupyter-widgets/base",
      "model_module_version": "1.2.0",
      "model_name": "LayoutModel",
      "state": {
       "height": "25px",
       "width": "33px"
      }
     },
     "365f93c33bb64de4a2808250619d90a1": {
      "model_module": "@jupyter-widgets/base",
      "model_module_version": "1.2.0",
      "model_name": "LayoutModel",
      "state": {
       "width": "500px"
      }
     },
     "36c4d509263f49f9986c69f9b9b2dfe0": {
      "model_module": "@jupyter-widgets/base",
      "model_module_version": "1.2.0",
      "model_name": "LayoutModel",
      "state": {
       "height": "25px",
       "width": "33px"
      }
     },
     "36cbf676756f48bd8c8d0b7789c9417e": {
      "model_module": "@jupyter-widgets/controls",
      "model_module_version": "1.5.0",
      "model_name": "DescriptionStyleModel",
      "state": {
       "description_width": ""
      }
     },
     "37014833de8b4a53bdcf3aeff85c3ccb": {
      "model_module": "@jupyter-widgets/controls",
      "model_module_version": "1.5.0",
      "model_name": "DescriptionStyleModel",
      "state": {
       "description_width": ""
      }
     },
     "370f9a3057084e0cbb56e8f422ae7372": {
      "model_module": "@jupyter-widgets/base",
      "model_module_version": "1.2.0",
      "model_name": "LayoutModel",
      "state": {
       "margin": "0px 0px 0px 70px"
      }
     },
     "3712429e89b84d6dae7605bfacb97f82": {
      "model_module": "@jupyter-widgets/base",
      "model_module_version": "1.2.0",
      "model_name": "LayoutModel",
      "state": {
       "grid_area": "left-sidebar"
      }
     },
     "376ddd6aa43849b5ab973abb230c909c": {
      "model_module": "@jupyter-widgets/controls",
      "model_module_version": "1.5.0",
      "model_name": "HBoxModel",
      "state": {
       "children": [
        "IPY_MODEL_013613c9250444ea83a5b8ed783d2d2c",
        "IPY_MODEL_216afad8f960432ea771faf276e9cac4"
       ],
       "layout": "IPY_MODEL_b56eeb04fb9a4ba296961752fea85a75"
      }
     },
     "3771b930261a4622a2e24218e9c70040": {
      "model_module": "@jupyter-widgets/controls",
      "model_module_version": "1.5.0",
      "model_name": "ButtonModel",
      "state": {
       "button_style": "warning",
       "description": "N",
       "disabled": true,
       "layout": "IPY_MODEL_10a71970287745198a29e308330568e3",
       "style": "IPY_MODEL_c8e7daa9659b45308023e8fdc67c3307"
      }
     },
     "37987dc4fe3d405091608f5d13c4acef": {
      "model_module": "@jupyter-widgets/controls",
      "model_module_version": "1.5.0",
      "model_name": "VBoxModel",
      "state": {
       "children": [
        "IPY_MODEL_7f62958e5bf6477d987daed3b0e31acf",
        "IPY_MODEL_f5f5260eb6a445d5830cd58504dccb55"
       ],
       "layout": "IPY_MODEL_c1af1e63955a44499c555da3b089c78a"
      }
     },
     "37ae27e52e0e453e8694a731c960bc4f": {
      "model_module": "@jupyter-widgets/base",
      "model_module_version": "1.2.0",
      "model_name": "LayoutModel",
      "state": {
       "height": "25px",
       "width": "33px"
      }
     },
     "37dd1eec0b7f4c11adecd081e609d09a": {
      "model_module": "@jupyter-widgets/base",
      "model_module_version": "1.2.0",
      "model_name": "LayoutModel",
      "state": {}
     },
     "37fe5cfad1c9415d8b1f1e926763cbf0": {
      "model_module": "@jupyter-widgets/base",
      "model_module_version": "1.2.0",
      "model_name": "LayoutModel",
      "state": {
       "margin": "0px 0px 0px 70px"
      }
     },
     "3803d965ec194312bbbf8741461551a4": {
      "model_module": "@jupyter-widgets/controls",
      "model_module_version": "1.5.0",
      "model_name": "HTMLModel",
      "state": {
       "layout": "IPY_MODEL_7f13d74e32a24f56803592ecbbf01750",
       "style": "IPY_MODEL_3fd468a3c0264a4d9416de4d46b58407",
       "value": "<h4>Games: 0</h4>"
      }
     },
     "38261044306f4e1faacc35fa092755cb": {
      "model_module": "@jupyter-widgets/base",
      "model_module_version": "1.2.0",
      "model_name": "LayoutModel",
      "state": {
       "grid_area": "footer",
       "margin": "-60px 0px 0px 0px"
      }
     },
     "388abae499b44dbda6e074f161d2f307": {
      "model_module": "@jupyter-widgets/controls",
      "model_module_version": "1.5.0",
      "model_name": "ButtonModel",
      "state": {
       "button_style": "warning",
       "description": "D",
       "disabled": true,
       "layout": "IPY_MODEL_d5dc294658e54c738c950129e2f587fe",
       "style": "IPY_MODEL_4d2e9795ee1e4da68553485f99a29c75"
      }
     },
     "388c7db796b64c8990d362c22ce6ab76": {
      "buffers": [
       {
        "data": "iVBORw0KGgoAAAANSUhEUgAAATQAAAE0CAIAAAAt41jIAAAD0UlEQVR4nO3dMW7DMBAAQTLw/7/MFCnsymkocG3NdGqEg4DFsaLGAAAAgGvM14e11qk5gDHGnM8kfw7OAbwhTogSJ0SJE6LECVHihChxQpQ4IUqcECVOiBInRIkTosQJUeKEKHFClDghSpwQJU6IEidEiROixAlR4oQocUKUOCFKnBAlTogSJ0SJE6LECVHihChxQpQ4IUqcECVOiHqcHuB7vP4wnL3WWqdHOMDm3EOZl7rn5xUnRDnWbnbPA9h17rkz/9icECVOiBInRIkTosQJUeKEKHFClDghSpwQJU6IEidEiROixAlR4oQocUKUOCFKnBAlTohyTckebidhO5sTosQJUeKEKHFClDghSpwQJU6IEidEiROixAlR4oQocUKUOCFKnBAlTogSJ0SJE6LECVHihChxQpQ4IUqcECVOiBInRIkTosQJUeKEKHFClDghSpwQJU6IEidEiROixAlR4oQocUKUOCFKnBAlTogSJ0SJE6LECVHihChxQpQ4IUqcECVOiBInRIkTosQJUeKEKHFClDghSpwQJU6IEidEiROixAlR4oQocUKUOCFKnBAlTogSJ0SJE6LECVHihChxQpQ4IUqcECVOiBInRIkTosQJUeKEKHFClDghSpwQJU6IEidEiROixAlR4oQocUKUOCFKnBAlTogSJ0SJE6LECVHihChxQpQ4IUqcECVOiBInRIkTosQJUeKEKHFClDghSpwQJU6IEidEiROixAlR4oQocUKUOCFKnBAlTogSJ0SJE6LECVHihChxQpQ4IUqcECVOiBInRIkTosQJUeKEKHFClDghSpwQJU6IEidEiROixAlR4oQocUKUOCFKnBAlTogSJ0SJE6LECVHihChxQpQ4IUqcECVOiBInRIkTosQJUeKEKHFClDghSpwQJU6IEidEiROixAlR4oQocUKUOCFKnBAlTogSJ0SJE6LECVHihChxQpQ4IUqcECVOiBInRIkTosQJUeKEKHFClDghSpwQJU6IEidEiROixAlR4oQocUKUOCFKnBAlTogSJ0SJE6LECVHihChxQpQ4IUqcECVOiBInRIkTosQJUeKEKHFClDghSpwQJU6IEidEiROixAlR4oQocUKUOCFKnBAlTogSJ0SJE6LECVHihChxQpQ4IUqcECVOiBInRIkToh6nB+B/c87TI5zX/whrrb0vtDkhSpwQ5Vj7Abafl/gINidEiROixAlR4oQocUKUOCFKnBAlTogSJ0SJE6LECVHihChxQpQ4IUqcECVOiBInRIkTosQJUeKEKHECAAAA3Mwv+9AUZSTGP0IAAAAASUVORK5CYII=",
        "encoding": "base64",
        "path": [
         "value"
        ]
       }
      ],
      "model_module": "@jupyter-widgets/controls",
      "model_module_version": "1.5.0",
      "model_name": "ImageModel",
      "state": {
       "layout": "IPY_MODEL_9eac5971d8e34086950d853defceb288",
       "value": {}
      }
     },
     "38a182e3212f4b9a84d4d9c0f815365f": {
      "model_module": "@jupyter-widgets/controls",
      "model_module_version": "1.5.0",
      "model_name": "DescriptionStyleModel",
      "state": {
       "description_width": ""
      }
     },
     "38a3d6e57ca747638dc82eacc5b40cce": {
      "model_module": "@jupyter-widgets/controls",
      "model_module_version": "1.5.0",
      "model_name": "DescriptionStyleModel",
      "state": {
       "description_width": ""
      }
     },
     "38b4312a584e49e1bc96113b4ff504ce": {
      "model_module": "@jupyter-widgets/controls",
      "model_module_version": "1.5.0",
      "model_name": "ButtonModel",
      "state": {
       "button_style": "warning",
       "description": "T",
       "disabled": true,
       "layout": "IPY_MODEL_1dbcdb2d0e78441eafdd8ea011f390c2",
       "style": "IPY_MODEL_9c5fe1294ae14fedaf49cc429a050484"
      }
     },
     "38bf56f129c34d81b5ff44de21706e56": {
      "model_module": "@jupyter-widgets/controls",
      "model_module_version": "1.5.0",
      "model_name": "VBoxModel",
      "state": {
       "children": [
        "IPY_MODEL_42d3377bd99d4c1e99f6d469099736ca",
        "IPY_MODEL_049c66e6071c4902a896c957090fa1e6"
       ],
       "layout": "IPY_MODEL_d4f9b9b0f1a841ed8789c06f4dee2974"
      }
     },
     "38f21318d98948099716743f3748c5cf": {
      "model_module": "@jupyter-widgets/base",
      "model_module_version": "1.2.0",
      "model_name": "LayoutModel",
      "state": {
       "grid_area": "header"
      }
     },
     "391f59d5dff5455d9bc897a221b30974": {
      "model_module": "@jupyter-widgets/controls",
      "model_module_version": "1.5.0",
      "model_name": "DescriptionStyleModel",
      "state": {
       "description_width": ""
      }
     },
     "39217dbd7f87469d86258bf7bb943fca": {
      "model_module": "@jupyter-widgets/controls",
      "model_module_version": "1.5.0",
      "model_name": "ButtonStyleModel",
      "state": {}
     },
     "394b67bdef324b5c8b54d7adc45d010e": {
      "model_module": "@jupyter-widgets/base",
      "model_module_version": "1.2.0",
      "model_name": "LayoutModel",
      "state": {
       "height": "25px",
       "width": "33px"
      }
     },
     "3952c00f35ad4828a7233cf9770b8a84": {
      "model_module": "@jupyter-widgets/controls",
      "model_module_version": "1.5.0",
      "model_name": "DescriptionStyleModel",
      "state": {
       "description_width": ""
      }
     },
     "39a4dba3e497406daf14cea7da55c962": {
      "model_module": "@jupyter-widgets/controls",
      "model_module_version": "1.5.0",
      "model_name": "HBoxModel",
      "state": {
       "children": [
        "IPY_MODEL_c711dc1c6a764cf1a2128072e615c06b",
        "IPY_MODEL_1a3fc711f269407296c029882ad9c3b6"
       ],
       "layout": "IPY_MODEL_938070c54039433387459c685b186bc2"
      }
     },
     "39cccd4849fa4ddfabf17ae158581e63": {
      "model_module": "@jupyter-widgets/controls",
      "model_module_version": "1.5.0",
      "model_name": "ButtonStyleModel",
      "state": {}
     },
     "39ee026aa12d4bbfaf8e82041c9cae52": {
      "model_module": "@jupyter-widgets/base",
      "model_module_version": "1.2.0",
      "model_name": "LayoutModel",
      "state": {
       "height": "25px",
       "width": "33px"
      }
     },
     "3a13058829174778b957158375518d72": {
      "model_module": "@jupyter-widgets/base",
      "model_module_version": "1.2.0",
      "model_name": "LayoutModel",
      "state": {
       "grid_area": "header"
      }
     },
     "3a15c4d1ff7c4b8a95a5f10423e85b96": {
      "model_module": "@jupyter-widgets/base",
      "model_module_version": "1.2.0",
      "model_name": "LayoutModel",
      "state": {
       "height": "25px",
       "width": "33px"
      }
     },
     "3a194fa36c4f4950941ab48d579b4fc2": {
      "model_module": "@jupyter-widgets/controls",
      "model_module_version": "1.5.0",
      "model_name": "VBoxModel",
      "state": {
       "children": [
        "IPY_MODEL_48f7f92efab04e54a650e3f05cba3124",
        "IPY_MODEL_a6511ba296e048b2911bf69b30d59291",
        "IPY_MODEL_1ee4eed427bc412b9b27c26e0f0847c7"
       ],
       "layout": "IPY_MODEL_e9076eab8225475bbca129ffaa03d147"
      }
     },
     "3a23625d003f47f49afea5724ea9338b": {
      "model_module": "@jupyter-widgets/controls",
      "model_module_version": "1.5.0",
      "model_name": "ButtonModel",
      "state": {
       "button_style": "warning",
       "description": "B",
       "disabled": true,
       "layout": "IPY_MODEL_14d8a2d246914a81902b5993f35e9b13",
       "style": "IPY_MODEL_8cb65598b9ff4ff588fc1754c1c8b552"
      }
     },
     "3a68bcb927d34006b706dc7b71d8c3ad": {
      "model_module": "@jupyter-widgets/controls",
      "model_module_version": "1.5.0",
      "model_name": "ButtonStyleModel",
      "state": {}
     },
     "3a753ffe6e4d4be9b741c3e7778cf3bb": {
      "model_module": "@jupyter-widgets/base",
      "model_module_version": "1.2.0",
      "model_name": "LayoutModel",
      "state": {
       "margin": "0px 0px 0px 100px"
      }
     },
     "3a891d380b5040de8aac25d65b494936": {
      "model_module": "@jupyter-widgets/controls",
      "model_module_version": "1.5.0",
      "model_name": "ButtonStyleModel",
      "state": {}
     },
     "3a9198b68dc44040bf72412d9b073175": {
      "model_module": "@jupyter-widgets/controls",
      "model_module_version": "1.5.0",
      "model_name": "ButtonStyleModel",
      "state": {}
     },
     "3a9c48f52a7d48e7b038d32407c66614": {
      "model_module": "@jupyter-widgets/controls",
      "model_module_version": "1.5.0",
      "model_name": "DescriptionStyleModel",
      "state": {
       "description_width": ""
      }
     },
     "3aa28db2de0c466c9d4a5d42a0f5053c": {
      "model_module": "@jupyter-widgets/base",
      "model_module_version": "1.2.0",
      "model_name": "LayoutModel",
      "state": {
       "height": "25px",
       "width": "33px"
      }
     },
     "3ad79b42bbe2460da70ddfb619051fa0": {
      "model_module": "@jupyter-widgets/controls",
      "model_module_version": "1.5.0",
      "model_name": "DescriptionStyleModel",
      "state": {
       "description_width": ""
      }
     },
     "3ae90787446841ff98f9838ff7f06adf": {
      "model_module": "@jupyter-widgets/controls",
      "model_module_version": "1.5.0",
      "model_name": "ButtonModel",
      "state": {
       "button_style": "warning",
       "description": "Z",
       "disabled": true,
       "layout": "IPY_MODEL_03bfc7fa475443d69d08ad51c6264fa1",
       "style": "IPY_MODEL_9a524afa79544b68bcc647e7dd2a7174"
      }
     },
     "3b2be856b21b4af7a5b3fb394e171a87": {
      "model_module": "@jupyter-widgets/base",
      "model_module_version": "1.2.0",
      "model_name": "LayoutModel",
      "state": {
       "grid_template_areas": "\"header header header\"\n\"left-sidebar center center\"\n\"footer footer footer\"",
       "grid_template_columns": "1fr 2fr 1fr",
       "grid_template_rows": "1fr 3fr 1fr"
      }
     },
     "3b43c88ee7e349db9101ecbb113f8faf": {
      "model_module": "@jupyter-widgets/controls",
      "model_module_version": "1.5.0",
      "model_name": "ButtonStyleModel",
      "state": {}
     },
     "3b4529f5cb57458ca5dc0394dfdee0e4": {
      "model_module": "@jupyter-widgets/base",
      "model_module_version": "1.2.0",
      "model_name": "LayoutModel",
      "state": {
       "grid_area": "center"
      }
     },
     "3b535f47530441d0a6655db3120da2ef": {
      "model_module": "@jupyter-widgets/controls",
      "model_module_version": "1.5.0",
      "model_name": "VBoxModel",
      "state": {
       "children": [
        "IPY_MODEL_c9497d2e8fc844fda524c496f078b157",
        "IPY_MODEL_d9cf456eed414b619a87ab4843f212fc"
       ],
       "layout": "IPY_MODEL_84d2599ea3b046c69d510cf352ab3ed8"
      }
     },
     "3b62ed68f66a4395881b2bc0d50405eb": {
      "model_module": "@jupyter-widgets/controls",
      "model_module_version": "1.5.0",
      "model_name": "DescriptionStyleModel",
      "state": {
       "description_width": ""
      }
     },
     "3b6c349cf5cb402cbda8c23adb6bbfb0": {
      "model_module": "@jupyter-widgets/base",
      "model_module_version": "1.2.0",
      "model_name": "LayoutModel",
      "state": {
       "margin": "0px 0px 0px 70px"
      }
     },
     "3b838708114f4579815563da1b6bcfdd": {
      "model_module": "@jupyter-widgets/controls",
      "model_module_version": "1.5.0",
      "model_name": "DescriptionStyleModel",
      "state": {
       "description_width": ""
      }
     },
     "3b96a38e3aba4da78de7ed815fc6042a": {
      "model_module": "@jupyter-widgets/controls",
      "model_module_version": "1.5.0",
      "model_name": "VBoxModel",
      "state": {
       "children": [
        "IPY_MODEL_48f7f92efab04e54a650e3f05cba3124"
       ],
       "layout": "IPY_MODEL_3712429e89b84d6dae7605bfacb97f82"
      }
     },
     "3b9891c8f993418d8f45ed30453b36a8": {
      "model_module": "@jupyter-widgets/controls",
      "model_module_version": "1.5.0",
      "model_name": "ButtonModel",
      "state": {
       "button_style": "warning",
       "description": "N",
       "layout": "IPY_MODEL_ba8069d65e3b47ddb3c9b14761817b04",
       "style": "IPY_MODEL_32a3c9cd7f574492bef507648ba13d32",
       "tooltip": "Click to guess N."
      }
     },
     "3ba98eb995a746dc952e4485a68e5888": {
      "model_module": "@jupyter-widgets/controls",
      "model_module_version": "1.5.0",
      "model_name": "ButtonStyleModel",
      "state": {}
     },
     "3bc74c3107934863ba8fc97a0cec8d10": {
      "model_module": "@jupyter-widgets/controls",
      "model_module_version": "1.5.0",
      "model_name": "VBoxModel",
      "state": {
       "children": [
        "IPY_MODEL_f93157def875459e98f0162df3414fc4",
        "IPY_MODEL_1cbfa07b644a43388cece312bd629ff0",
        "IPY_MODEL_bd0d2c2a3eff490ea947ef3c62bbf10c"
       ],
       "layout": "IPY_MODEL_eba32d34598e484289e27a73f1b24017"
      }
     },
     "3bee8ca347ca4a0791a47107e7e1243e": {
      "model_module": "@jupyter-widgets/base",
      "model_module_version": "1.2.0",
      "model_name": "LayoutModel",
      "state": {
       "height": "25px",
       "width": "33px"
      }
     },
     "3c09dc5c1749414b8d819f93d65dfde7": {
      "model_module": "@jupyter-widgets/base",
      "model_module_version": "1.2.0",
      "model_name": "LayoutModel",
      "state": {
       "grid_template_areas": "\"header header header\"\n\"left-sidebar center center\"\n\"footer footer footer\"",
       "grid_template_columns": "1fr 2fr 1fr",
       "grid_template_rows": "1fr 3fr 1fr"
      }
     },
     "3c11f2aa487a482a9309103201cb034f": {
      "model_module": "@jupyter-widgets/controls",
      "model_module_version": "1.5.0",
      "model_name": "HTMLModel",
      "state": {
       "layout": "IPY_MODEL_358dc56fba4749928a3c3859c9dfb07b",
       "style": "IPY_MODEL_c1f29b02f9e340be849858222de2f305",
       "value": "<h3>Click on a letter below to guess the word.</h3>"
      }
     },
     "3c15a0619f7f45cf9a6cca12225e7711": {
      "model_module": "@jupyter-widgets/base",
      "model_module_version": "1.2.0",
      "model_name": "LayoutModel",
      "state": {
       "height": "25px",
       "width": "33px"
      }
     },
     "3c2c7dc1e1e64b7187adfbd2f8b873d5": {
      "model_module": "@jupyter-widgets/controls",
      "model_module_version": "1.5.0",
      "model_name": "ButtonModel",
      "state": {
       "button_style": "warning",
       "description": "B",
       "disabled": true,
       "layout": "IPY_MODEL_3a15c4d1ff7c4b8a95a5f10423e85b96",
       "style": "IPY_MODEL_bbca32c860c241deac9cdc412197a3ea"
      }
     },
     "3c78c7b0889045d68b02c374e0ead92e": {
      "buffers": [
       {
        "data": "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",
        "encoding": "base64",
        "path": [
         "value"
        ]
       }
      ],
      "model_module": "@jupyter-widgets/controls",
      "model_module_version": "1.5.0",
      "model_name": "ImageModel",
      "state": {
       "layout": "IPY_MODEL_9bcf3da1035a4928a0991bc6b199aebb",
       "value": {}
      }
     },
     "3c9cf512ef3c474b9634deb35b9c6c6e": {
      "model_module": "@jupyter-widgets/base",
      "model_module_version": "1.2.0",
      "model_name": "LayoutModel",
      "state": {
       "margin": "20px 0px 0px 20px"
      }
     },
     "3ce974ae81aa4a9dbf7f9dcf89d8c885": {
      "model_module": "@jupyter-widgets/base",
      "model_module_version": "1.2.0",
      "model_name": "LayoutModel",
      "state": {
       "height": "auto"
      }
     },
     "3cfd5f07c62f4cfbbec9855d51469e2e": {
      "model_module": "@jupyter-widgets/base",
      "model_module_version": "1.2.0",
      "model_name": "LayoutModel",
      "state": {}
     },
     "3d0996babcc7407494dad762ee4c51a3": {
      "model_module": "@jupyter-widgets/base",
      "model_module_version": "1.2.0",
      "model_name": "LayoutModel",
      "state": {
       "height": "25px",
       "width": "33px"
      }
     },
     "3d0bec7ea70f4b78aa392943e8d606b1": {
      "model_module": "@jupyter-widgets/base",
      "model_module_version": "1.2.0",
      "model_name": "LayoutModel",
      "state": {
       "grid_area": "left-sidebar"
      }
     },
     "3d13ac951c654c5d86f409b95fd19320": {
      "model_module": "@jupyter-widgets/controls",
      "model_module_version": "1.5.0",
      "model_name": "HBoxModel",
      "state": {
       "children": [
        "IPY_MODEL_d8bfd188000f418aa79e54c7bb614e42",
        "IPY_MODEL_62a2e00ba00a440c9f6046ffa4a6bc18"
       ],
       "layout": "IPY_MODEL_d8361507a31f447ba1afef8276a3cda9"
      }
     },
     "3d78f0d70d564804acab924c52d136db": {
      "model_module": "@jupyter-widgets/controls",
      "model_module_version": "1.5.0",
      "model_name": "HTMLModel",
      "state": {
       "layout": "IPY_MODEL_6dd06963997b4a66bd7315f2815e11e7",
       "style": "IPY_MODEL_622bc409ac784cffa5dd1c2b753e8093",
       "value": "<h4>Games: 2</h4>"
      }
     },
     "3ddc9accc0384765b0aa39dfedea308a": {
      "model_module": "@jupyter-widgets/base",
      "model_module_version": "1.2.0",
      "model_name": "LayoutModel",
      "state": {
       "margin": "0px 0px 0px 100px"
      }
     },
     "3df954b42e9c4f44906ae39976c98d65": {
      "model_module": "@jupyter-widgets/controls",
      "model_module_version": "1.5.0",
      "model_name": "DescriptionStyleModel",
      "state": {
       "description_width": ""
      }
     },
     "3e1c146b40ba43e482ada3cfcafcd298": {
      "model_module": "@jupyter-widgets/base",
      "model_module_version": "1.2.0",
      "model_name": "LayoutModel",
      "state": {
       "height": "25px",
       "width": "33px"
      }
     },
     "3e1f537ec18c4df9ad9ba603f2c4d231": {
      "model_module": "@jupyter-widgets/base",
      "model_module_version": "1.2.0",
      "model_name": "LayoutModel",
      "state": {
       "margin": "0px 0px 0px 100px"
      }
     },
     "3e1f79e4f4d749d4a374f6cf16ae014a": {
      "model_module": "@jupyter-widgets/base",
      "model_module_version": "1.2.0",
      "model_name": "LayoutModel",
      "state": {
       "height": "25px",
       "width": "33px"
      }
     },
     "3e3af55b32b34a46ab16ae937461b8ab": {
      "model_module": "@jupyter-widgets/base",
      "model_module_version": "1.2.0",
      "model_name": "LayoutModel",
      "state": {
       "width": "500px"
      }
     },
     "3e41fa51bc914cb2b61f7168768db3af": {
      "model_module": "@jupyter-widgets/controls",
      "model_module_version": "1.5.0",
      "model_name": "ButtonStyleModel",
      "state": {}
     },
     "3e42267ccf104c7eade4be520ab60d37": {
      "model_module": "@jupyter-widgets/base",
      "model_module_version": "1.2.0",
      "model_name": "LayoutModel",
      "state": {
       "grid_area": "header"
      }
     },
     "3e9038aba55e4d5999627dd5230fd3f6": {
      "model_module": "@jupyter-widgets/base",
      "model_module_version": "1.2.0",
      "model_name": "LayoutModel",
      "state": {
       "height": "25px",
       "width": "33px"
      }
     },
     "3eb3d33dee0847eca22a076348372fe7": {
      "model_module": "@jupyter-widgets/base",
      "model_module_version": "1.2.0",
      "model_name": "LayoutModel",
      "state": {
       "height": "25px",
       "width": "33px"
      }
     },
     "3eb8334529054cbe96c5762d11372806": {
      "model_module": "@jupyter-widgets/base",
      "model_module_version": "1.2.0",
      "model_name": "LayoutModel",
      "state": {
       "margin": "0px 0px 0px 100px"
      }
     },
     "3eb8fe8ed01b4557aefbdc0e45d34a98": {
      "model_module": "@jupyter-widgets/controls",
      "model_module_version": "1.5.0",
      "model_name": "HTMLModel",
      "state": {
       "layout": "IPY_MODEL_ab6ab1cd8ecc440295f3e84e83fc4e3a",
       "style": "IPY_MODEL_5405c537e77c46398630293dd8499248",
       "value": "<h2><font color='black'>Remaining Guesses:                          -2</h2>"
      }
     },
     "3eba32f95f804aaf818e929d15d7ffb7": {
      "model_module": "@jupyter-widgets/controls",
      "model_module_version": "1.5.0",
      "model_name": "VBoxModel",
      "state": {
       "children": [
        "IPY_MODEL_46a3fe0511cc4a5ea440505aed8502f3",
        "IPY_MODEL_5c015e2ce78d43ceb25311f9aeada0d6",
        "IPY_MODEL_8f16023ea5ae48ff96fbc8f7c5de6a59"
       ],
       "layout": "IPY_MODEL_0cd4047e10fd43da81e9f662b25a8b5b"
      }
     },
     "3ec15d150aa144d7b5e5fad23591cb31": {
      "model_module": "@jupyter-widgets/controls",
      "model_module_version": "1.5.0",
      "model_name": "DescriptionStyleModel",
      "state": {
       "description_width": ""
      }
     },
     "3ec22f656f194c56aaeec35461e4080e": {
      "model_module": "@jupyter-widgets/controls",
      "model_module_version": "1.5.0",
      "model_name": "DescriptionStyleModel",
      "state": {
       "description_width": ""
      }
     },
     "3ed29e55959741d8b8260eaaa39df2e2": {
      "model_module": "@jupyter-widgets/base",
      "model_module_version": "1.2.0",
      "model_name": "LayoutModel",
      "state": {
       "grid_area": "left-sidebar"
      }
     },
     "3ed61dcbd9c04f3aa4a065772c3faa82": {
      "model_module": "@jupyter-widgets/base",
      "model_module_version": "1.2.0",
      "model_name": "LayoutModel",
      "state": {
       "margin": "0px 0px 0px 100px"
      }
     },
     "3f0431a3982747a2a1c03719d1c62e9e": {
      "model_module": "@jupyter-widgets/controls",
      "model_module_version": "1.5.0",
      "model_name": "ButtonModel",
      "state": {
       "button_style": "warning",
       "description": "Z",
       "layout": "IPY_MODEL_a8e23f46bbc64457afb70326b0ff103d",
       "style": "IPY_MODEL_b3105e10a9d648df8516c153335412bb",
       "tooltip": "Click to guess Z."
      }
     },
     "3f124fd108194c6485056a62e403853f": {
      "model_module": "@jupyter-widgets/controls",
      "model_module_version": "1.5.0",
      "model_name": "ButtonModel",
      "state": {
       "button_style": "warning",
       "description": "W",
       "layout": "IPY_MODEL_cab1eedeaa4a4766b2f7e418d58c35a6",
       "style": "IPY_MODEL_4555be00dffd41529f680c26a0872a5e",
       "tooltip": "Click to guess W."
      }
     },
     "3f1f18743f7d4c1593027bd09c64b4b4": {
      "model_module": "@jupyter-widgets/controls",
      "model_module_version": "1.5.0",
      "model_name": "DescriptionStyleModel",
      "state": {
       "description_width": ""
      }
     },
     "3f29268c03ed4aefac80e62d5136a9ab": {
      "model_module": "@jupyter-widgets/controls",
      "model_module_version": "1.5.0",
      "model_name": "DescriptionStyleModel",
      "state": {
       "description_width": ""
      }
     },
     "3f2fbe431e294c75ab0ac25dda0ec537": {
      "model_module": "@jupyter-widgets/base",
      "model_module_version": "1.2.0",
      "model_name": "LayoutModel",
      "state": {
       "height": "25px",
       "width": "33px"
      }
     },
     "3f36ebed5ed3412ba8ea45562cbd3eca": {
      "model_module": "@jupyter-widgets/controls",
      "model_module_version": "1.5.0",
      "model_name": "DescriptionStyleModel",
      "state": {
       "description_width": ""
      }
     },
     "3f3e8c4e92d8447488aa5700e711f0f4": {
      "model_module": "@jupyter-widgets/controls",
      "model_module_version": "1.5.0",
      "model_name": "DescriptionStyleModel",
      "state": {
       "description_width": ""
      }
     },
     "3f46f6dac8734036a294e5c7035d7161": {
      "model_module": "@jupyter-widgets/base",
      "model_module_version": "1.2.0",
      "model_name": "LayoutModel",
      "state": {
       "width": "500px"
      }
     },
     "3f74a12341644e1bbccfd4c8a0e98b82": {
      "model_module": "@jupyter-widgets/base",
      "model_module_version": "1.2.0",
      "model_name": "LayoutModel",
      "state": {
       "margin": "0px 0px 0px 100px"
      }
     },
     "3f7fabe8a430419c98aab6cfe432d0df": {
      "model_module": "@jupyter-widgets/base",
      "model_module_version": "1.2.0",
      "model_name": "LayoutModel",
      "state": {
       "margin": "0px 0px 0px 100px"
      }
     },
     "3fa92be40dbe4ce99fa6c6dbc66c5108": {
      "model_module": "@jupyter-widgets/controls",
      "model_module_version": "1.5.0",
      "model_name": "VBoxModel",
      "state": {
       "children": [
        "IPY_MODEL_1ea4003a1aca4310be25ce55c6791e7d",
        "IPY_MODEL_20154f7cacda48caa88ab4586e432ce3"
       ],
       "layout": "IPY_MODEL_eeacc4e6041247d5a177acafb04b4d12"
      }
     },
     "3faabfadd5df421d88669a57350ff237": {
      "model_module": "@jupyter-widgets/base",
      "model_module_version": "1.2.0",
      "model_name": "LayoutModel",
      "state": {}
     },
     "3fbb39d860414e61934e38bda12ff2d4": {
      "model_module": "@jupyter-widgets/controls",
      "model_module_version": "1.5.0",
      "model_name": "ButtonModel",
      "state": {
       "button_style": "success",
       "description": "Play Again",
       "layout": "IPY_MODEL_b7603f2d94b84b3980507920ab5eef35",
       "style": "IPY_MODEL_2fa5ad0fe1b34ad4bc90817216595db6"
      }
     },
     "3fc9978a0c3d4d44b32470cb234b3894": {
      "model_module": "@jupyter-widgets/base",
      "model_module_version": "1.2.0",
      "model_name": "LayoutModel",
      "state": {
       "margin": "0px 0px 0px 100px"
      }
     },
     "3fd468a3c0264a4d9416de4d46b58407": {
      "model_module": "@jupyter-widgets/controls",
      "model_module_version": "1.5.0",
      "model_name": "DescriptionStyleModel",
      "state": {
       "description_width": ""
      }
     },
     "3fded523a5f54d54b92e966381c7664d": {
      "model_module": "@jupyter-widgets/base",
      "model_module_version": "1.2.0",
      "model_name": "LayoutModel",
      "state": {
       "grid_template_areas": "\"header header header\"\n\"left-sidebar center center\"\n\"footer footer footer\"",
       "grid_template_columns": "1fr 2fr 1fr",
       "grid_template_rows": "1fr 3fr 1fr"
      }
     },
     "3fe45e4d65184ddca4ca6a53fc970019": {
      "model_module": "@jupyter-widgets/controls",
      "model_module_version": "1.5.0",
      "model_name": "ButtonStyleModel",
      "state": {}
     },
     "400455edce554f848268cd0818b53c9e": {
      "model_module": "@jupyter-widgets/controls",
      "model_module_version": "1.5.0",
      "model_name": "HTMLModel",
      "state": {
       "layout": "IPY_MODEL_4496b6e514514e8fa5f5554c968ee547",
       "style": "IPY_MODEL_38a182e3212f4b9a84d4d9c0f815365f",
       "value": "<h3>Player Result</h3>"
      }
     },
     "40312ca20e85459fa0a9ec51efe912c4": {
      "model_module": "@jupyter-widgets/controls",
      "model_module_version": "1.5.0",
      "model_name": "DescriptionStyleModel",
      "state": {
       "description_width": ""
      }
     },
     "40347070519f4ac2b41ae105bba00602": {
      "model_module": "@jupyter-widgets/base",
      "model_module_version": "1.2.0",
      "model_name": "LayoutModel",
      "state": {
       "height": "25px",
       "width": "33px"
      }
     },
     "404369386a5b41638590e7f213f112df": {
      "model_module": "@jupyter-widgets/base",
      "model_module_version": "1.2.0",
      "model_name": "LayoutModel",
      "state": {
       "grid_area": "header"
      }
     },
     "40467e663f59402f91e2ff76a50939c4": {
      "model_module": "@jupyter-widgets/controls",
      "model_module_version": "1.5.0",
      "model_name": "ButtonModel",
      "state": {
       "button_style": "warning",
       "description": "Z",
       "layout": "IPY_MODEL_649f98a91958497a9e99cd0c4f3d6706",
       "style": "IPY_MODEL_b8341cfd07d74d43be9e4eead332a041",
       "tooltip": "Click to guess Z."
      }
     },
     "4064af4565a6465bbc3648219eb206ff": {
      "model_module": "@jupyter-widgets/base",
      "model_module_version": "1.2.0",
      "model_name": "LayoutModel",
      "state": {
       "width": "500px"
      }
     },
     "40682cda1d5c44c9bbc982a2d8c86d58": {
      "model_module": "@jupyter-widgets/controls",
      "model_module_version": "1.5.0",
      "model_name": "VBoxModel",
      "state": {
       "children": [
        "IPY_MODEL_912851f5f5db40f397473f052068b2cf"
       ],
       "layout": "IPY_MODEL_20f2b87a095b44c6be0591d892aa3058"
      }
     },
     "406e93d3ec284d32bc7230d8e5656d18": {
      "model_module": "@jupyter-widgets/base",
      "model_module_version": "1.2.0",
      "model_name": "LayoutModel",
      "state": {
       "height": "25px",
       "width": "33px"
      }
     },
     "408f65d24c164c0aacbaa403794f82d4": {
      "model_module": "@jupyter-widgets/controls",
      "model_module_version": "1.5.0",
      "model_name": "HTMLModel",
      "state": {
       "layout": "IPY_MODEL_211ab5e0fcc243fc8ed0165acf182d24",
       "style": "IPY_MODEL_9e018e95ba204dd29f481411b111525f",
       "value": "<h1><font color=black>Secret Word:                          _ _ _ _</h1>"
      }
     },
     "40a80253fcce433ba2aab909439615d2": {
      "model_module": "@jupyter-widgets/controls",
      "model_module_version": "1.5.0",
      "model_name": "ButtonModel",
      "state": {
       "button_style": "warning",
       "description": "Q",
       "layout": "IPY_MODEL_9df6b0b6c2dd440ebe2c8a84ea0972b5",
       "style": "IPY_MODEL_3241b18a7a604923a60d1ed3b7f31d83",
       "tooltip": "Click to guess Q."
      }
     },
     "41151ba370744c93ae1a990e7bafb40e": {
      "model_module": "@jupyter-widgets/controls",
      "model_module_version": "1.5.0",
      "model_name": "ButtonModel",
      "state": {
       "button_style": "warning",
       "description": "F",
       "disabled": true,
       "layout": "IPY_MODEL_cbf54d0394664abca1bfe7e752b4b853",
       "style": "IPY_MODEL_ca4ce0a004844ef29940c7ada7e8868b"
      }
     },
     "413f2994101d464cad02918ce5fab7e7": {
      "model_module": "@jupyter-widgets/base",
      "model_module_version": "1.2.0",
      "model_name": "LayoutModel",
      "state": {
       "height": "25px",
       "width": "33px"
      }
     },
     "415b9a1ebb4942d2995f0e794fd5b841": {
      "model_module": "@jupyter-widgets/base",
      "model_module_version": "1.2.0",
      "model_name": "LayoutModel",
      "state": {
       "height": "25px",
       "width": "33px"
      }
     },
     "415ffd5b99734e7896678346a4f67d00": {
      "model_module": "@jupyter-widgets/base",
      "model_module_version": "1.2.0",
      "model_name": "LayoutModel",
      "state": {
       "height": "25px",
       "width": "33px"
      }
     },
     "418bbaff9bb748fb9878e24c392506b6": {
      "model_module": "@jupyter-widgets/base",
      "model_module_version": "1.2.0",
      "model_name": "LayoutModel",
      "state": {}
     },
     "418ccfab212d49328b0f78ab0bb56dac": {
      "model_module": "@jupyter-widgets/base",
      "model_module_version": "1.2.0",
      "model_name": "LayoutModel",
      "state": {}
     },
     "420a6880b71241c1b863c8458e83486b": {
      "model_module": "@jupyter-widgets/controls",
      "model_module_version": "1.5.0",
      "model_name": "DescriptionStyleModel",
      "state": {
       "description_width": ""
      }
     },
     "422108b747f4454a86e185722a6d0068": {
      "model_module": "@jupyter-widgets/controls",
      "model_module_version": "1.5.0",
      "model_name": "HTMLModel",
      "state": {
       "layout": "IPY_MODEL_3ce974ae81aa4a9dbf7f9dcf89d8c885",
       "style": "IPY_MODEL_53bf2d52f3ce46b48019215163e75b51",
       "value": "<h2><font color='black'>Remaining Guesses:                          5</h2>"
      }
     },
     "4221cadf493b4c8c9f42f75818a24057": {
      "model_module": "@jupyter-widgets/controls",
      "model_module_version": "1.5.0",
      "model_name": "HTMLModel",
      "state": {
       "layout": "IPY_MODEL_6063c89fa4db4cc082d2025d48c7e606",
       "style": "IPY_MODEL_d2fb9c7a62984757921579f247d10523",
       "value": "<h3>Click on a letter below to guess the word.</h3>"
      }
     },
     "423dd466600242b7ad5928ef28421284": {
      "model_module": "@jupyter-widgets/controls",
      "model_module_version": "1.5.0",
      "model_name": "ButtonStyleModel",
      "state": {}
     },
     "4273eb846c994a58a8d777c06165aa09": {
      "model_module": "@jupyter-widgets/base",
      "model_module_version": "1.2.0",
      "model_name": "LayoutModel",
      "state": {
       "grid_area": "footer",
       "margin": "-60px 0px 0px 0px"
      }
     },
     "428d46c406f849879b9f46af846c607b": {
      "model_module": "@jupyter-widgets/base",
      "model_module_version": "1.2.0",
      "model_name": "LayoutModel",
      "state": {
       "height": "25px",
       "width": "33px"
      }
     },
     "4296ef2ab14546058c0b5e459d2d5630": {
      "model_module": "@jupyter-widgets/controls",
      "model_module_version": "1.5.0",
      "model_name": "VBoxModel",
      "state": {
       "children": [
        "IPY_MODEL_26b0dbf1b97e494aa20c00fe41dfd40e",
        "IPY_MODEL_03010dfdc85b46f2b1775b261f2c6303",
        "IPY_MODEL_3fbb39d860414e61934e38bda12ff2d4"
       ],
       "layout": "IPY_MODEL_3d0bec7ea70f4b78aa392943e8d606b1"
      }
     },
     "42b925ec80f6475ab9919660788ae9de": {
      "model_module": "@jupyter-widgets/base",
      "model_module_version": "1.2.0",
      "model_name": "LayoutModel",
      "state": {
       "height": "25px",
       "width": "33px"
      }
     },
     "42d3377bd99d4c1e99f6d469099736ca": {
      "model_module": "@jupyter-widgets/controls",
      "model_module_version": "1.5.0",
      "model_name": "HTMLModel",
      "state": {
       "layout": "IPY_MODEL_bb2683057024468c9725026756982d9a",
       "style": "IPY_MODEL_f552c1683668467cb27e3d16f1202320",
       "value": "<h1><font color=black>Secret Word:                          _ _ _ _ _ _</h1>"
      }
     },
     "42dca60abc8246b7a352d7286e020f61": {
      "model_module": "@jupyter-widgets/controls",
      "model_module_version": "1.5.0",
      "model_name": "VBoxModel",
      "state": {
       "children": [
        "IPY_MODEL_b0a9eb9af91f439283639ab89cc66664",
        "IPY_MODEL_13fb3689dc5c45e0b075c6dd46d2bf34",
        "IPY_MODEL_bf00045015a543dea9db5fb72ac1fd47"
       ],
       "layout": "IPY_MODEL_418bbaff9bb748fb9878e24c392506b6"
      }
     },
     "42f1f788817644d4bf6fc04e99c164f7": {
      "model_module": "@jupyter-widgets/controls",
      "model_module_version": "1.5.0",
      "model_name": "HTMLModel",
      "state": {
       "layout": "IPY_MODEL_c20fd182137a4b39b9f16a58f74b8439",
       "style": "IPY_MODEL_38a3d6e57ca747638dc82eacc5b40cce",
       "value": "<h3>Click on a letter below to guess the word.</h3>"
      }
     },
     "431aae284a4a4384b2ff7de460d9f5d6": {
      "model_module": "@jupyter-widgets/base",
      "model_module_version": "1.2.0",
      "model_name": "LayoutModel",
      "state": {
       "height": "25px",
       "width": "33px"
      }
     },
     "433606cb1cd2470d98148c0553e56466": {
      "model_module": "@jupyter-widgets/base",
      "model_module_version": "1.2.0",
      "model_name": "LayoutModel",
      "state": {
       "grid_area": "left-sidebar"
      }
     },
     "4353f1373cd8471eb8fdf44274a8089b": {
      "model_module": "@jupyter-widgets/controls",
      "model_module_version": "1.5.0",
      "model_name": "VBoxModel",
      "state": {
       "children": [
        "IPY_MODEL_b5c18e7d24a745af9a08e4e13ee24231",
        "IPY_MODEL_75d78eb1b71247618de876704fe41051",
        "IPY_MODEL_06a5d0ba34f34db69b9861ac8edc6059"
       ],
       "layout": "IPY_MODEL_75953786e79d461f9ab88f7afd7b0d4b"
      }
     },
     "43573ddcc6a94bcdbd62bf2c34db4a53": {
      "model_module": "@jupyter-widgets/base",
      "model_module_version": "1.2.0",
      "model_name": "LayoutModel",
      "state": {
       "margin": "20px 0px 0px 20px"
      }
     },
     "4378f793347440d7bac865d75e62dc80": {
      "model_module": "@jupyter-widgets/base",
      "model_module_version": "1.2.0",
      "model_name": "LayoutModel",
      "state": {
       "height": "25px",
       "width": "33px"
      }
     },
     "43a1a3b01ac34fde9f1965b71d6cd7fc": {
      "model_module": "@jupyter-widgets/controls",
      "model_module_version": "1.5.0",
      "model_name": "HTMLModel",
      "state": {
       "layout": "IPY_MODEL_d815eaef8be24230be452c2ceab0d999",
       "style": "IPY_MODEL_00ac86be02b742c384d69a2135f58a23",
       "value": "<h3>Click on a letter below to guess the word.</h3>"
      }
     },
     "43b36117a57d4cb1be00f09c0f405cc5": {
      "model_module": "@jupyter-widgets/base",
      "model_module_version": "1.2.0",
      "model_name": "LayoutModel",
      "state": {
       "height": "25px",
       "width": "33px"
      }
     },
     "43b4b96b08a1489cb0f6d0ec00901820": {
      "model_module": "@jupyter-widgets/base",
      "model_module_version": "1.2.0",
      "model_name": "LayoutModel",
      "state": {
       "height": "25px",
       "width": "33px"
      }
     },
     "43ee66e67ca84c9599daae248533962a": {
      "model_module": "@jupyter-widgets/controls",
      "model_module_version": "1.5.0",
      "model_name": "HTMLModel",
      "state": {
       "layout": "IPY_MODEL_a6edcd3a88114133a37ff91db18a1009",
       "style": "IPY_MODEL_f6a184cd29894e4f8cdca2f98ba7d1d7",
       "value": "<h4>Wins: 0</h4>"
      }
     },
     "44017253d6c5450c8a196643bf0a485f": {
      "model_module": "@jupyter-widgets/controls",
      "model_module_version": "1.5.0",
      "model_name": "GridBoxModel",
      "state": {
       "children": [
        "IPY_MODEL_97baf4cc40514b6d957dcb321220880e",
        "IPY_MODEL_e3f4a63e42e2480d866389ebb25b156f",
        "IPY_MODEL_5d413eb29e0145fdb9fb0607d9e35cd5",
        "IPY_MODEL_1464fcb777224cd6a8f3eb383ad24dd1"
       ],
       "layout": "IPY_MODEL_d89182b93ec448dcbd4593b632ac0b2f"
      }
     },
     "440fed453262446b87f26158a15ead43": {
      "model_module": "@jupyter-widgets/base",
      "model_module_version": "1.2.0",
      "model_name": "LayoutModel",
      "state": {
       "height": "25px",
       "width": "33px"
      }
     },
     "441aa57c1ce14a7987f56bff06cd56cc": {
      "model_module": "@jupyter-widgets/controls",
      "model_module_version": "1.5.0",
      "model_name": "DescriptionStyleModel",
      "state": {
       "description_width": ""
      }
     },
     "441f7dd69b494f9eb947f43432c429f5": {
      "model_module": "@jupyter-widgets/base",
      "model_module_version": "1.2.0",
      "model_name": "LayoutModel",
      "state": {
       "margin": "0px 0px 0px 100px"
      }
     },
     "4425a82834944f05b110c3dbc69d2bec": {
      "model_module": "@jupyter-widgets/controls",
      "model_module_version": "1.5.0",
      "model_name": "DropdownModel",
      "state": {
       "_options_labels": [
        "Animals",
        "Car brands",
        "Colors",
        "Countries",
        "Fruits",
        "Shapes"
       ],
       "description": "Category",
       "index": 0,
       "layout": "IPY_MODEL_70911e8e9fdc45f9ae03f0afbce27d64",
       "style": "IPY_MODEL_0381c8cea8854fd39cb6b7f7889616e8"
      }
     },
     "444b348653d645a587924dc7df865941": {
      "model_module": "@jupyter-widgets/controls",
      "model_module_version": "1.5.0",
      "model_name": "DescriptionStyleModel",
      "state": {
       "description_width": ""
      }
     },
     "446ae865146b45718ec1055070d16987": {
      "model_module": "@jupyter-widgets/controls",
      "model_module_version": "1.5.0",
      "model_name": "DescriptionStyleModel",
      "state": {
       "description_width": ""
      }
     },
     "4496b6e514514e8fa5f5554c968ee547": {
      "model_module": "@jupyter-widgets/base",
      "model_module_version": "1.2.0",
      "model_name": "LayoutModel",
      "state": {
       "margin": "0px 0px 0px 100px"
      }
     },
     "44cb47960da64122942bce47b67ee06b": {
      "model_module": "@jupyter-widgets/base",
      "model_module_version": "1.2.0",
      "model_name": "LayoutModel",
      "state": {
       "height": "25px",
       "width": "33px"
      }
     },
     "44d50d90f6d5421d9ad3124f575a3f7b": {
      "model_module": "@jupyter-widgets/controls",
      "model_module_version": "1.5.0",
      "model_name": "ButtonStyleModel",
      "state": {}
     },
     "44d8270ab1394a9ea36628740992c652": {
      "model_module": "@jupyter-widgets/base",
      "model_module_version": "1.2.0",
      "model_name": "LayoutModel",
      "state": {
       "margin": "0px 0px 0px 100px"
      }
     },
     "44f44b732e194f7fa69c633b9b1b0abe": {
      "model_module": "@jupyter-widgets/base",
      "model_module_version": "1.2.0",
      "model_name": "LayoutModel",
      "state": {
       "height": "25px",
       "width": "33px"
      }
     },
     "44f64039af3b432ba43141150d7831ad": {
      "model_module": "@jupyter-widgets/controls",
      "model_module_version": "1.5.0",
      "model_name": "DescriptionStyleModel",
      "state": {
       "description_width": ""
      }
     },
     "45149864aae54b73b06b45f53b81f3f7": {
      "model_module": "@jupyter-widgets/base",
      "model_module_version": "1.2.0",
      "model_name": "LayoutModel",
      "state": {
       "margin": "0px 0px 0px 100px"
      }
     },
     "451f8e279c2248d49b7e2835d78f1acb": {
      "model_module": "@jupyter-widgets/base",
      "model_module_version": "1.2.0",
      "model_name": "LayoutModel",
      "state": {
       "grid_template_areas": "\"header header header\"\n\"left-sidebar center center\"\n\"footer footer footer\"",
       "grid_template_columns": "1fr 2fr 1fr",
       "grid_template_rows": "1fr 3fr 1fr"
      }
     },
     "45337ac07ff740d697cfdd9387a7bc33": {
      "model_module": "@jupyter-widgets/controls",
      "model_module_version": "1.5.0",
      "model_name": "HTMLModel",
      "state": {
       "layout": "IPY_MODEL_aaa25f976f8d4c9aae08e894b9a4cfcd",
       "style": "IPY_MODEL_32107e2e2b454bbcb944558c28203994",
       "value": "<h2><font color='black'>Remaining Guesses:                          5</h2>"
      }
     },
     "45404ad5e2e4425b9948932fa347f2f5": {
      "model_module": "@jupyter-widgets/controls",
      "model_module_version": "1.5.0",
      "model_name": "ButtonModel",
      "state": {
       "button_style": "warning",
       "description": "D",
       "disabled": true,
       "layout": "IPY_MODEL_e042a623f5a54e0b911d53b399decce4",
       "style": "IPY_MODEL_6222d7ab78204ba2b7fed8782aff1e51"
      }
     },
     "4555be00dffd41529f680c26a0872a5e": {
      "model_module": "@jupyter-widgets/controls",
      "model_module_version": "1.5.0",
      "model_name": "ButtonStyleModel",
      "state": {}
     },
     "45848d2325f642498009b3b50e7239fc": {
      "model_module": "@jupyter-widgets/controls",
      "model_module_version": "1.5.0",
      "model_name": "ButtonStyleModel",
      "state": {}
     },
     "45a0d3ebb5694467a9211d32486d102d": {
      "model_module": "@jupyter-widgets/controls",
      "model_module_version": "1.5.0",
      "model_name": "DescriptionStyleModel",
      "state": {
       "description_width": ""
      }
     },
     "45a68b187f084ec4b70362d4950b4ae0": {
      "model_module": "@jupyter-widgets/controls",
      "model_module_version": "1.5.0",
      "model_name": "DescriptionStyleModel",
      "state": {
       "description_width": ""
      }
     },
     "45b362849ec248018fc74766f6bf0737": {
      "model_module": "@jupyter-widgets/base",
      "model_module_version": "1.2.0",
      "model_name": "LayoutModel",
      "state": {
       "grid_area": "left-sidebar"
      }
     },
     "45c6a649e7b548678104d8157359f5c3": {
      "model_module": "@jupyter-widgets/base",
      "model_module_version": "1.2.0",
      "model_name": "LayoutModel",
      "state": {
       "grid_area": "header"
      }
     },
     "45eac5f645b6492e8933345491aa49d3": {
      "model_module": "@jupyter-widgets/controls",
      "model_module_version": "1.5.0",
      "model_name": "DescriptionStyleModel",
      "state": {
       "description_width": ""
      }
     },
     "463eb5c23f8f4b5dba0664fadda8942f": {
      "model_module": "@jupyter-widgets/base",
      "model_module_version": "1.2.0",
      "model_name": "LayoutModel",
      "state": {
       "height": "25px",
       "width": "33px"
      }
     },
     "466233c16d06442d8d7d100edc591d7e": {
      "model_module": "@jupyter-widgets/controls",
      "model_module_version": "1.5.0",
      "model_name": "ButtonModel",
      "state": {
       "button_style": "warning",
       "description": "K",
       "layout": "IPY_MODEL_acd1662111e1484ba7c523a3f64461a7",
       "style": "IPY_MODEL_ac53ca1c16574d558c4bd3c53607222a",
       "tooltip": "Click to guess K."
      }
     },
     "46a3fe0511cc4a5ea440505aed8502f3": {
      "model_module": "@jupyter-widgets/controls",
      "model_module_version": "1.5.0",
      "model_name": "HTMLModel",
      "state": {
       "layout": "IPY_MODEL_c42b0e11baa14ba6a65b8464186335cf",
       "style": "IPY_MODEL_71b2515d9d1e4ec185fece9abf30d3dd",
       "value": "<h3>Player Result</h3>"
      }
     },
     "46ea6f558aef48fca86734fcd9faa4ea": {
      "model_module": "@jupyter-widgets/controls",
      "model_module_version": "1.5.0",
      "model_name": "HTMLModel",
      "state": {
       "layout": "IPY_MODEL_6f14b08b04f445c29d0e6146f788c345",
       "style": "IPY_MODEL_c4b5d556bbf54ab8a96d6b62675dda92",
       "value": "<h4>Games: 0</h4>"
      }
     },
     "4700575cd3f0468f97f8207e2af767d1": {
      "model_module": "@jupyter-widgets/controls",
      "model_module_version": "1.5.0",
      "model_name": "HTMLModel",
      "state": {
       "layout": "IPY_MODEL_a64c0d35ac734f7cbef247883a791d18",
       "style": "IPY_MODEL_36cbf676756f48bd8c8d0b7789c9417e",
       "value": "<h2><font color='black'>Remaining Guesses:                          0</h2>"
      }
     },
     "4704bf41797448c0a1a5d6ae7db56061": {
      "model_module": "@jupyter-widgets/controls",
      "model_module_version": "1.5.0",
      "model_name": "ButtonModel",
      "state": {
       "button_style": "warning",
       "description": "V",
       "layout": "IPY_MODEL_99a7a9f73fe24812ade2b6a56279a0cb",
       "style": "IPY_MODEL_c6df562a5c164f8da512f8218ab4d82f",
       "tooltip": "Click to guess V."
      }
     },
     "47094ad1f22a4ab1a04874ec238b12ad": {
      "model_module": "@jupyter-widgets/controls",
      "model_module_version": "1.5.0",
      "model_name": "DescriptionStyleModel",
      "state": {
       "description_width": ""
      }
     },
     "4724d1aa977c440db30e2ec47559715f": {
      "model_module": "@jupyter-widgets/controls",
      "model_module_version": "1.5.0",
      "model_name": "GridBoxModel",
      "state": {
       "children": [
        "IPY_MODEL_cc055e8e94f140f7a5d5684da4c8e417",
        "IPY_MODEL_5d0bffce35954867801a8fe4e1eb6658",
        "IPY_MODEL_89af241073ee4916ac6c739bc5129183",
        "IPY_MODEL_4cd433381c654476ae6300e2e20052c9"
       ],
       "layout": "IPY_MODEL_507d483ce4ff45dd952d5e81b370001b"
      }
     },
     "47352f9497724169835a836da34ecba7": {
      "model_module": "@jupyter-widgets/base",
      "model_module_version": "1.2.0",
      "model_name": "LayoutModel",
      "state": {
       "margin": "0px 0px 0px 70px"
      }
     },
     "4776dbbd8b6a42349ec8fdcb30ccaf91": {
      "model_module": "@jupyter-widgets/base",
      "model_module_version": "1.2.0",
      "model_name": "LayoutModel",
      "state": {
       "height": "25px",
       "width": "33px"
      }
     },
     "4776f7f6a8ef458baa4c579cc126372f": {
      "model_module": "@jupyter-widgets/controls",
      "model_module_version": "1.5.0",
      "model_name": "VBoxModel",
      "state": {
       "children": [
        "IPY_MODEL_324aa6770fff4ee581dd8f780338e27c",
        "IPY_MODEL_0377cf07210d45b69a679ac4a7f781ef"
       ],
       "layout": "IPY_MODEL_264198ab614e48a19bcb8740a4ead839"
      }
     },
     "477c1fa6fad44045b2930a186ac2bc33": {
      "model_module": "@jupyter-widgets/controls",
      "model_module_version": "1.5.0",
      "model_name": "HBoxModel",
      "state": {
       "children": [
        "IPY_MODEL_1e593ce8b83f4737a9c3b278ab11a029",
        "IPY_MODEL_42dca60abc8246b7a352d7286e020f61"
       ],
       "layout": "IPY_MODEL_cee02769a8434b03b6f623a14515483c"
      }
     },
     "477d9f7baf354139b1f131924293f78f": {
      "model_module": "@jupyter-widgets/controls",
      "model_module_version": "1.5.0",
      "model_name": "HTMLModel",
      "state": {
       "layout": "IPY_MODEL_cfa49cdc1eb743d99276b19d11ee6c5a",
       "style": "IPY_MODEL_5488dbbfa1c34c21aaf7723a79b3450c",
       "value": "<h4>Games: 2</h4>"
      }
     },
     "4795eaa227064b2b9ef0827ebd45bf5f": {
      "buffers": [
       {
        "data": "iVBORw0KGgoAAAANSUhEUgAAATQAAAE0CAIAAAAt41jIAAAEvUlEQVR4nO3d0W6iUBRAUZ30/3+ZeZjEsYqAArJb13pqDRJisnNQkXs6AQAAwD7O1/8Mw3DUcQCn0+l8/p/knwOPA5ggTogSJ0SJE6LECVHihChxQpQ4IUqcECVOiBInRIkTosQJUeKEKHFClDghSpwQJU6IEidEiROixAlR4oQocUKUOCFKnBAlTogSJ0SJE6LECVHihChxQpQ4IUqcECVOiPo6+gB+j+sFw9nWMAxHH8IBTM5tKHNXn/nyihOinNZu7DNPwPbzmTPzH5MTosQJUeKEKHFClDghSpwQJU6IEidEiROixAlR4oQocUKUOCFKnBAlTogSJ0SJE6LcCWGV+9/pXx5xSwRWEucrltw7Q6WsJM7n3GQ5Ed5ly39/SJRniXOp5VlebyBRXibOec9meb+xRHmBT2tnXJc5DMNrXd088ZNv98hy4pxyU+bKvemTp4jzoW3LvN+PPpkmznnbvkX0hpOFxDlu128pL/s0PJkgzin7TTnzk1niHPHOgWZ48og4H9p7uBmeTBPnrfePMsOTUeIc956xZngyQZwQJc5v3n/t683Ft3AhTogSJ0SJE6LECVHihChxQpQ4IUqcECXOb95/SYBbfvGIOCFKnOPeMzxdtccEcd56/xmmc1pGifOhvceasck0cY54/69S4J44p+w33IxNZolz3K53r7Q6IEuIc962fZqZLCTOh/ZYOmGPJR74rcQ5Zds+lclTxDnjps/XEr15ojJZwuK589YsgLtm4V0+nDiXejZRWbKSOJ8zmuiSp8CzxPmKJd+CapKVxLmKAtmPT2shSpwQJU6IEidEiROixAlR4oQocUKUOCFKnBAlTogSJ0SJE6LECVHihChxQpQ4IUqcECVOiBInRIkTosQJUeKEKHFClDghSpwQJU6IEidEiROixAlR4oQocUKUOCFKnBAlTogSJ0SJE6LECVHihChxQpQ4IUqcECVOiBInRIkTosQJUeKEKHFClDghSpwQJU6IEidEiROixAlR4oQocUKUOCFKnBAlTogSJ0SJE6LECVHihChxQpQ4IUqcECVOiBInRIkTosQJUeKEKHFClDghSpwQJU6IEidEiROixAlR4oQocUKUOCFKnBAlTogSJ0SJE6LECVHihChxQpQ4IUqcECVOiBInRIkTosQJUeKEKHFClDghSpwQJU6IEidEiROixAlR4oQocUKUOCFKnBAlTogSJ0SJE6LECVHihChxQpQ4IUqcECVOiBInRIkTosQJUeKEKHFClDghSpwQJU6IEidEiROixAlR4oQocUKUOCFKnBAlTogSJ0SJE6LECVHihChxQpQ4IUqcECVOiBInRIkTosQJUeKEKHFClDghSpwQJU6IEidEiROixAlR4oQocUKUOCFKnBAlTogSJ0SJE6LECVHihChxQpQ4IUqcECVOiBInRIkTosQJUeKEKHFClDghSpwQJU6IEidEiROixAlR4oQocUKUOCHq6+gDYN75fD76EI7XfxGGYdh2hyYnRIkTopzW/gCbny/xI5icECVOiBInRIkTosQJUeKEKHFClDghSpwQJU6IEidEiROixAlR4oQocUKUOCFKnBAlTogSJ0SJE6LECQAAAPBh/gLkBrZ9QrhuSAAAAABJRU5ErkJggg==",
        "encoding": "base64",
        "path": [
         "value"
        ]
       }
      ],
      "model_module": "@jupyter-widgets/controls",
      "model_module_version": "1.5.0",
      "model_name": "ImageModel",
      "state": {
       "layout": "IPY_MODEL_53b01b3abb9d43fab47a0371025efbea"
      }
     },
     "47ab727cf8994076bee490cbd9f9c177": {
      "model_module": "@jupyter-widgets/controls",
      "model_module_version": "1.5.0",
      "model_name": "ButtonModel",
      "state": {
       "button_style": "warning",
       "description": "C",
       "disabled": true,
       "layout": "IPY_MODEL_4a244f6ef5fc48dcb47d8a22a16d3323",
       "style": "IPY_MODEL_dce0bc7d7f1c45f0ac51518f61ce2cda"
      }
     },
     "47e96c5205ed4afa889c2130abc1b518": {
      "model_module": "@jupyter-widgets/controls",
      "model_module_version": "1.5.0",
      "model_name": "GridBoxModel",
      "state": {
       "children": [
        "IPY_MODEL_e8c893f7a4a2464c9e0b35cab0015f9e",
        "IPY_MODEL_326d56a036e94b628baa6cd46718ba8e",
        "IPY_MODEL_6534214d35d04199907ab53733d3db90",
        "IPY_MODEL_26540069d8b14923bb0c18fcb7b063fc"
       ],
       "layout": "IPY_MODEL_75dcf638fbaa4aa3882892875ba39179"
      }
     },
     "47e9a79319004f4eae01a78d577e85d3": {
      "model_module": "@jupyter-widgets/controls",
      "model_module_version": "1.5.0",
      "model_name": "ButtonStyleModel",
      "state": {}
     },
     "47e9ac21b1d048e59fe29dc3481d60d1": {
      "model_module": "@jupyter-widgets/controls",
      "model_module_version": "1.5.0",
      "model_name": "VBoxModel",
      "state": {
       "children": [
        "IPY_MODEL_c43670cf84404871be04422a103e2276",
        "IPY_MODEL_003cce0ea832481693b4ce4594915171",
        "IPY_MODEL_a2173bf3fcd24c099fb22cc96f237bf8"
       ],
       "layout": "IPY_MODEL_d7034df43f13438eada9ad3b4b5ef104"
      }
     },
     "47f86ad4ea434a79a13d6bf8278336ea": {
      "model_module": "@jupyter-widgets/controls",
      "model_module_version": "1.5.0",
      "model_name": "ButtonModel",
      "state": {
       "button_style": "warning",
       "description": "Y",
       "layout": "IPY_MODEL_a977217ba3c4436aae07b0a763fa95a8",
       "style": "IPY_MODEL_682296249d534d25974420e682787571",
       "tooltip": "Click to guess Y."
      }
     },
     "480f90a658cb46d9a51922dd02ae5cd6": {
      "model_module": "@jupyter-widgets/controls",
      "model_module_version": "1.5.0",
      "model_name": "HTMLModel",
      "state": {
       "layout": "IPY_MODEL_855e4c783d524a4f8e331402e39308e7",
       "style": "IPY_MODEL_5df0d63232cc44dc92f52e47d586a32a",
       "value": "<h4>Wins: 0</h4>"
      }
     },
     "4868944344b640a198bcb260de57853c": {
      "model_module": "@jupyter-widgets/controls",
      "model_module_version": "1.5.0",
      "model_name": "HTMLModel",
      "state": {
       "layout": "IPY_MODEL_9b220dea0a7a4d1cbae2f9a5d261cf00",
       "style": "IPY_MODEL_96642cdc96614f3ead629751feeacd97",
       "value": "<h4>Games: 1</h4>"
      }
     },
     "486abd3b05594491a581237361f2ad02": {
      "model_module": "@jupyter-widgets/base",
      "model_module_version": "1.2.0",
      "model_name": "LayoutModel",
      "state": {
       "height": "25px",
       "width": "33px"
      }
     },
     "488cfb01f82e459b9ea81362d117cf34": {
      "model_module": "@jupyter-widgets/controls",
      "model_module_version": "1.5.0",
      "model_name": "HTMLModel",
      "state": {
       "layout": "IPY_MODEL_c41d1c21ad024b498d3e2da4a75a98aa",
       "style": "IPY_MODEL_ad6d03ac4fa442828791ff11ca2f7de8",
       "value": "<h3>Player Result</h3>"
      }
     },
     "4892902eefc84a8182ad8f9c16b08617": {
      "buffers": [
       {
        "data": "iVBORw0KGgoAAAANSUhEUgAAATQAAAE0CAIAAAAt41jIAAAEyUlEQVR4nO3d0W6iUBRAUZ30/3+ZeZjEsYqAArJb13pqGyU3JjsHLXJPJwAAANjH+fqXYRiOWgdwOp3O5/9J/jlwHcAEcUKUOCFKnBAlTogSJ0SJE6LECVHihChxQpQ4IUqcECVOiBInRIkTosQJUeKEKHFClDghSpwQJU6IEidEiROixAlR4oQocUKUOCFKnBAlTogSJ0SJE6LECVHihChxQtTX0Qv4Pa43DGdbwzAcvYQDmJzbUOauPvPlFSdEOa3d2GeegO3nM2fmPyYnRIkTosQJUeKEKHFClDghSpwQJU6IEidEiROixAlR4oQocUKUOCFKnBAlTogSJ0S5E8Iq99/Tv/zFLRFYSZyvWHLvDJWykjifc5PlRHiXR/77QaI8S5xLLc/y+gES5WXinPdslvcPligv8GntjOsyh2F4raubJ37y7R5ZTpxTbspceTR98hRxPrRtmffH0SfTxDlv27eI3nCykDjH7fpfyssxDU8miHPKflPO/GSWOEe8c6AZnjwizof2Hm6GJ9PEeev9o8zwZJQ4x71nrBmeTBAnRInzm/df+3pz8S1ciBOixAlR4oQocUKUOCFKnBAlTogSJ0SJ85v3XxLgll88Ik6IEue49wxPV+0xQZy33n+G6ZyWUeJ8aO+xZmwyTZwj3v+tFLgnzin7DTdjk1niHLfr3SvtDsgS4py3bZ9mJguJ86E9tk7YY4sHfitxTtm2T2XyFHHOuOnztURvnqhMlrB57rw1G+Cu2XiXDyfOpZ5NVJasJM7njCa65CnwLHG+Ysl/QTXJSuJc5b5STbIVn9ZClDghSpwQJU6IEidEiROixAlR4oQocUKUOCFKnBAlTogSJ0SJE6LECVHihChxQpQ4IUqcECVOiBInRIkTosQJUeKEKHFClDghSpwQJU6IEidEiROixAlR4oQocUKUOCFKnBAlTogSJ0SJE6LECVHihChxQpQ4IUqcECVOiBInRIkTosQJUeKEKHFClDghSpwQJU6IEidEiROixAlR4oQocUKUOCFKnBD1dfQCfolhGI5eAr+NyQlR4oQocUKUOCFKnBAlTogSJ0SJE6LECVHihChxQpQ4IUqcECVOiBInRIkTosQJUeKEKHFClDghSpwQJU6IEidEiROixAlR4oQocUKUOCFKnBAlTogSJ0SJE6LECVHihChxQpQ4IUqcECVOiBInRIkTosQJUeKEKHFClDghSpwQJU6IEidEiROixAlR4oQocUKUOCFKnBAlTogSJ0SJE6LECVHihChxQpQ4IUqcECVOiBInRIkTosQJUeKEKHFClDghSpwQJU6IEidEiROixAlR4oQocUKUOCFKnBAlTogSJ0SJE6LECVHihChxQpQ4IUqcECVOiBInRIkTosQJUeKEKHFClDghSpwQJU6IEidEiROixAlR4oQocUKUOCFKnBAlTogSJ0SJE6LECVHihChxQpQ4IUqcECVOiBInRIkTosQJUeKEKHFClDghSpwQ9XX0Aph3Pp+PXsLx+i/CMAzbHtDkhChxQpTT2h9g8/MlfgSTE6LECVHihChxQpQ4IUqcECVOiBInRIkTosQJUeKEKHFClDghSpwQJU6IEidEiROixAlR4oQocUKUOAEAAAA+zF8yMLx8mh5EmQAAAABJRU5ErkJggg==",
        "encoding": "base64",
        "path": [
         "value"
        ]
       }
      ],
      "model_module": "@jupyter-widgets/controls",
      "model_module_version": "1.5.0",
      "model_name": "ImageModel",
      "state": {
       "layout": "IPY_MODEL_e5941917227a4477af468260dddfd464"
      }
     },
     "48966cb6bf104864ae2078f2ffe46e5d": {
      "model_module": "@jupyter-widgets/controls",
      "model_module_version": "1.5.0",
      "model_name": "HTMLModel",
      "state": {
       "layout": "IPY_MODEL_3b6c349cf5cb402cbda8c23adb6bbfb0",
       "style": "IPY_MODEL_b1e693215bca4274a1df72694c797e82",
       "value": "<h3>Click on a letter below to guess the word.</h3>"
      }
     },
     "48c1c2341db54756a59b429c44f255ca": {
      "model_module": "@jupyter-widgets/controls",
      "model_module_version": "1.5.0",
      "model_name": "HTMLModel",
      "state": {
       "layout": "IPY_MODEL_5d7d790ff1c44aa1a2238871971b8a91",
       "style": "IPY_MODEL_441aa57c1ce14a7987f56bff06cd56cc",
       "value": "<h1><font color=black>Secret Word:                          _ _ _ _ _ _</h1>"
      }
     },
     "48c1d03bbf5d421bafb882cf57cc7c9c": {
      "model_module": "@jupyter-widgets/controls",
      "model_module_version": "1.5.0",
      "model_name": "ButtonModel",
      "state": {
       "button_style": "warning",
       "description": "H",
       "disabled": true,
       "layout": "IPY_MODEL_5ae8b46412c043718edfeac524957c57",
       "style": "IPY_MODEL_603e0a1bed0f4efb93346d7fa7d2c4b9"
      }
     },
     "48e6963377f5401eb163cf17bcce3671": {
      "model_module": "@jupyter-widgets/controls",
      "model_module_version": "1.5.0",
      "model_name": "ButtonModel",
      "state": {
       "button_style": "warning",
       "description": "E",
       "layout": "IPY_MODEL_3e1f79e4f4d749d4a374f6cf16ae014a",
       "style": "IPY_MODEL_199eca090481433ab9a83b90424883b7",
       "tooltip": "Click to guess E."
      }
     },
     "48f7f92efab04e54a650e3f05cba3124": {
      "model_module": "@jupyter-widgets/controls",
      "model_module_version": "1.5.0",
      "model_name": "DropdownModel",
      "state": {
       "_options_labels": [
        "Animals",
        "Car brands",
        "Colors",
        "Countries",
        "Fruits",
        "Shapes"
       ],
       "description": "Category",
       "index": 0,
       "layout": "IPY_MODEL_c047eb88857740c1b1707d5496869f84",
       "style": "IPY_MODEL_96dd412f528644058f14d4e57c3724a8"
      }
     },
     "4908b953cc114e62a9350692fa3e7f04": {
      "model_module": "@jupyter-widgets/base",
      "model_module_version": "1.2.0",
      "model_name": "LayoutModel",
      "state": {}
     },
     "498f6ba080ba491e88911f20e3120296": {
      "model_module": "@jupyter-widgets/base",
      "model_module_version": "1.2.0",
      "model_name": "LayoutModel",
      "state": {}
     },
     "499c49cca2cb40b99fdd9ffd636400b3": {
      "model_module": "@jupyter-widgets/controls",
      "model_module_version": "1.5.0",
      "model_name": "HTMLModel",
      "state": {
       "layout": "IPY_MODEL_a1d6e8de81064136a692bf1f89b4152f",
       "style": "IPY_MODEL_1fa0bf7a4d5142a78e3833eb6b69cab2",
       "value": "<h4>Games: 0</h4>"
      }
     },
     "499d14f4d6af4563979fd0abfcc89b96": {
      "model_module": "@jupyter-widgets/controls",
      "model_module_version": "1.5.0",
      "model_name": "DescriptionStyleModel",
      "state": {
       "description_width": ""
      }
     },
     "49b2c06352cd48d09b2db7b4513d493a": {
      "model_module": "@jupyter-widgets/controls",
      "model_module_version": "1.5.0",
      "model_name": "ButtonStyleModel",
      "state": {}
     },
     "49b5c27544b44dfe8565aac682c20560": {
      "model_module": "@jupyter-widgets/controls",
      "model_module_version": "1.5.0",
      "model_name": "HTMLModel",
      "state": {
       "layout": "IPY_MODEL_13d53a8a3f9646c0a68bf1d366851f0b",
       "style": "IPY_MODEL_e8c2b16acfec4f3cba9c011814363295",
       "value": "<h2><font color='black'>Remaining Guesses:                          6</h2>"
      }
     },
     "49b5fa6b01dd4faaadddb03045122d4c": {
      "model_module": "@jupyter-widgets/base",
      "model_module_version": "1.2.0",
      "model_name": "LayoutModel",
      "state": {
       "grid_area": "center"
      }
     },
     "49cc06280be64f94b22a43b88aeaaa60": {
      "model_module": "@jupyter-widgets/controls",
      "model_module_version": "1.5.0",
      "model_name": "ButtonStyleModel",
      "state": {}
     },
     "49d4f61a529d430f9e568df3fd948f09": {
      "model_module": "@jupyter-widgets/controls",
      "model_module_version": "1.5.0",
      "model_name": "ButtonStyleModel",
      "state": {}
     },
     "49e1159e28064a1cb0e4ecba0c6c9550": {
      "model_module": "@jupyter-widgets/base",
      "model_module_version": "1.2.0",
      "model_name": "LayoutModel",
      "state": {
       "height": "25px",
       "width": "33px"
      }
     },
     "49e8a142daba4116b41be2cc7595eae2": {
      "model_module": "@jupyter-widgets/controls",
      "model_module_version": "1.5.0",
      "model_name": "VBoxModel",
      "state": {
       "children": [
        "IPY_MODEL_13ae4329aa474c7aa61e47ea89bd48c0",
        "IPY_MODEL_93cbdd04e6644fa7b2d80a0e52afe44a"
       ],
       "layout": "IPY_MODEL_e7e2cafaa45d4856adcd5aa7ae295e5c"
      }
     },
     "49f70de667234c1ca66ec0cbd68e2040": {
      "model_module": "@jupyter-widgets/controls",
      "model_module_version": "1.5.0",
      "model_name": "VBoxModel",
      "state": {
       "children": [
        "IPY_MODEL_289c0821cbd54289b8b14969e9960b62",
        "IPY_MODEL_4f8a89c5109a4bb891e308a0bf9f20e7"
       ],
       "layout": "IPY_MODEL_6c8953245663428baebf60874ff436c5"
      }
     },
     "4a0fea50d1484ab88e6156bcec233337": {
      "model_module": "@jupyter-widgets/base",
      "model_module_version": "1.2.0",
      "model_name": "LayoutModel",
      "state": {
       "margin": "20px 0px 0px 20px"
      }
     },
     "4a244f6ef5fc48dcb47d8a22a16d3323": {
      "model_module": "@jupyter-widgets/base",
      "model_module_version": "1.2.0",
      "model_name": "LayoutModel",
      "state": {
       "height": "25px",
       "width": "33px"
      }
     },
     "4a484c90bfc84ebe85bc902897b6bc56": {
      "model_module": "@jupyter-widgets/controls",
      "model_module_version": "1.5.0",
      "model_name": "DescriptionStyleModel",
      "state": {
       "description_width": ""
      }
     },
     "4a616ee7db5e45b79bdd56495e50f198": {
      "model_module": "@jupyter-widgets/base",
      "model_module_version": "1.2.0",
      "model_name": "LayoutModel",
      "state": {}
     },
     "4a84fb7bb1304359a9811f31a8097119": {
      "model_module": "@jupyter-widgets/controls",
      "model_module_version": "1.5.0",
      "model_name": "VBoxModel",
      "state": {
       "children": [
        "IPY_MODEL_42f1f788817644d4bf6fc04e99c164f7",
        "IPY_MODEL_0d29a9ce394f4e0980dbe58ca5407bab"
       ],
       "layout": "IPY_MODEL_ed50661dad6c40fa92324aaa2a6c6905"
      }
     },
     "4ab38911d02b4402a7e553a79481f778": {
      "model_module": "@jupyter-widgets/base",
      "model_module_version": "1.2.0",
      "model_name": "LayoutModel",
      "state": {
       "height": "auto"
      }
     },
     "4aca53aeb94c491eb554d290a124941e": {
      "model_module": "@jupyter-widgets/base",
      "model_module_version": "1.2.0",
      "model_name": "LayoutModel",
      "state": {
       "height": "auto"
      }
     },
     "4ad5394593054759aca9f49016d8069f": {
      "model_module": "@jupyter-widgets/controls",
      "model_module_version": "1.5.0",
      "model_name": "ButtonStyleModel",
      "state": {}
     },
     "4adcdb42d4004702b2127170fcd5a963": {
      "model_module": "@jupyter-widgets/base",
      "model_module_version": "1.2.0",
      "model_name": "LayoutModel",
      "state": {
       "grid_area": "left-sidebar"
      }
     },
     "4ae7226b4b3e46608fb30e14403f6492": {
      "model_module": "@jupyter-widgets/controls",
      "model_module_version": "1.5.0",
      "model_name": "HTMLModel",
      "state": {
       "layout": "IPY_MODEL_c34f2ebc5ea74337a60fc26dc5c50f4f",
       "style": "IPY_MODEL_1e2f269b7f334bd1ac7e7eb9373d45f0",
       "value": "<h4>Wins: 0</h4>"
      }
     },
     "4b004a6d011c494bbfe21ea7c26e7462": {
      "model_module": "@jupyter-widgets/controls",
      "model_module_version": "1.5.0",
      "model_name": "HTMLModel",
      "state": {
       "layout": "IPY_MODEL_0730e8d4e61043d2b59e38ee25882262",
       "style": "IPY_MODEL_ca264d2693424c058e502c1f2855a2b9",
       "value": "<h2><font color='black'>Remaining Guesses:                          6</h2>"
      }
     },
     "4b18e1018515468d833048386c49d2fc": {
      "model_module": "@jupyter-widgets/controls",
      "model_module_version": "1.5.0",
      "model_name": "ButtonStyleModel",
      "state": {}
     },
     "4b526c1ac20a49ff998c17dbca22ff8e": {
      "model_module": "@jupyter-widgets/controls",
      "model_module_version": "1.5.0",
      "model_name": "HBoxModel",
      "state": {
       "children": [
        "IPY_MODEL_11210e0fc691402daf1c364e8957c178",
        "IPY_MODEL_136014bc10cf4407ad7ab0ed6b7a646e"
       ],
       "layout": "IPY_MODEL_58e8cb0766224ce0ac6cfdba79dd37d2"
      }
     },
     "4b570a9f694b4969a0195375b9933801": {
      "model_module": "@jupyter-widgets/controls",
      "model_module_version": "1.5.0",
      "model_name": "HTMLModel",
      "state": {
       "layout": "IPY_MODEL_9e69f46acecb48efaa0e49d550063207",
       "style": "IPY_MODEL_85021b0748444b728fe74132d8912f9c",
       "value": "<h1><font color=black>Secret Word:                          m o u _ e</h1>"
      }
     },
     "4b5cb01f167941e49d8451500735eb18": {
      "model_module": "@jupyter-widgets/controls",
      "model_module_version": "1.5.0",
      "model_name": "VBoxModel",
      "state": {
       "children": [
        "IPY_MODEL_f3fc6eefa5084e768ca828ecafa3a4ee",
        "IPY_MODEL_0d29a9ce394f4e0980dbe58ca5407bab"
       ],
       "layout": "IPY_MODEL_38261044306f4e1faacc35fa092755cb"
      }
     },
     "4bdd8505ef73472aba0ef40f8f2f0061": {
      "model_module": "@jupyter-widgets/controls",
      "model_module_version": "1.5.0",
      "model_name": "HTMLModel",
      "state": {
       "layout": "IPY_MODEL_21ef805603ae45de9eef23021b40163e",
       "style": "IPY_MODEL_5632044e1c96429db8c7024cfe22ab1c",
       "value": "<h3>Player Result</h3>"
      }
     },
     "4c1fdde9162c40879f9cb2fb52f2b688": {
      "model_module": "@jupyter-widgets/controls",
      "model_module_version": "1.5.0",
      "model_name": "DescriptionStyleModel",
      "state": {
       "description_width": ""
      }
     },
     "4c34521bf6f245ffafd10d9b8d12699a": {
      "model_module": "@jupyter-widgets/controls",
      "model_module_version": "1.5.0",
      "model_name": "DescriptionStyleModel",
      "state": {
       "description_width": ""
      }
     },
     "4c572229b144411cae5681da6c2204b0": {
      "model_module": "@jupyter-widgets/controls",
      "model_module_version": "1.5.0",
      "model_name": "ButtonModel",
      "state": {
       "button_style": "warning",
       "description": "J",
       "layout": "IPY_MODEL_9197e9e1e03a4b0bac94adcd2e6a2e91",
       "style": "IPY_MODEL_d82dae14bcc645f598d92648f3ea9bbe",
       "tooltip": "Click to guess J."
      }
     },
     "4c572c1ba38d4ed89f6792e3c3e29863": {
      "model_module": "@jupyter-widgets/base",
      "model_module_version": "1.2.0",
      "model_name": "LayoutModel",
      "state": {
       "grid_area": "center"
      }
     },
     "4c5ede8a6c9d47fdb2ec05f416eaf030": {
      "model_module": "@jupyter-widgets/controls",
      "model_module_version": "1.5.0",
      "model_name": "VBoxModel",
      "state": {
       "children": [
        "IPY_MODEL_584c54548001477899e040ed3b0fb6e0",
        "IPY_MODEL_66d5addeaa574bebbfc3acba8f617d65"
       ],
       "layout": "IPY_MODEL_1e41103d227e4729a3929710dfbf06ef"
      }
     },
     "4c69fe2c0e7a40ddbe41883386f02a37": {
      "model_module": "@jupyter-widgets/controls",
      "model_module_version": "1.5.0",
      "model_name": "VBoxModel",
      "state": {
       "children": [
        "IPY_MODEL_912851f5f5db40f397473f052068b2cf"
       ],
       "layout": "IPY_MODEL_091b5e483acd487fb44f588e626691e1"
      }
     },
     "4c802a0a37dd4d599e2b62f0de52c99e": {
      "model_module": "@jupyter-widgets/base",
      "model_module_version": "1.2.0",
      "model_name": "LayoutModel",
      "state": {
       "height": "25px",
       "width": "33px"
      }
     },
     "4c903fe8ba6c4373b9f47caaea91751b": {
      "model_module": "@jupyter-widgets/base",
      "model_module_version": "1.2.0",
      "model_name": "LayoutModel",
      "state": {}
     },
     "4ccc354d7e0b41e7b85e0263c280913f": {
      "model_module": "@jupyter-widgets/base",
      "model_module_version": "1.2.0",
      "model_name": "LayoutModel",
      "state": {
       "margin": "0px 0px 0px 70px"
      }
     },
     "4cce0cce55af471cb0cfc0a992ceba8e": {
      "model_module": "@jupyter-widgets/controls",
      "model_module_version": "1.5.0",
      "model_name": "ButtonStyleModel",
      "state": {}
     },
     "4cd433381c654476ae6300e2e20052c9": {
      "buffers": [
       {
        "data": "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",
        "encoding": "base64",
        "path": [
         "value"
        ]
       }
      ],
      "model_module": "@jupyter-widgets/controls",
      "model_module_version": "1.5.0",
      "model_name": "ImageModel",
      "state": {
       "layout": "IPY_MODEL_a3f0bd9653fd4c888c7416e7f90fca43",
       "value": {}
      }
     },
     "4d2e9795ee1e4da68553485f99a29c75": {
      "model_module": "@jupyter-widgets/controls",
      "model_module_version": "1.5.0",
      "model_name": "ButtonStyleModel",
      "state": {}
     },
     "4d4b9f2f52844a8a91d438b716725140": {
      "model_module": "@jupyter-widgets/controls",
      "model_module_version": "1.5.0",
      "model_name": "ButtonModel",
      "state": {
       "button_style": "warning",
       "description": "B",
       "disabled": true,
       "layout": "IPY_MODEL_91f1ed2665594651821ef4a981dca932",
       "style": "IPY_MODEL_9cf4d1fa5a354884988d21ea100e9aae"
      }
     },
     "4d56b6f873ea4c9ea04775b819b5b9b7": {
      "model_module": "@jupyter-widgets/controls",
      "model_module_version": "1.5.0",
      "model_name": "VBoxModel",
      "state": {
       "children": [
        "IPY_MODEL_084a976e3f914a16b2206693b63bf697",
        "IPY_MODEL_4868944344b640a198bcb260de57853c",
        "IPY_MODEL_f8241de351d84dafb78b993ac98f896e"
       ],
       "layout": "IPY_MODEL_0f0022a9b7394d5f9688475c226f21c9"
      }
     },
     "4d77a24ddbe641af8dce75a59e149058": {
      "model_module": "@jupyter-widgets/controls",
      "model_module_version": "1.5.0",
      "model_name": "VBoxModel",
      "state": {
       "children": [
        "IPY_MODEL_920f597439ff42c4b966e07c38c628fc",
        "IPY_MODEL_4b004a6d011c494bbfe21ea7c26e7462"
       ],
       "layout": "IPY_MODEL_0f213ef5ff8b4074a0d22edbeed9c5e6"
      }
     },
     "4d7dbde9c74143a2a7040209d72d7d15": {
      "model_module": "@jupyter-widgets/controls",
      "model_module_version": "1.5.0",
      "model_name": "VBoxModel",
      "state": {
       "children": [
        "IPY_MODEL_48f7f92efab04e54a650e3f05cba3124",
        "IPY_MODEL_219edbcc0a3044629c392dcd96278666",
        "IPY_MODEL_e72df2b602584c38bf53c4b72937e800"
       ],
       "layout": "IPY_MODEL_5f785040cd13499c92d2ad4d5078c1dc"
      }
     },
     "4d996d5eb8b14112bb6b92e54a33ca3e": {
      "model_module": "@jupyter-widgets/controls",
      "model_module_version": "1.5.0",
      "model_name": "DescriptionStyleModel",
      "state": {
       "description_width": ""
      }
     },
     "4da1fa337dcc4749a17402a3537d1ea2": {
      "model_module": "@jupyter-widgets/base",
      "model_module_version": "1.2.0",
      "model_name": "LayoutModel",
      "state": {}
     },
     "4da5a4d4b7004854b1604fcdaa558d7d": {
      "model_module": "@jupyter-widgets/controls",
      "model_module_version": "1.5.0",
      "model_name": "ButtonModel",
      "state": {
       "button_style": "warning",
       "description": "O",
       "disabled": true,
       "layout": "IPY_MODEL_8e55acf50abd4702971526a183742c84",
       "style": "IPY_MODEL_71ecb38490114e63bcc65b127ef47e7f"
      }
     },
     "4db1ceb62b534d3b8b0b37632642d749": {
      "model_module": "@jupyter-widgets/base",
      "model_module_version": "1.2.0",
      "model_name": "LayoutModel",
      "state": {}
     },
     "4dbf10b773494ac18402ab3fa7bb39de": {
      "model_module": "@jupyter-widgets/controls",
      "model_module_version": "1.5.0",
      "model_name": "DescriptionStyleModel",
      "state": {
       "description_width": ""
      }
     },
     "4dc1df1ca7be499282e993124176d6bc": {
      "model_module": "@jupyter-widgets/controls",
      "model_module_version": "1.5.0",
      "model_name": "GridBoxModel",
      "state": {
       "children": [
        "IPY_MODEL_6c88f4d1b4a9461a8afea2cf5ff9a7b2",
        "IPY_MODEL_6fce3ccb515a4535ac021743d98e80ef",
        "IPY_MODEL_205e893092d24658a6aae3705804fbab",
        "IPY_MODEL_09ced4d11f744bb09f4b73cfcf4800b1"
       ],
       "layout": "IPY_MODEL_8d48b01befcb4b2081d6e1cde7e34423"
      }
     },
     "4dc5397ad3b0464fbcadb64096dba3d4": {
      "model_module": "@jupyter-widgets/controls",
      "model_module_version": "1.5.0",
      "model_name": "ButtonModel",
      "state": {
       "button_style": "warning",
       "description": "F",
       "disabled": true,
       "layout": "IPY_MODEL_d06531f1656944bfb42efe30ce53f2a3",
       "style": "IPY_MODEL_126a6b701b89461cb6b167b6d5683a4a"
      }
     },
     "4deef778028c4bea879abf7c1de9f2ad": {
      "model_module": "@jupyter-widgets/controls",
      "model_module_version": "1.5.0",
      "model_name": "ButtonStyleModel",
      "state": {}
     },
     "4e046258d3174169a33bf7ee57920f3e": {
      "model_module": "@jupyter-widgets/controls",
      "model_module_version": "1.5.0",
      "model_name": "ButtonModel",
      "state": {
       "button_style": "warning",
       "description": "E",
       "layout": "IPY_MODEL_1796c5bbb11c434d8fa8f061c40fc79b",
       "style": "IPY_MODEL_af731487a4d14f70bddc4667aa57a4bc",
       "tooltip": "Click to guess E."
      }
     },
     "4e2a91006a54430aa5425f10eb8bbb30": {
      "model_module": "@jupyter-widgets/controls",
      "model_module_version": "1.5.0",
      "model_name": "HTMLModel",
      "state": {
       "layout": "IPY_MODEL_0908fb3f69df469d9532bd694fccb510",
       "style": "IPY_MODEL_dfbcf8c309d14161aac3c4be87616b7e",
       "value": "<h2><font color='black'>Remaining Guesses:                          4</h2>"
      }
     },
     "4e2c46e97c3f4155bf543555de71d0a0": {
      "model_module": "@jupyter-widgets/controls",
      "model_module_version": "1.5.0",
      "model_name": "VBoxModel",
      "state": {
       "children": [
        "IPY_MODEL_0b78ee1c9a6548c9b21271f4f57b7f47",
        "IPY_MODEL_23190d34500c4310ac2213d4430db6fd"
       ],
       "layout": "IPY_MODEL_260e335c6a9545929444f8a862be36e9"
      }
     },
     "4e791379cc1f43a29bab55e540934e47": {
      "model_module": "@jupyter-widgets/controls",
      "model_module_version": "1.5.0",
      "model_name": "GridBoxModel",
      "state": {
       "children": [
        "IPY_MODEL_f34390122ada4750b9fdf9ed84fa9879",
        "IPY_MODEL_a2056c2620be4fb78e83108e31d0093b",
        "IPY_MODEL_eaf67a37aff340fdbbd948283de658fb",
        "IPY_MODEL_07f891be34d740b38584a83f61efc89c"
       ],
       "layout": "IPY_MODEL_e40dfbed156a4ba7b7375e59fa661230"
      }
     },
     "4e87c4aa67b248389cc02da2f5a89868": {
      "model_module": "@jupyter-widgets/base",
      "model_module_version": "1.2.0",
      "model_name": "LayoutModel",
      "state": {
       "grid_area": "left-sidebar"
      }
     },
     "4ed3713c461a486089cd440b45447cc2": {
      "model_module": "@jupyter-widgets/controls",
      "model_module_version": "1.5.0",
      "model_name": "HTMLModel",
      "state": {
       "layout": "IPY_MODEL_8b8c547d7390421190b2989364e74b84",
       "style": "IPY_MODEL_f6d7719ae85e4ab2aef46a2363fd43f0",
       "value": "<h3>Player Result</h3>"
      }
     },
     "4ee3f8a1a39a4dd7a9197a1103e1fd92": {
      "model_module": "@jupyter-widgets/controls",
      "model_module_version": "1.5.0",
      "model_name": "ButtonStyleModel",
      "state": {}
     },
     "4ef8d5a184d9485b8058b9cc4dc7a767": {
      "model_module": "@jupyter-widgets/base",
      "model_module_version": "1.2.0",
      "model_name": "LayoutModel",
      "state": {
       "margin": "0px 0px 0px 100px"
      }
     },
     "4f41fd78bd8f4f20b12d523baa532af2": {
      "model_module": "@jupyter-widgets/base",
      "model_module_version": "1.2.0",
      "model_name": "LayoutModel",
      "state": {}
     },
     "4f4925d6fe4246e9ae3a60239147b49c": {
      "model_module": "@jupyter-widgets/controls",
      "model_module_version": "1.5.0",
      "model_name": "HTMLModel",
      "state": {
       "layout": "IPY_MODEL_5754b1b0e3e04fdaadd17a29a6c26fd4",
       "style": "IPY_MODEL_9dc9641a37c64a9ea2eead3303217886",
       "value": "<h3>Player Result</h3>"
      }
     },
     "4f49a126e08844099e3847d54cf9c140": {
      "model_module": "@jupyter-widgets/base",
      "model_module_version": "1.2.0",
      "model_name": "LayoutModel",
      "state": {
       "margin": "0px 0px 0px 100px"
      }
     },
     "4f8a89c5109a4bb891e308a0bf9f20e7": {
      "model_module": "@jupyter-widgets/controls",
      "model_module_version": "1.5.0",
      "model_name": "HTMLModel",
      "state": {
       "layout": "IPY_MODEL_8e5d2baabe634c5dbf7db9b6e32bed19",
       "style": "IPY_MODEL_8e53bff62285445ba2d877f595ca0a66",
       "value": "<h2><font color='black'>Remaining Guesses:                          3</h2>"
      }
     },
     "4fa5e463361d46d5a4caf35d9e45b051": {
      "model_module": "@jupyter-widgets/controls",
      "model_module_version": "1.5.0",
      "model_name": "ButtonModel",
      "state": {
       "button_style": "warning",
       "description": "R",
       "disabled": true,
       "layout": "IPY_MODEL_73c2b8be158649eb8053a2366e14f128",
       "style": "IPY_MODEL_0c2d02a2e3e146a2914fb4162ab44a2e"
      }
     },
     "4fa87d46053449979f5ffb9c209ada56": {
      "model_module": "@jupyter-widgets/base",
      "model_module_version": "1.2.0",
      "model_name": "LayoutModel",
      "state": {
       "margin": "0px 0px 0px 100px"
      }
     },
     "4fac9939bdaa41f496e61b6135097de0": {
      "model_module": "@jupyter-widgets/controls",
      "model_module_version": "1.5.0",
      "model_name": "DescriptionStyleModel",
      "state": {
       "description_width": ""
      }
     },
     "4facb8a3702f4199ac1282413922caf5": {
      "model_module": "@jupyter-widgets/controls",
      "model_module_version": "1.5.0",
      "model_name": "HTMLModel",
      "state": {
       "layout": "IPY_MODEL_53e5909fa16049c59239f2ba94811b3e",
       "style": "IPY_MODEL_b271619b4f614ac58fcdc307fc10da28",
       "value": "<h3>Click on a letter below to guess the word.</h3>"
      }
     },
     "4fad67d2eea5484aa7e5639ac6e58f9e": {
      "model_module": "@jupyter-widgets/controls",
      "model_module_version": "1.5.0",
      "model_name": "HTMLModel",
      "state": {
       "layout": "IPY_MODEL_6159d8ebb5664a728ff7e415e4464428",
       "style": "IPY_MODEL_2bd9ddfd37984a508ecdadc94399621b",
       "value": "<h1><font color=black>Secret Word:                          _ _ _ _ _ _</h1>"
      }
     },
     "4fb6c5a720f74898b8dc009189ece164": {
      "model_module": "@jupyter-widgets/controls",
      "model_module_version": "1.5.0",
      "model_name": "HTMLModel",
      "state": {
       "layout": "IPY_MODEL_47352f9497724169835a836da34ecba7",
       "style": "IPY_MODEL_7c8c0f0fcb8d4ceaa708fb731331caad",
       "value": "<h3>Click on a letter below to guess the word.</h3>"
      }
     },
     "4fc4d9654f814eddbe5ec36a14180362": {
      "model_module": "@jupyter-widgets/base",
      "model_module_version": "1.2.0",
      "model_name": "LayoutModel",
      "state": {
       "width": "500px"
      }
     },
     "4fe0acdffe48485fb5c022058ad7347a": {
      "model_module": "@jupyter-widgets/base",
      "model_module_version": "1.2.0",
      "model_name": "LayoutModel",
      "state": {
       "height": "25px",
       "width": "33px"
      }
     },
     "5008270eb1f0426999a3b1202453ecd0": {
      "model_module": "@jupyter-widgets/base",
      "model_module_version": "1.2.0",
      "model_name": "LayoutModel",
      "state": {
       "margin": "0px 0px 0px 100px"
      }
     },
     "502230a423c2483badd8f32ee0ebf063": {
      "model_module": "@jupyter-widgets/controls",
      "model_module_version": "1.5.0",
      "model_name": "ButtonModel",
      "state": {
       "button_style": "warning",
       "description": "A",
       "disabled": true,
       "layout": "IPY_MODEL_8de1cfb2d4284a03b51bded67162b8bf",
       "style": "IPY_MODEL_ddd9890f0fc441b5ba6baec21ca4df41"
      }
     },
     "503038fd20514057ae0d9372673d933b": {
      "model_module": "@jupyter-widgets/base",
      "model_module_version": "1.2.0",
      "model_name": "LayoutModel",
      "state": {
       "margin": "20px 0px 0px 20px"
      }
     },
     "507d483ce4ff45dd952d5e81b370001b": {
      "model_module": "@jupyter-widgets/base",
      "model_module_version": "1.2.0",
      "model_name": "LayoutModel",
      "state": {
       "grid_template_areas": "\"header header header\"\n\"left-sidebar center center\"\n\"footer footer footer\"",
       "grid_template_columns": "1fr 2fr 1fr",
       "grid_template_rows": "1fr 3fr 1fr"
      }
     },
     "508189eebb3f420b8b2e650d615fee1b": {
      "model_module": "@jupyter-widgets/base",
      "model_module_version": "1.2.0",
      "model_name": "LayoutModel",
      "state": {
       "height": "auto"
      }
     },
     "50a2a608c1f341a1a717a310e4e8906a": {
      "model_module": "@jupyter-widgets/base",
      "model_module_version": "1.2.0",
      "model_name": "LayoutModel",
      "state": {
       "height": "25px",
       "width": "33px"
      }
     },
     "50c79e1d365e4a28a95efe75edd8d2f4": {
      "model_module": "@jupyter-widgets/base",
      "model_module_version": "1.2.0",
      "model_name": "LayoutModel",
      "state": {
       "margin": "0px 0px 0px 100px"
      }
     },
     "50d7846c6871480da9d3c422e2001b93": {
      "model_module": "@jupyter-widgets/controls",
      "model_module_version": "1.5.0",
      "model_name": "HTMLModel",
      "state": {
       "layout": "IPY_MODEL_0ae3a6197c0c405b8574a366d8965c9f",
       "style": "IPY_MODEL_8a8857fe76b344529c7c772efa22e66e",
       "value": "<h4>Games: 0</h4>"
      }
     },
     "50e7dcb6042f4538a0c852014d226298": {
      "model_module": "@jupyter-widgets/controls",
      "model_module_version": "1.5.0",
      "model_name": "HTMLModel",
      "state": {
       "layout": "IPY_MODEL_bcd3c105153242b9a11977e560e5d039",
       "style": "IPY_MODEL_96d0b3c91b8648209487c4b20d2f0f51",
       "value": "<h3>Player Result</h3>"
      }
     },
     "5110c7e6f7944ed49e936033891387df": {
      "model_module": "@jupyter-widgets/base",
      "model_module_version": "1.2.0",
      "model_name": "LayoutModel",
      "state": {}
     },
     "51117b85dbbe4911ac0075c5efec32b1": {
      "model_module": "@jupyter-widgets/controls",
      "model_module_version": "1.5.0",
      "model_name": "DescriptionStyleModel",
      "state": {
       "description_width": ""
      }
     },
     "5144a3ca41a845419aad5e6d954b0afc": {
      "model_module": "@jupyter-widgets/controls",
      "model_module_version": "1.5.0",
      "model_name": "ButtonModel",
      "state": {
       "button_style": "warning",
       "description": "N",
       "disabled": true,
       "layout": "IPY_MODEL_98b19658ef134d1480f9b4df5a1f2b7f",
       "style": "IPY_MODEL_5a72aa6306d348009cea8cbffd7ed7af"
      }
     },
     "514a3999747d4423826a22cbd1f1a41b": {
      "model_module": "@jupyter-widgets/base",
      "model_module_version": "1.2.0",
      "model_name": "LayoutModel",
      "state": {
       "height": "25px",
       "width": "33px"
      }
     },
     "514d169d79454df48b4dbcd5bdc1dc9f": {
      "model_module": "@jupyter-widgets/controls",
      "model_module_version": "1.5.0",
      "model_name": "HTMLModel",
      "state": {
       "layout": "IPY_MODEL_cf23468265ef4941a9bc938cacc89813",
       "style": "IPY_MODEL_3952c00f35ad4828a7233cf9770b8a84",
       "value": "<h3>Click on a letter below to guess the word.</h3>"
      }
     },
     "51519eb2c8a64177a049aa2c93eb494f": {
      "model_module": "@jupyter-widgets/controls",
      "model_module_version": "1.5.0",
      "model_name": "ButtonModel",
      "state": {
       "button_style": "success",
       "description": "Play Again",
       "layout": "IPY_MODEL_ce61636e1baf4530a1f8b8bf4a006cc4",
       "style": "IPY_MODEL_32f24ed53d9749afb8828ade98b19de2"
      }
     },
     "517b507f470f43af9191169432b8b6d1": {
      "model_module": "@jupyter-widgets/controls",
      "model_module_version": "1.5.0",
      "model_name": "HTMLModel",
      "state": {
       "layout": "IPY_MODEL_4fa87d46053449979f5ffb9c209ada56",
       "style": "IPY_MODEL_5f552e5adb9d440aa42ef2cb8293b644",
       "value": "<h4>Games: 2</h4>"
      }
     },
     "51840f60f498406e82c929f8f685a1d6": {
      "model_module": "@jupyter-widgets/controls",
      "model_module_version": "1.5.0",
      "model_name": "ButtonStyleModel",
      "state": {}
     },
     "51937d0daae1438fa1b2df8df0c5e84c": {
      "model_module": "@jupyter-widgets/base",
      "model_module_version": "1.2.0",
      "model_name": "LayoutModel",
      "state": {
       "height": "auto"
      }
     },
     "519d06690751473c9e2a54bec558ce48": {
      "model_module": "@jupyter-widgets/controls",
      "model_module_version": "1.5.0",
      "model_name": "ButtonModel",
      "state": {
       "button_style": "warning",
       "description": "M",
       "disabled": true,
       "layout": "IPY_MODEL_431aae284a4a4384b2ff7de460d9f5d6",
       "style": "IPY_MODEL_6686a25933a14ed9ab0c7f6ad0f1826b"
      }
     },
     "51c21e843b5644fb8217a8e5654cc71b": {
      "model_module": "@jupyter-widgets/controls",
      "model_module_version": "1.5.0",
      "model_name": "ButtonModel",
      "state": {
       "button_style": "warning",
       "description": "A",
       "disabled": true,
       "layout": "IPY_MODEL_f88b1289a8f347d3b96929fde91f8398",
       "style": "IPY_MODEL_164cc6f09e094d23aa3cb7d0c1146c99"
      }
     },
     "52029887910c416da3c686c468f8b253": {
      "model_module": "@jupyter-widgets/base",
      "model_module_version": "1.2.0",
      "model_name": "LayoutModel",
      "state": {
       "height": "25px",
       "width": "33px"
      }
     },
     "5235ff036f534574bb2681cfaec96278": {
      "model_module": "@jupyter-widgets/controls",
      "model_module_version": "1.5.0",
      "model_name": "HTMLModel",
      "state": {
       "layout": "IPY_MODEL_c4f2e5dd664b4a6dbc7fa040410dd6fc",
       "style": "IPY_MODEL_2cd5e3624a054f59b17e0969091af297",
       "value": "<h3>Player Result</h3>"
      }
     },
     "523f6a5a272348e3af87e850a98417f0": {
      "model_module": "@jupyter-widgets/controls",
      "model_module_version": "1.5.0",
      "model_name": "ButtonStyleModel",
      "state": {}
     },
     "52674fea2296469c834fd00b07cf9ba4": {
      "model_module": "@jupyter-widgets/base",
      "model_module_version": "1.2.0",
      "model_name": "LayoutModel",
      "state": {
       "height": "25px",
       "width": "33px"
      }
     },
     "52ba490f67a541a1a630987bf0339016": {
      "model_module": "@jupyter-widgets/base",
      "model_module_version": "1.2.0",
      "model_name": "LayoutModel",
      "state": {
       "height": "25px",
       "width": "33px"
      }
     },
     "52e71e0948e3427dbee24ba05e8c2beb": {
      "model_module": "@jupyter-widgets/base",
      "model_module_version": "1.2.0",
      "model_name": "LayoutModel",
      "state": {
       "grid_area": "header"
      }
     },
     "52ef922d00004f97b4a93e319c3b3d11": {
      "model_module": "@jupyter-widgets/base",
      "model_module_version": "1.2.0",
      "model_name": "LayoutModel",
      "state": {
       "margin": "0px 0px 0px 100px"
      }
     },
     "535489b5ec0e43aeaa36777d21fa4ce5": {
      "model_module": "@jupyter-widgets/controls",
      "model_module_version": "1.5.0",
      "model_name": "ButtonStyleModel",
      "state": {}
     },
     "538a0e7f51264f4faced9c9749d692e6": {
      "model_module": "@jupyter-widgets/controls",
      "model_module_version": "1.5.0",
      "model_name": "HTMLModel",
      "state": {
       "layout": "IPY_MODEL_63844a63872c48909c1e70af373c8d57",
       "style": "IPY_MODEL_6b7b617c597b46a5bc6586412b369537",
       "value": "<h2><font color='black'>Remaining Guesses:                          4</h2>"
      }
     },
     "539c1d78d37449ddacaa6aea41429510": {
      "model_module": "@jupyter-widgets/base",
      "model_module_version": "1.2.0",
      "model_name": "LayoutModel",
      "state": {}
     },
     "53af3a4b87f04aea87cc2ae9355df43a": {
      "model_module": "@jupyter-widgets/controls",
      "model_module_version": "1.5.0",
      "model_name": "HTMLModel",
      "state": {
       "layout": "IPY_MODEL_53d66c4311c84adcb895fab9be8ac9eb",
       "style": "IPY_MODEL_e9d321446f4f4d1980b02b238df3c423",
       "value": "<h4>Games: 0</h4>"
      }
     },
     "53b01b3abb9d43fab47a0371025efbea": {
      "model_module": "@jupyter-widgets/base",
      "model_module_version": "1.2.0",
      "model_name": "LayoutModel",
      "state": {
       "grid_area": "center"
      }
     },
     "53b16a39f5974ba49f7925ebcff84e86": {
      "model_module": "@jupyter-widgets/controls",
      "model_module_version": "1.5.0",
      "model_name": "ButtonModel",
      "state": {
       "button_style": "warning",
       "description": "J",
       "disabled": true,
       "layout": "IPY_MODEL_aa702e0830bd430480f26447b47830a9",
       "style": "IPY_MODEL_85a6267113bb4d85a216ae9a260f7a5c"
      }
     },
     "53ba7851b8474b37b205403b6f7b5668": {
      "model_module": "@jupyter-widgets/controls",
      "model_module_version": "1.5.0",
      "model_name": "VBoxModel",
      "state": {
       "children": [
        "IPY_MODEL_1ee38ce35de8477da7a7e564b694f4a1",
        "IPY_MODEL_20154f7cacda48caa88ab4586e432ce3"
       ],
       "layout": "IPY_MODEL_a445993c38b346ae82920608e230caa1"
      }
     },
     "53bf2d52f3ce46b48019215163e75b51": {
      "model_module": "@jupyter-widgets/controls",
      "model_module_version": "1.5.0",
      "model_name": "DescriptionStyleModel",
      "state": {
       "description_width": ""
      }
     },
     "53d66c4311c84adcb895fab9be8ac9eb": {
      "model_module": "@jupyter-widgets/base",
      "model_module_version": "1.2.0",
      "model_name": "LayoutModel",
      "state": {
       "margin": "0px 0px 0px 100px"
      }
     },
     "53e5909fa16049c59239f2ba94811b3e": {
      "model_module": "@jupyter-widgets/base",
      "model_module_version": "1.2.0",
      "model_name": "LayoutModel",
      "state": {
       "margin": "0px 0px 0px 70px"
      }
     },
     "5405c537e77c46398630293dd8499248": {
      "model_module": "@jupyter-widgets/controls",
      "model_module_version": "1.5.0",
      "model_name": "DescriptionStyleModel",
      "state": {
       "description_width": ""
      }
     },
     "5428fb8d469d4ff8b96a7b205c47fed8": {
      "model_module": "@jupyter-widgets/base",
      "model_module_version": "1.2.0",
      "model_name": "LayoutModel",
      "state": {}
     },
     "5444744bb22d492d85fbbaef4aee0636": {
      "model_module": "@jupyter-widgets/controls",
      "model_module_version": "1.5.0",
      "model_name": "ButtonModel",
      "state": {
       "button_style": "warning",
       "description": "H",
       "disabled": true,
       "layout": "IPY_MODEL_486abd3b05594491a581237361f2ad02",
       "style": "IPY_MODEL_9ae0eeb0084f43f6b417570f9d80d2b6"
      }
     },
     "5451fd77da124be18b46f753d2d7228e": {
      "model_module": "@jupyter-widgets/controls",
      "model_module_version": "1.5.0",
      "model_name": "ButtonModel",
      "state": {
       "button_style": "warning",
       "description": "B",
       "layout": "IPY_MODEL_73a204240eb849279e8d84ce82780d4a",
       "style": "IPY_MODEL_ed829bdc5ae4479f8ed7030e94701424",
       "tooltip": "Click to guess B."
      }
     },
     "5452ea3c0c1f43019bea6b385406bc70": {
      "model_module": "@jupyter-widgets/controls",
      "model_module_version": "1.5.0",
      "model_name": "DescriptionStyleModel",
      "state": {
       "description_width": ""
      }
     },
     "54586e7c8c254c3d9f324ad8115b0287": {
      "model_module": "@jupyter-widgets/controls",
      "model_module_version": "1.5.0",
      "model_name": "HBoxModel",
      "state": {
       "children": [
        "IPY_MODEL_1a25c1301dd942a1b4e389679ae7ef7f",
        "IPY_MODEL_113d3f5e7eb34faf960ba0d8f08ce3df",
        "IPY_MODEL_bb2fbf43e3a0488d937ca063c9236f43",
        "IPY_MODEL_d7555b31ea5f49fbae381562565bfe5d",
        "IPY_MODEL_e202e82046d64f318119a5b8a99f81ed",
        "IPY_MODEL_9bbfd56253234e77a94e6f17baee8f39",
        "IPY_MODEL_971c71c089f345789f57acb54345a24d",
        "IPY_MODEL_ae7628c8b9634c41829769ac61a0d73a",
        "IPY_MODEL_f654f259de4a45d18042434c0c6b24a9",
        "IPY_MODEL_9eb132c688e8471d8c7388af4d68ccba",
        "IPY_MODEL_84d05da0fd5b4cac9c831be90ae3dd69",
        "IPY_MODEL_3522ea9c85d647968c0dc72b4fd8c8fb",
        "IPY_MODEL_f30d55f4dbee4927affcbee627b67f36",
        "IPY_MODEL_81959861812a48f383caec6af5fac1b9",
        "IPY_MODEL_dafc4e0dfc4249a6af9dfde2904feddd",
        "IPY_MODEL_8c6e7f5f5c754bf59261fe53dee75c47",
        "IPY_MODEL_094807195ac94a59917b6c02352506cf",
        "IPY_MODEL_28d38bbf2af64e03bb3bb4a33aee0d8a",
        "IPY_MODEL_5ded8fc59cc445b1ae3823dffce78fd4",
        "IPY_MODEL_bf216fcfef354c74b91cd71ba153934b",
        "IPY_MODEL_aa7dc55760e841e087731e5457e5de37",
        "IPY_MODEL_ae90e04840ea4e4b9e87b747e3a3db1d",
        "IPY_MODEL_cc1d7feeca254830a312197042b1705b",
        "IPY_MODEL_72bb229879b840c5872a0b1262782f7e",
        "IPY_MODEL_da4102fd6a6b4994b78beebf973becf4",
        "IPY_MODEL_3ae90787446841ff98f9838ff7f06adf"
       ],
       "layout": "IPY_MODEL_5428fb8d469d4ff8b96a7b205c47fed8"
      }
     },
     "547158481cb7405a96a8d9440e3d417b": {
      "model_module": "@jupyter-widgets/controls",
      "model_module_version": "1.5.0",
      "model_name": "DescriptionStyleModel",
      "state": {
       "description_width": ""
      }
     },
     "5488dbbfa1c34c21aaf7723a79b3450c": {
      "model_module": "@jupyter-widgets/controls",
      "model_module_version": "1.5.0",
      "model_name": "DescriptionStyleModel",
      "state": {
       "description_width": ""
      }
     },
     "54a88f7241c3478fa7a5d05fc6d60e99": {
      "model_module": "@jupyter-widgets/controls",
      "model_module_version": "1.5.0",
      "model_name": "ButtonModel",
      "state": {
       "button_style": "warning",
       "description": "M",
       "disabled": true,
       "layout": "IPY_MODEL_d551d89d66594535b903ae923b85c830",
       "style": "IPY_MODEL_710e5db315884df89695ce2b5d4ecfa2"
      }
     },
     "54fb343c188e43faaab24ec24c860d3d": {
      "model_module": "@jupyter-widgets/base",
      "model_module_version": "1.2.0",
      "model_name": "LayoutModel",
      "state": {
       "grid_area": "center"
      }
     },
     "550630c09dc941ba811a67983e2bf068": {
      "model_module": "@jupyter-widgets/controls",
      "model_module_version": "1.5.0",
      "model_name": "HBoxModel",
      "state": {
       "children": [
        "IPY_MODEL_91283cf9fc664381b6f31be37d0906a5",
        "IPY_MODEL_85c548c82cd64c57be88c0cdf7fdae34"
       ],
       "layout": "IPY_MODEL_3a13058829174778b957158375518d72"
      }
     },
     "55211943376244b6ba0680de539d9daa": {
      "buffers": [
       {
        "data": "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",
        "encoding": "base64",
        "path": [
         "value"
        ]
       }
      ],
      "model_module": "@jupyter-widgets/controls",
      "model_module_version": "1.5.0",
      "model_name": "ImageModel",
      "state": {
       "layout": "IPY_MODEL_e0cf573918cc4f20aca72ce412a77670",
       "value": {}
      }
     },
     "554cf56aa1e844f09cd3196eb97a68ab": {
      "model_module": "@jupyter-widgets/base",
      "model_module_version": "1.2.0",
      "model_name": "LayoutModel",
      "state": {
       "grid_area": "center"
      }
     },
     "55b15625310044c58038e06450c60277": {
      "model_module": "@jupyter-widgets/controls",
      "model_module_version": "1.5.0",
      "model_name": "HTMLModel",
      "state": {
       "layout": "IPY_MODEL_b156e0e58a3f4d3aa122d21842c537fe",
       "style": "IPY_MODEL_afdbab412e634a0e98c6e0f8295d8e50",
       "value": "<h1><font color=black>Secret Word:                          _ i _ i</h1>"
      }
     },
     "55bfb47e914e4166ac76ab51bb3f08a2": {
      "model_module": "@jupyter-widgets/controls",
      "model_module_version": "1.5.0",
      "model_name": "ButtonStyleModel",
      "state": {}
     },
     "55c3bc91f4c04183bacfd9fb49a9263f": {
      "model_module": "@jupyter-widgets/controls",
      "model_module_version": "1.5.0",
      "model_name": "HTMLModel",
      "state": {
       "layout": "IPY_MODEL_aea84970bca54945ba22898104bb3d2b",
       "style": "IPY_MODEL_5796ef6b4f9c4336915c31dac3757803",
       "value": "<h1><font color=black>Secret Word:                          _ _ _ _ _ _</h1>"
      }
     },
     "55ee5b4301024565bf760cb222710db1": {
      "model_module": "@jupyter-widgets/controls",
      "model_module_version": "1.5.0",
      "model_name": "ButtonModel",
      "state": {
       "button_style": "warning",
       "description": "T",
       "disabled": true,
       "layout": "IPY_MODEL_56da3b8d08ef476f9cbb8c84256078c0",
       "style": "IPY_MODEL_7da43099f1814224825feee7838eb93d"
      }
     },
     "55f55f3470524cbbb7fc37443eb22bb2": {
      "model_module": "@jupyter-widgets/controls",
      "model_module_version": "1.5.0",
      "model_name": "ButtonStyleModel",
      "state": {}
     },
     "562bfd64ffac4e88b7accadf045e1808": {
      "model_module": "@jupyter-widgets/base",
      "model_module_version": "1.2.0",
      "model_name": "LayoutModel",
      "state": {
       "grid_area": "footer",
       "margin": "-60px 0px 0px 0px"
      }
     },
     "5632044e1c96429db8c7024cfe22ab1c": {
      "model_module": "@jupyter-widgets/controls",
      "model_module_version": "1.5.0",
      "model_name": "DescriptionStyleModel",
      "state": {
       "description_width": ""
      }
     },
     "56337835d80c45f3adb605d636d60ce1": {
      "model_module": "@jupyter-widgets/base",
      "model_module_version": "1.2.0",
      "model_name": "LayoutModel",
      "state": {
       "height": "25px",
       "width": "33px"
      }
     },
     "563a319c1f3d4af3a4dabc57f94b0757": {
      "model_module": "@jupyter-widgets/base",
      "model_module_version": "1.2.0",
      "model_name": "LayoutModel",
      "state": {
       "margin": "0px 0px 0px 100px"
      }
     },
     "5659a31930e6493da7a904124ebd2884": {
      "model_module": "@jupyter-widgets/controls",
      "model_module_version": "1.5.0",
      "model_name": "VBoxModel",
      "state": {
       "children": [
        "IPY_MODEL_2f6cf8d0e2cd4a449bbe10dc3d9eeedf",
        "IPY_MODEL_f77c3a21da834e7f87b92f5ffd4470ed",
        "IPY_MODEL_d36be541e6a54809ba6349b83fa9eb5d"
       ],
       "layout": "IPY_MODEL_e1cb68f0eca141729891204ea44bf6d9"
      }
     },
     "5668bd7a2bf242138b06062f325b7659": {
      "model_module": "@jupyter-widgets/controls",
      "model_module_version": "1.5.0",
      "model_name": "DescriptionStyleModel",
      "state": {
       "description_width": ""
      }
     },
     "56afc96fcffb4bf88d05f9643ef72b83": {
      "model_module": "@jupyter-widgets/controls",
      "model_module_version": "1.5.0",
      "model_name": "HTMLModel",
      "state": {
       "layout": "IPY_MODEL_9dbdd34e1b8740eeb816b788a11e0a02",
       "style": "IPY_MODEL_be5e7c292d28430b847f5653ec021d9f",
       "value": "<h3>Player Result</h3>"
      }
     },
     "56da3b8d08ef476f9cbb8c84256078c0": {
      "model_module": "@jupyter-widgets/base",
      "model_module_version": "1.2.0",
      "model_name": "LayoutModel",
      "state": {
       "height": "25px",
       "width": "33px"
      }
     },
     "56da9553b67045dea2a1b59b598c2d43": {
      "model_module": "@jupyter-widgets/controls",
      "model_module_version": "1.5.0",
      "model_name": "ButtonStyleModel",
      "state": {}
     },
     "56f4bcc8bfdf4348ba3703819f0f9454": {
      "model_module": "@jupyter-widgets/controls",
      "model_module_version": "1.5.0",
      "model_name": "HBoxModel",
      "state": {
       "children": [
        "IPY_MODEL_38bf56f129c34d81b5ff44de21706e56",
        "IPY_MODEL_47e9ac21b1d048e59fe29dc3481d60d1"
       ],
       "layout": "IPY_MODEL_45c6a649e7b548678104d8157359f5c3"
      }
     },
     "56fa688d2571411c8c385c68f32cab38": {
      "model_module": "@jupyter-widgets/controls",
      "model_module_version": "1.5.0",
      "model_name": "DescriptionStyleModel",
      "state": {
       "description_width": ""
      }
     },
     "56ff0a98de8c496cba6582499c56cc19": {
      "model_module": "@jupyter-widgets/base",
      "model_module_version": "1.2.0",
      "model_name": "LayoutModel",
      "state": {
       "width": "500px"
      }
     },
     "573f886749854bfeb446ccfeafc8bfaa": {
      "model_module": "@jupyter-widgets/base",
      "model_module_version": "1.2.0",
      "model_name": "LayoutModel",
      "state": {
       "margin": "0px 0px 0px 70px"
      }
     },
     "574a0699b2804b06b28f000b24036caf": {
      "model_module": "@jupyter-widgets/controls",
      "model_module_version": "1.5.0",
      "model_name": "HTMLModel",
      "state": {
       "layout": "IPY_MODEL_9edfab265bc5457ab06681e6ea1b6d9e",
       "style": "IPY_MODEL_706c185bd00c445bae076fea7598a4c5",
       "value": "<h3>Click on a letter below to guess the word.</h3>"
      }
     },
     "5754b1b0e3e04fdaadd17a29a6c26fd4": {
      "model_module": "@jupyter-widgets/base",
      "model_module_version": "1.2.0",
      "model_name": "LayoutModel",
      "state": {
       "margin": "0px 0px 0px 100px"
      }
     },
     "575e97f20e4d4d0d9ae93e62735a4340": {
      "model_module": "@jupyter-widgets/controls",
      "model_module_version": "1.5.0",
      "model_name": "DescriptionStyleModel",
      "state": {
       "description_width": ""
      }
     },
     "5775f9efa2bc46ca8b4d5f4e37f88640": {
      "model_module": "@jupyter-widgets/base",
      "model_module_version": "1.2.0",
      "model_name": "LayoutModel",
      "state": {
       "height": "25px",
       "width": "33px"
      }
     },
     "5789ebf3af3f43d8b1eb01517c1ec7ad": {
      "model_module": "@jupyter-widgets/controls",
      "model_module_version": "1.5.0",
      "model_name": "DescriptionStyleModel",
      "state": {
       "description_width": ""
      }
     },
     "5796ef6b4f9c4336915c31dac3757803": {
      "model_module": "@jupyter-widgets/controls",
      "model_module_version": "1.5.0",
      "model_name": "DescriptionStyleModel",
      "state": {
       "description_width": ""
      }
     },
     "57c908a427ca474ca0fff825d816b882": {
      "model_module": "@jupyter-widgets/base",
      "model_module_version": "1.2.0",
      "model_name": "LayoutModel",
      "state": {
       "height": "auto"
      }
     },
     "57dcfcc4e6e64ee5b6111cc8f9122ba3": {
      "model_module": "@jupyter-widgets/base",
      "model_module_version": "1.2.0",
      "model_name": "LayoutModel",
      "state": {
       "margin": "0px 0px 0px 100px"
      }
     },
     "57e1f1364bea42ed99fe7557a3777b6a": {
      "model_module": "@jupyter-widgets/base",
      "model_module_version": "1.2.0",
      "model_name": "LayoutModel",
      "state": {
       "grid_area": "header"
      }
     },
     "58239e54dbc94548995b88a84512c016": {
      "model_module": "@jupyter-widgets/base",
      "model_module_version": "1.2.0",
      "model_name": "LayoutModel",
      "state": {
       "height": "25px",
       "width": "33px"
      }
     },
     "583b63ddd6e14629bea522474d567458": {
      "model_module": "@jupyter-widgets/controls",
      "model_module_version": "1.5.0",
      "model_name": "DescriptionStyleModel",
      "state": {
       "description_width": ""
      }
     },
     "584c54548001477899e040ed3b0fb6e0": {
      "model_module": "@jupyter-widgets/controls",
      "model_module_version": "1.5.0",
      "model_name": "HTMLModel",
      "state": {
       "layout": "IPY_MODEL_1061e1de445c40559cc47ff04a7bedb6",
       "style": "IPY_MODEL_c1c355cb439d4f7fa0d22f4e053aa216",
       "value": "<h1><font color=black>Secret Word:                          _ l _ _</h1>"
      }
     },
     "5850c73c1c594e11b8bd8b66c8180577": {
      "model_module": "@jupyter-widgets/base",
      "model_module_version": "1.2.0",
      "model_name": "LayoutModel",
      "state": {
       "margin": "0px 0px 0px 100px"
      }
     },
     "58717eaf11fe47b1b3118e69c6a40098": {
      "model_module": "@jupyter-widgets/controls",
      "model_module_version": "1.5.0",
      "model_name": "ButtonStyleModel",
      "state": {}
     },
     "588e652059b84ad481c1b8f82a7df0b4": {
      "model_module": "@jupyter-widgets/controls",
      "model_module_version": "1.5.0",
      "model_name": "HTMLModel",
      "state": {
       "layout": "IPY_MODEL_dc5aff719bdf49a7967a50cde187f738",
       "style": "IPY_MODEL_7892b001f7f3406f97df203f8c9371e2",
       "value": "<h3>Player Result</h3>"
      }
     },
     "58b43d6a14ee4d98a54da864cb18c436": {
      "model_module": "@jupyter-widgets/controls",
      "model_module_version": "1.5.0",
      "model_name": "VBoxModel",
      "state": {
       "children": [
        "IPY_MODEL_94d8749e063942d398d4cc1c80a5fb13",
        "IPY_MODEL_175757f915274316828184a159376b04"
       ],
       "layout": "IPY_MODEL_ea40b165b1084782b5bdccc3ebfc1f1e"
      }
     },
     "58b742de77944b89bfe62ee42937fcea": {
      "model_module": "@jupyter-widgets/controls",
      "model_module_version": "1.5.0",
      "model_name": "ButtonStyleModel",
      "state": {}
     },
     "58b93c223a944d06ad19e0e2aec5f7e3": {
      "model_module": "@jupyter-widgets/base",
      "model_module_version": "1.2.0",
      "model_name": "LayoutModel",
      "state": {
       "height": "25px",
       "width": "33px"
      }
     },
     "58e8cb0766224ce0ac6cfdba79dd37d2": {
      "model_module": "@jupyter-widgets/base",
      "model_module_version": "1.2.0",
      "model_name": "LayoutModel",
      "state": {
       "grid_area": "header"
      }
     },
     "58e930b7eea043feba031af6f36ac81f": {
      "model_module": "@jupyter-widgets/controls",
      "model_module_version": "1.5.0",
      "model_name": "VBoxModel",
      "state": {
       "children": [
        "IPY_MODEL_b09db1313585460d9a12e6d48407d00b",
        "IPY_MODEL_ce8a550704914c4e8339be8497035138",
        "IPY_MODEL_8487079e63a0406d943e049b0c03b53e"
       ],
       "layout": "IPY_MODEL_3cfd5f07c62f4cfbbec9855d51469e2e"
      }
     },
     "58ecb162e21d4db7a1a710addab4f6bb": {
      "model_module": "@jupyter-widgets/controls",
      "model_module_version": "1.5.0",
      "model_name": "VBoxModel",
      "state": {
       "children": [
        "IPY_MODEL_891d03c17ec14394ad71e54e22f1c4b3",
        "IPY_MODEL_7ead23f0c1b147d5b9724c372138d42a"
       ],
       "layout": "IPY_MODEL_cf4599e990fa44a79f1b0aa80ee00350"
      }
     },
     "58f797bf169245c294faf54b71b7cd10": {
      "model_module": "@jupyter-widgets/controls",
      "model_module_version": "1.5.0",
      "model_name": "ButtonModel",
      "state": {
       "button_style": "warning",
       "description": "X",
       "layout": "IPY_MODEL_8da7dd1015144731ab88dc43d7f37aad",
       "style": "IPY_MODEL_ad169cb55484434da5eb47094f6aebea",
       "tooltip": "Click to guess X."
      }
     },
     "58fdb2aaaa794fc6bcfcd9615b6194df": {
      "model_module": "@jupyter-widgets/controls",
      "model_module_version": "1.5.0",
      "model_name": "ButtonStyleModel",
      "state": {}
     },
     "590390afe884430f9fc980d442543e59": {
      "model_module": "@jupyter-widgets/base",
      "model_module_version": "1.2.0",
      "model_name": "LayoutModel",
      "state": {
       "margin": "0px 0px 0px 70px"
      }
     },
     "591d48ef1e40467a835aa927aa2b3278": {
      "model_module": "@jupyter-widgets/base",
      "model_module_version": "1.2.0",
      "model_name": "LayoutModel",
      "state": {
       "margin": "0px 0px 0px 70px"
      }
     },
     "592a13c334b041a7892edc95c06944d2": {
      "model_module": "@jupyter-widgets/controls",
      "model_module_version": "1.5.0",
      "model_name": "HTMLModel",
      "state": {
       "layout": "IPY_MODEL_a7eb90a0993f4b98ba606d41ad9d16f8",
       "style": "IPY_MODEL_def7f3530ba1417eb54c1e8920413fae",
       "value": "<h1><font color=red>Secret Word:                          indigo</h1>"
      }
     },
     "59308c0323ff414384207db1d73711b4": {
      "model_module": "@jupyter-widgets/controls",
      "model_module_version": "1.5.0",
      "model_name": "GridBoxModel",
      "state": {
       "children": [
        "IPY_MODEL_19ed6d5b4c15466fa4ba40056b92a24a",
        "IPY_MODEL_9d9e9c869bc84cd984e57d039365c199",
        "IPY_MODEL_6623b274d38c40fcab9a8b51bf3d6e29",
        "IPY_MODEL_692a4f8a747043b3a3d53a9e23610145"
       ],
       "layout": "IPY_MODEL_3c09dc5c1749414b8d819f93d65dfde7"
      }
     },
     "593ea182082a4624af08c7331441d515": {
      "model_module": "@jupyter-widgets/controls",
      "model_module_version": "1.5.0",
      "model_name": "DescriptionStyleModel",
      "state": {
       "description_width": ""
      }
     },
     "594f20c62ac4490ca5781d40695a2252": {
      "model_module": "@jupyter-widgets/base",
      "model_module_version": "1.2.0",
      "model_name": "LayoutModel",
      "state": {
       "grid_area": "center"
      }
     },
     "5967230a50d44a33b283c600fa015024": {
      "model_module": "@jupyter-widgets/controls",
      "model_module_version": "1.5.0",
      "model_name": "ButtonStyleModel",
      "state": {}
     },
     "598cbb0e485d4fcdb8c13e57882a9ef6": {
      "model_module": "@jupyter-widgets/controls",
      "model_module_version": "1.5.0",
      "model_name": "ButtonStyleModel",
      "state": {}
     },
     "59a4b4c7b0664d2fb0174e293486c330": {
      "model_module": "@jupyter-widgets/controls",
      "model_module_version": "1.5.0",
      "model_name": "ButtonStyleModel",
      "state": {}
     },
     "59b712e8683a4a3a96e4ccb758298be9": {
      "model_module": "@jupyter-widgets/controls",
      "model_module_version": "1.5.0",
      "model_name": "DescriptionStyleModel",
      "state": {
       "description_width": ""
      }
     },
     "59c0cf818f694e9ab16a415af105f530": {
      "model_module": "@jupyter-widgets/base",
      "model_module_version": "1.2.0",
      "model_name": "LayoutModel",
      "state": {
       "grid_area": "center"
      }
     },
     "59c98d1cf97e45aa9af141a622258115": {
      "model_module": "@jupyter-widgets/controls",
      "model_module_version": "1.5.0",
      "model_name": "HTMLModel",
      "state": {
       "layout": "IPY_MODEL_d542e388cee44082bc4a2d125dff7099",
       "style": "IPY_MODEL_d52da218141748a4959e455113e8973f",
       "value": "<h3>Player Result</h3>"
      }
     },
     "59e4cbe57f2d48e4a5789ac2ac75afea": {
      "model_module": "@jupyter-widgets/controls",
      "model_module_version": "1.5.0",
      "model_name": "VBoxModel",
      "state": {
       "children": [
        "IPY_MODEL_43a1a3b01ac34fde9f1965b71d6cd7fc",
        "IPY_MODEL_20154f7cacda48caa88ab4586e432ce3"
       ],
       "layout": "IPY_MODEL_825a8d44a9864920ac0d846ddef1df6a"
      }
     },
     "5a0281da7baa4d6eae34a338b998eec0": {
      "model_module": "@jupyter-widgets/base",
      "model_module_version": "1.2.0",
      "model_name": "LayoutModel",
      "state": {}
     },
     "5a043b444e284bdca32262fac12a96fa": {
      "model_module": "@jupyter-widgets/controls",
      "model_module_version": "1.5.0",
      "model_name": "DescriptionStyleModel",
      "state": {
       "description_width": ""
      }
     },
     "5a050aa17b03486f91169c3cd0706759": {
      "model_module": "@jupyter-widgets/base",
      "model_module_version": "1.2.0",
      "model_name": "LayoutModel",
      "state": {}
     },
     "5a0f81e46fe44aee9b1db24851f8a4bd": {
      "model_module": "@jupyter-widgets/controls",
      "model_module_version": "1.5.0",
      "model_name": "DescriptionStyleModel",
      "state": {
       "description_width": ""
      }
     },
     "5a193d0e6181438f87313d19b6fceda9": {
      "model_module": "@jupyter-widgets/controls",
      "model_module_version": "1.5.0",
      "model_name": "VBoxModel",
      "state": {
       "children": [
        "IPY_MODEL_26b0dbf1b97e494aa20c00fe41dfd40e"
       ],
       "layout": "IPY_MODEL_30efcbb19ca949dca0bac4b980f0cb98"
      }
     },
     "5a318a0a879e477d99809b6c49a63029": {
      "model_module": "@jupyter-widgets/controls",
      "model_module_version": "1.5.0",
      "model_name": "ButtonStyleModel",
      "state": {}
     },
     "5a355b35fdab48b1a42cdefd9467790c": {
      "model_module": "@jupyter-widgets/base",
      "model_module_version": "1.2.0",
      "model_name": "LayoutModel",
      "state": {
       "grid_area": "header"
      }
     },
     "5a470d7e319e45c59b15d5f60e54c143": {
      "model_module": "@jupyter-widgets/controls",
      "model_module_version": "1.5.0",
      "model_name": "HTMLModel",
      "state": {
       "layout": "IPY_MODEL_954261488b4a4e5fac33a6f06afb69ed",
       "style": "IPY_MODEL_31a13e8b39184319a6baf49a145c6664",
       "value": "<h3>Click on a letter below to guess the word.</h3>"
      }
     },
     "5a72aa6306d348009cea8cbffd7ed7af": {
      "model_module": "@jupyter-widgets/controls",
      "model_module_version": "1.5.0",
      "model_name": "ButtonStyleModel",
      "state": {}
     },
     "5ac3d6de3c5f456a829f34be2cc10507": {
      "model_module": "@jupyter-widgets/base",
      "model_module_version": "1.2.0",
      "model_name": "LayoutModel",
      "state": {
       "margin": "0px 0px 0px 100px"
      }
     },
     "5ae8b46412c043718edfeac524957c57": {
      "model_module": "@jupyter-widgets/base",
      "model_module_version": "1.2.0",
      "model_name": "LayoutModel",
      "state": {
       "height": "25px",
       "width": "33px"
      }
     },
     "5aff88b4ba3e451d857b1bff1af7cfc1": {
      "model_module": "@jupyter-widgets/base",
      "model_module_version": "1.2.0",
      "model_name": "LayoutModel",
      "state": {
       "grid_template_areas": "\"header header header\"\n\"left-sidebar center center\"\n\"footer footer footer\"",
       "grid_template_columns": "1fr 2fr 1fr",
       "grid_template_rows": "1fr 3fr 1fr"
      }
     },
     "5b07860591034e28a9b64b46c1ff4a88": {
      "model_module": "@jupyter-widgets/controls",
      "model_module_version": "1.5.0",
      "model_name": "DescriptionStyleModel",
      "state": {
       "description_width": ""
      }
     },
     "5b34a0fe02de4421a0e71b1432cdf3de": {
      "model_module": "@jupyter-widgets/controls",
      "model_module_version": "1.5.0",
      "model_name": "HTMLModel",
      "state": {
       "layout": "IPY_MODEL_9caf8f12c6464b49a6439038ffd35cdf",
       "style": "IPY_MODEL_0e151d3d30fe4d359e43417d3b418256",
       "value": "<h3>Click on a letter below to guess the word.</h3>"
      }
     },
     "5b8d3ad9ee2d4334ac39c806e6d563c7": {
      "model_module": "@jupyter-widgets/controls",
      "model_module_version": "1.5.0",
      "model_name": "DescriptionStyleModel",
      "state": {
       "description_width": ""
      }
     },
     "5bb53dd932ee4bc498b65fc22649a58c": {
      "model_module": "@jupyter-widgets/base",
      "model_module_version": "1.2.0",
      "model_name": "LayoutModel",
      "state": {}
     },
     "5bcca1fe3f0040fdad2f7b8ca11f804d": {
      "model_module": "@jupyter-widgets/controls",
      "model_module_version": "1.5.0",
      "model_name": "HTMLModel",
      "state": {
       "layout": "IPY_MODEL_57dcfcc4e6e64ee5b6111cc8f9122ba3",
       "style": "IPY_MODEL_6df60c0debde486e8f2860b0c9665c9c",
       "value": "<h3>Player Result</h3>"
      }
     },
     "5bce16b66c8645b5892a1fdf65d5af3e": {
      "model_module": "@jupyter-widgets/base",
      "model_module_version": "1.2.0",
      "model_name": "LayoutModel",
      "state": {
       "height": "25px",
       "width": "33px"
      }
     },
     "5bd61b996e6c4c1ba8b9ec6e6077cea1": {
      "model_module": "@jupyter-widgets/controls",
      "model_module_version": "1.5.0",
      "model_name": "DescriptionStyleModel",
      "state": {
       "description_width": ""
      }
     },
     "5bf28a1eaf1a41cdb8099f0d4a4869b5": {
      "model_module": "@jupyter-widgets/base",
      "model_module_version": "1.2.0",
      "model_name": "LayoutModel",
      "state": {
       "grid_area": "center"
      }
     },
     "5bf513868d864d7eb40d1cb7fccd1d3b": {
      "model_module": "@jupyter-widgets/base",
      "model_module_version": "1.2.0",
      "model_name": "LayoutModel",
      "state": {}
     },
     "5bfd05fa90f8482f986e1c3255604152": {
      "model_module": "@jupyter-widgets/controls",
      "model_module_version": "1.5.0",
      "model_name": "ButtonStyleModel",
      "state": {}
     },
     "5c015e2ce78d43ceb25311f9aeada0d6": {
      "model_module": "@jupyter-widgets/controls",
      "model_module_version": "1.5.0",
      "model_name": "HTMLModel",
      "state": {
       "layout": "IPY_MODEL_eef808f0505c48e48553eeb051fc1436",
       "style": "IPY_MODEL_f6eec23922654890a34b5281ab93e4e4",
       "value": "<h4>Games: 1</h4>"
      }
     },
     "5c4da234f8b94d2e821c49f391038c7e": {
      "model_module": "@jupyter-widgets/controls",
      "model_module_version": "1.5.0",
      "model_name": "VBoxModel",
      "state": {
       "children": [
        "IPY_MODEL_8d2f357b559d4aae9f9757c20c2e8fe9",
        "IPY_MODEL_054d178759a44608b94a9ebe138bc968",
        "IPY_MODEL_118cb8ebbae74388b29eb8df0a4faf62"
       ],
       "layout": "IPY_MODEL_20368496fa78470b86c36ce1c56e21d0"
      }
     },
     "5c60255c5d404b0d997103db8a27fdd4": {
      "model_module": "@jupyter-widgets/base",
      "model_module_version": "1.2.0",
      "model_name": "LayoutModel",
      "state": {
       "width": "500px"
      }
     },
     "5c6abc44a49144a382ca632d9afd7dcb": {
      "model_module": "@jupyter-widgets/controls",
      "model_module_version": "1.5.0",
      "model_name": "DescriptionStyleModel",
      "state": {
       "description_width": ""
      }
     },
     "5c850caf08fa44d9916e04eed6d14cb4": {
      "model_module": "@jupyter-widgets/base",
      "model_module_version": "1.2.0",
      "model_name": "LayoutModel",
      "state": {}
     },
     "5cb7148da3fd4ebc8eaaa2faf8d9dd8d": {
      "model_module": "@jupyter-widgets/controls",
      "model_module_version": "1.5.0",
      "model_name": "ButtonStyleModel",
      "state": {}
     },
     "5cc87284b5894bd593129484ec36f2cc": {
      "model_module": "@jupyter-widgets/controls",
      "model_module_version": "1.5.0",
      "model_name": "DescriptionStyleModel",
      "state": {
       "description_width": ""
      }
     },
     "5cee725240db4e629ae6dcdb3ee332e1": {
      "model_module": "@jupyter-widgets/controls",
      "model_module_version": "1.5.0",
      "model_name": "ButtonModel",
      "state": {
       "button_style": "warning",
       "description": "L",
       "layout": "IPY_MODEL_88dc048f88e8472ab67aa83174d59022",
       "style": "IPY_MODEL_9f055c6330654975b72e701767f6a16a",
       "tooltip": "Click to guess L."
      }
     },
     "5cefc0034a294cf9a701ffd43b7a6cf3": {
      "model_module": "@jupyter-widgets/base",
      "model_module_version": "1.2.0",
      "model_name": "LayoutModel",
      "state": {
       "height": "25px",
       "width": "33px"
      }
     },
     "5cfd48f2a76b4079929230203ff1825c": {
      "model_module": "@jupyter-widgets/controls",
      "model_module_version": "1.5.0",
      "model_name": "ButtonModel",
      "state": {
       "button_style": "warning",
       "description": "W",
       "layout": "IPY_MODEL_9cc1f8c9ea9549bc8e4a7e6251dca998",
       "style": "IPY_MODEL_293d36113b86496ea1c272dc0120ce72",
       "tooltip": "Click to guess W."
      }
     },
     "5d0bffce35954867801a8fe4e1eb6658": {
      "model_module": "@jupyter-widgets/controls",
      "model_module_version": "1.5.0",
      "model_name": "VBoxModel",
      "state": {
       "children": [
        "IPY_MODEL_97221b1512fa41a9b648c17163efcfa7",
        "IPY_MODEL_239816c8899448609684e9d87873f806"
       ],
       "layout": "IPY_MODEL_02d3135bca8b4129ba7f43acaedc35b9"
      }
     },
     "5d18429188fd4b2eb2257257f4d782c5": {
      "model_module": "@jupyter-widgets/controls",
      "model_module_version": "1.5.0",
      "model_name": "ButtonStyleModel",
      "state": {}
     },
     "5d413eb29e0145fdb9fb0607d9e35cd5": {
      "model_module": "@jupyter-widgets/controls",
      "model_module_version": "1.5.0",
      "model_name": "VBoxModel",
      "state": {
       "children": [
        "IPY_MODEL_48f7f92efab04e54a650e3f05cba3124"
       ],
       "layout": "IPY_MODEL_cbd8c4bafa4042bc8256f47ab5ac9a1d"
      }
     },
     "5d65b9f583954b03b73a1fe9751621c6": {
      "model_module": "@jupyter-widgets/base",
      "model_module_version": "1.2.0",
      "model_name": "LayoutModel",
      "state": {
       "grid_area": "footer",
       "margin": "-60px 0px 0px 0px"
      }
     },
     "5d7d790ff1c44aa1a2238871971b8a91": {
      "model_module": "@jupyter-widgets/base",
      "model_module_version": "1.2.0",
      "model_name": "LayoutModel",
      "state": {
       "width": "500px"
      }
     },
     "5d8235e90aa34b97bf6feb5b77f11a23": {
      "model_module": "@jupyter-widgets/controls",
      "model_module_version": "1.5.0",
      "model_name": "ButtonModel",
      "state": {
       "button_style": "warning",
       "description": "I",
       "layout": "IPY_MODEL_bf7b001b2ee945f0a06e1fda9d01b6fd",
       "style": "IPY_MODEL_f3476d4bcbe34a3ba444cd7e16f85ff6",
       "tooltip": "Click to guess I."
      }
     },
     "5ddf95ac3b9d4b9ebed22569049cbee3": {
      "model_module": "@jupyter-widgets/base",
      "model_module_version": "1.2.0",
      "model_name": "LayoutModel",
      "state": {
       "grid_template_areas": "\"header header header\"\n\"left-sidebar center center\"\n\"footer footer footer\"",
       "grid_template_columns": "1fr 2fr 1fr",
       "grid_template_rows": "1fr 3fr 1fr"
      }
     },
     "5ded8fc59cc445b1ae3823dffce78fd4": {
      "model_module": "@jupyter-widgets/controls",
      "model_module_version": "1.5.0",
      "model_name": "ButtonModel",
      "state": {
       "button_style": "warning",
       "description": "S",
       "disabled": true,
       "layout": "IPY_MODEL_2bed969f5f834f3eb7f1c92567d9b369",
       "style": "IPY_MODEL_10e70e989eb548bb901535dc4dbf7357"
      }
     },
     "5df0d63232cc44dc92f52e47d586a32a": {
      "model_module": "@jupyter-widgets/controls",
      "model_module_version": "1.5.0",
      "model_name": "DescriptionStyleModel",
      "state": {
       "description_width": ""
      }
     },
     "5dffee83207a4ed7858a6b4ae7d0d598": {
      "model_module": "@jupyter-widgets/controls",
      "model_module_version": "1.5.0",
      "model_name": "GridBoxModel",
      "state": {
       "children": [
        "IPY_MODEL_4b526c1ac20a49ff998c17dbca22ff8e",
        "IPY_MODEL_d3d2f558a4204493b89b5111fa198444",
        "IPY_MODEL_3b96a38e3aba4da78de7ed815fc6042a",
        "IPY_MODEL_4892902eefc84a8182ad8f9c16b08617"
       ],
       "layout": "IPY_MODEL_3fded523a5f54d54b92e966381c7664d"
      }
     },
     "5e091f7e92474346b604cd03a16b4fea": {
      "model_module": "@jupyter-widgets/controls",
      "model_module_version": "1.5.0",
      "model_name": "ButtonStyleModel",
      "state": {}
     },
     "5e0b63b551f84eb7aeb5520a6df04292": {
      "model_module": "@jupyter-widgets/base",
      "model_module_version": "1.2.0",
      "model_name": "LayoutModel",
      "state": {
       "grid_template_areas": "\"header header header\"\n\"left-sidebar center center\"\n\"footer footer footer\"",
       "grid_template_columns": "1fr 2fr 1fr",
       "grid_template_rows": "1fr 3fr 1fr"
      }
     },
     "5e3fd69fc6fa4ab6acb69fc1077054f7": {
      "model_module": "@jupyter-widgets/controls",
      "model_module_version": "1.5.0",
      "model_name": "ButtonStyleModel",
      "state": {}
     },
     "5e7a04b876be4f188ef952e385c6666b": {
      "model_module": "@jupyter-widgets/controls",
      "model_module_version": "1.5.0",
      "model_name": "HTMLModel",
      "state": {
       "layout": "IPY_MODEL_76a19f7a114a4a11877db367845c87c6",
       "style": "IPY_MODEL_9227fbe8f11647899ebf4bc46f250b4e",
       "value": "<h4>Games: 4</h4>"
      }
     },
     "5e9282a143dd4838900cfe16434ada18": {
      "model_module": "@jupyter-widgets/base",
      "model_module_version": "1.2.0",
      "model_name": "LayoutModel",
      "state": {
       "grid_area": "footer",
       "margin": "-60px 0px 0px 0px"
      }
     },
     "5eab9dceaa2942849ed86c5e115926c1": {
      "model_module": "@jupyter-widgets/controls",
      "model_module_version": "1.5.0",
      "model_name": "ButtonStyleModel",
      "state": {}
     },
     "5ed97de82bf44fc5a1579771f2ca3a9c": {
      "model_module": "@jupyter-widgets/controls",
      "model_module_version": "1.5.0",
      "model_name": "HTMLModel",
      "state": {
       "layout": "IPY_MODEL_14f9ba28b2da46f281ea76c3a282328f",
       "style": "IPY_MODEL_bab4471c6a9e42cf8108f04d89ac3570",
       "value": "<h4>Games: 1</h4>"
      }
     },
     "5eec604e0c9048bf9773982d422acdf1": {
      "model_module": "@jupyter-widgets/base",
      "model_module_version": "1.2.0",
      "model_name": "LayoutModel",
      "state": {
       "grid_area": "footer",
       "margin": "-60px 0px 0px 0px"
      }
     },
     "5ef13446b5184aa7b213fa778a05baa0": {
      "model_module": "@jupyter-widgets/base",
      "model_module_version": "1.2.0",
      "model_name": "LayoutModel",
      "state": {
       "margin": "0px 0px 0px 100px"
      }
     },
     "5ef405f7de244f92b5f7878d6ce0e1ee": {
      "model_module": "@jupyter-widgets/base",
      "model_module_version": "1.2.0",
      "model_name": "LayoutModel",
      "state": {
       "margin": "0px 0px 0px 100px"
      }
     },
     "5f3c3e919f3145dda2e0a8fff91ad61b": {
      "model_module": "@jupyter-widgets/controls",
      "model_module_version": "1.5.0",
      "model_name": "VBoxModel",
      "state": {
       "children": [
        "IPY_MODEL_dd79d4663abd49938d23df21cb9447f6",
        "IPY_MODEL_67a808f25a61453ca767b43e2fb559c3"
       ],
       "layout": "IPY_MODEL_d94080d266ef4ec798c1df2851e5bcfd"
      }
     },
     "5f552e5adb9d440aa42ef2cb8293b644": {
      "model_module": "@jupyter-widgets/controls",
      "model_module_version": "1.5.0",
      "model_name": "DescriptionStyleModel",
      "state": {
       "description_width": ""
      }
     },
     "5f679887e25f4c8787680b6f5e815a8d": {
      "model_module": "@jupyter-widgets/controls",
      "model_module_version": "1.5.0",
      "model_name": "ButtonModel",
      "state": {
       "button_style": "warning",
       "description": "S",
       "layout": "IPY_MODEL_5fe3867e5f8148bdb7cb4eeecae60957",
       "style": "IPY_MODEL_b008073a2ae6409aa6dbf8b9855ff517",
       "tooltip": "Click to guess S."
      }
     },
     "5f6e48e669294122a5031715955870fc": {
      "model_module": "@jupyter-widgets/controls",
      "model_module_version": "1.5.0",
      "model_name": "ButtonModel",
      "state": {
       "button_style": "warning",
       "description": "I",
       "disabled": true,
       "layout": "IPY_MODEL_d0ba44d7b6414e58b01d5bd3db17a9bd",
       "style": "IPY_MODEL_237cbc4a6381450cab6cb4277536b1a9"
      }
     },
     "5f785040cd13499c92d2ad4d5078c1dc": {
      "model_module": "@jupyter-widgets/base",
      "model_module_version": "1.2.0",
      "model_name": "LayoutModel",
      "state": {
       "grid_area": "left-sidebar"
      }
     },
     "5f9c0b887f544adcbcf22fed8671d672": {
      "model_module": "@jupyter-widgets/controls",
      "model_module_version": "1.5.0",
      "model_name": "HTMLModel",
      "state": {
       "layout": "IPY_MODEL_6f38e529bdeb4ced9cdcc42289f55946",
       "style": "IPY_MODEL_89c40dc0ac3f4bed895ea92e8a2c3cb7",
       "value": "<h3>Player Result</h3>"
      }
     },
     "5f9dd121e5c6470a815ee4ba7c7b524c": {
      "model_module": "@jupyter-widgets/controls",
      "model_module_version": "1.5.0",
      "model_name": "ButtonStyleModel",
      "state": {}
     },
     "5fa299f066d74c12bc6be9938d1b021e": {
      "model_module": "@jupyter-widgets/controls",
      "model_module_version": "1.5.0",
      "model_name": "ButtonStyleModel",
      "state": {}
     },
     "5fa6af152b054977ae405a5b1459f171": {
      "model_module": "@jupyter-widgets/controls",
      "model_module_version": "1.5.0",
      "model_name": "HTMLModel",
      "state": {
       "layout": "IPY_MODEL_c1b605114bb84d858689269716ad519a",
       "style": "IPY_MODEL_5668bd7a2bf242138b06062f325b7659",
       "value": "<h4>Games: 0</h4>"
      }
     },
     "5fe3867e5f8148bdb7cb4eeecae60957": {
      "model_module": "@jupyter-widgets/base",
      "model_module_version": "1.2.0",
      "model_name": "LayoutModel",
      "state": {
       "height": "25px",
       "width": "33px"
      }
     },
     "5ffdac7399dd4e76ab65cd25009057e2": {
      "model_module": "@jupyter-widgets/controls",
      "model_module_version": "1.5.0",
      "model_name": "ButtonStyleModel",
      "state": {}
     },
     "603055caa1ce4fd9b80fae9f9ac66f76": {
      "model_module": "@jupyter-widgets/controls",
      "model_module_version": "1.5.0",
      "model_name": "ButtonStyleModel",
      "state": {}
     },
     "603e0a1bed0f4efb93346d7fa7d2c4b9": {
      "model_module": "@jupyter-widgets/controls",
      "model_module_version": "1.5.0",
      "model_name": "ButtonStyleModel",
      "state": {}
     },
     "60622a401fe248aaa7123743aeaa68e6": {
      "model_module": "@jupyter-widgets/controls",
      "model_module_version": "1.5.0",
      "model_name": "DescriptionStyleModel",
      "state": {
       "description_width": ""
      }
     },
     "60638cd55ffe4f6d92c64c8c516e6763": {
      "model_module": "@jupyter-widgets/controls",
      "model_module_version": "1.5.0",
      "model_name": "HTMLModel",
      "state": {
       "layout": "IPY_MODEL_d7b0c0942e004d2b8dd1ab339e6266eb",
       "style": "IPY_MODEL_f18d84d5af674a49a8ea0d88db807c89",
       "value": "<h2><font color='black'>Remaining Guesses:                          6</h2>"
      }
     },
     "6063c89fa4db4cc082d2025d48c7e606": {
      "model_module": "@jupyter-widgets/base",
      "model_module_version": "1.2.0",
      "model_name": "LayoutModel",
      "state": {
       "margin": "0px 0px 0px 70px"
      }
     },
     "60739b6cd3bb4bfea81b72c610f4c40c": {
      "model_module": "@jupyter-widgets/controls",
      "model_module_version": "1.5.0",
      "model_name": "VBoxModel",
      "state": {
       "children": [
        "IPY_MODEL_16a8c016076d4856b2bab9b0a130c9d2",
        "IPY_MODEL_c0bdbcdb1bc54fd3beb1cb42a67f9a07"
       ],
       "layout": "IPY_MODEL_29a859784a5a4e2f90bcdfde1ee9e779"
      }
     },
     "60cf585de80b4edea40a23e1d6e5fb61": {
      "model_module": "@jupyter-widgets/controls",
      "model_module_version": "1.5.0",
      "model_name": "HTMLModel",
      "state": {
       "layout": "IPY_MODEL_d0ac66016dc04c92a9395d5604d32d3d",
       "style": "IPY_MODEL_237a302fde33472c8b6802dc8dc1714d",
       "value": "<h1><font color=black>Secret Word:                          i v e c _</h1>"
      }
     },
     "60d887ab78a6430a97f6bd0ed2bcc870": {
      "model_module": "@jupyter-widgets/controls",
      "model_module_version": "1.5.0",
      "model_name": "DescriptionStyleModel",
      "state": {
       "description_width": ""
      }
     },
     "60dd8d34c2d74538b5d3fd9e2146cf26": {
      "model_module": "@jupyter-widgets/controls",
      "model_module_version": "1.5.0",
      "model_name": "VBoxModel",
      "state": {
       "children": [
        "IPY_MODEL_b2920002090b41c9ac077963782ffdb2",
        "IPY_MODEL_239816c8899448609684e9d87873f806"
       ],
       "layout": "IPY_MODEL_a3b237482d7f42eaa61235b578593190"
      }
     },
     "60fcf982668f436597acd0bbe51ceba7": {
      "model_module": "@jupyter-widgets/controls",
      "model_module_version": "1.5.0",
      "model_name": "ButtonStyleModel",
      "state": {}
     },
     "60ff70c6b2c44ce69d7dbad9b8fe4ee4": {
      "model_module": "@jupyter-widgets/controls",
      "model_module_version": "1.5.0",
      "model_name": "VBoxModel",
      "state": {
       "children": [
        "IPY_MODEL_1755624d5bf04e928518cf92b3b3b53c",
        "IPY_MODEL_f9890b4dadea44ef9dd859edaae3ca3a"
       ],
       "layout": "IPY_MODEL_8da1d193a3484e96b5ee0251bab4cc3d"
      }
     },
     "610d95c919854f84a2d6076f68093926": {
      "model_module": "@jupyter-widgets/controls",
      "model_module_version": "1.5.0",
      "model_name": "DescriptionStyleModel",
      "state": {
       "description_width": ""
      }
     },
     "610e56b4ed664a82a22e1e9fa042996e": {
      "model_module": "@jupyter-widgets/base",
      "model_module_version": "1.2.0",
      "model_name": "LayoutModel",
      "state": {}
     },
     "612c548001af43d0abe95feb30bf55bc": {
      "model_module": "@jupyter-widgets/controls",
      "model_module_version": "1.5.0",
      "model_name": "ButtonStyleModel",
      "state": {}
     },
     "61510cbdfc08401a8f7e7dc4b9331584": {
      "model_module": "@jupyter-widgets/base",
      "model_module_version": "1.2.0",
      "model_name": "LayoutModel",
      "state": {
       "margin": "0px 0px 0px 100px"
      }
     },
     "6159d8ebb5664a728ff7e415e4464428": {
      "model_module": "@jupyter-widgets/base",
      "model_module_version": "1.2.0",
      "model_name": "LayoutModel",
      "state": {
       "width": "500px"
      }
     },
     "615bdd8229f7498e971c6079a643e722": {
      "model_module": "@jupyter-widgets/controls",
      "model_module_version": "1.5.0",
      "model_name": "VBoxModel",
      "state": {
       "children": [
        "IPY_MODEL_bb18854c8bf249d2873f604bb074a814",
        "IPY_MODEL_9adc0d4235174d87ba2290f96de797e3",
        "IPY_MODEL_021360e3c6ab4f3984a40f847c39d0e0"
       ],
       "layout": "IPY_MODEL_d4395e3c900e4b88adc2cf99249ac859"
      }
     },
     "616fa9fcb87245e2ad5b64739c78a5f3": {
      "model_module": "@jupyter-widgets/base",
      "model_module_version": "1.2.0",
      "model_name": "LayoutModel",
      "state": {
       "height": "25px",
       "width": "33px"
      }
     },
     "618afe4a30554d6eb502195e1415c615": {
      "model_module": "@jupyter-widgets/base",
      "model_module_version": "1.2.0",
      "model_name": "LayoutModel",
      "state": {
       "margin": "0px 0px 0px 100px"
      }
     },
     "618e6c05d5d74687ad555447e62b196d": {
      "model_module": "@jupyter-widgets/controls",
      "model_module_version": "1.5.0",
      "model_name": "ButtonModel",
      "state": {
       "button_style": "warning",
       "description": "M",
       "disabled": true,
       "layout": "IPY_MODEL_f681c61db2664253833d4149365edd05",
       "style": "IPY_MODEL_47e9a79319004f4eae01a78d577e85d3"
      }
     },
     "6194b9c3da7b4156a8b35ec33c77e147": {
      "model_module": "@jupyter-widgets/controls",
      "model_module_version": "1.5.0",
      "model_name": "ButtonStyleModel",
      "state": {}
     },
     "61ae84f203934a9c9b8b44d86ba5f80f": {
      "model_module": "@jupyter-widgets/base",
      "model_module_version": "1.2.0",
      "model_name": "LayoutModel",
      "state": {
       "height": "25px",
       "width": "33px"
      }
     },
     "61de51816432464cbc9045a590cfb3b2": {
      "model_module": "@jupyter-widgets/controls",
      "model_module_version": "1.5.0",
      "model_name": "DescriptionStyleModel",
      "state": {
       "description_width": ""
      }
     },
     "61de930269bf48cc92ca9bdab5b3ad51": {
      "model_module": "@jupyter-widgets/controls",
      "model_module_version": "1.5.0",
      "model_name": "ButtonStyleModel",
      "state": {}
     },
     "61e19cbb19f34645bba131116b847228": {
      "model_module": "@jupyter-widgets/controls",
      "model_module_version": "1.5.0",
      "model_name": "ButtonModel",
      "state": {
       "button_style": "warning",
       "description": "Z",
       "disabled": true,
       "layout": "IPY_MODEL_fe68dad5801442968747a055e10fd73d",
       "style": "IPY_MODEL_55f55f3470524cbbb7fc37443eb22bb2"
      }
     },
     "6222d7ab78204ba2b7fed8782aff1e51": {
      "model_module": "@jupyter-widgets/controls",
      "model_module_version": "1.5.0",
      "model_name": "ButtonStyleModel",
      "state": {}
     },
     "622bc409ac784cffa5dd1c2b753e8093": {
      "model_module": "@jupyter-widgets/controls",
      "model_module_version": "1.5.0",
      "model_name": "DescriptionStyleModel",
      "state": {
       "description_width": ""
      }
     },
     "623d876836f24611b83b4d6148cce70e": {
      "model_module": "@jupyter-widgets/base",
      "model_module_version": "1.2.0",
      "model_name": "LayoutModel",
      "state": {}
     },
     "62419f87b8c342e6a0ec738a49395b8b": {
      "model_module": "@jupyter-widgets/base",
      "model_module_version": "1.2.0",
      "model_name": "LayoutModel",
      "state": {}
     },
     "62680bbb181044e2ac4dd4264e763945": {
      "model_module": "@jupyter-widgets/controls",
      "model_module_version": "1.5.0",
      "model_name": "HTMLModel",
      "state": {
       "layout": "IPY_MODEL_37fe5cfad1c9415d8b1f1e926763cbf0",
       "style": "IPY_MODEL_60622a401fe248aaa7123743aeaa68e6",
       "value": "<h3>Click on a letter below to guess the word.</h3>"
      }
     },
     "626b79d5b4634959862b9a24dfcd4694": {
      "model_module": "@jupyter-widgets/controls",
      "model_module_version": "1.5.0",
      "model_name": "ButtonModel",
      "state": {
       "button_style": "warning",
       "description": "F",
       "layout": "IPY_MODEL_36536bcfa9924b118571b6487fa0a7d9",
       "style": "IPY_MODEL_b5580a65cdda48efb9aaa66b3ad61a2c",
       "tooltip": "Click to guess F."
      }
     },
     "6283d66fc1ae40a881fc2ace810c2ec4": {
      "model_module": "@jupyter-widgets/controls",
      "model_module_version": "1.5.0",
      "model_name": "VBoxModel",
      "state": {
       "children": [
        "IPY_MODEL_efee04b4432c480bb7c43761511cb1ab",
        "IPY_MODEL_54586e7c8c254c3d9f324ad8115b0287"
       ],
       "layout": "IPY_MODEL_1edfadd3829041e5a370c59c29e4664f"
      }
     },
     "629e9e94560d4589871ab8e959ee0cba": {
      "model_module": "@jupyter-widgets/controls",
      "model_module_version": "1.5.0",
      "model_name": "ButtonStyleModel",
      "state": {}
     },
     "62a2e00ba00a440c9f6046ffa4a6bc18": {
      "model_module": "@jupyter-widgets/controls",
      "model_module_version": "1.5.0",
      "model_name": "VBoxModel",
      "state": {
       "children": [
        "IPY_MODEL_fe5facc97a104a99aa16ef04a90a10a7",
        "IPY_MODEL_994b850a796c4286b55d55507cfea1a0",
        "IPY_MODEL_8ec4b80cf1084085aec2947a6dbaf36a"
       ],
       "layout": "IPY_MODEL_b526d909a002457bacb455502fa37d11"
      }
     },
     "62cd5739869247698680f4093b2379fb": {
      "buffers": [
       {
        "data": "iVBORw0KGgoAAAANSUhEUgAAATQAAAE0CAIAAAAt41jIAAAEvUlEQVR4nO3d0W6iUBRAUZ30/3+ZeZjEsYqAArJb13pqDRJisnNQkXs6AQAAwD7O1/8Mw3DUcQCn0+l8/p/knwOPA5ggTogSJ0SJE6LECVHihChxQpQ4IUqcECVOiBInRIkTosQJUeKEKHFClDghSpwQJU6IEidEiROixAlR4oQocUKUOCFKnBAlTogSJ0SJE6LECVHihChxQpQ4IUqcECVOiPo6+gB+j+sFw9nWMAxHH8IBTM5tKHNXn/nyihOinNZu7DNPwPbzmTPzH5MTosQJUeKEKHFClDghSpwQJU6IEidEiROixAlR4oQocUKUOCFKnBAlTogSJ0SJE6LcCWGV+9/pXx5xSwRWEucrltw7Q6WsJM7n3GQ5Ed5ly39/SJRniXOp5VlebyBRXibOec9meb+xRHmBT2tnXJc5DMNrXd088ZNv98hy4pxyU+bKvemTp4jzoW3LvN+PPpkmznnbvkX0hpOFxDlu128pL/s0PJkgzin7TTnzk1niHPHOgWZ48og4H9p7uBmeTBPnrfePMsOTUeIc956xZngyQZwQJc5v3n/t683Ft3AhTogSJ0SJE6LECVHihChxQpQ4IUqcECXOb95/SYBbfvGIOCFKnOPeMzxdtccEcd56/xmmc1pGifOhvceasck0cY54/69S4J44p+w33IxNZolz3K53r7Q6IEuIc962fZqZLCTOh/ZYOmGPJR74rcQ5Zds+lclTxDnjps/XEr15ojJZwuK589YsgLtm4V0+nDiXejZRWbKSOJ8zmuiSp8CzxPmKJd+CapKVxLmKAtmPT2shSpwQJU6IEidEiROixAlR4oQocUKUOCFKnBAlTogSJ0SJE6LECVHihChxQpQ4IUqcECVOiBInRIkTosQJUeKEKHFClDghSpwQJU6IEidEiROixAlR4oQocUKUOCFKnBAlTogSJ0SJE6LECVHihChxQpQ4IUqcECVOiBInRIkTosQJUeKEKHFClDghSpwQJU6IEidEiROixAlR4oQocUKUOCFKnBAlTogSJ0SJE6LECVHihChxQpQ4IUqcECVOiBInRIkTosQJUeKEKHFClDghSpwQJU6IEidEiROixAlR4oQocUKUOCFKnBAlTogSJ0SJE6LECVHihChxQpQ4IUqcECVOiBInRIkTosQJUeKEKHFClDghSpwQJU6IEidEiROixAlR4oQocUKUOCFKnBAlTogSJ0SJE6LECVHihChxQpQ4IUqcECVOiBInRIkTosQJUeKEKHFClDghSpwQJU6IEidEiROixAlR4oQocUKUOCFKnBAlTogSJ0SJE6LECVHihChxQpQ4IUqcECVOiBInRIkTosQJUeKEKHFClDghSpwQJU6IEidEiROixAlR4oQocUKUOCFKnBAlTogSJ0SJE6LECVHihChxQpQ4IUqcECVOiBInRIkTosQJUeKEKHFClDghSpwQJU6IEidEiROixAlR4oQocUKUOCHq6+gDYN75fD76EI7XfxGGYdh2hyYnRIkTopzW/gCbny/xI5icECVOiBInRIkTosQJUeKEKHFClDghSpwQJU6IEidEiROixAlR4oQocUKUOCFKnBAlTogSJ0SJE6LECQAAAPBh/gLkBrZ9QrhuSAAAAABJRU5ErkJggg==",
        "encoding": "base64",
        "path": [
         "value"
        ]
       }
      ],
      "model_module": "@jupyter-widgets/controls",
      "model_module_version": "1.5.0",
      "model_name": "ImageModel",
      "state": {
       "layout": "IPY_MODEL_554cf56aa1e844f09cd3196eb97a68ab"
      }
     },
     "62d28df9871648bfaa4236fbd6ab622a": {
      "model_module": "@jupyter-widgets/base",
      "model_module_version": "1.2.0",
      "model_name": "LayoutModel",
      "state": {
       "margin": "0px 0px 0px 100px"
      }
     },
     "62ef089c1c364fff83975da652940f06": {
      "model_module": "@jupyter-widgets/controls",
      "model_module_version": "1.5.0",
      "model_name": "ButtonStyleModel",
      "state": {}
     },
     "630e922443084b3ca6a7dc958d741b9c": {
      "model_module": "@jupyter-widgets/controls",
      "model_module_version": "1.5.0",
      "model_name": "ButtonModel",
      "state": {
       "button_style": "warning",
       "description": "P",
       "layout": "IPY_MODEL_b5109557a098401a8b6c69d1192f73f8",
       "style": "IPY_MODEL_cc0922fe26054a16a85cfd8b401597be",
       "tooltip": "Click to guess P."
      }
     },
     "63104da0ee5e450c967fccedb88d7aad": {
      "model_module": "@jupyter-widgets/base",
      "model_module_version": "1.2.0",
      "model_name": "LayoutModel",
      "state": {}
     },
     "63404f0119734e9c9d935ac0cd3e5e13": {
      "model_module": "@jupyter-widgets/controls",
      "model_module_version": "1.5.0",
      "model_name": "ButtonModel",
      "state": {
       "button_style": "warning",
       "description": "Y",
       "layout": "IPY_MODEL_115f24ec128344af9933722c31e12e1d",
       "style": "IPY_MODEL_612c548001af43d0abe95feb30bf55bc",
       "tooltip": "Click to guess Y."
      }
     },
     "6363087c1ec542ce80431960cf6c0694": {
      "model_module": "@jupyter-widgets/controls",
      "model_module_version": "1.5.0",
      "model_name": "VBoxModel",
      "state": {
       "children": [
        "IPY_MODEL_ba190577e5aa4151a4233eaf9a44d0cd",
        "IPY_MODEL_f1d09bbea57847ff86be9354de5ebcef"
       ],
       "layout": "IPY_MODEL_a117eaccdb5b4dc5bdec01a7f3ae8b7f"
      }
     },
     "63844a63872c48909c1e70af373c8d57": {
      "model_module": "@jupyter-widgets/base",
      "model_module_version": "1.2.0",
      "model_name": "LayoutModel",
      "state": {
       "height": "auto"
      }
     },
     "638d56f19ae64ceaafd9e3cac717f8b2": {
      "model_module": "@jupyter-widgets/base",
      "model_module_version": "1.2.0",
      "model_name": "LayoutModel",
      "state": {
       "width": "500px"
      }
     },
     "63a8e7d57c2c45a9bc1baa57ce1971dd": {
      "model_module": "@jupyter-widgets/controls",
      "model_module_version": "1.5.0",
      "model_name": "DescriptionStyleModel",
      "state": {
       "description_width": ""
      }
     },
     "63adb3744be34ff084df0346cfee96f7": {
      "model_module": "@jupyter-widgets/controls",
      "model_module_version": "1.5.0",
      "model_name": "DescriptionStyleModel",
      "state": {
       "description_width": ""
      }
     },
     "63be3ed3176b416ab52fb77a4d89a472": {
      "model_module": "@jupyter-widgets/controls",
      "model_module_version": "1.5.0",
      "model_name": "ButtonStyleModel",
      "state": {}
     },
     "63df7e818f16484a8ada249a60e3ed77": {
      "model_module": "@jupyter-widgets/controls",
      "model_module_version": "1.5.0",
      "model_name": "ButtonStyleModel",
      "state": {}
     },
     "63f2ab31ab01491a92fb8153e2ae25ab": {
      "model_module": "@jupyter-widgets/controls",
      "model_module_version": "1.5.0",
      "model_name": "ButtonModel",
      "state": {
       "button_style": "warning",
       "description": "O",
       "layout": "IPY_MODEL_cf23529af0904d8da2d7f2086b623cae",
       "style": "IPY_MODEL_b0ef27a2adc4443788b90946d779cf5f",
       "tooltip": "Click to guess O."
      }
     },
     "63f568a148cb44c999c8aa689791ef8e": {
      "model_module": "@jupyter-widgets/controls",
      "model_module_version": "1.5.0",
      "model_name": "ButtonStyleModel",
      "state": {}
     },
     "6406bdf8ba194e45b290452212e55525": {
      "model_module": "@jupyter-widgets/base",
      "model_module_version": "1.2.0",
      "model_name": "LayoutModel",
      "state": {
       "margin": "0px 0px 0px 100px"
      }
     },
     "643d9721ecb64cd495dc041efe95513b": {
      "model_module": "@jupyter-widgets/base",
      "model_module_version": "1.2.0",
      "model_name": "LayoutModel",
      "state": {
       "margin": "0px 0px 0px 70px"
      }
     },
     "645b42aca0b64ea29c3b7d7a23046af5": {
      "model_module": "@jupyter-widgets/base",
      "model_module_version": "1.2.0",
      "model_name": "LayoutModel",
      "state": {
       "grid_area": "header"
      }
     },
     "648181c00060469b986a8718124185fc": {
      "model_module": "@jupyter-widgets/base",
      "model_module_version": "1.2.0",
      "model_name": "LayoutModel",
      "state": {
       "grid_template_areas": "\"header header header\"\n\"left-sidebar center center\"\n\"footer footer footer\"",
       "grid_template_columns": "1fr 2fr 1fr",
       "grid_template_rows": "1fr 3fr 1fr"
      }
     },
     "649f98a91958497a9e99cd0c4f3d6706": {
      "model_module": "@jupyter-widgets/base",
      "model_module_version": "1.2.0",
      "model_name": "LayoutModel",
      "state": {
       "height": "25px",
       "width": "33px"
      }
     },
     "64fa32859ac44c70a8ec8c11d51a1f80": {
      "model_module": "@jupyter-widgets/controls",
      "model_module_version": "1.5.0",
      "model_name": "GridBoxModel",
      "state": {
       "children": [
        "IPY_MODEL_66ac6425bb8c4188bcf49318c4e7782f",
        "IPY_MODEL_678bc46a9ca045138ca9b868c6f1846e",
        "IPY_MODEL_06fea9f2c52a4715969ef13739b120fa",
        "IPY_MODEL_c94cd22a8bd34e46ae0c6680d21f2fbe"
       ],
       "layout": "IPY_MODEL_71df5e82d4e14548b733a16b2793d40e"
      }
     },
     "650c5530d9234e248bff1354caa259bb": {
      "model_module": "@jupyter-widgets/base",
      "model_module_version": "1.2.0",
      "model_name": "LayoutModel",
      "state": {
       "margin": "0px 0px 0px 100px"
      }
     },
     "651021c555fd451b8fabfc3c34c88822": {
      "model_module": "@jupyter-widgets/base",
      "model_module_version": "1.2.0",
      "model_name": "LayoutModel",
      "state": {
       "height": "25px",
       "width": "33px"
      }
     },
     "6517041c88ea439c8ec19b469f774374": {
      "model_module": "@jupyter-widgets/controls",
      "model_module_version": "1.5.0",
      "model_name": "DescriptionStyleModel",
      "state": {
       "description_width": ""
      }
     },
     "652507cb3961468da79f00df0741ca94": {
      "model_module": "@jupyter-widgets/controls",
      "model_module_version": "1.5.0",
      "model_name": "GridBoxModel",
      "state": {
       "children": [
        "IPY_MODEL_7e84ee46c0e243e48afa54ff4e0e2a7e",
        "IPY_MODEL_d67c2b458fc44c09996aef3afe68b0c8",
        "IPY_MODEL_14c195af651d495c9f58adce8031e3fd",
        "IPY_MODEL_adb65f9f00e64eff86e7e9de6f7db182"
       ],
       "layout": "IPY_MODEL_a2b1089208eb4e8f9aed244e527bd8a0"
      }
     },
     "6534214d35d04199907ab53733d3db90": {
      "model_module": "@jupyter-widgets/controls",
      "model_module_version": "1.5.0",
      "model_name": "VBoxModel",
      "state": {
       "children": [
        "IPY_MODEL_26b0dbf1b97e494aa20c00fe41dfd40e"
       ],
       "layout": "IPY_MODEL_6e005634a2b849ca97f9bfe653e2b05f"
      }
     },
     "6570a01df6d843f19dc35d4751edddcc": {
      "model_module": "@jupyter-widgets/controls",
      "model_module_version": "1.5.0",
      "model_name": "DescriptionStyleModel",
      "state": {
       "description_width": ""
      }
     },
     "65858eee6d4247c8b084b140f10bbf21": {
      "model_module": "@jupyter-widgets/controls",
      "model_module_version": "1.5.0",
      "model_name": "ButtonModel",
      "state": {
       "button_style": "warning",
       "description": "V",
       "disabled": true,
       "layout": "IPY_MODEL_8ca99a40908645899475977ed05d7a32",
       "style": "IPY_MODEL_c8cbc6d33c064eee8710aad91b3f4509"
      }
     },
     "65a5c07d03844e018eee8679480e4dac": {
      "model_module": "@jupyter-widgets/controls",
      "model_module_version": "1.5.0",
      "model_name": "HTMLModel",
      "state": {
       "layout": "IPY_MODEL_6f7dcbe90cf845fdb9d8a4d7c7941258",
       "style": "IPY_MODEL_c25c69f89b3041549dc8cd288c126b4c",
       "value": "<h1><font color=black>Secret Word:                          _ _ _ _</h1>"
      }
     },
     "65e1fb2af9a348198ea52d36c3a0026c": {
      "model_module": "@jupyter-widgets/controls",
      "model_module_version": "1.5.0",
      "model_name": "ButtonModel",
      "state": {
       "button_style": "warning",
       "description": "V",
       "disabled": true,
       "layout": "IPY_MODEL_4c802a0a37dd4d599e2b62f0de52c99e",
       "style": "IPY_MODEL_74d9a97caabc49e3a45d76bc6dfdaec9"
      }
     },
     "660c7c95c12f4e78a360848b10d17d88": {
      "model_module": "@jupyter-widgets/base",
      "model_module_version": "1.2.0",
      "model_name": "LayoutModel",
      "state": {
       "height": "25px",
       "width": "33px"
      }
     },
     "661247776a844da9a6399a1b0e909a14": {
      "model_module": "@jupyter-widgets/controls",
      "model_module_version": "1.5.0",
      "model_name": "DescriptionStyleModel",
      "state": {
       "description_width": ""
      }
     },
     "6623b274d38c40fcab9a8b51bf3d6e29": {
      "model_module": "@jupyter-widgets/controls",
      "model_module_version": "1.5.0",
      "model_name": "VBoxModel",
      "state": {
       "children": [
        "IPY_MODEL_48f7f92efab04e54a650e3f05cba3124",
        "IPY_MODEL_fa29e623f3754f54b0d4bfecbb6d5f28",
        "IPY_MODEL_9cec7d5a346a4db79f6b00ab00d5adbd"
       ],
       "layout": "IPY_MODEL_15a5e21683874721ba831bbabc077ed1"
      }
     },
     "6626e776b9544b2e8ac0055238d9dbde": {
      "model_module": "@jupyter-widgets/controls",
      "model_module_version": "1.5.0",
      "model_name": "VBoxModel",
      "state": {
       "children": [
        "IPY_MODEL_a72933ac99324bb3ac6c4f4d83eb95ee",
        "IPY_MODEL_239816c8899448609684e9d87873f806"
       ],
       "layout": "IPY_MODEL_8058f7ba1eac48058b4e70463101a4dc"
      }
     },
     "663297c3e52f4569bddb742aa20260fc": {
      "model_module": "@jupyter-widgets/controls",
      "model_module_version": "1.5.0",
      "model_name": "DescriptionStyleModel",
      "state": {
       "description_width": ""
      }
     },
     "6643e05c12d940d6924f9128b0f912da": {
      "model_module": "@jupyter-widgets/base",
      "model_module_version": "1.2.0",
      "model_name": "LayoutModel",
      "state": {
       "height": "auto"
      }
     },
     "666aa2556a5b48cab3911f037dec7a14": {
      "model_module": "@jupyter-widgets/controls",
      "model_module_version": "1.5.0",
      "model_name": "DescriptionStyleModel",
      "state": {
       "description_width": ""
      }
     },
     "666d4ba4c70f418bb8410602a284fe9d": {
      "model_module": "@jupyter-widgets/base",
      "model_module_version": "1.2.0",
      "model_name": "LayoutModel",
      "state": {
       "height": "auto"
      }
     },
     "6680ed7e1f7340328dc6b3d90c73a1fd": {
      "model_module": "@jupyter-widgets/base",
      "model_module_version": "1.2.0",
      "model_name": "LayoutModel",
      "state": {
       "grid_area": "header"
      }
     },
     "6686a25933a14ed9ab0c7f6ad0f1826b": {
      "model_module": "@jupyter-widgets/controls",
      "model_module_version": "1.5.0",
      "model_name": "ButtonStyleModel",
      "state": {}
     },
     "668e3b5652094f2eb83d0fb11caac854": {
      "model_module": "@jupyter-widgets/base",
      "model_module_version": "1.2.0",
      "model_name": "LayoutModel",
      "state": {}
     },
     "668e87e2864d42a2997f589495e3a597": {
      "model_module": "@jupyter-widgets/controls",
      "model_module_version": "1.5.0",
      "model_name": "DescriptionStyleModel",
      "state": {
       "description_width": ""
      }
     },
     "668fcbd54aaf4c378dda325ac98e54d0": {
      "model_module": "@jupyter-widgets/controls",
      "model_module_version": "1.5.0",
      "model_name": "DescriptionStyleModel",
      "state": {
       "description_width": ""
      }
     },
     "6691432d0ced425d92ca855b7ebccd69": {
      "model_module": "@jupyter-widgets/base",
      "model_module_version": "1.2.0",
      "model_name": "LayoutModel",
      "state": {
       "width": "500px"
      }
     },
     "6697bafda5aa4d02bb3f44f9db759e12": {
      "model_module": "@jupyter-widgets/base",
      "model_module_version": "1.2.0",
      "model_name": "LayoutModel",
      "state": {
       "height": "auto"
      }
     },
     "669f563801b94897af7d587dcba99a2e": {
      "model_module": "@jupyter-widgets/base",
      "model_module_version": "1.2.0",
      "model_name": "LayoutModel",
      "state": {
       "grid_area": "left-sidebar"
      }
     },
     "66ac6425bb8c4188bcf49318c4e7782f": {
      "model_module": "@jupyter-widgets/controls",
      "model_module_version": "1.5.0",
      "model_name": "HBoxModel",
      "state": {
       "children": [
        "IPY_MODEL_68caf9caca454d97a46ec649b696dd9a",
        "IPY_MODEL_9b1f8c3b430c4d0cb5f23d312e31c3ac"
       ],
       "layout": "IPY_MODEL_daeda7ba520f4d9a9c2282baa9dd563f"
      }
     },
     "66d5addeaa574bebbfc3acba8f617d65": {
      "model_module": "@jupyter-widgets/controls",
      "model_module_version": "1.5.0",
      "model_name": "HTMLModel",
      "state": {
       "layout": "IPY_MODEL_8b9b9df39cac487bb18af78c0539c45a",
       "style": "IPY_MODEL_ecf18c17b1aa4ad7bd3c0c8902b782ea",
       "value": "<h2><font color='black'>Remaining Guesses:                          4</h2>"
      }
     },
     "66ff151c62d8419fb2577464134a155b": {
      "model_module": "@jupyter-widgets/base",
      "model_module_version": "1.2.0",
      "model_name": "LayoutModel",
      "state": {
       "height": "auto",
       "width": "180px"
      }
     },
     "670298a6ac484d5b94660dcd3a7ff3d7": {
      "model_module": "@jupyter-widgets/base",
      "model_module_version": "1.2.0",
      "model_name": "LayoutModel",
      "state": {
       "grid_area": "center"
      }
     },
     "674fa8d3af7e4fc0aaed27b55a85e760": {
      "model_module": "@jupyter-widgets/base",
      "model_module_version": "1.2.0",
      "model_name": "LayoutModel",
      "state": {
       "height": "auto"
      }
     },
     "67645ff005da428b8edc21dba682edd4": {
      "model_module": "@jupyter-widgets/controls",
      "model_module_version": "1.5.0",
      "model_name": "HBoxModel",
      "state": {
       "children": [
        "IPY_MODEL_1444de3eee3644ee98c4be00cf50ef80",
        "IPY_MODEL_92e383f545ae49e0a0fa0e9b9fa6a3f6"
       ],
       "layout": "IPY_MODEL_fe88828f53dd4ec989d1581513543756"
      }
     },
     "6771c9ab49814321ae5bfd0a4f1cba5f": {
      "model_module": "@jupyter-widgets/controls",
      "model_module_version": "1.5.0",
      "model_name": "ButtonModel",
      "state": {
       "button_style": "warning",
       "description": "W",
       "layout": "IPY_MODEL_b4f7a0c5ec4e46e393ebc38b1deb9024",
       "style": "IPY_MODEL_b15986d9bced4ba89f551feccd80ec76",
       "tooltip": "Click to guess W."
      }
     },
     "678bc46a9ca045138ca9b868c6f1846e": {
      "model_module": "@jupyter-widgets/controls",
      "model_module_version": "1.5.0",
      "model_name": "VBoxModel",
      "state": {
       "children": [
        "IPY_MODEL_fa502432a468408d9fa88932d30f0e00",
        "IPY_MODEL_20154f7cacda48caa88ab4586e432ce3"
       ],
       "layout": "IPY_MODEL_79d53442e12843368dd130206decd1da"
      }
     },
     "679384d05d87469f81f5325cf4c142ca": {
      "model_module": "@jupyter-widgets/controls",
      "model_module_version": "1.5.0",
      "model_name": "ButtonModel",
      "state": {
       "button_style": "warning",
       "description": "J",
       "disabled": true,
       "layout": "IPY_MODEL_37ae27e52e0e453e8694a731c960bc4f",
       "style": "IPY_MODEL_db6721c3e5674dddae6679a09a21f13f"
      }
     },
     "67a808f25a61453ca767b43e2fb559c3": {
      "model_module": "@jupyter-widgets/controls",
      "model_module_version": "1.5.0",
      "model_name": "HTMLModel",
      "state": {
       "layout": "IPY_MODEL_7439df1d523046eba74c11402216c2eb",
       "style": "IPY_MODEL_7df0e7b796894f6b80e6ebda8840646f",
       "value": "<h2><font color='black'>Remaining Guesses:                          6</h2>"
      }
     },
     "67d130a322b1419e8c95d68bf14d5dd5": {
      "model_module": "@jupyter-widgets/controls",
      "model_module_version": "1.5.0",
      "model_name": "ButtonModel",
      "state": {
       "button_style": "warning",
       "description": "Q",
       "disabled": true,
       "layout": "IPY_MODEL_3e1c146b40ba43e482ada3cfcafcd298",
       "style": "IPY_MODEL_70dc60d8996341cb95f6be5a7c25aa1b"
      }
     },
     "67ea0fb2f8a54f2f8e62a2ed266ea28b": {
      "model_module": "@jupyter-widgets/base",
      "model_module_version": "1.2.0",
      "model_name": "LayoutModel",
      "state": {
       "margin": "0px 0px 0px 100px"
      }
     },
     "67edc0901e7649578d5a0c88eb700c4c": {
      "model_module": "@jupyter-widgets/base",
      "model_module_version": "1.2.0",
      "model_name": "LayoutModel",
      "state": {
       "grid_area": "center"
      }
     },
     "67f8b4c6ca114f618147fd744b590464": {
      "model_module": "@jupyter-widgets/controls",
      "model_module_version": "1.5.0",
      "model_name": "HTMLModel",
      "state": {
       "layout": "IPY_MODEL_735d736cdc6c49a288a36045e085641f",
       "style": "IPY_MODEL_323104cd3d5f4f1ebf12fdc8b7873125",
       "value": "<h3>Player Result</h3>"
      }
     },
     "68193ef120254ed6a0f673e8a41eb0b8": {
      "model_module": "@jupyter-widgets/base",
      "model_module_version": "1.2.0",
      "model_name": "LayoutModel",
      "state": {
       "grid_template_areas": "\"header header header\"\n\"left-sidebar center center\"\n\"footer footer footer\"",
       "grid_template_columns": "1fr 2fr 1fr",
       "grid_template_rows": "1fr 3fr 1fr"
      }
     },
     "682296249d534d25974420e682787571": {
      "model_module": "@jupyter-widgets/controls",
      "model_module_version": "1.5.0",
      "model_name": "ButtonStyleModel",
      "state": {}
     },
     "682a5822c6614e9ea8e84240d2b6a648": {
      "model_module": "@jupyter-widgets/base",
      "model_module_version": "1.2.0",
      "model_name": "LayoutModel",
      "state": {
       "width": "500px"
      }
     },
     "684d66edb3154537b4390536c4635887": {
      "model_module": "@jupyter-widgets/base",
      "model_module_version": "1.2.0",
      "model_name": "LayoutModel",
      "state": {}
     },
     "685a4c90ac1a413cabd9f32a272e5312": {
      "model_module": "@jupyter-widgets/controls",
      "model_module_version": "1.5.0",
      "model_name": "HTMLModel",
      "state": {
       "layout": "IPY_MODEL_77faaee882094a87a14ca1b12e5828a9",
       "style": "IPY_MODEL_e23f759ba21046b29dd1cc5fe601376c",
       "value": "<h3>Player Result</h3>"
      }
     },
     "68afcfb73159423bb7ea2479629bda7c": {
      "model_module": "@jupyter-widgets/controls",
      "model_module_version": "1.5.0",
      "model_name": "VBoxModel",
      "state": {
       "children": [
        "IPY_MODEL_48f7f92efab04e54a650e3f05cba3124"
       ],
       "layout": "IPY_MODEL_669f563801b94897af7d587dcba99a2e"
      }
     },
     "68caf9caca454d97a46ec649b696dd9a": {
      "model_module": "@jupyter-widgets/controls",
      "model_module_version": "1.5.0",
      "model_name": "VBoxModel",
      "state": {
       "children": [
        "IPY_MODEL_4fad67d2eea5484aa7e5639ac6e58f9e",
        "IPY_MODEL_4e2a91006a54430aa5425f10eb8bbb30"
       ],
       "layout": "IPY_MODEL_2c8a6d6564d34da7af68023d1f725be5"
      }
     },
     "68f4cbdc998e4bc3a263223d31de5231": {
      "model_module": "@jupyter-widgets/controls",
      "model_module_version": "1.5.0",
      "model_name": "ButtonModel",
      "state": {
       "button_style": "warning",
       "description": "B",
       "disabled": true,
       "layout": "IPY_MODEL_bd174ba6a474411fa4df224ecae5eae6",
       "style": "IPY_MODEL_f8f0ba612ed1470987f5da8abcdeaf07"
      }
     },
     "692a4f8a747043b3a3d53a9e23610145": {
      "buffers": [
       {
        "data": "iVBORw0KGgoAAAANSUhEUgAAATQAAAE0CAIAAAAt41jIAAAEvUlEQVR4nO3d0W6iUBRAUZ30/3+ZeZjEsYqAArJb13pqDRJisnNQkXs6AQAAwD7O1/8Mw3DUcQCn0+l8/p/knwOPA5ggTogSJ0SJE6LECVHihChxQpQ4IUqcECVOiBInRIkTosQJUeKEKHFClDghSpwQJU6IEidEiROixAlR4oQocUKUOCFKnBAlTogSJ0SJE6LECVHihChxQpQ4IUqcECVOiPo6+gB+j+sFw9nWMAxHH8IBTM5tKHNXn/nyihOinNZu7DNPwPbzmTPzH5MTosQJUeKEKHFClDghSpwQJU6IEidEiROixAlR4oQocUKUOCFKnBAlTogSJ0SJE6LcCWGV+9/pXx5xSwRWEucrltw7Q6WsJM7n3GQ5Ed5ly39/SJRniXOp5VlebyBRXibOec9meb+xRHmBT2tnXJc5DMNrXd088ZNv98hy4pxyU+bKvemTp4jzoW3LvN+PPpkmznnbvkX0hpOFxDlu128pL/s0PJkgzin7TTnzk1niHPHOgWZ48og4H9p7uBmeTBPnrfePMsOTUeIc956xZngyQZwQJc5v3n/t683Ft3AhTogSJ0SJE6LECVHihChxQpQ4IUqcECXOb95/SYBbfvGIOCFKnOPeMzxdtccEcd56/xmmc1pGifOhvceasck0cY54/69S4J44p+w33IxNZolz3K53r7Q6IEuIc962fZqZLCTOh/ZYOmGPJR74rcQ5Zds+lclTxDnjps/XEr15ojJZwuK589YsgLtm4V0+nDiXejZRWbKSOJ8zmuiSp8CzxPmKJd+CapKVxLmKAtmPT2shSpwQJU6IEidEiROixAlR4oQocUKUOCFKnBAlTogSJ0SJE6LECVHihChxQpQ4IUqcECVOiBInRIkTosQJUeKEKHFClDghSpwQJU6IEidEiROixAlR4oQocUKUOCFKnBAlTogSJ0SJE6LECVHihChxQpQ4IUqcECVOiBInRIkTosQJUeKEKHFClDghSpwQJU6IEidEiROixAlR4oQocUKUOCFKnBAlTogSJ0SJE6LECVHihChxQpQ4IUqcECVOiBInRIkTosQJUeKEKHFClDghSpwQJU6IEidEiROixAlR4oQocUKUOCFKnBAlTogSJ0SJE6LECVHihChxQpQ4IUqcECVOiBInRIkTosQJUeKEKHFClDghSpwQJU6IEidEiROixAlR4oQocUKUOCFKnBAlTogSJ0SJE6LECVHihChxQpQ4IUqcECVOiBInRIkTosQJUeKEKHFClDghSpwQJU6IEidEiROixAlR4oQocUKUOCFKnBAlTogSJ0SJE6LECVHihChxQpQ4IUqcECVOiBInRIkTosQJUeKEKHFClDghSpwQJU6IEidEiROixAlR4oQocUKUOCFKnBAlTogSJ0SJE6LECVHihChxQpQ4IUqcECVOiBInRIkTosQJUeKEKHFClDghSpwQJU6IEidEiROixAlR4oQocUKUOCHq6+gDYN75fD76EI7XfxGGYdh2hyYnRIkTopzW/gCbny/xI5icECVOiBInRIkTosQJUeKEKHFClDghSpwQJU6IEidEiROixAlR4oQocUKUOCFKnBAlTogSJ0SJE6LECQAAAPBh/gLkBrZ9QrhuSAAAAABJRU5ErkJggg==",
        "encoding": "base64",
        "path": [
         "value"
        ]
       }
      ],
      "model_module": "@jupyter-widgets/controls",
      "model_module_version": "1.5.0",
      "model_name": "ImageModel",
      "state": {
       "layout": "IPY_MODEL_59c0cf818f694e9ab16a415af105f530"
      }
     },
     "69442b9702814142aa651c93c8ac7748": {
      "model_module": "@jupyter-widgets/controls",
      "model_module_version": "1.5.0",
      "model_name": "GridBoxModel",
      "state": {
       "children": [
        "IPY_MODEL_a411cbd0787148529e6b60ea617b27e8",
        "IPY_MODEL_d8ce3225b8004160bbadfc6eb0d62f4d",
        "IPY_MODEL_158e49def682411eb5d7b0a39b152f69",
        "IPY_MODEL_362a90763814464da397db2755e118fd"
       ],
       "layout": "IPY_MODEL_648181c00060469b986a8718124185fc"
      }
     },
     "69572efbfe1d4d61990643b16a61371d": {
      "model_module": "@jupyter-widgets/base",
      "model_module_version": "1.2.0",
      "model_name": "LayoutModel",
      "state": {
       "width": "500px"
      }
     },
     "698d6385de024234bbcb0e689ef59f4d": {
      "model_module": "@jupyter-widgets/base",
      "model_module_version": "1.2.0",
      "model_name": "LayoutModel",
      "state": {
       "grid_area": "center"
      }
     },
     "698d7f820e754b36a2d4975c9d9a1b19": {
      "model_module": "@jupyter-widgets/controls",
      "model_module_version": "1.5.0",
      "model_name": "HTMLModel",
      "state": {
       "layout": "IPY_MODEL_2e026a1cf9a44a6ebe0d936f943d2a7c",
       "style": "IPY_MODEL_10545f02584c4f2cad9ac3c024f4c771",
       "value": "<h1><font color=red>Secret Word:                          indigo</h1>"
      }
     },
     "6992d9f2fd784c2d924e7d5b9362099d": {
      "model_module": "@jupyter-widgets/controls",
      "model_module_version": "1.5.0",
      "model_name": "ButtonModel",
      "state": {
       "button_style": "warning",
       "description": "X",
       "layout": "IPY_MODEL_ea21ff323efc41728bbb1474a472e871",
       "style": "IPY_MODEL_1ae5af507c314df8af38fc6d58ca4b7e",
       "tooltip": "Click to guess X."
      }
     },
     "69bdc895296a42388ce54323549335bf": {
      "model_module": "@jupyter-widgets/base",
      "model_module_version": "1.2.0",
      "model_name": "LayoutModel",
      "state": {
       "height": "25px",
       "width": "33px"
      }
     },
     "69c9da0c589149d59ae0435420b855ad": {
      "model_module": "@jupyter-widgets/base",
      "model_module_version": "1.2.0",
      "model_name": "LayoutModel",
      "state": {}
     },
     "69e4c9ce29534c6ebd9afd30942ca347": {
      "model_module": "@jupyter-widgets/base",
      "model_module_version": "1.2.0",
      "model_name": "LayoutModel",
      "state": {
       "margin": "0px 0px 0px 100px"
      }
     },
     "69f0ce1c0c284a1c8e53497a6227ada8": {
      "model_module": "@jupyter-widgets/base",
      "model_module_version": "1.2.0",
      "model_name": "LayoutModel",
      "state": {
       "height": "25px",
       "width": "33px"
      }
     },
     "6a5487db808d4c2a830ed1e9e636d456": {
      "model_module": "@jupyter-widgets/controls",
      "model_module_version": "1.5.0",
      "model_name": "VBoxModel",
      "state": {
       "children": [
        "IPY_MODEL_56afc96fcffb4bf88d05f9643ef72b83",
        "IPY_MODEL_1260a415f0504ecd97848e19ce62832e",
        "IPY_MODEL_b13dd353256a411082a3827d1222391b"
       ],
       "layout": "IPY_MODEL_d7fa8a307bf24a3f9415a6e8f4e1f000"
      }
     },
     "6a597f35f9ec44e3a07d08e0f1526c0b": {
      "model_module": "@jupyter-widgets/base",
      "model_module_version": "1.2.0",
      "model_name": "LayoutModel",
      "state": {
       "grid_area": "header"
      }
     },
     "6a59cfdaa27a4cd09107eb95533129ba": {
      "model_module": "@jupyter-widgets/base",
      "model_module_version": "1.2.0",
      "model_name": "LayoutModel",
      "state": {
       "grid_area": "center"
      }
     },
     "6aae74dbf028474c8aea63a2e4da1edb": {
      "model_module": "@jupyter-widgets/base",
      "model_module_version": "1.2.0",
      "model_name": "LayoutModel",
      "state": {}
     },
     "6ac416527cad403a8c06e7ad610880f7": {
      "model_module": "@jupyter-widgets/base",
      "model_module_version": "1.2.0",
      "model_name": "LayoutModel",
      "state": {}
     },
     "6ac9d234bd0d4500bc57551e303d6f0d": {
      "model_module": "@jupyter-widgets/controls",
      "model_module_version": "1.5.0",
      "model_name": "ButtonModel",
      "state": {
       "button_style": "warning",
       "description": "I",
       "layout": "IPY_MODEL_bbfd12842ec246a5836e29b065fd25b0",
       "style": "IPY_MODEL_ac7b26bb67284efbb0dd7424ea765f61",
       "tooltip": "Click to guess I."
      }
     },
     "6b08d063bfc94798a87d4bc48dbc01a1": {
      "model_module": "@jupyter-widgets/base",
      "model_module_version": "1.2.0",
      "model_name": "LayoutModel",
      "state": {
       "grid_area": "left-sidebar"
      }
     },
     "6b6c6f662d584803aac96eb17d66edcd": {
      "model_module": "@jupyter-widgets/controls",
      "model_module_version": "1.5.0",
      "model_name": "DropdownModel",
      "state": {
       "_options_labels": [
        "Animals",
        "Car brands",
        "Colors",
        "Countries",
        "Fruits",
        "Shapes"
       ],
       "description": "Category",
       "index": 3,
       "layout": "IPY_MODEL_e83adb6845dd49ff8427580e375604e7",
       "style": "IPY_MODEL_c1a492ad2daa4cbea85493c081f0e15a"
      }
     },
     "6b7a5ccbad1f48799bcfe548f1eb9f34": {
      "model_module": "@jupyter-widgets/controls",
      "model_module_version": "1.5.0",
      "model_name": "ButtonModel",
      "state": {
       "button_style": "warning",
       "description": "F",
       "layout": "IPY_MODEL_394b67bdef324b5c8b54d7adc45d010e",
       "style": "IPY_MODEL_dbe90643ca7e4a98b1d1108a33455f4b",
       "tooltip": "Click to guess F."
      }
     },
     "6b7b617c597b46a5bc6586412b369537": {
      "model_module": "@jupyter-widgets/controls",
      "model_module_version": "1.5.0",
      "model_name": "DescriptionStyleModel",
      "state": {
       "description_width": ""
      }
     },
     "6baecb57912f4f63b9034cb313695b1b": {
      "model_module": "@jupyter-widgets/controls",
      "model_module_version": "1.5.0",
      "model_name": "DescriptionStyleModel",
      "state": {
       "description_width": ""
      }
     },
     "6bb002beaef744b0ae234a038b07a25c": {
      "model_module": "@jupyter-widgets/controls",
      "model_module_version": "1.5.0",
      "model_name": "VBoxModel",
      "state": {
       "children": [
        "IPY_MODEL_48f7f92efab04e54a650e3f05cba3124"
       ],
       "layout": "IPY_MODEL_4e87c4aa67b248389cc02da2f5a89868"
      }
     },
     "6bb308a709f3455c9f280266445dc507": {
      "model_module": "@jupyter-widgets/controls",
      "model_module_version": "1.5.0",
      "model_name": "ButtonModel",
      "state": {
       "button_style": "warning",
       "description": "W",
       "disabled": true,
       "layout": "IPY_MODEL_61ae84f203934a9c9b8b44d86ba5f80f",
       "style": "IPY_MODEL_02dfef30353f422a916e9b34a6960573"
      }
     },
     "6bd47bb6f64e49418c957218437ce3f0": {
      "model_module": "@jupyter-widgets/controls",
      "model_module_version": "1.5.0",
      "model_name": "ButtonModel",
      "state": {
       "button_style": "warning",
       "description": "Q",
       "disabled": true,
       "layout": "IPY_MODEL_be861fa801004bb2989923dff988ffad",
       "style": "IPY_MODEL_2a6d27b4bfe64ae39fecbac75772bc1a"
      }
     },
     "6c05306ecb03463fa166aceac3533e48": {
      "model_module": "@jupyter-widgets/controls",
      "model_module_version": "1.5.0",
      "model_name": "HTMLModel",
      "state": {
       "layout": "IPY_MODEL_d43ce8a903eb4e29b601fea36975e1ab",
       "style": "IPY_MODEL_1f2c10e7b01841c0b12df24a8b1bc139",
       "value": "<h4>Wins: 0</h4>"
      }
     },
     "6c5afe39bf4544c2b9b95f4f2035ff7b": {
      "model_module": "@jupyter-widgets/controls",
      "model_module_version": "1.5.0",
      "model_name": "HTMLModel",
      "state": {
       "layout": "IPY_MODEL_9fa59730a517415096c1f173ea8a865f",
       "style": "IPY_MODEL_9f8373ee5452438b98b8bd82fdb3b6b0",
       "value": "<h2><font color='black'>Remaining Guesses:                          0</h2>"
      }
     },
     "6c773d738da44357a6ffa869a29e47c8": {
      "model_module": "@jupyter-widgets/controls",
      "model_module_version": "1.5.0",
      "model_name": "HBoxModel",
      "state": {
       "children": [
        "IPY_MODEL_58b43d6a14ee4d98a54da864cb18c436",
        "IPY_MODEL_58e930b7eea043feba031af6f36ac81f"
       ],
       "layout": "IPY_MODEL_9d4ea68a97134867bbf2bf9be4d7c11d"
      }
     },
     "6c88f4d1b4a9461a8afea2cf5ff9a7b2": {
      "model_module": "@jupyter-widgets/controls",
      "model_module_version": "1.5.0",
      "model_name": "HBoxModel",
      "state": {
       "children": [
        "IPY_MODEL_fc2b20d05bb14b7e86419ddce3c90d7a",
        "IPY_MODEL_4d56b6f873ea4c9ea04775b819b5b9b7"
       ],
       "layout": "IPY_MODEL_7ead219c13d54962908af9331d594bd5"
      }
     },
     "6c8953245663428baebf60874ff436c5": {
      "model_module": "@jupyter-widgets/base",
      "model_module_version": "1.2.0",
      "model_name": "LayoutModel",
      "state": {}
     },
     "6c91a29b7c7342ec9032b56d61236472": {
      "model_module": "@jupyter-widgets/base",
      "model_module_version": "1.2.0",
      "model_name": "LayoutModel",
      "state": {
       "grid_template_areas": "\"header header header\"\n\"left-sidebar center center\"\n\"footer footer footer\"",
       "grid_template_columns": "1fr 2fr 1fr",
       "grid_template_rows": "1fr 3fr 1fr"
      }
     },
     "6cb43192ffcb4fab80092fe5f3fe2885": {
      "model_module": "@jupyter-widgets/controls",
      "model_module_version": "1.5.0",
      "model_name": "VBoxModel",
      "state": {
       "children": [
        "IPY_MODEL_26b0dbf1b97e494aa20c00fe41dfd40e"
       ],
       "layout": "IPY_MODEL_2d1e9bf5fe0b4f69a9628c3140e46561"
      }
     },
     "6cc70543edda4e04bab190827c1912a7": {
      "model_module": "@jupyter-widgets/base",
      "model_module_version": "1.2.0",
      "model_name": "LayoutModel",
      "state": {
       "grid_area": "header"
      }
     },
     "6cdfcde9196448fa85ed723c6b45a75c": {
      "model_module": "@jupyter-widgets/controls",
      "model_module_version": "1.5.0",
      "model_name": "VBoxModel",
      "state": {
       "children": [
        "IPY_MODEL_f5fe60c822d441bfbf30ea47d341ba93",
        "IPY_MODEL_fb4121df037842488b35baecbd08eb79"
       ],
       "layout": "IPY_MODEL_23baecd2fc7b48cc846f046b78964d1f"
      }
     },
     "6d03daab2bf1470b9b4e010e891a2ade": {
      "model_module": "@jupyter-widgets/controls",
      "model_module_version": "1.5.0",
      "model_name": "HTMLModel",
      "state": {
       "layout": "IPY_MODEL_2fbb258397b942619eaf3ea35609c441",
       "style": "IPY_MODEL_6daf3ce34f364d92a678b9ebc6d09ac6",
       "value": "<h2><font color='black'>Remaining Guesses:                          4</h2>"
      }
     },
     "6d4551609a3444eba52880499a0a1fe1": {
      "model_module": "@jupyter-widgets/controls",
      "model_module_version": "1.5.0",
      "model_name": "ButtonStyleModel",
      "state": {}
     },
     "6d49d98291dd4b0a974254670baa7043": {
      "model_module": "@jupyter-widgets/base",
      "model_module_version": "1.2.0",
      "model_name": "LayoutModel",
      "state": {
       "height": "25px",
       "width": "33px"
      }
     },
     "6d4cca6fb5ed49ad8a5b33f40c73bef2": {
      "model_module": "@jupyter-widgets/controls",
      "model_module_version": "1.5.0",
      "model_name": "ButtonModel",
      "state": {
       "button_style": "warning",
       "description": "M",
       "layout": "IPY_MODEL_9db6a36e24ac4bfead13482e947dae03",
       "style": "IPY_MODEL_cbe813e85c7d4b63ab38259d8596c440",
       "tooltip": "Click to guess M."
      }
     },
     "6d6d45c258e14414998087b7e7f8eb2b": {
      "model_module": "@jupyter-widgets/controls",
      "model_module_version": "1.5.0",
      "model_name": "GridBoxModel",
      "state": {
       "children": [
        "IPY_MODEL_6c773d738da44357a6ffa869a29e47c8",
        "IPY_MODEL_d5f37fb6d9c543cdbac6bb1885bbe101",
        "IPY_MODEL_8ffee65eb7434d9e89c7d929c52866d2",
        "IPY_MODEL_996c4cdb470e455db66b0a82ac1c9c71"
       ],
       "layout": "IPY_MODEL_3b2be856b21b4af7a5b3fb394e171a87"
      }
     },
     "6d8b0b5f574244ea8069933c1664a2c3": {
      "model_module": "@jupyter-widgets/controls",
      "model_module_version": "1.5.0",
      "model_name": "ButtonStyleModel",
      "state": {}
     },
     "6d8f9948aa2c426a9480ffc25653858e": {
      "model_module": "@jupyter-widgets/base",
      "model_module_version": "1.2.0",
      "model_name": "LayoutModel",
      "state": {
       "margin": "0px 0px 0px 100px"
      }
     },
     "6d932038d5ff431aa70ffbd406a1a3ba": {
      "model_module": "@jupyter-widgets/base",
      "model_module_version": "1.2.0",
      "model_name": "LayoutModel",
      "state": {
       "height": "25px",
       "width": "33px"
      }
     },
     "6daf3ce34f364d92a678b9ebc6d09ac6": {
      "model_module": "@jupyter-widgets/controls",
      "model_module_version": "1.5.0",
      "model_name": "DescriptionStyleModel",
      "state": {
       "description_width": ""
      }
     },
     "6db13615cab34cf9972f06d9996ed800": {
      "model_module": "@jupyter-widgets/base",
      "model_module_version": "1.2.0",
      "model_name": "LayoutModel",
      "state": {
       "height": "25px",
       "width": "33px"
      }
     },
     "6dd06963997b4a66bd7315f2815e11e7": {
      "model_module": "@jupyter-widgets/base",
      "model_module_version": "1.2.0",
      "model_name": "LayoutModel",
      "state": {
       "margin": "0px 0px 0px 100px"
      }
     },
     "6de4383dc02b4909b6ab84ad7f708735": {
      "model_module": "@jupyter-widgets/controls",
      "model_module_version": "1.5.0",
      "model_name": "DescriptionStyleModel",
      "state": {
       "description_width": ""
      }
     },
     "6de8fc0aed364f8c89e8c5a469e51d2c": {
      "model_module": "@jupyter-widgets/base",
      "model_module_version": "1.2.0",
      "model_name": "LayoutModel",
      "state": {
       "margin": "0px 0px 0px 70px"
      }
     },
     "6df60c0debde486e8f2860b0c9665c9c": {
      "model_module": "@jupyter-widgets/controls",
      "model_module_version": "1.5.0",
      "model_name": "DescriptionStyleModel",
      "state": {
       "description_width": ""
      }
     },
     "6e005634a2b849ca97f9bfe653e2b05f": {
      "model_module": "@jupyter-widgets/base",
      "model_module_version": "1.2.0",
      "model_name": "LayoutModel",
      "state": {
       "grid_area": "left-sidebar"
      }
     },
     "6e2027d0c8934369afad6f85c658e1c1": {
      "model_module": "@jupyter-widgets/controls",
      "model_module_version": "1.5.0",
      "model_name": "DescriptionStyleModel",
      "state": {
       "description_width": ""
      }
     },
     "6e455b73cceb4831836e5b3eb060dec5": {
      "model_module": "@jupyter-widgets/base",
      "model_module_version": "1.2.0",
      "model_name": "LayoutModel",
      "state": {
       "height": "auto"
      }
     },
     "6eb8967ff8774b9c9998075bd5bcaad1": {
      "model_module": "@jupyter-widgets/controls",
      "model_module_version": "1.5.0",
      "model_name": "ButtonStyleModel",
      "state": {}
     },
     "6ede68d7160046b992262acac7af27bd": {
      "model_module": "@jupyter-widgets/base",
      "model_module_version": "1.2.0",
      "model_name": "LayoutModel",
      "state": {
       "height": "25px",
       "width": "33px"
      }
     },
     "6ee922d337b14c7f8663f094bae1762b": {
      "model_module": "@jupyter-widgets/controls",
      "model_module_version": "1.5.0",
      "model_name": "ButtonModel",
      "state": {
       "button_style": "warning",
       "description": "D",
       "layout": "IPY_MODEL_7dacda1be0224ac09d04657d29a9e669",
       "style": "IPY_MODEL_39cccd4849fa4ddfabf17ae158581e63",
       "tooltip": "Click to guess D."
      }
     },
     "6f14b08b04f445c29d0e6146f788c345": {
      "model_module": "@jupyter-widgets/base",
      "model_module_version": "1.2.0",
      "model_name": "LayoutModel",
      "state": {
       "margin": "0px 0px 0px 100px"
      }
     },
     "6f38e529bdeb4ced9cdcc42289f55946": {
      "model_module": "@jupyter-widgets/base",
      "model_module_version": "1.2.0",
      "model_name": "LayoutModel",
      "state": {
       "margin": "0px 0px 0px 100px"
      }
     },
     "6f50b44df93d4cbabab7d881ce9b0f7d": {
      "model_module": "@jupyter-widgets/controls",
      "model_module_version": "1.5.0",
      "model_name": "VBoxModel",
      "state": {
       "children": [
        "IPY_MODEL_33725958c94f4752a8d17cf51c77b178",
        "IPY_MODEL_325e554454b54965a3b61ef88e60b888"
       ],
       "layout": "IPY_MODEL_32fbef8fbb454275930bec27b3623b74"
      }
     },
     "6f79fe9646924c679767752db44efb66": {
      "model_module": "@jupyter-widgets/controls",
      "model_module_version": "1.5.0",
      "model_name": "GridBoxModel",
      "state": {
       "children": [
        "IPY_MODEL_56f4bcc8bfdf4348ba3703819f0f9454",
        "IPY_MODEL_deec26f10caa4a63a86ae943a438b219",
        "IPY_MODEL_09af240158ae40119aa2d8240dd01c49",
        "IPY_MODEL_df65d81b638a40168a038c3482c3fb0c"
       ],
       "layout": "IPY_MODEL_00f2381422914efdbab62f33fa61c268"
      }
     },
     "6f7ca08ed7bc4c8d9330547f96996485": {
      "model_module": "@jupyter-widgets/base",
      "model_module_version": "1.2.0",
      "model_name": "LayoutModel",
      "state": {
       "height": "25px",
       "width": "33px"
      }
     },
     "6f7ccfcb01a2499fac713fee5e10bcfb": {
      "model_module": "@jupyter-widgets/base",
      "model_module_version": "1.2.0",
      "model_name": "LayoutModel",
      "state": {
       "height": "25px",
       "width": "33px"
      }
     },
     "6f7dcbe90cf845fdb9d8a4d7c7941258": {
      "model_module": "@jupyter-widgets/base",
      "model_module_version": "1.2.0",
      "model_name": "LayoutModel",
      "state": {
       "width": "500px"
      }
     },
     "6f9ea621554048b3a7044148821db33a": {
      "model_module": "@jupyter-widgets/controls",
      "model_module_version": "1.5.0",
      "model_name": "ButtonStyleModel",
      "state": {}
     },
     "6fce3ccb515a4535ac021743d98e80ef": {
      "model_module": "@jupyter-widgets/controls",
      "model_module_version": "1.5.0",
      "model_name": "VBoxModel",
      "state": {
       "children": [
        "IPY_MODEL_2c414b4d16e9457fa011957907ecba2a",
        "IPY_MODEL_f9890b4dadea44ef9dd859edaae3ca3a"
       ],
       "layout": "IPY_MODEL_15e3ecd30dc040529512f52d8061fa0a"
      }
     },
     "6fe40780c17048af9c5d6fb1bb768ad1": {
      "model_module": "@jupyter-widgets/controls",
      "model_module_version": "1.5.0",
      "model_name": "DescriptionStyleModel",
      "state": {
       "description_width": ""
      }
     },
     "6feca57b69d04564a2dc633894138327": {
      "model_module": "@jupyter-widgets/controls",
      "model_module_version": "1.5.0",
      "model_name": "HTMLModel",
      "state": {
       "layout": "IPY_MODEL_ea1efbd3347e4e2c8bf88826e9bb05d6",
       "style": "IPY_MODEL_5bd61b996e6c4c1ba8b9ec6e6077cea1",
       "value": "<h1><font color='blue'> You Lose </h1>"
      }
     },
     "701550d174f9464fa38149a7499656b1": {
      "model_module": "@jupyter-widgets/controls",
      "model_module_version": "1.5.0",
      "model_name": "DescriptionStyleModel",
      "state": {
       "description_width": ""
      }
     },
     "704d4ee22c62417ba4a163e51b9d8150": {
      "model_module": "@jupyter-widgets/controls",
      "model_module_version": "1.5.0",
      "model_name": "DescriptionStyleModel",
      "state": {
       "description_width": ""
      }
     },
     "70521d36560045d9964fd3c3e7f709fa": {
      "model_module": "@jupyter-widgets/controls",
      "model_module_version": "1.5.0",
      "model_name": "ButtonStyleModel",
      "state": {}
     },
     "7067a57211094be9a98e7007e904da01": {
      "model_module": "@jupyter-widgets/base",
      "model_module_version": "1.2.0",
      "model_name": "LayoutModel",
      "state": {
       "margin": "0px 0px 0px 100px"
      }
     },
     "706c185bd00c445bae076fea7598a4c5": {
      "model_module": "@jupyter-widgets/controls",
      "model_module_version": "1.5.0",
      "model_name": "DescriptionStyleModel",
      "state": {
       "description_width": ""
      }
     },
     "707c09a336224706b52f977f4f98b325": {
      "model_module": "@jupyter-widgets/base",
      "model_module_version": "1.2.0",
      "model_name": "LayoutModel",
      "state": {
       "grid_area": "header"
      }
     },
     "70911e8e9fdc45f9ae03f0afbce27d64": {
      "model_module": "@jupyter-widgets/base",
      "model_module_version": "1.2.0",
      "model_name": "LayoutModel",
      "state": {
       "height": "auto",
       "width": "180px"
      }
     },
     "70ada50657004bac9cca8ed3d361d344": {
      "model_module": "@jupyter-widgets/controls",
      "model_module_version": "1.5.0",
      "model_name": "HTMLModel",
      "state": {
       "layout": "IPY_MODEL_ed4a837010b74ceb977f5743c60ab00a",
       "style": "IPY_MODEL_40312ca20e85459fa0a9ec51efe912c4",
       "value": "<h4>Games: 3</h4>"
      }
     },
     "70c8cdbb4d794a318b38af9c59ce6949": {
      "model_module": "@jupyter-widgets/controls",
      "model_module_version": "1.5.0",
      "model_name": "DescriptionStyleModel",
      "state": {
       "description_width": ""
      }
     },
     "70dc60d8996341cb95f6be5a7c25aa1b": {
      "model_module": "@jupyter-widgets/controls",
      "model_module_version": "1.5.0",
      "model_name": "ButtonStyleModel",
      "state": {}
     },
     "70ee85aa88bf42b4a60e5fbe00d55ad2": {
      "model_module": "@jupyter-widgets/controls",
      "model_module_version": "1.5.0",
      "model_name": "VBoxModel",
      "state": {
       "children": [
        "IPY_MODEL_e6934f12e2b043fb842bcbeb06e91cb3",
        "IPY_MODEL_239816c8899448609684e9d87873f806"
       ],
       "layout": "IPY_MODEL_1a5e702ddb294f5eb6fbc27c31d0f414"
      }
     },
     "70f347e804c44296b1956456f70a3009": {
      "model_module": "@jupyter-widgets/controls",
      "model_module_version": "1.5.0",
      "model_name": "ButtonModel",
      "state": {
       "button_style": "warning",
       "description": "P",
       "disabled": true,
       "layout": "IPY_MODEL_43b36117a57d4cb1be00f09c0f405cc5",
       "style": "IPY_MODEL_f6c56982aa494d1ca20890ad78b0cf67"
      }
     },
     "71036008146143c4835fb0c0522cd920": {
      "model_module": "@jupyter-widgets/base",
      "model_module_version": "1.2.0",
      "model_name": "LayoutModel",
      "state": {}
     },
     "710e5db315884df89695ce2b5d4ecfa2": {
      "model_module": "@jupyter-widgets/controls",
      "model_module_version": "1.5.0",
      "model_name": "ButtonStyleModel",
      "state": {}
     },
     "7144b26aa954486aab321900f3f17e20": {
      "model_module": "@jupyter-widgets/base",
      "model_module_version": "1.2.0",
      "model_name": "LayoutModel",
      "state": {
       "height": "25px",
       "width": "33px"
      }
     },
     "714f3cb59d2841bb8c176c2127fcfc10": {
      "model_module": "@jupyter-widgets/base",
      "model_module_version": "1.2.0",
      "model_name": "LayoutModel",
      "state": {
       "height": "auto"
      }
     },
     "7151a9e59c624e2bbba0c63093870f96": {
      "model_module": "@jupyter-widgets/controls",
      "model_module_version": "1.5.0",
      "model_name": "GridBoxModel",
      "state": {
       "children": [
        "IPY_MODEL_3d13ac951c654c5d86f409b95fd19320",
        "IPY_MODEL_e30e4cd5b4b34059a71373dddf5a5545",
        "IPY_MODEL_73406e26b15348ba8e6bcf4e0e318f09",
        "IPY_MODEL_1f29273befc3465a9efbfe31c9c5747e"
       ],
       "layout": "IPY_MODEL_1ab08fe70af5425ca117fc9205ff1fe1"
      }
     },
     "717525daa63d4dbaa46d212142630f66": {
      "model_module": "@jupyter-widgets/controls",
      "model_module_version": "1.5.0",
      "model_name": "HTMLModel",
      "state": {
       "layout": "IPY_MODEL_51937d0daae1438fa1b2df8df0c5e84c",
       "style": "IPY_MODEL_9ee734be68a44d1891a8df3277dce9cb",
       "value": "<h2><font color='black'>Remaining Guesses:                          6</h2>"
      }
     },
     "718405ba1e1e46f998f5e3d8e38579d7": {
      "model_module": "@jupyter-widgets/base",
      "model_module_version": "1.2.0",
      "model_name": "LayoutModel",
      "state": {
       "grid_template_areas": "\"header header header\"\n\"left-sidebar center center\"\n\"footer footer footer\"",
       "grid_template_columns": "1fr 2fr 1fr",
       "grid_template_rows": "1fr 3fr 1fr"
      }
     },
     "71a445a2d0014b97951f0956b88066d0": {
      "model_module": "@jupyter-widgets/controls",
      "model_module_version": "1.5.0",
      "model_name": "ButtonStyleModel",
      "state": {}
     },
     "71ab1165296a47b1b0356165777d750a": {
      "model_module": "@jupyter-widgets/controls",
      "model_module_version": "1.5.0",
      "model_name": "DescriptionStyleModel",
      "state": {
       "description_width": ""
      }
     },
     "71b2515d9d1e4ec185fece9abf30d3dd": {
      "model_module": "@jupyter-widgets/controls",
      "model_module_version": "1.5.0",
      "model_name": "DescriptionStyleModel",
      "state": {
       "description_width": ""
      }
     },
     "71b8d3198af54239a5542f7c3b39b1f1": {
      "model_module": "@jupyter-widgets/base",
      "model_module_version": "1.2.0",
      "model_name": "LayoutModel",
      "state": {
       "grid_area": "header"
      }
     },
     "71baec35317e46e580983aba4c33e916": {
      "model_module": "@jupyter-widgets/controls",
      "model_module_version": "1.5.0",
      "model_name": "ButtonStyleModel",
      "state": {}
     },
     "71df5e82d4e14548b733a16b2793d40e": {
      "model_module": "@jupyter-widgets/base",
      "model_module_version": "1.2.0",
      "model_name": "LayoutModel",
      "state": {
       "grid_template_areas": "\"header header header\"\n\"left-sidebar center center\"\n\"footer footer footer\"",
       "grid_template_columns": "1fr 2fr 1fr",
       "grid_template_rows": "1fr 3fr 1fr"
      }
     },
     "71ecb38490114e63bcc65b127ef47e7f": {
      "model_module": "@jupyter-widgets/controls",
      "model_module_version": "1.5.0",
      "model_name": "ButtonStyleModel",
      "state": {}
     },
     "71f1c7bf0deb445bb2ec3629653bb3b2": {
      "buffers": [
       {
        "data": "iVBORw0KGgoAAAANSUhEUgAAATQAAAE0CAIAAAAt41jIAAAEyUlEQVR4nO3d0W6iUBRAUZ30/3+ZeZjEsYqAArJb13pqGyU3JjsHLXJPJwAAANjH+fqXYRiOWgdwOp3O5/9J/jlwHcAEcUKUOCFKnBAlTogSJ0SJE6LECVHihChxQpQ4IUqcECVOiBInRIkTosQJUeKEKHFClDghSpwQJU6IEidEiROixAlR4oQocUKUOCFKnBAlTogSJ0SJE6LECVHihChxQtTX0Qv4Pa43DGdbwzAcvYQDmJzbUOauPvPlFSdEOa3d2GeegO3nM2fmPyYnRIkTosQJUeKEKHFClDghSpwQJU6IEidEiROixAlR4oQocUKUOCFKnBAlTogSJ0S5E8Iq99/Tv/zFLRFYSZyvWHLvDJWykjifc5PlRHiXR/77QaI8S5xLLc/y+gES5WXinPdslvcPligv8GntjOsyh2F4raubJ37y7R5ZTpxTbspceTR98hRxPrRtmffH0SfTxDlv27eI3nCykDjH7fpfyssxDU8miHPKflPO/GSWOEe8c6AZnjwizof2Hm6GJ9PEeev9o8zwZJQ4x71nrBmeTBAnRInzm/df+3pz8S1ciBOixAlR4oQocUKUOCFKnBAlTogSJ0SJ85v3XxLgll88Ik6IEue49wxPV+0xQZy33n+G6ZyWUeJ8aO+xZmwyTZwj3v+tFLgnzin7DTdjk1niHLfr3SvtDsgS4py3bZ9mJguJ86E9tk7YY4sHfitxTtm2T2XyFHHOuOnztURvnqhMlrB57rw1G+Cu2XiXDyfOpZ5NVJasJM7njCa65CnwLHG+Ysl/QTXJSuJc5b5STbIVn9ZClDghSpwQJU6IEidEiROixAlR4oQocUKUOCFKnBAlTogSJ0SJE6LECVHihChxQpQ4IUqcECVOiBInRIkTosQJUeKEKHFClDghSpwQJU6IEidEiROixAlR4oQocUKUOCFKnBAlTogSJ0SJE6LECVHihChxQpQ4IUqcECVOiBInRIkTosQJUeKEKHFClDghSpwQJU6IEidEiROixAlR4oQocUKUOCFKnBD1dfQCfolhGI5eAr+NyQlR4oQocUKUOCFKnBAlTogSJ0SJE6LECVHihChxQpQ4IUqcECVOiBInRIkTosQJUeKEKHFClDghSpwQJU6IEidEiROixAlR4oQocUKUOCFKnBAlTogSJ0SJE6LECVHihChxQpQ4IUqcECVOiBInRIkTosQJUeKEKHFClDghSpwQJU6IEidEiROixAlR4oQocUKUOCFKnBAlTogSJ0SJE6LECVHihChxQpQ4IUqcECVOiBInRIkTosQJUeKEKHFClDghSpwQJU6IEidEiROixAlR4oQocUKUOCFKnBAlTogSJ0SJE6LECVHihChxQpQ4IUqcECVOiBInRIkTosQJUeKEKHFClDghSpwQJU6IEidEiROixAlR4oQocUKUOCFKnBAlTogSJ0SJE6LECVHihChxQpQ4IUqcECVOiBInRIkTosQJUeKEKHFClDghSpwQ9XX0Aph3Pp+PXsLx+i/CMAzbHtDkhChxQpTT2h9g8/MlfgSTE6LECVHihChxQpQ4IUqcECVOiBInRIkTosQJUeKEKHFClDghSpwQJU6IEidEiROixAlR4oQocUKUOAEAAAA+zF8yMLx8mh5EmQAAAABJRU5ErkJggg==",
        "encoding": "base64",
        "path": [
         "value"
        ]
       }
      ],
      "model_module": "@jupyter-widgets/controls",
      "model_module_version": "1.5.0",
      "model_name": "ImageModel",
      "state": {
       "layout": "IPY_MODEL_ab6649df09904ffabd4ff183fdcad6af"
      }
     },
     "72185f745f3b4bb2b303b6b8159e0798": {
      "model_module": "@jupyter-widgets/controls",
      "model_module_version": "1.5.0",
      "model_name": "ButtonModel",
      "state": {
       "button_style": "warning",
       "description": "V",
       "layout": "IPY_MODEL_28e0b8e37c434e308d6e78c26d6eea96",
       "style": "IPY_MODEL_309e4f5d37964708b09eb48ef39b7036",
       "tooltip": "Click to guess V."
      }
     },
     "725410f847f84a69840c13308fbc300a": {
      "model_module": "@jupyter-widgets/base",
      "model_module_version": "1.2.0",
      "model_name": "LayoutModel",
      "state": {
       "grid_area": "center"
      }
     },
     "726a7b8e89ef49c4bcd3cbe33f3c6a31": {
      "model_module": "@jupyter-widgets/controls",
      "model_module_version": "1.5.0",
      "model_name": "VBoxModel",
      "state": {
       "children": [
        "IPY_MODEL_50e7dcb6042f4538a0c852014d226298",
        "IPY_MODEL_b1333d1cb8b949059d1fc2fbc7aa310e",
        "IPY_MODEL_ce11ec9efdab4e0795bf31fc05a42188"
       ],
       "layout": "IPY_MODEL_63104da0ee5e450c967fccedb88d7aad"
      }
     },
     "727ebd7402a942178ce3554e2a60adcd": {
      "model_module": "@jupyter-widgets/controls",
      "model_module_version": "1.5.0",
      "model_name": "VBoxModel",
      "state": {
       "children": [
        "IPY_MODEL_1adb5b7c4d1b412b8a64f303fc6a6b95",
        "IPY_MODEL_0d29a9ce394f4e0980dbe58ca5407bab"
       ],
       "layout": "IPY_MODEL_4273eb846c994a58a8d777c06165aa09"
      }
     },
     "729a5b54f5b244c79bab38605be72a7b": {
      "buffers": [
       {
        "data": "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",
        "encoding": "base64",
        "path": [
         "value"
        ]
       }
      ],
      "model_module": "@jupyter-widgets/controls",
      "model_module_version": "1.5.0",
      "model_name": "ImageModel",
      "state": {
       "layout": "IPY_MODEL_a40520adf23d4bdbabe0fe3635d25b9a",
       "value": {}
      }
     },
     "72a102628f964e3f86173bf3f30ec1ef": {
      "model_module": "@jupyter-widgets/controls",
      "model_module_version": "1.5.0",
      "model_name": "HTMLModel",
      "state": {
       "layout": "IPY_MODEL_0a18bf8ee17e4db7a8218bfec45a4335",
       "style": "IPY_MODEL_5a043b444e284bdca32262fac12a96fa",
       "value": "<h4>Wins: 3</h4>"
      }
     },
     "72bb229879b840c5872a0b1262782f7e": {
      "model_module": "@jupyter-widgets/controls",
      "model_module_version": "1.5.0",
      "model_name": "ButtonModel",
      "state": {
       "button_style": "warning",
       "description": "X",
       "disabled": true,
       "layout": "IPY_MODEL_ca6ffab232b34060aa1e43dcd70db322",
       "style": "IPY_MODEL_7a992b83792d43988e42ef7cc6e525d6"
      }
     },
     "72c64029656f4b448b3852163e00ba88": {
      "model_module": "@jupyter-widgets/controls",
      "model_module_version": "1.5.0",
      "model_name": "DescriptionStyleModel",
      "state": {
       "description_width": ""
      }
     },
     "72e4cb52dd284800ba186602905a5ce1": {
      "model_module": "@jupyter-widgets/base",
      "model_module_version": "1.2.0",
      "model_name": "LayoutModel",
      "state": {
       "height": "25px",
       "width": "33px"
      }
     },
     "72ec3230cf5a490dac5ff41088fc30c9": {
      "model_module": "@jupyter-widgets/controls",
      "model_module_version": "1.5.0",
      "model_name": "DescriptionStyleModel",
      "state": {
       "description_width": ""
      }
     },
     "72f5505994374a22a4c21a50f863789c": {
      "model_module": "@jupyter-widgets/controls",
      "model_module_version": "1.5.0",
      "model_name": "ButtonStyleModel",
      "state": {}
     },
     "7307186a1a10441f90ae29ebb326a964": {
      "model_module": "@jupyter-widgets/controls",
      "model_module_version": "1.5.0",
      "model_name": "ButtonModel",
      "state": {
       "button_style": "warning",
       "description": "T",
       "disabled": true,
       "layout": "IPY_MODEL_a32a2cf1e7e743b6be3e3570844834cd",
       "style": "IPY_MODEL_bf0a9f6c8e464d019608780eaf63eb17"
      }
     },
     "730c4bdbaa4b4c1da98b6b66234296ae": {
      "model_module": "@jupyter-widgets/controls",
      "model_module_version": "1.5.0",
      "model_name": "HTMLModel",
      "state": {
       "layout": "IPY_MODEL_3ed61dcbd9c04f3aa4a065772c3faa82",
       "style": "IPY_MODEL_28666553b1df4bc487cdbf0f9e609edc",
       "value": "<h3>Player Result</h3>"
      }
     },
     "7319b9284ade4bf3b3b38718acf66dcd": {
      "model_module": "@jupyter-widgets/controls",
      "model_module_version": "1.5.0",
      "model_name": "ButtonModel",
      "state": {
       "button_style": "success",
       "description": "Play Again",
       "layout": "IPY_MODEL_93096af63b014f918cc514654784106f",
       "style": "IPY_MODEL_30235f0837014837b0e25dae500063f8"
      }
     },
     "73388aba492b4264b29485ac42bb01e5": {
      "model_module": "@jupyter-widgets/controls",
      "model_module_version": "1.5.0",
      "model_name": "ButtonModel",
      "state": {
       "button_style": "warning",
       "description": "F",
       "layout": "IPY_MODEL_86fb31787d8b4d8c943dab5e6d5c120f",
       "style": "IPY_MODEL_fb8660c5227541c7a5c80bab3ed74b50",
       "tooltip": "Click to guess F."
      }
     },
     "73406e26b15348ba8e6bcf4e0e318f09": {
      "model_module": "@jupyter-widgets/controls",
      "model_module_version": "1.5.0",
      "model_name": "VBoxModel",
      "state": {
       "children": [
        "IPY_MODEL_4425a82834944f05b110c3dbc69d2bec"
       ],
       "layout": "IPY_MODEL_1f5e32d8655b467091fa74c1042e1b50"
      }
     },
     "735222dfc0d0429eb948134cf5208c08": {
      "model_module": "@jupyter-widgets/controls",
      "model_module_version": "1.5.0",
      "model_name": "HTMLModel",
      "state": {
       "layout": "IPY_MODEL_b52e1eba31bc44ae9965875c796363fe",
       "style": "IPY_MODEL_178a2163d66e407aa01f93f51f81b6a6",
       "value": "<h1><font color=black>Secret Word:                          i v e _ _</h1>"
      }
     },
     "735d736cdc6c49a288a36045e085641f": {
      "model_module": "@jupyter-widgets/base",
      "model_module_version": "1.2.0",
      "model_name": "LayoutModel",
      "state": {
       "margin": "0px 0px 0px 100px"
      }
     },
     "7390de7b21ed476cb18c35404c5b627d": {
      "model_module": "@jupyter-widgets/controls",
      "model_module_version": "1.5.0",
      "model_name": "ButtonStyleModel",
      "state": {}
     },
     "73a204240eb849279e8d84ce82780d4a": {
      "model_module": "@jupyter-widgets/base",
      "model_module_version": "1.2.0",
      "model_name": "LayoutModel",
      "state": {
       "height": "25px",
       "width": "33px"
      }
     },
     "73a6a8e1c6354b9a8a25f6b6313d510d": {
      "model_module": "@jupyter-widgets/controls",
      "model_module_version": "1.5.0",
      "model_name": "HTMLModel",
      "state": {
       "layout": "IPY_MODEL_7554c165b9a14abc92ab3aed62ebd0f1",
       "style": "IPY_MODEL_013aeb9bae2b4dc98da80fb0856d81de",
       "value": "<h4>Games: 1</h4>"
      }
     },
     "73b2edc2c8644c4a9c0afd9630238102": {
      "model_module": "@jupyter-widgets/controls",
      "model_module_version": "1.5.0",
      "model_name": "HTMLModel",
      "state": {
       "layout": "IPY_MODEL_da35aa080897461980cd8287da35fe05",
       "style": "IPY_MODEL_5b07860591034e28a9b64b46c1ff4a88",
       "value": "<h2><font color='black'>Remaining Guesses:                          4</h2>"
      }
     },
     "73c2b8be158649eb8053a2366e14f128": {
      "model_module": "@jupyter-widgets/base",
      "model_module_version": "1.2.0",
      "model_name": "LayoutModel",
      "state": {
       "height": "25px",
       "width": "33px"
      }
     },
     "73d7d82ab5be41e5b0ad987d1a37f1de": {
      "model_module": "@jupyter-widgets/controls",
      "model_module_version": "1.5.0",
      "model_name": "ButtonModel",
      "state": {
       "button_style": "warning",
       "description": "B",
       "layout": "IPY_MODEL_cb4cda8517d2413b96c550dda03932f1",
       "style": "IPY_MODEL_c2f84c1a278b4e28802eb89bc9d65316",
       "tooltip": "Click to guess B."
      }
     },
     "73ff905fbd8442ee826803399debdc4f": {
      "model_module": "@jupyter-widgets/base",
      "model_module_version": "1.2.0",
      "model_name": "LayoutModel",
      "state": {
       "grid_area": "footer",
       "margin": "-60px 0px 0px 0px"
      }
     },
     "743878fd00b845ffa8d1ffb804045296": {
      "model_module": "@jupyter-widgets/controls",
      "model_module_version": "1.5.0",
      "model_name": "DescriptionStyleModel",
      "state": {
       "description_width": ""
      }
     },
     "7439df1d523046eba74c11402216c2eb": {
      "model_module": "@jupyter-widgets/base",
      "model_module_version": "1.2.0",
      "model_name": "LayoutModel",
      "state": {
       "height": "auto"
      }
     },
     "743aa70e74d74ff89291f2a1b5daebda": {
      "model_module": "@jupyter-widgets/controls",
      "model_module_version": "1.5.0",
      "model_name": "ButtonStyleModel",
      "state": {}
     },
     "744786ad3c134c4fad85432d809f565e": {
      "model_module": "@jupyter-widgets/controls",
      "model_module_version": "1.5.0",
      "model_name": "VBoxModel",
      "state": {
       "children": [
        "IPY_MODEL_26b0dbf1b97e494aa20c00fe41dfd40e",
        "IPY_MODEL_860dd3a589f84123887ef6564e265b5c",
        "IPY_MODEL_d9fbd2f9c69a4e9eb94cf2d20d79279b"
       ],
       "layout": "IPY_MODEL_d2b6e7daa84a488aadfd853d2c50238e"
      }
     },
     "745726f6fd2b4fcc967b873bf1661845": {
      "model_module": "@jupyter-widgets/base",
      "model_module_version": "1.2.0",
      "model_name": "LayoutModel",
      "state": {
       "height": "25px",
       "width": "33px"
      }
     },
     "745ae0dbb18e490d8793fdb153e6f5fe": {
      "model_module": "@jupyter-widgets/base",
      "model_module_version": "1.2.0",
      "model_name": "LayoutModel",
      "state": {}
     },
     "74777896642748778ebf2360ce8f7ae9": {
      "model_module": "@jupyter-widgets/controls",
      "model_module_version": "1.5.0",
      "model_name": "HTMLModel",
      "state": {
       "layout": "IPY_MODEL_f123154324be44d78152eec77f2cd04f",
       "style": "IPY_MODEL_e1430bf5be074ac0b2fcdbd5708eb3d8",
       "value": "<h3>Click on a letter below to guess the word.</h3>"
      }
     },
     "747baec7ee404e06b2cb494ebfffeab7": {
      "model_module": "@jupyter-widgets/controls",
      "model_module_version": "1.5.0",
      "model_name": "DescriptionStyleModel",
      "state": {
       "description_width": ""
      }
     },
     "74d9a97caabc49e3a45d76bc6dfdaec9": {
      "model_module": "@jupyter-widgets/controls",
      "model_module_version": "1.5.0",
      "model_name": "ButtonStyleModel",
      "state": {}
     },
     "74f205f6d2964cc49f04e4abeee80547": {
      "model_module": "@jupyter-widgets/controls",
      "model_module_version": "1.5.0",
      "model_name": "DescriptionStyleModel",
      "state": {
       "description_width": ""
      }
     },
     "7520ffaf18d34a4484e8fe7329e9728d": {
      "model_module": "@jupyter-widgets/controls",
      "model_module_version": "1.5.0",
      "model_name": "ButtonModel",
      "state": {
       "button_style": "warning",
       "description": "L",
       "disabled": true,
       "layout": "IPY_MODEL_b7073c039a1241b4abfe6b7f6bb58288",
       "style": "IPY_MODEL_8b909f72620f4c89b216036abdfb48a6"
      }
     },
     "75213edbc6a9472f8fd554a269a55887": {
      "buffers": [
       {
        "data": "iVBORw0KGgoAAAANSUhEUgAAATQAAAE0CAIAAAAt41jIAAAFhElEQVR4nO3d227iSBRAURj1//+y5wEpQ4MxxtedYa2ndASWFfXWqYqJfbkAAADAPq73/xiG4azzAC6Xy/X6X5L/nHgewARxQpQ4IUqcECVOiBInRIkTosQJUeKEKHFClDghSpwQJU6IEidEiROixAlR4oQocUKUOCFKnBAlTogSJ0SJE6LECVHihChxQpQ4IUqcECVOiBInRIkTosQJUeKEKHFC1J+zT+D/4/6B4WxrGIazT+EEJuc2lLmr7/zxihOiLGs39p0LsP1858y8MTkhSpwQJU6IEidEiROixAlR4oQocUKUOCFKnBAlTogSJ0SJE6LECVHihChxQpQ4IcqdEFZ5/jv9n++4JQIriXOJOffOUCkrifMzD1lOhPfzytsXEuVT4pxrfpb3L5Aoi4nzvU+zfH6xRFnAb2vfuC9zGIZlXT288Ztv98h84pzyUObKo+mTj4jzpW3LfD6OPpkmzve23SLacDKTOMftepXy55iGJxPEOWW/KWd+8pY4Rxw50AxPXhHnS3sPN8OTaeJ8dPwoMzwZJc5xx4w1w5MJ4oQocf7l+M++Pnz4Fn6IE6LECVHihChxQpQ4IUqcECVOiBInRInzL8d/JMAtv3hFnBAlznHHDE+f2mOCOB8dv8K0pmWUOF/ae6wZm0wT54jj/yoFnolzyn7DzdjkLXGO2/XulZ4OyBzifG/bPs1MZhLnS3s8OmGPRzzwfyXOKdv2qUw+Is43HvpclujDG5XJHB6e+96aB+CuefAuX06cc32aqCxZSZyfGU10zlvgU+JcYs5VUE2ykjhXea5Uk2zFb2shSpwQJU6IEidEiROixAlR4oQocUKUOCFKnBAlTogSJ0SJE6LECVHihChxQpQ4Ierr4vyNN1z/jefMet94m5Ln/+upe4tIkZtvjPPZiblKkVe+Ls7n6kbz2CnXmSmmJjln+bo4n+2XqxRZQ5wjFuf66pvTB4dR4pxlZq5z3ggziXOhh+rcVJrNfd11TvgtxAlR4oQocUKUOCFKnBAlTogSJ0SJE6LECVHihChxQpQ4IUqcECVOiBInRIkTosQJUeKEKHFClDghSpwQJU6IEidEiROixAlR4oQocUKUOCFKnBAlTogSJ0SJE6LEubGZj6OHt8QJUeLcxjAMP18bnmxCnLvQJ+uJczP3w/OiT1YT55Ye+oQ1xLkxm0+2Is596ZPFxLk9i1s2Ic5dWNyynjiPoE8WEOdeXFlhJXHuyOaTNcS5L5tPFhPnofTJfOLcncUty4jzCBa3LCDOE+iTOcR5EFdW+JQ4j2PzyUfEeSibT+YT55n0yQRxHs3ilpnEeQKLW+YQ5/n0yShxnsOVFd4S52lsPpkmzjPZfDJBnCH65J44T2ZxyyviPJ/FLaPEmaNPbsSZ4MoKz8RZYfPJA3GG2HxyT5xRBinibLk1qUwu4gxSJjfihChxQpQ4IUqcECVOiBInRIkTosQJUeKEKHFClDghSpwQJU6IEidEiROixAlR4oQocUKUOCFKnBAlTogSJ0SJE6LECVHihChxQpQ4IUqcECVOiBInRIkTosQJUeKEKHFClDghSpwQJU6IEidEiROixAlR4oQocUKUOCFKnBAlTogSJ0SJE6LECVHihChxQpQ4IUqcECVOiBInRIkTosQJUeKEKHFClDghSpwQJU6IEidEiROixAlR4oQocUKUOCFKnBAlTogSJ0SJE6LECVHihChxQpQ4IUqcECVOiBInRIkTosQJUeKEqD9nnwDvXa/Xs0/hfP0fwjAM2x7Q5IQocUKUZe0vsPl6iV/B5IQocUKUOCFKnBAlTogSJ0SJE6LECVHihChxQpQ4IUqcECVOiBInRIkTosQJUeKEKHFClDghSpwQJU4AAACAL/MvzgE3mokxXasAAAAASUVORK5CYII=",
        "encoding": "base64",
        "path": [
         "value"
        ]
       }
      ],
      "model_module": "@jupyter-widgets/controls",
      "model_module_version": "1.5.0",
      "model_name": "ImageModel",
      "state": {
       "layout": "IPY_MODEL_54fb343c188e43faaab24ec24c860d3d",
       "value": {}
      }
     },
     "7554c165b9a14abc92ab3aed62ebd0f1": {
      "model_module": "@jupyter-widgets/base",
      "model_module_version": "1.2.0",
      "model_name": "LayoutModel",
      "state": {
       "margin": "0px 0px 0px 100px"
      }
     },
     "75953786e79d461f9ab88f7afd7b0d4b": {
      "model_module": "@jupyter-widgets/base",
      "model_module_version": "1.2.0",
      "model_name": "LayoutModel",
      "state": {}
     },
     "7596e825e8724396a27454025d62d530": {
      "model_module": "@jupyter-widgets/base",
      "model_module_version": "1.2.0",
      "model_name": "LayoutModel",
      "state": {
       "margin": "0px 0px 0px 100px"
      }
     },
     "75d35234cc2943b4bc639449903b2099": {
      "model_module": "@jupyter-widgets/base",
      "model_module_version": "1.2.0",
      "model_name": "LayoutModel",
      "state": {
       "margin": "20px 0px 0px 20px"
      }
     },
     "75d78eb1b71247618de876704fe41051": {
      "model_module": "@jupyter-widgets/controls",
      "model_module_version": "1.5.0",
      "model_name": "HTMLModel",
      "state": {
       "layout": "IPY_MODEL_f4245a09d8894057a6be22f102e835bb",
       "style": "IPY_MODEL_bbd02a11059b465892bc7526fb98abcf",
       "value": "<h4>Games: 0</h4>"
      }
     },
     "75dcf638fbaa4aa3882892875ba39179": {
      "model_module": "@jupyter-widgets/base",
      "model_module_version": "1.2.0",
      "model_name": "LayoutModel",
      "state": {
       "grid_template_areas": "\"header header header\"\n\"left-sidebar center center\"\n\"footer footer footer\"",
       "grid_template_columns": "1fr 2fr 1fr",
       "grid_template_rows": "1fr 3fr 1fr"
      }
     },
     "75e6ff04073f418eaa3b6feed8fe1ded": {
      "buffers": [
       {
        "data": "iVBORw0KGgoAAAANSUhEUgAAATQAAAE0CAIAAAAt41jIAAAEyUlEQVR4nO3d0W6iUBRAUZ30/3+ZeZjEsYqAArJb13pqGyU3JjsHLXJPJwAAANjH+fqXYRiOWgdwOp3O5/9J/jlwHcAEcUKUOCFKnBAlTogSJ0SJE6LECVHihChxQpQ4IUqcECVOiBInRIkTosQJUeKEKHFClDghSpwQJU6IEidEiROixAlR4oQocUKUOCFKnBAlTogSJ0SJE6LECVHihChxQtTX0Qv4Pa43DGdbwzAcvYQDmJzbUOauPvPlFSdEOa3d2GeegO3nM2fmPyYnRIkTosQJUeKEKHFClDghSpwQJU6IEidEiROixAlR4oQocUKUOCFKnBAlTogSJ0S5E8Iq99/Tv/zFLRFYSZyvWHLvDJWykjifc5PlRHiXR/77QaI8S5xLLc/y+gES5WXinPdslvcPligv8GntjOsyh2F4raubJ37y7R5ZTpxTbspceTR98hRxPrRtmffH0SfTxDlv27eI3nCykDjH7fpfyssxDU8miHPKflPO/GSWOEe8c6AZnjwizof2Hm6GJ9PEeev9o8zwZJQ4x71nrBmeTBAnRInzm/df+3pz8S1ciBOixAlR4oQocUKUOCFKnBAlTogSJ0SJ85v3XxLgll88Ik6IEue49wxPV+0xQZy33n+G6ZyWUeJ8aO+xZmwyTZwj3v+tFLgnzin7DTdjk1niHLfr3SvtDsgS4py3bZ9mJguJ86E9tk7YY4sHfitxTtm2T2XyFHHOuOnztURvnqhMlrB57rw1G+Cu2XiXDyfOpZ5NVJasJM7njCa65CnwLHG+Ysl/QTXJSuJc5b5STbIVn9ZClDghSpwQJU6IEidEiROixAlR4oQocUKUOCFKnBAlTogSJ0SJE6LECVHihChxQpQ4IUqcECVOiBInRIkTosQJUeKEKHFClDghSpwQJU6IEidEiROixAlR4oQocUKUOCFKnBAlTogSJ0SJE6LECVHihChxQpQ4IUqcECVOiBInRIkTosQJUeKEKHFClDghSpwQJU6IEidEiROixAlR4oQocUKUOCFKnBD1dfQCfolhGI5eAr+NyQlR4oQocUKUOCFKnBAlTogSJ0SJE6LECVHihChxQpQ4IUqcECVOiBInRIkTosQJUeKEKHFClDghSpwQJU6IEidEiROixAlR4oQocUKUOCFKnBAlTogSJ0SJE6LECVHihChxQpQ4IUqcECVOiBInRIkTosQJUeKEKHFClDghSpwQJU6IEidEiROixAlR4oQocUKUOCFKnBAlTogSJ0SJE6LECVHihChxQpQ4IUqcECVOiBInRIkTosQJUeKEKHFClDghSpwQJU6IEidEiROixAlR4oQocUKUOCFKnBAlTogSJ0SJE6LECVHihChxQpQ4IUqcECVOiBInRIkTosQJUeKEKHFClDghSpwQJU6IEidEiROixAlR4oQocUKUOCFKnBAlTogSJ0SJE6LECVHihChxQpQ4IUqcECVOiBInRIkTosQJUeKEKHFClDghSpwQ9XX0Aph3Pp+PXsLx+i/CMAzbHtDkhChxQpTT2h9g8/MlfgSTE6LECVHihChxQpQ4IUqcECVOiBInRIkTosQJUeKEKHFClDghSpwQJU6IEidEiROixAlR4oQocUKUOAEAAAA+zF8yMLx8mh5EmQAAAABJRU5ErkJggg==",
        "encoding": "base64",
        "path": [
         "value"
        ]
       }
      ],
      "model_module": "@jupyter-widgets/controls",
      "model_module_version": "1.5.0",
      "model_name": "ImageModel",
      "state": {
       "layout": "IPY_MODEL_8da1fef4a79c48429dd307c90decd23c"
      }
     },
     "75fdcc0e0d6b4d4d86d156df69c14ea5": {
      "model_module": "@jupyter-widgets/controls",
      "model_module_version": "1.5.0",
      "model_name": "DescriptionStyleModel",
      "state": {
       "description_width": ""
      }
     },
     "761d1989712144eeaefa2b932023973f": {
      "model_module": "@jupyter-widgets/base",
      "model_module_version": "1.2.0",
      "model_name": "LayoutModel",
      "state": {
       "height": "25px",
       "width": "33px"
      }
     },
     "7635366cac814e998ef4d861510474f7": {
      "model_module": "@jupyter-widgets/base",
      "model_module_version": "1.2.0",
      "model_name": "LayoutModel",
      "state": {
       "margin": "0px 0px 0px 100px"
      }
     },
     "7651f2a31d684b0db06a478130725de6": {
      "model_module": "@jupyter-widgets/base",
      "model_module_version": "1.2.0",
      "model_name": "LayoutModel",
      "state": {}
     },
     "766271bf7ad8474fb2927cd7740f155b": {
      "model_module": "@jupyter-widgets/controls",
      "model_module_version": "1.5.0",
      "model_name": "ButtonModel",
      "state": {
       "button_style": "warning",
       "description": "D",
       "layout": "IPY_MODEL_fa138db73a0c4f8eb28ddc7866ec089b",
       "style": "IPY_MODEL_0865976918754074abb72816047b26a2",
       "tooltip": "Click to guess D."
      }
     },
     "76a19f7a114a4a11877db367845c87c6": {
      "model_module": "@jupyter-widgets/base",
      "model_module_version": "1.2.0",
      "model_name": "LayoutModel",
      "state": {
       "margin": "0px 0px 0px 100px"
      }
     },
     "76bff820a4fb4f7a989438ce0089608c": {
      "model_module": "@jupyter-widgets/controls",
      "model_module_version": "1.5.0",
      "model_name": "HTMLModel",
      "state": {
       "layout": "IPY_MODEL_e452873a8e9f45aa9f33b39c493de3b0",
       "style": "IPY_MODEL_12428018ee40426b9919a6e71612a1f4",
       "value": "<h4>Wins: 0</h4>"
      }
     },
     "76d6d51c590e48bc82520cc6f65a4587": {
      "model_module": "@jupyter-widgets/base",
      "model_module_version": "1.2.0",
      "model_name": "LayoutModel",
      "state": {
       "grid_template_areas": "\"header header header\"\n\"left-sidebar center center\"\n\"footer footer footer\"",
       "grid_template_columns": "1fr 2fr 1fr",
       "grid_template_rows": "1fr 3fr 1fr"
      }
     },
     "76fbfdab0eb1486981a4fcf30f4cfe6e": {
      "model_module": "@jupyter-widgets/base",
      "model_module_version": "1.2.0",
      "model_name": "LayoutModel",
      "state": {
       "grid_area": "header"
      }
     },
     "77178703b22e44f0b1e6f4907dd62a96": {
      "model_module": "@jupyter-widgets/controls",
      "model_module_version": "1.5.0",
      "model_name": "ButtonModel",
      "state": {
       "button_style": "warning",
       "description": "W",
       "layout": "IPY_MODEL_bc992d3489d34e3fa026143654c9e5aa",
       "style": "IPY_MODEL_e738722f44a94eef9e48439e22d8f67c",
       "tooltip": "Click to guess W."
      }
     },
     "7717d988228a446ca16a3eb32ec48eeb": {
      "model_module": "@jupyter-widgets/base",
      "model_module_version": "1.2.0",
      "model_name": "LayoutModel",
      "state": {
       "margin": "0px 0px 0px 100px"
      }
     },
     "77189773f491497c962f22ec605e033f": {
      "model_module": "@jupyter-widgets/controls",
      "model_module_version": "1.5.0",
      "model_name": "DescriptionStyleModel",
      "state": {
       "description_width": ""
      }
     },
     "7718cd31a6d74037a0825d6345450716": {
      "model_module": "@jupyter-widgets/controls",
      "model_module_version": "1.5.0",
      "model_name": "DescriptionStyleModel",
      "state": {
       "description_width": ""
      }
     },
     "77332c55e8174281936ac99fa0bb7398": {
      "model_module": "@jupyter-widgets/controls",
      "model_module_version": "1.5.0",
      "model_name": "DescriptionStyleModel",
      "state": {
       "description_width": ""
      }
     },
     "7745cee21496436e999e86a774c8b2d5": {
      "model_module": "@jupyter-widgets/controls",
      "model_module_version": "1.5.0",
      "model_name": "ButtonModel",
      "state": {
       "button_style": "warning",
       "description": "Q",
       "layout": "IPY_MODEL_834884b6db0e44d1952a46124e49c920",
       "style": "IPY_MODEL_a84dc4f80a97400bb8a0f66b91f03bd1",
       "tooltip": "Click to guess Q."
      }
     },
     "774a4a32c2ed45c3b0731a15cf018ba8": {
      "model_module": "@jupyter-widgets/controls",
      "model_module_version": "1.5.0",
      "model_name": "ButtonStyleModel",
      "state": {}
     },
     "7752cec0564c4ce3ba95d4130ee7dc67": {
      "model_module": "@jupyter-widgets/controls",
      "model_module_version": "1.5.0",
      "model_name": "DescriptionStyleModel",
      "state": {
       "description_width": ""
      }
     },
     "7773b9e04b0d4515b1ec7904f5a534d0": {
      "model_module": "@jupyter-widgets/base",
      "model_module_version": "1.2.0",
      "model_name": "LayoutModel",
      "state": {
       "height": "25px",
       "width": "33px"
      }
     },
     "777e92cfa3b447eaa76250bad4a44db1": {
      "model_module": "@jupyter-widgets/base",
      "model_module_version": "1.2.0",
      "model_name": "LayoutModel",
      "state": {
       "grid_area": "footer",
       "margin": "-60px 0px 0px 0px"
      }
     },
     "7780c2bb4e224f59ba051667345c5457": {
      "model_module": "@jupyter-widgets/controls",
      "model_module_version": "1.5.0",
      "model_name": "HTMLModel",
      "state": {
       "layout": "IPY_MODEL_c951cb1c33a946d7a17b8202a7737647",
       "style": "IPY_MODEL_c5c7db18542f4ef39059320ada86fb5d",
       "value": "<h3>Player Result</h3>"
      }
     },
     "77a6a70a51ef4e53acd1784dcb224753": {
      "model_module": "@jupyter-widgets/controls",
      "model_module_version": "1.5.0",
      "model_name": "ButtonModel",
      "state": {
       "button_style": "warning",
       "description": "M",
       "disabled": true,
       "layout": "IPY_MODEL_7993c778662a41b295b2c5bd48204725",
       "style": "IPY_MODEL_63f568a148cb44c999c8aa689791ef8e"
      }
     },
     "77a980f23ffd4bb685a38d2b5908bf17": {
      "buffers": [
       {
        "data": "iVBORw0KGgoAAAANSUhEUgAAATQAAAE0CAIAAAAt41jIAAAEyUlEQVR4nO3d0W6iUBRAUZ30/3+ZeZjEsYqAArJb13pqGyU3JjsHLXJPJwAAANjH+fqXYRiOWgdwOp3O5/9J/jlwHcAEcUKUOCFKnBAlTogSJ0SJE6LECVHihChxQpQ4IUqcECVOiBInRIkTosQJUeKEKHFClDghSpwQJU6IEidEiROixAlR4oQocUKUOCFKnBAlTogSJ0SJE6LECVHihChxQtTX0Qv4Pa43DGdbwzAcvYQDmJzbUOauPvPlFSdEOa3d2GeegO3nM2fmPyYnRIkTosQJUeKEKHFClDghSpwQJU6IEidEiROixAlR4oQocUKUOCFKnBAlTogSJ0S5E8Iq99/Tv/zFLRFYSZyvWHLvDJWykjifc5PlRHiXR/77QaI8S5xLLc/y+gES5WXinPdslvcPligv8GntjOsyh2F4raubJ37y7R5ZTpxTbspceTR98hRxPrRtmffH0SfTxDlv27eI3nCykDjH7fpfyssxDU8miHPKflPO/GSWOEe8c6AZnjwizof2Hm6GJ9PEeev9o8zwZJQ4x71nrBmeTBAnRInzm/df+3pz8S1ciBOixAlR4oQocUKUOCFKnBAlTogSJ0SJ85v3XxLgll88Ik6IEue49wxPV+0xQZy33n+G6ZyWUeJ8aO+xZmwyTZwj3v+tFLgnzin7DTdjk1niHLfr3SvtDsgS4py3bZ9mJguJ86E9tk7YY4sHfitxTtm2T2XyFHHOuOnztURvnqhMlrB57rw1G+Cu2XiXDyfOpZ5NVJasJM7njCa65CnwLHG+Ysl/QTXJSuJc5b5STbIVn9ZClDghSpwQJU6IEidEiROixAlR4oQocUKUOCFKnBAlTogSJ0SJE6LECVHihChxQpQ4IUqcECVOiBInRIkTosQJUeKEKHFClDghSpwQJU6IEidEiROixAlR4oQocUKUOCFKnBAlTogSJ0SJE6LECVHihChxQpQ4IUqcECVOiBInRIkTosQJUeKEKHFClDghSpwQJU6IEidEiROixAlR4oQocUKUOCFKnBD1dfQCfolhGI5eAr+NyQlR4oQocUKUOCFKnBAlTogSJ0SJE6LECVHihChxQpQ4IUqcECVOiBInRIkTosQJUeKEKHFClDghSpwQJU6IEidEiROixAlR4oQocUKUOCFKnBAlTogSJ0SJE6LECVHihChxQpQ4IUqcECVOiBInRIkTosQJUeKEKHFClDghSpwQJU6IEidEiROixAlR4oQocUKUOCFKnBAlTogSJ0SJE6LECVHihChxQpQ4IUqcECVOiBInRIkTosQJUeKEKHFClDghSpwQJU6IEidEiROixAlR4oQocUKUOCFKnBAlTogSJ0SJE6LECVHihChxQpQ4IUqcECVOiBInRIkTosQJUeKEKHFClDghSpwQJU6IEidEiROixAlR4oQocUKUOCFKnBAlTogSJ0SJE6LECVHihChxQpQ4IUqcECVOiBInRIkTosQJUeKEKHFClDghSpwQ9XX0Aph3Pp+PXsLx+i/CMAzbHtDkhChxQpTT2h9g8/MlfgSTE6LECVHihChxQpQ4IUqcECVOiBInRIkTosQJUeKEKHFClDghSpwQJU6IEidEiROixAlR4oQocUKUOAEAAAA+zF8yMLx8mh5EmQAAAABJRU5ErkJggg==",
        "encoding": "base64",
        "path": [
         "value"
        ]
       }
      ],
      "model_module": "@jupyter-widgets/controls",
      "model_module_version": "1.5.0",
      "model_name": "ImageModel",
      "state": {
       "layout": "IPY_MODEL_a757504048b3478db9ca0ab6425e67bf"
      }
     },
     "77c0739582b64b86bb9fe572d8b6fe7f": {
      "model_module": "@jupyter-widgets/controls",
      "model_module_version": "1.5.0",
      "model_name": "VBoxModel",
      "state": {
       "children": [
        "IPY_MODEL_df3f42628170418ab435a431c911edbf",
        "IPY_MODEL_46ea6f558aef48fca86734fcd9faa4ea",
        "IPY_MODEL_85171f33d419447184f0f29c075158bf"
       ],
       "layout": "IPY_MODEL_4c903fe8ba6c4373b9f47caaea91751b"
      }
     },
     "77eb34fd409a4069bf78c82e7ac6b291": {
      "model_module": "@jupyter-widgets/controls",
      "model_module_version": "1.5.0",
      "model_name": "ButtonStyleModel",
      "state": {}
     },
     "77f7de16d6964cd9a2fac45ab839bf5a": {
      "model_module": "@jupyter-widgets/base",
      "model_module_version": "1.2.0",
      "model_name": "LayoutModel",
      "state": {
       "margin": "0px 0px 0px 70px"
      }
     },
     "77faaee882094a87a14ca1b12e5828a9": {
      "model_module": "@jupyter-widgets/base",
      "model_module_version": "1.2.0",
      "model_name": "LayoutModel",
      "state": {
       "margin": "0px 0px 0px 100px"
      }
     },
     "78197440894241baaacd733ff52349e0": {
      "model_module": "@jupyter-widgets/base",
      "model_module_version": "1.2.0",
      "model_name": "LayoutModel",
      "state": {
       "margin": "0px 0px 0px 100px"
      }
     },
     "781f5dffb324426eb79ce9881d1fd078": {
      "model_module": "@jupyter-widgets/controls",
      "model_module_version": "1.5.0",
      "model_name": "ButtonStyleModel",
      "state": {}
     },
     "7851cd03857a4363a5e7c65b77eaf4e8": {
      "model_module": "@jupyter-widgets/controls",
      "model_module_version": "1.5.0",
      "model_name": "DescriptionStyleModel",
      "state": {
       "description_width": ""
      }
     },
     "786b214b0d474139ae52633a5b932275": {
      "model_module": "@jupyter-widgets/controls",
      "model_module_version": "1.5.0",
      "model_name": "VBoxModel",
      "state": {
       "children": [
        "IPY_MODEL_1a3e3e5630a541f89df3b76910330601",
        "IPY_MODEL_faf6876d8f104b539230eba5ef228b37",
        "IPY_MODEL_099e3ac9f99940e2b744fce435a07e00"
       ],
       "layout": "IPY_MODEL_e65ca700898f4264ba36396c4d4144e1"
      }
     },
     "7892b001f7f3406f97df203f8c9371e2": {
      "model_module": "@jupyter-widgets/controls",
      "model_module_version": "1.5.0",
      "model_name": "DescriptionStyleModel",
      "state": {
       "description_width": ""
      }
     },
     "78bd8308a9a64f0fa9c788916a60c7fa": {
      "model_module": "@jupyter-widgets/controls",
      "model_module_version": "1.5.0",
      "model_name": "HTMLModel",
      "state": {
       "layout": "IPY_MODEL_563a319c1f3d4af3a4dabc57f94b0757",
       "style": "IPY_MODEL_45a0d3ebb5694467a9211d32486d102d",
       "value": "<h4>Wins: 3</h4>"
      }
     },
     "78c422f4db9a49eba1e3f002879c670f": {
      "model_module": "@jupyter-widgets/controls",
      "model_module_version": "1.5.0",
      "model_name": "DescriptionStyleModel",
      "state": {
       "description_width": ""
      }
     },
     "78fc498ac2694740998e45371b38762e": {
      "model_module": "@jupyter-widgets/base",
      "model_module_version": "1.2.0",
      "model_name": "LayoutModel",
      "state": {}
     },
     "790039bfbd0f437f9725339e1baab5c9": {
      "model_module": "@jupyter-widgets/controls",
      "model_module_version": "1.5.0",
      "model_name": "ButtonModel",
      "state": {
       "button_style": "warning",
       "description": "B",
       "layout": "IPY_MODEL_c5dd58e06ebb465898ee7758dad76004",
       "style": "IPY_MODEL_a6c875e7ccf249c9ab42c01cba27f135",
       "tooltip": "Click to guess B."
      }
     },
     "7903ba5d947a48a8bad2e5c575adfd3e": {
      "model_module": "@jupyter-widgets/base",
      "model_module_version": "1.2.0",
      "model_name": "LayoutModel",
      "state": {
       "height": "25px",
       "width": "33px"
      }
     },
     "792c64cd895144f1a08fe46853d39318": {
      "model_module": "@jupyter-widgets/controls",
      "model_module_version": "1.5.0",
      "model_name": "VBoxModel",
      "state": {
       "children": [
        "IPY_MODEL_b47e1e32c4d146408aaf2318e29baddc",
        "IPY_MODEL_28fcfde533414792baf466025112374e"
       ],
       "layout": "IPY_MODEL_78fc498ac2694740998e45371b38762e"
      }
     },
     "7930dbf9698940bab04d94e53cab3eb5": {
      "model_module": "@jupyter-widgets/controls",
      "model_module_version": "1.5.0",
      "model_name": "ButtonStyleModel",
      "state": {}
     },
     "7953c1ab6ab742c19cf1739a28c07a58": {
      "model_module": "@jupyter-widgets/controls",
      "model_module_version": "1.5.0",
      "model_name": "ButtonStyleModel",
      "state": {}
     },
     "796e13e5bab74b20b3ae85b33b10332e": {
      "model_module": "@jupyter-widgets/controls",
      "model_module_version": "1.5.0",
      "model_name": "DescriptionStyleModel",
      "state": {
       "description_width": ""
      }
     },
     "7974249c48dd42b5bdaad6f0791dd05e": {
      "model_module": "@jupyter-widgets/controls",
      "model_module_version": "1.5.0",
      "model_name": "DescriptionStyleModel",
      "state": {
       "description_width": ""
      }
     },
     "79749e2eb49a4343bbf9bb9648ddffba": {
      "model_module": "@jupyter-widgets/base",
      "model_module_version": "1.2.0",
      "model_name": "LayoutModel",
      "state": {}
     },
     "797526020d36413180e79b3fa83d52cf": {
      "model_module": "@jupyter-widgets/controls",
      "model_module_version": "1.5.0",
      "model_name": "GridBoxModel",
      "state": {
       "children": [
        "IPY_MODEL_08db30f88f974a8791aafe298d63eaab",
        "IPY_MODEL_e82acc52395a433082b69e12df127def",
        "IPY_MODEL_a172ca711ec34073af8137c84a2f8aae",
        "IPY_MODEL_307df4afd9ce4e77a40582e80536b784"
       ],
       "layout": "IPY_MODEL_d8ffaabf7b944d0e91df6701454be757"
      }
     },
     "797866389a07432d884d1149c95931df": {
      "model_module": "@jupyter-widgets/controls",
      "model_module_version": "1.5.0",
      "model_name": "ButtonStyleModel",
      "state": {}
     },
     "7985f677842547a1a59a3edf4be1ff12": {
      "buffers": [
       {
        "data": "iVBORw0KGgoAAAANSUhEUgAAATQAAAE0CAIAAAAt41jIAAAE5ElEQVR4nO3d3U7iUBhAUZj4/q/cuTBxFEpb6N92WOtKDTQNyc5XpJxzuQAAAMA+rt9/GYbhrPMALpfL9fovyT8nngcwQZwQJU6IEidEiROixAlR4oQocUKUOCFKnBAlTogSJ0SJE6LECVHihChxQpQ4IUqcECVOiBInRIkTosQJUeKEKHFClDghSpwQJU6IEidEiROixAlR4oQocUKUOCFKnBD1cfYJ/D++bxjOtoZhOPsUTmBybkOZu3rPl1ecEOWydmPveQG2n/ecmZ9MTogSJ0SJE6LECVHihChxQpQ4IUqcECVOiBInRIkTosQJUeKEKHFClDghSpwQJU6IshLCKvff0//6iyURWEmcr1iydoZKWUmcz7nJciK8r0d+/iBRniXOpZZn+f0BEuVl4pz3bJb3D5YoL/Df2hnfyxyG4bWubp74zss9spw4p9yUufJo+uQp4nxo2zLvj6NPpolz3rZvEb3hZCFxjtv1U8qvYxqeTBDnlP2mnPnJLHGOOHKgGZ48Is6H9h5uhifTxHnr+FFmeDJKnOOOGWuGJxPECVHi/OH4e19vbr6FL+KEKHFClDghSpwQJU6IEidEiROixAlR4vzh+FsCLPnFI+KEKHGOO2Z4umuPCeK8dfwVpmtaRonzob3HmrHJNHGOOP5bKXBPnFP2G27GJrPEOW7X1SvtDsgS4py3bZ9mJguJ86E9tk7YY4sH/lfinLJtn8rkKeKccdPna4nePFGZLGHz3HlrNsBds/Eub06cSz2bqCxZSZzPGU10yVPgWeJ8xZJPQTXJSuJc5b5STbIV/62FKHFClDghSpwQJU6IEidEiROixAlR4oQocUKUOCFKnBAlTogSJ0SJE6LECVHihChx/gIWiX9PlinJkSKfxHkyKfKIOA+1MEWrhHER566kyBri3NhskFJkIXHuS4q8TJwbUyNb8TknRIkTosQJUeKEKHFClDghSpwQJU6IEidEiROixAlR4oQocUKUOCFKnBAlTogSJ0SJE6LECVHihChxQpQ4IUqcECVOiBInRIkTosQJUeKEKHFClDghSpwQJU6IEidEiROibDu/DbvNszmTE6LECVHihChxQpQ4IUqcECVOiBInRIkTosQJUeKEKHFClDghSpwQJU6IEidEiROixAlR4oQocUKUOCFKnBAlTogSJ0SJE6LECVHihChxQpQ4IUqcECVOiBInRIkTosQJUeKEKHFClDghSpwQJU6IEidEiROixAlR4oQocUKUOCFKnBAlTogSJ0SJE6LECVHihChxQpQ4IUqcECVOiBInRIkTosQJUeKEKHFClDghSpwQJU6IEidEiROixAlR4oQocUKUOCFKnBAlTogSJ0SJE6LECVHihChxQpQ4IUqcECVOiBInRIkTosQJUeKEKHFClDghSpwQJU6IEidEiROixAlR4oQocUKUOCFKnBAlTogSJ0SJE6LECVHihChxQpQ4IUqcECVOiBInRIkTosQJUeKEKHFClDghSpwQJU6IEidEiROixAlR4oQocUKUOCHq4+wTYN71ej37FM7XfxGGYdj2gCYnRIkTolzW/gKbXy/xK5icECVOiBInRIkTosQJUeKEKHFClDghSpwQJU6IEidEiROixAlR4oQocUKUOCFKnBAlTogSJ0SJE6LECQAAAPBm/gJUu8uNgPvI+wAAAABJRU5ErkJggg==",
        "encoding": "base64",
        "path": [
         "value"
        ]
       }
      ],
      "model_module": "@jupyter-widgets/controls",
      "model_module_version": "1.5.0",
      "model_name": "ImageModel",
      "state": {
       "layout": "IPY_MODEL_a87438d2e97249428db80293d2826227",
       "value": {}
      }
     },
     "798928611a764f74b45552259b3ed3a0": {
      "model_module": "@jupyter-widgets/base",
      "model_module_version": "1.2.0",
      "model_name": "LayoutModel",
      "state": {
       "grid_area": "center"
      }
     },
     "7993c778662a41b295b2c5bd48204725": {
      "model_module": "@jupyter-widgets/base",
      "model_module_version": "1.2.0",
      "model_name": "LayoutModel",
      "state": {
       "height": "25px",
       "width": "33px"
      }
     },
     "799945955a3f45ebbfa6d799bc271691": {
      "model_module": "@jupyter-widgets/controls",
      "model_module_version": "1.5.0",
      "model_name": "ButtonModel",
      "state": {
       "button_style": "warning",
       "description": "V",
       "disabled": true,
       "layout": "IPY_MODEL_d2dfd60e60d04787b673232210d007b4",
       "style": "IPY_MODEL_6194b9c3da7b4156a8b35ec33c77e147"
      }
     },
     "79afaa7de00e41b58ae22b2109feb02c": {
      "model_module": "@jupyter-widgets/base",
      "model_module_version": "1.2.0",
      "model_name": "LayoutModel",
      "state": {
       "height": "25px",
       "width": "33px"
      }
     },
     "79b5d7f8b6fa481d818b6e81f6ec5a60": {
      "model_module": "@jupyter-widgets/controls",
      "model_module_version": "1.5.0",
      "model_name": "GridBoxModel",
      "state": {
       "children": [
        "IPY_MODEL_35f48912e4be422dbc36d2ddd20a16aa",
        "IPY_MODEL_a29ef97712c34a8ba4625578a40e257b",
        "IPY_MODEL_944a78901aec49068f5e76394f556633",
        "IPY_MODEL_2d0563af90084dfd83a10b25276065db"
       ],
       "layout": "IPY_MODEL_a1205c92fc3e47dc9d9649930a4400aa"
      }
     },
     "79d53442e12843368dd130206decd1da": {
      "model_module": "@jupyter-widgets/base",
      "model_module_version": "1.2.0",
      "model_name": "LayoutModel",
      "state": {
       "grid_area": "footer",
       "margin": "-60px 0px 0px 0px"
      }
     },
     "79dc5d20fb894533bc12d3f293233a93": {
      "model_module": "@jupyter-widgets/controls",
      "model_module_version": "1.5.0",
      "model_name": "DescriptionStyleModel",
      "state": {
       "description_width": ""
      }
     },
     "7a2406bb679e4aa3a67c253a94ec3844": {
      "model_module": "@jupyter-widgets/controls",
      "model_module_version": "1.5.0",
      "model_name": "ButtonStyleModel",
      "state": {}
     },
     "7a242441cbf441ffb9a227ad390aaeaf": {
      "model_module": "@jupyter-widgets/base",
      "model_module_version": "1.2.0",
      "model_name": "LayoutModel",
      "state": {
       "grid_template_areas": "\"header header header\"\n\"left-sidebar center center\"\n\"footer footer footer\"",
       "grid_template_columns": "1fr 2fr 1fr",
       "grid_template_rows": "1fr 3fr 1fr"
      }
     },
     "7a2f4e0867f8496daedda81dfabda8ec": {
      "model_module": "@jupyter-widgets/controls",
      "model_module_version": "1.5.0",
      "model_name": "VBoxModel",
      "state": {
       "children": [
        "IPY_MODEL_26b0dbf1b97e494aa20c00fe41dfd40e"
       ],
       "layout": "IPY_MODEL_bef01b0ea1f34d3daecf1a5fc518805e"
      }
     },
     "7a4f541d18894d79a2e1de10e3eb5e87": {
      "model_module": "@jupyter-widgets/base",
      "model_module_version": "1.2.0",
      "model_name": "LayoutModel",
      "state": {
       "height": "25px",
       "width": "33px"
      }
     },
     "7a5c1b367f0d485eb512e2961c687f4f": {
      "model_module": "@jupyter-widgets/base",
      "model_module_version": "1.2.0",
      "model_name": "LayoutModel",
      "state": {
       "height": "25px",
       "width": "33px"
      }
     },
     "7a7721f04f5641ee8de38dfddf195cd2": {
      "model_module": "@jupyter-widgets/base",
      "model_module_version": "1.2.0",
      "model_name": "LayoutModel",
      "state": {
       "height": "25px",
       "width": "33px"
      }
     },
     "7a788adedce245639635da42cabaa05a": {
      "model_module": "@jupyter-widgets/controls",
      "model_module_version": "1.5.0",
      "model_name": "GridBoxModel",
      "state": {
       "children": [
        "IPY_MODEL_dbe15fe6fa574c9cb7fc39c3b6e96432",
        "IPY_MODEL_59e4cbe57f2d48e4a5789ac2ac75afea",
        "IPY_MODEL_7bf3ee855fc645e591f61a1372ee9ea4",
        "IPY_MODEL_729a5b54f5b244c79bab38605be72a7b"
       ],
       "layout": "IPY_MODEL_138715ba3dca4064b91c6b1f0389f064"
      }
     },
     "7a8efe03330c4757afcc964432e98984": {
      "model_module": "@jupyter-widgets/base",
      "model_module_version": "1.2.0",
      "model_name": "LayoutModel",
      "state": {
       "height": "25px",
       "width": "33px"
      }
     },
     "7a992b83792d43988e42ef7cc6e525d6": {
      "model_module": "@jupyter-widgets/controls",
      "model_module_version": "1.5.0",
      "model_name": "ButtonStyleModel",
      "state": {}
     },
     "7ab9b744b42d4299b9f1d9f4cc01d381": {
      "model_module": "@jupyter-widgets/controls",
      "model_module_version": "1.5.0",
      "model_name": "ButtonModel",
      "state": {
       "button_style": "warning",
       "description": "C",
       "disabled": true,
       "layout": "IPY_MODEL_0db28ad1691c42d691c905a19414f9ff",
       "style": "IPY_MODEL_2f9cf4b228ff40acb68218e9619f7513"
      }
     },
     "7ad2e6eb4a9a44b4970f68a80ecbbbcd": {
      "model_module": "@jupyter-widgets/base",
      "model_module_version": "1.2.0",
      "model_name": "LayoutModel",
      "state": {
       "margin": "20px 0px 0px 20px"
      }
     },
     "7b004c5475094dfa8ca8c77cce31c05b": {
      "model_module": "@jupyter-widgets/controls",
      "model_module_version": "1.5.0",
      "model_name": "HTMLModel",
      "state": {
       "layout": "IPY_MODEL_02ae5b84e97a4c71b39a0aeb2075300c",
       "style": "IPY_MODEL_8ca8b5ee3e85464ab2034ba51c7300f4",
       "value": "<h3>Click on a letter below to guess the word.</h3>"
      }
     },
     "7b22b2093ed543d0b58f10da9d688072": {
      "model_module": "@jupyter-widgets/controls",
      "model_module_version": "1.5.0",
      "model_name": "VBoxModel",
      "state": {
       "children": [
        "IPY_MODEL_e09c17f0b86d4169898e47b1c35fdec2",
        "IPY_MODEL_d90eff92fd9d42c9a8c7dd7e99679c49"
       ],
       "layout": "IPY_MODEL_d2d39a80b6304496859741fda5276281"
      }
     },
     "7b3336c58de7440f9389bca11a393726": {
      "model_module": "@jupyter-widgets/base",
      "model_module_version": "1.2.0",
      "model_name": "LayoutModel",
      "state": {
       "height": "25px",
       "width": "33px"
      }
     },
     "7b49f4d8610843278e9fb93eb8dd052c": {
      "model_module": "@jupyter-widgets/base",
      "model_module_version": "1.2.0",
      "model_name": "LayoutModel",
      "state": {
       "margin": "0px 0px 0px 100px"
      }
     },
     "7b4f84a5a340450da0baeda35ee2ff4c": {
      "model_module": "@jupyter-widgets/base",
      "model_module_version": "1.2.0",
      "model_name": "LayoutModel",
      "state": {
       "height": "25px",
       "width": "33px"
      }
     },
     "7b6c8981c86a4f64b98e3c7163aa985a": {
      "model_module": "@jupyter-widgets/controls",
      "model_module_version": "1.5.0",
      "model_name": "DescriptionStyleModel",
      "state": {
       "description_width": ""
      }
     },
     "7b6ed63859f24684925275a4341e15d8": {
      "model_module": "@jupyter-widgets/base",
      "model_module_version": "1.2.0",
      "model_name": "LayoutModel",
      "state": {
       "grid_template_areas": "\"header header header\"\n\"left-sidebar center center\"\n\"footer footer footer\"",
       "grid_template_columns": "1fr 2fr 1fr",
       "grid_template_rows": "1fr 3fr 1fr"
      }
     },
     "7b9a57ecee53412f865297bb8da81a99": {
      "model_module": "@jupyter-widgets/base",
      "model_module_version": "1.2.0",
      "model_name": "LayoutModel",
      "state": {
       "height": "25px",
       "width": "33px"
      }
     },
     "7ba811feb3de4a1a8c9bbb55bdc6ffaf": {
      "model_module": "@jupyter-widgets/controls",
      "model_module_version": "1.5.0",
      "model_name": "ButtonModel",
      "state": {
       "button_style": "warning",
       "description": "W",
       "layout": "IPY_MODEL_463eb5c23f8f4b5dba0664fadda8942f",
       "style": "IPY_MODEL_51840f60f498406e82c929f8f685a1d6",
       "tooltip": "Click to guess W."
      }
     },
     "7bc97c75630b459daa2082446c75bbe0": {
      "model_module": "@jupyter-widgets/base",
      "model_module_version": "1.2.0",
      "model_name": "LayoutModel",
      "state": {
       "height": "25px",
       "width": "33px"
      }
     },
     "7bf3ee855fc645e591f61a1372ee9ea4": {
      "model_module": "@jupyter-widgets/controls",
      "model_module_version": "1.5.0",
      "model_name": "VBoxModel",
      "state": {
       "children": [
        "IPY_MODEL_26b0dbf1b97e494aa20c00fe41dfd40e",
        "IPY_MODEL_6feca57b69d04564a2dc633894138327",
        "IPY_MODEL_c71a9dc81eb94e77b66ae82ba6ac90d4"
       ],
       "layout": "IPY_MODEL_adceff30fc3649bebc1488783b239e53"
      }
     },
     "7c0f271e12ef49e78370547d41cb188a": {
      "model_module": "@jupyter-widgets/controls",
      "model_module_version": "1.5.0",
      "model_name": "DescriptionStyleModel",
      "state": {
       "description_width": ""
      }
     },
     "7c203bbdc385464eb8dc7b3fa0c8d739": {
      "model_module": "@jupyter-widgets/controls",
      "model_module_version": "1.5.0",
      "model_name": "HTMLModel",
      "state": {
       "layout": "IPY_MODEL_e28a848fc72c498f9fa5c7952d380b34",
       "style": "IPY_MODEL_b41db21c3a8c40de8366a0121f86f3d7",
       "value": "<h3>Click on a letter below to guess the word.</h3>"
      }
     },
     "7c2e44b8edc44b8abcb979c6e4f6683c": {
      "model_module": "@jupyter-widgets/controls",
      "model_module_version": "1.5.0",
      "model_name": "DescriptionStyleModel",
      "state": {
       "description_width": ""
      }
     },
     "7c4766fe199940b7bc7a80c5d3dd307f": {
      "model_module": "@jupyter-widgets/controls",
      "model_module_version": "1.5.0",
      "model_name": "VBoxModel",
      "state": {
       "children": [
        "IPY_MODEL_e5bca5c6f6b54416b942ca50002b73ef",
        "IPY_MODEL_25bb690cd93542a782625b03a15cbd99"
       ],
       "layout": "IPY_MODEL_16ea80557840486ab655d3dc302c3fcc"
      }
     },
     "7c8c0f0fcb8d4ceaa708fb731331caad": {
      "model_module": "@jupyter-widgets/controls",
      "model_module_version": "1.5.0",
      "model_name": "DescriptionStyleModel",
      "state": {
       "description_width": ""
      }
     },
     "7c9b1ac5e6294bd98d804963f78c658d": {
      "model_module": "@jupyter-widgets/base",
      "model_module_version": "1.2.0",
      "model_name": "LayoutModel",
      "state": {
       "grid_area": "left-sidebar"
      }
     },
     "7cf0627d7c1e4e96a7b0c26b6d6c9980": {
      "buffers": [
       {
        "data": "iVBORw0KGgoAAAANSUhEUgAAATQAAAE0CAIAAAAt41jIAAAD0UlEQVR4nO3dMW7DMBAAQTLw/7/MFCnsymkocG3NdGqEg4DFsaLGAAAAgGvM14e11qk5gDHGnM8kfw7OAbwhTogSJ0SJE6LECVHihChxQpQ4IUqcECVOiBInRIkTosQJUeKEKHFClDghSpwQJU6IEidEiROixAlR4oQocUKUOCFKnBAlTogSJ0SJE6LECVHihChxQpQ4IUqcECVOiHqcHuB7vP4wnL3WWqdHOMDm3EOZl7rn5xUnRDnWbnbPA9h17rkz/9icECVOiBInRIkTosQJUeKEKHFClDghSpwQJU6IEidEiROixAlR4oQocUKUOCFKnBAlTohyTckebidhO5sTosQJUeKEKHFClDghSpwQJU6IEidEiROixAlR4oQocUKUOCFKnBAlTogSJ0SJE6LECVHihChxQpQ4IUqcECVOiBInRIkTosQJUeKEKHFClDghSpwQJU6IEidEiROixAlR4oQocUKUOCFKnBAlTogSJ0SJE6LECVHihChxQpQ4IUqcECVOiBInRIkTosQJUeKEKHFClDghSpwQJU6IEidEiROixAlR4oQocUKUOCFKnBAlTogSJ0SJE6LECVHihChxQpQ4IUqcECVOiBInRIkTosQJUeKEKHFClDghSpwQJU6IEidEiROixAlR4oQocUKUOCFKnBAlTogSJ0SJE6LECVHihChxQpQ4IUqcECVOiBInRIkTosQJUeKEKHFClDghSpwQJU6IEidEiROixAlR4oQocUKUOCFKnBAlTogSJ0SJE6LECVHihChxQpQ4IUqcECVOiBInRIkTosQJUeKEKHFClDghSpwQJU6IEidEiROixAlR4oQocUKUOCFKnBAlTogSJ0SJE6LECVHihChxQpQ4IUqcECVOiBInRIkTosQJUeKEKHFClDghSpwQJU6IEidEiROixAlR4oQocUKUOCFKnBAlTogSJ0SJE6LECVHihChxQpQ4IUqcECVOiBInRIkTosQJUeKEKHFClDghSpwQJU6IEidEiROixAlR4oQocUKUOCFKnBAlTogSJ0SJE6LECVHihChxQpQ4IUqcECVOiBInRIkTosQJUeKEKHFClDghSpwQJU6IEidEiROixAlR4oQocUKUOCFKnBAlTogSJ0SJE6LECVHihChxQpQ4IUqcECVOiBInRIkToh6nB+B/c87TI5zX/whrrb0vtDkhSpwQ5Vj7Abafl/gINidEiROixAlR4oQocUKUOCFKnBAlTogSJ0SJE6LECVHihChxQpQ4IUqcECVOiBInRIkTosQJUeKEKHECAAAA3Mwv+9AUZSTGP0IAAAAASUVORK5CYII=",
        "encoding": "base64",
        "path": [
         "value"
        ]
       }
      ],
      "model_module": "@jupyter-widgets/controls",
      "model_module_version": "1.5.0",
      "model_name": "ImageModel",
      "state": {
       "layout": "IPY_MODEL_c1beb2b492ac4639b45b7b5591927d72"
      }
     },
     "7cf40a3a4d91419dbba7d6d335d0d104": {
      "model_module": "@jupyter-widgets/controls",
      "model_module_version": "1.5.0",
      "model_name": "DescriptionStyleModel",
      "state": {
       "description_width": ""
      }
     },
     "7cfebd771fdd433cb7a7b7bff7a16650": {
      "model_module": "@jupyter-widgets/controls",
      "model_module_version": "1.5.0",
      "model_name": "HTMLModel",
      "state": {
       "layout": "IPY_MODEL_109bb64ca468444c80b7db55318bbc30",
       "style": "IPY_MODEL_c097d204b315431991a7eb7eb36a4eec",
       "value": "<h2><font color='black'>Remaining Guesses:                          1</h2>"
      }
     },
     "7d1284a294204d79909fc0366b9169ab": {
      "model_module": "@jupyter-widgets/controls",
      "model_module_version": "1.5.0",
      "model_name": "HTMLModel",
      "state": {
       "layout": "IPY_MODEL_afd283b072c14029b1991ef5d5ab9192",
       "style": "IPY_MODEL_4fac9939bdaa41f496e61b6135097de0",
       "value": "<h1><font color=black>Secret Word:                          _ _ _ _</h1>"
      }
     },
     "7d50ae9159034f84ade8eb5963ba79ea": {
      "model_module": "@jupyter-widgets/controls",
      "model_module_version": "1.5.0",
      "model_name": "DescriptionStyleModel",
      "state": {
       "description_width": ""
      }
     },
     "7d5779a3f2004bcc86008d78797e66da": {
      "model_module": "@jupyter-widgets/controls",
      "model_module_version": "1.5.0",
      "model_name": "HTMLModel",
      "state": {
       "layout": "IPY_MODEL_7596e825e8724396a27454025d62d530",
       "style": "IPY_MODEL_b5c78ae072424d208c2360a3f798139c",
       "value": "<h4>Games: 2</h4>"
      }
     },
     "7d69e46d0b4b4f149ab0621bf0946847": {
      "model_module": "@jupyter-widgets/controls",
      "model_module_version": "1.5.0",
      "model_name": "DescriptionStyleModel",
      "state": {
       "description_width": ""
      }
     },
     "7da43099f1814224825feee7838eb93d": {
      "model_module": "@jupyter-widgets/controls",
      "model_module_version": "1.5.0",
      "model_name": "ButtonStyleModel",
      "state": {}
     },
     "7daac67002ab4dc6a26451f3b00679ef": {
      "model_module": "@jupyter-widgets/base",
      "model_module_version": "1.2.0",
      "model_name": "LayoutModel",
      "state": {
       "height": "25px",
       "width": "33px"
      }
     },
     "7dacda1be0224ac09d04657d29a9e669": {
      "model_module": "@jupyter-widgets/base",
      "model_module_version": "1.2.0",
      "model_name": "LayoutModel",
      "state": {
       "height": "25px",
       "width": "33px"
      }
     },
     "7dd4a29620844d0e9e45f86990b4ecf6": {
      "model_module": "@jupyter-widgets/controls",
      "model_module_version": "1.5.0",
      "model_name": "ButtonModel",
      "state": {
       "button_style": "warning",
       "description": "Q",
       "disabled": true,
       "layout": "IPY_MODEL_440fed453262446b87f26158a15ead43",
       "style": "IPY_MODEL_f5d2feaef1554c31bf43926ff9661084"
      }
     },
     "7dd68204cee245ff8f12056513d9f073": {
      "model_module": "@jupyter-widgets/controls",
      "model_module_version": "1.5.0",
      "model_name": "HTMLModel",
      "state": {
       "layout": "IPY_MODEL_61510cbdfc08401a8f7e7dc4b9331584",
       "style": "IPY_MODEL_c0c731dcce034cf2a6bfa55701b8b2be",
       "value": "<h3>Player Result</h3>"
      }
     },
     "7dd7b17e12f04a9ea501578d262d5de8": {
      "model_module": "@jupyter-widgets/controls",
      "model_module_version": "1.5.0",
      "model_name": "DescriptionStyleModel",
      "state": {
       "description_width": ""
      }
     },
     "7dead9c72779487fb8bb1e5f1d975bc1": {
      "model_module": "@jupyter-widgets/base",
      "model_module_version": "1.2.0",
      "model_name": "LayoutModel",
      "state": {
       "margin": "0px 0px 0px 70px"
      }
     },
     "7df0e7b796894f6b80e6ebda8840646f": {
      "model_module": "@jupyter-widgets/controls",
      "model_module_version": "1.5.0",
      "model_name": "DescriptionStyleModel",
      "state": {
       "description_width": ""
      }
     },
     "7e4133943584414a86120891cc03e1db": {
      "model_module": "@jupyter-widgets/controls",
      "model_module_version": "1.5.0",
      "model_name": "ButtonStyleModel",
      "state": {}
     },
     "7e6318fcf6e448bd930b4665a6a15512": {
      "model_module": "@jupyter-widgets/base",
      "model_module_version": "1.2.0",
      "model_name": "LayoutModel",
      "state": {
       "margin": "0px 0px 0px 70px"
      }
     },
     "7e8068850c074e68875b7571ad86532e": {
      "model_module": "@jupyter-widgets/controls",
      "model_module_version": "1.5.0",
      "model_name": "ButtonStyleModel",
      "state": {}
     },
     "7e84ee46c0e243e48afa54ff4e0e2a7e": {
      "model_module": "@jupyter-widgets/controls",
      "model_module_version": "1.5.0",
      "model_name": "HBoxModel",
      "state": {
       "children": [
        "IPY_MODEL_3b535f47530441d0a6655db3120da2ef",
        "IPY_MODEL_fde26869fc254407a92294a159b5697c"
       ],
       "layout": "IPY_MODEL_8267fdd11e9d4bf4ad435ae53fff0bff"
      }
     },
     "7e94f3cb05634f44b50e15730c992627": {
      "model_module": "@jupyter-widgets/base",
      "model_module_version": "1.2.0",
      "model_name": "LayoutModel",
      "state": {
       "height": "25px",
       "width": "33px"
      }
     },
     "7ead219c13d54962908af9331d594bd5": {
      "model_module": "@jupyter-widgets/base",
      "model_module_version": "1.2.0",
      "model_name": "LayoutModel",
      "state": {
       "grid_area": "header"
      }
     },
     "7ead23f0c1b147d5b9724c372138d42a": {
      "model_module": "@jupyter-widgets/controls",
      "model_module_version": "1.5.0",
      "model_name": "HBoxModel",
      "state": {
       "children": [
        "IPY_MODEL_ac88ce5947074bfd9f48a274301d6177",
        "IPY_MODEL_73d7d82ab5be41e5b0ad987d1a37f1de",
        "IPY_MODEL_a960f24446de4b37976eb85c9091da55",
        "IPY_MODEL_28712d900856420587301027b0c75ade",
        "IPY_MODEL_18c6b47f2709418f804c67c7f3360999",
        "IPY_MODEL_6b7a5ccbad1f48799bcfe548f1eb9f34",
        "IPY_MODEL_c525f800f8124c5e80fa274cc96c8e46",
        "IPY_MODEL_8cc2255138e34420be2231b5492c2b02",
        "IPY_MODEL_5d8235e90aa34b97bf6feb5b77f11a23",
        "IPY_MODEL_4c572229b144411cae5681da6c2204b0",
        "IPY_MODEL_236e8fc4c49a4f2a9eefb3b0544d01cc",
        "IPY_MODEL_e907cea13e65475998261ef65da8ab61",
        "IPY_MODEL_1ca7d46da99248aba949342aef239366",
        "IPY_MODEL_3b9891c8f993418d8f45ed30453b36a8",
        "IPY_MODEL_b291b233f65d4261b1101468af2527eb",
        "IPY_MODEL_05e9dc6d95464142849be3066acacb22",
        "IPY_MODEL_7745cee21496436e999e86a774c8b2d5",
        "IPY_MODEL_27f45b287ce1404a9396b59792b19fbf",
        "IPY_MODEL_2296047694284e34a7b0d01030109bf8",
        "IPY_MODEL_fe315a9a4eb2403cbcc00dd38c95674a",
        "IPY_MODEL_2b5eafee130146beb17c92a7270ae46f",
        "IPY_MODEL_ff095d05041d4b7abcb73cda84bf2dd9",
        "IPY_MODEL_3f124fd108194c6485056a62e403853f",
        "IPY_MODEL_8afb3b806f53484699474e01e53ee93f",
        "IPY_MODEL_47f86ad4ea434a79a13d6bf8278336ea",
        "IPY_MODEL_40467e663f59402f91e2ff76a50939c4"
       ],
       "layout": "IPY_MODEL_3faabfadd5df421d88669a57350ff237"
      }
     },
     "7ec3fb04603f47debb9a902d295ddbed": {
      "model_module": "@jupyter-widgets/base",
      "model_module_version": "1.2.0",
      "model_name": "LayoutModel",
      "state": {
       "grid_area": "center"
      }
     },
     "7ec60d5e878f4b10a427ca7f027743ed": {
      "model_module": "@jupyter-widgets/controls",
      "model_module_version": "1.5.0",
      "model_name": "DescriptionStyleModel",
      "state": {
       "description_width": ""
      }
     },
     "7ef651216ffb453198d1f5307e20ec8c": {
      "model_module": "@jupyter-widgets/controls",
      "model_module_version": "1.5.0",
      "model_name": "HTMLModel",
      "state": {
       "layout": "IPY_MODEL_2058250acb014e78832bc9545766a0b0",
       "style": "IPY_MODEL_000eab9efd814c83a96e5c138f603c88",
       "value": "<h1><font color=black>Secret Word:                          m o _ _ e</h1>"
      }
     },
     "7f0b2fb7f3074ac79a6664e81efa2ee4": {
      "model_module": "@jupyter-widgets/controls",
      "model_module_version": "1.5.0",
      "model_name": "ButtonModel",
      "state": {
       "button_style": "warning",
       "description": "G",
       "layout": "IPY_MODEL_8e16338fe68d4839badd0e78d8620095",
       "style": "IPY_MODEL_774a4a32c2ed45c3b0731a15cf018ba8",
       "tooltip": "Click to guess G."
      }
     },
     "7f100037da954354a6d12f6ef292ae80": {
      "model_module": "@jupyter-widgets/controls",
      "model_module_version": "1.5.0",
      "model_name": "GridBoxModel",
      "state": {
       "children": [
        "IPY_MODEL_2cb2da5a85354620960159a6d2cf8491",
        "IPY_MODEL_fe9632def0384d19b3c22cb040424f63",
        "IPY_MODEL_40682cda1d5c44c9bbc982a2d8c86d58",
        "IPY_MODEL_df8260322ea04185a25306eebab8a7f8"
       ],
       "layout": "IPY_MODEL_eb8a760cd0984feba4f61770c6dde261"
      }
     },
     "7f13d74e32a24f56803592ecbbf01750": {
      "model_module": "@jupyter-widgets/base",
      "model_module_version": "1.2.0",
      "model_name": "LayoutModel",
      "state": {
       "margin": "0px 0px 0px 100px"
      }
     },
     "7f54586190784d8e993e8ea2c64e598a": {
      "model_module": "@jupyter-widgets/controls",
      "model_module_version": "1.5.0",
      "model_name": "ButtonModel",
      "state": {
       "button_style": "warning",
       "description": "G",
       "layout": "IPY_MODEL_c3621dd19c384b8090973629a5240422",
       "style": "IPY_MODEL_cd6afb0f63f042339cb684c6c23ea4dc",
       "tooltip": "Click to guess G."
      }
     },
     "7f615ff5940e4e77bcf0f04128bba39c": {
      "model_module": "@jupyter-widgets/controls",
      "model_module_version": "1.5.0",
      "model_name": "ButtonModel",
      "state": {
       "button_style": "warning",
       "description": "Z",
       "disabled": true,
       "layout": "IPY_MODEL_30bc14d2bcbd4aeda805cf2488e739d9",
       "style": "IPY_MODEL_7a2406bb679e4aa3a67c253a94ec3844"
      }
     },
     "7f62958e5bf6477d987daed3b0e31acf": {
      "model_module": "@jupyter-widgets/controls",
      "model_module_version": "1.5.0",
      "model_name": "HTMLModel",
      "state": {
       "layout": "IPY_MODEL_4fc4d9654f814eddbe5ec36a14180362",
       "style": "IPY_MODEL_499d14f4d6af4563979fd0abfcc89b96",
       "value": "<h1><font color=green>Secret Word:                          iveco</h1>"
      }
     },
     "7f78a34e39524c01bd9aa12fe25c7ffd": {
      "model_module": "@jupyter-widgets/controls",
      "model_module_version": "1.5.0",
      "model_name": "HBoxModel",
      "state": {
       "children": [
        "IPY_MODEL_c51d10ae51364f54a29bf8a70fee780f",
        "IPY_MODEL_2d6e42cca5a445a0ae8be1601fa212d2"
       ],
       "layout": "IPY_MODEL_92b141e6ffb04f789b28d54f2838a827"
      }
     },
     "7f78d1bfe7af4257893c83027ef54e56": {
      "buffers": [
       {
        "data": "iVBORw0KGgoAAAANSUhEUgAAATQAAAE0CAIAAAAt41jIAAAEyUlEQVR4nO3d0W6iUBRAUZ30/3+ZeZjEsYqAArJb13pqGyU3JjsHLXJPJwAAANjH+fqXYRiOWgdwOp3O5/9J/jlwHcAEcUKUOCFKnBAlTogSJ0SJE6LECVHihChxQpQ4IUqcECVOiBInRIkTosQJUeKEKHFClDghSpwQJU6IEidEiROixAlR4oQocUKUOCFKnBAlTogSJ0SJE6LECVHihChxQtTX0Qv4Pa43DGdbwzAcvYQDmJzbUOauPvPlFSdEOa3d2GeegO3nM2fmPyYnRIkTosQJUeKEKHFClDghSpwQJU6IEidEiROixAlR4oQocUKUOCFKnBAlTogSJ0S5E8Iq99/Tv/zFLRFYSZyvWHLvDJWykjifc5PlRHiXR/77QaI8S5xLLc/y+gES5WXinPdslvcPligv8GntjOsyh2F4raubJ37y7R5ZTpxTbspceTR98hRxPrRtmffH0SfTxDlv27eI3nCykDjH7fpfyssxDU8miHPKflPO/GSWOEe8c6AZnjwizof2Hm6GJ9PEeev9o8zwZJQ4x71nrBmeTBAnRInzm/df+3pz8S1ciBOixAlR4oQocUKUOCFKnBAlTogSJ0SJ85v3XxLgll88Ik6IEue49wxPV+0xQZy33n+G6ZyWUeJ8aO+xZmwyTZwj3v+tFLgnzin7DTdjk1niHLfr3SvtDsgS4py3bZ9mJguJ86E9tk7YY4sHfitxTtm2T2XyFHHOuOnztURvnqhMlrB57rw1G+Cu2XiXDyfOpZ5NVJasJM7njCa65CnwLHG+Ysl/QTXJSuJc5b5STbIVn9ZClDghSpwQJU6IEidEiROixAlR4oQocUKUOCFKnBAlTogSJ0SJE6LECVHihChxQpQ4IUqcECVOiBInRIkTosQJUeKEKHFClDghSpwQJU6IEidEiROixAlR4oQocUKUOCFKnBAlTogSJ0SJE6LECVHihChxQpQ4IUqcECVOiBInRIkTosQJUeKEKHFClDghSpwQJU6IEidEiROixAlR4oQocUKUOCFKnBD1dfQCfolhGI5eAr+NyQlR4oQocUKUOCFKnBAlTogSJ0SJE6LECVHihChxQpQ4IUqcECVOiBInRIkTosQJUeKEKHFClDghSpwQJU6IEidEiROixAlR4oQocUKUOCFKnBAlTogSJ0SJE6LECVHihChxQpQ4IUqcECVOiBInRIkTosQJUeKEKHFClDghSpwQJU6IEidEiROixAlR4oQocUKUOCFKnBAlTogSJ0SJE6LECVHihChxQpQ4IUqcECVOiBInRIkTosQJUeKEKHFClDghSpwQJU6IEidEiROixAlR4oQocUKUOCFKnBAlTogSJ0SJE6LECVHihChxQpQ4IUqcECVOiBInRIkTosQJUeKEKHFClDghSpwQJU6IEidEiROixAlR4oQocUKUOCFKnBAlTogSJ0SJE6LECVHihChxQpQ4IUqcECVOiBInRIkTosQJUeKEKHFClDghSpwQ9XX0Aph3Pp+PXsLx+i/CMAzbHtDkhChxQpTT2h9g8/MlfgSTE6LECVHihChxQpQ4IUqcECVOiBInRIkTosQJUeKEKHFClDghSpwQJU6IEidEiROixAlR4oQocUKUOAEAAAA+zF8yMLx8mh5EmQAAAABJRU5ErkJggg==",
        "encoding": "base64",
        "path": [
         "value"
        ]
       }
      ],
      "model_module": "@jupyter-widgets/controls",
      "model_module_version": "1.5.0",
      "model_name": "ImageModel",
      "state": {
       "layout": "IPY_MODEL_f485d185da8245a68e52295ba53d2059"
      }
     },
     "7fa6447b193d4aa0b190ba7ef186b869": {
      "model_module": "@jupyter-widgets/controls",
      "model_module_version": "1.5.0",
      "model_name": "GridBoxModel",
      "state": {
       "children": [
        "IPY_MODEL_fd9735b92089484ea4c4aad9bba967a5",
        "IPY_MODEL_a5f397d949b84a6c92217dd271515f11",
        "IPY_MODEL_80dc516af4814e02b89108cd24482502",
        "IPY_MODEL_62cd5739869247698680f4093b2379fb"
       ],
       "layout": "IPY_MODEL_ff46063792ba40c5b5d4e6898ab57ff9"
      }
     },
     "7ff51006d45a4c9b82b1ba6ce12eb880": {
      "model_module": "@jupyter-widgets/base",
      "model_module_version": "1.2.0",
      "model_name": "LayoutModel",
      "state": {
       "margin": "0px 0px 0px 100px"
      }
     },
     "7ffbe2b74a6f41b8b4f610397d5264e9": {
      "model_module": "@jupyter-widgets/controls",
      "model_module_version": "1.5.0",
      "model_name": "VBoxModel",
      "state": {
       "children": [
        "IPY_MODEL_a76d3441162c4c7e8c2e445b6378a653",
        "IPY_MODEL_93cbdd04e6644fa7b2d80a0e52afe44a"
       ],
       "layout": "IPY_MODEL_d166c0b4b7ee48859bd8f624869b7741"
      }
     },
     "800dc31139354bf7b437a76ddbca2f1e": {
      "model_module": "@jupyter-widgets/base",
      "model_module_version": "1.2.0",
      "model_name": "LayoutModel",
      "state": {
       "margin": "0px 0px 0px 100px"
      }
     },
     "80143a6b13a04de6ad7d7c7a21d3cb16": {
      "model_module": "@jupyter-widgets/base",
      "model_module_version": "1.2.0",
      "model_name": "LayoutModel",
      "state": {
       "height": "25px",
       "width": "33px"
      }
     },
     "8042b0b3388344e2b31bf3a1f464b969": {
      "model_module": "@jupyter-widgets/base",
      "model_module_version": "1.2.0",
      "model_name": "LayoutModel",
      "state": {
       "grid_template_areas": "\"header header header\"\n\"left-sidebar center center\"\n\"footer footer footer\"",
       "grid_template_columns": "1fr 2fr 1fr",
       "grid_template_rows": "1fr 3fr 1fr"
      }
     },
     "804b10c2511a4bcf8d36162749c03ed3": {
      "model_module": "@jupyter-widgets/controls",
      "model_module_version": "1.5.0",
      "model_name": "ButtonModel",
      "state": {
       "button_style": "warning",
       "description": "B",
       "layout": "IPY_MODEL_2c9ac4c7b02145cfa9ace2d6c6bbca0f",
       "style": "IPY_MODEL_156dffa0b1114eb6a363cf4f228aa199",
       "tooltip": "Click to guess B."
      }
     },
     "8058f7ba1eac48058b4e70463101a4dc": {
      "model_module": "@jupyter-widgets/base",
      "model_module_version": "1.2.0",
      "model_name": "LayoutModel",
      "state": {
       "grid_area": "footer",
       "margin": "-60px 0px 0px 0px"
      }
     },
     "80660105377c4c9f9fac10cf21856c06": {
      "model_module": "@jupyter-widgets/base",
      "model_module_version": "1.2.0",
      "model_name": "LayoutModel",
      "state": {
       "height": "25px",
       "width": "33px"
      }
     },
     "80786601c14e41b09affe2b84dcaee83": {
      "model_module": "@jupyter-widgets/controls",
      "model_module_version": "1.5.0",
      "model_name": "HTMLModel",
      "state": {
       "layout": "IPY_MODEL_77f7de16d6964cd9a2fac45ab839bf5a",
       "style": "IPY_MODEL_9094362035344e9094e18b5fa9c5621f",
       "value": "<h3>Click on a letter below to guess the word.</h3>"
      }
     },
     "809e621045624be0b3c1fba71de0cbf5": {
      "model_module": "@jupyter-widgets/base",
      "model_module_version": "1.2.0",
      "model_name": "LayoutModel",
      "state": {
       "height": "25px",
       "width": "33px"
      }
     },
     "80c4f25ecbca4914b3e7f88f2299d143": {
      "buffers": [
       {
        "data": "iVBORw0KGgoAAAANSUhEUgAAATQAAAE0CAIAAAAt41jIAAAEyUlEQVR4nO3d0W6iUBRAUZ30/3+ZeZjEsYqAArJb13pqGyU3JjsHLXJPJwAAANjH+fqXYRiOWgdwOp3O5/9J/jlwHcAEcUKUOCFKnBAlTogSJ0SJE6LECVHihChxQpQ4IUqcECVOiBInRIkTosQJUeKEKHFClDghSpwQJU6IEidEiROixAlR4oQocUKUOCFKnBAlTogSJ0SJE6LECVHihChxQtTX0Qv4Pa43DGdbwzAcvYQDmJzbUOauPvPlFSdEOa3d2GeegO3nM2fmPyYnRIkTosQJUeKEKHFClDghSpwQJU6IEidEiROixAlR4oQocUKUOCFKnBAlTogSJ0S5E8Iq99/Tv/zFLRFYSZyvWHLvDJWykjifc5PlRHiXR/77QaI8S5xLLc/y+gES5WXinPdslvcPligv8GntjOsyh2F4raubJ37y7R5ZTpxTbspceTR98hRxPrRtmffH0SfTxDlv27eI3nCykDjH7fpfyssxDU8miHPKflPO/GSWOEe8c6AZnjwizof2Hm6GJ9PEeev9o8zwZJQ4x71nrBmeTBAnRInzm/df+3pz8S1ciBOixAlR4oQocUKUOCFKnBAlTogSJ0SJ85v3XxLgll88Ik6IEue49wxPV+0xQZy33n+G6ZyWUeJ8aO+xZmwyTZwj3v+tFLgnzin7DTdjk1niHLfr3SvtDsgS4py3bZ9mJguJ86E9tk7YY4sHfitxTtm2T2XyFHHOuOnztURvnqhMlrB57rw1G+Cu2XiXDyfOpZ5NVJasJM7njCa65CnwLHG+Ysl/QTXJSuJc5b5STbIVn9ZClDghSpwQJU6IEidEiROixAlR4oQocUKUOCFKnBAlTogSJ0SJE6LECVHihChxQpQ4IUqcECVOiBInRIkTosQJUeKEKHFClDghSpwQJU6IEidEiROixAlR4oQocUKUOCFKnBAlTogSJ0SJE6LECVHihChxQpQ4IUqcECVOiBInRIkTosQJUeKEKHFClDghSpwQJU6IEidEiROixAlR4oQocUKUOCFKnBD1dfQCfolhGI5eAr+NyQlR4oQocUKUOCFKnBAlTogSJ0SJE6LECVHihChxQpQ4IUqcECVOiBInRIkTosQJUeKEKHFClDghSpwQJU6IEidEiROixAlR4oQocUKUOCFKnBAlTogSJ0SJE6LECVHihChxQpQ4IUqcECVOiBInRIkTosQJUeKEKHFClDghSpwQJU6IEidEiROixAlR4oQocUKUOCFKnBAlTogSJ0SJE6LECVHihChxQpQ4IUqcECVOiBInRIkTosQJUeKEKHFClDghSpwQJU6IEidEiROixAlR4oQocUKUOCFKnBAlTogSJ0SJE6LECVHihChxQpQ4IUqcECVOiBInRIkTosQJUeKEKHFClDghSpwQJU6IEidEiROixAlR4oQocUKUOCFKnBAlTogSJ0SJE6LECVHihChxQpQ4IUqcECVOiBInRIkTosQJUeKEKHFClDghSpwQ9XX0Aph3Pp+PXsLx+i/CMAzbHtDkhChxQpTT2h9g8/MlfgSTE6LECVHihChxQpQ4IUqcECVOiBInRIkTosQJUeKEKHFClDghSpwQJU6IEidEiROixAlR4oQocUKUOAEAAAA+zF8yMLx8mh5EmQAAAABJRU5ErkJggg==",
        "encoding": "base64",
        "path": [
         "value"
        ]
       }
      ],
      "model_module": "@jupyter-widgets/controls",
      "model_module_version": "1.5.0",
      "model_name": "ImageModel",
      "state": {
       "layout": "IPY_MODEL_fc458d24df664235b5de7b65a65425d2"
      }
     },
     "80cd176aee2041d8b9930a4b1681448c": {
      "model_module": "@jupyter-widgets/controls",
      "model_module_version": "1.5.0",
      "model_name": "ButtonModel",
      "state": {
       "button_style": "warning",
       "description": "H",
       "disabled": true,
       "layout": "IPY_MODEL_93f14873548543efa568b6196af8ce7d",
       "style": "IPY_MODEL_d1bd543906a542829263f620063883e6"
      }
     },
     "80dbdab9adb64c1580f92e3eaadab415": {
      "model_module": "@jupyter-widgets/base",
      "model_module_version": "1.2.0",
      "model_name": "LayoutModel",
      "state": {
       "height": "25px",
       "width": "33px"
      }
     },
     "80dc516af4814e02b89108cd24482502": {
      "model_module": "@jupyter-widgets/controls",
      "model_module_version": "1.5.0",
      "model_name": "VBoxModel",
      "state": {
       "children": [
        "IPY_MODEL_48f7f92efab04e54a650e3f05cba3124"
       ],
       "layout": "IPY_MODEL_bad28ad24e8d4df98e192a79b96c5540"
      }
     },
     "812255e2aab1499fa37d2b6cde2c8d53": {
      "model_module": "@jupyter-widgets/base",
      "model_module_version": "1.2.0",
      "model_name": "LayoutModel",
      "state": {
       "grid_area": "left-sidebar"
      }
     },
     "81238a891f9e4ba3937a657c25a2597b": {
      "model_module": "@jupyter-widgets/base",
      "model_module_version": "1.2.0",
      "model_name": "LayoutModel",
      "state": {
       "grid_area": "center"
      }
     },
     "81285b69a77842efb4b07df5948c1625": {
      "model_module": "@jupyter-widgets/controls",
      "model_module_version": "1.5.0",
      "model_name": "HTMLModel",
      "state": {
       "layout": "IPY_MODEL_590390afe884430f9fc980d442543e59",
       "style": "IPY_MODEL_4c1fdde9162c40879f9cb2fb52f2b688",
       "value": "<h3>Click on a letter below to guess the word.</h3>"
      }
     },
     "814daa3e477a45d7b1f25fbb0b9a0f2c": {
      "model_module": "@jupyter-widgets/base",
      "model_module_version": "1.2.0",
      "model_name": "LayoutModel",
      "state": {
       "grid_area": "header"
      }
     },
     "8153b468d3cb4e1bac445c6178213458": {
      "model_module": "@jupyter-widgets/controls",
      "model_module_version": "1.5.0",
      "model_name": "ButtonStyleModel",
      "state": {}
     },
     "815d6c340e16465f8407e2decc5c95bf": {
      "model_module": "@jupyter-widgets/controls",
      "model_module_version": "1.5.0",
      "model_name": "VBoxModel",
      "state": {
       "children": [
        "IPY_MODEL_48f7f92efab04e54a650e3f05cba3124"
       ],
       "layout": "IPY_MODEL_e320ec61b22a403090889e4e8caad679"
      }
     },
     "81649f3b59b14d19b96edb0b6cfdabf2": {
      "buffers": [
       {
        "data": "iVBORw0KGgoAAAANSUhEUgAAATQAAAE0CAIAAAAt41jIAAAEyUlEQVR4nO3d0W6iUBRAUZ30/3+ZeZjEsYqAArJb13pqGyU3JjsHLXJPJwAAANjH+fqXYRiOWgdwOp3O5/9J/jlwHcAEcUKUOCFKnBAlTogSJ0SJE6LECVHihChxQpQ4IUqcECVOiBInRIkTosQJUeKEKHFClDghSpwQJU6IEidEiROixAlR4oQocUKUOCFKnBAlTogSJ0SJE6LECVHihChxQtTX0Qv4Pa43DGdbwzAcvYQDmJzbUOauPvPlFSdEOa3d2GeegO3nM2fmPyYnRIkTosQJUeKEKHFClDghSpwQJU6IEidEiROixAlR4oQocUKUOCFKnBAlTogSJ0S5E8Iq99/Tv/zFLRFYSZyvWHLvDJWykjifc5PlRHiXR/77QaI8S5xLLc/y+gES5WXinPdslvcPligv8GntjOsyh2F4raubJ37y7R5ZTpxTbspceTR98hRxPrRtmffH0SfTxDlv27eI3nCykDjH7fpfyssxDU8miHPKflPO/GSWOEe8c6AZnjwizof2Hm6GJ9PEeev9o8zwZJQ4x71nrBmeTBAnRInzm/df+3pz8S1ciBOixAlR4oQocUKUOCFKnBAlTogSJ0SJ85v3XxLgll88Ik6IEue49wxPV+0xQZy33n+G6ZyWUeJ8aO+xZmwyTZwj3v+tFLgnzin7DTdjk1niHLfr3SvtDsgS4py3bZ9mJguJ86E9tk7YY4sHfitxTtm2T2XyFHHOuOnztURvnqhMlrB57rw1G+Cu2XiXDyfOpZ5NVJasJM7njCa65CnwLHG+Ysl/QTXJSuJc5b5STbIVn9ZClDghSpwQJU6IEidEiROixAlR4oQocUKUOCFKnBAlTogSJ0SJE6LECVHihChxQpQ4IUqcECVOiBInRIkTosQJUeKEKHFClDghSpwQJU6IEidEiROixAlR4oQocUKUOCFKnBAlTogSJ0SJE6LECVHihChxQpQ4IUqcECVOiBInRIkTosQJUeKEKHFClDghSpwQJU6IEidEiROixAlR4oQocUKUOCFKnBD1dfQCfolhGI5eAr+NyQlR4oQocUKUOCFKnBAlTogSJ0SJE6LECVHihChxQpQ4IUqcECVOiBInRIkTosQJUeKEKHFClDghSpwQJU6IEidEiROixAlR4oQocUKUOCFKnBAlTogSJ0SJE6LECVHihChxQpQ4IUqcECVOiBInRIkTosQJUeKEKHFClDghSpwQJU6IEidEiROixAlR4oQocUKUOCFKnBAlTogSJ0SJE6LECVHihChxQpQ4IUqcECVOiBInRIkTosQJUeKEKHFClDghSpwQJU6IEidEiROixAlR4oQocUKUOCFKnBAlTogSJ0SJE6LECVHihChxQpQ4IUqcECVOiBInRIkTosQJUeKEKHFClDghSpwQJU6IEidEiROixAlR4oQocUKUOCFKnBAlTogSJ0SJE6LECVHihChxQpQ4IUqcECVOiBInRIkTosQJUeKEKHFClDghSpwQ9XX0Aph3Pp+PXsLx+i/CMAzbHtDkhChxQpTT2h9g8/MlfgSTE6LECVHihChxQpQ4IUqcECVOiBInRIkTosQJUeKEKHFClDghSpwQJU6IEidEiROixAlR4oQocUKUOAEAAAA+zF8yMLx8mh5EmQAAAABJRU5ErkJggg==",
        "encoding": "base64",
        "path": [
         "value"
        ]
       }
      ],
      "model_module": "@jupyter-widgets/controls",
      "model_module_version": "1.5.0",
      "model_name": "ImageModel",
      "state": {
       "layout": "IPY_MODEL_91405eb68d0d4ce3889f7e807ff065f3"
      }
     },
     "8192b337282a45d794645cdb7d88edda": {
      "model_module": "@jupyter-widgets/controls",
      "model_module_version": "1.5.0",
      "model_name": "DescriptionStyleModel",
      "state": {
       "description_width": ""
      }
     },
     "81959861812a48f383caec6af5fac1b9": {
      "model_module": "@jupyter-widgets/controls",
      "model_module_version": "1.5.0",
      "model_name": "ButtonModel",
      "state": {
       "button_style": "warning",
       "description": "N",
       "disabled": true,
       "layout": "IPY_MODEL_f5137fa98e45425e9a45fc4d1616f38c",
       "style": "IPY_MODEL_4ee3f8a1a39a4dd7a9197a1103e1fd92"
      }
     },
     "81c7716915964f49acc1a7e36067da82": {
      "model_module": "@jupyter-widgets/controls",
      "model_module_version": "1.5.0",
      "model_name": "HTMLModel",
      "state": {
       "layout": "IPY_MODEL_bfdfc9379f8c4e2f828755b803bd27be",
       "style": "IPY_MODEL_eddaea535a834ca8a13d5108708aec5e",
       "value": "<h2><font color='black'>Remaining Guesses:                          5</h2>"
      }
     },
     "821142ad0e28409295151f4464d3a323": {
      "model_module": "@jupyter-widgets/controls",
      "model_module_version": "1.5.0",
      "model_name": "ButtonStyleModel",
      "state": {}
     },
     "823394d7e498469582245368891de916": {
      "model_module": "@jupyter-widgets/controls",
      "model_module_version": "1.5.0",
      "model_name": "HTMLModel",
      "state": {
       "layout": "IPY_MODEL_879d1444bc4743d1b9cc49d86240a49f",
       "style": "IPY_MODEL_0c872fea4a9d4ebcad179ca08012f8f5",
       "value": "<h4>Wins: 0</h4>"
      }
     },
     "82548b1e639b4a019c5d00f672d9d755": {
      "model_module": "@jupyter-widgets/controls",
      "model_module_version": "1.5.0",
      "model_name": "ButtonStyleModel",
      "state": {}
     },
     "825a8d44a9864920ac0d846ddef1df6a": {
      "model_module": "@jupyter-widgets/base",
      "model_module_version": "1.2.0",
      "model_name": "LayoutModel",
      "state": {
       "grid_area": "footer",
       "margin": "-60px 0px 0px 0px"
      }
     },
     "8267fdd11e9d4bf4ad435ae53fff0bff": {
      "model_module": "@jupyter-widgets/base",
      "model_module_version": "1.2.0",
      "model_name": "LayoutModel",
      "state": {
       "grid_area": "header"
      }
     },
     "82738bdfebae4bfb9035554202ed1f19": {
      "model_module": "@jupyter-widgets/controls",
      "model_module_version": "1.5.0",
      "model_name": "ButtonModel",
      "state": {
       "button_style": "success",
       "description": "Play Again",
       "layout": "IPY_MODEL_c63d5e3695cf48998fa02b87f59b4444",
       "style": "IPY_MODEL_130779ab1f3f40c89b04c65986a2fd19"
      }
     },
     "8298644eef11471ea1b1238cd4edf0eb": {
      "model_module": "@jupyter-widgets/controls",
      "model_module_version": "1.5.0",
      "model_name": "HTMLModel",
      "state": {
       "layout": "IPY_MODEL_3ddc9accc0384765b0aa39dfedea308a",
       "style": "IPY_MODEL_b54d9e5e4a3e4589ac3e6957b888134b",
       "value": "<h3>Player Result</h3>"
      }
     },
     "82a4eae9370d482a81177b0e689b47a3": {
      "model_module": "@jupyter-widgets/base",
      "model_module_version": "1.2.0",
      "model_name": "LayoutModel",
      "state": {
       "margin": "0px 0px 0px 100px"
      }
     },
     "832db57c87844984b2f90c78e7d7147d": {
      "model_module": "@jupyter-widgets/base",
      "model_module_version": "1.2.0",
      "model_name": "LayoutModel",
      "state": {
       "margin": "0px 0px 0px 100px"
      }
     },
     "8338b3335dca44d7a54cc914642ea3ac": {
      "model_module": "@jupyter-widgets/base",
      "model_module_version": "1.2.0",
      "model_name": "LayoutModel",
      "state": {
       "height": "25px",
       "width": "33px"
      }
     },
     "834884b6db0e44d1952a46124e49c920": {
      "model_module": "@jupyter-widgets/base",
      "model_module_version": "1.2.0",
      "model_name": "LayoutModel",
      "state": {
       "height": "25px",
       "width": "33px"
      }
     },
     "8374d0fe4769485b98a203aea62e319e": {
      "model_module": "@jupyter-widgets/controls",
      "model_module_version": "1.5.0",
      "model_name": "DescriptionStyleModel",
      "state": {
       "description_width": ""
      }
     },
     "83dcf723e54e4b7780b47c5e3cd92e85": {
      "model_module": "@jupyter-widgets/base",
      "model_module_version": "1.2.0",
      "model_name": "LayoutModel",
      "state": {
       "height": "25px",
       "width": "33px"
      }
     },
     "8422810f6dee4a82a4422f1d898167a9": {
      "model_module": "@jupyter-widgets/controls",
      "model_module_version": "1.5.0",
      "model_name": "DescriptionStyleModel",
      "state": {
       "description_width": ""
      }
     },
     "842fc59b107a4b1a96a898ea690f8b9e": {
      "model_module": "@jupyter-widgets/controls",
      "model_module_version": "1.5.0",
      "model_name": "DescriptionStyleModel",
      "state": {
       "description_width": ""
      }
     },
     "8446dad5125643378db3f7c44920eb83": {
      "model_module": "@jupyter-widgets/base",
      "model_module_version": "1.2.0",
      "model_name": "LayoutModel",
      "state": {
       "width": "500px"
      }
     },
     "84700b8e2108440091d2e14c88cae053": {
      "model_module": "@jupyter-widgets/base",
      "model_module_version": "1.2.0",
      "model_name": "LayoutModel",
      "state": {
       "grid_area": "header"
      }
     },
     "847c217e93704c16a548093430963248": {
      "model_module": "@jupyter-widgets/controls",
      "model_module_version": "1.5.0",
      "model_name": "HTMLModel",
      "state": {
       "layout": "IPY_MODEL_6697bafda5aa4d02bb3f44f9db759e12",
       "style": "IPY_MODEL_b22a80a4fa2046159af87eafd2cb20aa",
       "value": "<h2><font color='black'>Remaining Guesses:                          5</h2>"
      }
     },
     "848345606498433faa0451a639ee5cc0": {
      "model_module": "@jupyter-widgets/base",
      "model_module_version": "1.2.0",
      "model_name": "LayoutModel",
      "state": {
       "height": "25px",
       "width": "33px"
      }
     },
     "8487079e63a0406d943e049b0c03b53e": {
      "model_module": "@jupyter-widgets/controls",
      "model_module_version": "1.5.0",
      "model_name": "HTMLModel",
      "state": {
       "layout": "IPY_MODEL_1bc29e3a38ef4f1ea6c89afd0708feb9",
       "style": "IPY_MODEL_af136d4949f4479885d36dac52f6b1b7",
       "value": "<h4>Wins: 3</h4>"
      }
     },
     "84d05da0fd5b4cac9c831be90ae3dd69": {
      "model_module": "@jupyter-widgets/controls",
      "model_module_version": "1.5.0",
      "model_name": "ButtonModel",
      "state": {
       "button_style": "warning",
       "description": "K",
       "disabled": true,
       "layout": "IPY_MODEL_350feb1522b740cf8ea67852f15d3d00",
       "style": "IPY_MODEL_4deef778028c4bea879abf7c1de9f2ad"
      }
     },
     "84d2599ea3b046c69d510cf352ab3ed8": {
      "model_module": "@jupyter-widgets/base",
      "model_module_version": "1.2.0",
      "model_name": "LayoutModel",
      "state": {}
     },
     "84ecc9e8703447e0944201abf56b9326": {
      "model_module": "@jupyter-widgets/controls",
      "model_module_version": "1.5.0",
      "model_name": "DescriptionStyleModel",
      "state": {
       "description_width": ""
      }
     },
     "850126d6757d4b418629230c7693b055": {
      "model_module": "@jupyter-widgets/controls",
      "model_module_version": "1.5.0",
      "model_name": "DescriptionStyleModel",
      "state": {
       "description_width": ""
      }
     },
     "85021b0748444b728fe74132d8912f9c": {
      "model_module": "@jupyter-widgets/controls",
      "model_module_version": "1.5.0",
      "model_name": "DescriptionStyleModel",
      "state": {
       "description_width": ""
      }
     },
     "85171f33d419447184f0f29c075158bf": {
      "model_module": "@jupyter-widgets/controls",
      "model_module_version": "1.5.0",
      "model_name": "HTMLModel",
      "state": {
       "layout": "IPY_MODEL_bc2e77079c9e42918d47a814032b90f0",
       "style": "IPY_MODEL_0a6c2776b75d464fb8205cb32a39ab9e",
       "value": "<h4>Wins: 0</h4>"
      }
     },
     "852db32add3b4aa0a6d7e3fc281fcbbc": {
      "model_module": "@jupyter-widgets/base",
      "model_module_version": "1.2.0",
      "model_name": "LayoutModel",
      "state": {
       "grid_area": "left-sidebar"
      }
     },
     "8549997b23a7437985d9ebe26e426395": {
      "model_module": "@jupyter-widgets/controls",
      "model_module_version": "1.5.0",
      "model_name": "ButtonStyleModel",
      "state": {}
     },
     "855e4c783d524a4f8e331402e39308e7": {
      "model_module": "@jupyter-widgets/base",
      "model_module_version": "1.2.0",
      "model_name": "LayoutModel",
      "state": {
       "margin": "0px 0px 0px 100px"
      }
     },
     "8582f617a88a4883924f14c56e012b8b": {
      "model_module": "@jupyter-widgets/controls",
      "model_module_version": "1.5.0",
      "model_name": "ButtonStyleModel",
      "state": {}
     },
     "858d08e7336743b191a158ee335b9a2d": {
      "model_module": "@jupyter-widgets/controls",
      "model_module_version": "1.5.0",
      "model_name": "DescriptionStyleModel",
      "state": {
       "description_width": ""
      }
     },
     "85a6267113bb4d85a216ae9a260f7a5c": {
      "model_module": "@jupyter-widgets/controls",
      "model_module_version": "1.5.0",
      "model_name": "ButtonStyleModel",
      "state": {}
     },
     "85b1a7ef8e4342a6a42e4c12bbb6ce58": {
      "model_module": "@jupyter-widgets/base",
      "model_module_version": "1.2.0",
      "model_name": "LayoutModel",
      "state": {
       "height": "25px",
       "width": "33px"
      }
     },
     "85bcacd7cfa54f7c8398e19a0d05c7dd": {
      "model_module": "@jupyter-widgets/base",
      "model_module_version": "1.2.0",
      "model_name": "LayoutModel",
      "state": {
       "grid_area": "header"
      }
     },
     "85c548c82cd64c57be88c0cdf7fdae34": {
      "model_module": "@jupyter-widgets/controls",
      "model_module_version": "1.5.0",
      "model_name": "VBoxModel",
      "state": {
       "children": [
        "IPY_MODEL_8b3c39be94ec4b25b7a37a26161887b0",
        "IPY_MODEL_499c49cca2cb40b99fdd9ffd636400b3",
        "IPY_MODEL_f91086fef0194cb88f0f32076a468931"
       ],
       "layout": "IPY_MODEL_1b42c12e616c45c5a73ec8a4b7fd5c25"
      }
     },
     "85c80a4bb54f4fa89c50ef90c21fa23a": {
      "model_module": "@jupyter-widgets/base",
      "model_module_version": "1.2.0",
      "model_name": "LayoutModel",
      "state": {
       "height": "25px",
       "width": "33px"
      }
     },
     "85cf9d785dbc4b4e8d1027bf7e27ada0": {
      "model_module": "@jupyter-widgets/controls",
      "model_module_version": "1.5.0",
      "model_name": "ButtonStyleModel",
      "state": {}
     },
     "860dd3a589f84123887ef6564e265b5c": {
      "model_module": "@jupyter-widgets/controls",
      "model_module_version": "1.5.0",
      "model_name": "HTMLModel",
      "state": {
       "layout": "IPY_MODEL_ac635af3f258421d96781e83dc758002",
       "style": "IPY_MODEL_7d50ae9159034f84ade8eb5963ba79ea",
       "value": "<h1><font color='blue'> You Lose </h1>"
      }
     },
     "862bead882314d9888750a2d27c328fb": {
      "model_module": "@jupyter-widgets/controls",
      "model_module_version": "1.5.0",
      "model_name": "ButtonModel",
      "state": {
       "button_style": "warning",
       "description": "C",
       "layout": "IPY_MODEL_c873a111f61746e79b3408942732f3d0",
       "style": "IPY_MODEL_d69ce313c946478bae2243245d7a75e0",
       "tooltip": "Click to guess C."
      }
     },
     "86396d28464f4d4787722838a3fc761a": {
      "model_module": "@jupyter-widgets/base",
      "model_module_version": "1.2.0",
      "model_name": "LayoutModel",
      "state": {
       "height": "25px",
       "width": "33px"
      }
     },
     "867213ed83f24c309326f6d31e2a3988": {
      "model_module": "@jupyter-widgets/controls",
      "model_module_version": "1.5.0",
      "model_name": "DescriptionStyleModel",
      "state": {
       "description_width": ""
      }
     },
     "86c2f8ed388c4412829eef09539de3dd": {
      "model_module": "@jupyter-widgets/base",
      "model_module_version": "1.2.0",
      "model_name": "LayoutModel",
      "state": {
       "height": "25px",
       "width": "33px"
      }
     },
     "86c88a1141b046baa407bf34db13270e": {
      "model_module": "@jupyter-widgets/base",
      "model_module_version": "1.2.0",
      "model_name": "LayoutModel",
      "state": {
       "height": "25px",
       "width": "33px"
      }
     },
     "86fb31787d8b4d8c943dab5e6d5c120f": {
      "model_module": "@jupyter-widgets/base",
      "model_module_version": "1.2.0",
      "model_name": "LayoutModel",
      "state": {
       "height": "25px",
       "width": "33px"
      }
     },
     "870e8ba16cc84306bcf9c88b16422ee2": {
      "model_module": "@jupyter-widgets/controls",
      "model_module_version": "1.5.0",
      "model_name": "ButtonModel",
      "state": {
       "button_style": "warning",
       "description": "K",
       "disabled": true,
       "layout": "IPY_MODEL_83dcf723e54e4b7780b47c5e3cd92e85",
       "style": "IPY_MODEL_f2b13609e7904e72b3759fba6a691ea0"
      }
     },
     "873c922c43f64abc88221d5d9c588e79": {
      "model_module": "@jupyter-widgets/base",
      "model_module_version": "1.2.0",
      "model_name": "LayoutModel",
      "state": {
       "grid_template_areas": "\"header header header\"\n\"left-sidebar center center\"\n\"footer footer footer\"",
       "grid_template_columns": "1fr 2fr 1fr",
       "grid_template_rows": "1fr 3fr 1fr"
      }
     },
     "8751ab6d6e3a43c0a7eda5a4ec440e72": {
      "model_module": "@jupyter-widgets/controls",
      "model_module_version": "1.5.0",
      "model_name": "ButtonStyleModel",
      "state": {}
     },
     "8789ffcb3d094e719de7401d2116903d": {
      "model_module": "@jupyter-widgets/controls",
      "model_module_version": "1.5.0",
      "model_name": "ButtonStyleModel",
      "state": {}
     },
     "879d1444bc4743d1b9cc49d86240a49f": {
      "model_module": "@jupyter-widgets/base",
      "model_module_version": "1.2.0",
      "model_name": "LayoutModel",
      "state": {
       "margin": "0px 0px 0px 100px"
      }
     },
     "87a2502e9dff4c64b0a46a6df253dc30": {
      "model_module": "@jupyter-widgets/controls",
      "model_module_version": "1.5.0",
      "model_name": "VBoxModel",
      "state": {
       "children": [
        "IPY_MODEL_5b34a0fe02de4421a0e71b1432cdf3de",
        "IPY_MODEL_20154f7cacda48caa88ab4586e432ce3"
       ],
       "layout": "IPY_MODEL_b1df751db80b48908d3c6d2c64f69102"
      }
     },
     "87c8e7322b8e45e385950df4b9f1ba55": {
      "model_module": "@jupyter-widgets/base",
      "model_module_version": "1.2.0",
      "model_name": "LayoutModel",
      "state": {
       "margin": "0px 0px 0px 100px"
      }
     },
     "8814b8c07df84502b977b1ebb6c78013": {
      "model_module": "@jupyter-widgets/base",
      "model_module_version": "1.2.0",
      "model_name": "LayoutModel",
      "state": {
       "margin": "0px 0px 0px 70px"
      }
     },
     "8826d55b57dc4ad7853a06031c34827c": {
      "model_module": "@jupyter-widgets/controls",
      "model_module_version": "1.5.0",
      "model_name": "GridBoxModel",
      "state": {
       "children": [
        "IPY_MODEL_90d335a0cc89433fafaa1028c6c9b0b4",
        "IPY_MODEL_946373fbf5f14365862986f7910fa4b7",
        "IPY_MODEL_4c69fe2c0e7a40ddbe41883386f02a37",
        "IPY_MODEL_ad739b563b994f8c8ff48ac1bf4c2e68"
       ],
       "layout": "IPY_MODEL_0cd2f5f45e5346bfb6d804e229648e26"
      }
     },
     "8836e031189744608fbb35a076f0316f": {
      "model_module": "@jupyter-widgets/controls",
      "model_module_version": "1.5.0",
      "model_name": "DescriptionStyleModel",
      "state": {
       "description_width": ""
      }
     },
     "885d5ed110e34eaf9808afc82e5b6a3a": {
      "model_module": "@jupyter-widgets/base",
      "model_module_version": "1.2.0",
      "model_name": "LayoutModel",
      "state": {
       "grid_area": "footer",
       "margin": "-60px 0px 0px 0px"
      }
     },
     "8878c54f8c2a485b8dc44f7e4ede2ef7": {
      "model_module": "@jupyter-widgets/base",
      "model_module_version": "1.2.0",
      "model_name": "LayoutModel",
      "state": {
       "grid_area": "left-sidebar"
      }
     },
     "887ed37505244b098208ffd514a10e68": {
      "model_module": "@jupyter-widgets/controls",
      "model_module_version": "1.5.0",
      "model_name": "DescriptionStyleModel",
      "state": {
       "description_width": ""
      }
     },
     "888dcb168d594e24ae327bb3e8ba07e5": {
      "model_module": "@jupyter-widgets/controls",
      "model_module_version": "1.5.0",
      "model_name": "DescriptionStyleModel",
      "state": {
       "description_width": ""
      }
     },
     "88af71333313493eaf995b3309d89f14": {
      "model_module": "@jupyter-widgets/base",
      "model_module_version": "1.2.0",
      "model_name": "LayoutModel",
      "state": {
       "grid_area": "center"
      }
     },
     "88b2dccb1bda427eb1932518fc3e0df0": {
      "model_module": "@jupyter-widgets/controls",
      "model_module_version": "1.5.0",
      "model_name": "ButtonModel",
      "state": {
       "button_style": "warning",
       "description": "Y",
       "disabled": true,
       "layout": "IPY_MODEL_7a7721f04f5641ee8de38dfddf195cd2",
       "style": "IPY_MODEL_9e2db37928ec4b9b943cfda20b81e006"
      }
     },
     "88d3a6ef822d4c7cabdb7623cbe66f9d": {
      "model_module": "@jupyter-widgets/base",
      "model_module_version": "1.2.0",
      "model_name": "LayoutModel",
      "state": {}
     },
     "88dc048f88e8472ab67aa83174d59022": {
      "model_module": "@jupyter-widgets/base",
      "model_module_version": "1.2.0",
      "model_name": "LayoutModel",
      "state": {
       "height": "25px",
       "width": "33px"
      }
     },
     "89072c6eb0654cda93ef8fa52e236974": {
      "model_module": "@jupyter-widgets/base",
      "model_module_version": "1.2.0",
      "model_name": "LayoutModel",
      "state": {
       "grid_area": "left-sidebar"
      }
     },
     "89114446d2fb492892c2780f0158090e": {
      "model_module": "@jupyter-widgets/base",
      "model_module_version": "1.2.0",
      "model_name": "LayoutModel",
      "state": {
       "height": "25px",
       "width": "33px"
      }
     },
     "891d03c17ec14394ad71e54e22f1c4b3": {
      "model_module": "@jupyter-widgets/controls",
      "model_module_version": "1.5.0",
      "model_name": "HTMLModel",
      "state": {
       "layout": "IPY_MODEL_c0c07bbdb4d145bfa7ff966c8f583c2d",
       "style": "IPY_MODEL_75fdcc0e0d6b4d4d86d156df69c14ea5",
       "value": "<h3>Click on a letter below to guess the word.</h3>"
      }
     },
     "89703aa9a3df41a1ba9751939016e4fb": {
      "model_module": "@jupyter-widgets/base",
      "model_module_version": "1.2.0",
      "model_name": "LayoutModel",
      "state": {
       "margin": "20px 0px 0px 20px"
      }
     },
     "89af241073ee4916ac6c739bc5129183": {
      "model_module": "@jupyter-widgets/controls",
      "model_module_version": "1.5.0",
      "model_name": "VBoxModel",
      "state": {
       "children": [
        "IPY_MODEL_912851f5f5db40f397473f052068b2cf",
        "IPY_MODEL_de7984a7c5b448b6b8a8d5e80af19b69",
        "IPY_MODEL_b4877853559d40218e781f931d42b517"
       ],
       "layout": "IPY_MODEL_e89e9f72f2854cdc96a8c23c78736a8a"
      }
     },
     "89c40dc0ac3f4bed895ea92e8a2c3cb7": {
      "model_module": "@jupyter-widgets/controls",
      "model_module_version": "1.5.0",
      "model_name": "DescriptionStyleModel",
      "state": {
       "description_width": ""
      }
     },
     "8a8857fe76b344529c7c772efa22e66e": {
      "model_module": "@jupyter-widgets/controls",
      "model_module_version": "1.5.0",
      "model_name": "DescriptionStyleModel",
      "state": {
       "description_width": ""
      }
     },
     "8ab00abd911d45b9ac4e585a32292c41": {
      "buffers": [
       {
        "data": "iVBORw0KGgoAAAANSUhEUgAAATQAAAE0CAIAAAAt41jIAAAEvUlEQVR4nO3d0W6iUBRAUZ30/3+ZeZjEsYqAArJb13pqDRJisnNQkXs6AQAAwD7O1/8Mw3DUcQCn0+l8/p/knwOPA5ggTogSJ0SJE6LECVHihChxQpQ4IUqcECVOiBInRIkTosQJUeKEKHFClDghSpwQJU6IEidEiROixAlR4oQocUKUOCFKnBAlTogSJ0SJE6LECVHihChxQpQ4IUqcECVOiPo6+gB+j+sFw9nWMAxHH8IBTM5tKHNXn/nyihOinNZu7DNPwPbzmTPzH5MTosQJUeKEKHFClDghSpwQJU6IEidEiROixAlR4oQocUKUOCFKnBAlTogSJ0SJE6LcCWGV+9/pXx5xSwRWEucrltw7Q6WsJM7n3GQ5Ed5ly39/SJRniXOp5VlebyBRXibOec9meb+xRHmBT2tnXJc5DMNrXd088ZNv98hy4pxyU+bKvemTp4jzoW3LvN+PPpkmznnbvkX0hpOFxDlu128pL/s0PJkgzin7TTnzk1niHPHOgWZ48og4H9p7uBmeTBPnrfePMsOTUeIc956xZngyQZwQJc5v3n/t683Ft3AhTogSJ0SJE6LECVHihChxQpQ4IUqcECXOb95/SYBbfvGIOCFKnOPeMzxdtccEcd56/xmmc1pGifOhvceasck0cY54/69S4J44p+w33IxNZolz3K53r7Q6IEuIc962fZqZLCTOh/ZYOmGPJR74rcQ5Zds+lclTxDnjps/XEr15ojJZwuK589YsgLtm4V0+nDiXejZRWbKSOJ8zmuiSp8CzxPmKJd+CapKVxLmKAtmPT2shSpwQJU6IEidEiROixAlR4oQocUKUOCFKnBAlTogSJ0SJE6LECVHihChxQpQ4IUqcECVOiBInRIkTosQJUeKEKHFClDghSpwQJU6IEidEiROixAlR4oQocUKUOCFKnBAlTogSJ0SJE6LECVHihChxQpQ4IUqcECVOiBInRIkTosQJUeKEKHFClDghSpwQJU6IEidEiROixAlR4oQocUKUOCFKnBAlTogSJ0SJE6LECVHihChxQpQ4IUqcECVOiBInRIkTosQJUeKEKHFClDghSpwQJU6IEidEiROixAlR4oQocUKUOCFKnBAlTogSJ0SJE6LECVHihChxQpQ4IUqcECVOiBInRIkTosQJUeKEKHFClDghSpwQJU6IEidEiROixAlR4oQocUKUOCFKnBAlTogSJ0SJE6LECVHihChxQpQ4IUqcECVOiBInRIkTosQJUeKEKHFClDghSpwQJU6IEidEiROixAlR4oQocUKUOCFKnBAlTogSJ0SJE6LECVHihChxQpQ4IUqcECVOiBInRIkTosQJUeKEKHFClDghSpwQJU6IEidEiROixAlR4oQocUKUOCFKnBAlTogSJ0SJE6LECVHihChxQpQ4IUqcECVOiBInRIkTosQJUeKEKHFClDghSpwQJU6IEidEiROixAlR4oQocUKUOCHq6+gDYN75fD76EI7XfxGGYdh2hyYnRIkTopzW/gCbny/xI5icECVOiBInRIkTosQJUeKEKHFClDghSpwQJU6IEidEiROixAlR4oQocUKUOCFKnBAlTogSJ0SJE6LECQAAAPBh/gLkBrZ9QrhuSAAAAABJRU5ErkJggg==",
        "encoding": "base64",
        "path": [
         "value"
        ]
       }
      ],
      "model_module": "@jupyter-widgets/controls",
      "model_module_version": "1.5.0",
      "model_name": "ImageModel",
      "state": {
       "layout": "IPY_MODEL_19cd6ecc829441b5953c64919bf32f56",
       "value": {}
      }
     },
     "8abf40cb94eb43399ea1b9214c7b0306": {
      "model_module": "@jupyter-widgets/controls",
      "model_module_version": "1.5.0",
      "model_name": "ButtonModel",
      "state": {
       "button_style": "warning",
       "description": "F",
       "layout": "IPY_MODEL_f776d212e63b4f9b84a534d5d41c2a39",
       "style": "IPY_MODEL_df271aa97d04408c9a1cc433f0cf7b49",
       "tooltip": "Click to guess F."
      }
     },
     "8abf5e2da2e04de1b172c07895bc2444": {
      "model_module": "@jupyter-widgets/base",
      "model_module_version": "1.2.0",
      "model_name": "LayoutModel",
      "state": {
       "margin": "20px 0px 0px 20px"
      }
     },
     "8acceb9662e241edaaf06b7cb0256224": {
      "model_module": "@jupyter-widgets/controls",
      "model_module_version": "1.5.0",
      "model_name": "VBoxModel",
      "state": {
       "children": [
        "IPY_MODEL_b3f63d1b20da49c292543852fb6bd514",
        "IPY_MODEL_4700575cd3f0468f97f8207e2af767d1"
       ],
       "layout": "IPY_MODEL_6aae74dbf028474c8aea63a2e4da1edb"
      }
     },
     "8afb3b806f53484699474e01e53ee93f": {
      "model_module": "@jupyter-widgets/controls",
      "model_module_version": "1.5.0",
      "model_name": "ButtonModel",
      "state": {
       "button_style": "warning",
       "description": "X",
       "layout": "IPY_MODEL_c63b3756126c455ebde9e68a0d0d6f9a",
       "style": "IPY_MODEL_56da9553b67045dea2a1b59b598c2d43",
       "tooltip": "Click to guess X."
      }
     },
     "8b1d5a4c47e24aafa947fbf36c02f1ef": {
      "model_module": "@jupyter-widgets/base",
      "model_module_version": "1.2.0",
      "model_name": "LayoutModel",
      "state": {
       "height": "25px",
       "width": "33px"
      }
     },
     "8b3c39be94ec4b25b7a37a26161887b0": {
      "model_module": "@jupyter-widgets/controls",
      "model_module_version": "1.5.0",
      "model_name": "HTMLModel",
      "state": {
       "layout": "IPY_MODEL_3e1f537ec18c4df9ad9ba603f2c4d231",
       "style": "IPY_MODEL_9ec584da1dd84079b78b7a3763b95508",
       "value": "<h3>Player Result</h3>"
      }
     },
     "8b46b895930b43c48d6097e635294e09": {
      "model_module": "@jupyter-widgets/controls",
      "model_module_version": "1.5.0",
      "model_name": "DescriptionStyleModel",
      "state": {
       "description_width": ""
      }
     },
     "8b5f8c0e9e364a929c85ef9eb76b09ff": {
      "model_module": "@jupyter-widgets/controls",
      "model_module_version": "1.5.0",
      "model_name": "DescriptionStyleModel",
      "state": {
       "description_width": ""
      }
     },
     "8b67d9b5b0d948f4bda2ab27a5671c11": {
      "model_module": "@jupyter-widgets/controls",
      "model_module_version": "1.5.0",
      "model_name": "ButtonStyleModel",
      "state": {}
     },
     "8b7778b3cf4a4774869e7792a5bda373": {
      "model_module": "@jupyter-widgets/base",
      "model_module_version": "1.2.0",
      "model_name": "LayoutModel",
      "state": {
       "height": "25px",
       "width": "33px"
      }
     },
     "8b874b87669943158f9981ae0af86fe0": {
      "model_module": "@jupyter-widgets/controls",
      "model_module_version": "1.5.0",
      "model_name": "ButtonStyleModel",
      "state": {}
     },
     "8b8c547d7390421190b2989364e74b84": {
      "model_module": "@jupyter-widgets/base",
      "model_module_version": "1.2.0",
      "model_name": "LayoutModel",
      "state": {
       "margin": "0px 0px 0px 100px"
      }
     },
     "8b8f61f9de164c46baf7db9a2776634e": {
      "model_module": "@jupyter-widgets/base",
      "model_module_version": "1.2.0",
      "model_name": "LayoutModel",
      "state": {
       "height": "auto"
      }
     },
     "8b909f72620f4c89b216036abdfb48a6": {
      "model_module": "@jupyter-widgets/controls",
      "model_module_version": "1.5.0",
      "model_name": "ButtonStyleModel",
      "state": {}
     },
     "8b9b9df39cac487bb18af78c0539c45a": {
      "model_module": "@jupyter-widgets/base",
      "model_module_version": "1.2.0",
      "model_name": "LayoutModel",
      "state": {
       "height": "auto"
      }
     },
     "8ba7f11d6bb942b7a59ee423c2643233": {
      "model_module": "@jupyter-widgets/base",
      "model_module_version": "1.2.0",
      "model_name": "LayoutModel",
      "state": {
       "height": "25px",
       "width": "33px"
      }
     },
     "8bbd0db0413940f4879a87ea6c06e0de": {
      "model_module": "@jupyter-widgets/controls",
      "model_module_version": "1.5.0",
      "model_name": "HTMLModel",
      "state": {
       "layout": "IPY_MODEL_30623bbc95fc4c3a890937ee332070a2",
       "style": "IPY_MODEL_2817ade7986546d1a4cf1521f0d9e5ba",
       "value": "<h4>Wins: 2</h4>"
      }
     },
     "8bcb29d05cc348e588a14853c2570f93": {
      "model_module": "@jupyter-widgets/controls",
      "model_module_version": "1.5.0",
      "model_name": "ButtonModel",
      "state": {
       "button_style": "success",
       "description": "Play Again",
       "layout": "IPY_MODEL_3c9cf512ef3c474b9634deb35b9c6c6e",
       "style": "IPY_MODEL_ba213715c1d948fabab43f70cfcf85e4"
      }
     },
     "8be3b96aea7947f6b40204a59aabde7a": {
      "model_module": "@jupyter-widgets/controls",
      "model_module_version": "1.5.0",
      "model_name": "DescriptionStyleModel",
      "state": {
       "description_width": ""
      }
     },
     "8bfcdd63044e45939067f458c3f15282": {
      "model_module": "@jupyter-widgets/controls",
      "model_module_version": "1.5.0",
      "model_name": "ButtonStyleModel",
      "state": {}
     },
     "8bff6cf0a9924b41bb0220e97eb44c9e": {
      "model_module": "@jupyter-widgets/controls",
      "model_module_version": "1.5.0",
      "model_name": "ButtonModel",
      "state": {
       "button_style": "warning",
       "description": "P",
       "layout": "IPY_MODEL_23f1419364ee4e648e1ce29ec88ba407",
       "style": "IPY_MODEL_1b5c018402fc43008c34272819ba3d2b",
       "tooltip": "Click to guess P."
      }
     },
     "8c05db44f82f4c3e948fd47da304ce26": {
      "model_module": "@jupyter-widgets/controls",
      "model_module_version": "1.5.0",
      "model_name": "DescriptionStyleModel",
      "state": {
       "description_width": ""
      }
     },
     "8c5b1ce028ad474482cab5c223fdf81c": {
      "model_module": "@jupyter-widgets/controls",
      "model_module_version": "1.5.0",
      "model_name": "ButtonModel",
      "state": {
       "button_style": "warning",
       "description": "U",
       "disabled": true,
       "layout": "IPY_MODEL_0816747a51ff4814bed76ee0c47f6955",
       "style": "IPY_MODEL_2670184461974a7994ba95eae55e4e07"
      }
     },
     "8c6e7f5f5c754bf59261fe53dee75c47": {
      "model_module": "@jupyter-widgets/controls",
      "model_module_version": "1.5.0",
      "model_name": "ButtonModel",
      "state": {
       "button_style": "warning",
       "description": "P",
       "disabled": true,
       "layout": "IPY_MODEL_3eb3d33dee0847eca22a076348372fe7",
       "style": "IPY_MODEL_991b5881666f42eab11c451b706ea159"
      }
     },
     "8c841ad84a6949748ff52bf4145bd3bd": {
      "model_module": "@jupyter-widgets/base",
      "model_module_version": "1.2.0",
      "model_name": "LayoutModel",
      "state": {
       "height": "25px",
       "width": "33px"
      }
     },
     "8ca8b5ee3e85464ab2034ba51c7300f4": {
      "model_module": "@jupyter-widgets/controls",
      "model_module_version": "1.5.0",
      "model_name": "DescriptionStyleModel",
      "state": {
       "description_width": ""
      }
     },
     "8ca99a40908645899475977ed05d7a32": {
      "model_module": "@jupyter-widgets/base",
      "model_module_version": "1.2.0",
      "model_name": "LayoutModel",
      "state": {
       "height": "25px",
       "width": "33px"
      }
     },
     "8cb65598b9ff4ff588fc1754c1c8b552": {
      "model_module": "@jupyter-widgets/controls",
      "model_module_version": "1.5.0",
      "model_name": "ButtonStyleModel",
      "state": {}
     },
     "8cc2255138e34420be2231b5492c2b02": {
      "model_module": "@jupyter-widgets/controls",
      "model_module_version": "1.5.0",
      "model_name": "ButtonModel",
      "state": {
       "button_style": "warning",
       "description": "H",
       "layout": "IPY_MODEL_c3909af39afd4f718f2a83366bca90b2",
       "style": "IPY_MODEL_e4ecfa2c7f9e4bd2bf6c027503798d55",
       "tooltip": "Click to guess H."
      }
     },
     "8d1acb23506d4e3cbea7c5e03e45efbb": {
      "model_module": "@jupyter-widgets/base",
      "model_module_version": "1.2.0",
      "model_name": "LayoutModel",
      "state": {
       "margin": "0px 0px 0px 100px"
      }
     },
     "8d2ef0fb3a0c449aaa83f0676a321a44": {
      "model_module": "@jupyter-widgets/controls",
      "model_module_version": "1.5.0",
      "model_name": "GridBoxModel",
      "state": {
       "children": [
        "IPY_MODEL_0eee7cc1dc8943ab89d44b15db44783c",
        "IPY_MODEL_0f030a3477cd472190c01a393faa7fab",
        "IPY_MODEL_d7409d0239294ba0ae3029de725a93a0",
        "IPY_MODEL_26b094031ffc4f8c9d6e939f69e62e38"
       ],
       "layout": "IPY_MODEL_e18e0d7455914509a639495f041f573d"
      }
     },
     "8d2f357b559d4aae9f9757c20c2e8fe9": {
      "model_module": "@jupyter-widgets/controls",
      "model_module_version": "1.5.0",
      "model_name": "HTMLModel",
      "state": {
       "layout": "IPY_MODEL_5ef405f7de244f92b5f7878d6ce0e1ee",
       "style": "IPY_MODEL_4dbf10b773494ac18402ab3fa7bb39de",
       "value": "<h3>Player Result</h3>"
      }
     },
     "8d48b01befcb4b2081d6e1cde7e34423": {
      "model_module": "@jupyter-widgets/base",
      "model_module_version": "1.2.0",
      "model_name": "LayoutModel",
      "state": {
       "grid_template_areas": "\"header header header\"\n\"left-sidebar center center\"\n\"footer footer footer\"",
       "grid_template_columns": "1fr 2fr 1fr",
       "grid_template_rows": "1fr 3fr 1fr"
      }
     },
     "8d544dc04d544ad499b95f58fc5d2512": {
      "model_module": "@jupyter-widgets/base",
      "model_module_version": "1.2.0",
      "model_name": "LayoutModel",
      "state": {
       "grid_area": "center"
      }
     },
     "8da1d193a3484e96b5ee0251bab4cc3d": {
      "model_module": "@jupyter-widgets/base",
      "model_module_version": "1.2.0",
      "model_name": "LayoutModel",
      "state": {
       "grid_area": "footer",
       "margin": "-60px 0px 0px 0px"
      }
     },
     "8da1fef4a79c48429dd307c90decd23c": {
      "model_module": "@jupyter-widgets/base",
      "model_module_version": "1.2.0",
      "model_name": "LayoutModel",
      "state": {
       "grid_area": "center"
      }
     },
     "8da7dd1015144731ab88dc43d7f37aad": {
      "model_module": "@jupyter-widgets/base",
      "model_module_version": "1.2.0",
      "model_name": "LayoutModel",
      "state": {
       "height": "25px",
       "width": "33px"
      }
     },
     "8de1cfb2d4284a03b51bded67162b8bf": {
      "model_module": "@jupyter-widgets/base",
      "model_module_version": "1.2.0",
      "model_name": "LayoutModel",
      "state": {
       "height": "25px",
       "width": "33px"
      }
     },
     "8e16338fe68d4839badd0e78d8620095": {
      "model_module": "@jupyter-widgets/base",
      "model_module_version": "1.2.0",
      "model_name": "LayoutModel",
      "state": {
       "height": "25px",
       "width": "33px"
      }
     },
     "8e1b792ef901400fabe2f3c8131e01db": {
      "model_module": "@jupyter-widgets/controls",
      "model_module_version": "1.5.0",
      "model_name": "ButtonModel",
      "state": {
       "button_style": "warning",
       "description": "D",
       "disabled": true,
       "layout": "IPY_MODEL_f60c8d25cfe74cb5997fd823c526f879",
       "style": "IPY_MODEL_cb1b7d5586ff420fab6d00b3a66db280"
      }
     },
     "8e53bff62285445ba2d877f595ca0a66": {
      "model_module": "@jupyter-widgets/controls",
      "model_module_version": "1.5.0",
      "model_name": "DescriptionStyleModel",
      "state": {
       "description_width": ""
      }
     },
     "8e55acf50abd4702971526a183742c84": {
      "model_module": "@jupyter-widgets/base",
      "model_module_version": "1.2.0",
      "model_name": "LayoutModel",
      "state": {
       "height": "25px",
       "width": "33px"
      }
     },
     "8e5d2baabe634c5dbf7db9b6e32bed19": {
      "model_module": "@jupyter-widgets/base",
      "model_module_version": "1.2.0",
      "model_name": "LayoutModel",
      "state": {
       "height": "auto"
      }
     },
     "8e649d4276fc4b53a4d86623aefed672": {
      "model_module": "@jupyter-widgets/controls",
      "model_module_version": "1.5.0",
      "model_name": "ButtonStyleModel",
      "state": {}
     },
     "8e776ad88967422b9f582a3ac29b1ab8": {
      "model_module": "@jupyter-widgets/controls",
      "model_module_version": "1.5.0",
      "model_name": "HBoxModel",
      "state": {
       "children": [
        "IPY_MODEL_d84ebd170b6e4c1682bcbad4f8e69148",
        "IPY_MODEL_c5a63aa667cb48e5bdd0c91b47dc6c2c"
       ],
       "layout": "IPY_MODEL_57e1f1364bea42ed99fe7557a3777b6a"
      }
     },
     "8e8552aafa984bfd88bbf23e5a4855b6": {
      "buffers": [
       {
        "data": "iVBORw0KGgoAAAANSUhEUgAAATQAAAE0CAIAAAAt41jIAAAD0UlEQVR4nO3dMW7DMBAAQTLw/7/MFCnsymkocG3NdGqEg4DFsaLGAAAAgGvM14e11qk5gDHGnM8kfw7OAbwhTogSJ0SJE6LECVHihChxQpQ4IUqcECVOiBInRIkTosQJUeKEKHFClDghSpwQJU6IEidEiROixAlR4oQocUKUOCFKnBAlTogSJ0SJE6LECVHihChxQpQ4IUqcECVOiHqcHuB7vP4wnL3WWqdHOMDm3EOZl7rn5xUnRDnWbnbPA9h17rkz/9icECVOiBInRIkTosQJUeKEKHFClDghSpwQJU6IEidEiROixAlR4oQocUKUOCFKnBAlTohyTckebidhO5sTosQJUeKEKHFClDghSpwQJU6IEidEiROixAlR4oQocUKUOCFKnBAlTogSJ0SJE6LECVHihChxQpQ4IUqcECVOiBInRIkTosQJUeKEKHFClDghSpwQJU6IEidEiROixAlR4oQocUKUOCFKnBAlTogSJ0SJE6LECVHihChxQpQ4IUqcECVOiBInRIkTosQJUeKEKHFClDghSpwQJU6IEidEiROixAlR4oQocUKUOCFKnBAlTogSJ0SJE6LECVHihChxQpQ4IUqcECVOiBInRIkTosQJUeKEKHFClDghSpwQJU6IEidEiROixAlR4oQocUKUOCFKnBAlTogSJ0SJE6LECVHihChxQpQ4IUqcECVOiBInRIkTosQJUeKEKHFClDghSpwQJU6IEidEiROixAlR4oQocUKUOCFKnBAlTogSJ0SJE6LECVHihChxQpQ4IUqcECVOiBInRIkTosQJUeKEKHFClDghSpwQJU6IEidEiROixAlR4oQocUKUOCFKnBAlTogSJ0SJE6LECVHihChxQpQ4IUqcECVOiBInRIkTosQJUeKEKHFClDghSpwQJU6IEidEiROixAlR4oQocUKUOCFKnBAlTogSJ0SJE6LECVHihChxQpQ4IUqcECVOiBInRIkTosQJUeKEKHFClDghSpwQJU6IEidEiROixAlR4oQocUKUOCFKnBAlTogSJ0SJE6LECVHihChxQpQ4IUqcECVOiBInRIkTosQJUeKEKHFClDghSpwQJU6IEidEiROixAlR4oQocUKUOCFKnBAlTogSJ0SJE6LECVHihChxQpQ4IUqcECVOiBInRIkToh6nB+B/c87TI5zX/whrrb0vtDkhSpwQ5Vj7Abafl/gINidEiROixAlR4oQocUKUOCFKnBAlTogSJ0SJE6LECVHihChxQpQ4IUqcECVOiBInRIkTosQJUeKEKHECAAAA3Mwv+9AUZSTGP0IAAAAASUVORK5CYII=",
        "encoding": "base64",
        "path": [
         "value"
        ]
       }
      ],
      "model_module": "@jupyter-widgets/controls",
      "model_module_version": "1.5.0",
      "model_name": "ImageModel",
      "state": {
       "layout": "IPY_MODEL_88af71333313493eaf995b3309d89f14",
       "value": {}
      }
     },
     "8eaad9589ebe43ec8d33d465fa72df7d": {
      "model_module": "@jupyter-widgets/controls",
      "model_module_version": "1.5.0",
      "model_name": "VBoxModel",
      "state": {
       "children": [
        "IPY_MODEL_7ef651216ffb453198d1f5307e20ec8c",
        "IPY_MODEL_9e1d54184de543758f336c36c33d8c92"
       ],
       "layout": "IPY_MODEL_5a0281da7baa4d6eae34a338b998eec0"
      }
     },
     "8ec4b80cf1084085aec2947a6dbaf36a": {
      "model_module": "@jupyter-widgets/controls",
      "model_module_version": "1.5.0",
      "model_name": "HTMLModel",
      "state": {
       "layout": "IPY_MODEL_b57452b2fa6e42bbb657bd58ca0dea8c",
       "style": "IPY_MODEL_747baec7ee404e06b2cb494ebfffeab7",
       "value": "<h4>Wins: 0</h4>"
      }
     },
     "8edb58722eb54168a9291c4f73d15d66": {
      "model_module": "@jupyter-widgets/controls",
      "model_module_version": "1.5.0",
      "model_name": "ButtonModel",
      "state": {
       "button_style": "warning",
       "description": "N",
       "layout": "IPY_MODEL_12d9490e03024d1d9afb5f3a5fbf857e",
       "style": "IPY_MODEL_02582daa99634c8e8e21a08c9536fc7b",
       "tooltip": "Click to guess N."
      }
     },
     "8f0ad79e8ca14dc88ec8e5f67edc9073": {
      "model_module": "@jupyter-widgets/base",
      "model_module_version": "1.2.0",
      "model_name": "LayoutModel",
      "state": {
       "grid_area": "center"
      }
     },
     "8f16023ea5ae48ff96fbc8f7c5de6a59": {
      "model_module": "@jupyter-widgets/controls",
      "model_module_version": "1.5.0",
      "model_name": "HTMLModel",
      "state": {
       "layout": "IPY_MODEL_4ef8d5a184d9485b8058b9cc4dc7a767",
       "style": "IPY_MODEL_b73e022d804946f1863da773b7e7ef89",
       "value": "<h4>Wins: 1</h4>"
      }
     },
     "8f5d48a4425c4b51b0c361f84df33f48": {
      "model_module": "@jupyter-widgets/controls",
      "model_module_version": "1.5.0",
      "model_name": "ButtonModel",
      "state": {
       "button_style": "warning",
       "description": "L",
       "disabled": true,
       "layout": "IPY_MODEL_29d71e8d4512423bb312dd85bb7fa109",
       "style": "IPY_MODEL_007770c9c92640a2848074ceeb3f235e"
      }
     },
     "8f9435030e12473d98c91ef2b4c5403b": {
      "model_module": "@jupyter-widgets/controls",
      "model_module_version": "1.5.0",
      "model_name": "VBoxModel",
      "state": {
       "children": [
        "IPY_MODEL_5a470d7e319e45c59b15d5f60e54c143",
        "IPY_MODEL_54586e7c8c254c3d9f324ad8115b0287"
       ],
       "layout": "IPY_MODEL_5d65b9f583954b03b73a1fe9751621c6"
      }
     },
     "8fa37883b3a04af3951925114e6a16d7": {
      "model_module": "@jupyter-widgets/controls",
      "model_module_version": "1.5.0",
      "model_name": "HTMLModel",
      "state": {
       "layout": "IPY_MODEL_161f507f9a364bf2bdfef2f023166804",
       "style": "IPY_MODEL_19f7650de867414eb176f8c59a133f8e",
       "value": "<h3>Player Result</h3>"
      }
     },
     "8fec38327e0e4123aa43b7049148520b": {
      "model_module": "@jupyter-widgets/base",
      "model_module_version": "1.2.0",
      "model_name": "LayoutModel",
      "state": {
       "width": "500px"
      }
     },
     "8ff55711d0644a819367cce4698bc56d": {
      "model_module": "@jupyter-widgets/base",
      "model_module_version": "1.2.0",
      "model_name": "LayoutModel",
      "state": {
       "grid_area": "center"
      }
     },
     "8ffee65eb7434d9e89c7d929c52866d2": {
      "model_module": "@jupyter-widgets/controls",
      "model_module_version": "1.5.0",
      "model_name": "VBoxModel",
      "state": {
       "children": [
        "IPY_MODEL_48f7f92efab04e54a650e3f05cba3124"
       ],
       "layout": "IPY_MODEL_852db32add3b4aa0a6d7e3fc281fcbbc"
      }
     },
     "901464465a0e4ca6985e3e8ec504ed7f": {
      "model_module": "@jupyter-widgets/base",
      "model_module_version": "1.2.0",
      "model_name": "LayoutModel",
      "state": {
       "margin": "0px 0px 0px 100px"
      }
     },
     "904d4f36eb6e4322ba371217c4b906b6": {
      "model_module": "@jupyter-widgets/controls",
      "model_module_version": "1.5.0",
      "model_name": "ButtonStyleModel",
      "state": {}
     },
     "90584b5b13194a11a083c65903661351": {
      "model_module": "@jupyter-widgets/base",
      "model_module_version": "1.2.0",
      "model_name": "LayoutModel",
      "state": {
       "height": "25px",
       "width": "33px"
      }
     },
     "906bd5efb7b043589f7413fa5672665d": {
      "model_module": "@jupyter-widgets/base",
      "model_module_version": "1.2.0",
      "model_name": "LayoutModel",
      "state": {
       "grid_template_areas": "\"header header header\"\n\"left-sidebar center center\"\n\"footer footer footer\"",
       "grid_template_columns": "1fr 2fr 1fr",
       "grid_template_rows": "1fr 3fr 1fr"
      }
     },
     "906cc77bf5b3405e9f3b659051ac886a": {
      "model_module": "@jupyter-widgets/base",
      "model_module_version": "1.2.0",
      "model_name": "LayoutModel",
      "state": {
       "height": "25px",
       "width": "33px"
      }
     },
     "907b85691d5b4df99be3306d6c08f060": {
      "model_module": "@jupyter-widgets/controls",
      "model_module_version": "1.5.0",
      "model_name": "GridBoxModel",
      "state": {
       "children": [
        "IPY_MODEL_ff2ef6c758f9467c8f8e9ac0228e555c",
        "IPY_MODEL_fe345c7d79a3475c9cc2724cbc1f4311",
        "IPY_MODEL_a010e58ba87c42fbb24fb5200fefbf8d",
        "IPY_MODEL_f0cc18df55504b38902a32cc26bab5e3"
       ],
       "layout": "IPY_MODEL_ec87d1290a9d459597efb9d0ee003135"
      }
     },
     "9094362035344e9094e18b5fa9c5621f": {
      "model_module": "@jupyter-widgets/controls",
      "model_module_version": "1.5.0",
      "model_name": "DescriptionStyleModel",
      "state": {
       "description_width": ""
      }
     },
     "90c8e5d200564e04ba38f7a17574484e": {
      "model_module": "@jupyter-widgets/base",
      "model_module_version": "1.2.0",
      "model_name": "LayoutModel",
      "state": {
       "grid_area": "header"
      }
     },
     "90d335a0cc89433fafaa1028c6c9b0b4": {
      "model_module": "@jupyter-widgets/controls",
      "model_module_version": "1.5.0",
      "model_name": "HBoxModel",
      "state": {
       "children": [
        "IPY_MODEL_1fef1ecc2cd5461ab1505f486e40853a",
        "IPY_MODEL_2c868dfe29cf4c25a131d7a02724d292"
       ],
       "layout": "IPY_MODEL_db788f68c82e4ad6891534bd6ac14976"
      }
     },
     "90dcd0fbf3cf418e96d5e2e9024c02cd": {
      "model_module": "@jupyter-widgets/controls",
      "model_module_version": "1.5.0",
      "model_name": "DescriptionStyleModel",
      "state": {
       "description_width": ""
      }
     },
     "90ddc6cf16cf430d821e1c87def65642": {
      "model_module": "@jupyter-widgets/base",
      "model_module_version": "1.2.0",
      "model_name": "LayoutModel",
      "state": {
       "margin": "0px 0px 0px 100px"
      }
     },
     "90f400bf3d3b441e8873f2179e86ad45": {
      "model_module": "@jupyter-widgets/controls",
      "model_module_version": "1.5.0",
      "model_name": "VBoxModel",
      "state": {
       "children": [
        "IPY_MODEL_48f7f92efab04e54a650e3f05cba3124"
       ],
       "layout": "IPY_MODEL_c2fa5e6359d845fcbe7a434b8040f14b"
      }
     },
     "91012a06fcbe448498f514b18bf07aeb": {
      "model_module": "@jupyter-widgets/controls",
      "model_module_version": "1.5.0",
      "model_name": "VBoxModel",
      "state": {
       "children": [
        "IPY_MODEL_ec8c93df535e4ae18a1317fe5fb164cd",
        "IPY_MODEL_0f551ba743c34a37bda8ac0d96956164"
       ],
       "layout": "IPY_MODEL_09b2936981fe43dfbb348be02a6562e2"
      }
     },
     "91018d299cc6480b9540202dbae34499": {
      "model_module": "@jupyter-widgets/controls",
      "model_module_version": "1.5.0",
      "model_name": "ButtonStyleModel",
      "state": {}
     },
     "91066ea727264fca8a95baccc1dabd2e": {
      "buffers": [
       {
        "data": "iVBORw0KGgoAAAANSUhEUgAAATQAAAE0CAIAAAAt41jIAAAD0UlEQVR4nO3dMW7DMBAAQTLw/7/MFCnsymkocG3NdGqEg4DFsaLGAAAAgGvM14e11qk5gDHGnM8kfw7OAbwhTogSJ0SJE6LECVHihChxQpQ4IUqcECVOiBInRIkTosQJUeKEKHFClDghSpwQJU6IEidEiROixAlR4oQocUKUOCFKnBAlTogSJ0SJE6LECVHihChxQpQ4IUqcECVOiHqcHuB7vP4wnL3WWqdHOMDm3EOZl7rn5xUnRDnWbnbPA9h17rkz/9icECVOiBInRIkTosQJUeKEKHFClDghSpwQJU6IEidEiROixAlR4oQocUKUOCFKnBAlTohyTckebidhO5sTosQJUeKEKHFClDghSpwQJU6IEidEiROixAlR4oQocUKUOCFKnBAlTogSJ0SJE6LECVHihChxQpQ4IUqcECVOiBInRIkTosQJUeKEKHFClDghSpwQJU6IEidEiROixAlR4oQocUKUOCFKnBAlTogSJ0SJE6LECVHihChxQpQ4IUqcECVOiBInRIkTosQJUeKEKHFClDghSpwQJU6IEidEiROixAlR4oQocUKUOCFKnBAlTogSJ0SJE6LECVHihChxQpQ4IUqcECVOiBInRIkTosQJUeKEKHFClDghSpwQJU6IEidEiROixAlR4oQocUKUOCFKnBAlTogSJ0SJE6LECVHihChxQpQ4IUqcECVOiBInRIkTosQJUeKEKHFClDghSpwQJU6IEidEiROixAlR4oQocUKUOCFKnBAlTogSJ0SJE6LECVHihChxQpQ4IUqcECVOiBInRIkTosQJUeKEKHFClDghSpwQJU6IEidEiROixAlR4oQocUKUOCFKnBAlTogSJ0SJE6LECVHihChxQpQ4IUqcECVOiBInRIkTosQJUeKEKHFClDghSpwQJU6IEidEiROixAlR4oQocUKUOCFKnBAlTogSJ0SJE6LECVHihChxQpQ4IUqcECVOiBInRIkTosQJUeKEKHFClDghSpwQJU6IEidEiROixAlR4oQocUKUOCFKnBAlTogSJ0SJE6LECVHihChxQpQ4IUqcECVOiBInRIkTosQJUeKEKHFClDghSpwQJU6IEidEiROixAlR4oQocUKUOCFKnBAlTogSJ0SJE6LECVHihChxQpQ4IUqcECVOiBInRIkToh6nB+B/c87TI5zX/whrrb0vtDkhSpwQ5Vj7Abafl/gINidEiROixAlR4oQocUKUOCFKnBAlTogSJ0SJE6LECVHihChxQpQ4IUqcECVOiBInRIkTosQJUeKEKHECAAAA3Mwv+9AUZSTGP0IAAAAASUVORK5CYII=",
        "encoding": "base64",
        "path": [
         "value"
        ]
       }
      ],
      "model_module": "@jupyter-widgets/controls",
      "model_module_version": "1.5.0",
      "model_name": "ImageModel",
      "state": {
       "layout": "IPY_MODEL_8d544dc04d544ad499b95f58fc5d2512",
       "value": {}
      }
     },
     "91283cf9fc664381b6f31be37d0906a5": {
      "model_module": "@jupyter-widgets/controls",
      "model_module_version": "1.5.0",
      "model_name": "VBoxModel",
      "state": {
       "children": [
        "IPY_MODEL_a74972c1759c48c1bec9c8331950d363",
        "IPY_MODEL_49b5c27544b44dfe8565aac682c20560"
       ],
       "layout": "IPY_MODEL_e59c6346bb24489eafe4ff84f828d022"
      }
     },
     "912851f5f5db40f397473f052068b2cf": {
      "model_module": "@jupyter-widgets/controls",
      "model_module_version": "1.5.0",
      "model_name": "DropdownModel",
      "state": {
       "_options_labels": [
        "Animals",
        "Car brands",
        "Colors",
        "Countries",
        "Fruits",
        "Shapes"
       ],
       "description": "Category",
       "index": 2,
       "layout": "IPY_MODEL_9be36569fc724c2c81419ede663f5de2",
       "style": "IPY_MODEL_3f1f18743f7d4c1593027bd09c64b4b4"
      }
     },
     "91405eb68d0d4ce3889f7e807ff065f3": {
      "model_module": "@jupyter-widgets/base",
      "model_module_version": "1.2.0",
      "model_name": "LayoutModel",
      "state": {
       "grid_area": "center"
      }
     },
     "914cb574ba0a47729f6ecd3c7414d56e": {
      "model_module": "@jupyter-widgets/base",
      "model_module_version": "1.2.0",
      "model_name": "LayoutModel",
      "state": {
       "width": "500px"
      }
     },
     "91876ff97d1b44be829fa00523a801dd": {
      "model_module": "@jupyter-widgets/base",
      "model_module_version": "1.2.0",
      "model_name": "LayoutModel",
      "state": {
       "height": "25px",
       "width": "33px"
      }
     },
     "9197e9e1e03a4b0bac94adcd2e6a2e91": {
      "model_module": "@jupyter-widgets/base",
      "model_module_version": "1.2.0",
      "model_name": "LayoutModel",
      "state": {
       "height": "25px",
       "width": "33px"
      }
     },
     "919acc43805f46e3b96b3c5b0fe66e55": {
      "model_module": "@jupyter-widgets/base",
      "model_module_version": "1.2.0",
      "model_name": "LayoutModel",
      "state": {}
     },
     "91c235e146764206b0a5f2bd487b74e6": {
      "model_module": "@jupyter-widgets/base",
      "model_module_version": "1.2.0",
      "model_name": "LayoutModel",
      "state": {
       "grid_area": "header"
      }
     },
     "91c857f4258541a88456d7e9042bf311": {
      "model_module": "@jupyter-widgets/base",
      "model_module_version": "1.2.0",
      "model_name": "LayoutModel",
      "state": {
       "margin": "0px 0px 0px 100px"
      }
     },
     "91edf5dee30c4d52bd02bef8482449ad": {
      "model_module": "@jupyter-widgets/controls",
      "model_module_version": "1.5.0",
      "model_name": "ButtonStyleModel",
      "state": {}
     },
     "91f1ed2665594651821ef4a981dca932": {
      "model_module": "@jupyter-widgets/base",
      "model_module_version": "1.2.0",
      "model_name": "LayoutModel",
      "state": {
       "height": "25px",
       "width": "33px"
      }
     },
     "91f2cbc21ee24773a125241f9351ac51": {
      "model_module": "@jupyter-widgets/base",
      "model_module_version": "1.2.0",
      "model_name": "LayoutModel",
      "state": {
       "margin": "0px 0px 0px 100px"
      }
     },
     "920f597439ff42c4b966e07c38c628fc": {
      "model_module": "@jupyter-widgets/controls",
      "model_module_version": "1.5.0",
      "model_name": "HTMLModel",
      "state": {
       "layout": "IPY_MODEL_3e3af55b32b34a46ab16ae937461b8ab",
       "style": "IPY_MODEL_44f64039af3b432ba43141150d7831ad",
       "value": "<h1><font color=black>Secret Word:                          _ _ _ _ _ _</h1>"
      }
     },
     "920f609765ab48a794179943a922e707": {
      "model_module": "@jupyter-widgets/base",
      "model_module_version": "1.2.0",
      "model_name": "LayoutModel",
      "state": {
       "width": "500px"
      }
     },
     "921875d7a128426d8f5a6be7b0aad653": {
      "model_module": "@jupyter-widgets/controls",
      "model_module_version": "1.5.0",
      "model_name": "GridBoxModel",
      "state": {
       "children": [
        "IPY_MODEL_2ba076f23008437084739dbcb400be4c",
        "IPY_MODEL_6626e776b9544b2e8ac0055238d9dbde",
        "IPY_MODEL_2420f7546aea4665aa5bec7a78cbc94c",
        "IPY_MODEL_75213edbc6a9472f8fd554a269a55887"
       ],
       "layout": "IPY_MODEL_2f0c8262a1974ab29ad0e0051b3d45b2"
      }
     },
     "9227fbe8f11647899ebf4bc46f250b4e": {
      "model_module": "@jupyter-widgets/controls",
      "model_module_version": "1.5.0",
      "model_name": "DescriptionStyleModel",
      "state": {
       "description_width": ""
      }
     },
     "9238185b0ad740afb85b57b8f284bafa": {
      "model_module": "@jupyter-widgets/base",
      "model_module_version": "1.2.0",
      "model_name": "LayoutModel",
      "state": {}
     },
     "926eecb2ef234de88ad44b666a64a7c9": {
      "model_module": "@jupyter-widgets/controls",
      "model_module_version": "1.5.0",
      "model_name": "HTMLModel",
      "state": {
       "layout": "IPY_MODEL_643d9721ecb64cd495dc041efe95513b",
       "style": "IPY_MODEL_701550d174f9464fa38149a7499656b1",
       "value": "<h3>Click on a letter below to guess the word.</h3>"
      }
     },
     "928ac4035d664d4fb93afed9e487030c": {
      "model_module": "@jupyter-widgets/controls",
      "model_module_version": "1.5.0",
      "model_name": "ButtonStyleModel",
      "state": {}
     },
     "92925e44cfb84caca61c2ac21afae92e": {
      "model_module": "@jupyter-widgets/base",
      "model_module_version": "1.2.0",
      "model_name": "LayoutModel",
      "state": {
       "height": "25px",
       "width": "33px"
      }
     },
     "929795e44aa74bb79f2a0e9765549028": {
      "model_module": "@jupyter-widgets/base",
      "model_module_version": "1.2.0",
      "model_name": "LayoutModel",
      "state": {
       "grid_area": "center"
      }
     },
     "92a0f740c43c4f3a8d77e1eb1d8f61f6": {
      "model_module": "@jupyter-widgets/base",
      "model_module_version": "1.2.0",
      "model_name": "LayoutModel",
      "state": {}
     },
     "92ad0045fc31460f81d2ee61e836d2eb": {
      "model_module": "@jupyter-widgets/base",
      "model_module_version": "1.2.0",
      "model_name": "LayoutModel",
      "state": {
       "height": "auto"
      }
     },
     "92b141e6ffb04f789b28d54f2838a827": {
      "model_module": "@jupyter-widgets/base",
      "model_module_version": "1.2.0",
      "model_name": "LayoutModel",
      "state": {
       "grid_area": "header"
      }
     },
     "92b3a00a9bde4808889f718a4d4b40dd": {
      "model_module": "@jupyter-widgets/controls",
      "model_module_version": "1.5.0",
      "model_name": "DescriptionStyleModel",
      "state": {
       "description_width": ""
      }
     },
     "92d853658e99406c98c691a7c7d66668": {
      "model_module": "@jupyter-widgets/controls",
      "model_module_version": "1.5.0",
      "model_name": "ButtonStyleModel",
      "state": {}
     },
     "92e383f545ae49e0a0fa0e9b9fa6a3f6": {
      "model_module": "@jupyter-widgets/controls",
      "model_module_version": "1.5.0",
      "model_name": "VBoxModel",
      "state": {
       "children": [
        "IPY_MODEL_4ed3713c461a486089cd440b45447cc2",
        "IPY_MODEL_d15d1824ce2342dba253056e4f5aabeb",
        "IPY_MODEL_43ee66e67ca84c9599daae248533962a"
       ],
       "layout": "IPY_MODEL_bd64aa5ecb4a4e8eb9ae58a1b8c044f0"
      }
     },
     "93096af63b014f918cc514654784106f": {
      "model_module": "@jupyter-widgets/base",
      "model_module_version": "1.2.0",
      "model_name": "LayoutModel",
      "state": {
       "margin": "20px 0px 0px 20px"
      }
     },
     "9314458ee8654422a6312fe2ee3026c0": {
      "model_module": "@jupyter-widgets/controls",
      "model_module_version": "1.5.0",
      "model_name": "ButtonModel",
      "state": {
       "button_style": "warning",
       "description": "J",
       "disabled": true,
       "layout": "IPY_MODEL_50a2a608c1f341a1a717a310e4e8906a",
       "style": "IPY_MODEL_e9f593e1ae6c4b178bf2b9b6ebf7d18f"
      }
     },
     "93230341e773407186782ea65884df70": {
      "model_module": "@jupyter-widgets/controls",
      "model_module_version": "1.5.0",
      "model_name": "ButtonModel",
      "state": {
       "button_style": "warning",
       "description": "J",
       "layout": "IPY_MODEL_f8d42e0c32844d0097674b11011a099f",
       "style": "IPY_MODEL_904d4f36eb6e4322ba371217c4b906b6",
       "tooltip": "Click to guess J."
      }
     },
     "93346fb52edf4f08bac400d1293e417b": {
      "model_module": "@jupyter-widgets/base",
      "model_module_version": "1.2.0",
      "model_name": "LayoutModel",
      "state": {
       "grid_template_areas": "\"header header header\"\n\"left-sidebar center center\"\n\"footer footer footer\"",
       "grid_template_columns": "1fr 2fr 1fr",
       "grid_template_rows": "1fr 3fr 1fr"
      }
     },
     "934b118ce16a46b3a23917cb0e8ddf99": {
      "model_module": "@jupyter-widgets/controls",
      "model_module_version": "1.5.0",
      "model_name": "DescriptionStyleModel",
      "state": {
       "description_width": ""
      }
     },
     "934e1fed3d004a18a801ebabf9d693f3": {
      "model_module": "@jupyter-widgets/base",
      "model_module_version": "1.2.0",
      "model_name": "LayoutModel",
      "state": {
       "grid_area": "footer",
       "margin": "-60px 0px 0px 0px"
      }
     },
     "9356f98a18394e2d92cf5ffd8320bf94": {
      "model_module": "@jupyter-widgets/controls",
      "model_module_version": "1.5.0",
      "model_name": "VBoxModel",
      "state": {
       "children": [
        "IPY_MODEL_26b0dbf1b97e494aa20c00fe41dfd40e",
        "IPY_MODEL_09958d7b529b4b889ce822557a25da2c",
        "IPY_MODEL_cdb0cc3c9dfe4cfea40213efca4271f0"
       ],
       "layout": "IPY_MODEL_02c1f58e970045dc83649b2cc3c071db"
      }
     },
     "935efe69b8fa41b4828f94d4ce12bd0c": {
      "model_module": "@jupyter-widgets/controls",
      "model_module_version": "1.5.0",
      "model_name": "ButtonModel",
      "state": {
       "button_style": "warning",
       "description": "N",
       "layout": "IPY_MODEL_2d82058f79f648ca8b7f0897db80dd8b",
       "style": "IPY_MODEL_743aa70e74d74ff89291f2a1b5daebda",
       "tooltip": "Click to guess N."
      }
     },
     "93611e00c3254bd492e9ab5dd5ea1235": {
      "model_module": "@jupyter-widgets/controls",
      "model_module_version": "1.5.0",
      "model_name": "DescriptionStyleModel",
      "state": {
       "description_width": ""
      }
     },
     "938070c54039433387459c685b186bc2": {
      "model_module": "@jupyter-widgets/base",
      "model_module_version": "1.2.0",
      "model_name": "LayoutModel",
      "state": {
       "grid_area": "header"
      }
     },
     "9397e173ef284f48bcfe3bebb7607faf": {
      "model_module": "@jupyter-widgets/controls",
      "model_module_version": "1.5.0",
      "model_name": "HTMLModel",
      "state": {
       "layout": "IPY_MODEL_674fa8d3af7e4fc0aaed27b55a85e760",
       "style": "IPY_MODEL_850126d6757d4b418629230c7693b055",
       "value": "<h2><font color='black'>Remaining Guesses:                          2</h2>"
      }
     },
     "93cbdd04e6644fa7b2d80a0e52afe44a": {
      "model_module": "@jupyter-widgets/controls",
      "model_module_version": "1.5.0",
      "model_name": "HBoxModel",
      "state": {
       "children": [
        "IPY_MODEL_51c21e843b5644fb8217a8e5654cc71b",
        "IPY_MODEL_68f4cbdc998e4bc3a263223d31de5231",
        "IPY_MODEL_1501c5672fd944499a6c2f9322a2f6ae",
        "IPY_MODEL_45404ad5e2e4425b9948932fa347f2f5",
        "IPY_MODEL_b0526f76bba242d691bec2e58a7c1baa",
        "IPY_MODEL_dcf4ea56938f47c4837f1d68cc6c9b02",
        "IPY_MODEL_e5b67b6769c54d5d8d42bd7b69fb00ce",
        "IPY_MODEL_2f8c14e5dfee4406a2781586b37c8375",
        "IPY_MODEL_96798e18ece14ada86a1de1fa0fcadb1",
        "IPY_MODEL_53b16a39f5974ba49f7925ebcff84e86",
        "IPY_MODEL_131039e883e2403ebb5d476ef5754d07",
        "IPY_MODEL_d0923b79d38041929cfe4f26b532c277",
        "IPY_MODEL_54a88f7241c3478fa7a5d05fc6d60e99",
        "IPY_MODEL_f089e6adebc64b50a6b1256ed4ef5e51",
        "IPY_MODEL_f025efa9dfa946c5ad395ea111b41a35",
        "IPY_MODEL_70f347e804c44296b1956456f70a3009",
        "IPY_MODEL_67d130a322b1419e8c95d68bf14d5dd5",
        "IPY_MODEL_e5f0b29883884c6397cc818f0cac653a",
        "IPY_MODEL_c6e77557579242f9a3f01d13c8031f30",
        "IPY_MODEL_38b4312a584e49e1bc96113b4ff504ce",
        "IPY_MODEL_0c7636833f0b40ceb87994ca711a07b3",
        "IPY_MODEL_aa6dbcb76fd6404bb8e7cf404dea800d",
        "IPY_MODEL_f642a38abbf540f099cbe414ea8fd92f",
        "IPY_MODEL_ed2cf11ed00247d6b8fadd6d9bbbb00c",
        "IPY_MODEL_b33bff05fbe14c05a2c475ac7016eb72",
        "IPY_MODEL_a4edd3b195f94c96879d53054063c662"
       ],
       "layout": "IPY_MODEL_92a0f740c43c4f3a8d77e1eb1d8f61f6"
      }
     },
     "93f14873548543efa568b6196af8ce7d": {
      "model_module": "@jupyter-widgets/base",
      "model_module_version": "1.2.0",
      "model_name": "LayoutModel",
      "state": {
       "height": "25px",
       "width": "33px"
      }
     },
     "93faaf54a0254f5b95c714a4ec066bd0": {
      "model_module": "@jupyter-widgets/controls",
      "model_module_version": "1.5.0",
      "model_name": "ButtonModel",
      "state": {
       "button_style": "warning",
       "description": "F",
       "disabled": true,
       "layout": "IPY_MODEL_7b3336c58de7440f9389bca11a393726",
       "style": "IPY_MODEL_0d78d53340d74f76b71301bb6a43e7e1"
      }
     },
     "9400fc54e7c541c6ab40c96340d20bad": {
      "model_module": "@jupyter-widgets/controls",
      "model_module_version": "1.5.0",
      "model_name": "HBoxModel",
      "state": {
       "children": [
        "IPY_MODEL_a1ab71e07df54724a8d6d4ac0e74de36",
        "IPY_MODEL_097c383541c045c38a742c6e1af88353",
        "IPY_MODEL_862bead882314d9888750a2d27c328fb",
        "IPY_MODEL_766271bf7ad8474fb2927cd7740f155b",
        "IPY_MODEL_1a15511b55954075b625eede3c2d67f2",
        "IPY_MODEL_626b79d5b4634959862b9a24dfcd4694",
        "IPY_MODEL_a2360c8d87114d5fa020e5c8fbce96a6",
        "IPY_MODEL_1fa14657ddac4bb3b63fdd69caea3f34",
        "IPY_MODEL_d5a5e5c4bee545bb8ec076a62971e83d",
        "IPY_MODEL_93230341e773407186782ea65884df70",
        "IPY_MODEL_9b347d0602a144cab729bb7f9651dfe3",
        "IPY_MODEL_a3ce5d5477d3457e9b5df20406ce3d94",
        "IPY_MODEL_9755b4de285f4394a1ac43c9bbbd8b6c",
        "IPY_MODEL_8edb58722eb54168a9291c4f73d15d66",
        "IPY_MODEL_bc396e5a5dee406eaf2a2b0b5f1c8623",
        "IPY_MODEL_630e922443084b3ca6a7dc958d741b9c",
        "IPY_MODEL_40a80253fcce433ba2aab909439615d2",
        "IPY_MODEL_c212079f3c75412fb2d7d19d8fe49d54",
        "IPY_MODEL_16331c49fdee4fd3a50d3f8c87001c59",
        "IPY_MODEL_97f8851d810941229fc43d7cfdaa370f",
        "IPY_MODEL_013e142eb3e744dcbfd7c98d0889af5e",
        "IPY_MODEL_4704bf41797448c0a1a5d6ae7db56061",
        "IPY_MODEL_6771c9ab49814321ae5bfd0a4f1cba5f",
        "IPY_MODEL_c35c5596b6394bfeadc2f3f46fecdf0d",
        "IPY_MODEL_63404f0119734e9c9d935ac0cd3e5e13",
        "IPY_MODEL_3f0431a3982747a2a1c03719d1c62e9e"
       ],
       "layout": "IPY_MODEL_539c1d78d37449ddacaa6aea41429510"
      }
     },
     "9410317e01dd4b1d89407c11bebdf98c": {
      "model_module": "@jupyter-widgets/controls",
      "model_module_version": "1.5.0",
      "model_name": "DescriptionStyleModel",
      "state": {
       "description_width": ""
      }
     },
     "941a44a51f40453c8e15c9eeb8532158": {
      "buffers": [
       {
        "data": "iVBORw0KGgoAAAANSUhEUgAAATQAAAE0CAIAAAAt41jIAAAD0UlEQVR4nO3dMW7DMBAAQTLw/7/MFCnsymkocG3NdGqEg4DFsaLGAAAAgGvM14e11qk5gDHGnM8kfw7OAbwhTogSJ0SJE6LECVHihChxQpQ4IUqcECVOiBInRIkTosQJUeKEKHFClDghSpwQJU6IEidEiROixAlR4oQocUKUOCFKnBAlTogSJ0SJE6LECVHihChxQpQ4IUqcECVOiHqcHuB7vP4wnL3WWqdHOMDm3EOZl7rn5xUnRDnWbnbPA9h17rkz/9icECVOiBInRIkTosQJUeKEKHFClDghSpwQJU6IEidEiROixAlR4oQocUKUOCFKnBAlTohyTckebidhO5sTosQJUeKEKHFClDghSpwQJU6IEidEiROixAlR4oQocUKUOCFKnBAlTogSJ0SJE6LECVHihChxQpQ4IUqcECVOiBInRIkTosQJUeKEKHFClDghSpwQJU6IEidEiROixAlR4oQocUKUOCFKnBAlTogSJ0SJE6LECVHihChxQpQ4IUqcECVOiBInRIkTosQJUeKEKHFClDghSpwQJU6IEidEiROixAlR4oQocUKUOCFKnBAlTogSJ0SJE6LECVHihChxQpQ4IUqcECVOiBInRIkTosQJUeKEKHFClDghSpwQJU6IEidEiROixAlR4oQocUKUOCFKnBAlTogSJ0SJE6LECVHihChxQpQ4IUqcECVOiBInRIkTosQJUeKEKHFClDghSpwQJU6IEidEiROixAlR4oQocUKUOCFKnBAlTogSJ0SJE6LECVHihChxQpQ4IUqcECVOiBInRIkTosQJUeKEKHFClDghSpwQJU6IEidEiROixAlR4oQocUKUOCFKnBAlTogSJ0SJE6LECVHihChxQpQ4IUqcECVOiBInRIkTosQJUeKEKHFClDghSpwQJU6IEidEiROixAlR4oQocUKUOCFKnBAlTogSJ0SJE6LECVHihChxQpQ4IUqcECVOiBInRIkTosQJUeKEKHFClDghSpwQJU6IEidEiROixAlR4oQocUKUOCFKnBAlTogSJ0SJE6LECVHihChxQpQ4IUqcECVOiBInRIkTosQJUeKEKHFClDghSpwQJU6IEidEiROixAlR4oQocUKUOCFKnBAlTogSJ0SJE6LECVHihChxQpQ4IUqcECVOiBInRIkToh6nB+B/c87TI5zX/whrrb0vtDkhSpwQ5Vj7Abafl/gINidEiROixAlR4oQocUKUOCFKnBAlTogSJ0SJE6LECVHihChxQpQ4IUqcECVOiBInRIkTosQJUeKEKHECAAAA3Mwv+9AUZSTGP0IAAAAASUVORK5CYII=",
        "encoding": "base64",
        "path": [
         "value"
        ]
       }
      ],
      "model_module": "@jupyter-widgets/controls",
      "model_module_version": "1.5.0",
      "model_name": "ImageModel",
      "state": {
       "layout": "IPY_MODEL_9d07e48b165441fa849b247aede492be"
      }
     },
     "944a78901aec49068f5e76394f556633": {
      "model_module": "@jupyter-widgets/controls",
      "model_module_version": "1.5.0",
      "model_name": "VBoxModel",
      "state": {
       "children": [
        "IPY_MODEL_6b6c6f662d584803aac96eb17d66edcd",
        "IPY_MODEL_e248b610ef2248c19277bbf2bb254286",
        "IPY_MODEL_d33ef599ee844c1497db3f31494a5db3"
       ],
       "layout": "IPY_MODEL_29557cbf40484d5eab4aed69f7bdfa9b"
      }
     },
     "946373fbf5f14365862986f7910fa4b7": {
      "model_module": "@jupyter-widgets/controls",
      "model_module_version": "1.5.0",
      "model_name": "VBoxModel",
      "state": {
       "children": [
        "IPY_MODEL_7b004c5475094dfa8ca8c77cce31c05b",
        "IPY_MODEL_239816c8899448609684e9d87873f806"
       ],
       "layout": "IPY_MODEL_5eec604e0c9048bf9773982d422acdf1"
      }
     },
     "9495a3d5e79440a0af2c6b940d4c9b08": {
      "model_module": "@jupyter-widgets/controls",
      "model_module_version": "1.5.0",
      "model_name": "ButtonModel",
      "state": {
       "button_style": "warning",
       "description": "T",
       "disabled": true,
       "layout": "IPY_MODEL_f9b19b7330fc42039a1f5acf22078ebb",
       "style": "IPY_MODEL_f1f4c9cf4f3d4112be958c8b4162984a"
      }
     },
     "94b102f85a364c27a5d8619471d57d81": {
      "model_module": "@jupyter-widgets/controls",
      "model_module_version": "1.5.0",
      "model_name": "VBoxModel",
      "state": {
       "children": [
        "IPY_MODEL_f2ea513f072d43e0b474a2de682d1245",
        "IPY_MODEL_20154f7cacda48caa88ab4586e432ce3"
       ],
       "layout": "IPY_MODEL_b3d87acc79394f219044b12726db79d3"
      }
     },
     "94b602e6f4c14bd59285e3edca2353ab": {
      "model_module": "@jupyter-widgets/controls",
      "model_module_version": "1.5.0",
      "model_name": "ButtonStyleModel",
      "state": {}
     },
     "94cebb387f7c419c9f71b06dc0a49ace": {
      "model_module": "@jupyter-widgets/base",
      "model_module_version": "1.2.0",
      "model_name": "LayoutModel",
      "state": {
       "height": "25px",
       "width": "33px"
      }
     },
     "94d8699bdc8345c682dcfb466ab7dbd7": {
      "model_module": "@jupyter-widgets/base",
      "model_module_version": "1.2.0",
      "model_name": "LayoutModel",
      "state": {
       "height": "25px",
       "width": "33px"
      }
     },
     "94d8749e063942d398d4cc1c80a5fb13": {
      "model_module": "@jupyter-widgets/controls",
      "model_module_version": "1.5.0",
      "model_name": "HTMLModel",
      "state": {
       "layout": "IPY_MODEL_69572efbfe1d4d61990643b16a61371d",
       "style": "IPY_MODEL_326ed2002b17458d9eb99112c2e139fc",
       "value": "<h1><font color=black>Secret Word:                          _ o _ _ e</h1>"
      }
     },
     "94f0f613426c4ccfbeaba030d3771623": {
      "model_module": "@jupyter-widgets/base",
      "model_module_version": "1.2.0",
      "model_name": "LayoutModel",
      "state": {
       "grid_area": "header"
      }
     },
     "951796703d81426cbe748b72c0c61a58": {
      "model_module": "@jupyter-widgets/base",
      "model_module_version": "1.2.0",
      "model_name": "LayoutModel",
      "state": {}
     },
     "951f71bf2d8648ddadf56d721cdfe4e8": {
      "model_module": "@jupyter-widgets/base",
      "model_module_version": "1.2.0",
      "model_name": "LayoutModel",
      "state": {
       "height": "25px",
       "width": "33px"
      }
     },
     "951f73ce64cb4fc5a09de280dcda7f55": {
      "model_module": "@jupyter-widgets/controls",
      "model_module_version": "1.5.0",
      "model_name": "HBoxModel",
      "state": {
       "children": [
        "IPY_MODEL_34b2179208b5454da4d06a7ed3867ab5",
        "IPY_MODEL_f71f4eb27e6b4954b2163f47cf2da042"
       ],
       "layout": "IPY_MODEL_3e42267ccf104c7eade4be520ab60d37"
      }
     },
     "95384842ab04473d9cfb2bab5cb2d6fd": {
      "model_module": "@jupyter-widgets/controls",
      "model_module_version": "1.5.0",
      "model_name": "ButtonModel",
      "state": {
       "button_style": "warning",
       "description": "O",
       "disabled": true,
       "layout": "IPY_MODEL_c77a8d11728f491aae8f5d19f33f41ca",
       "style": "IPY_MODEL_a9a5332ca1a1492f88275a5a39947bdf"
      }
     },
     "954261488b4a4e5fac33a6f06afb69ed": {
      "model_module": "@jupyter-widgets/base",
      "model_module_version": "1.2.0",
      "model_name": "LayoutModel",
      "state": {
       "margin": "0px 0px 0px 70px"
      }
     },
     "955ed17439f34065b7bf59fd038e3eeb": {
      "model_module": "@jupyter-widgets/base",
      "model_module_version": "1.2.0",
      "model_name": "LayoutModel",
      "state": {
       "grid_area": "left-sidebar"
      }
     },
     "958bdd441da24a8d9cd0f9027f89a7d5": {
      "model_module": "@jupyter-widgets/controls",
      "model_module_version": "1.5.0",
      "model_name": "HTMLModel",
      "state": {
       "layout": "IPY_MODEL_91c857f4258541a88456d7e9042bf311",
       "style": "IPY_MODEL_b007bd20296847e2857fed20dd021c3b",
       "value": "<h4>Games: 3</h4>"
      }
     },
     "959dafe000cc480a9d049d85e600c4a4": {
      "model_module": "@jupyter-widgets/base",
      "model_module_version": "1.2.0",
      "model_name": "LayoutModel",
      "state": {
       "grid_area": "center"
      }
     },
     "95dab46fd7794a6ca63064a5e42f933d": {
      "model_module": "@jupyter-widgets/controls",
      "model_module_version": "1.5.0",
      "model_name": "ButtonModel",
      "state": {
       "button_style": "warning",
       "description": "A",
       "disabled": true,
       "layout": "IPY_MODEL_da6beb69302c4ac092939647841e84b2",
       "style": "IPY_MODEL_7930dbf9698940bab04d94e53cab3eb5"
      }
     },
     "95ebad30c83d4bb39ab9b77db1c89fe2": {
      "model_module": "@jupyter-widgets/base",
      "model_module_version": "1.2.0",
      "model_name": "LayoutModel",
      "state": {
       "margin": "20px 0px 0px 20px"
      }
     },
     "960f40f0bf4c4f68ba574301db577f76": {
      "model_module": "@jupyter-widgets/controls",
      "model_module_version": "1.5.0",
      "model_name": "ButtonModel",
      "state": {
       "button_style": "warning",
       "description": "A",
       "layout": "IPY_MODEL_6d49d98291dd4b0a974254670baa7043",
       "style": "IPY_MODEL_1c4a3d9ed0d84c7a89396307611aa34f",
       "tooltip": "Click to guess A."
      }
     },
     "96149aac75ec40a694afbf2b1e9d65f5": {
      "model_module": "@jupyter-widgets/base",
      "model_module_version": "1.2.0",
      "model_name": "LayoutModel",
      "state": {
       "width": "500px"
      }
     },
     "961b84c941534820af6768c42b50bf3c": {
      "model_module": "@jupyter-widgets/base",
      "model_module_version": "1.2.0",
      "model_name": "LayoutModel",
      "state": {}
     },
     "964da9c553a4485a98ffd93efd62d4f4": {
      "model_module": "@jupyter-widgets/base",
      "model_module_version": "1.2.0",
      "model_name": "LayoutModel",
      "state": {
       "margin": "0px 0px 0px 100px"
      }
     },
     "96642cdc96614f3ead629751feeacd97": {
      "model_module": "@jupyter-widgets/controls",
      "model_module_version": "1.5.0",
      "model_name": "DescriptionStyleModel",
      "state": {
       "description_width": ""
      }
     },
     "9672f36720f949f3aac16d5de31a9723": {
      "model_module": "@jupyter-widgets/controls",
      "model_module_version": "1.5.0",
      "model_name": "ButtonStyleModel",
      "state": {}
     },
     "96798e18ece14ada86a1de1fa0fcadb1": {
      "model_module": "@jupyter-widgets/controls",
      "model_module_version": "1.5.0",
      "model_name": "ButtonModel",
      "state": {
       "button_style": "warning",
       "description": "I",
       "disabled": true,
       "layout": "IPY_MODEL_c38a2ef15ab648f7ae4a731258848edc",
       "style": "IPY_MODEL_ee45aae2ddc442f6abe46bb9dbfb6820"
      }
     },
     "96aea9e01cdf47cfa5f1d562d1f9bb8c": {
      "model_module": "@jupyter-widgets/controls",
      "model_module_version": "1.5.0",
      "model_name": "ButtonModel",
      "state": {
       "button_style": "warning",
       "description": "C",
       "layout": "IPY_MODEL_0cfc2b7f2d8042179cae5288bae11fc5",
       "style": "IPY_MODEL_96f9c54cc3384049b38652876ac71d2c",
       "tooltip": "Click to guess C."
      }
     },
     "96c2407570604f87817b532250b55398": {
      "model_module": "@jupyter-widgets/controls",
      "model_module_version": "1.5.0",
      "model_name": "ButtonStyleModel",
      "state": {}
     },
     "96d0b3c91b8648209487c4b20d2f0f51": {
      "model_module": "@jupyter-widgets/controls",
      "model_module_version": "1.5.0",
      "model_name": "DescriptionStyleModel",
      "state": {
       "description_width": ""
      }
     },
     "96dd412f528644058f14d4e57c3724a8": {
      "model_module": "@jupyter-widgets/controls",
      "model_module_version": "1.5.0",
      "model_name": "DescriptionStyleModel",
      "state": {
       "description_width": ""
      }
     },
     "96f9c54cc3384049b38652876ac71d2c": {
      "model_module": "@jupyter-widgets/controls",
      "model_module_version": "1.5.0",
      "model_name": "ButtonStyleModel",
      "state": {}
     },
     "971c71c089f345789f57acb54345a24d": {
      "model_module": "@jupyter-widgets/controls",
      "model_module_version": "1.5.0",
      "model_name": "ButtonModel",
      "state": {
       "button_style": "warning",
       "description": "G",
       "disabled": true,
       "layout": "IPY_MODEL_a3328399750145eb94e2e8c0fac198f6",
       "style": "IPY_MODEL_49cc06280be64f94b22a43b88aeaaa60"
      }
     },
     "97221b1512fa41a9b648c17163efcfa7": {
      "model_module": "@jupyter-widgets/controls",
      "model_module_version": "1.5.0",
      "model_name": "HTMLModel",
      "state": {
       "layout": "IPY_MODEL_6de8fc0aed364f8c89e8c5a469e51d2c",
       "style": "IPY_MODEL_d8a4199fc1e24a7d9312af94259f37c8",
       "value": "<h3>Click on a letter below to guess the word.</h3>"
      }
     },
     "9755b4de285f4394a1ac43c9bbbd8b6c": {
      "model_module": "@jupyter-widgets/controls",
      "model_module_version": "1.5.0",
      "model_name": "ButtonModel",
      "state": {
       "button_style": "warning",
       "description": "M",
       "layout": "IPY_MODEL_eeaba777d6d4483ba09ec1f90d88327b",
       "style": "IPY_MODEL_5eab9dceaa2942849ed86c5e115926c1",
       "tooltip": "Click to guess M."
      }
     },
     "97796b90ce7c4b3bbfd0b065df988a47": {
      "model_module": "@jupyter-widgets/base",
      "model_module_version": "1.2.0",
      "model_name": "LayoutModel",
      "state": {
       "margin": "0px 0px 0px 100px"
      }
     },
     "9788cf52ca6947d69540b7bd98698670": {
      "model_module": "@jupyter-widgets/controls",
      "model_module_version": "1.5.0",
      "model_name": "ButtonModel",
      "state": {
       "button_style": "warning",
       "description": "Z",
       "disabled": true,
       "layout": "IPY_MODEL_5cefc0034a294cf9a701ffd43b7a6cf3",
       "style": "IPY_MODEL_f661b976292749e8a7c4fe374e525008"
      }
     },
     "978da422381f480ebee8d87009bc3767": {
      "model_module": "@jupyter-widgets/controls",
      "model_module_version": "1.5.0",
      "model_name": "DescriptionStyleModel",
      "state": {
       "description_width": ""
      }
     },
     "979e9aed457148829b819696d4f00181": {
      "buffers": [
       {
        "data": "iVBORw0KGgoAAAANSUhEUgAAATQAAAE0CAIAAAAt41jIAAAFCUlEQVR4nO3d0W6iUBRAUZ3M//8y89Ck01EEFJDtsNZTa5QQ052DVe+9XAAAAGAf15+/DMNw1HkAl8vlev2b5K8DzwOYIE6IEidEiROixAlR4oQocUKUOCFKnBAlTogSJ0SJE6LECVHihChxQpQ4IUqcECVOiBInRIkTosQJUeKEKHFClDghSpwQJU6IEidEiROixAlR4oQocUKUOCFKnBAlToj6ffQJ/D9+bhjOtoZhOPoUDmBybkOZuzrn0ytOiHJZu7FzXoDt55wz84vJCVHihChxQpQ4IUqcECVOiBInRIkTosQJUeKEKHFClDghSpwQJU6IEidEiROixAlRVkJY5f57+t+3WBKBlcT5iiVrZ6iUlcT5nJssJ8L7vufXDxLlWeJcanmWP+8gUV4mznnPZnl/Z4nyAv+tnfGzzGEYXuvq5oFnXu6R5cQ55abMlUfTJ08R50Pblnl/HH0yTZzztn2J6AUnC4lz3K7vUn4f0/Bkgjin7DflzE9miXPEOwea4ckj4nxo7+FmeDJNnLfeP8oMT0aJc9x7xprhyQRxQpQ4//H+z77efPgWvokTosQJUeKEKHFClDghSpwQJU6IEidEifMf7/9IgCW/eEScECXOce8Znj61xwRx3nr/FaZrWkaJ86G9x5qxyTRxjnj/t1Lgnjin7DfcjE1miXPcrqtX2h2QJcQ5b9s+zUwWEudDe2ydsMcWD/yvxDll2z6VyVPEOeOmz9cSvXmgMlnC5rnz1myAu2bjXU5OnEs9m6gsWUmczxlNdMlD4FnifMWSd0E1yUriXOW+Uk2yFf+thShxQpQ4IUqcECVOiBInRIkTosQJUeKEKHFClDghSpwQJU6IEidEiROixAlR4oSo08X5iQuuf+I5s94Zlym5/1tPrS0iRb6cMc57B+YqRR45XZz31Y3msVOuC1NMTXKOcro47+2XqxRZQ5wjXs710Y3TB4dR4lxkYa5LHggLifNFN9VZVJrNne59TvgU4oQocUKUOCFKnBAlTogSJ0SJE6LECVHihChxQpQ4IUqcECVOiBInRIkTosQJUeKEKHFClDghSpwQJU6IEidEiROixAlR4oQocUKUOCFKnBAlTogSJ0SJE6LECVHihCjbzm/DbvNszuSEKHFClDghSpwQJU6IEidEiROixAlR4oQocUKUOCFKnBAlTogSJ0SJE6LECVHihChxQpQ4IUqcECVOiBInRIkTosQJUeKEKHFClDghSpwQJU6IEidEiROixAlR4oQocUKUOCFKnBAlTogSJ0SJE6LECVHihChxQpQ4IUqcECVOiBInRIkTosQJUeKEKHFClDghSpwQJU6IEidEiROixAlR4oQocUKUOCFKnBAlTogSJ0SJE6LECVHihChxQpQ4IUqcECVOiBInRIkTosQJUeKEKHFClDghSpwQJU6IEidEiROixAlR4oQocUKUOCFKnBAlTogSJ0SJE6LECVHihChxQpQ4IUqcECVOiBInRIkTosQJUeKEKHFClDghSpwQJU6IEidEiROixAlR4oQocUKUOCFKnBAlTogSJ0SJE6LECVHihChxQpQ4IUqcECVOiPp99Akw73q9Hn0Kx+s/CcMwbHtAkxOixAlRLms/wObXS3wEkxOixAlR4oQocUKUOCFKnBAlTogSJ0SJE6LECVHihChxQpQ4IUqcECVOiBInRIkTosQJUeKEKHFClDgBAAAATuYPhtPmk0ATnPoAAAAASUVORK5CYII=",
        "encoding": "base64",
        "path": [
         "value"
        ]
       }
      ],
      "model_module": "@jupyter-widgets/controls",
      "model_module_version": "1.5.0",
      "model_name": "ImageModel",
      "state": {
       "layout": "IPY_MODEL_09371921e1a34555b3cba800c2c5431a",
       "value": {}
      }
     },
     "97baf4cc40514b6d957dcb321220880e": {
      "model_module": "@jupyter-widgets/controls",
      "model_module_version": "1.5.0",
      "model_name": "HBoxModel",
      "state": {
       "children": [
        "IPY_MODEL_32605bed3d974930a7fec0cfed9fbab2",
        "IPY_MODEL_3bc74c3107934863ba8fc97a0cec8d10"
       ],
       "layout": "IPY_MODEL_9a13474075f7436e8478350d125f822c"
      }
     },
     "97c8603d47154b02bd73f175ea892dcd": {
      "model_module": "@jupyter-widgets/controls",
      "model_module_version": "1.5.0",
      "model_name": "ButtonStyleModel",
      "state": {}
     },
     "97e461736f01445ab6c0b23dc494642d": {
      "model_module": "@jupyter-widgets/controls",
      "model_module_version": "1.5.0",
      "model_name": "HBoxModel",
      "state": {
       "children": [
        "IPY_MODEL_e905b3918dec4f1f8e59ea63f343111a",
        "IPY_MODEL_615bdd8229f7498e971c6079a643e722"
       ],
       "layout": "IPY_MODEL_249ef2be250747d7a0ee37ef3fe1924b"
      }
     },
     "97f8851d810941229fc43d7cfdaa370f": {
      "model_module": "@jupyter-widgets/controls",
      "model_module_version": "1.5.0",
      "model_name": "ButtonModel",
      "state": {
       "button_style": "warning",
       "description": "T",
       "layout": "IPY_MODEL_3e9038aba55e4d5999627dd5230fd3f6",
       "style": "IPY_MODEL_bc41156f92a643ee9515f7a427e7114c",
       "tooltip": "Click to guess T."
      }
     },
     "9807d49e8c754a2d892f43e5e5beaff5": {
      "model_module": "@jupyter-widgets/base",
      "model_module_version": "1.2.0",
      "model_name": "LayoutModel",
      "state": {
       "height": "25px",
       "width": "33px"
      }
     },
     "981f4f71c6d7406eade79ad2d9f225c4": {
      "model_module": "@jupyter-widgets/base",
      "model_module_version": "1.2.0",
      "model_name": "LayoutModel",
      "state": {
       "height": "25px",
       "width": "33px"
      }
     },
     "983e579e2b3e46ee977e7e1b4d24e677": {
      "model_module": "@jupyter-widgets/base",
      "model_module_version": "1.2.0",
      "model_name": "LayoutModel",
      "state": {
       "height": "auto"
      }
     },
     "987cf8bc8b5f4fec89b7eafbc25ec230": {
      "model_module": "@jupyter-widgets/controls",
      "model_module_version": "1.5.0",
      "model_name": "HBoxModel",
      "state": {
       "children": [
        "IPY_MODEL_4e2c46e97c3f4155bf543555de71d0a0",
        "IPY_MODEL_b083764cc4cc4801bb882497dbb89c3a"
       ],
       "layout": "IPY_MODEL_d9208d948990498e95ed775a9f686abb"
      }
     },
     "989b00fa124f4133a1134a11936c256b": {
      "model_module": "@jupyter-widgets/controls",
      "model_module_version": "1.5.0",
      "model_name": "ButtonModel",
      "state": {
       "button_style": "warning",
       "description": "K",
       "layout": "IPY_MODEL_90584b5b13194a11a083c65903661351",
       "style": "IPY_MODEL_07f2662eeae34fd3951f06b89a076ab8",
       "tooltip": "Click to guess K."
      }
     },
     "98b19658ef134d1480f9b4df5a1f2b7f": {
      "model_module": "@jupyter-widgets/base",
      "model_module_version": "1.2.0",
      "model_name": "LayoutModel",
      "state": {
       "height": "25px",
       "width": "33px"
      }
     },
     "98dff8c6ba87470f9d2f2a4668c37855": {
      "model_module": "@jupyter-widgets/controls",
      "model_module_version": "1.5.0",
      "model_name": "DescriptionStyleModel",
      "state": {
       "description_width": ""
      }
     },
     "98edb0905a0d4fc9a8f6215b0e9073ab": {
      "model_module": "@jupyter-widgets/controls",
      "model_module_version": "1.5.0",
      "model_name": "HTMLModel",
      "state": {
       "layout": "IPY_MODEL_c0d553197f1e49e6903265516ab10f06",
       "style": "IPY_MODEL_99fa3e5131a94aa88e33faae1f5c20ef",
       "value": "<h4>Games: 3</h4>"
      }
     },
     "98fb55367e6b4ca48e7d3bf7723a80c5": {
      "model_module": "@jupyter-widgets/controls",
      "model_module_version": "1.5.0",
      "model_name": "ButtonStyleModel",
      "state": {}
     },
     "99042462ac4e49bcb7a505239cff3707": {
      "model_module": "@jupyter-widgets/controls",
      "model_module_version": "1.5.0",
      "model_name": "HTMLModel",
      "state": {
       "layout": "IPY_MODEL_34365043959e4b01bd2dde308ef040d8",
       "style": "IPY_MODEL_c0dc2331928e4eff8e6dbef1080b586a",
       "value": "<h2><font color='black'>Remaining Guesses:                          6</h2>"
      }
     },
     "991b5881666f42eab11c451b706ea159": {
      "model_module": "@jupyter-widgets/controls",
      "model_module_version": "1.5.0",
      "model_name": "ButtonStyleModel",
      "state": {}
     },
     "99411fa3a0e3485d9a28f22651ea8196": {
      "model_module": "@jupyter-widgets/controls",
      "model_module_version": "1.5.0",
      "model_name": "HTMLModel",
      "state": {
       "layout": "IPY_MODEL_ecd04b961fa640a1bd5eedcca864aa35",
       "style": "IPY_MODEL_b08f080a0e6343e1b6ea65acd87c3571",
       "value": "<h3>Click on a letter below to guess the word.</h3>"
      }
     },
     "994b850a796c4286b55d55507cfea1a0": {
      "model_module": "@jupyter-widgets/controls",
      "model_module_version": "1.5.0",
      "model_name": "HTMLModel",
      "state": {
       "layout": "IPY_MODEL_0fbc5297d50149eda76460f3e8df55f5",
       "style": "IPY_MODEL_3f3e8c4e92d8447488aa5700e711f0f4",
       "value": "<h4>Games: 0</h4>"
      }
     },
     "996c4cdb470e455db66b0a82ac1c9c71": {
      "buffers": [
       {
        "data": "iVBORw0KGgoAAAANSUhEUgAAATQAAAE0CAIAAAAt41jIAAAEyUlEQVR4nO3d0W6iUBRAUZ30/3+ZeZjEsYqAArJb13pqGyU3JjsHLXJPJwAAANjH+fqXYRiOWgdwOp3O5/9J/jlwHcAEcUKUOCFKnBAlTogSJ0SJE6LECVHihChxQpQ4IUqcECVOiBInRIkTosQJUeKEKHFClDghSpwQJU6IEidEiROixAlR4oQocUKUOCFKnBAlTogSJ0SJE6LECVHihChxQtTX0Qv4Pa43DGdbwzAcvYQDmJzbUOauPvPlFSdEOa3d2GeegO3nM2fmPyYnRIkTosQJUeKEKHFClDghSpwQJU6IEidEiROixAlR4oQocUKUOCFKnBAlTogSJ0S5E8Iq99/Tv/zFLRFYSZyvWHLvDJWykjifc5PlRHiXR/77QaI8S5xLLc/y+gES5WXinPdslvcPligv8GntjOsyh2F4raubJ37y7R5ZTpxTbspceTR98hRxPrRtmffH0SfTxDlv27eI3nCykDjH7fpfyssxDU8miHPKflPO/GSWOEe8c6AZnjwizof2Hm6GJ9PEeev9o8zwZJQ4x71nrBmeTBAnRInzm/df+3pz8S1ciBOixAlR4oQocUKUOCFKnBAlTogSJ0SJ85v3XxLgll88Ik6IEue49wxPV+0xQZy33n+G6ZyWUeJ8aO+xZmwyTZwj3v+tFLgnzin7DTdjk1niHLfr3SvtDsgS4py3bZ9mJguJ86E9tk7YY4sHfitxTtm2T2XyFHHOuOnztURvnqhMlrB57rw1G+Cu2XiXDyfOpZ5NVJasJM7njCa65CnwLHG+Ysl/QTXJSuJc5b5STbIVn9ZClDghSpwQJU6IEidEiROixAlR4oQocUKUOCFKnBAlTogSJ0SJE6LECVHihChxQpQ4IUqcECVOiBInRIkTosQJUeKEKHFClDghSpwQJU6IEidEiROixAlR4oQocUKUOCFKnBAlTogSJ0SJE6LECVHihChxQpQ4IUqcECVOiBInRIkTosQJUeKEKHFClDghSpwQJU6IEidEiROixAlR4oQocUKUOCFKnBD1dfQCfolhGI5eAr+NyQlR4oQocUKUOCFKnBAlTogSJ0SJE6LECVHihChxQpQ4IUqcECVOiBInRIkTosQJUeKEKHFClDghSpwQJU6IEidEiROixAlR4oQocUKUOCFKnBAlTogSJ0SJE6LECVHihChxQpQ4IUqcECVOiBInRIkTosQJUeKEKHFClDghSpwQJU6IEidEiROixAlR4oQocUKUOCFKnBAlTogSJ0SJE6LECVHihChxQpQ4IUqcECVOiBInRIkTosQJUeKEKHFClDghSpwQJU6IEidEiROixAlR4oQocUKUOCFKnBAlTogSJ0SJE6LECVHihChxQpQ4IUqcECVOiBInRIkTosQJUeKEKHFClDghSpwQJU6IEidEiROixAlR4oQocUKUOCFKnBAlTogSJ0SJE6LECVHihChxQpQ4IUqcECVOiBInRIkTosQJUeKEKHFClDghSpwQ9XX0Aph3Pp+PXsLx+i/CMAzbHtDkhChxQpTT2h9g8/MlfgSTE6LECVHihChxQpQ4IUqcECVOiBInRIkTosQJUeKEKHFClDghSpwQJU6IEidEiROixAlR4oQocUKUOAEAAAA+zF8yMLx8mh5EmQAAAABJRU5ErkJggg==",
        "encoding": "base64",
        "path": [
         "value"
        ]
       }
      ],
      "model_module": "@jupyter-widgets/controls",
      "model_module_version": "1.5.0",
      "model_name": "ImageModel",
      "state": {
       "layout": "IPY_MODEL_3b4529f5cb57458ca5dc0394dfdee0e4"
      }
     },
     "99a7a9f73fe24812ade2b6a56279a0cb": {
      "model_module": "@jupyter-widgets/base",
      "model_module_version": "1.2.0",
      "model_name": "LayoutModel",
      "state": {
       "height": "25px",
       "width": "33px"
      }
     },
     "99a7c473bf6041fea23006e40f40ded5": {
      "model_module": "@jupyter-widgets/controls",
      "model_module_version": "1.5.0",
      "model_name": "ButtonModel",
      "state": {
       "button_style": "warning",
       "description": "B",
       "disabled": true,
       "layout": "IPY_MODEL_b49ff006bc714e948639a818c8199ce4",
       "style": "IPY_MODEL_fe47553a3ba54c0aa1a639c906276874"
      }
     },
     "99fa3e5131a94aa88e33faae1f5c20ef": {
      "model_module": "@jupyter-widgets/controls",
      "model_module_version": "1.5.0",
      "model_name": "DescriptionStyleModel",
      "state": {
       "description_width": ""
      }
     },
     "9a0a994032c34ae281cd18ebf8fc6bc0": {
      "model_module": "@jupyter-widgets/base",
      "model_module_version": "1.2.0",
      "model_name": "LayoutModel",
      "state": {
       "grid_area": "footer",
       "margin": "-60px 0px 0px 0px"
      }
     },
     "9a13474075f7436e8478350d125f822c": {
      "model_module": "@jupyter-widgets/base",
      "model_module_version": "1.2.0",
      "model_name": "LayoutModel",
      "state": {
       "grid_area": "header"
      }
     },
     "9a33e2de76f34f5b8a0d95c93dcb5063": {
      "model_module": "@jupyter-widgets/base",
      "model_module_version": "1.2.0",
      "model_name": "LayoutModel",
      "state": {
       "margin": "0px 0px 0px 100px"
      }
     },
     "9a38d872eaea4021a229f18a89ce71de": {
      "model_module": "@jupyter-widgets/controls",
      "model_module_version": "1.5.0",
      "model_name": "ButtonModel",
      "state": {
       "button_style": "warning",
       "description": "I",
       "disabled": true,
       "layout": "IPY_MODEL_a00306cac8bc4d309f153cdc8ff2492f",
       "style": "IPY_MODEL_91018d299cc6480b9540202dbae34499"
      }
     },
     "9a4f2f59460d418aa157dbbe1723e1de": {
      "model_module": "@jupyter-widgets/controls",
      "model_module_version": "1.5.0",
      "model_name": "HTMLModel",
      "state": {
       "layout": "IPY_MODEL_666d4ba4c70f418bb8410602a284fe9d",
       "style": "IPY_MODEL_98dff8c6ba87470f9d2f2a4668c37855",
       "value": "<h2><font color='black'>Remaining Guesses:                          4</h2>"
      }
     },
     "9a524afa79544b68bcc647e7dd2a7174": {
      "model_module": "@jupyter-widgets/controls",
      "model_module_version": "1.5.0",
      "model_name": "ButtonStyleModel",
      "state": {}
     },
     "9a58d35ebb9b490e8b2749a18fcff24c": {
      "model_module": "@jupyter-widgets/controls",
      "model_module_version": "1.5.0",
      "model_name": "ButtonModel",
      "state": {
       "button_style": "warning",
       "description": "I",
       "layout": "IPY_MODEL_03d3b40a83194a2ea90a865fd47c8718",
       "style": "IPY_MODEL_ae898857e4274476905ea336505e55d0",
       "tooltip": "Click to guess I."
      }
     },
     "9acb5074d502436eab501f1ea787ef11": {
      "model_module": "@jupyter-widgets/controls",
      "model_module_version": "1.5.0",
      "model_name": "ButtonModel",
      "state": {
       "button_style": "warning",
       "description": "S",
       "disabled": true,
       "layout": "IPY_MODEL_514a3999747d4423826a22cbd1f1a41b",
       "style": "IPY_MODEL_01d496417cf7467c9bf55ddad0102be1"
      }
     },
     "9adaf8dfa6784759b8d869e5d051bc0b": {
      "model_module": "@jupyter-widgets/base",
      "model_module_version": "1.2.0",
      "model_name": "LayoutModel",
      "state": {
       "grid_area": "center"
      }
     },
     "9adc0d4235174d87ba2290f96de797e3": {
      "model_module": "@jupyter-widgets/controls",
      "model_module_version": "1.5.0",
      "model_name": "HTMLModel",
      "state": {
       "layout": "IPY_MODEL_4f49a126e08844099e3847d54cf9c140",
       "style": "IPY_MODEL_e85af7fe1ed445a5a85704c9ad327a16",
       "value": "<h4>Games: 0</h4>"
      }
     },
     "9ae0eeb0084f43f6b417570f9d80d2b6": {
      "model_module": "@jupyter-widgets/controls",
      "model_module_version": "1.5.0",
      "model_name": "ButtonStyleModel",
      "state": {}
     },
     "9ae3bf74b2764e839fd10c46cb10bfcc": {
      "model_module": "@jupyter-widgets/base",
      "model_module_version": "1.2.0",
      "model_name": "LayoutModel",
      "state": {
       "height": "25px",
       "width": "33px"
      }
     },
     "9ae649ab976643d4b7744c85c07d374d": {
      "model_module": "@jupyter-widgets/base",
      "model_module_version": "1.2.0",
      "model_name": "LayoutModel",
      "state": {
       "grid_area": "left-sidebar"
      }
     },
     "9affc347c73c4a79b315ef90d1df1242": {
      "model_module": "@jupyter-widgets/base",
      "model_module_version": "1.2.0",
      "model_name": "LayoutModel",
      "state": {
       "margin": "0px 0px 0px 100px"
      }
     },
     "9b17d4b0630b4dfc856958610eb9a5fc": {
      "model_module": "@jupyter-widgets/base",
      "model_module_version": "1.2.0",
      "model_name": "LayoutModel",
      "state": {
       "margin": "0px 0px 0px 70px"
      }
     },
     "9b1f8c3b430c4d0cb5f23d312e31c3ac": {
      "model_module": "@jupyter-widgets/controls",
      "model_module_version": "1.5.0",
      "model_name": "VBoxModel",
      "state": {
       "children": [
        "IPY_MODEL_400455edce554f848268cd0818b53c9e",
        "IPY_MODEL_aa9214ae5f0040c3988b99ddf6fdf6a1",
        "IPY_MODEL_823394d7e498469582245368891de916"
       ],
       "layout": "IPY_MODEL_951796703d81426cbe748b72c0c61a58"
      }
     },
     "9b220dea0a7a4d1cbae2f9a5d261cf00": {
      "model_module": "@jupyter-widgets/base",
      "model_module_version": "1.2.0",
      "model_name": "LayoutModel",
      "state": {
       "margin": "0px 0px 0px 100px"
      }
     },
     "9b221e9be98949008624b257271ee4c0": {
      "model_module": "@jupyter-widgets/controls",
      "model_module_version": "1.5.0",
      "model_name": "ButtonModel",
      "state": {
       "button_style": "warning",
       "description": "Q",
       "disabled": true,
       "layout": "IPY_MODEL_660c7c95c12f4e78a360848b10d17d88",
       "style": "IPY_MODEL_fdf30a15b780443186e70ab59ef05f87"
      }
     },
     "9b347d0602a144cab729bb7f9651dfe3": {
      "model_module": "@jupyter-widgets/controls",
      "model_module_version": "1.5.0",
      "model_name": "ButtonModel",
      "state": {
       "button_style": "warning",
       "description": "K",
       "layout": "IPY_MODEL_c4a88918c6634921b1d19c38b0ec959a",
       "style": "IPY_MODEL_a0938a8f4fb74a0d9a3f168282a4700c",
       "tooltip": "Click to guess K."
      }
     },
     "9b44ee8443474014bdc0feab2681c243": {
      "model_module": "@jupyter-widgets/controls",
      "model_module_version": "1.5.0",
      "model_name": "HTMLModel",
      "state": {
       "layout": "IPY_MODEL_d77a6616465248f5a901f9f53b3853ba",
       "style": "IPY_MODEL_5452ea3c0c1f43019bea6b385406bc70",
       "value": "<h3>Player Result</h3>"
      }
     },
     "9b6dd5a6c09e4c45843293ac755f3434": {
      "model_module": "@jupyter-widgets/controls",
      "model_module_version": "1.5.0",
      "model_name": "VBoxModel",
      "state": {
       "children": [
        "IPY_MODEL_48f7f92efab04e54a650e3f05cba3124"
       ],
       "layout": "IPY_MODEL_a22cd68900b24ab5a8f25701020f3264"
      }
     },
     "9b949b0ae26e4250936f948549b0c0eb": {
      "model_module": "@jupyter-widgets/controls",
      "model_module_version": "1.5.0",
      "model_name": "VBoxModel",
      "state": {
       "children": [
        "IPY_MODEL_5235ff036f534574bb2681cfaec96278",
        "IPY_MODEL_7d5779a3f2004bcc86008d78797e66da",
        "IPY_MODEL_0bdca61173af417b81f85026cb7fc6f5"
       ],
       "layout": "IPY_MODEL_28991d2cddda4dac93555bc7658fb51d"
      }
     },
     "9b9dcf2bb3b345418313cf21d5af7d5c": {
      "model_module": "@jupyter-widgets/controls",
      "model_module_version": "1.5.0",
      "model_name": "HTMLModel",
      "state": {
       "layout": "IPY_MODEL_92ad0045fc31460f81d2ee61e836d2eb",
       "style": "IPY_MODEL_d32251a3639d48e191ced7034f06794a",
       "value": "<h2><font color='black'>Remaining Guesses:                          4</h2>"
      }
     },
     "9bacc9ace87045d0b636f9b07bb24efa": {
      "model_module": "@jupyter-widgets/base",
      "model_module_version": "1.2.0",
      "model_name": "LayoutModel",
      "state": {
       "margin": "20px 0px 0px 20px"
      }
     },
     "9bbfd56253234e77a94e6f17baee8f39": {
      "model_module": "@jupyter-widgets/controls",
      "model_module_version": "1.5.0",
      "model_name": "ButtonModel",
      "state": {
       "button_style": "warning",
       "description": "F",
       "disabled": true,
       "layout": "IPY_MODEL_2f9c0df8ffd24f9e80934388827f1536",
       "style": "IPY_MODEL_6d8b0b5f574244ea8069933c1664a2c3"
      }
     },
     "9bcf3da1035a4928a0991bc6b199aebb": {
      "model_module": "@jupyter-widgets/base",
      "model_module_version": "1.2.0",
      "model_name": "LayoutModel",
      "state": {
       "grid_area": "center"
      }
     },
     "9bdd9717d20448ccb2bef7c70923d148": {
      "model_module": "@jupyter-widgets/controls",
      "model_module_version": "1.5.0",
      "model_name": "VBoxModel",
      "state": {
       "children": [
        "IPY_MODEL_f800dcca262d4de08b6624b23d087a49",
        "IPY_MODEL_1599ac69e5c24baf930eda9016165327",
        "IPY_MODEL_9d177c10393b464fb7cf41d331076673"
       ],
       "layout": "IPY_MODEL_2f9a45dab2c64e24ba7ffea270fb2cf0"
      }
     },
     "9be36569fc724c2c81419ede663f5de2": {
      "model_module": "@jupyter-widgets/base",
      "model_module_version": "1.2.0",
      "model_name": "LayoutModel",
      "state": {
       "height": "auto",
       "width": "180px"
      }
     },
     "9bf82ff69eb349fc89c9d58c325aeb8e": {
      "model_module": "@jupyter-widgets/controls",
      "model_module_version": "1.5.0",
      "model_name": "ButtonStyleModel",
      "state": {}
     },
     "9c0cc690fb67443a95fccdb765e3434e": {
      "model_module": "@jupyter-widgets/controls",
      "model_module_version": "1.5.0",
      "model_name": "HTMLModel",
      "state": {
       "layout": "IPY_MODEL_f1a3ec7f69e94f0d9a45a22905810a99",
       "style": "IPY_MODEL_efd3b8682ef54cccaf657b15a03195af",
       "value": "<h1><font color='blue'> You Win! </h1>"
      }
     },
     "9c26470dac24418baaabb26c027382b5": {
      "model_module": "@jupyter-widgets/controls",
      "model_module_version": "1.5.0",
      "model_name": "ButtonModel",
      "state": {
       "button_style": "warning",
       "description": "O",
       "layout": "IPY_MODEL_a83c1540282543e99c7d479d7608f6d9",
       "style": "IPY_MODEL_f47db670ecdf43e8b76db9eafda606fa",
       "tooltip": "Click to guess O."
      }
     },
     "9c5047641c2649689ba9f1389fe3cfb9": {
      "model_module": "@jupyter-widgets/base",
      "model_module_version": "1.2.0",
      "model_name": "LayoutModel",
      "state": {
       "height": "25px",
       "width": "33px"
      }
     },
     "9c5fe1294ae14fedaf49cc429a050484": {
      "model_module": "@jupyter-widgets/controls",
      "model_module_version": "1.5.0",
      "model_name": "ButtonStyleModel",
      "state": {}
     },
     "9c7ebe1019f74d4d9f88d58187bbc7b7": {
      "model_module": "@jupyter-widgets/base",
      "model_module_version": "1.2.0",
      "model_name": "LayoutModel",
      "state": {
       "margin": "0px 0px 0px 100px"
      }
     },
     "9c9be3a2b4c74371aa0578e35e19580d": {
      "model_module": "@jupyter-widgets/base",
      "model_module_version": "1.2.0",
      "model_name": "LayoutModel",
      "state": {
       "margin": "0px 0px 0px 70px"
      }
     },
     "9ca50de89a1141c9b40ef23d8ad028a1": {
      "model_module": "@jupyter-widgets/base",
      "model_module_version": "1.2.0",
      "model_name": "LayoutModel",
      "state": {}
     },
     "9caf8f12c6464b49a6439038ffd35cdf": {
      "model_module": "@jupyter-widgets/base",
      "model_module_version": "1.2.0",
      "model_name": "LayoutModel",
      "state": {
       "margin": "0px 0px 0px 70px"
      }
     },
     "9cc1f8c9ea9549bc8e4a7e6251dca998": {
      "model_module": "@jupyter-widgets/base",
      "model_module_version": "1.2.0",
      "model_name": "LayoutModel",
      "state": {
       "height": "25px",
       "width": "33px"
      }
     },
     "9cc37ae20b6c49638580bc5e6c01933f": {
      "model_module": "@jupyter-widgets/base",
      "model_module_version": "1.2.0",
      "model_name": "LayoutModel",
      "state": {
       "grid_template_areas": "\"header header header\"\n\"left-sidebar center center\"\n\"footer footer footer\"",
       "grid_template_columns": "1fr 2fr 1fr",
       "grid_template_rows": "1fr 3fr 1fr"
      }
     },
     "9cdd3c2ce54d46f7bd5041469ef22746": {
      "model_module": "@jupyter-widgets/controls",
      "model_module_version": "1.5.0",
      "model_name": "ButtonModel",
      "state": {
       "button_style": "warning",
       "description": "G",
       "disabled": true,
       "layout": "IPY_MODEL_f20c59612511468da3bd103c4fe35a07",
       "style": "IPY_MODEL_ab8f0a73990b4070aa0aeff9320a8a48"
      }
     },
     "9cec7d5a346a4db79f6b00ab00d5adbd": {
      "model_module": "@jupyter-widgets/controls",
      "model_module_version": "1.5.0",
      "model_name": "ButtonModel",
      "state": {
       "button_style": "success",
       "description": "Play Again",
       "layout": "IPY_MODEL_43573ddcc6a94bcdbd62bf2c34db4a53",
       "style": "IPY_MODEL_e77584c9fe374b2ea1cf196b1b46ab53"
      }
     },
     "9cf4d1fa5a354884988d21ea100e9aae": {
      "model_module": "@jupyter-widgets/controls",
      "model_module_version": "1.5.0",
      "model_name": "ButtonStyleModel",
      "state": {}
     },
     "9d07e48b165441fa849b247aede492be": {
      "model_module": "@jupyter-widgets/base",
      "model_module_version": "1.2.0",
      "model_name": "LayoutModel",
      "state": {
       "grid_area": "center"
      }
     },
     "9d177c10393b464fb7cf41d331076673": {
      "model_module": "@jupyter-widgets/controls",
      "model_module_version": "1.5.0",
      "model_name": "HTMLModel",
      "state": {
       "layout": "IPY_MODEL_50c79e1d365e4a28a95efe75edd8d2f4",
       "style": "IPY_MODEL_7cf40a3a4d91419dbba7d6d335d0d104",
       "value": "<h4>Wins: 0</h4>"
      }
     },
     "9d49874eb9af45529fceb03799a89d36": {
      "model_module": "@jupyter-widgets/controls",
      "model_module_version": "1.5.0",
      "model_name": "VBoxModel",
      "state": {
       "children": [
        "IPY_MODEL_df5f0d5b621b4514b2aaa62a5b1fca5a",
        "IPY_MODEL_d7723a085fef423fbdab0a5e5b873c27"
       ],
       "layout": "IPY_MODEL_745ae0dbb18e490d8793fdb153e6f5fe"
      }
     },
     "9d4ea68a97134867bbf2bf9be4d7c11d": {
      "model_module": "@jupyter-widgets/base",
      "model_module_version": "1.2.0",
      "model_name": "LayoutModel",
      "state": {
       "grid_area": "header"
      }
     },
     "9d62fbd58d364f78bac71f905c72c4dd": {
      "model_module": "@jupyter-widgets/controls",
      "model_module_version": "1.5.0",
      "model_name": "DescriptionStyleModel",
      "state": {
       "description_width": ""
      }
     },
     "9d63ac6706e84a408eb8e5db44e445f4": {
      "model_module": "@jupyter-widgets/controls",
      "model_module_version": "1.5.0",
      "model_name": "VBoxModel",
      "state": {
       "children": [
        "IPY_MODEL_23e127328c564bdab58fea63a0dfde55",
        "IPY_MODEL_958bdd441da24a8d9cd0f9027f89a7d5",
        "IPY_MODEL_034b59c4795248b6aa66d682e89d98fe"
       ],
       "layout": "IPY_MODEL_37dd1eec0b7f4c11adecd081e609d09a"
      }
     },
     "9d741975f8aa46f5ba6f829089c0b6de": {
      "model_module": "@jupyter-widgets/controls",
      "model_module_version": "1.5.0",
      "model_name": "ButtonModel",
      "state": {
       "button_style": "warning",
       "description": "U",
       "disabled": true,
       "layout": "IPY_MODEL_6f7ccfcb01a2499fac713fee5e10bcfb",
       "style": "IPY_MODEL_b6ff03535b564dc989113ea7517e8aa2"
      }
     },
     "9d9b9bb7f4d34cdb85266e27ee2ca70c": {
      "model_module": "@jupyter-widgets/controls",
      "model_module_version": "1.5.0",
      "model_name": "ButtonModel",
      "state": {
       "button_style": "warning",
       "description": "A",
       "layout": "IPY_MODEL_7773b9e04b0d4515b1ec7904f5a534d0",
       "style": "IPY_MODEL_ea1749f8f7584fed9d5f592cf382d4e5",
       "tooltip": "Click to guess A."
      }
     },
     "9d9e181ecc22480fbf2bf49c499d32ba": {
      "model_module": "@jupyter-widgets/base",
      "model_module_version": "1.2.0",
      "model_name": "LayoutModel",
      "state": {
       "margin": "0px 0px 0px 100px"
      }
     },
     "9d9e9c869bc84cd984e57d039365c199": {
      "model_module": "@jupyter-widgets/controls",
      "model_module_version": "1.5.0",
      "model_name": "VBoxModel",
      "state": {
       "children": [
        "IPY_MODEL_4facb8a3702f4199ac1282413922caf5",
        "IPY_MODEL_54586e7c8c254c3d9f324ad8115b0287"
       ],
       "layout": "IPY_MODEL_9a0a994032c34ae281cd18ebf8fc6bc0"
      }
     },
     "9db6a36e24ac4bfead13482e947dae03": {
      "model_module": "@jupyter-widgets/base",
      "model_module_version": "1.2.0",
      "model_name": "LayoutModel",
      "state": {
       "height": "25px",
       "width": "33px"
      }
     },
     "9dbdd34e1b8740eeb816b788a11e0a02": {
      "model_module": "@jupyter-widgets/base",
      "model_module_version": "1.2.0",
      "model_name": "LayoutModel",
      "state": {
       "margin": "0px 0px 0px 100px"
      }
     },
     "9dc9641a37c64a9ea2eead3303217886": {
      "model_module": "@jupyter-widgets/controls",
      "model_module_version": "1.5.0",
      "model_name": "DescriptionStyleModel",
      "state": {
       "description_width": ""
      }
     },
     "9dd00a1b54a04bfb90e0bd09160fa8e4": {
      "model_module": "@jupyter-widgets/controls",
      "model_module_version": "1.5.0",
      "model_name": "ButtonStyleModel",
      "state": {}
     },
     "9df6b0b6c2dd440ebe2c8a84ea0972b5": {
      "model_module": "@jupyter-widgets/base",
      "model_module_version": "1.2.0",
      "model_name": "LayoutModel",
      "state": {
       "height": "25px",
       "width": "33px"
      }
     },
     "9e018e95ba204dd29f481411b111525f": {
      "model_module": "@jupyter-widgets/controls",
      "model_module_version": "1.5.0",
      "model_name": "DescriptionStyleModel",
      "state": {
       "description_width": ""
      }
     },
     "9e124ea78dfa46c3bcb14c764d0e0b89": {
      "model_module": "@jupyter-widgets/base",
      "model_module_version": "1.2.0",
      "model_name": "LayoutModel",
      "state": {
       "margin": "0px 0px 0px 100px"
      }
     },
     "9e1d54184de543758f336c36c33d8c92": {
      "model_module": "@jupyter-widgets/controls",
      "model_module_version": "1.5.0",
      "model_name": "HTMLModel",
      "state": {
       "layout": "IPY_MODEL_21a5027fec4d4f5b88e1a5998f5f1e4a",
       "style": "IPY_MODEL_e40dc19f53a64514922e28bfa0facd8a",
       "value": "<h2><font color='black'>Remaining Guesses:                          4</h2>"
      }
     },
     "9e2db37928ec4b9b943cfda20b81e006": {
      "model_module": "@jupyter-widgets/controls",
      "model_module_version": "1.5.0",
      "model_name": "ButtonStyleModel",
      "state": {}
     },
     "9e69f46acecb48efaa0e49d550063207": {
      "model_module": "@jupyter-widgets/base",
      "model_module_version": "1.2.0",
      "model_name": "LayoutModel",
      "state": {
       "width": "500px"
      }
     },
     "9e945a0240fb461b9955cd835343abe1": {
      "model_module": "@jupyter-widgets/base",
      "model_module_version": "1.2.0",
      "model_name": "LayoutModel",
      "state": {
       "grid_area": "center"
      }
     },
     "9eac5971d8e34086950d853defceb288": {
      "model_module": "@jupyter-widgets/base",
      "model_module_version": "1.2.0",
      "model_name": "LayoutModel",
      "state": {
       "grid_area": "center"
      }
     },
     "9eb132c688e8471d8c7388af4d68ccba": {
      "model_module": "@jupyter-widgets/controls",
      "model_module_version": "1.5.0",
      "model_name": "ButtonModel",
      "state": {
       "button_style": "warning",
       "description": "J",
       "disabled": true,
       "layout": "IPY_MODEL_80dbdab9adb64c1580f92e3eaadab415",
       "style": "IPY_MODEL_b6c0d9e302e84173aa12c9ba1fd81977"
      }
     },
     "9eb7ab36f02843ee82fa86dbc58fc49b": {
      "model_module": "@jupyter-widgets/controls",
      "model_module_version": "1.5.0",
      "model_name": "HTMLModel",
      "state": {
       "layout": "IPY_MODEL_914cb574ba0a47729f6ecd3c7414d56e",
       "style": "IPY_MODEL_8c05db44f82f4c3e948fd47da304ce26",
       "value": "<h1><font color=black>Secret Word:                          m i _ i</h1>"
      }
     },
     "9ec584da1dd84079b78b7a3763b95508": {
      "model_module": "@jupyter-widgets/controls",
      "model_module_version": "1.5.0",
      "model_name": "DescriptionStyleModel",
      "state": {
       "description_width": ""
      }
     },
     "9edfab265bc5457ab06681e6ea1b6d9e": {
      "model_module": "@jupyter-widgets/base",
      "model_module_version": "1.2.0",
      "model_name": "LayoutModel",
      "state": {
       "margin": "0px 0px 0px 70px"
      }
     },
     "9ee734be68a44d1891a8df3277dce9cb": {
      "model_module": "@jupyter-widgets/controls",
      "model_module_version": "1.5.0",
      "model_name": "DescriptionStyleModel",
      "state": {
       "description_width": ""
      }
     },
     "9f055c6330654975b72e701767f6a16a": {
      "model_module": "@jupyter-widgets/controls",
      "model_module_version": "1.5.0",
      "model_name": "ButtonStyleModel",
      "state": {}
     },
     "9f17d4d0bd704b2a8562fd51bf1841d5": {
      "model_module": "@jupyter-widgets/controls",
      "model_module_version": "1.5.0",
      "model_name": "HBoxModel",
      "state": {
       "children": [
        "IPY_MODEL_0bdb844b8bb346fb89ac6144776e8414",
        "IPY_MODEL_26c950fd160c4f9f9d0fea5507f957a3"
       ],
       "layout": "IPY_MODEL_e9639fb8a9714659bbaee664edd4840b"
      }
     },
     "9f80f15533a14ed19f9dc5990c55fb2a": {
      "buffers": [
       {
        "data": "iVBORw0KGgoAAAANSUhEUgAAATQAAAE0CAIAAAAt41jIAAAEyUlEQVR4nO3d0W6iUBRAUZ30/3+ZeZjEsYqAArJb13pqGyU3JjsHLXJPJwAAANjH+fqXYRiOWgdwOp3O5/9J/jlwHcAEcUKUOCFKnBAlTogSJ0SJE6LECVHihChxQpQ4IUqcECVOiBInRIkTosQJUeKEKHFClDghSpwQJU6IEidEiROixAlR4oQocUKUOCFKnBAlTogSJ0SJE6LECVHihChxQtTX0Qv4Pa43DGdbwzAcvYQDmJzbUOauPvPlFSdEOa3d2GeegO3nM2fmPyYnRIkTosQJUeKEKHFClDghSpwQJU6IEidEiROixAlR4oQocUKUOCFKnBAlTogSJ0S5E8Iq99/Tv/zFLRFYSZyvWHLvDJWykjifc5PlRHiXR/77QaI8S5xLLc/y+gES5WXinPdslvcPligv8GntjOsyh2F4raubJ37y7R5ZTpxTbspceTR98hRxPrRtmffH0SfTxDlv27eI3nCykDjH7fpfyssxDU8miHPKflPO/GSWOEe8c6AZnjwizof2Hm6GJ9PEeev9o8zwZJQ4x71nrBmeTBAnRInzm/df+3pz8S1ciBOixAlR4oQocUKUOCFKnBAlTogSJ0SJ85v3XxLgll88Ik6IEue49wxPV+0xQZy33n+G6ZyWUeJ8aO+xZmwyTZwj3v+tFLgnzin7DTdjk1niHLfr3SvtDsgS4py3bZ9mJguJ86E9tk7YY4sHfitxTtm2T2XyFHHOuOnztURvnqhMlrB57rw1G+Cu2XiXDyfOpZ5NVJasJM7njCa65CnwLHG+Ysl/QTXJSuJc5b5STbIVn9ZClDghSpwQJU6IEidEiROixAlR4oQocUKUOCFKnBAlTogSJ0SJE6LECVHihChxQpQ4IUqcECVOiBInRIkTosQJUeKEKHFClDghSpwQJU6IEidEiROixAlR4oQocUKUOCFKnBAlTogSJ0SJE6LECVHihChxQpQ4IUqcECVOiBInRIkTosQJUeKEKHFClDghSpwQJU6IEidEiROixAlR4oQocUKUOCFKnBD1dfQCfolhGI5eAr+NyQlR4oQocUKUOCFKnBAlTogSJ0SJE6LECVHihChxQpQ4IUqcECVOiBInRIkTosQJUeKEKHFClDghSpwQJU6IEidEiROixAlR4oQocUKUOCFKnBAlTogSJ0SJE6LECVHihChxQpQ4IUqcECVOiBInRIkTosQJUeKEKHFClDghSpwQJU6IEidEiROixAlR4oQocUKUOCFKnBAlTogSJ0SJE6LECVHihChxQpQ4IUqcECVOiBInRIkTosQJUeKEKHFClDghSpwQJU6IEidEiROixAlR4oQocUKUOCFKnBAlTogSJ0SJE6LECVHihChxQpQ4IUqcECVOiBInRIkTosQJUeKEKHFClDghSpwQJU6IEidEiROixAlR4oQocUKUOCFKnBAlTogSJ0SJE6LECVHihChxQpQ4IUqcECVOiBInRIkTosQJUeKEKHFClDghSpwQ9XX0Aph3Pp+PXsLx+i/CMAzbHtDkhChxQpTT2h9g8/MlfgSTE6LECVHihChxQpQ4IUqcECVOiBInRIkTosQJUeKEKHFClDghSpwQJU6IEidEiROixAlR4oQocUKUOAEAAAA+zF8yMLx8mh5EmQAAAABJRU5ErkJggg==",
        "encoding": "base64",
        "path": [
         "value"
        ]
       }
      ],
      "model_module": "@jupyter-widgets/controls",
      "model_module_version": "1.5.0",
      "model_name": "ImageModel",
      "state": {
       "layout": "IPY_MODEL_ee16fc09122c4a25bcb56d1705fd4250"
      }
     },
     "9f8373ee5452438b98b8bd82fdb3b6b0": {
      "model_module": "@jupyter-widgets/controls",
      "model_module_version": "1.5.0",
      "model_name": "DescriptionStyleModel",
      "state": {
       "description_width": ""
      }
     },
     "9fa59730a517415096c1f173ea8a865f": {
      "model_module": "@jupyter-widgets/base",
      "model_module_version": "1.2.0",
      "model_name": "LayoutModel",
      "state": {
       "height": "auto"
      }
     },
     "9feb726560d548b1a778186659b10dc4": {
      "model_module": "@jupyter-widgets/controls",
      "model_module_version": "1.5.0",
      "model_name": "HTMLModel",
      "state": {
       "layout": "IPY_MODEL_1e6e7c1991df482a801d9105f6b2a89e",
       "style": "IPY_MODEL_5b8d3ad9ee2d4334ac39c806e6d563c7",
       "value": "<h3>Player Result</h3>"
      }
     },
     "9ff35a0dab034fe9a2d1c7a5f6f85d94": {
      "model_module": "@jupyter-widgets/controls",
      "model_module_version": "1.5.0",
      "model_name": "GridBoxModel",
      "state": {
       "children": [
        "IPY_MODEL_987cf8bc8b5f4fec89b7eafbc25ec230",
        "IPY_MODEL_e1c5a1ba9bb145e9be606df50b446917",
        "IPY_MODEL_3a194fa36c4f4950941ab48d579b4fc2",
        "IPY_MODEL_9f80f15533a14ed19f9dc5990c55fb2a"
       ],
       "layout": "IPY_MODEL_718405ba1e1e46f998f5e3d8e38579d7"
      }
     },
     "a00306cac8bc4d309f153cdc8ff2492f": {
      "model_module": "@jupyter-widgets/base",
      "model_module_version": "1.2.0",
      "model_name": "LayoutModel",
      "state": {
       "height": "25px",
       "width": "33px"
      }
     },
     "a010e58ba87c42fbb24fb5200fefbf8d": {
      "model_module": "@jupyter-widgets/controls",
      "model_module_version": "1.5.0",
      "model_name": "VBoxModel",
      "state": {
       "children": [
        "IPY_MODEL_48f7f92efab04e54a650e3f05cba3124"
       ],
       "layout": "IPY_MODEL_9ae649ab976643d4b7744c85c07d374d"
      }
     },
     "a04ea58400c243a7a4c8415983313325": {
      "model_module": "@jupyter-widgets/base",
      "model_module_version": "1.2.0",
      "model_name": "LayoutModel",
      "state": {}
     },
     "a050a77d2b844f6a936dfc202e4b33c5": {
      "model_module": "@jupyter-widgets/base",
      "model_module_version": "1.2.0",
      "model_name": "LayoutModel",
      "state": {
       "height": "25px",
       "width": "33px"
      }
     },
     "a067fd68a4844083bb807a0504451545": {
      "model_module": "@jupyter-widgets/controls",
      "model_module_version": "1.5.0",
      "model_name": "DescriptionStyleModel",
      "state": {
       "description_width": ""
      }
     },
     "a07768cff7e748ad900a7e5fac98b5a7": {
      "model_module": "@jupyter-widgets/base",
      "model_module_version": "1.2.0",
      "model_name": "LayoutModel",
      "state": {
       "height": "25px",
       "width": "33px"
      }
     },
     "a08d24dc3e34462bb77240eec718e412": {
      "model_module": "@jupyter-widgets/controls",
      "model_module_version": "1.5.0",
      "model_name": "VBoxModel",
      "state": {
       "children": [
        "IPY_MODEL_2236c7439f914c829cf3e78e12c1c5c2",
        "IPY_MODEL_9b9dcf2bb3b345418313cf21d5af7d5c"
       ],
       "layout": "IPY_MODEL_f0a2a10b96ae486abba681fcaaa29c75"
      }
     },
     "a0938a8f4fb74a0d9a3f168282a4700c": {
      "model_module": "@jupyter-widgets/controls",
      "model_module_version": "1.5.0",
      "model_name": "ButtonStyleModel",
      "state": {}
     },
     "a09fbb0a9736484bb9156a0196cdc2d1": {
      "model_module": "@jupyter-widgets/controls",
      "model_module_version": "1.5.0",
      "model_name": "ButtonStyleModel",
      "state": {}
     },
     "a0f280591a634e10868ce463ae72ce5f": {
      "model_module": "@jupyter-widgets/controls",
      "model_module_version": "1.5.0",
      "model_name": "GridBoxModel",
      "state": {
       "children": [
        "IPY_MODEL_8e776ad88967422b9f582a3ac29b1ab8",
        "IPY_MODEL_bee91d1bfa6840e68de880a4eb5c55ba",
        "IPY_MODEL_2a6e7508a8f940b78ff951c7bdc528fd",
        "IPY_MODEL_c9c1cddc843b4bbe85ee435905692e9d"
       ],
       "layout": "IPY_MODEL_451f8e279c2248d49b7e2835d78f1acb"
      }
     },
     "a0f8ff8541b648af9eb7043f4850c281": {
      "model_module": "@jupyter-widgets/controls",
      "model_module_version": "1.5.0",
      "model_name": "ButtonModel",
      "state": {
       "button_style": "warning",
       "description": "C",
       "disabled": true,
       "layout": "IPY_MODEL_cc586af902bf4f53b5e0520bd3d9e726",
       "style": "IPY_MODEL_264133fc2d104960bf9c51bf9a6cf07b"
      }
     },
     "a117eaccdb5b4dc5bdec01a7f3ae8b7f": {
      "model_module": "@jupyter-widgets/base",
      "model_module_version": "1.2.0",
      "model_name": "LayoutModel",
      "state": {}
     },
     "a1205c92fc3e47dc9d9649930a4400aa": {
      "model_module": "@jupyter-widgets/base",
      "model_module_version": "1.2.0",
      "model_name": "LayoutModel",
      "state": {
       "grid_template_areas": "\"header header header\"\n\"left-sidebar center center\"\n\"footer footer footer\"",
       "grid_template_columns": "1fr 2fr 1fr",
       "grid_template_rows": "1fr 3fr 1fr"
      }
     },
     "a172ca711ec34073af8137c84a2f8aae": {
      "model_module": "@jupyter-widgets/controls",
      "model_module_version": "1.5.0",
      "model_name": "VBoxModel",
      "state": {
       "children": [
        "IPY_MODEL_912851f5f5db40f397473f052068b2cf"
       ],
       "layout": "IPY_MODEL_176591bdf42948f681d7120d7689b49e"
      }
     },
     "a1ab71e07df54724a8d6d4ac0e74de36": {
      "model_module": "@jupyter-widgets/controls",
      "model_module_version": "1.5.0",
      "model_name": "ButtonModel",
      "state": {
       "button_style": "warning",
       "description": "A",
       "layout": "IPY_MODEL_fd22e874991b4fe7870dc56bc28f0054",
       "style": "IPY_MODEL_f987ecbf67bb47aca1d31cac16ab4640",
       "tooltip": "Click to guess A."
      }
     },
     "a1afe04eebf8460abfa64599b81b7d05": {
      "model_module": "@jupyter-widgets/base",
      "model_module_version": "1.2.0",
      "model_name": "LayoutModel",
      "state": {
       "height": "25px",
       "width": "33px"
      }
     },
     "a1c4803d14a84d298530b9aaf2c6d09f": {
      "model_module": "@jupyter-widgets/base",
      "model_module_version": "1.2.0",
      "model_name": "LayoutModel",
      "state": {
       "grid_template_areas": "\"header header header\"\n\"left-sidebar center center\"\n\"footer footer footer\"",
       "grid_template_columns": "1fr 2fr 1fr",
       "grid_template_rows": "1fr 3fr 1fr"
      }
     },
     "a1d6e8de81064136a692bf1f89b4152f": {
      "model_module": "@jupyter-widgets/base",
      "model_module_version": "1.2.0",
      "model_name": "LayoutModel",
      "state": {
       "margin": "0px 0px 0px 100px"
      }
     },
     "a1eedcae7af945c1ad6c02b91d839f93": {
      "model_module": "@jupyter-widgets/base",
      "model_module_version": "1.2.0",
      "model_name": "LayoutModel",
      "state": {
       "height": "auto"
      }
     },
     "a1f69bdd214d48d7b268815a33fda9da": {
      "model_module": "@jupyter-widgets/controls",
      "model_module_version": "1.5.0",
      "model_name": "DescriptionStyleModel",
      "state": {
       "description_width": ""
      }
     },
     "a2056c2620be4fb78e83108e31d0093b": {
      "model_module": "@jupyter-widgets/controls",
      "model_module_version": "1.5.0",
      "model_name": "VBoxModel",
      "state": {
       "children": [
        "IPY_MODEL_2e3105168f854c159af91b646a770665",
        "IPY_MODEL_f9890b4dadea44ef9dd859edaae3ca3a"
       ],
       "layout": "IPY_MODEL_fe19a4f2535443e8ad72b0bc8d043861"
      }
     },
     "a207ec9c3ebe457fa5a2253103ea5380": {
      "model_module": "@jupyter-widgets/controls",
      "model_module_version": "1.5.0",
      "model_name": "HBoxModel",
      "state": {
       "children": [
        "IPY_MODEL_91012a06fcbe448498f514b18bf07aeb",
        "IPY_MODEL_d94b1e4b6a36494f8b3f5e5ab9f263e0"
       ],
       "layout": "IPY_MODEL_06678bb0187b40498c21ba3f3a7c450f"
      }
     },
     "a2173bf3fcd24c099fb22cc96f237bf8": {
      "model_module": "@jupyter-widgets/controls",
      "model_module_version": "1.5.0",
      "model_name": "HTMLModel",
      "state": {
       "layout": "IPY_MODEL_44d8270ab1394a9ea36628740992c652",
       "style": "IPY_MODEL_07d29888272f49d4a7860b7d19f792fe",
       "value": "<h4>Wins: 0</h4>"
      }
     },
     "a22cd68900b24ab5a8f25701020f3264": {
      "model_module": "@jupyter-widgets/base",
      "model_module_version": "1.2.0",
      "model_name": "LayoutModel",
      "state": {
       "grid_area": "left-sidebar"
      }
     },
     "a2360c8d87114d5fa020e5c8fbce96a6": {
      "model_module": "@jupyter-widgets/controls",
      "model_module_version": "1.5.0",
      "model_name": "ButtonModel",
      "state": {
       "button_style": "warning",
       "description": "G",
       "layout": "IPY_MODEL_c936ba04f4b54be590f7ea4903858e70",
       "style": "IPY_MODEL_f1e7d62d1683484c943ad10c27cd062d",
       "tooltip": "Click to guess G."
      }
     },
     "a236928028a740b8b284acb55a67589f": {
      "model_module": "@jupyter-widgets/base",
      "model_module_version": "1.2.0",
      "model_name": "LayoutModel",
      "state": {
       "margin": "0px 0px 0px 70px"
      }
     },
     "a2856934e69e42299e0b7fbca58f9444": {
      "model_module": "@jupyter-widgets/base",
      "model_module_version": "1.2.0",
      "model_name": "LayoutModel",
      "state": {
       "height": "25px",
       "width": "33px"
      }
     },
     "a29ef97712c34a8ba4625578a40e257b": {
      "model_module": "@jupyter-widgets/controls",
      "model_module_version": "1.5.0",
      "model_name": "VBoxModel",
      "state": {
       "children": [
        "IPY_MODEL_48966cb6bf104864ae2078f2ffe46e5d",
        "IPY_MODEL_1ee2c78b1da142c789adb4ab44fc743e"
       ],
       "layout": "IPY_MODEL_bdb9734bbefb4599a3293988e6c08c77"
      }
     },
     "a2b1089208eb4e8f9aed244e527bd8a0": {
      "model_module": "@jupyter-widgets/base",
      "model_module_version": "1.2.0",
      "model_name": "LayoutModel",
      "state": {
       "grid_template_areas": "\"header header header\"\n\"left-sidebar center center\"\n\"footer footer footer\"",
       "grid_template_columns": "1fr 2fr 1fr",
       "grid_template_rows": "1fr 3fr 1fr"
      }
     },
     "a302788b402f45cc9f8a73122ed4ebe7": {
      "model_module": "@jupyter-widgets/controls",
      "model_module_version": "1.5.0",
      "model_name": "ButtonModel",
      "state": {
       "button_style": "warning",
       "description": "Y",
       "layout": "IPY_MODEL_efc686ea49fd4d81b57fb1381d0a6909",
       "style": "IPY_MODEL_3a68bcb927d34006b706dc7b71d8c3ad",
       "tooltip": "Click to guess Y."
      }
     },
     "a326e848d55d4bc488cd026e6fcfcd6f": {
      "model_module": "@jupyter-widgets/controls",
      "model_module_version": "1.5.0",
      "model_name": "DescriptionStyleModel",
      "state": {
       "description_width": ""
      }
     },
     "a32a2cf1e7e743b6be3e3570844834cd": {
      "model_module": "@jupyter-widgets/base",
      "model_module_version": "1.2.0",
      "model_name": "LayoutModel",
      "state": {
       "height": "25px",
       "width": "33px"
      }
     },
     "a3328399750145eb94e2e8c0fac198f6": {
      "model_module": "@jupyter-widgets/base",
      "model_module_version": "1.2.0",
      "model_name": "LayoutModel",
      "state": {
       "height": "25px",
       "width": "33px"
      }
     },
     "a34912d4c672498d893fef834a742aca": {
      "model_module": "@jupyter-widgets/controls",
      "model_module_version": "1.5.0",
      "model_name": "ButtonStyleModel",
      "state": {}
     },
     "a3731d40382945fcaf5b99292a077c4d": {
      "model_module": "@jupyter-widgets/controls",
      "model_module_version": "1.5.0",
      "model_name": "ButtonModel",
      "state": {
       "button_style": "warning",
       "description": "E",
       "disabled": true,
       "layout": "IPY_MODEL_94d8699bdc8345c682dcfb466ab7dbd7",
       "style": "IPY_MODEL_b4cd4445f15e4be5954c592b600accfc"
      }
     },
     "a395701f915046258697514cb68978f0": {
      "model_module": "@jupyter-widgets/controls",
      "model_module_version": "1.5.0",
      "model_name": "DescriptionStyleModel",
      "state": {
       "description_width": ""
      }
     },
     "a3b237482d7f42eaa61235b578593190": {
      "model_module": "@jupyter-widgets/base",
      "model_module_version": "1.2.0",
      "model_name": "LayoutModel",
      "state": {
       "grid_area": "footer",
       "margin": "-60px 0px 0px 0px"
      }
     },
     "a3c47d3106c84a2286272c3be6594b8d": {
      "model_module": "@jupyter-widgets/controls",
      "model_module_version": "1.5.0",
      "model_name": "HTMLModel",
      "state": {
       "layout": "IPY_MODEL_a915be4b9a224a3caef1daee2093a3b0",
       "style": "IPY_MODEL_7718cd31a6d74037a0825d6345450716",
       "value": "<h4>Games: 0</h4>"
      }
     },
     "a3ce5d5477d3457e9b5df20406ce3d94": {
      "model_module": "@jupyter-widgets/controls",
      "model_module_version": "1.5.0",
      "model_name": "ButtonModel",
      "state": {
       "button_style": "warning",
       "description": "L",
       "layout": "IPY_MODEL_c52c9cb1cec74073aa28ac25b9d78637",
       "style": "IPY_MODEL_94b602e6f4c14bd59285e3edca2353ab",
       "tooltip": "Click to guess L."
      }
     },
     "a3f0bd9653fd4c888c7416e7f90fca43": {
      "model_module": "@jupyter-widgets/base",
      "model_module_version": "1.2.0",
      "model_name": "LayoutModel",
      "state": {
       "grid_area": "center"
      }
     },
     "a3fd20560bd74d85bd9807a0047da96d": {
      "model_module": "@jupyter-widgets/controls",
      "model_module_version": "1.5.0",
      "model_name": "VBoxModel",
      "state": {
       "children": [
        "IPY_MODEL_7c203bbdc385464eb8dc7b3fa0c8d739",
        "IPY_MODEL_239816c8899448609684e9d87873f806"
       ],
       "layout": "IPY_MODEL_ad599b71b8ce45d1815c2b0aaf8b6ee6"
      }
     },
     "a3fddff1aeae49c78e088832de611742": {
      "model_module": "@jupyter-widgets/controls",
      "model_module_version": "1.5.0",
      "model_name": "VBoxModel",
      "state": {
       "children": [
        "IPY_MODEL_735222dfc0d0429eb948134cf5208c08",
        "IPY_MODEL_af8bd0c5354347238a1dcf55977f51ff"
       ],
       "layout": "IPY_MODEL_e76cc7f88519481ebcbe4dfd663bd9eb"
      }
     },
     "a40520adf23d4bdbabe0fe3635d25b9a": {
      "model_module": "@jupyter-widgets/base",
      "model_module_version": "1.2.0",
      "model_name": "LayoutModel",
      "state": {
       "grid_area": "center"
      }
     },
     "a411cbd0787148529e6b60ea617b27e8": {
      "model_module": "@jupyter-widgets/controls",
      "model_module_version": "1.5.0",
      "model_name": "HBoxModel",
      "state": {
       "children": [
        "IPY_MODEL_2f6ca46ffcd346c2af330facd39faf6f",
        "IPY_MODEL_786b214b0d474139ae52633a5b932275"
       ],
       "layout": "IPY_MODEL_1ee28073901441e79189e16a5b5cc034"
      }
     },
     "a416537c61014ad1abd4c56dfd4afce9": {
      "model_module": "@jupyter-widgets/controls",
      "model_module_version": "1.5.0",
      "model_name": "VBoxModel",
      "state": {
       "children": [
        "IPY_MODEL_8fa37883b3a04af3951925114e6a16d7",
        "IPY_MODEL_73a6a8e1c6354b9a8a25f6b6313d510d",
        "IPY_MODEL_4ae7226b4b3e46608fb30e14403f6492"
       ],
       "layout": "IPY_MODEL_5a050aa17b03486f91169c3cd0706759"
      }
     },
     "a421b545a5ef4df2ac1549d8dffe6977": {
      "model_module": "@jupyter-widgets/controls",
      "model_module_version": "1.5.0",
      "model_name": "ButtonStyleModel",
      "state": {}
     },
     "a445993c38b346ae82920608e230caa1": {
      "model_module": "@jupyter-widgets/base",
      "model_module_version": "1.2.0",
      "model_name": "LayoutModel",
      "state": {
       "grid_area": "footer",
       "margin": "-60px 0px 0px 0px"
      }
     },
     "a456ce86459f43f4ad72db360e6c3839": {
      "model_module": "@jupyter-widgets/base",
      "model_module_version": "1.2.0",
      "model_name": "LayoutModel",
      "state": {
       "margin": "0px 0px 0px 100px"
      }
     },
     "a4744525d86b412a83420725df612208": {
      "model_module": "@jupyter-widgets/controls",
      "model_module_version": "1.5.0",
      "model_name": "ButtonStyleModel",
      "state": {}
     },
     "a49eb4fadcdf4770ad54f46623467ce8": {
      "model_module": "@jupyter-widgets/base",
      "model_module_version": "1.2.0",
      "model_name": "LayoutModel",
      "state": {
       "height": "25px",
       "width": "33px"
      }
     },
     "a4a117455856427c928051a3e19d758f": {
      "model_module": "@jupyter-widgets/controls",
      "model_module_version": "1.5.0",
      "model_name": "ButtonStyleModel",
      "state": {}
     },
     "a4edd3b195f94c96879d53054063c662": {
      "model_module": "@jupyter-widgets/controls",
      "model_module_version": "1.5.0",
      "model_name": "ButtonModel",
      "state": {
       "button_style": "warning",
       "description": "Z",
       "disabled": true,
       "layout": "IPY_MODEL_4fe0acdffe48485fb5c022058ad7347a",
       "style": "IPY_MODEL_0ff5c3b2f2f3485da551c356e69ab92f"
      }
     },
     "a4f5815fcaf44545bb2c38d37407d343": {
      "model_module": "@jupyter-widgets/controls",
      "model_module_version": "1.5.0",
      "model_name": "ButtonModel",
      "state": {
       "button_style": "warning",
       "description": "V",
       "disabled": true,
       "layout": "IPY_MODEL_58239e54dbc94548995b88a84512c016",
       "style": "IPY_MODEL_d1a84388319f4f77bdb80860ec21c69c"
      }
     },
     "a52e19ac53d84aab8e1ec8c4a1d224b9": {
      "model_module": "@jupyter-widgets/controls",
      "model_module_version": "1.5.0",
      "model_name": "HBoxModel",
      "state": {
       "children": [
        "IPY_MODEL_23701f4bd42e40efb5b41296a863ebe6",
        "IPY_MODEL_f338ea7e3d8945d2888cc985e9da939b"
       ],
       "layout": "IPY_MODEL_2eaa5e1bfa8a4ef391c4042bfadcdcc0"
      }
     },
     "a5341012c576497ba90e6ada151276b9": {
      "model_module": "@jupyter-widgets/controls",
      "model_module_version": "1.5.0",
      "model_name": "HBoxModel",
      "state": {
       "children": [
        "IPY_MODEL_15b7edb136dd48da84351576f44b6add",
        "IPY_MODEL_9b949b0ae26e4250936f948549b0c0eb"
       ],
       "layout": "IPY_MODEL_814daa3e477a45d7b1f25fbb0b9a0f2c"
      }
     },
     "a539b1d94c7f4830948b522f900fecf3": {
      "model_module": "@jupyter-widgets/controls",
      "model_module_version": "1.5.0",
      "model_name": "DescriptionStyleModel",
      "state": {
       "description_width": ""
      }
     },
     "a54508288f0d435fb8fe699bc76ab67c": {
      "model_module": "@jupyter-widgets/controls",
      "model_module_version": "1.5.0",
      "model_name": "HBoxModel",
      "state": {
       "children": [
        "IPY_MODEL_6cdfcde9196448fa85ed723c6b45a75c",
        "IPY_MODEL_6a5487db808d4c2a830ed1e9e636d456"
       ],
       "layout": "IPY_MODEL_b4a782ee1f87489eb69f35904ef6d15c"
      }
     },
     "a55770e6812249d68d097e96ea01f66f": {
      "model_module": "@jupyter-widgets/controls",
      "model_module_version": "1.5.0",
      "model_name": "ButtonStyleModel",
      "state": {}
     },
     "a56e8a0eb85344d393285b4b3799b995": {
      "model_module": "@jupyter-widgets/controls",
      "model_module_version": "1.5.0",
      "model_name": "HTMLModel",
      "state": {
       "layout": "IPY_MODEL_08cf81d26fd34c078f2fb947cea8ccdd",
       "style": "IPY_MODEL_93611e00c3254bd492e9ab5dd5ea1235",
       "value": "<h4>Wins: 0</h4>"
      }
     },
     "a57dee9cf9fb4aa28e81398015dd4595": {
      "model_module": "@jupyter-widgets/controls",
      "model_module_version": "1.5.0",
      "model_name": "ButtonModel",
      "state": {
       "button_style": "warning",
       "description": "N",
       "disabled": true,
       "layout": "IPY_MODEL_0b5428f53725453aada590eca78d3f9d",
       "style": "IPY_MODEL_70521d36560045d9964fd3c3e7f709fa"
      }
     },
     "a58eb198e094486a9ca2289c7bfd7b30": {
      "model_module": "@jupyter-widgets/controls",
      "model_module_version": "1.5.0",
      "model_name": "VBoxModel",
      "state": {
       "children": [
        "IPY_MODEL_3c11f2aa487a482a9309103201cb034f",
        "IPY_MODEL_20154f7cacda48caa88ab4586e432ce3"
       ],
       "layout": "IPY_MODEL_bec89d3fc7d940d88574128eec495ce0"
      }
     },
     "a5db06727de94801afc821f8f0b302a4": {
      "model_module": "@jupyter-widgets/base",
      "model_module_version": "1.2.0",
      "model_name": "LayoutModel",
      "state": {
       "grid_area": "footer",
       "margin": "-60px 0px 0px 0px"
      }
     },
     "a5f397d949b84a6c92217dd271515f11": {
      "model_module": "@jupyter-widgets/controls",
      "model_module_version": "1.5.0",
      "model_name": "VBoxModel",
      "state": {
       "children": [
        "IPY_MODEL_0daad3752e43401ca5dee6e3962960da",
        "IPY_MODEL_93cbdd04e6644fa7b2d80a0e52afe44a"
       ],
       "layout": "IPY_MODEL_5e9282a143dd4838900cfe16434ada18"
      }
     },
     "a5f7c82c672d4a9a84cf4eabb0c2901e": {
      "model_module": "@jupyter-widgets/base",
      "model_module_version": "1.2.0",
      "model_name": "LayoutModel",
      "state": {
       "height": "25px",
       "width": "33px"
      }
     },
     "a64c0d35ac734f7cbef247883a791d18": {
      "model_module": "@jupyter-widgets/base",
      "model_module_version": "1.2.0",
      "model_name": "LayoutModel",
      "state": {
       "height": "auto"
      }
     },
     "a6511ba296e048b2911bf69b30d59291": {
      "model_module": "@jupyter-widgets/controls",
      "model_module_version": "1.5.0",
      "model_name": "HTMLModel",
      "state": {
       "layout": "IPY_MODEL_e411ffb67da943ba8b0f052b37a0ccc1",
       "style": "IPY_MODEL_d0bc6ac5f2f24bf79a88f41ea7eda1b0",
       "value": "<h1><font color='blue'> You Win! </h1>"
      }
     },
     "a668b00fd4514395a97f22f735a45c7b": {
      "model_module": "@jupyter-widgets/controls",
      "model_module_version": "1.5.0",
      "model_name": "DescriptionStyleModel",
      "state": {
       "description_width": ""
      }
     },
     "a6c875e7ccf249c9ab42c01cba27f135": {
      "model_module": "@jupyter-widgets/controls",
      "model_module_version": "1.5.0",
      "model_name": "ButtonStyleModel",
      "state": {}
     },
     "a6edcd3a88114133a37ff91db18a1009": {
      "model_module": "@jupyter-widgets/base",
      "model_module_version": "1.2.0",
      "model_name": "LayoutModel",
      "state": {
       "margin": "0px 0px 0px 100px"
      }
     },
     "a6f897512b054e82bcf1008e25111650": {
      "model_module": "@jupyter-widgets/controls",
      "model_module_version": "1.5.0",
      "model_name": "HTMLModel",
      "state": {
       "layout": "IPY_MODEL_c3a9a4d8054d41b1bd0903b8d5d30a37",
       "style": "IPY_MODEL_3ec15d150aa144d7b5e5fad23591cb31",
       "value": "<h1><font color=red>Secret Word:                          indigo</h1>"
      }
     },
     "a728f66a989146179af50377ddf87620": {
      "model_module": "@jupyter-widgets/controls",
      "model_module_version": "1.5.0",
      "model_name": "DescriptionStyleModel",
      "state": {
       "description_width": ""
      }
     },
     "a72933ac99324bb3ac6c4f4d83eb95ee": {
      "model_module": "@jupyter-widgets/controls",
      "model_module_version": "1.5.0",
      "model_name": "HTMLModel",
      "state": {
       "layout": "IPY_MODEL_15d2fd5115734181ab75ee976964bf22",
       "style": "IPY_MODEL_db9165d9a50743179665f70e25ee15f4",
       "value": "<h3>Click on a letter below to guess the word.</h3>"
      }
     },
     "a744da9c0f904566acd0bddd7b810830": {
      "model_module": "@jupyter-widgets/base",
      "model_module_version": "1.2.0",
      "model_name": "LayoutModel",
      "state": {
       "height": "25px",
       "width": "33px"
      }
     },
     "a74972c1759c48c1bec9c8331950d363": {
      "model_module": "@jupyter-widgets/controls",
      "model_module_version": "1.5.0",
      "model_name": "HTMLModel",
      "state": {
       "layout": "IPY_MODEL_f27d3824a5754004ae258e633c040688",
       "style": "IPY_MODEL_ec7aa52ccea44b90ae0e13f2c34b184b",
       "value": "<h1><font color=black>Secret Word:                          _ _ _ _ _ _</h1>"
      }
     },
     "a757504048b3478db9ca0ab6425e67bf": {
      "model_module": "@jupyter-widgets/base",
      "model_module_version": "1.2.0",
      "model_name": "LayoutModel",
      "state": {
       "grid_area": "center"
      }
     },
     "a760d79f396b4c6ea1ed2fb7be9acaea": {
      "model_module": "@jupyter-widgets/controls",
      "model_module_version": "1.5.0",
      "model_name": "ButtonStyleModel",
      "state": {}
     },
     "a768e36e40734107b8a85a7c378cd45d": {
      "model_module": "@jupyter-widgets/controls",
      "model_module_version": "1.5.0",
      "model_name": "ButtonModel",
      "state": {
       "button_style": "warning",
       "description": "T",
       "layout": "IPY_MODEL_cfb195637e154cfca8f6afe2a62da4a5",
       "style": "IPY_MODEL_d1e0261bad73418581b4db61710733a1",
       "tooltip": "Click to guess T."
      }
     },
     "a76d3441162c4c7e8c2e445b6378a653": {
      "model_module": "@jupyter-widgets/controls",
      "model_module_version": "1.5.0",
      "model_name": "HTMLModel",
      "state": {
       "layout": "IPY_MODEL_09551bebd02b4bc288faf868cbd8cb36",
       "style": "IPY_MODEL_663297c3e52f4569bddb742aa20260fc",
       "value": "<h3>Click on a letter below to guess the word.</h3>"
      }
     },
     "a78ad2d90ced4a3eb1c942d7be470666": {
      "buffers": [
       {
        "data": "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",
        "encoding": "base64",
        "path": [
         "value"
        ]
       }
      ],
      "model_module": "@jupyter-widgets/controls",
      "model_module_version": "1.5.0",
      "model_name": "ImageModel",
      "state": {
       "layout": "IPY_MODEL_9e945a0240fb461b9955cd835343abe1",
       "value": {}
      }
     },
     "a7c1d37a544b47ee8778d056eff417a3": {
      "model_module": "@jupyter-widgets/controls",
      "model_module_version": "1.5.0",
      "model_name": "DescriptionStyleModel",
      "state": {
       "description_width": ""
      }
     },
     "a7eb90a0993f4b98ba606d41ad9d16f8": {
      "model_module": "@jupyter-widgets/base",
      "model_module_version": "1.2.0",
      "model_name": "LayoutModel",
      "state": {
       "width": "500px"
      }
     },
     "a7fdf806cb9f476da1744e0141246671": {
      "model_module": "@jupyter-widgets/controls",
      "model_module_version": "1.5.0",
      "model_name": "VBoxModel",
      "state": {
       "children": [
        "IPY_MODEL_48f7f92efab04e54a650e3f05cba3124"
       ],
       "layout": "IPY_MODEL_2ee260f5677546d88009e21396e5683b"
      }
     },
     "a81f0b62bb74466590c30d9f6e71762c": {
      "model_module": "@jupyter-widgets/base",
      "model_module_version": "1.2.0",
      "model_name": "LayoutModel",
      "state": {
       "height": "auto"
      }
     },
     "a83c1540282543e99c7d479d7608f6d9": {
      "model_module": "@jupyter-widgets/base",
      "model_module_version": "1.2.0",
      "model_name": "LayoutModel",
      "state": {
       "height": "25px",
       "width": "33px"
      }
     },
     "a83e4ff4f075422195cbcb0126fdf44e": {
      "model_module": "@jupyter-widgets/base",
      "model_module_version": "1.2.0",
      "model_name": "LayoutModel",
      "state": {
       "grid_area": "center"
      }
     },
     "a84dc4f80a97400bb8a0f66b91f03bd1": {
      "model_module": "@jupyter-widgets/controls",
      "model_module_version": "1.5.0",
      "model_name": "ButtonStyleModel",
      "state": {}
     },
     "a87438d2e97249428db80293d2826227": {
      "model_module": "@jupyter-widgets/base",
      "model_module_version": "1.2.0",
      "model_name": "LayoutModel",
      "state": {
       "grid_area": "center"
      }
     },
     "a890c74da20f48449f31ba5b3a99f402": {
      "model_module": "@jupyter-widgets/base",
      "model_module_version": "1.2.0",
      "model_name": "LayoutModel",
      "state": {
       "height": "25px",
       "width": "33px"
      }
     },
     "a8bc2ced7eac4cf78504a8b99c348743": {
      "model_module": "@jupyter-widgets/controls",
      "model_module_version": "1.5.0",
      "model_name": "DescriptionStyleModel",
      "state": {
       "description_width": ""
      }
     },
     "a8d557e110c746db9a7bd0bb27c20abe": {
      "model_module": "@jupyter-widgets/controls",
      "model_module_version": "1.5.0",
      "model_name": "VBoxModel",
      "state": {
       "children": [
        "IPY_MODEL_80786601c14e41b09affe2b84dcaee83",
        "IPY_MODEL_20154f7cacda48caa88ab4586e432ce3"
       ],
       "layout": "IPY_MODEL_ea204ff9e6724605a269c7efd0ea4236"
      }
     },
     "a8e23f46bbc64457afb70326b0ff103d": {
      "model_module": "@jupyter-widgets/base",
      "model_module_version": "1.2.0",
      "model_name": "LayoutModel",
      "state": {
       "height": "25px",
       "width": "33px"
      }
     },
     "a908a8626dc44b54ac0194469d1ce364": {
      "model_module": "@jupyter-widgets/controls",
      "model_module_version": "1.5.0",
      "model_name": "DescriptionStyleModel",
      "state": {
       "description_width": ""
      }
     },
     "a911a6c355464751bcec8858e797ca20": {
      "model_module": "@jupyter-widgets/controls",
      "model_module_version": "1.5.0",
      "model_name": "ButtonModel",
      "state": {
       "button_style": "warning",
       "description": "Z",
       "layout": "IPY_MODEL_52ba490f67a541a1a630987bf0339016",
       "style": "IPY_MODEL_b89ab95f81ea48649aec984aed1b44c5",
       "tooltip": "Click to guess Z."
      }
     },
     "a915be4b9a224a3caef1daee2093a3b0": {
      "model_module": "@jupyter-widgets/base",
      "model_module_version": "1.2.0",
      "model_name": "LayoutModel",
      "state": {
       "margin": "0px 0px 0px 100px"
      }
     },
     "a91d95b231e149f8955259dd6772aca4": {
      "model_module": "@jupyter-widgets/base",
      "model_module_version": "1.2.0",
      "model_name": "LayoutModel",
      "state": {}
     },
     "a9442727355b44c0b5061d2a5c6559b6": {
      "model_module": "@jupyter-widgets/controls",
      "model_module_version": "1.5.0",
      "model_name": "ButtonStyleModel",
      "state": {}
     },
     "a94428ae9a3d4e92a82caa278f0d8840": {
      "model_module": "@jupyter-widgets/controls",
      "model_module_version": "1.5.0",
      "model_name": "DescriptionStyleModel",
      "state": {
       "description_width": ""
      }
     },
     "a9518760695848da9089c81dbe7cb3f7": {
      "model_module": "@jupyter-widgets/base",
      "model_module_version": "1.2.0",
      "model_name": "LayoutModel",
      "state": {
       "height": "25px",
       "width": "33px"
      }
     },
     "a95c4bd56388436aae8f5fa47758cdfe": {
      "model_module": "@jupyter-widgets/base",
      "model_module_version": "1.2.0",
      "model_name": "LayoutModel",
      "state": {}
     },
     "a95dd329975f4e02aabb36bb581efe5c": {
      "model_module": "@jupyter-widgets/controls",
      "model_module_version": "1.5.0",
      "model_name": "ButtonModel",
      "state": {
       "button_style": "warning",
       "description": "J",
       "layout": "IPY_MODEL_cbb9ca4ece4342739c11f768fe741924",
       "style": "IPY_MODEL_c92ec8d479354df98bf15a4eb4f72d0d",
       "tooltip": "Click to guess J."
      }
     },
     "a960f24446de4b37976eb85c9091da55": {
      "model_module": "@jupyter-widgets/controls",
      "model_module_version": "1.5.0",
      "model_name": "ButtonModel",
      "state": {
       "button_style": "warning",
       "description": "C",
       "layout": "IPY_MODEL_eada5a041b974ed89937f4b161df80f7",
       "style": "IPY_MODEL_29317ce9b9524f38ab09906a29f2bbf8",
       "tooltip": "Click to guess C."
      }
     },
     "a96c3c7dc38044a0b9c6e3f25642c8af": {
      "model_module": "@jupyter-widgets/controls",
      "model_module_version": "1.5.0",
      "model_name": "DescriptionStyleModel",
      "state": {
       "description_width": ""
      }
     },
     "a977217ba3c4436aae07b0a763fa95a8": {
      "model_module": "@jupyter-widgets/base",
      "model_module_version": "1.2.0",
      "model_name": "LayoutModel",
      "state": {
       "height": "25px",
       "width": "33px"
      }
     },
     "a9a5332ca1a1492f88275a5a39947bdf": {
      "model_module": "@jupyter-widgets/controls",
      "model_module_version": "1.5.0",
      "model_name": "ButtonStyleModel",
      "state": {}
     },
     "a9a9d6c97ac04eddb1e4b3495abb5a3a": {
      "buffers": [
       {
        "data": "iVBORw0KGgoAAAANSUhEUgAAATQAAAE0CAIAAAAt41jIAAAEvUlEQVR4nO3d0W6iUBRAUZ30/3+ZeZjEsYqAArJb13pqDRJisnNQkXs6AQAAwD7O1/8Mw3DUcQCn0+l8/p/knwOPA5ggTogSJ0SJE6LECVHihChxQpQ4IUqcECVOiBInRIkTosQJUeKEKHFClDghSpwQJU6IEidEiROixAlR4oQocUKUOCFKnBAlTogSJ0SJE6LECVHihChxQpQ4IUqcECVOiPo6+gB+j+sFw9nWMAxHH8IBTM5tKHNXn/nyihOinNZu7DNPwPbzmTPzH5MTosQJUeKEKHFClDghSpwQJU6IEidEiROixAlR4oQocUKUOCFKnBAlTogSJ0SJE6LcCWGV+9/pXx5xSwRWEucrltw7Q6WsJM7n3GQ5Ed5ly39/SJRniXOp5VlebyBRXibOec9meb+xRHmBT2tnXJc5DMNrXd088ZNv98hy4pxyU+bKvemTp4jzoW3LvN+PPpkmznnbvkX0hpOFxDlu128pL/s0PJkgzin7TTnzk1niHPHOgWZ48og4H9p7uBmeTBPnrfePMsOTUeIc956xZngyQZwQJc5v3n/t683Ft3AhTogSJ0SJE6LECVHihChxQpQ4IUqcECXOb95/SYBbfvGIOCFKnOPeMzxdtccEcd56/xmmc1pGifOhvceasck0cY54/69S4J44p+w33IxNZolz3K53r7Q6IEuIc962fZqZLCTOh/ZYOmGPJR74rcQ5Zds+lclTxDnjps/XEr15ojJZwuK589YsgLtm4V0+nDiXejZRWbKSOJ8zmuiSp8CzxPmKJd+CapKVxLmKAtmPT2shSpwQJU6IEidEiROixAlR4oQocUKUOCFKnBAlTogSJ0SJE6LECVHihChxQpQ4IUqcECVOiBInRIkTosQJUeKEKHFClDghSpwQJU6IEidEiROixAlR4oQocUKUOCFKnBAlTogSJ0SJE6LECVHihChxQpQ4IUqcECVOiBInRIkTosQJUeKEKHFClDghSpwQJU6IEidEiROixAlR4oQocUKUOCFKnBAlTogSJ0SJE6LECVHihChxQpQ4IUqcECVOiBInRIkTosQJUeKEKHFClDghSpwQJU6IEidEiROixAlR4oQocUKUOCFKnBAlTogSJ0SJE6LECVHihChxQpQ4IUqcECVOiBInRIkTosQJUeKEKHFClDghSpwQJU6IEidEiROixAlR4oQocUKUOCFKnBAlTogSJ0SJE6LECVHihChxQpQ4IUqcECVOiBInRIkTosQJUeKEKHFClDghSpwQJU6IEidEiROixAlR4oQocUKUOCFKnBAlTogSJ0SJE6LECVHihChxQpQ4IUqcECVOiBInRIkTosQJUeKEKHFClDghSpwQJU6IEidEiROixAlR4oQocUKUOCFKnBAlTogSJ0SJE6LECVHihChxQpQ4IUqcECVOiBInRIkTosQJUeKEKHFClDghSpwQJU6IEidEiROixAlR4oQocUKUOCHq6+gDYN75fD76EI7XfxGGYdh2hyYnRIkTopzW/gCbny/xI5icECVOiBInRIkTosQJUeKEKHFClDghSpwQJU6IEidEiROixAlR4oQocUKUOCFKnBAlTogSJ0SJE6LECQAAAPBh/gLkBrZ9QrhuSAAAAABJRU5ErkJggg==",
        "encoding": "base64",
        "path": [
         "value"
        ]
       }
      ],
      "model_module": "@jupyter-widgets/controls",
      "model_module_version": "1.5.0",
      "model_name": "ImageModel",
      "state": {
       "layout": "IPY_MODEL_c0a38aa53b174a61a15da80d8b1062a4"
      }
     },
     "aa221fcfbc4947ecb649a8b296f4b069": {
      "model_module": "@jupyter-widgets/base",
      "model_module_version": "1.2.0",
      "model_name": "LayoutModel",
      "state": {
       "height": "25px",
       "width": "33px"
      }
     },
     "aa54f62d9e3b4b368666e14218dd757d": {
      "model_module": "@jupyter-widgets/controls",
      "model_module_version": "1.5.0",
      "model_name": "ButtonModel",
      "state": {
       "button_style": "warning",
       "description": "S",
       "layout": "IPY_MODEL_f017a6e634e24e83a1e87987bf055a81",
       "style": "IPY_MODEL_d2901e59d65a4ef099649957076e3d0f",
       "tooltip": "Click to guess S."
      }
     },
     "aa6dbcb76fd6404bb8e7cf404dea800d": {
      "model_module": "@jupyter-widgets/controls",
      "model_module_version": "1.5.0",
      "model_name": "ButtonModel",
      "state": {
       "button_style": "warning",
       "description": "V",
       "disabled": true,
       "layout": "IPY_MODEL_eff0224d3f864d538b7c46285c1b5c94",
       "style": "IPY_MODEL_58b742de77944b89bfe62ee42937fcea"
      }
     },
     "aa702e0830bd430480f26447b47830a9": {
      "model_module": "@jupyter-widgets/base",
      "model_module_version": "1.2.0",
      "model_name": "LayoutModel",
      "state": {
       "height": "25px",
       "width": "33px"
      }
     },
     "aa7dc55760e841e087731e5457e5de37": {
      "model_module": "@jupyter-widgets/controls",
      "model_module_version": "1.5.0",
      "model_name": "ButtonModel",
      "state": {
       "button_style": "warning",
       "description": "U",
       "disabled": true,
       "layout": "IPY_MODEL_08c44714eefc41b08ff27b6f04db96c2",
       "style": "IPY_MODEL_cf2f2863bd274c998978b1b94445e535"
      }
     },
     "aa8682af6a644070a83582bbaf2f152c": {
      "model_module": "@jupyter-widgets/base",
      "model_module_version": "1.2.0",
      "model_name": "LayoutModel",
      "state": {
       "margin": "0px 0px 0px 100px"
      }
     },
     "aa8fdfa83be743cd93f74b6d41e3bacd": {
      "model_module": "@jupyter-widgets/controls",
      "model_module_version": "1.5.0",
      "model_name": "ButtonModel",
      "state": {
       "button_style": "warning",
       "description": "X",
       "disabled": true,
       "layout": "IPY_MODEL_ac4af5b3257d46e5920224224798819c",
       "style": "IPY_MODEL_cd80b736564d402bab92b0646d229d6a"
      }
     },
     "aa9214ae5f0040c3988b99ddf6fdf6a1": {
      "model_module": "@jupyter-widgets/controls",
      "model_module_version": "1.5.0",
      "model_name": "HTMLModel",
      "state": {
       "layout": "IPY_MODEL_6406bdf8ba194e45b290452212e55525",
       "style": "IPY_MODEL_cba6f8763b244794a067713b5c08b862",
       "value": "<h4>Games: 0</h4>"
      }
     },
     "aaa25f976f8d4c9aae08e894b9a4cfcd": {
      "model_module": "@jupyter-widgets/base",
      "model_module_version": "1.2.0",
      "model_name": "LayoutModel",
      "state": {
       "height": "auto"
      }
     },
     "aab4147de9f7419b8ba5ffe8aa4baea2": {
      "model_module": "@jupyter-widgets/base",
      "model_module_version": "1.2.0",
      "model_name": "LayoutModel",
      "state": {
       "width": "500px"
      }
     },
     "aabdc8491cc942e4afd46881fbe8a89b": {
      "model_module": "@jupyter-widgets/base",
      "model_module_version": "1.2.0",
      "model_name": "LayoutModel",
      "state": {
       "grid_area": "footer",
       "margin": "-60px 0px 0px 0px"
      }
     },
     "aaf613aae2294629aa7ef9eff26b34bc": {
      "model_module": "@jupyter-widgets/controls",
      "model_module_version": "1.5.0",
      "model_name": "GridBoxModel",
      "state": {
       "children": [
        "IPY_MODEL_a54508288f0d435fb8fe699bc76ab67c",
        "IPY_MODEL_a3fd20560bd74d85bd9807a0047da96d",
        "IPY_MODEL_ca6e9351b86e4f5a96ef2f8ce4d73058",
        "IPY_MODEL_8e8552aafa984bfd88bbf23e5a4855b6"
       ],
       "layout": "IPY_MODEL_0aa7f9d35e7b4ae893b7a36bf0704c3e"
      }
     },
     "ab2dfd27326148e3931a6df3d2a18072": {
      "model_module": "@jupyter-widgets/controls",
      "model_module_version": "1.5.0",
      "model_name": "ButtonModel",
      "state": {
       "button_style": "warning",
       "description": "Z",
       "disabled": true,
       "layout": "IPY_MODEL_108d4bff7ab14bce8c0097f090b8e711",
       "style": "IPY_MODEL_e53c1764a4b74afd96e977d3c59e1fad"
      }
     },
     "ab5f44a07c9c4d1a966b1f46c51d0b6b": {
      "model_module": "@jupyter-widgets/base",
      "model_module_version": "1.2.0",
      "model_name": "LayoutModel",
      "state": {}
     },
     "ab6649df09904ffabd4ff183fdcad6af": {
      "model_module": "@jupyter-widgets/base",
      "model_module_version": "1.2.0",
      "model_name": "LayoutModel",
      "state": {
       "grid_area": "center"
      }
     },
     "ab696e619e644de98aa0d5029d80adb9": {
      "model_module": "@jupyter-widgets/base",
      "model_module_version": "1.2.0",
      "model_name": "LayoutModel",
      "state": {
       "grid_area": "footer",
       "margin": "-60px 0px 0px 0px"
      }
     },
     "ab6a65494ae1427b993d271a780aa9ca": {
      "model_module": "@jupyter-widgets/base",
      "model_module_version": "1.2.0",
      "model_name": "LayoutModel",
      "state": {}
     },
     "ab6ab1cd8ecc440295f3e84e83fc4e3a": {
      "model_module": "@jupyter-widgets/base",
      "model_module_version": "1.2.0",
      "model_name": "LayoutModel",
      "state": {
       "height": "auto"
      }
     },
     "ab8f0a73990b4070aa0aeff9320a8a48": {
      "model_module": "@jupyter-widgets/controls",
      "model_module_version": "1.5.0",
      "model_name": "ButtonStyleModel",
      "state": {}
     },
     "aba0f0bc88244faeb1abc1f255b7cbdf": {
      "model_module": "@jupyter-widgets/controls",
      "model_module_version": "1.5.0",
      "model_name": "ButtonModel",
      "state": {
       "button_style": "warning",
       "description": "T",
       "disabled": true,
       "layout": "IPY_MODEL_6d932038d5ff431aa70ffbd406a1a3ba",
       "style": "IPY_MODEL_4b18e1018515468d833048386c49d2fc"
      }
     },
     "abf041282566470683d28e2971d2cd9c": {
      "model_module": "@jupyter-widgets/base",
      "model_module_version": "1.2.0",
      "model_name": "LayoutModel",
      "state": {
       "height": "25px",
       "width": "33px"
      }
     },
     "ac0b2ebf81494b48b8f31ce3b1ebf765": {
      "model_module": "@jupyter-widgets/controls",
      "model_module_version": "1.5.0",
      "model_name": "HTMLModel",
      "state": {
       "layout": "IPY_MODEL_8d1acb23506d4e3cbea7c5e03e45efbb",
       "style": "IPY_MODEL_8836e031189744608fbb35a076f0316f",
       "value": "<h4>Wins: 0</h4>"
      }
     },
     "ac3afc7fae104498beafad57080fdf8a": {
      "model_module": "@jupyter-widgets/controls",
      "model_module_version": "1.5.0",
      "model_name": "DescriptionStyleModel",
      "state": {
       "description_width": ""
      }
     },
     "ac4af5b3257d46e5920224224798819c": {
      "model_module": "@jupyter-widgets/base",
      "model_module_version": "1.2.0",
      "model_name": "LayoutModel",
      "state": {
       "height": "25px",
       "width": "33px"
      }
     },
     "ac53ca1c16574d558c4bd3c53607222a": {
      "model_module": "@jupyter-widgets/controls",
      "model_module_version": "1.5.0",
      "model_name": "ButtonStyleModel",
      "state": {}
     },
     "ac635af3f258421d96781e83dc758002": {
      "model_module": "@jupyter-widgets/base",
      "model_module_version": "1.2.0",
      "model_name": "LayoutModel",
      "state": {
       "margin": "20px 0px 0px 20px"
      }
     },
     "ac7b26bb67284efbb0dd7424ea765f61": {
      "model_module": "@jupyter-widgets/controls",
      "model_module_version": "1.5.0",
      "model_name": "ButtonStyleModel",
      "state": {}
     },
     "ac7b464f79404df195c814b082b6cca4": {
      "model_module": "@jupyter-widgets/controls",
      "model_module_version": "1.5.0",
      "model_name": "HTMLModel",
      "state": {
       "layout": "IPY_MODEL_f86a289c1f6346bd9912aa25a0164f60",
       "style": "IPY_MODEL_0cbf1d931ff546b4bc21403fa103d0cc",
       "value": "<h2><font color='black'>Remaining Guesses:                          6</h2>"
      }
     },
     "ac868a853564439897d56ad4fd2468e9": {
      "model_module": "@jupyter-widgets/base",
      "model_module_version": "1.2.0",
      "model_name": "LayoutModel",
      "state": {
       "margin": "0px 0px 0px 70px"
      }
     },
     "ac88ce5947074bfd9f48a274301d6177": {
      "model_module": "@jupyter-widgets/controls",
      "model_module_version": "1.5.0",
      "model_name": "ButtonModel",
      "state": {
       "button_style": "warning",
       "description": "A",
       "layout": "IPY_MODEL_a050a77d2b844f6a936dfc202e4b33c5",
       "style": "IPY_MODEL_e2683e8046bd49608a662dc55f9a426f",
       "tooltip": "Click to guess A."
      }
     },
     "acd0b09994894b858ae63aa0de170371": {
      "model_module": "@jupyter-widgets/controls",
      "model_module_version": "1.5.0",
      "model_name": "ButtonStyleModel",
      "state": {}
     },
     "acd1662111e1484ba7c523a3f64461a7": {
      "model_module": "@jupyter-widgets/base",
      "model_module_version": "1.2.0",
      "model_name": "LayoutModel",
      "state": {
       "height": "25px",
       "width": "33px"
      }
     },
     "acd4f606696c4c64b5d3f4f1a8a4d46b": {
      "model_module": "@jupyter-widgets/controls",
      "model_module_version": "1.5.0",
      "model_name": "ButtonStyleModel",
      "state": {}
     },
     "ad12bc9a3dc041209897bcf41be2aa61": {
      "model_module": "@jupyter-widgets/controls",
      "model_module_version": "1.5.0",
      "model_name": "ButtonModel",
      "state": {
       "button_style": "warning",
       "description": "P",
       "disabled": true,
       "layout": "IPY_MODEL_94cebb387f7c419c9f71b06dc0a49ace",
       "style": "IPY_MODEL_dadd638828a04217b358f32415268683"
      }
     },
     "ad169cb55484434da5eb47094f6aebea": {
      "model_module": "@jupyter-widgets/controls",
      "model_module_version": "1.5.0",
      "model_name": "ButtonStyleModel",
      "state": {}
     },
     "ad34532715bf42cd8da14c3daba6da85": {
      "model_module": "@jupyter-widgets/controls",
      "model_module_version": "1.5.0",
      "model_name": "HBoxModel",
      "state": {
       "children": [
        "IPY_MODEL_c5d9e812ac1c4e358ad190cf2b92ad11",
        "IPY_MODEL_790039bfbd0f437f9725339e1baab5c9",
        "IPY_MODEL_96aea9e01cdf47cfa5f1d562d1f9bb8c",
        "IPY_MODEL_6ee922d337b14c7f8663f094bae1762b",
        "IPY_MODEL_48e6963377f5401eb163cf17bcce3671",
        "IPY_MODEL_73388aba492b4264b29485ac42bb01e5",
        "IPY_MODEL_7f54586190784d8e993e8ea2c64e598a",
        "IPY_MODEL_0e18b995fe68426a967ac4d11c7f7bfe",
        "IPY_MODEL_6ac9d234bd0d4500bc57551e303d6f0d",
        "IPY_MODEL_a95dd329975f4e02aabb36bb581efe5c",
        "IPY_MODEL_466233c16d06442d8d7d100edc591d7e",
        "IPY_MODEL_0ddc3054a01849f8a338b3c1a692df62",
        "IPY_MODEL_122a3ff2301b41d29c2f7d7cae5c50ee",
        "IPY_MODEL_de2803245ed74d3dac000b3fa38c867f",
        "IPY_MODEL_63f2ab31ab01491a92fb8153e2ae25ab",
        "IPY_MODEL_cd38338716d542a5978935626c732ab1",
        "IPY_MODEL_b65eedfb58b543eeb22ad1a1cac764d3",
        "IPY_MODEL_f18b9006bcce4078a2da975d11a0fd02",
        "IPY_MODEL_aa54f62d9e3b4b368666e14218dd757d",
        "IPY_MODEL_a768e36e40734107b8a85a7c378cd45d",
        "IPY_MODEL_ca43223526c847e58ba0ef790fcca468",
        "IPY_MODEL_72185f745f3b4bb2b303b6b8159e0798",
        "IPY_MODEL_7ba811feb3de4a1a8c9bbb55bdc6ffaf",
        "IPY_MODEL_15fc867166c54dddb883eac8c57932db",
        "IPY_MODEL_a302788b402f45cc9f8a73122ed4ebe7",
        "IPY_MODEL_b64bcf946b444048a91982a27575ef86"
       ],
       "layout": "IPY_MODEL_355e7fd6fdb24f94851f79c69b79e4d8"
      }
     },
     "ad599b71b8ce45d1815c2b0aaf8b6ee6": {
      "model_module": "@jupyter-widgets/base",
      "model_module_version": "1.2.0",
      "model_name": "LayoutModel",
      "state": {
       "grid_area": "footer",
       "margin": "-60px 0px 0px 0px"
      }
     },
     "ad6d03ac4fa442828791ff11ca2f7de8": {
      "model_module": "@jupyter-widgets/controls",
      "model_module_version": "1.5.0",
      "model_name": "DescriptionStyleModel",
      "state": {
       "description_width": ""
      }
     },
     "ad6dcd21146d4c8f94f516351fc90d87": {
      "model_module": "@jupyter-widgets/controls",
      "model_module_version": "1.5.0",
      "model_name": "HTMLModel",
      "state": {
       "layout": "IPY_MODEL_d48a10532096453193c602a8b406508c",
       "style": "IPY_MODEL_842fc59b107a4b1a96a898ea690f8b9e",
       "value": "<h4>Games: 3</h4>"
      }
     },
     "ad739b563b994f8c8ff48ac1bf4c2e68": {
      "buffers": [
       {
        "data": "iVBORw0KGgoAAAANSUhEUgAAATQAAAE0CAIAAAAt41jIAAAEvUlEQVR4nO3d0W6iUBRAUZ30/3+ZeZjEsYqAArJb13pqDRJisnNQkXs6AQAAwD7O1/8Mw3DUcQCn0+l8/p/knwOPA5ggTogSJ0SJE6LECVHihChxQpQ4IUqcECVOiBInRIkTosQJUeKEKHFClDghSpwQJU6IEidEiROixAlR4oQocUKUOCFKnBAlTogSJ0SJE6LECVHihChxQpQ4IUqcECVOiPo6+gB+j+sFw9nWMAxHH8IBTM5tKHNXn/nyihOinNZu7DNPwPbzmTPzH5MTosQJUeKEKHFClDghSpwQJU6IEidEiROixAlR4oQocUKUOCFKnBAlTogSJ0SJE6LcCWGV+9/pXx5xSwRWEucrltw7Q6WsJM7n3GQ5Ed5ly39/SJRniXOp5VlebyBRXibOec9meb+xRHmBT2tnXJc5DMNrXd088ZNv98hy4pxyU+bKvemTp4jzoW3LvN+PPpkmznnbvkX0hpOFxDlu128pL/s0PJkgzin7TTnzk1niHPHOgWZ48og4H9p7uBmeTBPnrfePMsOTUeIc956xZngyQZwQJc5v3n/t683Ft3AhTogSJ0SJE6LECVHihChxQpQ4IUqcECXOb95/SYBbfvGIOCFKnOPeMzxdtccEcd56/xmmc1pGifOhvceasck0cY54/69S4J44p+w33IxNZolz3K53r7Q6IEuIc962fZqZLCTOh/ZYOmGPJR74rcQ5Zds+lclTxDnjps/XEr15ojJZwuK589YsgLtm4V0+nDiXejZRWbKSOJ8zmuiSp8CzxPmKJd+CapKVxLmKAtmPT2shSpwQJU6IEidEiROixAlR4oQocUKUOCFKnBAlTogSJ0SJE6LECVHihChxQpQ4IUqcECVOiBInRIkTosQJUeKEKHFClDghSpwQJU6IEidEiROixAlR4oQocUKUOCFKnBAlTogSJ0SJE6LECVHihChxQpQ4IUqcECVOiBInRIkTosQJUeKEKHFClDghSpwQJU6IEidEiROixAlR4oQocUKUOCFKnBAlTogSJ0SJE6LECVHihChxQpQ4IUqcECVOiBInRIkTosQJUeKEKHFClDghSpwQJU6IEidEiROixAlR4oQocUKUOCFKnBAlTogSJ0SJE6LECVHihChxQpQ4IUqcECVOiBInRIkTosQJUeKEKHFClDghSpwQJU6IEidEiROixAlR4oQocUKUOCFKnBAlTogSJ0SJE6LECVHihChxQpQ4IUqcECVOiBInRIkTosQJUeKEKHFClDghSpwQJU6IEidEiROixAlR4oQocUKUOCFKnBAlTogSJ0SJE6LECVHihChxQpQ4IUqcECVOiBInRIkTosQJUeKEKHFClDghSpwQJU6IEidEiROixAlR4oQocUKUOCFKnBAlTogSJ0SJE6LECVHihChxQpQ4IUqcECVOiBInRIkTosQJUeKEKHFClDghSpwQJU6IEidEiROixAlR4oQocUKUOCHq6+gDYN75fD76EI7XfxGGYdh2hyYnRIkTopzW/gCbny/xI5icECVOiBInRIkTosQJUeKEKHFClDghSpwQJU6IEidEiROixAlR4oQocUKUOCFKnBAlTogSJ0SJE6LECQAAAPBh/gLkBrZ9QrhuSAAAAABJRU5ErkJggg==",
        "encoding": "base64",
        "path": [
         "value"
        ]
       }
      ],
      "model_module": "@jupyter-widgets/controls",
      "model_module_version": "1.5.0",
      "model_name": "ImageModel",
      "state": {
       "layout": "IPY_MODEL_079d32f9e22742feb55344f0147490cc",
       "value": {}
      }
     },
     "ad8e50a5559d48ecbc27b5dea0198688": {
      "model_module": "@jupyter-widgets/controls",
      "model_module_version": "1.5.0",
      "model_name": "HTMLModel",
      "state": {
       "layout": "IPY_MODEL_573f886749854bfeb446ccfeafc8bfaa",
       "style": "IPY_MODEL_56fa688d2571411c8c385c68f32cab38",
       "value": "<h3>Click on a letter below to guess the word.</h3>"
      }
     },
     "adb65f9f00e64eff86e7e9de6f7db182": {
      "buffers": [
       {
        "data": "iVBORw0KGgoAAAANSUhEUgAAATQAAAE0CAIAAAAt41jIAAAEvUlEQVR4nO3d0W6iUBRAUZ30/3+ZeZjEsYqAArJb13pqDRJisnNQkXs6AQAAwD7O1/8Mw3DUcQCn0+l8/p/knwOPA5ggTogSJ0SJE6LECVHihChxQpQ4IUqcECVOiBInRIkTosQJUeKEKHFClDghSpwQJU6IEidEiROixAlR4oQocUKUOCFKnBAlTogSJ0SJE6LECVHihChxQpQ4IUqcECVOiPo6+gB+j+sFw9nWMAxHH8IBTM5tKHNXn/nyihOinNZu7DNPwPbzmTPzH5MTosQJUeKEKHFClDghSpwQJU6IEidEiROixAlR4oQocUKUOCFKnBAlTogSJ0SJE6LcCWGV+9/pXx5xSwRWEucrltw7Q6WsJM7n3GQ5Ed5ly39/SJRniXOp5VlebyBRXibOec9meb+xRHmBT2tnXJc5DMNrXd088ZNv98hy4pxyU+bKvemTp4jzoW3LvN+PPpkmznnbvkX0hpOFxDlu128pL/s0PJkgzin7TTnzk1niHPHOgWZ48og4H9p7uBmeTBPnrfePMsOTUeIc956xZngyQZwQJc5v3n/t683Ft3AhTogSJ0SJE6LECVHihChxQpQ4IUqcECXOb95/SYBbfvGIOCFKnOPeMzxdtccEcd56/xmmc1pGifOhvceasck0cY54/69S4J44p+w33IxNZolz3K53r7Q6IEuIc962fZqZLCTOh/ZYOmGPJR74rcQ5Zds+lclTxDnjps/XEr15ojJZwuK589YsgLtm4V0+nDiXejZRWbKSOJ8zmuiSp8CzxPmKJd+CapKVxLmKAtmPT2shSpwQJU6IEidEiROixAlR4oQocUKUOCFKnBAlTogSJ0SJE6LECVHihChxQpQ4IUqcECVOiBInRIkTosQJUeKEKHFClDghSpwQJU6IEidEiROixAlR4oQocUKUOCFKnBAlTogSJ0SJE6LECVHihChxQpQ4IUqcECVOiBInRIkTosQJUeKEKHFClDghSpwQJU6IEidEiROixAlR4oQocUKUOCFKnBAlTogSJ0SJE6LECVHihChxQpQ4IUqcECVOiBInRIkTosQJUeKEKHFClDghSpwQJU6IEidEiROixAlR4oQocUKUOCFKnBAlTogSJ0SJE6LECVHihChxQpQ4IUqcECVOiBInRIkTosQJUeKEKHFClDghSpwQJU6IEidEiROixAlR4oQocUKUOCFKnBAlTogSJ0SJE6LECVHihChxQpQ4IUqcECVOiBInRIkTosQJUeKEKHFClDghSpwQJU6IEidEiROixAlR4oQocUKUOCFKnBAlTogSJ0SJE6LECVHihChxQpQ4IUqcECVOiBInRIkTosQJUeKEKHFClDghSpwQJU6IEidEiROixAlR4oQocUKUOCFKnBAlTogSJ0SJE6LECVHihChxQpQ4IUqcECVOiBInRIkTosQJUeKEKHFClDghSpwQJU6IEidEiROixAlR4oQocUKUOCHq6+gDYN75fD76EI7XfxGGYdh2hyYnRIkTopzW/gCbny/xI5icECVOiBInRIkTosQJUeKEKHFClDghSpwQJU6IEidEiROixAlR4oQocUKUOCFKnBAlTogSJ0SJE6LECQAAAPBh/gLkBrZ9QrhuSAAAAABJRU5ErkJggg==",
        "encoding": "base64",
        "path": [
         "value"
        ]
       }
      ],
      "model_module": "@jupyter-widgets/controls",
      "model_module_version": "1.5.0",
      "model_name": "ImageModel",
      "state": {
       "layout": "IPY_MODEL_67edc0901e7649578d5a0c88eb700c4c"
      }
     },
     "adceff30fc3649bebc1488783b239e53": {
      "model_module": "@jupyter-widgets/base",
      "model_module_version": "1.2.0",
      "model_name": "LayoutModel",
      "state": {
       "grid_area": "left-sidebar"
      }
     },
     "ae4384fcc18a41ee9361956ba1a56bd7": {
      "model_module": "@jupyter-widgets/controls",
      "model_module_version": "1.5.0",
      "model_name": "DescriptionStyleModel",
      "state": {
       "description_width": ""
      }
     },
     "ae58f65c673b4c25a8567b38d4895f1c": {
      "model_module": "@jupyter-widgets/base",
      "model_module_version": "1.2.0",
      "model_name": "LayoutModel",
      "state": {
       "margin": "0px 0px 0px 100px"
      }
     },
     "ae7628c8b9634c41829769ac61a0d73a": {
      "model_module": "@jupyter-widgets/controls",
      "model_module_version": "1.5.0",
      "model_name": "ButtonModel",
      "state": {
       "button_style": "warning",
       "description": "H",
       "disabled": true,
       "layout": "IPY_MODEL_c91feb8561a24e278f91ce61bb9236db",
       "style": "IPY_MODEL_423dd466600242b7ad5928ef28421284"
      }
     },
     "ae898857e4274476905ea336505e55d0": {
      "model_module": "@jupyter-widgets/controls",
      "model_module_version": "1.5.0",
      "model_name": "ButtonStyleModel",
      "state": {}
     },
     "ae90e04840ea4e4b9e87b747e3a3db1d": {
      "model_module": "@jupyter-widgets/controls",
      "model_module_version": "1.5.0",
      "model_name": "ButtonModel",
      "state": {
       "button_style": "warning",
       "description": "V",
       "disabled": true,
       "layout": "IPY_MODEL_d57b60b943f045dcac5a5d3b9421a825",
       "style": "IPY_MODEL_cd10c5659fe343038822bfa86655c87a"
      }
     },
     "aea84970bca54945ba22898104bb3d2b": {
      "model_module": "@jupyter-widgets/base",
      "model_module_version": "1.2.0",
      "model_name": "LayoutModel",
      "state": {
       "width": "500px"
      }
     },
     "aee313254d824c17884bbe86e4877eed": {
      "model_module": "@jupyter-widgets/controls",
      "model_module_version": "1.5.0",
      "model_name": "ButtonStyleModel",
      "state": {}
     },
     "aef57e3c2918455b91ba864fbbfaf67a": {
      "model_module": "@jupyter-widgets/controls",
      "model_module_version": "1.5.0",
      "model_name": "DescriptionStyleModel",
      "state": {
       "description_width": ""
      }
     },
     "af136d4949f4479885d36dac52f6b1b7": {
      "model_module": "@jupyter-widgets/controls",
      "model_module_version": "1.5.0",
      "model_name": "DescriptionStyleModel",
      "state": {
       "description_width": ""
      }
     },
     "af16ccbc63824deea90bd5bca4ada97c": {
      "model_module": "@jupyter-widgets/base",
      "model_module_version": "1.2.0",
      "model_name": "LayoutModel",
      "state": {}
     },
     "af1942b36ca542ce98d95e54c19ae42b": {
      "model_module": "@jupyter-widgets/base",
      "model_module_version": "1.2.0",
      "model_name": "LayoutModel",
      "state": {
       "height": "25px",
       "width": "33px"
      }
     },
     "af4ed4233dcd42fda30201c53776ba2a": {
      "model_module": "@jupyter-widgets/base",
      "model_module_version": "1.2.0",
      "model_name": "LayoutModel",
      "state": {}
     },
     "af731487a4d14f70bddc4667aa57a4bc": {
      "model_module": "@jupyter-widgets/controls",
      "model_module_version": "1.5.0",
      "model_name": "ButtonStyleModel",
      "state": {}
     },
     "af8bd0c5354347238a1dcf55977f51ff": {
      "model_module": "@jupyter-widgets/controls",
      "model_module_version": "1.5.0",
      "model_name": "HTMLModel",
      "state": {
       "layout": "IPY_MODEL_0530719e4ee242148c664b8306a26f15",
       "style": "IPY_MODEL_ed4f269c24a34b0a906cf2ed2ee1c911",
       "value": "<h2><font color='black'>Remaining Guesses:                          5</h2>"
      }
     },
     "afb7e37b8ba34372968fa6c2d0c54dd3": {
      "model_module": "@jupyter-widgets/controls",
      "model_module_version": "1.5.0",
      "model_name": "GridBoxModel",
      "state": {
       "children": [
        "IPY_MODEL_a5341012c576497ba90e6ada151276b9",
        "IPY_MODEL_1ce9366a59f24609ad922fc9e1c5fbab",
        "IPY_MODEL_cbdcc86ca1684904ab76d091708e4553",
        "IPY_MODEL_1fb61722228c4ac1ab7cb1d0a05315d9"
       ],
       "layout": "IPY_MODEL_5e0b63b551f84eb7aeb5520a6df04292"
      }
     },
     "afba6ff528354d64af62e3ec7196d74a": {
      "model_module": "@jupyter-widgets/controls",
      "model_module_version": "1.5.0",
      "model_name": "VBoxModel",
      "state": {
       "children": [
        "IPY_MODEL_319ec374a0e74307bf0b1622365ce35d",
        "IPY_MODEL_ce93a7d0ab1d45e397b9609c5c70ead9",
        "IPY_MODEL_fa27f644733b4fc2a3248efbd24dee70"
       ],
       "layout": "IPY_MODEL_4908b953cc114e62a9350692fa3e7f04"
      }
     },
     "afc40b85cc524424a56c467ef530f008": {
      "model_module": "@jupyter-widgets/controls",
      "model_module_version": "1.5.0",
      "model_name": "ButtonStyleModel",
      "state": {}
     },
     "afd283b072c14029b1991ef5d5ab9192": {
      "model_module": "@jupyter-widgets/base",
      "model_module_version": "1.2.0",
      "model_name": "LayoutModel",
      "state": {
       "width": "500px"
      }
     },
     "afdaecbf023f4926b71a6f4805a3f9b6": {
      "model_module": "@jupyter-widgets/base",
      "model_module_version": "1.2.0",
      "model_name": "LayoutModel",
      "state": {
       "margin": "0px 0px 0px 100px"
      }
     },
     "afdbab412e634a0e98c6e0f8295d8e50": {
      "model_module": "@jupyter-widgets/controls",
      "model_module_version": "1.5.0",
      "model_name": "DescriptionStyleModel",
      "state": {
       "description_width": ""
      }
     },
     "b007bd20296847e2857fed20dd021c3b": {
      "model_module": "@jupyter-widgets/controls",
      "model_module_version": "1.5.0",
      "model_name": "DescriptionStyleModel",
      "state": {
       "description_width": ""
      }
     },
     "b008073a2ae6409aa6dbf8b9855ff517": {
      "model_module": "@jupyter-widgets/controls",
      "model_module_version": "1.5.0",
      "model_name": "ButtonStyleModel",
      "state": {}
     },
     "b00c849b44624ed6a72030a88c7064d7": {
      "model_module": "@jupyter-widgets/controls",
      "model_module_version": "1.5.0",
      "model_name": "DescriptionStyleModel",
      "state": {
       "description_width": ""
      }
     },
     "b00d8cc8d32e428aab0bcfad58f13832": {
      "model_module": "@jupyter-widgets/controls",
      "model_module_version": "1.5.0",
      "model_name": "DescriptionStyleModel",
      "state": {
       "description_width": ""
      }
     },
     "b0180c1eab874fb88fbc4a939cfc5fd2": {
      "model_module": "@jupyter-widgets/controls",
      "model_module_version": "1.5.0",
      "model_name": "ButtonStyleModel",
      "state": {}
     },
     "b0304378cb654950a99ce877198e3516": {
      "model_module": "@jupyter-widgets/controls",
      "model_module_version": "1.5.0",
      "model_name": "ButtonModel",
      "state": {
       "button_style": "warning",
       "description": "I",
       "layout": "IPY_MODEL_86396d28464f4d4787722838a3fc761a",
       "style": "IPY_MODEL_535489b5ec0e43aeaa36777d21fa4ce5",
       "tooltip": "Click to guess I."
      }
     },
     "b0526f76bba242d691bec2e58a7c1baa": {
      "model_module": "@jupyter-widgets/controls",
      "model_module_version": "1.5.0",
      "model_name": "ButtonModel",
      "state": {
       "button_style": "warning",
       "description": "E",
       "disabled": true,
       "layout": "IPY_MODEL_52029887910c416da3c686c468f8b253",
       "style": "IPY_MODEL_1d84b0c739cf4592bb0b81b115e14432"
      }
     },
     "b083764cc4cc4801bb882497dbb89c3a": {
      "model_module": "@jupyter-widgets/controls",
      "model_module_version": "1.5.0",
      "model_name": "VBoxModel",
      "state": {
       "children": [
        "IPY_MODEL_e61872f4ba9b446680aa1d157998f53a",
        "IPY_MODEL_5ed97de82bf44fc5a1579771f2ca3a9c",
        "IPY_MODEL_b2ce14f530de4d5ea0d8a62af9a72018"
       ],
       "layout": "IPY_MODEL_5bb53dd932ee4bc498b65fc22649a58c"
      }
     },
     "b08f080a0e6343e1b6ea65acd87c3571": {
      "model_module": "@jupyter-widgets/controls",
      "model_module_version": "1.5.0",
      "model_name": "DescriptionStyleModel",
      "state": {
       "description_width": ""
      }
     },
     "b09db1313585460d9a12e6d48407d00b": {
      "model_module": "@jupyter-widgets/controls",
      "model_module_version": "1.5.0",
      "model_name": "HTMLModel",
      "state": {
       "layout": "IPY_MODEL_1d009e338f26479d93836ece5c642e48",
       "style": "IPY_MODEL_2a055265068948a08fc9e669a4152381",
       "value": "<h3>Player Result</h3>"
      }
     },
     "b0a660bf1dd64693bc14b2ed744af955": {
      "model_module": "@jupyter-widgets/base",
      "model_module_version": "1.2.0",
      "model_name": "LayoutModel",
      "state": {
       "height": "25px",
       "width": "33px"
      }
     },
     "b0a9eb9af91f439283639ab89cc66664": {
      "model_module": "@jupyter-widgets/controls",
      "model_module_version": "1.5.0",
      "model_name": "HTMLModel",
      "state": {
       "layout": "IPY_MODEL_7b49f4d8610843278e9fb93eb8dd052c",
       "style": "IPY_MODEL_4a484c90bfc84ebe85bc902897b6bc56",
       "value": "<h3>Player Result</h3>"
      }
     },
     "b0beafbcbccd4128a3528e1118274a7e": {
      "model_module": "@jupyter-widgets/controls",
      "model_module_version": "1.5.0",
      "model_name": "GridBoxModel",
      "state": {
       "children": [
        "IPY_MODEL_e00521e991ce49e890cfb45494f3a3c4",
        "IPY_MODEL_87a2502e9dff4c64b0a46a6df253dc30",
        "IPY_MODEL_f7f826c12ab044f5914d4878a0732c0d",
        "IPY_MODEL_f0bfcce0e6044b51bb8c1dbd3a93cba6"
       ],
       "layout": "IPY_MODEL_bc2689b529db46f99876e890217612e2"
      }
     },
     "b0ef27a2adc4443788b90946d779cf5f": {
      "model_module": "@jupyter-widgets/controls",
      "model_module_version": "1.5.0",
      "model_name": "ButtonStyleModel",
      "state": {}
     },
     "b114f9a5ea9b486182a77e5cc8242af2": {
      "model_module": "@jupyter-widgets/base",
      "model_module_version": "1.2.0",
      "model_name": "LayoutModel",
      "state": {
       "grid_template_areas": "\"header header header\"\n\"left-sidebar center center\"\n\"footer footer footer\"",
       "grid_template_columns": "1fr 2fr 1fr",
       "grid_template_rows": "1fr 3fr 1fr"
      }
     },
     "b1333d1cb8b949059d1fc2fbc7aa310e": {
      "model_module": "@jupyter-widgets/controls",
      "model_module_version": "1.5.0",
      "model_name": "HTMLModel",
      "state": {
       "layout": "IPY_MODEL_5ef13446b5184aa7b213fa778a05baa0",
       "style": "IPY_MODEL_d7f5375c9b8c4c0da595a4be90f697fb",
       "value": "<h4>Games: 3</h4>"
      }
     },
     "b13c39e567b4495b8586f5d393763b14": {
      "model_module": "@jupyter-widgets/controls",
      "model_module_version": "1.5.0",
      "model_name": "ButtonModel",
      "state": {
       "button_style": "warning",
       "description": "N",
       "disabled": true,
       "layout": "IPY_MODEL_af1942b36ca542ce98d95e54c19ae42b",
       "style": "IPY_MODEL_3fe45e4d65184ddca4ca6a53fc970019"
      }
     },
     "b13dd353256a411082a3827d1222391b": {
      "model_module": "@jupyter-widgets/controls",
      "model_module_version": "1.5.0",
      "model_name": "HTMLModel",
      "state": {
       "layout": "IPY_MODEL_023f707bca68486095aed2d12636367b",
       "style": "IPY_MODEL_5c6abc44a49144a382ca632d9afd7dcb",
       "value": "<h4>Wins: 0</h4>"
      }
     },
     "b148c35b766041ea937f4bd248fa0466": {
      "model_module": "@jupyter-widgets/controls",
      "model_module_version": "1.5.0",
      "model_name": "ButtonStyleModel",
      "state": {}
     },
     "b156e0e58a3f4d3aa122d21842c537fe": {
      "model_module": "@jupyter-widgets/base",
      "model_module_version": "1.2.0",
      "model_name": "LayoutModel",
      "state": {
       "width": "500px"
      }
     },
     "b15986d9bced4ba89f551feccd80ec76": {
      "model_module": "@jupyter-widgets/controls",
      "model_module_version": "1.5.0",
      "model_name": "ButtonStyleModel",
      "state": {}
     },
     "b185f31f144a45f6a31f2028ce063473": {
      "model_module": "@jupyter-widgets/controls",
      "model_module_version": "1.5.0",
      "model_name": "ButtonModel",
      "state": {
       "button_style": "warning",
       "description": "M",
       "disabled": true,
       "layout": "IPY_MODEL_b24451c316cc44768eecc853fcbce90f",
       "style": "IPY_MODEL_c0a38f0f62c5479b8626089354056995"
      }
     },
     "b19050e8666a406284f6e46959a3a8ee": {
      "model_module": "@jupyter-widgets/controls",
      "model_module_version": "1.5.0",
      "model_name": "DescriptionStyleModel",
      "state": {
       "description_width": ""
      }
     },
     "b1df751db80b48908d3c6d2c64f69102": {
      "model_module": "@jupyter-widgets/base",
      "model_module_version": "1.2.0",
      "model_name": "LayoutModel",
      "state": {
       "grid_area": "footer",
       "margin": "-60px 0px 0px 0px"
      }
     },
     "b1e693215bca4274a1df72694c797e82": {
      "model_module": "@jupyter-widgets/controls",
      "model_module_version": "1.5.0",
      "model_name": "DescriptionStyleModel",
      "state": {
       "description_width": ""
      }
     },
     "b1e9b2f8f96f4de398beae97ac11294b": {
      "model_module": "@jupyter-widgets/controls",
      "model_module_version": "1.5.0",
      "model_name": "ButtonStyleModel",
      "state": {}
     },
     "b1efbffa23e04d268f555872ff7df6d3": {
      "model_module": "@jupyter-widgets/base",
      "model_module_version": "1.2.0",
      "model_name": "LayoutModel",
      "state": {}
     },
     "b20f6474b1bd4b23939d144ac6af213e": {
      "model_module": "@jupyter-widgets/controls",
      "model_module_version": "1.5.0",
      "model_name": "HTMLModel",
      "state": {
       "layout": "IPY_MODEL_bce17089cb9f43b397a53d105c20dead",
       "style": "IPY_MODEL_a8bc2ced7eac4cf78504a8b99c348743",
       "value": "<h4>Wins: 3</h4>"
      }
     },
     "b22a80a4fa2046159af87eafd2cb20aa": {
      "model_module": "@jupyter-widgets/controls",
      "model_module_version": "1.5.0",
      "model_name": "DescriptionStyleModel",
      "state": {
       "description_width": ""
      }
     },
     "b22f339164414df9ab5560537a1d9e97": {
      "model_module": "@jupyter-widgets/controls",
      "model_module_version": "1.5.0",
      "model_name": "VBoxModel",
      "state": {
       "children": [
        "IPY_MODEL_99411fa3a0e3485d9a28f22651ea8196",
        "IPY_MODEL_54586e7c8c254c3d9f324ad8115b0287"
       ],
       "layout": "IPY_MODEL_c71a1d4c164f4f28a56f6b1b7818980f"
      }
     },
     "b24451c316cc44768eecc853fcbce90f": {
      "model_module": "@jupyter-widgets/base",
      "model_module_version": "1.2.0",
      "model_name": "LayoutModel",
      "state": {
       "height": "25px",
       "width": "33px"
      }
     },
     "b271619b4f614ac58fcdc307fc10da28": {
      "model_module": "@jupyter-widgets/controls",
      "model_module_version": "1.5.0",
      "model_name": "DescriptionStyleModel",
      "state": {
       "description_width": ""
      }
     },
     "b291b233f65d4261b1101468af2527eb": {
      "model_module": "@jupyter-widgets/controls",
      "model_module_version": "1.5.0",
      "model_name": "ButtonModel",
      "state": {
       "button_style": "warning",
       "description": "O",
       "layout": "IPY_MODEL_30e7c9a289ab4170b4f13649631a0fd6",
       "style": "IPY_MODEL_49d4f61a529d430f9e568df3fd948f09",
       "tooltip": "Click to guess O."
      }
     },
     "b2920002090b41c9ac077963782ffdb2": {
      "model_module": "@jupyter-widgets/controls",
      "model_module_version": "1.5.0",
      "model_name": "HTMLModel",
      "state": {
       "layout": "IPY_MODEL_cbcd1bce46854742b926e46fddc91d2e",
       "style": "IPY_MODEL_1aafb888998c4886b2124a1e6ef6da80",
       "value": "<h3>Click on a letter below to guess the word.</h3>"
      }
     },
     "b2942515f07d4e90978be1096b50eef8": {
      "model_module": "@jupyter-widgets/controls",
      "model_module_version": "1.5.0",
      "model_name": "HTMLModel",
      "state": {
       "layout": "IPY_MODEL_c2e73608559147248973a4af71c6969f",
       "style": "IPY_MODEL_07b3d8fa1ae5429a9ae70e337970ea71",
       "value": "<h3>Player Result</h3>"
      }
     },
     "b2ce14f530de4d5ea0d8a62af9a72018": {
      "model_module": "@jupyter-widgets/controls",
      "model_module_version": "1.5.0",
      "model_name": "HTMLModel",
      "state": {
       "layout": "IPY_MODEL_5ac3d6de3c5f456a829f34be2cc10507",
       "style": "IPY_MODEL_157ed9c7590d4f8782baa19188d24394",
       "value": "<h4>Wins: 1</h4>"
      }
     },
     "b2de36aea3484cd2b4edf3eeaa89b7ad": {
      "model_module": "@jupyter-widgets/base",
      "model_module_version": "1.2.0",
      "model_name": "LayoutModel",
      "state": {
       "height": "25px",
       "width": "33px"
      }
     },
     "b2e6ca864a0e4bb58957eed875455549": {
      "model_module": "@jupyter-widgets/base",
      "model_module_version": "1.2.0",
      "model_name": "LayoutModel",
      "state": {
       "grid_area": "left-sidebar"
      }
     },
     "b3105e10a9d648df8516c153335412bb": {
      "model_module": "@jupyter-widgets/controls",
      "model_module_version": "1.5.0",
      "model_name": "ButtonStyleModel",
      "state": {}
     },
     "b314afc2893a49c8994e885b4722d6d4": {
      "model_module": "@jupyter-widgets/controls",
      "model_module_version": "1.5.0",
      "model_name": "ButtonModel",
      "state": {
       "button_style": "warning",
       "description": "B",
       "disabled": true,
       "layout": "IPY_MODEL_f892c9acf30f4bd4bfd67cd9b7aa0719",
       "style": "IPY_MODEL_3b43c88ee7e349db9101ecbb113f8faf"
      }
     },
     "b33bff05fbe14c05a2c475ac7016eb72": {
      "model_module": "@jupyter-widgets/controls",
      "model_module_version": "1.5.0",
      "model_name": "ButtonModel",
      "state": {
       "button_style": "warning",
       "description": "Y",
       "disabled": true,
       "layout": "IPY_MODEL_44cb47960da64122942bce47b67ee06b",
       "style": "IPY_MODEL_b148c35b766041ea937f4bd248fa0466"
      }
     },
     "b35b3be26d6d40a3a6b9f17f9b47f7ce": {
      "model_module": "@jupyter-widgets/controls",
      "model_module_version": "1.5.0",
      "model_name": "HTMLModel",
      "state": {
       "layout": "IPY_MODEL_5850c73c1c594e11b8bd8b66c8180577",
       "style": "IPY_MODEL_a067fd68a4844083bb807a0504451545",
       "value": "<h3>Player Result</h3>"
      }
     },
     "b370418b35034f78b98186eff56923a1": {
      "model_module": "@jupyter-widgets/controls",
      "model_module_version": "1.5.0",
      "model_name": "DescriptionStyleModel",
      "state": {
       "description_width": ""
      }
     },
     "b3a188f45a38409f97c80dac9646cf96": {
      "model_module": "@jupyter-widgets/base",
      "model_module_version": "1.2.0",
      "model_name": "LayoutModel",
      "state": {
       "grid_area": "header"
      }
     },
     "b3a2d0bfbc05483c86cfd49c7ab13bd7": {
      "model_module": "@jupyter-widgets/controls",
      "model_module_version": "1.5.0",
      "model_name": "VBoxModel",
      "state": {
       "children": [
        "IPY_MODEL_408f65d24c164c0aacbaa403794f82d4",
        "IPY_MODEL_538a0e7f51264f4faced9c9749d692e6"
       ],
       "layout": "IPY_MODEL_6ac416527cad403a8c06e7ad610880f7"
      }
     },
     "b3c7fe0998db4d7bbd51713e24281c42": {
      "model_module": "@jupyter-widgets/base",
      "model_module_version": "1.2.0",
      "model_name": "LayoutModel",
      "state": {
       "height": "25px",
       "width": "33px"
      }
     },
     "b3d87acc79394f219044b12726db79d3": {
      "model_module": "@jupyter-widgets/base",
      "model_module_version": "1.2.0",
      "model_name": "LayoutModel",
      "state": {
       "grid_area": "footer",
       "margin": "-60px 0px 0px 0px"
      }
     },
     "b3f63d1b20da49c292543852fb6bd514": {
      "model_module": "@jupyter-widgets/controls",
      "model_module_version": "1.5.0",
      "model_name": "HTMLModel",
      "state": {
       "layout": "IPY_MODEL_0ed801cfb7764c5f8f116ea1943d5fb3",
       "style": "IPY_MODEL_ff033de66020457a868d851e95ebe498",
       "value": "<h1><font color=red>Secret Word:                          blue</h1>"
      }
     },
     "b3fdd133bcba4b76b269d6f0bdf678fe": {
      "model_module": "@jupyter-widgets/base",
      "model_module_version": "1.2.0",
      "model_name": "LayoutModel",
      "state": {
       "grid_area": "footer",
       "margin": "-60px 0px 0px 0px"
      }
     },
     "b40d8e6bf9ee4d059defbf75986765a2": {
      "model_module": "@jupyter-widgets/controls",
      "model_module_version": "1.5.0",
      "model_name": "ButtonModel",
      "state": {
       "button_style": "warning",
       "description": "G",
       "disabled": true,
       "layout": "IPY_MODEL_b84dd9658e984301b6fdd07fcb9f3ba1",
       "style": "IPY_MODEL_fda0f008d8da4897bfc9eeee7624a8f7"
      }
     },
     "b41c0a6fc55b442d8b65928aba101222": {
      "model_module": "@jupyter-widgets/base",
      "model_module_version": "1.2.0",
      "model_name": "LayoutModel",
      "state": {
       "height": "25px",
       "width": "33px"
      }
     },
     "b41db21c3a8c40de8366a0121f86f3d7": {
      "model_module": "@jupyter-widgets/controls",
      "model_module_version": "1.5.0",
      "model_name": "DescriptionStyleModel",
      "state": {
       "description_width": ""
      }
     },
     "b4296c6760a84992bf4a455fb2ac1fd0": {
      "buffers": [
       {
        "data": "iVBORw0KGgoAAAANSUhEUgAAATQAAAE0CAIAAAAt41jIAAAD0UlEQVR4nO3dMW7DMBAAQTLw/7/MFCnsymkocG3NdGqEg4DFsaLGAAAAgGvM14e11qk5gDHGnM8kfw7OAbwhTogSJ0SJE6LECVHihChxQpQ4IUqcECVOiBInRIkTosQJUeKEKHFClDghSpwQJU6IEidEiROixAlR4oQocUKUOCFKnBAlTogSJ0SJE6LECVHihChxQpQ4IUqcECVOiHqcHuB7vP4wnL3WWqdHOMDm3EOZl7rn5xUnRDnWbnbPA9h17rkz/9icECVOiBInRIkTosQJUeKEKHFClDghSpwQJU6IEidEiROixAlR4oQocUKUOCFKnBAlTohyTckebidhO5sTosQJUeKEKHFClDghSpwQJU6IEidEiROixAlR4oQocUKUOCFKnBAlTogSJ0SJE6LECVHihChxQpQ4IUqcECVOiBInRIkTosQJUeKEKHFClDghSpwQJU6IEidEiROixAlR4oQocUKUOCFKnBAlTogSJ0SJE6LECVHihChxQpQ4IUqcECVOiBInRIkTosQJUeKEKHFClDghSpwQJU6IEidEiROixAlR4oQocUKUOCFKnBAlTogSJ0SJE6LECVHihChxQpQ4IUqcECVOiBInRIkTosQJUeKEKHFClDghSpwQJU6IEidEiROixAlR4oQocUKUOCFKnBAlTogSJ0SJE6LECVHihChxQpQ4IUqcECVOiBInRIkTosQJUeKEKHFClDghSpwQJU6IEidEiROixAlR4oQocUKUOCFKnBAlTogSJ0SJE6LECVHihChxQpQ4IUqcECVOiBInRIkTosQJUeKEKHFClDghSpwQJU6IEidEiROixAlR4oQocUKUOCFKnBAlTogSJ0SJE6LECVHihChxQpQ4IUqcECVOiBInRIkTosQJUeKEKHFClDghSpwQJU6IEidEiROixAlR4oQocUKUOCFKnBAlTogSJ0SJE6LECVHihChxQpQ4IUqcECVOiBInRIkTosQJUeKEKHFClDghSpwQJU6IEidEiROixAlR4oQocUKUOCFKnBAlTogSJ0SJE6LECVHihChxQpQ4IUqcECVOiBInRIkTosQJUeKEKHFClDghSpwQJU6IEidEiROixAlR4oQocUKUOCFKnBAlTogSJ0SJE6LECVHihChxQpQ4IUqcECVOiBInRIkToh6nB+B/c87TI5zX/whrrb0vtDkhSpwQ5Vj7Abafl/gINidEiROixAlR4oQocUKUOCFKnBAlTogSJ0SJE6LECVHihChxQpQ4IUqcECVOiBInRIkTosQJUeKEKHECAAAA3Mwv+9AUZSTGP0IAAAAASUVORK5CYII=",
        "encoding": "base64",
        "path": [
         "value"
        ]
       }
      ],
      "model_module": "@jupyter-widgets/controls",
      "model_module_version": "1.5.0",
      "model_name": "ImageModel",
      "state": {
       "layout": "IPY_MODEL_23738f800e624be397c1bae102064920",
       "value": {}
      }
     },
     "b42c32c0e40845d3bd5714899dc7478b": {
      "model_module": "@jupyter-widgets/controls",
      "model_module_version": "1.5.0",
      "model_name": "ButtonModel",
      "state": {
       "button_style": "warning",
       "description": "Y",
       "disabled": true,
       "layout": "IPY_MODEL_0f845f4fce5242a6a0fa23627ed9be2c",
       "style": "IPY_MODEL_5cb7148da3fd4ebc8eaaa2faf8d9dd8d"
      }
     },
     "b43c74add726415a9f1cb0c18332f3d9": {
      "model_module": "@jupyter-widgets/controls",
      "model_module_version": "1.5.0",
      "model_name": "ButtonModel",
      "state": {
       "button_style": "warning",
       "description": "O",
       "disabled": true,
       "layout": "IPY_MODEL_85b1a7ef8e4342a6a42e4c12bbb6ce58",
       "style": "IPY_MODEL_5e3fd69fc6fa4ab6acb69fc1077054f7"
      }
     },
     "b479f7356766476a9eba5d8bcb788679": {
      "model_module": "@jupyter-widgets/controls",
      "model_module_version": "1.5.0",
      "model_name": "VBoxModel",
      "state": {
       "children": [
        "IPY_MODEL_3268e58ec2c94b2faed281d7c25bc976",
        "IPY_MODEL_0112cb67418245e89d41f4be2fa104fe"
       ],
       "layout": "IPY_MODEL_610e56b4ed664a82a22e1e9fa042996e"
      }
     },
     "b47e1e32c4d146408aaf2318e29baddc": {
      "model_module": "@jupyter-widgets/controls",
      "model_module_version": "1.5.0",
      "model_name": "HTMLModel",
      "state": {
       "layout": "IPY_MODEL_202b57f46a4c43989193e51e23d0c4a7",
       "style": "IPY_MODEL_ac3afc7fae104498beafad57080fdf8a",
       "value": "<h1><font color=red>Secret Word:                          indigo</h1>"
      }
     },
     "b4877853559d40218e781f931d42b517": {
      "model_module": "@jupyter-widgets/controls",
      "model_module_version": "1.5.0",
      "model_name": "ButtonModel",
      "state": {
       "button_style": "success",
       "description": "Play Again",
       "layout": "IPY_MODEL_cc3438e93295432e9ae4bfddef89b2f3",
       "style": "IPY_MODEL_e198211706d8471b9e834f344f62fd0e"
      }
     },
     "b49ff006bc714e948639a818c8199ce4": {
      "model_module": "@jupyter-widgets/base",
      "model_module_version": "1.2.0",
      "model_name": "LayoutModel",
      "state": {
       "height": "25px",
       "width": "33px"
      }
     },
     "b4a782ee1f87489eb69f35904ef6d15c": {
      "model_module": "@jupyter-widgets/base",
      "model_module_version": "1.2.0",
      "model_name": "LayoutModel",
      "state": {
       "grid_area": "header"
      }
     },
     "b4aa51d4afc545ca8050ae6eb3ae44ef": {
      "model_module": "@jupyter-widgets/base",
      "model_module_version": "1.2.0",
      "model_name": "LayoutModel",
      "state": {
       "height": "25px",
       "width": "33px"
      }
     },
     "b4cd4445f15e4be5954c592b600accfc": {
      "model_module": "@jupyter-widgets/controls",
      "model_module_version": "1.5.0",
      "model_name": "ButtonStyleModel",
      "state": {}
     },
     "b4ce5e21da54423ab85309790234a2de": {
      "model_module": "@jupyter-widgets/base",
      "model_module_version": "1.2.0",
      "model_name": "LayoutModel",
      "state": {
       "margin": "0px 0px 0px 100px"
      }
     },
     "b4e88649c3c847b3861dba996d5d0c6e": {
      "model_module": "@jupyter-widgets/base",
      "model_module_version": "1.2.0",
      "model_name": "LayoutModel",
      "state": {
       "grid_template_areas": "\"header header header\"\n\"left-sidebar center center\"\n\"footer footer footer\"",
       "grid_template_columns": "1fr 2fr 1fr",
       "grid_template_rows": "1fr 3fr 1fr"
      }
     },
     "b4f7a0c5ec4e46e393ebc38b1deb9024": {
      "model_module": "@jupyter-widgets/base",
      "model_module_version": "1.2.0",
      "model_name": "LayoutModel",
      "state": {
       "height": "25px",
       "width": "33px"
      }
     },
     "b5109557a098401a8b6c69d1192f73f8": {
      "model_module": "@jupyter-widgets/base",
      "model_module_version": "1.2.0",
      "model_name": "LayoutModel",
      "state": {
       "height": "25px",
       "width": "33px"
      }
     },
     "b526d909a002457bacb455502fa37d11": {
      "model_module": "@jupyter-widgets/base",
      "model_module_version": "1.2.0",
      "model_name": "LayoutModel",
      "state": {}
     },
     "b52e1eba31bc44ae9965875c796363fe": {
      "model_module": "@jupyter-widgets/base",
      "model_module_version": "1.2.0",
      "model_name": "LayoutModel",
      "state": {
       "width": "500px"
      }
     },
     "b54d9e5e4a3e4589ac3e6957b888134b": {
      "model_module": "@jupyter-widgets/controls",
      "model_module_version": "1.5.0",
      "model_name": "DescriptionStyleModel",
      "state": {
       "description_width": ""
      }
     },
     "b5580a65cdda48efb9aaa66b3ad61a2c": {
      "model_module": "@jupyter-widgets/controls",
      "model_module_version": "1.5.0",
      "model_name": "ButtonStyleModel",
      "state": {}
     },
     "b566edd43b0d40dd827e9316864e084f": {
      "model_module": "@jupyter-widgets/base",
      "model_module_version": "1.2.0",
      "model_name": "LayoutModel",
      "state": {
       "margin": "0px 0px 0px 70px"
      }
     },
     "b56eeb04fb9a4ba296961752fea85a75": {
      "model_module": "@jupyter-widgets/base",
      "model_module_version": "1.2.0",
      "model_name": "LayoutModel",
      "state": {
       "grid_area": "header"
      }
     },
     "b57452b2fa6e42bbb657bd58ca0dea8c": {
      "model_module": "@jupyter-widgets/base",
      "model_module_version": "1.2.0",
      "model_name": "LayoutModel",
      "state": {
       "margin": "0px 0px 0px 100px"
      }
     },
     "b5876320fc1b4ff1b486cad560287755": {
      "model_module": "@jupyter-widgets/controls",
      "model_module_version": "1.5.0",
      "model_name": "ButtonModel",
      "state": {
       "button_style": "warning",
       "description": "E",
       "disabled": true,
       "layout": "IPY_MODEL_3228e3557de947589e26448c6b3f91d8",
       "style": "IPY_MODEL_6f9ea621554048b3a7044148821db33a"
      }
     },
     "b5899fda01724d95a755e8bcf5cec4dd": {
      "model_module": "@jupyter-widgets/base",
      "model_module_version": "1.2.0",
      "model_name": "LayoutModel",
      "state": {}
     },
     "b58b0530b5994bff899242a3e321d059": {
      "model_module": "@jupyter-widgets/controls",
      "model_module_version": "1.5.0",
      "model_name": "GridBoxModel",
      "state": {
       "children": [
        "IPY_MODEL_67645ff005da428b8edc21dba682edd4",
        "IPY_MODEL_eac76368f4074f9089c20f651eea7d89",
        "IPY_MODEL_9356f98a18394e2d92cf5ffd8320bf94",
        "IPY_MODEL_55211943376244b6ba0680de539d9daa"
       ],
       "layout": "IPY_MODEL_b4e88649c3c847b3861dba996d5d0c6e"
      }
     },
     "b5c18e7d24a745af9a08e4e13ee24231": {
      "model_module": "@jupyter-widgets/controls",
      "model_module_version": "1.5.0",
      "model_name": "HTMLModel",
      "state": {
       "layout": "IPY_MODEL_7635366cac814e998ef4d861510474f7",
       "style": "IPY_MODEL_c5684c21ea3e4de6bddbb6495ea2e93c",
       "value": "<h3>Player Result</h3>"
      }
     },
     "b5c78ae072424d208c2360a3f798139c": {
      "model_module": "@jupyter-widgets/controls",
      "model_module_version": "1.5.0",
      "model_name": "DescriptionStyleModel",
      "state": {
       "description_width": ""
      }
     },
     "b5df5aa4686b42b78b68183d85e6da24": {
      "model_module": "@jupyter-widgets/controls",
      "model_module_version": "1.5.0",
      "model_name": "ButtonModel",
      "state": {
       "button_style": "warning",
       "description": "X",
       "layout": "IPY_MODEL_c928c8fa22184290ad7fd7ebae585826",
       "style": "IPY_MODEL_a09fbb0a9736484bb9156a0196cdc2d1",
       "tooltip": "Click to guess X."
      }
     },
     "b5fa39f20b4b4fa8a831f44db9183e97": {
      "model_module": "@jupyter-widgets/base",
      "model_module_version": "1.2.0",
      "model_name": "LayoutModel",
      "state": {
       "height": "25px",
       "width": "33px"
      }
     },
     "b601e69c0d9442daab426ace196056be": {
      "model_module": "@jupyter-widgets/controls",
      "model_module_version": "1.5.0",
      "model_name": "DescriptionStyleModel",
      "state": {
       "description_width": ""
      }
     },
     "b64bcf946b444048a91982a27575ef86": {
      "model_module": "@jupyter-widgets/controls",
      "model_module_version": "1.5.0",
      "model_name": "ButtonModel",
      "state": {
       "button_style": "warning",
       "description": "Z",
       "layout": "IPY_MODEL_a1afe04eebf8460abfa64599b81b7d05",
       "style": "IPY_MODEL_8bfcdd63044e45939067f458c3f15282",
       "tooltip": "Click to guess Z."
      }
     },
     "b65eedfb58b543eeb22ad1a1cac764d3": {
      "model_module": "@jupyter-widgets/controls",
      "model_module_version": "1.5.0",
      "model_name": "ButtonModel",
      "state": {
       "button_style": "warning",
       "description": "Q",
       "layout": "IPY_MODEL_0aef912b279c44dc84e968b92a889f1e",
       "style": "IPY_MODEL_f1250cbf6b2d4ecbb9d17c2836f301ae",
       "tooltip": "Click to guess Q."
      }
     },
     "b65f9164e8e140d7a01ae7216a2dccdb": {
      "model_module": "@jupyter-widgets/controls",
      "model_module_version": "1.5.0",
      "model_name": "GridBoxModel",
      "state": {
       "children": [
        "IPY_MODEL_fe23309169c24c44b6ee2f830daaafdf",
        "IPY_MODEL_58ecb162e21d4db7a1a710addab4f6bb",
        "IPY_MODEL_087b627ce5fd4b00aabede3dde513916",
        "IPY_MODEL_b4296c6760a84992bf4a455fb2ac1fd0"
       ],
       "layout": "IPY_MODEL_f782bbde856b431db9cf7e21b3fb93f1"
      }
     },
     "b6b189fece894f13aed5d2d13b7d5556": {
      "model_module": "@jupyter-widgets/controls",
      "model_module_version": "1.5.0",
      "model_name": "ButtonStyleModel",
      "state": {}
     },
     "b6c0d9e302e84173aa12c9ba1fd81977": {
      "model_module": "@jupyter-widgets/controls",
      "model_module_version": "1.5.0",
      "model_name": "ButtonStyleModel",
      "state": {}
     },
     "b6ff03535b564dc989113ea7517e8aa2": {
      "model_module": "@jupyter-widgets/controls",
      "model_module_version": "1.5.0",
      "model_name": "ButtonStyleModel",
      "state": {}
     },
     "b7073c039a1241b4abfe6b7f6bb58288": {
      "model_module": "@jupyter-widgets/base",
      "model_module_version": "1.2.0",
      "model_name": "LayoutModel",
      "state": {
       "height": "25px",
       "width": "33px"
      }
     },
     "b73e022d804946f1863da773b7e7ef89": {
      "model_module": "@jupyter-widgets/controls",
      "model_module_version": "1.5.0",
      "model_name": "DescriptionStyleModel",
      "state": {
       "description_width": ""
      }
     },
     "b7510c97ef0948d6b5f3464194dae416": {
      "model_module": "@jupyter-widgets/base",
      "model_module_version": "1.2.0",
      "model_name": "LayoutModel",
      "state": {
       "height": "auto"
      }
     },
     "b7603f2d94b84b3980507920ab5eef35": {
      "model_module": "@jupyter-widgets/base",
      "model_module_version": "1.2.0",
      "model_name": "LayoutModel",
      "state": {
       "margin": "20px 0px 0px 20px"
      }
     },
     "b791a0e5471c4c52b1ff8750af43d3c3": {
      "model_module": "@jupyter-widgets/controls",
      "model_module_version": "1.5.0",
      "model_name": "ButtonStyleModel",
      "state": {}
     },
     "b7b53cfb856d4c0e851e0f2e59592eab": {
      "model_module": "@jupyter-widgets/base",
      "model_module_version": "1.2.0",
      "model_name": "LayoutModel",
      "state": {
       "grid_area": "header"
      }
     },
     "b7d856e0940848e89ae55e53dd0fc4e8": {
      "model_module": "@jupyter-widgets/controls",
      "model_module_version": "1.5.0",
      "model_name": "ButtonModel",
      "state": {
       "button_style": "warning",
       "description": "U",
       "disabled": true,
       "layout": "IPY_MODEL_aa221fcfbc4947ecb649a8b296f4b069",
       "style": "IPY_MODEL_a34912d4c672498d893fef834a742aca"
      }
     },
     "b80a7836186d483fb6b12472754ba930": {
      "model_module": "@jupyter-widgets/controls",
      "model_module_version": "1.5.0",
      "model_name": "ButtonStyleModel",
      "state": {}
     },
     "b8341cfd07d74d43be9e4eead332a041": {
      "model_module": "@jupyter-widgets/controls",
      "model_module_version": "1.5.0",
      "model_name": "ButtonStyleModel",
      "state": {}
     },
     "b83e52c0fd714c5eb65f435ca045e336": {
      "model_module": "@jupyter-widgets/base",
      "model_module_version": "1.2.0",
      "model_name": "LayoutModel",
      "state": {}
     },
     "b84dd9658e984301b6fdd07fcb9f3ba1": {
      "model_module": "@jupyter-widgets/base",
      "model_module_version": "1.2.0",
      "model_name": "LayoutModel",
      "state": {
       "height": "25px",
       "width": "33px"
      }
     },
     "b874f93f8ea24ef28c4be2f4c89c5a13": {
      "model_module": "@jupyter-widgets/controls",
      "model_module_version": "1.5.0",
      "model_name": "HTMLModel",
      "state": {
       "layout": "IPY_MODEL_a236928028a740b8b284acb55a67589f",
       "style": "IPY_MODEL_7752cec0564c4ce3ba95d4130ee7dc67",
       "value": "<h3>Click on a letter below to guess the word.</h3>"
      }
     },
     "b87fc64b0cff43e89feed8cd091a4ac4": {
      "model_module": "@jupyter-widgets/base",
      "model_module_version": "1.2.0",
      "model_name": "LayoutModel",
      "state": {
       "height": "25px",
       "width": "33px"
      }
     },
     "b8839b4fc90547aab88a70f963e77399": {
      "model_module": "@jupyter-widgets/controls",
      "model_module_version": "1.5.0",
      "model_name": "VBoxModel",
      "state": {
       "children": [
        "IPY_MODEL_912851f5f5db40f397473f052068b2cf",
        "IPY_MODEL_eeb6159448994956ac6b6cb41fab747e",
        "IPY_MODEL_226d4b77ec0c458da16dc75ea49d2800"
       ],
       "layout": "IPY_MODEL_7c9b1ac5e6294bd98d804963f78c658d"
      }
     },
     "b89ab95f81ea48649aec984aed1b44c5": {
      "model_module": "@jupyter-widgets/controls",
      "model_module_version": "1.5.0",
      "model_name": "ButtonStyleModel",
      "state": {}
     },
     "b8d9c2783f804a82b3d4adab31d71ae5": {
      "model_module": "@jupyter-widgets/controls",
      "model_module_version": "1.5.0",
      "model_name": "VBoxModel",
      "state": {
       "children": [
        "IPY_MODEL_05f315dca41c46d18fe1c45f713bda20",
        "IPY_MODEL_60638cd55ffe4f6d92c64c8c516e6763"
       ],
       "layout": "IPY_MODEL_5c850caf08fa44d9916e04eed6d14cb4"
      }
     },
     "b8e78bcf09094d9998e1cb0a5a751b0f": {
      "model_module": "@jupyter-widgets/controls",
      "model_module_version": "1.5.0",
      "model_name": "DescriptionStyleModel",
      "state": {
       "description_width": ""
      }
     },
     "b9159305fb1145649c0e7cd77d92224e": {
      "model_module": "@jupyter-widgets/controls",
      "model_module_version": "1.5.0",
      "model_name": "HTMLModel",
      "state": {
       "layout": "IPY_MODEL_bf786d48d6bb441ea72dd4ff67f606db",
       "style": "IPY_MODEL_f405fb15890c429aa3fadb4fbd72841f",
       "value": "<h2><font color='black'>Remaining Guesses:                          5</h2>"
      }
     },
     "b95cb5927de74c6f83d23e7ff742cf1f": {
      "model_module": "@jupyter-widgets/controls",
      "model_module_version": "1.5.0",
      "model_name": "DescriptionStyleModel",
      "state": {
       "description_width": ""
      }
     },
     "b9b70d591a15403e895916f03503b780": {
      "model_module": "@jupyter-widgets/controls",
      "model_module_version": "1.5.0",
      "model_name": "ButtonStyleModel",
      "state": {}
     },
     "b9ebc5b0e98b4324ab8cb0926c0b0ca3": {
      "model_module": "@jupyter-widgets/controls",
      "model_module_version": "1.5.0",
      "model_name": "ButtonModel",
      "state": {
       "button_style": "warning",
       "description": "R",
       "disabled": true,
       "layout": "IPY_MODEL_406e93d3ec284d32bc7230d8e5656d18",
       "style": "IPY_MODEL_c111372a36ef4f7e935be64247a60172"
      }
     },
     "ba190577e5aa4151a4233eaf9a44d0cd": {
      "model_module": "@jupyter-widgets/controls",
      "model_module_version": "1.5.0",
      "model_name": "HTMLModel",
      "state": {
       "layout": "IPY_MODEL_fd55f1f581e74418a2bcfce11603f7e6",
       "style": "IPY_MODEL_d7f37f8ec68c43748c990e2368e73490",
       "value": "<h1><font color=black>Secret Word:                          r _ _</h1>"
      }
     },
     "ba213715c1d948fabab43f70cfcf85e4": {
      "model_module": "@jupyter-widgets/controls",
      "model_module_version": "1.5.0",
      "model_name": "ButtonStyleModel",
      "state": {}
     },
     "ba8069d65e3b47ddb3c9b14761817b04": {
      "model_module": "@jupyter-widgets/base",
      "model_module_version": "1.2.0",
      "model_name": "LayoutModel",
      "state": {
       "height": "25px",
       "width": "33px"
      }
     },
     "ba8c1fb319254050bdf2cce3e6c00af7": {
      "model_module": "@jupyter-widgets/controls",
      "model_module_version": "1.5.0",
      "model_name": "DescriptionStyleModel",
      "state": {
       "description_width": ""
      }
     },
     "bab4471c6a9e42cf8108f04d89ac3570": {
      "model_module": "@jupyter-widgets/controls",
      "model_module_version": "1.5.0",
      "model_name": "DescriptionStyleModel",
      "state": {
       "description_width": ""
      }
     },
     "bad28ad24e8d4df98e192a79b96c5540": {
      "model_module": "@jupyter-widgets/base",
      "model_module_version": "1.2.0",
      "model_name": "LayoutModel",
      "state": {
       "grid_area": "left-sidebar"
      }
     },
     "bb18854c8bf249d2873f604bb074a814": {
      "model_module": "@jupyter-widgets/controls",
      "model_module_version": "1.5.0",
      "model_name": "HTMLModel",
      "state": {
       "layout": "IPY_MODEL_800dc31139354bf7b437a76ddbca2f1e",
       "style": "IPY_MODEL_1fd7ee9c35f54bb19e49e2b96b2e2859",
       "value": "<h3>Player Result</h3>"
      }
     },
     "bb2683057024468c9725026756982d9a": {
      "model_module": "@jupyter-widgets/base",
      "model_module_version": "1.2.0",
      "model_name": "LayoutModel",
      "state": {
       "width": "500px"
      }
     },
     "bb2fbf43e3a0488d937ca063c9236f43": {
      "model_module": "@jupyter-widgets/controls",
      "model_module_version": "1.5.0",
      "model_name": "ButtonModel",
      "state": {
       "button_style": "warning",
       "description": "C",
       "disabled": true,
       "layout": "IPY_MODEL_d0a3f725c430451db1cfe32371ddea8c",
       "style": "IPY_MODEL_9dd00a1b54a04bfb90e0bd09160fa8e4"
      }
     },
     "bb5766bbea4946709ac7212d3cac8f02": {
      "model_module": "@jupyter-widgets/controls",
      "model_module_version": "1.5.0",
      "model_name": "ButtonStyleModel",
      "state": {}
     },
     "bb6eb64f192648308f841528334d9472": {
      "model_module": "@jupyter-widgets/controls",
      "model_module_version": "1.5.0",
      "model_name": "HBoxModel",
      "state": {
       "children": [
        "IPY_MODEL_ebc88d65ee344507b7399e4258dc1c57",
        "IPY_MODEL_0c53066fd7444fe5a520ab12c0739459"
       ],
       "layout": "IPY_MODEL_e7707c890247493a803bad7b1a5dc713"
      }
     },
     "bb8a8b52967a4925999a2c857ef7971e": {
      "model_module": "@jupyter-widgets/controls",
      "model_module_version": "1.5.0",
      "model_name": "HTMLModel",
      "state": {
       "layout": "IPY_MODEL_f3323e9a812f4a1f9fe8fcd9d4530a5e",
       "style": "IPY_MODEL_8be3b96aea7947f6b40204a59aabde7a",
       "value": "<h1><font color=black>Secret Word:                          _ _ _ _ _ _</h1>"
      }
     },
     "bbca32c860c241deac9cdc412197a3ea": {
      "model_module": "@jupyter-widgets/controls",
      "model_module_version": "1.5.0",
      "model_name": "ButtonStyleModel",
      "state": {}
     },
     "bbd02a11059b465892bc7526fb98abcf": {
      "model_module": "@jupyter-widgets/controls",
      "model_module_version": "1.5.0",
      "model_name": "DescriptionStyleModel",
      "state": {
       "description_width": ""
      }
     },
     "bbdf42aa1d694ca6bdadd9a045a59d71": {
      "model_module": "@jupyter-widgets/base",
      "model_module_version": "1.2.0",
      "model_name": "LayoutModel",
      "state": {}
     },
     "bbf218c8f5b74ad6b899e6f2c3aa40b9": {
      "model_module": "@jupyter-widgets/controls",
      "model_module_version": "1.5.0",
      "model_name": "HTMLModel",
      "state": {
       "layout": "IPY_MODEL_34340f012bb041c6a2b9d7610afeda46",
       "style": "IPY_MODEL_1f7509cf6e9f4e70bb926e4a9107d5dd",
       "value": "<h1><font color='blue'> You Lose </h1>"
      }
     },
     "bbfd12842ec246a5836e29b065fd25b0": {
      "model_module": "@jupyter-widgets/base",
      "model_module_version": "1.2.0",
      "model_name": "LayoutModel",
      "state": {
       "height": "25px",
       "width": "33px"
      }
     },
     "bc2689b529db46f99876e890217612e2": {
      "model_module": "@jupyter-widgets/base",
      "model_module_version": "1.2.0",
      "model_name": "LayoutModel",
      "state": {
       "grid_template_areas": "\"header header header\"\n\"left-sidebar center center\"\n\"footer footer footer\"",
       "grid_template_columns": "1fr 2fr 1fr",
       "grid_template_rows": "1fr 3fr 1fr"
      }
     },
     "bc2e77079c9e42918d47a814032b90f0": {
      "model_module": "@jupyter-widgets/base",
      "model_module_version": "1.2.0",
      "model_name": "LayoutModel",
      "state": {
       "margin": "0px 0px 0px 100px"
      }
     },
     "bc396e5a5dee406eaf2a2b0b5f1c8623": {
      "model_module": "@jupyter-widgets/controls",
      "model_module_version": "1.5.0",
      "model_name": "ButtonModel",
      "state": {
       "button_style": "warning",
       "description": "O",
       "layout": "IPY_MODEL_79afaa7de00e41b58ae22b2109feb02c",
       "style": "IPY_MODEL_c0c9055dca3c4497b9b6240d30ccefdb",
       "tooltip": "Click to guess O."
      }
     },
     "bc41156f92a643ee9515f7a427e7114c": {
      "model_module": "@jupyter-widgets/controls",
      "model_module_version": "1.5.0",
      "model_name": "ButtonStyleModel",
      "state": {}
     },
     "bc686097975f4900bfd2ecfeb6bc2f85": {
      "model_module": "@jupyter-widgets/controls",
      "model_module_version": "1.5.0",
      "model_name": "DescriptionStyleModel",
      "state": {
       "description_width": ""
      }
     },
     "bc79f3b5db1049fcb262d599acd3bfdb": {
      "model_module": "@jupyter-widgets/controls",
      "model_module_version": "1.5.0",
      "model_name": "GridBoxModel",
      "state": {
       "children": [
        "IPY_MODEL_a52e19ac53d84aab8e1ec8c4a1d224b9",
        "IPY_MODEL_94b102f85a364c27a5d8619471d57d81",
        "IPY_MODEL_744786ad3c134c4fad85432d809f565e",
        "IPY_MODEL_104c268b1dc74d1399dc215327bc6014"
       ],
       "layout": "IPY_MODEL_906bd5efb7b043589f7413fa5672665d"
      }
     },
     "bc992d3489d34e3fa026143654c9e5aa": {
      "model_module": "@jupyter-widgets/base",
      "model_module_version": "1.2.0",
      "model_name": "LayoutModel",
      "state": {
       "height": "25px",
       "width": "33px"
      }
     },
     "bcb226c736134214a2e5626e902ff868": {
      "model_module": "@jupyter-widgets/controls",
      "model_module_version": "1.5.0",
      "model_name": "VBoxModel",
      "state": {
       "children": [
        "IPY_MODEL_02506c36fbd743409077af96b67672f3",
        "IPY_MODEL_6c5afe39bf4544c2b9b95f4f2035ff7b"
       ],
       "layout": "IPY_MODEL_62419f87b8c342e6a0ec738a49395b8b"
      }
     },
     "bcd3c105153242b9a11977e560e5d039": {
      "model_module": "@jupyter-widgets/base",
      "model_module_version": "1.2.0",
      "model_name": "LayoutModel",
      "state": {
       "margin": "0px 0px 0px 100px"
      }
     },
     "bce17089cb9f43b397a53d105c20dead": {
      "model_module": "@jupyter-widgets/base",
      "model_module_version": "1.2.0",
      "model_name": "LayoutModel",
      "state": {
       "margin": "0px 0px 0px 100px"
      }
     },
     "bd0d2c2a3eff490ea947ef3c62bbf10c": {
      "model_module": "@jupyter-widgets/controls",
      "model_module_version": "1.5.0",
      "model_name": "HTMLModel",
      "state": {
       "layout": "IPY_MODEL_ef215d881c81496b937bf36072cf8092",
       "style": "IPY_MODEL_cc049a1e2fc64759b5f738cfaee089dc",
       "value": "<h4>Wins: 2</h4>"
      }
     },
     "bd174ba6a474411fa4df224ecae5eae6": {
      "model_module": "@jupyter-widgets/base",
      "model_module_version": "1.2.0",
      "model_name": "LayoutModel",
      "state": {
       "height": "25px",
       "width": "33px"
      }
     },
     "bd24a1f730d9477f9e2f5bffc58c3713": {
      "model_module": "@jupyter-widgets/base",
      "model_module_version": "1.2.0",
      "model_name": "LayoutModel",
      "state": {
       "height": "25px",
       "width": "33px"
      }
     },
     "bd5cd04baba44d8c8d9c39e21ebb1ff3": {
      "model_module": "@jupyter-widgets/controls",
      "model_module_version": "1.5.0",
      "model_name": "DescriptionStyleModel",
      "state": {
       "description_width": ""
      }
     },
     "bd64aa5ecb4a4e8eb9ae58a1b8c044f0": {
      "model_module": "@jupyter-widgets/base",
      "model_module_version": "1.2.0",
      "model_name": "LayoutModel",
      "state": {}
     },
     "bd9bad117ca64b3ba01e4836286031d8": {
      "model_module": "@jupyter-widgets/controls",
      "model_module_version": "1.5.0",
      "model_name": "ButtonStyleModel",
      "state": {}
     },
     "bdb1bb4af7844c7a912a370b5c2765a4": {
      "model_module": "@jupyter-widgets/controls",
      "model_module_version": "1.5.0",
      "model_name": "ButtonModel",
      "state": {
       "button_style": "warning",
       "description": "Q",
       "layout": "IPY_MODEL_5bce16b66c8645b5892a1fdf65d5af3e",
       "style": "IPY_MODEL_7e4133943584414a86120891cc03e1db",
       "tooltip": "Click to guess Q."
      }
     },
     "bdb9734bbefb4599a3293988e6c08c77": {
      "model_module": "@jupyter-widgets/base",
      "model_module_version": "1.2.0",
      "model_name": "LayoutModel",
      "state": {
       "grid_area": "footer",
       "margin": "-60px 0px 0px 0px"
      }
     },
     "bdcd05497ee1491d97980080536ee982": {
      "model_module": "@jupyter-widgets/base",
      "model_module_version": "1.2.0",
      "model_name": "LayoutModel",
      "state": {}
     },
     "be0d3a2c5cd64a159423b7c2d1e4cc10": {
      "model_module": "@jupyter-widgets/controls",
      "model_module_version": "1.5.0",
      "model_name": "DescriptionStyleModel",
      "state": {
       "description_width": ""
      }
     },
     "be5e7c292d28430b847f5653ec021d9f": {
      "model_module": "@jupyter-widgets/controls",
      "model_module_version": "1.5.0",
      "model_name": "DescriptionStyleModel",
      "state": {
       "description_width": ""
      }
     },
     "be678765cf3041fbb453ea0bce791ed2": {
      "model_module": "@jupyter-widgets/base",
      "model_module_version": "1.2.0",
      "model_name": "LayoutModel",
      "state": {
       "height": "25px",
       "width": "33px"
      }
     },
     "be861fa801004bb2989923dff988ffad": {
      "model_module": "@jupyter-widgets/base",
      "model_module_version": "1.2.0",
      "model_name": "LayoutModel",
      "state": {
       "height": "25px",
       "width": "33px"
      }
     },
     "bec89d3fc7d940d88574128eec495ce0": {
      "model_module": "@jupyter-widgets/base",
      "model_module_version": "1.2.0",
      "model_name": "LayoutModel",
      "state": {
       "grid_area": "footer",
       "margin": "-60px 0px 0px 0px"
      }
     },
     "bee91d1bfa6840e68de880a4eb5c55ba": {
      "model_module": "@jupyter-widgets/controls",
      "model_module_version": "1.5.0",
      "model_name": "VBoxModel",
      "state": {
       "children": [
        "IPY_MODEL_ad8e50a5559d48ecbc27b5dea0198688",
        "IPY_MODEL_9400fc54e7c541c6ab40c96340d20bad"
       ],
       "layout": "IPY_MODEL_12bc2d9c68dd4e16914206f072c686f9"
      }
     },
     "bef01b0ea1f34d3daecf1a5fc518805e": {
      "model_module": "@jupyter-widgets/base",
      "model_module_version": "1.2.0",
      "model_name": "LayoutModel",
      "state": {
       "grid_area": "left-sidebar"
      }
     },
     "bf00045015a543dea9db5fb72ac1fd47": {
      "model_module": "@jupyter-widgets/controls",
      "model_module_version": "1.5.0",
      "model_name": "HTMLModel",
      "state": {
       "layout": "IPY_MODEL_7067a57211094be9a98e7007e904da01",
       "style": "IPY_MODEL_666aa2556a5b48cab3911f037dec7a14",
       "value": "<h4>Wins: 0</h4>"
      }
     },
     "bf03ec5d2a224c1e88e049dc33eb5f38": {
      "model_module": "@jupyter-widgets/controls",
      "model_module_version": "1.5.0",
      "model_name": "HTMLModel",
      "state": {
       "layout": "IPY_MODEL_45149864aae54b73b06b45f53b81f3f7",
       "style": "IPY_MODEL_4c34521bf6f245ffafd10d9b8d12699a",
       "value": "<h3>Player Result</h3>"
      }
     },
     "bf0a9f6c8e464d019608780eaf63eb17": {
      "model_module": "@jupyter-widgets/controls",
      "model_module_version": "1.5.0",
      "model_name": "ButtonStyleModel",
      "state": {}
     },
     "bf1b63034ace49e78615719a894dc3f3": {
      "model_module": "@jupyter-widgets/controls",
      "model_module_version": "1.5.0",
      "model_name": "ButtonModel",
      "state": {
       "button_style": "warning",
       "description": "J",
       "disabled": true,
       "layout": "IPY_MODEL_abf041282566470683d28e2971d2cd9c",
       "style": "IPY_MODEL_27ae0cfb29114ebf8cc7857685c92e13"
      }
     },
     "bf216fcfef354c74b91cd71ba153934b": {
      "model_module": "@jupyter-widgets/controls",
      "model_module_version": "1.5.0",
      "model_name": "ButtonModel",
      "state": {
       "button_style": "warning",
       "description": "T",
       "disabled": true,
       "layout": "IPY_MODEL_35f417c655f248c2a258184687e08eff",
       "style": "IPY_MODEL_d1436700b9be4bd5b5d86e59817bedb8"
      }
     },
     "bf458d410f1b4265915c8260ddfd5e5b": {
      "model_module": "@jupyter-widgets/controls",
      "model_module_version": "1.5.0",
      "model_name": "ButtonModel",
      "state": {
       "button_style": "warning",
       "description": "Y",
       "layout": "IPY_MODEL_36c4d509263f49f9986c69f9b9b2dfe0",
       "style": "IPY_MODEL_afc40b85cc524424a56c467ef530f008",
       "tooltip": "Click to guess Y."
      }
     },
     "bf5560de92494c17ab4a68611b500810": {
      "model_module": "@jupyter-widgets/controls",
      "model_module_version": "1.5.0",
      "model_name": "ButtonStyleModel",
      "state": {}
     },
     "bf786d48d6bb441ea72dd4ff67f606db": {
      "model_module": "@jupyter-widgets/base",
      "model_module_version": "1.2.0",
      "model_name": "LayoutModel",
      "state": {
       "height": "auto"
      }
     },
     "bf7b001b2ee945f0a06e1fda9d01b6fd": {
      "model_module": "@jupyter-widgets/base",
      "model_module_version": "1.2.0",
      "model_name": "LayoutModel",
      "state": {
       "height": "25px",
       "width": "33px"
      }
     },
     "bfdfc9379f8c4e2f828755b803bd27be": {
      "model_module": "@jupyter-widgets/base",
      "model_module_version": "1.2.0",
      "model_name": "LayoutModel",
      "state": {
       "height": "auto"
      }
     },
     "c0058e104e4340148b82a94c65eedd28": {
      "model_module": "@jupyter-widgets/base",
      "model_module_version": "1.2.0",
      "model_name": "LayoutModel",
      "state": {
       "height": "25px",
       "width": "33px"
      }
     },
     "c047eb88857740c1b1707d5496869f84": {
      "model_module": "@jupyter-widgets/base",
      "model_module_version": "1.2.0",
      "model_name": "LayoutModel",
      "state": {
       "height": "auto",
       "width": "180px"
      }
     },
     "c097d204b315431991a7eb7eb36a4eec": {
      "model_module": "@jupyter-widgets/controls",
      "model_module_version": "1.5.0",
      "model_name": "DescriptionStyleModel",
      "state": {
       "description_width": ""
      }
     },
     "c098b3a682ee48e19c2f31fc96469585": {
      "model_module": "@jupyter-widgets/base",
      "model_module_version": "1.2.0",
      "model_name": "LayoutModel",
      "state": {}
     },
     "c0a38aa53b174a61a15da80d8b1062a4": {
      "model_module": "@jupyter-widgets/base",
      "model_module_version": "1.2.0",
      "model_name": "LayoutModel",
      "state": {
       "grid_area": "center"
      }
     },
     "c0a38f0f62c5479b8626089354056995": {
      "model_module": "@jupyter-widgets/controls",
      "model_module_version": "1.5.0",
      "model_name": "ButtonStyleModel",
      "state": {}
     },
     "c0bdbcdb1bc54fd3beb1cb42a67f9a07": {
      "model_module": "@jupyter-widgets/controls",
      "model_module_version": "1.5.0",
      "model_name": "HTMLModel",
      "state": {
       "layout": "IPY_MODEL_983e579e2b3e46ee977e7e1b4d24e677",
       "style": "IPY_MODEL_3b62ed68f66a4395881b2bc0d50405eb",
       "value": "<h2><font color='black'>Remaining Guesses:                          1</h2>"
      }
     },
     "c0c07bbdb4d145bfa7ff966c8f583c2d": {
      "model_module": "@jupyter-widgets/base",
      "model_module_version": "1.2.0",
      "model_name": "LayoutModel",
      "state": {
       "margin": "0px 0px 0px 70px"
      }
     },
     "c0c731dcce034cf2a6bfa55701b8b2be": {
      "model_module": "@jupyter-widgets/controls",
      "model_module_version": "1.5.0",
      "model_name": "DescriptionStyleModel",
      "state": {
       "description_width": ""
      }
     },
     "c0c9055dca3c4497b9b6240d30ccefdb": {
      "model_module": "@jupyter-widgets/controls",
      "model_module_version": "1.5.0",
      "model_name": "ButtonStyleModel",
      "state": {}
     },
     "c0d553197f1e49e6903265516ab10f06": {
      "model_module": "@jupyter-widgets/base",
      "model_module_version": "1.2.0",
      "model_name": "LayoutModel",
      "state": {
       "margin": "0px 0px 0px 100px"
      }
     },
     "c0dc2331928e4eff8e6dbef1080b586a": {
      "model_module": "@jupyter-widgets/controls",
      "model_module_version": "1.5.0",
      "model_name": "DescriptionStyleModel",
      "state": {
       "description_width": ""
      }
     },
     "c111372a36ef4f7e935be64247a60172": {
      "model_module": "@jupyter-widgets/controls",
      "model_module_version": "1.5.0",
      "model_name": "ButtonStyleModel",
      "state": {}
     },
     "c124a7e557c94f5fa085a0bdf811bc0b": {
      "model_module": "@jupyter-widgets/controls",
      "model_module_version": "1.5.0",
      "model_name": "HTMLModel",
      "state": {
       "layout": "IPY_MODEL_9affc347c73c4a79b315ef90d1df1242",
       "style": "IPY_MODEL_6de4383dc02b4909b6ab84ad7f708735",
       "value": "<h3>Player Result</h3>"
      }
     },
     "c166bdd237ff4263b077ed8d45387567": {
      "model_module": "@jupyter-widgets/controls",
      "model_module_version": "1.5.0",
      "model_name": "VBoxModel",
      "state": {
       "children": [
        "IPY_MODEL_26b0dbf1b97e494aa20c00fe41dfd40e",
        "IPY_MODEL_d2b654ec3ea64ce3953ce25b051578be",
        "IPY_MODEL_82738bdfebae4bfb9035554202ed1f19"
       ],
       "layout": "IPY_MODEL_00ea8d286bfc4628aad8cff0d5ff8f4a"
      }
     },
     "c1908b51b60e4db78b5e653ed722acf7": {
      "model_module": "@jupyter-widgets/controls",
      "model_module_version": "1.5.0",
      "model_name": "HTMLModel",
      "state": {
       "layout": "IPY_MODEL_211097f024a6413fb5ef17e01fb758fb",
       "style": "IPY_MODEL_3ec22f656f194c56aaeec35461e4080e",
       "value": "<h4>Wins: 0</h4>"
      }
     },
     "c1a492ad2daa4cbea85493c081f0e15a": {
      "model_module": "@jupyter-widgets/controls",
      "model_module_version": "1.5.0",
      "model_name": "DescriptionStyleModel",
      "state": {
       "description_width": ""
      }
     },
     "c1a5fce7eb6f468288b38d65db0e1cb8": {
      "model_module": "@jupyter-widgets/controls",
      "model_module_version": "1.5.0",
      "model_name": "VBoxModel",
      "state": {
       "children": [
        "IPY_MODEL_251b32d5c7a14a34a0acbba0bfdec29f",
        "IPY_MODEL_7cfebd771fdd433cb7a7b7bff7a16650"
       ],
       "layout": "IPY_MODEL_4f41fd78bd8f4f20b12d523baa532af2"
      }
     },
     "c1af1e63955a44499c555da3b089c78a": {
      "model_module": "@jupyter-widgets/base",
      "model_module_version": "1.2.0",
      "model_name": "LayoutModel",
      "state": {}
     },
     "c1b605114bb84d858689269716ad519a": {
      "model_module": "@jupyter-widgets/base",
      "model_module_version": "1.2.0",
      "model_name": "LayoutModel",
      "state": {
       "margin": "0px 0px 0px 100px"
      }
     },
     "c1beb2b492ac4639b45b7b5591927d72": {
      "model_module": "@jupyter-widgets/base",
      "model_module_version": "1.2.0",
      "model_name": "LayoutModel",
      "state": {
       "grid_area": "center"
      }
     },
     "c1c355cb439d4f7fa0d22f4e053aa216": {
      "model_module": "@jupyter-widgets/controls",
      "model_module_version": "1.5.0",
      "model_name": "DescriptionStyleModel",
      "state": {
       "description_width": ""
      }
     },
     "c1f29b02f9e340be849858222de2f305": {
      "model_module": "@jupyter-widgets/controls",
      "model_module_version": "1.5.0",
      "model_name": "DescriptionStyleModel",
      "state": {
       "description_width": ""
      }
     },
     "c20fd182137a4b39b9f16a58f74b8439": {
      "model_module": "@jupyter-widgets/base",
      "model_module_version": "1.2.0",
      "model_name": "LayoutModel",
      "state": {
       "margin": "0px 0px 0px 70px"
      }
     },
     "c212079f3c75412fb2d7d19d8fe49d54": {
      "model_module": "@jupyter-widgets/controls",
      "model_module_version": "1.5.0",
      "model_name": "ButtonModel",
      "state": {
       "button_style": "warning",
       "description": "R",
       "layout": "IPY_MODEL_b3c7fe0998db4d7bbd51713e24281c42",
       "style": "IPY_MODEL_8582f617a88a4883924f14c56e012b8b",
       "tooltip": "Click to guess R."
      }
     },
     "c2140291ce294102b1ebd9336ccc4f7b": {
      "model_module": "@jupyter-widgets/controls",
      "model_module_version": "1.5.0",
      "model_name": "HTMLModel",
      "state": {
       "layout": "IPY_MODEL_3556ea62cc004dcb86b131e2391540bc",
       "style": "IPY_MODEL_888dcb168d594e24ae327bb3e8ba07e5",
       "value": "<h1><font color=black>Secret Word:                          i _ e _ _</h1>"
      }
     },
     "c220c3c7e8cc4eb2857b579b8d392e9f": {
      "model_module": "@jupyter-widgets/controls",
      "model_module_version": "1.5.0",
      "model_name": "ButtonModel",
      "state": {
       "button_style": "warning",
       "description": "S",
       "disabled": true,
       "layout": "IPY_MODEL_7144b26aa954486aab321900f3f17e20",
       "style": "IPY_MODEL_523f6a5a272348e3af87e850a98417f0"
      }
     },
     "c25c69f89b3041549dc8cd288c126b4c": {
      "model_module": "@jupyter-widgets/controls",
      "model_module_version": "1.5.0",
      "model_name": "DescriptionStyleModel",
      "state": {
       "description_width": ""
      }
     },
     "c2e73608559147248973a4af71c6969f": {
      "model_module": "@jupyter-widgets/base",
      "model_module_version": "1.2.0",
      "model_name": "LayoutModel",
      "state": {
       "margin": "0px 0px 0px 100px"
      }
     },
     "c2f84c1a278b4e28802eb89bc9d65316": {
      "model_module": "@jupyter-widgets/controls",
      "model_module_version": "1.5.0",
      "model_name": "ButtonStyleModel",
      "state": {}
     },
     "c2fa5e6359d845fcbe7a434b8040f14b": {
      "model_module": "@jupyter-widgets/base",
      "model_module_version": "1.2.0",
      "model_name": "LayoutModel",
      "state": {
       "grid_area": "left-sidebar"
      }
     },
     "c33f73dd67434df9959a63da8a715194": {
      "model_module": "@jupyter-widgets/base",
      "model_module_version": "1.2.0",
      "model_name": "LayoutModel",
      "state": {
       "margin": "0px 0px 0px 100px"
      }
     },
     "c3431322c394474ea77e4603f7180194": {
      "model_module": "@jupyter-widgets/controls",
      "model_module_version": "1.5.0",
      "model_name": "ButtonModel",
      "state": {
       "button_style": "warning",
       "description": "J",
       "layout": "IPY_MODEL_1262a5a1c6934973b2f92d88e0c24a82",
       "style": "IPY_MODEL_e58860266c8247c3afb8cbda75fa3714",
       "tooltip": "Click to guess J."
      }
     },
     "c34f2ebc5ea74337a60fc26dc5c50f4f": {
      "model_module": "@jupyter-widgets/base",
      "model_module_version": "1.2.0",
      "model_name": "LayoutModel",
      "state": {
       "margin": "0px 0px 0px 100px"
      }
     },
     "c3596ac6e13b44c2a727749b93f26277": {
      "model_module": "@jupyter-widgets/controls",
      "model_module_version": "1.5.0",
      "model_name": "ButtonStyleModel",
      "state": {}
     },
     "c35982d1da0144ac8d2e986a4c7178f6": {
      "model_module": "@jupyter-widgets/controls",
      "model_module_version": "1.5.0",
      "model_name": "ButtonModel",
      "state": {
       "button_style": "warning",
       "description": "C",
       "disabled": true,
       "layout": "IPY_MODEL_745726f6fd2b4fcc967b873bf1661845",
       "style": "IPY_MODEL_5fa299f066d74c12bc6be9938d1b021e"
      }
     },
     "c35c5596b6394bfeadc2f3f46fecdf0d": {
      "model_module": "@jupyter-widgets/controls",
      "model_module_version": "1.5.0",
      "model_name": "ButtonModel",
      "state": {
       "button_style": "warning",
       "description": "X",
       "layout": "IPY_MODEL_ee32686a33eb4d3bb77016406f7681ad",
       "style": "IPY_MODEL_5a318a0a879e477d99809b6c49a63029",
       "tooltip": "Click to guess X."
      }
     },
     "c35ff2570ef7433ca12619fac284e175": {
      "model_module": "@jupyter-widgets/controls",
      "model_module_version": "1.5.0",
      "model_name": "HTMLModel",
      "state": {
       "layout": "IPY_MODEL_7dead9c72779487fb8bb1e5f1d975bc1",
       "style": "IPY_MODEL_b370418b35034f78b98186eff56923a1",
       "value": "<h3>Click on a letter below to guess the word.</h3>"
      }
     },
     "c3621dd19c384b8090973629a5240422": {
      "model_module": "@jupyter-widgets/base",
      "model_module_version": "1.2.0",
      "model_name": "LayoutModel",
      "state": {
       "height": "25px",
       "width": "33px"
      }
     },
     "c38a2ef15ab648f7ae4a731258848edc": {
      "model_module": "@jupyter-widgets/base",
      "model_module_version": "1.2.0",
      "model_name": "LayoutModel",
      "state": {
       "height": "25px",
       "width": "33px"
      }
     },
     "c3909af39afd4f718f2a83366bca90b2": {
      "model_module": "@jupyter-widgets/base",
      "model_module_version": "1.2.0",
      "model_name": "LayoutModel",
      "state": {
       "height": "25px",
       "width": "33px"
      }
     },
     "c394e8a1492d4c21a73020678643c14f": {
      "model_module": "@jupyter-widgets/base",
      "model_module_version": "1.2.0",
      "model_name": "LayoutModel",
      "state": {
       "grid_template_areas": "\"header header header\"\n\"left-sidebar center center\"\n\"footer footer footer\"",
       "grid_template_columns": "1fr 2fr 1fr",
       "grid_template_rows": "1fr 3fr 1fr"
      }
     },
     "c39ece8665d0442595b902859edc7a88": {
      "model_module": "@jupyter-widgets/base",
      "model_module_version": "1.2.0",
      "model_name": "LayoutModel",
      "state": {
       "width": "500px"
      }
     },
     "c3a9a4d8054d41b1bd0903b8d5d30a37": {
      "model_module": "@jupyter-widgets/base",
      "model_module_version": "1.2.0",
      "model_name": "LayoutModel",
      "state": {
       "width": "500px"
      }
     },
     "c3eea8b539d14e129a2bad0e8854c1af": {
      "model_module": "@jupyter-widgets/base",
      "model_module_version": "1.2.0",
      "model_name": "LayoutModel",
      "state": {
       "height": "25px",
       "width": "33px"
      }
     },
     "c41d1c21ad024b498d3e2da4a75a98aa": {
      "model_module": "@jupyter-widgets/base",
      "model_module_version": "1.2.0",
      "model_name": "LayoutModel",
      "state": {
       "margin": "0px 0px 0px 100px"
      }
     },
     "c42b0e11baa14ba6a65b8464186335cf": {
      "model_module": "@jupyter-widgets/base",
      "model_module_version": "1.2.0",
      "model_name": "LayoutModel",
      "state": {
       "margin": "0px 0px 0px 100px"
      }
     },
     "c4350cf261054c2891c9018895ecb671": {
      "model_module": "@jupyter-widgets/controls",
      "model_module_version": "1.5.0",
      "model_name": "GridBoxModel",
      "state": {
       "children": [
        "IPY_MODEL_9f17d4d0bd704b2a8562fd51bf1841d5",
        "IPY_MODEL_6283d66fc1ae40a881fc2ace810c2ec4",
        "IPY_MODEL_a7fdf806cb9f476da1744e0141246671",
        "IPY_MODEL_324605b51eb04445a6b2bc03b949be15"
       ],
       "layout": "IPY_MODEL_7b6ed63859f24684925275a4341e15d8"
      }
     },
     "c43670cf84404871be04422a103e2276": {
      "model_module": "@jupyter-widgets/controls",
      "model_module_version": "1.5.0",
      "model_name": "HTMLModel",
      "state": {
       "layout": "IPY_MODEL_3a753ffe6e4d4be9b741c3e7778cf3bb",
       "style": "IPY_MODEL_7c2e44b8edc44b8abcb979c6e4f6683c",
       "value": "<h3>Player Result</h3>"
      }
     },
     "c48220d9027148a58ffaa501f13988ea": {
      "model_module": "@jupyter-widgets/controls",
      "model_module_version": "1.5.0",
      "model_name": "ButtonModel",
      "state": {
       "button_style": "warning",
       "description": "A",
       "disabled": true,
       "layout": "IPY_MODEL_c675d329cf9140f08e561f4629cc9df6",
       "style": "IPY_MODEL_82548b1e639b4a019c5d00f672d9d755"
      }
     },
     "c4a88918c6634921b1d19c38b0ec959a": {
      "model_module": "@jupyter-widgets/base",
      "model_module_version": "1.2.0",
      "model_name": "LayoutModel",
      "state": {
       "height": "25px",
       "width": "33px"
      }
     },
     "c4ad897601e1483d9d7539c427107921": {
      "model_module": "@jupyter-widgets/controls",
      "model_module_version": "1.5.0",
      "model_name": "HTMLModel",
      "state": {
       "layout": "IPY_MODEL_f216cbd4e74e41e4b46f7fa8598634c8",
       "style": "IPY_MODEL_26c8ee0448854880b42aa4ae2784f697",
       "value": "<h4>Wins: 0</h4>"
      }
     },
     "c4b5d556bbf54ab8a96d6b62675dda92": {
      "model_module": "@jupyter-widgets/controls",
      "model_module_version": "1.5.0",
      "model_name": "DescriptionStyleModel",
      "state": {
       "description_width": ""
      }
     },
     "c4c891f8e7b34660a870dbbb487c10c2": {
      "model_module": "@jupyter-widgets/controls",
      "model_module_version": "1.5.0",
      "model_name": "HTMLModel",
      "state": {
       "layout": "IPY_MODEL_d68223b4495f464f8f6650cf63e9965e",
       "style": "IPY_MODEL_668fcbd54aaf4c378dda325ac98e54d0",
       "value": "<h4>Games: 1</h4>"
      }
     },
     "c4cd26951dc34348b8924ace27a8b81c": {
      "model_module": "@jupyter-widgets/controls",
      "model_module_version": "1.5.0",
      "model_name": "VBoxModel",
      "state": {
       "children": [
        "IPY_MODEL_9feb726560d548b1a778186659b10dc4",
        "IPY_MODEL_2be7d7345d77456d9efea22554ae2479",
        "IPY_MODEL_a56e8a0eb85344d393285b4b3799b995"
       ],
       "layout": "IPY_MODEL_311c7cdbaa624d09a716cb4ffd736ac5"
      }
     },
     "c4dc557847e94941b3afb798051c13eb": {
      "model_module": "@jupyter-widgets/controls",
      "model_module_version": "1.5.0",
      "model_name": "HTMLModel",
      "state": {
       "layout": "IPY_MODEL_0555822998514d62bcf014bf034969d8",
       "style": "IPY_MODEL_e1aeb463b9cd4a59ae43b9c3599e84fa",
       "value": "<h3>Click on a letter below to guess the word.</h3>"
      }
     },
     "c4f2e5dd664b4a6dbc7fa040410dd6fc": {
      "model_module": "@jupyter-widgets/base",
      "model_module_version": "1.2.0",
      "model_name": "LayoutModel",
      "state": {
       "margin": "0px 0px 0px 100px"
      }
     },
     "c51d10ae51364f54a29bf8a70fee780f": {
      "model_module": "@jupyter-widgets/controls",
      "model_module_version": "1.5.0",
      "model_name": "VBoxModel",
      "state": {
       "children": [
        "IPY_MODEL_f2aa74b864134dcfbd1a449268ec7b22",
        "IPY_MODEL_3605a4cf57114dda96be8e6c01d11eb0"
       ],
       "layout": "IPY_MODEL_7651f2a31d684b0db06a478130725de6"
      }
     },
     "c525f800f8124c5e80fa274cc96c8e46": {
      "model_module": "@jupyter-widgets/controls",
      "model_module_version": "1.5.0",
      "model_name": "ButtonModel",
      "state": {
       "button_style": "warning",
       "description": "G",
       "layout": "IPY_MODEL_8ba7f11d6bb942b7a59ee423c2643233",
       "style": "IPY_MODEL_62ef089c1c364fff83975da652940f06",
       "tooltip": "Click to guess G."
      }
     },
     "c52c9cb1cec74073aa28ac25b9d78637": {
      "model_module": "@jupyter-widgets/base",
      "model_module_version": "1.2.0",
      "model_name": "LayoutModel",
      "state": {
       "height": "25px",
       "width": "33px"
      }
     },
     "c5342032064b463798aae93a8339665e": {
      "model_module": "@jupyter-widgets/base",
      "model_module_version": "1.2.0",
      "model_name": "LayoutModel",
      "state": {
       "height": "auto"
      }
     },
     "c5684c21ea3e4de6bddbb6495ea2e93c": {
      "model_module": "@jupyter-widgets/controls",
      "model_module_version": "1.5.0",
      "model_name": "DescriptionStyleModel",
      "state": {
       "description_width": ""
      }
     },
     "c56e879244014266a7f437ff8dd2bf7f": {
      "model_module": "@jupyter-widgets/controls",
      "model_module_version": "1.5.0",
      "model_name": "HTMLModel",
      "state": {
       "layout": "IPY_MODEL_e7a2b1f2bd184d109d282f25765f3f79",
       "style": "IPY_MODEL_134e24048bdf41018c3afd0b9d9e1591",
       "value": "<h4>Wins: 0</h4>"
      }
     },
     "c58c73e588f3495c93aa7b4db4847315": {
      "model_module": "@jupyter-widgets/controls",
      "model_module_version": "1.5.0",
      "model_name": "DescriptionStyleModel",
      "state": {
       "description_width": ""
      }
     },
     "c5a63aa667cb48e5bdd0c91b47dc6c2c": {
      "model_module": "@jupyter-widgets/controls",
      "model_module_version": "1.5.0",
      "model_name": "VBoxModel",
      "state": {
       "children": [
        "IPY_MODEL_59c98d1cf97e45aa9af141a622258115",
        "IPY_MODEL_0144cc494cd84249adb01af79c59b280",
        "IPY_MODEL_0061311220e846629f3b8aae2f5bb4f0"
       ],
       "layout": "IPY_MODEL_684d66edb3154537b4390536c4635887"
      }
     },
     "c5c7db18542f4ef39059320ada86fb5d": {
      "model_module": "@jupyter-widgets/controls",
      "model_module_version": "1.5.0",
      "model_name": "DescriptionStyleModel",
      "state": {
       "description_width": ""
      }
     },
     "c5d9e812ac1c4e358ad190cf2b92ad11": {
      "model_module": "@jupyter-widgets/controls",
      "model_module_version": "1.5.0",
      "model_name": "ButtonModel",
      "state": {
       "button_style": "warning",
       "description": "A",
       "layout": "IPY_MODEL_1a4ca9f1b36447939c9af50f27e5d7f8",
       "style": "IPY_MODEL_5d18429188fd4b2eb2257257f4d782c5",
       "tooltip": "Click to guess A."
      }
     },
     "c5dd58e06ebb465898ee7758dad76004": {
      "model_module": "@jupyter-widgets/base",
      "model_module_version": "1.2.0",
      "model_name": "LayoutModel",
      "state": {
       "height": "25px",
       "width": "33px"
      }
     },
     "c5e9aa9e0ab44c33b805b1c4f67b568b": {
      "model_module": "@jupyter-widgets/controls",
      "model_module_version": "1.5.0",
      "model_name": "DescriptionStyleModel",
      "state": {
       "description_width": ""
      }
     },
     "c5f6d4159c864bff8f09f3c58ffa6334": {
      "model_module": "@jupyter-widgets/controls",
      "model_module_version": "1.5.0",
      "model_name": "VBoxModel",
      "state": {
       "children": [
        "IPY_MODEL_eb46973b8df245fe8f6e2b630496eda2",
        "IPY_MODEL_b9159305fb1145649c0e7cd77d92224e"
       ],
       "layout": "IPY_MODEL_79749e2eb49a4343bbf9bb9648ddffba"
      }
     },
     "c63b3756126c455ebde9e68a0d0d6f9a": {
      "model_module": "@jupyter-widgets/base",
      "model_module_version": "1.2.0",
      "model_name": "LayoutModel",
      "state": {
       "height": "25px",
       "width": "33px"
      }
     },
     "c63d5e3695cf48998fa02b87f59b4444": {
      "model_module": "@jupyter-widgets/base",
      "model_module_version": "1.2.0",
      "model_name": "LayoutModel",
      "state": {
       "margin": "20px 0px 0px 20px"
      }
     },
     "c63dbe16b7e64dd0b35b8012b677d498": {
      "model_module": "@jupyter-widgets/base",
      "model_module_version": "1.2.0",
      "model_name": "LayoutModel",
      "state": {
       "height": "auto"
      }
     },
     "c675d329cf9140f08e561f4629cc9df6": {
      "model_module": "@jupyter-widgets/base",
      "model_module_version": "1.2.0",
      "model_name": "LayoutModel",
      "state": {
       "height": "25px",
       "width": "33px"
      }
     },
     "c69392fac4e34088a3d8a64407b45471": {
      "model_module": "@jupyter-widgets/base",
      "model_module_version": "1.2.0",
      "model_name": "LayoutModel",
      "state": {
       "width": "500px"
      }
     },
     "c6ccdbc6d9334e6a91a83e24fea019c2": {
      "model_module": "@jupyter-widgets/controls",
      "model_module_version": "1.5.0",
      "model_name": "HTMLModel",
      "state": {
       "layout": "IPY_MODEL_682a5822c6614e9ea8e84240d2b6a648",
       "style": "IPY_MODEL_547158481cb7405a96a8d9440e3d417b",
       "value": "<h1><font color=black>Secret Word:                          _ _ _ _ e</h1>"
      }
     },
     "c6df562a5c164f8da512f8218ab4d82f": {
      "model_module": "@jupyter-widgets/controls",
      "model_module_version": "1.5.0",
      "model_name": "ButtonStyleModel",
      "state": {}
     },
     "c6e77557579242f9a3f01d13c8031f30": {
      "model_module": "@jupyter-widgets/controls",
      "model_module_version": "1.5.0",
      "model_name": "ButtonModel",
      "state": {
       "button_style": "warning",
       "description": "S",
       "disabled": true,
       "layout": "IPY_MODEL_173143c0f8b7463ead25688e6f7137da",
       "style": "IPY_MODEL_e0f592b58b2a4217af668c86f481d62b"
      }
     },
     "c6f9fe42fff143e9954ed396cee81446": {
      "model_module": "@jupyter-widgets/controls",
      "model_module_version": "1.5.0",
      "model_name": "ButtonStyleModel",
      "state": {}
     },
     "c711dc1c6a764cf1a2128072e615c06b": {
      "model_module": "@jupyter-widgets/controls",
      "model_module_version": "1.5.0",
      "model_name": "VBoxModel",
      "state": {
       "children": [
        "IPY_MODEL_ea50d36e3cba43bca302f60bd1d7381d",
        "IPY_MODEL_99042462ac4e49bcb7a505239cff3707"
       ],
       "layout": "IPY_MODEL_b83e52c0fd714c5eb65f435ca045e336"
      }
     },
     "c718bff50bca4516bf3f0be3aa2c9324": {
      "model_module": "@jupyter-widgets/controls",
      "model_module_version": "1.5.0",
      "model_name": "ButtonStyleModel",
      "state": {}
     },
     "c71a1d4c164f4f28a56f6b1b7818980f": {
      "model_module": "@jupyter-widgets/base",
      "model_module_version": "1.2.0",
      "model_name": "LayoutModel",
      "state": {
       "grid_area": "footer",
       "margin": "-60px 0px 0px 0px"
      }
     },
     "c71a9dc81eb94e77b66ae82ba6ac90d4": {
      "model_module": "@jupyter-widgets/controls",
      "model_module_version": "1.5.0",
      "model_name": "ButtonModel",
      "state": {
       "button_style": "success",
       "description": "Play Again",
       "layout": "IPY_MODEL_75d35234cc2943b4bc639449903b2099",
       "style": "IPY_MODEL_85cf9d785dbc4b4e8d1027bf7e27ada0"
      }
     },
     "c76342fc7bca4d06a73b739a2fbe2436": {
      "model_module": "@jupyter-widgets/controls",
      "model_module_version": "1.5.0",
      "model_name": "DescriptionStyleModel",
      "state": {
       "description_width": ""
      }
     },
     "c778e00a269049689696c7aa151e7c82": {
      "model_module": "@jupyter-widgets/controls",
      "model_module_version": "1.5.0",
      "model_name": "ButtonModel",
      "state": {
       "button_style": "warning",
       "description": "R",
       "layout": "IPY_MODEL_49e1159e28064a1cb0e4ecba0c6c9550",
       "style": "IPY_MODEL_17cd391172024a9fb4982e17f741375f",
       "tooltip": "Click to guess R."
      }
     },
     "c77a8d11728f491aae8f5d19f33f41ca": {
      "model_module": "@jupyter-widgets/base",
      "model_module_version": "1.2.0",
      "model_name": "LayoutModel",
      "state": {
       "height": "25px",
       "width": "33px"
      }
     },
     "c7d48803706941e0a922ccdb99616a34": {
      "model_module": "@jupyter-widgets/controls",
      "model_module_version": "1.5.0",
      "model_name": "HTMLModel",
      "state": {
       "layout": "IPY_MODEL_e72913f5d9d74d639c23a84690b7588c",
       "style": "IPY_MODEL_b00d8cc8d32e428aab0bcfad58f13832",
       "value": "<h4>Wins: 1</h4>"
      }
     },
     "c7f6b80b51f24f26b1fd1a6b8f5467c3": {
      "model_module": "@jupyter-widgets/base",
      "model_module_version": "1.2.0",
      "model_name": "LayoutModel",
      "state": {
       "margin": "0px 0px 0px 100px"
      }
     },
     "c8297c742f1c4ec7a0e744acc8166211": {
      "model_module": "@jupyter-widgets/controls",
      "model_module_version": "1.5.0",
      "model_name": "HTMLModel",
      "state": {
       "layout": "IPY_MODEL_9a33e2de76f34f5b8a0d95c93dcb5063",
       "style": "IPY_MODEL_1d39933561c2448385a9abe1ee43012f",
       "value": "<h4>Games: 3</h4>"
      }
     },
     "c829cdaca0ca4ba3b8221c3f9f5fcddd": {
      "model_module": "@jupyter-widgets/base",
      "model_module_version": "1.2.0",
      "model_name": "LayoutModel",
      "state": {
       "margin": "0px 0px 0px 70px"
      }
     },
     "c834b2d42f1e4adca5eba299cc3601ff": {
      "model_module": "@jupyter-widgets/controls",
      "model_module_version": "1.5.0",
      "model_name": "ButtonStyleModel",
      "state": {}
     },
     "c8653663c81140f7ba5b62feb25b82cd": {
      "model_module": "@jupyter-widgets/base",
      "model_module_version": "1.2.0",
      "model_name": "LayoutModel",
      "state": {
       "width": "500px"
      }
     },
     "c873a111f61746e79b3408942732f3d0": {
      "model_module": "@jupyter-widgets/base",
      "model_module_version": "1.2.0",
      "model_name": "LayoutModel",
      "state": {
       "height": "25px",
       "width": "33px"
      }
     },
     "c875d50346d7447dad95802301fea224": {
      "model_module": "@jupyter-widgets/controls",
      "model_module_version": "1.5.0",
      "model_name": "VBoxModel",
      "state": {
       "children": [
        "IPY_MODEL_81285b69a77842efb4b07df5948c1625",
        "IPY_MODEL_20154f7cacda48caa88ab4586e432ce3"
       ],
       "layout": "IPY_MODEL_f8628f4c445743b08bb8a8ad62f50486"
      }
     },
     "c8824b5381fa4cd1b6c3e113109f20dd": {
      "model_module": "@jupyter-widgets/controls",
      "model_module_version": "1.5.0",
      "model_name": "ButtonStyleModel",
      "state": {}
     },
     "c8828579f97947b4a9a31476eaacdc5f": {
      "model_module": "@jupyter-widgets/base",
      "model_module_version": "1.2.0",
      "model_name": "LayoutModel",
      "state": {
       "grid_area": "header"
      }
     },
     "c8ad0c6d9a7147bd9d8269b579ef44ce": {
      "model_module": "@jupyter-widgets/controls",
      "model_module_version": "1.5.0",
      "model_name": "DescriptionStyleModel",
      "state": {
       "description_width": ""
      }
     },
     "c8b5f41fed2b4312b44f85b41f989c5b": {
      "model_module": "@jupyter-widgets/controls",
      "model_module_version": "1.5.0",
      "model_name": "ButtonModel",
      "state": {
       "button_style": "warning",
       "description": "U",
       "disabled": true,
       "layout": "IPY_MODEL_b2de36aea3484cd2b4edf3eeaa89b7ad",
       "style": "IPY_MODEL_7953c1ab6ab742c19cf1739a28c07a58"
      }
     },
     "c8cbc6d33c064eee8710aad91b3f4509": {
      "model_module": "@jupyter-widgets/controls",
      "model_module_version": "1.5.0",
      "model_name": "ButtonStyleModel",
      "state": {}
     },
     "c8d1ac3382fd49f2a3e5bb4ed64d33a0": {
      "model_module": "@jupyter-widgets/base",
      "model_module_version": "1.2.0",
      "model_name": "LayoutModel",
      "state": {
       "grid_area": "footer",
       "margin": "-60px 0px 0px 0px"
      }
     },
     "c8e1922212d24b7f8f3f5a308a020b54": {
      "model_module": "@jupyter-widgets/controls",
      "model_module_version": "1.5.0",
      "model_name": "ButtonModel",
      "state": {
       "button_style": "warning",
       "description": "W",
       "disabled": true,
       "layout": "IPY_MODEL_08c8ef8035324448a262bda58219d10b",
       "style": "IPY_MODEL_222aebe576d0413487fa77b689b4aaa1"
      }
     },
     "c8e7daa9659b45308023e8fdc67c3307": {
      "model_module": "@jupyter-widgets/controls",
      "model_module_version": "1.5.0",
      "model_name": "ButtonStyleModel",
      "state": {}
     },
     "c91feb8561a24e278f91ce61bb9236db": {
      "model_module": "@jupyter-widgets/base",
      "model_module_version": "1.2.0",
      "model_name": "LayoutModel",
      "state": {
       "height": "25px",
       "width": "33px"
      }
     },
     "c928c8fa22184290ad7fd7ebae585826": {
      "model_module": "@jupyter-widgets/base",
      "model_module_version": "1.2.0",
      "model_name": "LayoutModel",
      "state": {
       "height": "25px",
       "width": "33px"
      }
     },
     "c92ec8d479354df98bf15a4eb4f72d0d": {
      "model_module": "@jupyter-widgets/controls",
      "model_module_version": "1.5.0",
      "model_name": "ButtonStyleModel",
      "state": {}
     },
     "c936ba04f4b54be590f7ea4903858e70": {
      "model_module": "@jupyter-widgets/base",
      "model_module_version": "1.2.0",
      "model_name": "LayoutModel",
      "state": {
       "height": "25px",
       "width": "33px"
      }
     },
     "c9497d2e8fc844fda524c496f078b157": {
      "model_module": "@jupyter-widgets/controls",
      "model_module_version": "1.5.0",
      "model_name": "HTMLModel",
      "state": {
       "layout": "IPY_MODEL_638d56f19ae64ceaafd9e3cac717f8b2",
       "style": "IPY_MODEL_77332c55e8174281936ac99fa0bb7398",
       "value": "<h1><font color=black>Secret Word:                          _ _ e _ _</h1>"
      }
     },
     "c94cd22a8bd34e46ae0c6680d21f2fbe": {
      "buffers": [
       {
        "data": "iVBORw0KGgoAAAANSUhEUgAAATQAAAE0CAIAAAAt41jIAAAEyUlEQVR4nO3d0W6iUBRAUZ30/3+ZeZjEsYqAArJb13pqGyU3JjsHLXJPJwAAANjH+fqXYRiOWgdwOp3O5/9J/jlwHcAEcUKUOCFKnBAlTogSJ0SJE6LECVHihChxQpQ4IUqcECVOiBInRIkTosQJUeKEKHFClDghSpwQJU6IEidEiROixAlR4oQocUKUOCFKnBAlTogSJ0SJE6LECVHihChxQtTX0Qv4Pa43DGdbwzAcvYQDmJzbUOauPvPlFSdEOa3d2GeegO3nM2fmPyYnRIkTosQJUeKEKHFClDghSpwQJU6IEidEiROixAlR4oQocUKUOCFKnBAlTogSJ0S5E8Iq99/Tv/zFLRFYSZyvWHLvDJWykjifc5PlRHiXR/77QaI8S5xLLc/y+gES5WXinPdslvcPligv8GntjOsyh2F4raubJ37y7R5ZTpxTbspceTR98hRxPrRtmffH0SfTxDlv27eI3nCykDjH7fpfyssxDU8miHPKflPO/GSWOEe8c6AZnjwizof2Hm6GJ9PEeev9o8zwZJQ4x71nrBmeTBAnRInzm/df+3pz8S1ciBOixAlR4oQocUKUOCFKnBAlTogSJ0SJ85v3XxLgll88Ik6IEue49wxPV+0xQZy33n+G6ZyWUeJ8aO+xZmwyTZwj3v+tFLgnzin7DTdjk1niHLfr3SvtDsgS4py3bZ9mJguJ86E9tk7YY4sHfitxTtm2T2XyFHHOuOnztURvnqhMlrB57rw1G+Cu2XiXDyfOpZ5NVJasJM7njCa65CnwLHG+Ysl/QTXJSuJc5b5STbIVn9ZClDghSpwQJU6IEidEiROixAlR4oQocUKUOCFKnBAlTogSJ0SJE6LECVHihChxQpQ4IUqcECVOiBInRIkTosQJUeKEKHFClDghSpwQJU6IEidEiROixAlR4oQocUKUOCFKnBAlTogSJ0SJE6LECVHihChxQpQ4IUqcECVOiBInRIkTosQJUeKEKHFClDghSpwQJU6IEidEiROixAlR4oQocUKUOCFKnBD1dfQCfolhGI5eAr+NyQlR4oQocUKUOCFKnBAlTogSJ0SJE6LECVHihChxQpQ4IUqcECVOiBInRIkTosQJUeKEKHFClDghSpwQJU6IEidEiROixAlR4oQocUKUOCFKnBAlTogSJ0SJE6LECVHihChxQpQ4IUqcECVOiBInRIkTosQJUeKEKHFClDghSpwQJU6IEidEiROixAlR4oQocUKUOCFKnBAlTogSJ0SJE6LECVHihChxQpQ4IUqcECVOiBInRIkTosQJUeKEKHFClDghSpwQJU6IEidEiROixAlR4oQocUKUOCFKnBAlTogSJ0SJE6LECVHihChxQpQ4IUqcECVOiBInRIkTosQJUeKEKHFClDghSpwQJU6IEidEiROixAlR4oQocUKUOCFKnBAlTogSJ0SJE6LECVHihChxQpQ4IUqcECVOiBInRIkTosQJUeKEKHFClDghSpwQ9XX0Aph3Pp+PXsLx+i/CMAzbHtDkhChxQpTT2h9g8/MlfgSTE6LECVHihChxQpQ4IUqcECVOiBInRIkTosQJUeKEKHFClDghSpwQJU6IEidEiROixAlR4oQocUKUOAEAAAA+zF8yMLx8mh5EmQAAAABJRU5ErkJggg==",
        "encoding": "base64",
        "path": [
         "value"
        ]
       }
      ],
      "model_module": "@jupyter-widgets/controls",
      "model_module_version": "1.5.0",
      "model_name": "ImageModel",
      "state": {
       "layout": "IPY_MODEL_9adaf8dfa6784759b8d869e5d051bc0b",
       "value": {}
      }
     },
     "c951cb1c33a946d7a17b8202a7737647": {
      "model_module": "@jupyter-widgets/base",
      "model_module_version": "1.2.0",
      "model_name": "LayoutModel",
      "state": {
       "margin": "0px 0px 0px 100px"
      }
     },
     "c98a61c1d3774419a12b878eae406116": {
      "model_module": "@jupyter-widgets/base",
      "model_module_version": "1.2.0",
      "model_name": "LayoutModel",
      "state": {
       "margin": "0px 0px 0px 100px"
      }
     },
     "c9a8a638ce124d8e8b8bb5986866a334": {
      "model_module": "@jupyter-widgets/base",
      "model_module_version": "1.2.0",
      "model_name": "LayoutModel",
      "state": {
       "height": "25px",
       "width": "33px"
      }
     },
     "c9a8bf0f197d4bd6ba838ddc8a112efe": {
      "model_module": "@jupyter-widgets/controls",
      "model_module_version": "1.5.0",
      "model_name": "VBoxModel",
      "state": {
       "children": [
        "IPY_MODEL_8298644eef11471ea1b1238cd4edf0eb",
        "IPY_MODEL_50d7846c6871480da9d3c422e2001b93",
        "IPY_MODEL_c1908b51b60e4db78b5e653ed722acf7"
       ],
       "layout": "IPY_MODEL_17ee954b164d4b378e7f9ceba31046e6"
      }
     },
     "c9c1cddc843b4bbe85ee435905692e9d": {
      "buffers": [
       {
        "data": "iVBORw0KGgoAAAANSUhEUgAAATQAAAE0CAIAAAAt41jIAAAD0UlEQVR4nO3dMW7DMBAAQTLw/7/MFCnsymkocG3NdGqEg4DFsaLGAAAAgGvM14e11qk5gDHGnM8kfw7OAbwhTogSJ0SJE6LECVHihChxQpQ4IUqcECVOiBInRIkTosQJUeKEKHFClDghSpwQJU6IEidEiROixAlR4oQocUKUOCFKnBAlTogSJ0SJE6LECVHihChxQpQ4IUqcECVOiHqcHuB7vP4wnL3WWqdHOMDm3EOZl7rn5xUnRDnWbnbPA9h17rkz/9icECVOiBInRIkTosQJUeKEKHFClDghSpwQJU6IEidEiROixAlR4oQocUKUOCFKnBAlTohyTckebidhO5sTosQJUeKEKHFClDghSpwQJU6IEidEiROixAlR4oQocUKUOCFKnBAlTogSJ0SJE6LECVHihChxQpQ4IUqcECVOiBInRIkTosQJUeKEKHFClDghSpwQJU6IEidEiROixAlR4oQocUKUOCFKnBAlTogSJ0SJE6LECVHihChxQpQ4IUqcECVOiBInRIkTosQJUeKEKHFClDghSpwQJU6IEidEiROixAlR4oQocUKUOCFKnBAlTogSJ0SJE6LECVHihChxQpQ4IUqcECVOiBInRIkTosQJUeKEKHFClDghSpwQJU6IEidEiROixAlR4oQocUKUOCFKnBAlTogSJ0SJE6LECVHihChxQpQ4IUqcECVOiBInRIkTosQJUeKEKHFClDghSpwQJU6IEidEiROixAlR4oQocUKUOCFKnBAlTogSJ0SJE6LECVHihChxQpQ4IUqcECVOiBInRIkTosQJUeKEKHFClDghSpwQJU6IEidEiROixAlR4oQocUKUOCFKnBAlTogSJ0SJE6LECVHihChxQpQ4IUqcECVOiBInRIkTosQJUeKEKHFClDghSpwQJU6IEidEiROixAlR4oQocUKUOCFKnBAlTogSJ0SJE6LECVHihChxQpQ4IUqcECVOiBInRIkTosQJUeKEKHFClDghSpwQJU6IEidEiROixAlR4oQocUKUOCFKnBAlTogSJ0SJE6LECVHihChxQpQ4IUqcECVOiBInRIkTosQJUeKEKHFClDghSpwQJU6IEidEiROixAlR4oQocUKUOCFKnBAlTogSJ0SJE6LECVHihChxQpQ4IUqcECVOiBInRIkToh6nB+B/c87TI5zX/whrrb0vtDkhSpwQ5Vj7Abafl/gINidEiROixAlR4oQocUKUOCFKnBAlTogSJ0SJE6LECVHihChxQpQ4IUqcECVOiBInRIkTosQJUeKEKHECAAAA3Mwv+9AUZSTGP0IAAAAASUVORK5CYII=",
        "encoding": "base64",
        "path": [
         "value"
        ]
       }
      ],
      "model_module": "@jupyter-widgets/controls",
      "model_module_version": "1.5.0",
      "model_name": "ImageModel",
      "state": {
       "layout": "IPY_MODEL_a83e4ff4f075422195cbcb0126fdf44e"
      }
     },
     "c9e694c50fdd464ead7247322077254c": {
      "model_module": "@jupyter-widgets/controls",
      "model_module_version": "1.5.0",
      "model_name": "HTMLModel",
      "state": {
       "layout": "IPY_MODEL_69e4c9ce29534c6ebd9afd30942ca347",
       "style": "IPY_MODEL_b00c849b44624ed6a72030a88c7064d7",
       "value": "<h4>Wins: 0</h4>"
      }
     },
     "ca1e4fda0934460f89e723d8e69e61cb": {
      "model_module": "@jupyter-widgets/controls",
      "model_module_version": "1.5.0",
      "model_name": "DescriptionStyleModel",
      "state": {
       "description_width": ""
      }
     },
     "ca264d2693424c058e502c1f2855a2b9": {
      "model_module": "@jupyter-widgets/controls",
      "model_module_version": "1.5.0",
      "model_name": "DescriptionStyleModel",
      "state": {
       "description_width": ""
      }
     },
     "ca31799f11344e3b97e0789b8123d325": {
      "model_module": "@jupyter-widgets/controls",
      "model_module_version": "1.5.0",
      "model_name": "HTMLModel",
      "state": {
       "layout": "IPY_MODEL_2d7cce29d0054980b139f9301b20887e",
       "style": "IPY_MODEL_df0c09944b5e4c4e968aeb060538c82a",
       "value": "<h3>Player Result</h3>"
      }
     },
     "ca3545898d30448097dad24fe95a588f": {
      "model_module": "@jupyter-widgets/base",
      "model_module_version": "1.2.0",
      "model_name": "LayoutModel",
      "state": {
       "grid_area": "footer",
       "margin": "-60px 0px 0px 0px"
      }
     },
     "ca38b8fec110499a8af13615d671662a": {
      "model_module": "@jupyter-widgets/controls",
      "model_module_version": "1.5.0",
      "model_name": "VBoxModel",
      "state": {
       "children": [
        "IPY_MODEL_36381166c00045818886ff3dad02eecb",
        "IPY_MODEL_333edb95a2284d55b33d273da44de157"
       ],
       "layout": "IPY_MODEL_d7a12f01855645a7af361330af187912"
      }
     },
     "ca43223526c847e58ba0ef790fcca468": {
      "model_module": "@jupyter-widgets/controls",
      "model_module_version": "1.5.0",
      "model_name": "ButtonModel",
      "state": {
       "button_style": "warning",
       "description": "U",
       "layout": "IPY_MODEL_dec60d13bf5c478c9a7acdce82c0eb46",
       "style": "IPY_MODEL_59a4b4c7b0664d2fb0174e293486c330",
       "tooltip": "Click to guess U."
      }
     },
     "ca4ce0a004844ef29940c7ada7e8868b": {
      "model_module": "@jupyter-widgets/controls",
      "model_module_version": "1.5.0",
      "model_name": "ButtonStyleModel",
      "state": {}
     },
     "ca6e9351b86e4f5a96ef2f8ce4d73058": {
      "model_module": "@jupyter-widgets/controls",
      "model_module_version": "1.5.0",
      "model_name": "VBoxModel",
      "state": {
       "children": [
        "IPY_MODEL_912851f5f5db40f397473f052068b2cf"
       ],
       "layout": "IPY_MODEL_8878c54f8c2a485b8dc44f7e4ede2ef7"
      }
     },
     "ca6ffab232b34060aa1e43dcd70db322": {
      "model_module": "@jupyter-widgets/base",
      "model_module_version": "1.2.0",
      "model_name": "LayoutModel",
      "state": {
       "height": "25px",
       "width": "33px"
      }
     },
     "ca950fb4d7a542a2b7ef0d66d3a00281": {
      "model_module": "@jupyter-widgets/base",
      "model_module_version": "1.2.0",
      "model_name": "LayoutModel",
      "state": {
       "height": "25px",
       "width": "33px"
      }
     },
     "cab1eedeaa4a4766b2f7e418d58c35a6": {
      "model_module": "@jupyter-widgets/base",
      "model_module_version": "1.2.0",
      "model_name": "LayoutModel",
      "state": {
       "height": "25px",
       "width": "33px"
      }
     },
     "cb0274c8430440578c1bbcffe7e386bd": {
      "model_module": "@jupyter-widgets/controls",
      "model_module_version": "1.5.0",
      "model_name": "ButtonModel",
      "state": {
       "button_style": "warning",
       "description": "X",
       "disabled": true,
       "layout": "IPY_MODEL_91876ff97d1b44be829fa00523a801dd",
       "style": "IPY_MODEL_2288122d781c43f0b16633c5de53c71a"
      }
     },
     "cb1b7d5586ff420fab6d00b3a66db280": {
      "model_module": "@jupyter-widgets/controls",
      "model_module_version": "1.5.0",
      "model_name": "ButtonStyleModel",
      "state": {}
     },
     "cb4cda8517d2413b96c550dda03932f1": {
      "model_module": "@jupyter-widgets/base",
      "model_module_version": "1.2.0",
      "model_name": "LayoutModel",
      "state": {
       "height": "25px",
       "width": "33px"
      }
     },
     "cb4d077fc0d84efcae059f20ee843531": {
      "model_module": "@jupyter-widgets/controls",
      "model_module_version": "1.5.0",
      "model_name": "HTMLModel",
      "state": {
       "layout": "IPY_MODEL_c63dbe16b7e64dd0b35b8012b677d498",
       "style": "IPY_MODEL_d94cef253e82491bbe7dc4aa91c2f9fd",
       "value": "<h2><font color='black'>Remaining Guesses:                          5</h2>"
      }
     },
     "cba6f8763b244794a067713b5c08b862": {
      "model_module": "@jupyter-widgets/controls",
      "model_module_version": "1.5.0",
      "model_name": "DescriptionStyleModel",
      "state": {
       "description_width": ""
      }
     },
     "cbb9ca4ece4342739c11f768fe741924": {
      "model_module": "@jupyter-widgets/base",
      "model_module_version": "1.2.0",
      "model_name": "LayoutModel",
      "state": {
       "height": "25px",
       "width": "33px"
      }
     },
     "cbba5ff06e244a5cbd4629622ca52bce": {
      "model_module": "@jupyter-widgets/controls",
      "model_module_version": "1.5.0",
      "model_name": "HBoxModel",
      "state": {
       "children": [
        "IPY_MODEL_1977de0534da489a870c1a98683ba7ce",
        "IPY_MODEL_9bdd9717d20448ccb2bef7c70923d148"
       ],
       "layout": "IPY_MODEL_b7b53cfb856d4c0e851e0f2e59592eab"
      }
     },
     "cbcd1bce46854742b926e46fddc91d2e": {
      "model_module": "@jupyter-widgets/base",
      "model_module_version": "1.2.0",
      "model_name": "LayoutModel",
      "state": {
       "margin": "0px 0px 0px 70px"
      }
     },
     "cbd8c4bafa4042bc8256f47ab5ac9a1d": {
      "model_module": "@jupyter-widgets/base",
      "model_module_version": "1.2.0",
      "model_name": "LayoutModel",
      "state": {
       "grid_area": "left-sidebar"
      }
     },
     "cbdcc86ca1684904ab76d091708e4553": {
      "model_module": "@jupyter-widgets/controls",
      "model_module_version": "1.5.0",
      "model_name": "VBoxModel",
      "state": {
       "children": [
        "IPY_MODEL_48f7f92efab04e54a650e3f05cba3124"
       ],
       "layout": "IPY_MODEL_45b362849ec248018fc74766f6bf0737"
      }
     },
     "cbe813e85c7d4b63ab38259d8596c440": {
      "model_module": "@jupyter-widgets/controls",
      "model_module_version": "1.5.0",
      "model_name": "ButtonStyleModel",
      "state": {}
     },
     "cbf54d0394664abca1bfe7e752b4b853": {
      "model_module": "@jupyter-widgets/base",
      "model_module_version": "1.2.0",
      "model_name": "LayoutModel",
      "state": {
       "height": "25px",
       "width": "33px"
      }
     },
     "cbfad565ebc142079c6d24ba2a0c9841": {
      "model_module": "@jupyter-widgets/base",
      "model_module_version": "1.2.0",
      "model_name": "LayoutModel",
      "state": {
       "margin": "0px 0px 0px 70px"
      }
     },
     "cc049a1e2fc64759b5f738cfaee089dc": {
      "model_module": "@jupyter-widgets/controls",
      "model_module_version": "1.5.0",
      "model_name": "DescriptionStyleModel",
      "state": {
       "description_width": ""
      }
     },
     "cc055e8e94f140f7a5d5684da4c8e417": {
      "model_module": "@jupyter-widgets/controls",
      "model_module_version": "1.5.0",
      "model_name": "HBoxModel",
      "state": {
       "children": [
        "IPY_MODEL_8acceb9662e241edaaf06b7cb0256224",
        "IPY_MODEL_1ec2cd3dc95e4bb0b1849990949c961c"
       ],
       "layout": "IPY_MODEL_13c17dfdc73f42de96b9ba31ce0da2b4"
      }
     },
     "cc0922fe26054a16a85cfd8b401597be": {
      "model_module": "@jupyter-widgets/controls",
      "model_module_version": "1.5.0",
      "model_name": "ButtonStyleModel",
      "state": {}
     },
     "cc1d7feeca254830a312197042b1705b": {
      "model_module": "@jupyter-widgets/controls",
      "model_module_version": "1.5.0",
      "model_name": "ButtonModel",
      "state": {
       "button_style": "warning",
       "description": "W",
       "disabled": true,
       "layout": "IPY_MODEL_2ec44b7656ef4506ac66b3c021db13fe",
       "style": "IPY_MODEL_bb5766bbea4946709ac7212d3cac8f02"
      }
     },
     "cc3438e93295432e9ae4bfddef89b2f3": {
      "model_module": "@jupyter-widgets/base",
      "model_module_version": "1.2.0",
      "model_name": "LayoutModel",
      "state": {
       "margin": "20px 0px 0px 20px"
      }
     },
     "cc586af902bf4f53b5e0520bd3d9e726": {
      "model_module": "@jupyter-widgets/base",
      "model_module_version": "1.2.0",
      "model_name": "LayoutModel",
      "state": {
       "height": "25px",
       "width": "33px"
      }
     },
     "cc6b00fe2c5643b8a18884401ef12146": {
      "model_module": "@jupyter-widgets/controls",
      "model_module_version": "1.5.0",
      "model_name": "ButtonModel",
      "state": {
       "button_style": "warning",
       "description": "X",
       "disabled": true,
       "layout": "IPY_MODEL_05406d279456456083347d7bf8067713",
       "style": "IPY_MODEL_a421b545a5ef4df2ac1549d8dffe6977"
      }
     },
     "cc7f63842f98456e97d0a19a4f5f529d": {
      "model_module": "@jupyter-widgets/controls",
      "model_module_version": "1.5.0",
      "model_name": "ButtonStyleModel",
      "state": {}
     },
     "cd10c5659fe343038822bfa86655c87a": {
      "model_module": "@jupyter-widgets/controls",
      "model_module_version": "1.5.0",
      "model_name": "ButtonStyleModel",
      "state": {}
     },
     "cd38338716d542a5978935626c732ab1": {
      "model_module": "@jupyter-widgets/controls",
      "model_module_version": "1.5.0",
      "model_name": "ButtonModel",
      "state": {
       "button_style": "warning",
       "description": "P",
       "layout": "IPY_MODEL_981f4f71c6d7406eade79ad2d9f225c4",
       "style": "IPY_MODEL_58fdb2aaaa794fc6bcfcd9615b6194df",
       "tooltip": "Click to guess P."
      }
     },
     "cd59df32a1e6413b9b17d717d2b7b2cd": {
      "model_module": "@jupyter-widgets/controls",
      "model_module_version": "1.5.0",
      "model_name": "HTMLModel",
      "state": {
       "layout": "IPY_MODEL_82a4eae9370d482a81177b0e689b47a3",
       "style": "IPY_MODEL_3a9c48f52a7d48e7b038d32407c66614",
       "value": "<h4>Games: 0</h4>"
      }
     },
     "cd6afb0f63f042339cb684c6c23ea4dc": {
      "model_module": "@jupyter-widgets/controls",
      "model_module_version": "1.5.0",
      "model_name": "ButtonStyleModel",
      "state": {}
     },
     "cd6c66c1f6d0412fbc92110a76e27489": {
      "model_module": "@jupyter-widgets/base",
      "model_module_version": "1.2.0",
      "model_name": "LayoutModel",
      "state": {
       "margin": "0px 0px 0px 100px"
      }
     },
     "cd76433ae6304a86acdc4f86ffc8f59d": {
      "model_module": "@jupyter-widgets/base",
      "model_module_version": "1.2.0",
      "model_name": "LayoutModel",
      "state": {
       "margin": "0px 0px 0px 100px"
      }
     },
     "cd80b736564d402bab92b0646d229d6a": {
      "model_module": "@jupyter-widgets/controls",
      "model_module_version": "1.5.0",
      "model_name": "ButtonStyleModel",
      "state": {}
     },
     "cdb0cc3c9dfe4cfea40213efca4271f0": {
      "model_module": "@jupyter-widgets/controls",
      "model_module_version": "1.5.0",
      "model_name": "ButtonModel",
      "state": {
       "button_style": "success",
       "description": "Play Again",
       "layout": "IPY_MODEL_89703aa9a3df41a1ba9751939016e4fb",
       "style": "IPY_MODEL_32c59e4f49004bfe9a7810da8607e1e1"
      }
     },
     "cdb70c2b56ca4abdba512f7639e50565": {
      "model_module": "@jupyter-widgets/controls",
      "model_module_version": "1.5.0",
      "model_name": "ButtonStyleModel",
      "state": {}
     },
     "cdb7bc351fe14084baf481c7b258c42c": {
      "model_module": "@jupyter-widgets/base",
      "model_module_version": "1.2.0",
      "model_name": "LayoutModel",
      "state": {
       "height": "auto"
      }
     },
     "cdd477ae270c498d8f6e86564f382dd5": {
      "model_module": "@jupyter-widgets/controls",
      "model_module_version": "1.5.0",
      "model_name": "ButtonStyleModel",
      "state": {}
     },
     "cde520d96af64ad7aa1840424b0120b9": {
      "model_module": "@jupyter-widgets/controls",
      "model_module_version": "1.5.0",
      "model_name": "VBoxModel",
      "state": {
       "children": [
        "IPY_MODEL_20179939c0c349f3a12fa45fc68addfb",
        "IPY_MODEL_98edb0905a0d4fc9a8f6215b0e9073ab",
        "IPY_MODEL_78bd8308a9a64f0fa9c788916a60c7fa"
       ],
       "layout": "IPY_MODEL_919acc43805f46e3b96b3c5b0fe66e55"
      }
     },
     "ce06ca2337dc45039b1fa8d5c8144654": {
      "model_module": "@jupyter-widgets/base",
      "model_module_version": "1.2.0",
      "model_name": "LayoutModel",
      "state": {
       "grid_template_areas": "\"header header header\"\n\"left-sidebar center center\"\n\"footer footer footer\"",
       "grid_template_columns": "1fr 2fr 1fr",
       "grid_template_rows": "1fr 3fr 1fr"
      }
     },
     "ce11ec9efdab4e0795bf31fc05a42188": {
      "model_module": "@jupyter-widgets/controls",
      "model_module_version": "1.5.0",
      "model_name": "HTMLModel",
      "state": {
       "layout": "IPY_MODEL_67ea0fb2f8a54f2f8e62a2ed266ea28b",
       "style": "IPY_MODEL_78c422f4db9a49eba1e3f002879c670f",
       "value": "<h4>Wins: 3</h4>"
      }
     },
     "ce246b54a0d549289945d13d87d7ec26": {
      "model_module": "@jupyter-widgets/controls",
      "model_module_version": "1.5.0",
      "model_name": "DescriptionStyleModel",
      "state": {
       "description_width": ""
      }
     },
     "ce4438cc4d464cadaa1ade66ad16e743": {
      "model_module": "@jupyter-widgets/controls",
      "model_module_version": "1.5.0",
      "model_name": "ButtonStyleModel",
      "state": {}
     },
     "ce61636e1baf4530a1f8b8bf4a006cc4": {
      "model_module": "@jupyter-widgets/base",
      "model_module_version": "1.2.0",
      "model_name": "LayoutModel",
      "state": {
       "margin": "20px 0px 0px 20px"
      }
     },
     "ce69de32762646d69ec9936d8b1f5e79": {
      "model_module": "@jupyter-widgets/base",
      "model_module_version": "1.2.0",
      "model_name": "LayoutModel",
      "state": {
       "grid_area": "center"
      }
     },
     "ce7200908db14fb7afc261ee759da8e7": {
      "model_module": "@jupyter-widgets/controls",
      "model_module_version": "1.5.0",
      "model_name": "DescriptionStyleModel",
      "state": {
       "description_width": ""
      }
     },
     "ce81f4cab9ed4985bec2254ad7f2728a": {
      "model_module": "@jupyter-widgets/base",
      "model_module_version": "1.2.0",
      "model_name": "LayoutModel",
      "state": {
       "height": "25px",
       "width": "33px"
      }
     },
     "ce8a550704914c4e8339be8497035138": {
      "model_module": "@jupyter-widgets/controls",
      "model_module_version": "1.5.0",
      "model_name": "HTMLModel",
      "state": {
       "layout": "IPY_MODEL_90ddc6cf16cf430d821e1c87def65642",
       "style": "IPY_MODEL_deaae0a015054495ade593dfe095f848",
       "value": "<h4>Games: 3</h4>"
      }
     },
     "ce93a7d0ab1d45e397b9609c5c70ead9": {
      "model_module": "@jupyter-widgets/controls",
      "model_module_version": "1.5.0",
      "model_name": "HTMLModel",
      "state": {
       "layout": "IPY_MODEL_004f848b48b04f37877f26852ce340e5",
       "style": "IPY_MODEL_06af02f9fe3f41df8307ecc7894334ed",
       "value": "<h4>Games: 0</h4>"
      }
     },
     "ceb5c0c6a53c4d8392c2ff2a9eeca93b": {
      "model_module": "@jupyter-widgets/controls",
      "model_module_version": "1.5.0",
      "model_name": "HTMLModel",
      "state": {
       "layout": "IPY_MODEL_832db57c87844984b2f90c78e7d7147d",
       "style": "IPY_MODEL_796e13e5bab74b20b3ae85b33b10332e",
       "value": "<h4>Games: 2</h4>"
      }
     },
     "cec635ddfec3415d9582624651c25d10": {
      "model_module": "@jupyter-widgets/controls",
      "model_module_version": "1.5.0",
      "model_name": "ButtonModel",
      "state": {
       "button_style": "warning",
       "description": "L",
       "layout": "IPY_MODEL_5775f9efa2bc46ca8b4d5f4e37f88640",
       "style": "IPY_MODEL_a9442727355b44c0b5061d2a5c6559b6",
       "tooltip": "Click to guess L."
      }
     },
     "cecd1a7e27274a028356f04176a3d2bd": {
      "model_module": "@jupyter-widgets/base",
      "model_module_version": "1.2.0",
      "model_name": "LayoutModel",
      "state": {
       "height": "25px",
       "width": "33px"
      }
     },
     "cee02769a8434b03b6f623a14515483c": {
      "model_module": "@jupyter-widgets/base",
      "model_module_version": "1.2.0",
      "model_name": "LayoutModel",
      "state": {
       "grid_area": "header"
      }
     },
     "ceeb016bd732429794463304403c5826": {
      "model_module": "@jupyter-widgets/controls",
      "model_module_version": "1.5.0",
      "model_name": "ButtonModel",
      "state": {
       "button_style": "warning",
       "description": "E",
       "layout": "IPY_MODEL_951f71bf2d8648ddadf56d721cdfe4e8",
       "style": "IPY_MODEL_cc7f63842f98456e97d0a19a4f5f529d",
       "tooltip": "Click to guess E."
      }
     },
     "ceff146cdbdc4c5aa8a7186a716330c2": {
      "model_module": "@jupyter-widgets/controls",
      "model_module_version": "1.5.0",
      "model_name": "HTMLModel",
      "state": {
       "layout": "IPY_MODEL_1ab18b488a494ebe95daf8a9291e3b15",
       "style": "IPY_MODEL_18b1ac9c60e84d76ad615900e9b40617",
       "value": "<h4>Wins: 0</h4>"
      }
     },
     "cf23468265ef4941a9bc938cacc89813": {
      "model_module": "@jupyter-widgets/base",
      "model_module_version": "1.2.0",
      "model_name": "LayoutModel",
      "state": {
       "margin": "0px 0px 0px 70px"
      }
     },
     "cf23529af0904d8da2d7f2086b623cae": {
      "model_module": "@jupyter-widgets/base",
      "model_module_version": "1.2.0",
      "model_name": "LayoutModel",
      "state": {
       "height": "25px",
       "width": "33px"
      }
     },
     "cf2f2863bd274c998978b1b94445e535": {
      "model_module": "@jupyter-widgets/controls",
      "model_module_version": "1.5.0",
      "model_name": "ButtonStyleModel",
      "state": {}
     },
     "cf4375d1ada540949e54d5f7f2eb52cf": {
      "model_module": "@jupyter-widgets/controls",
      "model_module_version": "1.5.0",
      "model_name": "VBoxModel",
      "state": {
       "children": [
        "IPY_MODEL_0b0cffc1b6fa428ea694db0e766c549b",
        "IPY_MODEL_002edf549e2a47f79851f80e47d0220f"
       ],
       "layout": "IPY_MODEL_5bf513868d864d7eb40d1cb7fccd1d3b"
      }
     },
     "cf4599e990fa44a79f1b0aa80ee00350": {
      "model_module": "@jupyter-widgets/base",
      "model_module_version": "1.2.0",
      "model_name": "LayoutModel",
      "state": {
       "grid_area": "footer",
       "margin": "-60px 0px 0px 0px"
      }
     },
     "cf556723424942c5a231a7530338ed5b": {
      "model_module": "@jupyter-widgets/base",
      "model_module_version": "1.2.0",
      "model_name": "LayoutModel",
      "state": {
       "height": "25px",
       "width": "33px"
      }
     },
     "cf9bfd52097b4689b16e0c6bc77b4f73": {
      "model_module": "@jupyter-widgets/controls",
      "model_module_version": "1.5.0",
      "model_name": "ButtonStyleModel",
      "state": {}
     },
     "cfa49cdc1eb743d99276b19d11ee6c5a": {
      "model_module": "@jupyter-widgets/base",
      "model_module_version": "1.2.0",
      "model_name": "LayoutModel",
      "state": {
       "margin": "0px 0px 0px 100px"
      }
     },
     "cfb195637e154cfca8f6afe2a62da4a5": {
      "model_module": "@jupyter-widgets/base",
      "model_module_version": "1.2.0",
      "model_name": "LayoutModel",
      "state": {
       "height": "25px",
       "width": "33px"
      }
     },
     "cfb6b6fabaea463097828f4ff501b35d": {
      "model_module": "@jupyter-widgets/controls",
      "model_module_version": "1.5.0",
      "model_name": "ButtonStyleModel",
      "state": {}
     },
     "d000a12700f64daba47c186cd0b2d27a": {
      "model_module": "@jupyter-widgets/controls",
      "model_module_version": "1.5.0",
      "model_name": "ButtonModel",
      "state": {
       "button_style": "warning",
       "description": "U",
       "layout": "IPY_MODEL_a9518760695848da9089c81dbe7cb3f7",
       "style": "IPY_MODEL_44d50d90f6d5421d9ad3124f575a3f7b",
       "tooltip": "Click to guess U."
      }
     },
     "d001717f26b24bb08cc0f73f0c7fee54": {
      "model_module": "@jupyter-widgets/controls",
      "model_module_version": "1.5.0",
      "model_name": "HTMLModel",
      "state": {
       "layout": "IPY_MODEL_9b17d4b0630b4dfc856958610eb9a5fc",
       "style": "IPY_MODEL_03fcc2f51f9a4e5ab53c96e1af91a1a0",
       "value": "<h3>Click on a letter below to guess the word.</h3>"
      }
     },
     "d0377186ae5d4b3bb722f4ffc45fa158": {
      "model_module": "@jupyter-widgets/controls",
      "model_module_version": "1.5.0",
      "model_name": "ButtonModel",
      "state": {
       "button_style": "warning",
       "description": "Y",
       "layout": "IPY_MODEL_11a0671bd5c842d095bac4bc16ecb52f",
       "style": "IPY_MODEL_ef53c2159455432ea80e099c0fe7c960",
       "tooltip": "Click to guess Y."
      }
     },
     "d042c7a9f02742a6bccb9f714c9ce536": {
      "buffers": [
       {
        "data": "iVBORw0KGgoAAAANSUhEUgAAATQAAAE0CAIAAAAt41jIAAAD0UlEQVR4nO3dMW7DMBAAQTLw/7/MFCnsymkocG3NdGqEg4DFsaLGAAAAgGvM14e11qk5gDHGnM8kfw7OAbwhTogSJ0SJE6LECVHihChxQpQ4IUqcECVOiBInRIkTosQJUeKEKHFClDghSpwQJU6IEidEiROixAlR4oQocUKUOCFKnBAlTogSJ0SJE6LECVHihChxQpQ4IUqcECVOiHqcHuB7vP4wnL3WWqdHOMDm3EOZl7rn5xUnRDnWbnbPA9h17rkz/9icECVOiBInRIkTosQJUeKEKHFClDghSpwQJU6IEidEiROixAlR4oQocUKUOCFKnBAlTohyTckebidhO5sTosQJUeKEKHFClDghSpwQJU6IEidEiROixAlR4oQocUKUOCFKnBAlTogSJ0SJE6LECVHihChxQpQ4IUqcECVOiBInRIkTosQJUeKEKHFClDghSpwQJU6IEidEiROixAlR4oQocUKUOCFKnBAlTogSJ0SJE6LECVHihChxQpQ4IUqcECVOiBInRIkTosQJUeKEKHFClDghSpwQJU6IEidEiROixAlR4oQocUKUOCFKnBAlTogSJ0SJE6LECVHihChxQpQ4IUqcECVOiBInRIkTosQJUeKEKHFClDghSpwQJU6IEidEiROixAlR4oQocUKUOCFKnBAlTogSJ0SJE6LECVHihChxQpQ4IUqcECVOiBInRIkTosQJUeKEKHFClDghSpwQJU6IEidEiROixAlR4oQocUKUOCFKnBAlTogSJ0SJE6LECVHihChxQpQ4IUqcECVOiBInRIkTosQJUeKEKHFClDghSpwQJU6IEidEiROixAlR4oQocUKUOCFKnBAlTogSJ0SJE6LECVHihChxQpQ4IUqcECVOiBInRIkTosQJUeKEKHFClDghSpwQJU6IEidEiROixAlR4oQocUKUOCFKnBAlTogSJ0SJE6LECVHihChxQpQ4IUqcECVOiBInRIkTosQJUeKEKHFClDghSpwQJU6IEidEiROixAlR4oQocUKUOCFKnBAlTogSJ0SJE6LECVHihChxQpQ4IUqcECVOiBInRIkTosQJUeKEKHFClDghSpwQJU6IEidEiROixAlR4oQocUKUOCFKnBAlTogSJ0SJE6LECVHihChxQpQ4IUqcECVOiBInRIkToh6nB+B/c87TI5zX/whrrb0vtDkhSpwQ5Vj7Abafl/gINidEiROixAlR4oQocUKUOCFKnBAlTogSJ0SJE6LECVHihChxQpQ4IUqcECVOiBInRIkTosQJUeKEKHECAAAA3Mwv+9AUZSTGP0IAAAAASUVORK5CYII=",
        "encoding": "base64",
        "path": [
         "value"
        ]
       }
      ],
      "model_module": "@jupyter-widgets/controls",
      "model_module_version": "1.5.0",
      "model_name": "ImageModel",
      "state": {
       "layout": "IPY_MODEL_8ff55711d0644a819367cce4698bc56d"
      }
     },
     "d06531f1656944bfb42efe30ce53f2a3": {
      "model_module": "@jupyter-widgets/base",
      "model_module_version": "1.2.0",
      "model_name": "LayoutModel",
      "state": {
       "height": "25px",
       "width": "33px"
      }
     },
     "d0923b79d38041929cfe4f26b532c277": {
      "model_module": "@jupyter-widgets/controls",
      "model_module_version": "1.5.0",
      "model_name": "ButtonModel",
      "state": {
       "button_style": "warning",
       "description": "L",
       "disabled": true,
       "layout": "IPY_MODEL_69bdc895296a42388ce54323549335bf",
       "style": "IPY_MODEL_05dc31d2cdd94cbfa593e8293cdb65d1"
      }
     },
     "d0a3f725c430451db1cfe32371ddea8c": {
      "model_module": "@jupyter-widgets/base",
      "model_module_version": "1.2.0",
      "model_name": "LayoutModel",
      "state": {
       "height": "25px",
       "width": "33px"
      }
     },
     "d0ac66016dc04c92a9395d5604d32d3d": {
      "model_module": "@jupyter-widgets/base",
      "model_module_version": "1.2.0",
      "model_name": "LayoutModel",
      "state": {
       "width": "500px"
      }
     },
     "d0b408bb41e94a95b8506b47ed4473cf": {
      "model_module": "@jupyter-widgets/controls",
      "model_module_version": "1.5.0",
      "model_name": "ButtonModel",
      "state": {
       "button_style": "warning",
       "description": "G",
       "disabled": true,
       "layout": "IPY_MODEL_39ee026aa12d4bbfaf8e82041c9cae52",
       "style": "IPY_MODEL_c3596ac6e13b44c2a727749b93f26277"
      }
     },
     "d0ba44d7b6414e58b01d5bd3db17a9bd": {
      "model_module": "@jupyter-widgets/base",
      "model_module_version": "1.2.0",
      "model_name": "LayoutModel",
      "state": {
       "height": "25px",
       "width": "33px"
      }
     },
     "d0bc6ac5f2f24bf79a88f41ea7eda1b0": {
      "model_module": "@jupyter-widgets/controls",
      "model_module_version": "1.5.0",
      "model_name": "DescriptionStyleModel",
      "state": {
       "description_width": ""
      }
     },
     "d0e0aca6185447b3aef9702379fb4dea": {
      "model_module": "@jupyter-widgets/base",
      "model_module_version": "1.2.0",
      "model_name": "LayoutModel",
      "state": {
       "height": "25px",
       "width": "33px"
      }
     },
     "d0e23868d112475886dc034c7d5257aa": {
      "model_module": "@jupyter-widgets/base",
      "model_module_version": "1.2.0",
      "model_name": "LayoutModel",
      "state": {
       "margin": "0px 0px 0px 70px"
      }
     },
     "d0f8ba9c3ef641378523998aceac2952": {
      "model_module": "@jupyter-widgets/controls",
      "model_module_version": "1.5.0",
      "model_name": "GridBoxModel",
      "state": {
       "children": [
        "IPY_MODEL_bb6eb64f192648308f841528334d9472",
        "IPY_MODEL_7ffbe2b74a6f41b8b4f610397d5264e9",
        "IPY_MODEL_29a6ab9e6ca245eabd7175053c45bf6f",
        "IPY_MODEL_7f78d1bfe7af4257893c83027ef54e56"
       ],
       "layout": "IPY_MODEL_a1c4803d14a84d298530b9aaf2c6d09f"
      }
     },
     "d115f342504944cb8d622ea368edca77": {
      "model_module": "@jupyter-widgets/controls",
      "model_module_version": "1.5.0",
      "model_name": "GridBoxModel",
      "state": {
       "children": [
        "IPY_MODEL_26caa6fc5ba843b1877ca4649e005a74",
        "IPY_MODEL_3fa92be40dbe4ce99fa6c6dbc66c5108",
        "IPY_MODEL_5a193d0e6181438f87313d19b6fceda9",
        "IPY_MODEL_388c7db796b64c8990d362c22ce6ab76"
       ],
       "layout": "IPY_MODEL_b114f9a5ea9b486182a77e5cc8242af2"
      }
     },
     "d1436700b9be4bd5b5d86e59817bedb8": {
      "model_module": "@jupyter-widgets/controls",
      "model_module_version": "1.5.0",
      "model_name": "ButtonStyleModel",
      "state": {}
     },
     "d15d1824ce2342dba253056e4f5aabeb": {
      "model_module": "@jupyter-widgets/controls",
      "model_module_version": "1.5.0",
      "model_name": "HTMLModel",
      "state": {
       "layout": "IPY_MODEL_e11c7c405b3e45b5bc58d827e763b3f7",
       "style": "IPY_MODEL_446ae865146b45718ec1055070d16987",
       "value": "<h4>Games: 3</h4>"
      }
     },
     "d166c0b4b7ee48859bd8f624869b7741": {
      "model_module": "@jupyter-widgets/base",
      "model_module_version": "1.2.0",
      "model_name": "LayoutModel",
      "state": {
       "grid_area": "footer",
       "margin": "-60px 0px 0px 0px"
      }
     },
     "d1a84388319f4f77bdb80860ec21c69c": {
      "model_module": "@jupyter-widgets/controls",
      "model_module_version": "1.5.0",
      "model_name": "ButtonStyleModel",
      "state": {}
     },
     "d1b6b1396ba748abb1b0a912df88c133": {
      "model_module": "@jupyter-widgets/controls",
      "model_module_version": "1.5.0",
      "model_name": "ButtonStyleModel",
      "state": {}
     },
     "d1bd543906a542829263f620063883e6": {
      "model_module": "@jupyter-widgets/controls",
      "model_module_version": "1.5.0",
      "model_name": "ButtonStyleModel",
      "state": {}
     },
     "d1c6ba8ff2bc4ff89136a3373148abc4": {
      "model_module": "@jupyter-widgets/base",
      "model_module_version": "1.2.0",
      "model_name": "LayoutModel",
      "state": {
       "grid_area": "footer",
       "margin": "-60px 0px 0px 0px"
      }
     },
     "d1d57f8fe5da4fff9b81b249f85259a6": {
      "model_module": "@jupyter-widgets/controls",
      "model_module_version": "1.5.0",
      "model_name": "HTMLModel",
      "state": {
       "layout": "IPY_MODEL_3f74a12341644e1bbccfd4c8a0e98b82",
       "style": "IPY_MODEL_4d996d5eb8b14112bb6b92e54a33ca3e",
       "value": "<h4>Wins: 3</h4>"
      }
     },
     "d1e0261bad73418581b4db61710733a1": {
      "model_module": "@jupyter-widgets/controls",
      "model_module_version": "1.5.0",
      "model_name": "ButtonStyleModel",
      "state": {}
     },
     "d1fcd96f72ea40bc85f76a1db29b7e3e": {
      "model_module": "@jupyter-widgets/controls",
      "model_module_version": "1.5.0",
      "model_name": "HTMLModel",
      "state": {
       "layout": "IPY_MODEL_3fc9978a0c3d4d44b32470cb234b3894",
       "style": "IPY_MODEL_583b63ddd6e14629bea522474d567458",
       "value": "<h4>Games: 2</h4>"
      }
     },
     "d2151ac7f7f1485fb5b57806b73e4190": {
      "model_module": "@jupyter-widgets/base",
      "model_module_version": "1.2.0",
      "model_name": "LayoutModel",
      "state": {}
     },
     "d246bc7ab4644dcfbe0f20010d757450": {
      "model_module": "@jupyter-widgets/controls",
      "model_module_version": "1.5.0",
      "model_name": "DescriptionStyleModel",
      "state": {
       "description_width": ""
      }
     },
     "d2901e59d65a4ef099649957076e3d0f": {
      "model_module": "@jupyter-widgets/controls",
      "model_module_version": "1.5.0",
      "model_name": "ButtonStyleModel",
      "state": {}
     },
     "d2a9f7f367fc4c649fda8e27780a4c06": {
      "model_module": "@jupyter-widgets/controls",
      "model_module_version": "1.5.0",
      "model_name": "DescriptionStyleModel",
      "state": {
       "description_width": ""
      }
     },
     "d2b654ec3ea64ce3953ce25b051578be": {
      "model_module": "@jupyter-widgets/controls",
      "model_module_version": "1.5.0",
      "model_name": "HTMLModel",
      "state": {
       "layout": "IPY_MODEL_9bacc9ace87045d0b636f9b07bb24efa",
       "style": "IPY_MODEL_90dcd0fbf3cf418e96d5e2e9024c02cd",
       "value": "<h1><font color='blue'> You Lose </h1>"
      }
     },
     "d2b6e7daa84a488aadfd853d2c50238e": {
      "model_module": "@jupyter-widgets/base",
      "model_module_version": "1.2.0",
      "model_name": "LayoutModel",
      "state": {
       "grid_area": "left-sidebar"
      }
     },
     "d2d2c11bc946430383969ee230eecc45": {
      "model_module": "@jupyter-widgets/controls",
      "model_module_version": "1.5.0",
      "model_name": "ButtonModel",
      "state": {
       "button_style": "warning",
       "description": "E",
       "disabled": true,
       "layout": "IPY_MODEL_b0a660bf1dd64693bc14b2ed744af955",
       "style": "IPY_MODEL_edc351d482874d24a5fdc83f88fcd632"
      }
     },
     "d2d39a80b6304496859741fda5276281": {
      "model_module": "@jupyter-widgets/base",
      "model_module_version": "1.2.0",
      "model_name": "LayoutModel",
      "state": {}
     },
     "d2dfd60e60d04787b673232210d007b4": {
      "model_module": "@jupyter-widgets/base",
      "model_module_version": "1.2.0",
      "model_name": "LayoutModel",
      "state": {
       "height": "25px",
       "width": "33px"
      }
     },
     "d2fb9c7a62984757921579f247d10523": {
      "model_module": "@jupyter-widgets/controls",
      "model_module_version": "1.5.0",
      "model_name": "DescriptionStyleModel",
      "state": {
       "description_width": ""
      }
     },
     "d32251a3639d48e191ced7034f06794a": {
      "model_module": "@jupyter-widgets/controls",
      "model_module_version": "1.5.0",
      "model_name": "DescriptionStyleModel",
      "state": {
       "description_width": ""
      }
     },
     "d33ef599ee844c1497db3f31494a5db3": {
      "model_module": "@jupyter-widgets/controls",
      "model_module_version": "1.5.0",
      "model_name": "ButtonModel",
      "state": {
       "button_style": "success",
       "description": "Play Again",
       "layout": "IPY_MODEL_207818771b1a47c79d44585967b8e687",
       "style": "IPY_MODEL_17a8697500cb4ec2bae558e68833c0c2"
      }
     },
     "d340a727a1bc40f0bca87a32eee565d6": {
      "model_module": "@jupyter-widgets/controls",
      "model_module_version": "1.5.0",
      "model_name": "ButtonStyleModel",
      "state": {}
     },
     "d36be541e6a54809ba6349b83fa9eb5d": {
      "model_module": "@jupyter-widgets/controls",
      "model_module_version": "1.5.0",
      "model_name": "HTMLModel",
      "state": {
       "layout": "IPY_MODEL_e6e26c53e54d4b10bbc1ce64d31efaa7",
       "style": "IPY_MODEL_349b1e35a4fe42f8bd733f9c036ea183",
       "value": "<h4>Wins: 0</h4>"
      }
     },
     "d3d2f558a4204493b89b5111fa198444": {
      "model_module": "@jupyter-widgets/controls",
      "model_module_version": "1.5.0",
      "model_name": "VBoxModel",
      "state": {
       "children": [
        "IPY_MODEL_4fb6c5a720f74898b8dc009189ece164",
        "IPY_MODEL_0d29a9ce394f4e0980dbe58ca5407bab"
       ],
       "layout": "IPY_MODEL_0254740129b54c909b11bb91176693a3"
      }
     },
     "d3e57cdd718949648adae10a55ce19ba": {
      "model_module": "@jupyter-widgets/base",
      "model_module_version": "1.2.0",
      "model_name": "LayoutModel",
      "state": {
       "height": "25px",
       "width": "33px"
      }
     },
     "d3ed5a1b116945f3833fd045d1a6bc5d": {
      "model_module": "@jupyter-widgets/base",
      "model_module_version": "1.2.0",
      "model_name": "LayoutModel",
      "state": {
       "margin": "0px 0px 0px 100px"
      }
     },
     "d422cf5d2562454bb8ae338bb7757f90": {
      "model_module": "@jupyter-widgets/controls",
      "model_module_version": "1.5.0",
      "model_name": "VBoxModel",
      "state": {
       "children": [
        "IPY_MODEL_48f7f92efab04e54a650e3f05cba3124",
        "IPY_MODEL_9c0cc690fb67443a95fccdb765e3434e",
        "IPY_MODEL_8bcb29d05cc348e588a14853c2570f93"
       ],
       "layout": "IPY_MODEL_33d49675b35748b9929464d58d931cd7"
      }
     },
     "d4395e3c900e4b88adc2cf99249ac859": {
      "model_module": "@jupyter-widgets/base",
      "model_module_version": "1.2.0",
      "model_name": "LayoutModel",
      "state": {}
     },
     "d43ce8a903eb4e29b601fea36975e1ab": {
      "model_module": "@jupyter-widgets/base",
      "model_module_version": "1.2.0",
      "model_name": "LayoutModel",
      "state": {
       "margin": "0px 0px 0px 100px"
      }
     },
     "d464c7c7045f400b8a07b8d4a4a4912d": {
      "model_module": "@jupyter-widgets/controls",
      "model_module_version": "1.5.0",
      "model_name": "ButtonStyleModel",
      "state": {}
     },
     "d47c471a863a4b748610b010fe83a979": {
      "model_module": "@jupyter-widgets/base",
      "model_module_version": "1.2.0",
      "model_name": "LayoutModel",
      "state": {
       "margin": "20px 0px 0px 20px"
      }
     },
     "d48a10532096453193c602a8b406508c": {
      "model_module": "@jupyter-widgets/base",
      "model_module_version": "1.2.0",
      "model_name": "LayoutModel",
      "state": {
       "margin": "0px 0px 0px 100px"
      }
     },
     "d492303e9e8b45d7b638967cc6ffdf5f": {
      "model_module": "@jupyter-widgets/controls",
      "model_module_version": "1.5.0",
      "model_name": "GridBoxModel",
      "state": {
       "children": [
        "IPY_MODEL_e9d5f1b9f7a94e89a22abf8481d1a876",
        "IPY_MODEL_b22f339164414df9ab5560537a1d9e97",
        "IPY_MODEL_815d6c340e16465f8407e2decc5c95bf",
        "IPY_MODEL_4795eaa227064b2b9ef0827ebd45bf5f"
       ],
       "layout": "IPY_MODEL_e2ac83c65398492292eeffa183881a29"
      }
     },
     "d4c7f0d7b6ad4c8aaa92854e74189821": {
      "model_module": "@jupyter-widgets/base",
      "model_module_version": "1.2.0",
      "model_name": "LayoutModel",
      "state": {
       "width": "500px"
      }
     },
     "d4d3217e55b041fabc5266d95c6d1f4d": {
      "model_module": "@jupyter-widgets/controls",
      "model_module_version": "1.5.0",
      "model_name": "ButtonModel",
      "state": {
       "button_style": "warning",
       "description": "D",
       "disabled": true,
       "layout": "IPY_MODEL_ff95aebfce7342f6a623b26da5f34cbd",
       "style": "IPY_MODEL_0a9a456dddba44d3a9e28027eb1d8d94"
      }
     },
     "d4f9b9b0f1a841ed8789c06f4dee2974": {
      "model_module": "@jupyter-widgets/base",
      "model_module_version": "1.2.0",
      "model_name": "LayoutModel",
      "state": {}
     },
     "d51caa0527754bb9b7211e193ef8f182": {
      "model_module": "@jupyter-widgets/controls",
      "model_module_version": "1.5.0",
      "model_name": "HBoxModel",
      "state": {
       "children": [
        "IPY_MODEL_49f70de667234c1ca66ec0cbd68e2040",
        "IPY_MODEL_1979d391a8364b42ae4cf76bc21315c5"
       ],
       "layout": "IPY_MODEL_1e91bf0b6d2347fd9be735218b490ad0"
      }
     },
     "d52da218141748a4959e455113e8973f": {
      "model_module": "@jupyter-widgets/controls",
      "model_module_version": "1.5.0",
      "model_name": "DescriptionStyleModel",
      "state": {
       "description_width": ""
      }
     },
     "d542e388cee44082bc4a2d125dff7099": {
      "model_module": "@jupyter-widgets/base",
      "model_module_version": "1.2.0",
      "model_name": "LayoutModel",
      "state": {
       "margin": "0px 0px 0px 100px"
      }
     },
     "d551d89d66594535b903ae923b85c830": {
      "model_module": "@jupyter-widgets/base",
      "model_module_version": "1.2.0",
      "model_name": "LayoutModel",
      "state": {
       "height": "25px",
       "width": "33px"
      }
     },
     "d5674e4f62044424af93f71ed0c9a614": {
      "model_module": "@jupyter-widgets/base",
      "model_module_version": "1.2.0",
      "model_name": "LayoutModel",
      "state": {
       "height": "25px",
       "width": "33px"
      }
     },
     "d57b60b943f045dcac5a5d3b9421a825": {
      "model_module": "@jupyter-widgets/base",
      "model_module_version": "1.2.0",
      "model_name": "LayoutModel",
      "state": {
       "height": "25px",
       "width": "33px"
      }
     },
     "d5a5e5c4bee545bb8ec076a62971e83d": {
      "model_module": "@jupyter-widgets/controls",
      "model_module_version": "1.5.0",
      "model_name": "ButtonModel",
      "state": {
       "button_style": "warning",
       "description": "I",
       "layout": "IPY_MODEL_bd24a1f730d9477f9e2f5bffc58c3713",
       "style": "IPY_MODEL_0fd21fb900094adf8461a5c0a824f5a1",
       "tooltip": "Click to guess I."
      }
     },
     "d5dc294658e54c738c950129e2f587fe": {
      "model_module": "@jupyter-widgets/base",
      "model_module_version": "1.2.0",
      "model_name": "LayoutModel",
      "state": {
       "height": "25px",
       "width": "33px"
      }
     },
     "d5f37fb6d9c543cdbac6bb1885bbe101": {
      "model_module": "@jupyter-widgets/controls",
      "model_module_version": "1.5.0",
      "model_name": "VBoxModel",
      "state": {
       "children": [
        "IPY_MODEL_d001717f26b24bb08cc0f73f0c7fee54",
        "IPY_MODEL_93cbdd04e6644fa7b2d80a0e52afe44a"
       ],
       "layout": "IPY_MODEL_1856e07b866045458a88cc1fba34710a"
      }
     },
     "d62fb57b316f4b329d375717ebf6aebf": {
      "model_module": "@jupyter-widgets/controls",
      "model_module_version": "1.5.0",
      "model_name": "ButtonModel",
      "state": {
       "button_style": "warning",
       "description": "O",
       "disabled": true,
       "layout": "IPY_MODEL_3f2fbe431e294c75ab0ac25dda0ec537",
       "style": "IPY_MODEL_8e649d4276fc4b53a4d86623aefed672"
      }
     },
     "d6416aa318014756854994a523921fea": {
      "model_module": "@jupyter-widgets/controls",
      "model_module_version": "1.5.0",
      "model_name": "DescriptionStyleModel",
      "state": {
       "description_width": ""
      }
     },
     "d67c2b458fc44c09996aef3afe68b0c8": {
      "model_module": "@jupyter-widgets/controls",
      "model_module_version": "1.5.0",
      "model_name": "VBoxModel",
      "state": {
       "children": [
        "IPY_MODEL_f797ef3b5424421c8e40cdc6252eb493",
        "IPY_MODEL_54586e7c8c254c3d9f324ad8115b0287"
       ],
       "layout": "IPY_MODEL_ab696e619e644de98aa0d5029d80adb9"
      }
     },
     "d68223b4495f464f8f6650cf63e9965e": {
      "model_module": "@jupyter-widgets/base",
      "model_module_version": "1.2.0",
      "model_name": "LayoutModel",
      "state": {
       "margin": "0px 0px 0px 100px"
      }
     },
     "d68bd267721a40cca8044194ecc65c76": {
      "model_module": "@jupyter-widgets/controls",
      "model_module_version": "1.5.0",
      "model_name": "ButtonStyleModel",
      "state": {}
     },
     "d691494dcf4444bba867b86025d55345": {
      "model_module": "@jupyter-widgets/controls",
      "model_module_version": "1.5.0",
      "model_name": "VBoxModel",
      "state": {
       "children": [
        "IPY_MODEL_9b44ee8443474014bdc0feab2681c243",
        "IPY_MODEL_5fa6af152b054977ae405a5b1459f171",
        "IPY_MODEL_eb9d48e417c04f969e786bde1ae6ff91"
       ],
       "layout": "IPY_MODEL_ab6a65494ae1427b993d271a780aa9ca"
      }
     },
     "d69ce313c946478bae2243245d7a75e0": {
      "model_module": "@jupyter-widgets/controls",
      "model_module_version": "1.5.0",
      "model_name": "ButtonStyleModel",
      "state": {}
     },
     "d6c031ff21f84d41a1dcbae2800c885c": {
      "model_module": "@jupyter-widgets/controls",
      "model_module_version": "1.5.0",
      "model_name": "ButtonStyleModel",
      "state": {}
     },
     "d6ec1b9fd87d44d88aa741280c0ef8a4": {
      "model_module": "@jupyter-widgets/controls",
      "model_module_version": "1.5.0",
      "model_name": "ButtonModel",
      "state": {
       "button_style": "warning",
       "description": "M",
       "layout": "IPY_MODEL_2143aee3d80c464894ee19441e9634a5",
       "style": "IPY_MODEL_ff7d9b084a6b46dc9b42e22336064c6f",
       "tooltip": "Click to guess M."
      }
     },
     "d7034df43f13438eada9ad3b4b5ef104": {
      "model_module": "@jupyter-widgets/base",
      "model_module_version": "1.2.0",
      "model_name": "LayoutModel",
      "state": {}
     },
     "d70a9425e8b5419db9d02126eb9a89f9": {
      "model_module": "@jupyter-widgets/base",
      "model_module_version": "1.2.0",
      "model_name": "LayoutModel",
      "state": {
       "grid_area": "left-sidebar"
      }
     },
     "d713d26835f841aab4f189b74e6b73c1": {
      "model_module": "@jupyter-widgets/controls",
      "model_module_version": "1.5.0",
      "model_name": "VBoxModel",
      "state": {
       "children": [
        "IPY_MODEL_7dd68204cee245ff8f12056513d9f073",
        "IPY_MODEL_3088791a8d0a4a33aad3ce4fe8a89ca4",
        "IPY_MODEL_d838e64e9a8841198e2c923a16f46161"
       ],
       "layout": "IPY_MODEL_272f27847cda4d0396f9b98c68355eb2"
      }
     },
     "d73587bdf809491196e1dcc775243552": {
      "model_module": "@jupyter-widgets/controls",
      "model_module_version": "1.5.0",
      "model_name": "ButtonModel",
      "state": {
       "button_style": "warning",
       "description": "A",
       "disabled": true,
       "layout": "IPY_MODEL_e4863c161bce4e13959205ffdb9e6fe4",
       "style": "IPY_MODEL_3e41fa51bc914cb2b61f7168768db3af"
      }
     },
     "d7409d0239294ba0ae3029de725a93a0": {
      "model_module": "@jupyter-widgets/controls",
      "model_module_version": "1.5.0",
      "model_name": "VBoxModel",
      "state": {
       "children": [
        "IPY_MODEL_48f7f92efab04e54a650e3f05cba3124"
       ],
       "layout": "IPY_MODEL_078af8aeaf4d4b86bb320ebdb7c911de"
      }
     },
     "d7555b31ea5f49fbae381562565bfe5d": {
      "model_module": "@jupyter-widgets/controls",
      "model_module_version": "1.5.0",
      "model_name": "ButtonModel",
      "state": {
       "button_style": "warning",
       "description": "D",
       "disabled": true,
       "layout": "IPY_MODEL_a744da9c0f904566acd0bddd7b810830",
       "style": "IPY_MODEL_1ffc2c9862564af5ac8224d8850c73e2"
      }
     },
     "d7686041bf514e23a4fdb7d236954b61": {
      "model_module": "@jupyter-widgets/base",
      "model_module_version": "1.2.0",
      "model_name": "LayoutModel",
      "state": {
       "height": "25px",
       "width": "33px"
      }
     },
     "d7723a085fef423fbdab0a5e5b873c27": {
      "model_module": "@jupyter-widgets/controls",
      "model_module_version": "1.5.0",
      "model_name": "HTMLModel",
      "state": {
       "layout": "IPY_MODEL_4aca53aeb94c491eb554d290a124941e",
       "style": "IPY_MODEL_79dc5d20fb894533bc12d3f293233a93",
       "value": "<h2><font color='black'>Remaining Guesses:                          0</h2>"
      }
     },
     "d77a6616465248f5a901f9f53b3853ba": {
      "model_module": "@jupyter-widgets/base",
      "model_module_version": "1.2.0",
      "model_name": "LayoutModel",
      "state": {
       "margin": "0px 0px 0px 100px"
      }
     },
     "d7a12f01855645a7af361330af187912": {
      "model_module": "@jupyter-widgets/base",
      "model_module_version": "1.2.0",
      "model_name": "LayoutModel",
      "state": {}
     },
     "d7b0c0942e004d2b8dd1ab339e6266eb": {
      "model_module": "@jupyter-widgets/base",
      "model_module_version": "1.2.0",
      "model_name": "LayoutModel",
      "state": {
       "height": "auto"
      }
     },
     "d7f37f8ec68c43748c990e2368e73490": {
      "model_module": "@jupyter-widgets/controls",
      "model_module_version": "1.5.0",
      "model_name": "DescriptionStyleModel",
      "state": {
       "description_width": ""
      }
     },
     "d7f5375c9b8c4c0da595a4be90f697fb": {
      "model_module": "@jupyter-widgets/controls",
      "model_module_version": "1.5.0",
      "model_name": "DescriptionStyleModel",
      "state": {
       "description_width": ""
      }
     },
     "d7fa8a307bf24a3f9415a6e8f4e1f000": {
      "model_module": "@jupyter-widgets/base",
      "model_module_version": "1.2.0",
      "model_name": "LayoutModel",
      "state": {}
     },
     "d815eaef8be24230be452c2ceab0d999": {
      "model_module": "@jupyter-widgets/base",
      "model_module_version": "1.2.0",
      "model_name": "LayoutModel",
      "state": {
       "margin": "0px 0px 0px 70px"
      }
     },
     "d81ef18945a24f34952233054a30b586": {
      "model_module": "@jupyter-widgets/controls",
      "model_module_version": "1.5.0",
      "model_name": "DescriptionStyleModel",
      "state": {
       "description_width": ""
      }
     },
     "d82dae14bcc645f598d92648f3ea9bbe": {
      "model_module": "@jupyter-widgets/controls",
      "model_module_version": "1.5.0",
      "model_name": "ButtonStyleModel",
      "state": {}
     },
     "d8361507a31f447ba1afef8276a3cda9": {
      "model_module": "@jupyter-widgets/base",
      "model_module_version": "1.2.0",
      "model_name": "LayoutModel",
      "state": {
       "grid_area": "header"
      }
     },
     "d838e64e9a8841198e2c923a16f46161": {
      "model_module": "@jupyter-widgets/controls",
      "model_module_version": "1.5.0",
      "model_name": "HTMLModel",
      "state": {
       "layout": "IPY_MODEL_c98a61c1d3774419a12b878eae406116",
       "style": "IPY_MODEL_72c64029656f4b448b3852163e00ba88",
       "value": "<h4>Wins: 0</h4>"
      }
     },
     "d84ebd170b6e4c1682bcbad4f8e69148": {
      "model_module": "@jupyter-widgets/controls",
      "model_module_version": "1.5.0",
      "model_name": "VBoxModel",
      "state": {
       "children": [
        "IPY_MODEL_7d1284a294204d79909fc0366b9169ab",
        "IPY_MODEL_ac7b464f79404df195c814b082b6cca4"
       ],
       "layout": "IPY_MODEL_24362021d1fa407d91123e3cef7b3ec2"
      }
     },
     "d89182b93ec448dcbd4593b632ac0b2f": {
      "model_module": "@jupyter-widgets/base",
      "model_module_version": "1.2.0",
      "model_name": "LayoutModel",
      "state": {
       "grid_template_areas": "\"header header header\"\n\"left-sidebar center center\"\n\"footer footer footer\"",
       "grid_template_columns": "1fr 2fr 1fr",
       "grid_template_rows": "1fr 3fr 1fr"
      }
     },
     "d8a4199fc1e24a7d9312af94259f37c8": {
      "model_module": "@jupyter-widgets/controls",
      "model_module_version": "1.5.0",
      "model_name": "DescriptionStyleModel",
      "state": {
       "description_width": ""
      }
     },
     "d8bfd188000f418aa79e54c7bb614e42": {
      "model_module": "@jupyter-widgets/controls",
      "model_module_version": "1.5.0",
      "model_name": "VBoxModel",
      "state": {
       "children": [
        "IPY_MODEL_55c3bc91f4c04183bacfd9fb49a9263f",
        "IPY_MODEL_d90c31600d4b40d7ae646a5a5c8a7c14"
       ],
       "layout": "IPY_MODEL_668e3b5652094f2eb83d0fb11caac854"
      }
     },
     "d8ce3225b8004160bbadfc6eb0d62f4d": {
      "model_module": "@jupyter-widgets/controls",
      "model_module_version": "1.5.0",
      "model_name": "VBoxModel",
      "state": {
       "children": [
        "IPY_MODEL_fb66f449c91d476daa4797ac5b45e3cc",
        "IPY_MODEL_20154f7cacda48caa88ab4586e432ce3"
       ],
       "layout": "IPY_MODEL_2396148ec8854b4987c0b6e271f7c46f"
      }
     },
     "d8ffaabf7b944d0e91df6701454be757": {
      "model_module": "@jupyter-widgets/base",
      "model_module_version": "1.2.0",
      "model_name": "LayoutModel",
      "state": {
       "grid_template_areas": "\"header header header\"\n\"left-sidebar center center\"\n\"footer footer footer\"",
       "grid_template_columns": "1fr 2fr 1fr",
       "grid_template_rows": "1fr 3fr 1fr"
      }
     },
     "d90c31600d4b40d7ae646a5a5c8a7c14": {
      "model_module": "@jupyter-widgets/controls",
      "model_module_version": "1.5.0",
      "model_name": "HTMLModel",
      "state": {
       "layout": "IPY_MODEL_a1eedcae7af945c1ad6c02b91d839f93",
       "style": "IPY_MODEL_a728f66a989146179af50377ddf87620",
       "value": "<h2><font color='black'>Remaining Guesses:                          6</h2>"
      }
     },
     "d90eff92fd9d42c9a8c7dd7e99679c49": {
      "model_module": "@jupyter-widgets/controls",
      "model_module_version": "1.5.0",
      "model_name": "HTMLModel",
      "state": {
       "layout": "IPY_MODEL_262dbdf35392407aa4c302592c5f2c2c",
       "style": "IPY_MODEL_f0d98a5b40ce4580bb959da8bb035be0",
       "value": "<h2><font color='black'>Remaining Guesses:                          5</h2>"
      }
     },
     "d9180560e2474797983d3c8c7587d77a": {
      "model_module": "@jupyter-widgets/controls",
      "model_module_version": "1.5.0",
      "model_name": "HBoxModel",
      "state": {
       "children": [
        "IPY_MODEL_b8d9c2783f804a82b3d4adab31d71ae5",
        "IPY_MODEL_16c97c8c448a4e229a40bb771fbf04d5"
       ],
       "layout": "IPY_MODEL_6a597f35f9ec44e3a07d08e0f1526c0b"
      }
     },
     "d9208d948990498e95ed775a9f686abb": {
      "model_module": "@jupyter-widgets/base",
      "model_module_version": "1.2.0",
      "model_name": "LayoutModel",
      "state": {
       "grid_area": "header"
      }
     },
     "d93c87b4123e454bb61e28cfd2328d48": {
      "model_module": "@jupyter-widgets/base",
      "model_module_version": "1.2.0",
      "model_name": "LayoutModel",
      "state": {
       "margin": "0px 0px 0px 70px"
      }
     },
     "d94080d266ef4ec798c1df2851e5bcfd": {
      "model_module": "@jupyter-widgets/base",
      "model_module_version": "1.2.0",
      "model_name": "LayoutModel",
      "state": {}
     },
     "d94b1e4b6a36494f8b3f5e5ab9f263e0": {
      "model_module": "@jupyter-widgets/controls",
      "model_module_version": "1.5.0",
      "model_name": "VBoxModel",
      "state": {
       "children": [
        "IPY_MODEL_17347ba304094604965c16bd593335b8",
        "IPY_MODEL_477d9f7baf354139b1f131924293f78f",
        "IPY_MODEL_eff36e046c84457d91ebfa2b4191d398"
       ],
       "layout": "IPY_MODEL_a04ea58400c243a7a4c8415983313325"
      }
     },
     "d94cef253e82491bbe7dc4aa91c2f9fd": {
      "model_module": "@jupyter-widgets/controls",
      "model_module_version": "1.5.0",
      "model_name": "DescriptionStyleModel",
      "state": {
       "description_width": ""
      }
     },
     "d96571496c554792a526542d2564eb05": {
      "model_module": "@jupyter-widgets/base",
      "model_module_version": "1.2.0",
      "model_name": "LayoutModel",
      "state": {}
     },
     "d9cf456eed414b619a87ab4843f212fc": {
      "model_module": "@jupyter-widgets/controls",
      "model_module_version": "1.5.0",
      "model_name": "HTMLModel",
      "state": {
       "layout": "IPY_MODEL_048a60ac28c64ec3af847a7ec413f503",
       "style": "IPY_MODEL_1aa434931b1c49f39e6f4c900b911417",
       "value": "<h2><font color='black'>Remaining Guesses:                          5</h2>"
      }
     },
     "d9ebeac6984a4840971c73ef2574559a": {
      "model_module": "@jupyter-widgets/controls",
      "model_module_version": "1.5.0",
      "model_name": "VBoxModel",
      "state": {
       "children": [
        "IPY_MODEL_c35ff2570ef7433ca12619fac284e175",
        "IPY_MODEL_93cbdd04e6644fa7b2d80a0e52afe44a"
       ],
       "layout": "IPY_MODEL_d1c6ba8ff2bc4ff89136a3373148abc4"
      }
     },
     "d9f2903621214ed38cbcdc2bf3bdec22": {
      "model_module": "@jupyter-widgets/controls",
      "model_module_version": "1.5.0",
      "model_name": "HTMLModel",
      "state": {
       "layout": "IPY_MODEL_91f2cbc21ee24773a125241f9351ac51",
       "style": "IPY_MODEL_3ad79b42bbe2460da70ddfb619051fa0",
       "value": "<h4>Wins: 4</h4>"
      }
     },
     "d9fbd2f9c69a4e9eb94cf2d20d79279b": {
      "model_module": "@jupyter-widgets/controls",
      "model_module_version": "1.5.0",
      "model_name": "ButtonModel",
      "state": {
       "button_style": "success",
       "description": "Play Again",
       "layout": "IPY_MODEL_15b334ce54b84cf08221573c3c3b7e63",
       "style": "IPY_MODEL_3352a18f98f640fda29539404e1bb2d9"
      }
     },
     "da052aba02f24777928faf0d424a7dd1": {
      "model_module": "@jupyter-widgets/controls",
      "model_module_version": "1.5.0",
      "model_name": "DescriptionStyleModel",
      "state": {
       "description_width": ""
      }
     },
     "da35aa080897461980cd8287da35fe05": {
      "model_module": "@jupyter-widgets/base",
      "model_module_version": "1.2.0",
      "model_name": "LayoutModel",
      "state": {
       "height": "auto"
      }
     },
     "da4102fd6a6b4994b78beebf973becf4": {
      "model_module": "@jupyter-widgets/controls",
      "model_module_version": "1.5.0",
      "model_name": "ButtonModel",
      "state": {
       "button_style": "warning",
       "description": "Y",
       "disabled": true,
       "layout": "IPY_MODEL_906cc77bf5b3405e9f3b659051ac886a",
       "style": "IPY_MODEL_f075b0389f02435297bb35b3b62c1850"
      }
     },
     "da6beb69302c4ac092939647841e84b2": {
      "model_module": "@jupyter-widgets/base",
      "model_module_version": "1.2.0",
      "model_name": "LayoutModel",
      "state": {
       "height": "25px",
       "width": "33px"
      }
     },
     "da893216a4434b398b6f3cdf3e1e9dc0": {
      "model_module": "@jupyter-widgets/base",
      "model_module_version": "1.2.0",
      "model_name": "LayoutModel",
      "state": {
       "height": "auto"
      }
     },
     "dadd638828a04217b358f32415268683": {
      "model_module": "@jupyter-widgets/controls",
      "model_module_version": "1.5.0",
      "model_name": "ButtonStyleModel",
      "state": {}
     },
     "dae80adfef0845d696a006f9d3360b03": {
      "model_module": "@jupyter-widgets/base",
      "model_module_version": "1.2.0",
      "model_name": "LayoutModel",
      "state": {}
     },
     "dae96fb672ec43a997cf8163529bd1ea": {
      "model_module": "@jupyter-widgets/base",
      "model_module_version": "1.2.0",
      "model_name": "LayoutModel",
      "state": {
       "height": "25px",
       "width": "33px"
      }
     },
     "daeda7ba520f4d9a9c2282baa9dd563f": {
      "model_module": "@jupyter-widgets/base",
      "model_module_version": "1.2.0",
      "model_name": "LayoutModel",
      "state": {
       "grid_area": "header"
      }
     },
     "dafc4e0dfc4249a6af9dfde2904feddd": {
      "model_module": "@jupyter-widgets/controls",
      "model_module_version": "1.5.0",
      "model_name": "ButtonModel",
      "state": {
       "button_style": "warning",
       "description": "O",
       "disabled": true,
       "layout": "IPY_MODEL_12221e50e1ed4ef28ed73c64e649fbdd",
       "style": "IPY_MODEL_188fff45656845b18f0105556dd67cc7"
      }
     },
     "db20485e92d2445290f6da54e050b389": {
      "model_module": "@jupyter-widgets/base",
      "model_module_version": "1.2.0",
      "model_name": "LayoutModel",
      "state": {
       "height": "25px",
       "width": "33px"
      }
     },
     "db20605123504d85b30516d9803ac135": {
      "model_module": "@jupyter-widgets/base",
      "model_module_version": "1.2.0",
      "model_name": "LayoutModel",
      "state": {
       "grid_template_areas": "\"header header header\"\n\"left-sidebar center center\"\n\"footer footer footer\"",
       "grid_template_columns": "1fr 2fr 1fr",
       "grid_template_rows": "1fr 3fr 1fr"
      }
     },
     "db6721c3e5674dddae6679a09a21f13f": {
      "model_module": "@jupyter-widgets/controls",
      "model_module_version": "1.5.0",
      "model_name": "ButtonStyleModel",
      "state": {}
     },
     "db788f68c82e4ad6891534bd6ac14976": {
      "model_module": "@jupyter-widgets/base",
      "model_module_version": "1.2.0",
      "model_name": "LayoutModel",
      "state": {
       "grid_area": "header"
      }
     },
     "db9165d9a50743179665f70e25ee15f4": {
      "model_module": "@jupyter-widgets/controls",
      "model_module_version": "1.5.0",
      "model_name": "DescriptionStyleModel",
      "state": {
       "description_width": ""
      }
     },
     "dba30877e3b14a99b4d160d77185e4bf": {
      "model_module": "@jupyter-widgets/base",
      "model_module_version": "1.2.0",
      "model_name": "LayoutModel",
      "state": {
       "grid_area": "footer",
       "margin": "-60px 0px 0px 0px"
      }
     },
     "dbe15fe6fa574c9cb7fc39c3b6e96432": {
      "model_module": "@jupyter-widgets/controls",
      "model_module_version": "1.5.0",
      "model_name": "HBoxModel",
      "state": {
       "children": [
        "IPY_MODEL_792c64cd895144f1a08fe46853d39318",
        "IPY_MODEL_f041031ac9de4e82b53259c9e29d888b"
       ],
       "layout": "IPY_MODEL_6cc70543edda4e04bab190827c1912a7"
      }
     },
     "dbe90643ca7e4a98b1d1108a33455f4b": {
      "model_module": "@jupyter-widgets/controls",
      "model_module_version": "1.5.0",
      "model_name": "ButtonStyleModel",
      "state": {}
     },
     "dbf78f4d0ee44b788f964f214c37e560": {
      "model_module": "@jupyter-widgets/controls",
      "model_module_version": "1.5.0",
      "model_name": "ButtonStyleModel",
      "state": {}
     },
     "dc23cf3be8054d069763400b4ef95004": {
      "model_module": "@jupyter-widgets/controls",
      "model_module_version": "1.5.0",
      "model_name": "DescriptionStyleModel",
      "state": {
       "description_width": ""
      }
     },
     "dc5aff719bdf49a7967a50cde187f738": {
      "model_module": "@jupyter-widgets/base",
      "model_module_version": "1.2.0",
      "model_name": "LayoutModel",
      "state": {
       "margin": "0px 0px 0px 100px"
      }
     },
     "dc7fb70ea0024fc89cb426cd9d6ca90a": {
      "model_module": "@jupyter-widgets/base",
      "model_module_version": "1.2.0",
      "model_name": "LayoutModel",
      "state": {
       "height": "25px",
       "width": "33px"
      }
     },
     "dcc1d0af1de148e8a3e4e4618fafb130": {
      "model_module": "@jupyter-widgets/base",
      "model_module_version": "1.2.0",
      "model_name": "LayoutModel",
      "state": {}
     },
     "dce0bc7d7f1c45f0ac51518f61ce2cda": {
      "model_module": "@jupyter-widgets/controls",
      "model_module_version": "1.5.0",
      "model_name": "ButtonStyleModel",
      "state": {}
     },
     "dcf4ea56938f47c4837f1d68cc6c9b02": {
      "model_module": "@jupyter-widgets/controls",
      "model_module_version": "1.5.0",
      "model_name": "ButtonModel",
      "state": {
       "button_style": "warning",
       "description": "F",
       "disabled": true,
       "layout": "IPY_MODEL_72e4cb52dd284800ba186602905a5ce1",
       "style": "IPY_MODEL_cdb70c2b56ca4abdba512f7639e50565"
      }
     },
     "dd2598f52a594db488108352b88c1ee0": {
      "model_module": "@jupyter-widgets/controls",
      "model_module_version": "1.5.0",
      "model_name": "DescriptionStyleModel",
      "state": {
       "description_width": ""
      }
     },
     "dd3dfefa409f4f4b803c438d3b3e8a4c": {
      "model_module": "@jupyter-widgets/controls",
      "model_module_version": "1.5.0",
      "model_name": "ButtonModel",
      "state": {
       "button_style": "warning",
       "description": "T",
       "disabled": true,
       "layout": "IPY_MODEL_80660105377c4c9f9fac10cf21856c06",
       "style": "IPY_MODEL_eacaaa46a6614763bebecdb9b6c85d32"
      }
     },
     "dd4203a4dc554b7fb2768b0bc343a3b9": {
      "model_module": "@jupyter-widgets/base",
      "model_module_version": "1.2.0",
      "model_name": "LayoutModel",
      "state": {
       "height": "25px",
       "width": "33px"
      }
     },
     "dd49315c5f454c118ac7cd4c1c32b1ce": {
      "model_module": "@jupyter-widgets/base",
      "model_module_version": "1.2.0",
      "model_name": "LayoutModel",
      "state": {}
     },
     "dd79d4663abd49938d23df21cb9447f6": {
      "model_module": "@jupyter-widgets/controls",
      "model_module_version": "1.5.0",
      "model_name": "HTMLModel",
      "state": {
       "layout": "IPY_MODEL_10a828e663d340a1ab7b6b5f02378d0a",
       "style": "IPY_MODEL_f36dedb3a72c4fc797f1ee44121ac1cf",
       "value": "<h1><font color=black>Secret Word:                          _ _ _ _ _</h1>"
      }
     },
     "ddd9890f0fc441b5ba6baec21ca4df41": {
      "model_module": "@jupyter-widgets/controls",
      "model_module_version": "1.5.0",
      "model_name": "ButtonStyleModel",
      "state": {}
     },
     "ddeb3fba3ee44a6cb7e53f8cf42ed5c3": {
      "model_module": "@jupyter-widgets/controls",
      "model_module_version": "1.5.0",
      "model_name": "HTMLModel",
      "state": {
       "layout": "IPY_MODEL_2e134a0b9eb249468391ef043f6f4fce",
       "style": "IPY_MODEL_dc23cf3be8054d069763400b4ef95004",
       "value": "<h4>Games: 0</h4>"
      }
     },
     "ddecd170ebeb4ebda6029398ef1bd30f": {
      "buffers": [
       {
        "data": "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",
        "encoding": "base64",
        "path": [
         "value"
        ]
       }
      ],
      "model_module": "@jupyter-widgets/controls",
      "model_module_version": "1.5.0",
      "model_name": "ImageModel",
      "state": {
       "layout": "IPY_MODEL_959dafe000cc480a9d049d85e600c4a4",
       "value": {}
      }
     },
     "de2803245ed74d3dac000b3fa38c867f": {
      "model_module": "@jupyter-widgets/controls",
      "model_module_version": "1.5.0",
      "model_name": "ButtonModel",
      "state": {
       "button_style": "warning",
       "description": "N",
       "layout": "IPY_MODEL_ca950fb4d7a542a2b7ef0d66d3a00281",
       "style": "IPY_MODEL_60fcf982668f436597acd0bbe51ceba7",
       "tooltip": "Click to guess N."
      }
     },
     "de49ca4d096d4611adbe2b7c853c35f5": {
      "model_module": "@jupyter-widgets/controls",
      "model_module_version": "1.5.0",
      "model_name": "DescriptionStyleModel",
      "state": {
       "description_width": ""
      }
     },
     "de7984a7c5b448b6b8a8d5e80af19b69": {
      "model_module": "@jupyter-widgets/controls",
      "model_module_version": "1.5.0",
      "model_name": "HTMLModel",
      "state": {
       "layout": "IPY_MODEL_e2ff02d0e8d7431b83456393d9dcf71c",
       "style": "IPY_MODEL_8192b337282a45d794645cdb7d88edda",
       "value": "<h1><font color='blue'> You Lose </h1>"
      }
     },
     "de9640d92302486fb9b44d6ff58e4043": {
      "model_module": "@jupyter-widgets/base",
      "model_module_version": "1.2.0",
      "model_name": "LayoutModel",
      "state": {
       "margin": "0px 0px 0px 70px"
      }
     },
     "deaae0a015054495ade593dfe095f848": {
      "model_module": "@jupyter-widgets/controls",
      "model_module_version": "1.5.0",
      "model_name": "DescriptionStyleModel",
      "state": {
       "description_width": ""
      }
     },
     "dec60d13bf5c478c9a7acdce82c0eb46": {
      "model_module": "@jupyter-widgets/base",
      "model_module_version": "1.2.0",
      "model_name": "LayoutModel",
      "state": {
       "height": "25px",
       "width": "33px"
      }
     },
     "decf38df978c475f85b2ac31940ebb42": {
      "model_module": "@jupyter-widgets/controls",
      "model_module_version": "1.5.0",
      "model_name": "ButtonModel",
      "state": {
       "button_style": "warning",
       "description": "O",
       "layout": "IPY_MODEL_92925e44cfb84caca61c2ac21afae92e",
       "style": "IPY_MODEL_a55770e6812249d68d097e96ea01f66f",
       "tooltip": "Click to guess O."
      }
     },
     "dedf07584a1d4420b06a2ab9b66e2da9": {
      "model_module": "@jupyter-widgets/controls",
      "model_module_version": "1.5.0",
      "model_name": "HTMLModel",
      "state": {
       "layout": "IPY_MODEL_0679c1a5208b4413a3779c7bf2edd6f1",
       "style": "IPY_MODEL_03c5ce8850d045e29cfc3fb39f6dfb18",
       "value": "<h4>Wins: 0</h4>"
      }
     },
     "deec26f10caa4a63a86ae943a438b219": {
      "model_module": "@jupyter-widgets/controls",
      "model_module_version": "1.5.0",
      "model_name": "VBoxModel",
      "state": {
       "children": [
        "IPY_MODEL_13fbe9ca48fd4037a3091b3d52c377ff",
        "IPY_MODEL_20154f7cacda48caa88ab4586e432ce3"
       ],
       "layout": "IPY_MODEL_fd2a5346ee1941b29e275d63fba27560"
      }
     },
     "def7f3530ba1417eb54c1e8920413fae": {
      "model_module": "@jupyter-widgets/controls",
      "model_module_version": "1.5.0",
      "model_name": "DescriptionStyleModel",
      "state": {
       "description_width": ""
      }
     },
     "df0c09944b5e4c4e968aeb060538c82a": {
      "model_module": "@jupyter-widgets/controls",
      "model_module_version": "1.5.0",
      "model_name": "DescriptionStyleModel",
      "state": {
       "description_width": ""
      }
     },
     "df271aa97d04408c9a1cc433f0cf7b49": {
      "model_module": "@jupyter-widgets/controls",
      "model_module_version": "1.5.0",
      "model_name": "ButtonStyleModel",
      "state": {}
     },
     "df3f42628170418ab435a431c911edbf": {
      "model_module": "@jupyter-widgets/controls",
      "model_module_version": "1.5.0",
      "model_name": "HTMLModel",
      "state": {
       "layout": "IPY_MODEL_afdaecbf023f4926b71a6f4805a3f9b6",
       "style": "IPY_MODEL_e41fdde1c02a49d180b3bb14b8b19a08",
       "value": "<h3>Player Result</h3>"
      }
     },
     "df405ba3e0cd453887e8497a40e21872": {
      "model_module": "@jupyter-widgets/controls",
      "model_module_version": "1.5.0",
      "model_name": "DescriptionStyleModel",
      "state": {
       "description_width": ""
      }
     },
     "df41396c9b064c26a941ef7b91456a0f": {
      "model_module": "@jupyter-widgets/controls",
      "model_module_version": "1.5.0",
      "model_name": "ButtonModel",
      "state": {
       "button_style": "warning",
       "description": "P",
       "layout": "IPY_MODEL_a5f7c82c672d4a9a84cf4eabb0c2901e",
       "style": "IPY_MODEL_f8b10f242ee146238749976d769bb978",
       "tooltip": "Click to guess P."
      }
     },
     "df5f0d5b621b4514b2aaa62a5b1fca5a": {
      "model_module": "@jupyter-widgets/controls",
      "model_module_version": "1.5.0",
      "model_name": "HTMLModel",
      "state": {
       "layout": "IPY_MODEL_efb9296ab3d24cbaa858b0c76e2b2f48",
       "style": "IPY_MODEL_050818e55dec409da9f6ac5ce47e5076",
       "value": "<h1><font color=red>Secret Word:                          indigo</h1>"
      }
     },
     "df65d81b638a40168a038c3482c3fb0c": {
      "buffers": [
       {
        "data": "iVBORw0KGgoAAAANSUhEUgAAATQAAAE0CAIAAAAt41jIAAAE5ElEQVR4nO3d3U7iUBhAUZj4/q/cuTBxFEpb6N92WOtKDTQNyc5XpJxzuQAAAMA+rt9/GYbhrPMALpfL9fovyT8nngcwQZwQJU6IEidEiROixAlR4oQocUKUOCFKnBAlTogSJ0SJE6LECVHihChxQpQ4IUqcECVOiBInRIkTosQJUeKEKHFClDghSpwQJU6IEidEiROixAlR4oQocUKUOCFKnBD1cfYJ/D++bxjOtoZhOPsUTmBybkOZu3rPl1ecEOWydmPveQG2n/ecmZ9MTogSJ0SJE6LECVHihChxQpQ4IUqcECVOiBInRIkTosQJUeKEKHFClDghSpwQJU6IshLCKvff0//6iyURWEmcr1iydoZKWUmcz7nJciK8r0d+/iBRniXOpZZn+f0BEuVl4pz3bJb3D5YoL/Df2hnfyxyG4bWubp74zss9spw4p9yUufJo+uQp4nxo2zLvj6NPpolz3rZvEb3hZCFxjtv1U8qvYxqeTBDnlP2mnPnJLHGOOHKgGZ48Is6H9h5uhifTxHnr+FFmeDJKnOOOGWuGJxPECVHi/OH4e19vbr6FL+KEKHFClDghSpwQJU6IEidEiROixAlR4vzh+FsCLPnFI+KEKHGOO2Z4umuPCeK8dfwVpmtaRonzob3HmrHJNHGOOP5bKXBPnFP2G27GJrPEOW7X1SvtDsgS4py3bZ9mJguJ86E9tk7YY4sH/lfinLJtn8rkKeKccdPna4nePFGZLGHz3HlrNsBds/Eub06cSz2bqCxZSZzPGU10yVPgWeJ8xZJPQTXJSuJc5b5STbIV/62FKHFClDghSpwQJU6IEidEiROixAlR4oQocUKUOCFKnBAlTogSJ0SJE6LECVHihChx/gIWiX9PlinJkSKfxHkyKfKIOA+1MEWrhHER566kyBri3NhskFJkIXHuS4q8TJwbUyNb8TknRIkTosQJUeKEKHFClDghSpwQJU6IEidEiROixAlR4oQocUKUOCFKnBAlTogSJ0SJE6LECVHihChxQpQ4IUqcECVOiBInRIkTosQJUeKEKHFClDghSpwQJU6IEidEiROibDu/DbvNszmTE6LECVHihChxQpQ4IUqcECVOiBInRIkTosQJUeKEKHFClDghSpwQJU6IEidEiROixAlR4oQocUKUOCFKnBAlTogSJ0SJE6LECVHihChxQpQ4IUqcECVOiBInRIkTosQJUeKEKHFClDghSpwQJU6IEidEiROixAlR4oQocUKUOCFKnBAlTogSJ0SJE6LECVHihChxQpQ4IUqcECVOiBInRIkTosQJUeKEKHFClDghSpwQJU6IEidEiROixAlR4oQocUKUOCFKnBAlTogSJ0SJE6LECVHihChxQpQ4IUqcECVOiBInRIkTosQJUeKEKHFClDghSpwQJU6IEidEiROixAlR4oQocUKUOCFKnBAlTogSJ0SJE6LECVHihChxQpQ4IUqcECVOiBInRIkTosQJUeKEKHFClDghSpwQJU6IEidEiROixAlR4oQocUKUOCHq4+wTYN71ej37FM7XfxGGYdj2gCYnRIkTolzW/gKbXy/xK5icECVOiBInRIkTosQJUeKEKHFClDghSpwQJU6IEidEiROixAlR4oQocUKUOCFKnBAlTogSJ0SJE6LECQAAAPBm/gJUu8uNgPvI+wAAAABJRU5ErkJggg==",
        "encoding": "base64",
        "path": [
         "value"
        ]
       }
      ],
      "model_module": "@jupyter-widgets/controls",
      "model_module_version": "1.5.0",
      "model_name": "ImageModel",
      "state": {
       "layout": "IPY_MODEL_29eb053e9db64948aa0d66cd4795e88f",
       "value": {}
      }
     },
     "df8260322ea04185a25306eebab8a7f8": {
      "buffers": [
       {
        "data": "iVBORw0KGgoAAAANSUhEUgAAATQAAAE0CAIAAAAt41jIAAAEyUlEQVR4nO3d0W6iUBRAUZ30/3+ZeZjEsYqAArJb13pqGyU3JjsHLXJPJwAAANjH+fqXYRiOWgdwOp3O5/9J/jlwHcAEcUKUOCFKnBAlTogSJ0SJE6LECVHihChxQpQ4IUqcECVOiBInRIkTosQJUeKEKHFClDghSpwQJU6IEidEiROixAlR4oQocUKUOCFKnBAlTogSJ0SJE6LECVHihChxQtTX0Qv4Pa43DGdbwzAcvYQDmJzbUOauPvPlFSdEOa3d2GeegO3nM2fmPyYnRIkTosQJUeKEKHFClDghSpwQJU6IEidEiROixAlR4oQocUKUOCFKnBAlTogSJ0S5E8Iq99/Tv/zFLRFYSZyvWHLvDJWykjifc5PlRHiXR/77QaI8S5xLLc/y+gES5WXinPdslvcPligv8GntjOsyh2F4raubJ37y7R5ZTpxTbspceTR98hRxPrRtmffH0SfTxDlv27eI3nCykDjH7fpfyssxDU8miHPKflPO/GSWOEe8c6AZnjwizof2Hm6GJ9PEeev9o8zwZJQ4x71nrBmeTBAnRInzm/df+3pz8S1ciBOixAlR4oQocUKUOCFKnBAlTogSJ0SJ85v3XxLgll88Ik6IEue49wxPV+0xQZy33n+G6ZyWUeJ8aO+xZmwyTZwj3v+tFLgnzin7DTdjk1niHLfr3SvtDsgS4py3bZ9mJguJ86E9tk7YY4sHfitxTtm2T2XyFHHOuOnztURvnqhMlrB57rw1G+Cu2XiXDyfOpZ5NVJasJM7njCa65CnwLHG+Ysl/QTXJSuJc5b5STbIVn9ZClDghSpwQJU6IEidEiROixAlR4oQocUKUOCFKnBAlTogSJ0SJE6LECVHihChxQpQ4IUqcECVOiBInRIkTosQJUeKEKHFClDghSpwQJU6IEidEiROixAlR4oQocUKUOCFKnBAlTogSJ0SJE6LECVHihChxQpQ4IUqcECVOiBInRIkTosQJUeKEKHFClDghSpwQJU6IEidEiROixAlR4oQocUKUOCFKnBD1dfQCfolhGI5eAr+NyQlR4oQocUKUOCFKnBAlTogSJ0SJE6LECVHihChxQpQ4IUqcECVOiBInRIkTosQJUeKEKHFClDghSpwQJU6IEidEiROixAlR4oQocUKUOCFKnBAlTogSJ0SJE6LECVHihChxQpQ4IUqcECVOiBInRIkTosQJUeKEKHFClDghSpwQJU6IEidEiROixAlR4oQocUKUOCFKnBAlTogSJ0SJE6LECVHihChxQpQ4IUqcECVOiBInRIkTosQJUeKEKHFClDghSpwQJU6IEidEiROixAlR4oQocUKUOCFKnBAlTogSJ0SJE6LECVHihChxQpQ4IUqcECVOiBInRIkTosQJUeKEKHFClDghSpwQJU6IEidEiROixAlR4oQocUKUOCFKnBAlTogSJ0SJE6LECVHihChxQpQ4IUqcECVOiBInRIkTosQJUeKEKHFClDghSpwQ9XX0Aph3Pp+PXsLx+i/CMAzbHtDkhChxQpTT2h9g8/MlfgSTE6LECVHihChxQpQ4IUqcECVOiBInRIkTosQJUeKEKHFClDghSpwQJU6IEidEiROixAlR4oQocUKUOAEAAAA+zF8yMLx8mh5EmQAAAABJRU5ErkJggg==",
        "encoding": "base64",
        "path": [
         "value"
        ]
       }
      ],
      "model_module": "@jupyter-widgets/controls",
      "model_module_version": "1.5.0",
      "model_name": "ImageModel",
      "state": {
       "layout": "IPY_MODEL_7ec3fb04603f47debb9a902d295ddbed",
       "value": {}
      }
     },
     "dfbcf8c309d14161aac3c4be87616b7e": {
      "model_module": "@jupyter-widgets/controls",
      "model_module_version": "1.5.0",
      "model_name": "DescriptionStyleModel",
      "state": {
       "description_width": ""
      }
     },
     "dfcfbe9e5b954b048f6404ab5d969e05": {
      "model_module": "@jupyter-widgets/base",
      "model_module_version": "1.2.0",
      "model_name": "LayoutModel",
      "state": {
       "margin": "0px 0px 0px 70px"
      }
     },
     "dffdb23b8c8347b09a01c81ad12fff8b": {
      "model_module": "@jupyter-widgets/controls",
      "model_module_version": "1.5.0",
      "model_name": "DescriptionStyleModel",
      "state": {
       "description_width": ""
      }
     },
     "e00521e991ce49e890cfb45494f3a3c4": {
      "model_module": "@jupyter-widgets/controls",
      "model_module_version": "1.5.0",
      "model_name": "HBoxModel",
      "state": {
       "children": [
        "IPY_MODEL_cf4375d1ada540949e54d5f7f2eb52cf",
        "IPY_MODEL_d713d26835f841aab4f189b74e6b73c1"
       ],
       "layout": "IPY_MODEL_134c12cc285144c9b3da193b1fe44511"
      }
     },
     "e042a623f5a54e0b911d53b399decce4": {
      "model_module": "@jupyter-widgets/base",
      "model_module_version": "1.2.0",
      "model_name": "LayoutModel",
      "state": {
       "height": "25px",
       "width": "33px"
      }
     },
     "e050f07533b34e5a83c1da7cfc467dc5": {
      "model_module": "@jupyter-widgets/controls",
      "model_module_version": "1.5.0",
      "model_name": "VBoxModel",
      "state": {
       "children": [
        "IPY_MODEL_65a5c07d03844e018eee8679480e4dac",
        "IPY_MODEL_29b9efb718d7414da856cccf9b628c2b"
       ],
       "layout": "IPY_MODEL_4db1ceb62b534d3b8b0b37632642d749"
      }
     },
     "e066d6b2124241ffb1fbe2630f1c4c25": {
      "model_module": "@jupyter-widgets/controls",
      "model_module_version": "1.5.0",
      "model_name": "VBoxModel",
      "state": {
       "children": [
        "IPY_MODEL_26b0dbf1b97e494aa20c00fe41dfd40e"
       ],
       "layout": "IPY_MODEL_89072c6eb0654cda93ef8fa52e236974"
      }
     },
     "e07993b94602459faaefa1551c81b4b7": {
      "model_module": "@jupyter-widgets/controls",
      "model_module_version": "1.5.0",
      "model_name": "GridBoxModel",
      "state": {
       "children": [
        "IPY_MODEL_ef4da1cb8263443da477370b0cd6ca83",
        "IPY_MODEL_4b5cb01f167941e49d8451500735eb18",
        "IPY_MODEL_f9626cdad9e24ae99c066a2fc4aca259",
        "IPY_MODEL_77a980f23ffd4bb685a38d2b5908bf17"
       ],
       "layout": "IPY_MODEL_5aff88b4ba3e451d857b1bff1af7cfc1"
      }
     },
     "e09c17f0b86d4169898e47b1c35fdec2": {
      "model_module": "@jupyter-widgets/controls",
      "model_module_version": "1.5.0",
      "model_name": "HTMLModel",
      "state": {
       "layout": "IPY_MODEL_f26ef18dfbda468198b5b916b2b4e1dd",
       "style": "IPY_MODEL_63a8e7d57c2c45a9bc1baa57ce1971dd",
       "value": "<h1><font color=black>Secret Word:                          _ _ _ _ _</h1>"
      }
     },
     "e0b533c736564f18985a12174bab3751": {
      "model_module": "@jupyter-widgets/controls",
      "model_module_version": "1.5.0",
      "model_name": "GridBoxModel",
      "state": {
       "children": [
        "IPY_MODEL_477c1fa6fad44045b2930a186ac2bc33",
        "IPY_MODEL_53ba7851b8474b37b205403b6f7b5668",
        "IPY_MODEL_6cb43192ffcb4fab80092fe5f3fe2885",
        "IPY_MODEL_e66fbe9c2b2649558374fdff2fe1aead"
       ],
       "layout": "IPY_MODEL_fcbbd1cbe2454b27936cf909d52c327a"
      }
     },
     "e0cf573918cc4f20aca72ce412a77670": {
      "model_module": "@jupyter-widgets/base",
      "model_module_version": "1.2.0",
      "model_name": "LayoutModel",
      "state": {
       "grid_area": "center"
      }
     },
     "e0f592b58b2a4217af668c86f481d62b": {
      "model_module": "@jupyter-widgets/controls",
      "model_module_version": "1.5.0",
      "model_name": "ButtonStyleModel",
      "state": {}
     },
     "e11c7c405b3e45b5bc58d827e763b3f7": {
      "model_module": "@jupyter-widgets/base",
      "model_module_version": "1.2.0",
      "model_name": "LayoutModel",
      "state": {
       "margin": "0px 0px 0px 100px"
      }
     },
     "e1430bf5be074ac0b2fcdbd5708eb3d8": {
      "model_module": "@jupyter-widgets/controls",
      "model_module_version": "1.5.0",
      "model_name": "DescriptionStyleModel",
      "state": {
       "description_width": ""
      }
     },
     "e15fa3fece7e48129a30f01bc9bedbf5": {
      "model_module": "@jupyter-widgets/base",
      "model_module_version": "1.2.0",
      "model_name": "LayoutModel",
      "state": {
       "margin": "0px 0px 0px 100px"
      }
     },
     "e1698486ffa241f1acd6618081864afe": {
      "model_module": "@jupyter-widgets/base",
      "model_module_version": "1.2.0",
      "model_name": "LayoutModel",
      "state": {
       "height": "25px",
       "width": "33px"
      }
     },
     "e17c9cbcdadf4e1baed03bda2ecf175b": {
      "model_module": "@jupyter-widgets/base",
      "model_module_version": "1.2.0",
      "model_name": "LayoutModel",
      "state": {
       "height": "auto"
      }
     },
     "e18e0d7455914509a639495f041f573d": {
      "model_module": "@jupyter-widgets/base",
      "model_module_version": "1.2.0",
      "model_name": "LayoutModel",
      "state": {
       "grid_template_areas": "\"header header header\"\n\"left-sidebar center center\"\n\"footer footer footer\"",
       "grid_template_columns": "1fr 2fr 1fr",
       "grid_template_rows": "1fr 3fr 1fr"
      }
     },
     "e191f8d3f7fa48208794901b91882abb": {
      "model_module": "@jupyter-widgets/controls",
      "model_module_version": "1.5.0",
      "model_name": "ButtonModel",
      "state": {
       "button_style": "warning",
       "description": "F",
       "disabled": true,
       "layout": "IPY_MODEL_a890c74da20f48449f31ba5b3a99f402",
       "style": "IPY_MODEL_257a8daa8f6f478a846ca60d5513f3ed"
      }
     },
     "e19550e9c4b14c128a24e0cfca1f630d": {
      "model_module": "@jupyter-widgets/controls",
      "model_module_version": "1.5.0",
      "model_name": "ButtonModel",
      "state": {
       "button_style": "warning",
       "description": "I",
       "disabled": true,
       "layout": "IPY_MODEL_80143a6b13a04de6ad7d7c7a21d3cb16",
       "style": "IPY_MODEL_45848d2325f642498009b3b50e7239fc"
      }
     },
     "e198211706d8471b9e834f344f62fd0e": {
      "model_module": "@jupyter-widgets/controls",
      "model_module_version": "1.5.0",
      "model_name": "ButtonStyleModel",
      "state": {}
     },
     "e19a2417d01a41938e750df03343e942": {
      "model_module": "@jupyter-widgets/controls",
      "model_module_version": "1.5.0",
      "model_name": "DescriptionStyleModel",
      "state": {
       "description_width": ""
      }
     },
     "e1aeb463b9cd4a59ae43b9c3599e84fa": {
      "model_module": "@jupyter-widgets/controls",
      "model_module_version": "1.5.0",
      "model_name": "DescriptionStyleModel",
      "state": {
       "description_width": ""
      }
     },
     "e1c5a1ba9bb145e9be606df50b446917": {
      "model_module": "@jupyter-widgets/controls",
      "model_module_version": "1.5.0",
      "model_name": "VBoxModel",
      "state": {
       "children": [
        "IPY_MODEL_4221cadf493b4c8c9f42f75818a24057",
        "IPY_MODEL_0d29a9ce394f4e0980dbe58ca5407bab"
       ],
       "layout": "IPY_MODEL_c8d1ac3382fd49f2a3e5bb4ed64d33a0"
      }
     },
     "e1cb68f0eca141729891204ea44bf6d9": {
      "model_module": "@jupyter-widgets/base",
      "model_module_version": "1.2.0",
      "model_name": "LayoutModel",
      "state": {}
     },
     "e1e7d7be0dbc4b2b9d2fa146005ffd22": {
      "model_module": "@jupyter-widgets/base",
      "model_module_version": "1.2.0",
      "model_name": "LayoutModel",
      "state": {}
     },
     "e202e82046d64f318119a5b8a99f81ed": {
      "model_module": "@jupyter-widgets/controls",
      "model_module_version": "1.5.0",
      "model_name": "ButtonModel",
      "state": {
       "button_style": "warning",
       "description": "E",
       "disabled": true,
       "layout": "IPY_MODEL_fd023437329e424e9b0c49da9bbad5fd",
       "style": "IPY_MODEL_b1e9b2f8f96f4de398beae97ac11294b"
      }
     },
     "e223c1e16d8a48cc821ebc0c27b453e7": {
      "model_module": "@jupyter-widgets/controls",
      "model_module_version": "1.5.0",
      "model_name": "ButtonModel",
      "state": {
       "button_style": "warning",
       "description": "J",
       "layout": "IPY_MODEL_34eaf98238134e3c88b5d90d61633fbb",
       "style": "IPY_MODEL_72f5505994374a22a4c21a50f863789c",
       "tooltip": "Click to guess J."
      }
     },
     "e23f759ba21046b29dd1cc5fe601376c": {
      "model_module": "@jupyter-widgets/controls",
      "model_module_version": "1.5.0",
      "model_name": "DescriptionStyleModel",
      "state": {
       "description_width": ""
      }
     },
     "e248b610ef2248c19277bbf2bb254286": {
      "model_module": "@jupyter-widgets/controls",
      "model_module_version": "1.5.0",
      "model_name": "HTMLModel",
      "state": {
       "layout": "IPY_MODEL_1504e72cb3b4429ab48849a7d2f095cd",
       "style": "IPY_MODEL_e19a2417d01a41938e750df03343e942",
       "value": "<h1><font color='blue'> You Lose </h1>"
      }
     },
     "e257f80d63344aee90862a771f9c0559": {
      "model_module": "@jupyter-widgets/controls",
      "model_module_version": "1.5.0",
      "model_name": "HTMLModel",
      "state": {
       "layout": "IPY_MODEL_4064af4565a6465bbc3648219eb206ff",
       "style": "IPY_MODEL_71ab1165296a47b1b0356165777d750a",
       "value": "<h1><font color=red>Secret Word:                          indigo</h1>"
      }
     },
     "e2683e8046bd49608a662dc55f9a426f": {
      "model_module": "@jupyter-widgets/controls",
      "model_module_version": "1.5.0",
      "model_name": "ButtonStyleModel",
      "state": {}
     },
     "e28a848fc72c498f9fa5c7952d380b34": {
      "model_module": "@jupyter-widgets/base",
      "model_module_version": "1.2.0",
      "model_name": "LayoutModel",
      "state": {
       "margin": "0px 0px 0px 70px"
      }
     },
     "e2ac83c65398492292eeffa183881a29": {
      "model_module": "@jupyter-widgets/base",
      "model_module_version": "1.2.0",
      "model_name": "LayoutModel",
      "state": {
       "grid_template_areas": "\"header header header\"\n\"left-sidebar center center\"\n\"footer footer footer\"",
       "grid_template_columns": "1fr 2fr 1fr",
       "grid_template_rows": "1fr 3fr 1fr"
      }
     },
     "e2ff02d0e8d7431b83456393d9dcf71c": {
      "model_module": "@jupyter-widgets/base",
      "model_module_version": "1.2.0",
      "model_name": "LayoutModel",
      "state": {
       "margin": "20px 0px 0px 20px"
      }
     },
     "e30e4cd5b4b34059a71373dddf5a5545": {
      "model_module": "@jupyter-widgets/controls",
      "model_module_version": "1.5.0",
      "model_name": "VBoxModel",
      "state": {
       "children": [
        "IPY_MODEL_2b356d017df942358f663cd63397a2ba",
        "IPY_MODEL_ad34532715bf42cd8da14c3daba6da85"
       ],
       "layout": "IPY_MODEL_aabdc8491cc942e4afd46881fbe8a89b"
      }
     },
     "e30f3e4cb43c47f6b21f17f13b4490c1": {
      "model_module": "@jupyter-widgets/controls",
      "model_module_version": "1.5.0",
      "model_name": "ButtonModel",
      "state": {
       "button_style": "warning",
       "description": "G",
       "disabled": true,
       "layout": "IPY_MODEL_9807d49e8c754a2d892f43e5e5beaff5",
       "style": "IPY_MODEL_8b874b87669943158f9981ae0af86fe0"
      }
     },
     "e320ec61b22a403090889e4e8caad679": {
      "model_module": "@jupyter-widgets/base",
      "model_module_version": "1.2.0",
      "model_name": "LayoutModel",
      "state": {
       "grid_area": "left-sidebar"
      }
     },
     "e3803ef6fac54c3a91839c10ef220858": {
      "model_module": "@jupyter-widgets/base",
      "model_module_version": "1.2.0",
      "model_name": "LayoutModel",
      "state": {
       "grid_template_areas": "\"header header header\"\n\"left-sidebar center center\"\n\"footer footer footer\"",
       "grid_template_columns": "1fr 2fr 1fr",
       "grid_template_rows": "1fr 3fr 1fr"
      }
     },
     "e3bd1c4bb88f4068b02556c9e5878226": {
      "model_module": "@jupyter-widgets/base",
      "model_module_version": "1.2.0",
      "model_name": "LayoutModel",
      "state": {
       "height": "25px",
       "width": "33px"
      }
     },
     "e3e009f9d92342f0ab9a9eecb4abbb38": {
      "model_module": "@jupyter-widgets/controls",
      "model_module_version": "1.5.0",
      "model_name": "ButtonModel",
      "state": {
       "button_style": "warning",
       "description": "P",
       "layout": "IPY_MODEL_44f44b732e194f7fa69c633b9b1b0abe",
       "style": "IPY_MODEL_3285a562bb994fcd9e0ea3fdff626303",
       "tooltip": "Click to guess P."
      }
     },
     "e3f4a63e42e2480d866389ebb25b156f": {
      "model_module": "@jupyter-widgets/controls",
      "model_module_version": "1.5.0",
      "model_name": "VBoxModel",
      "state": {
       "children": [
        "IPY_MODEL_926eecb2ef234de88ad44b666a64a7c9",
        "IPY_MODEL_54586e7c8c254c3d9f324ad8115b0287"
       ],
       "layout": "IPY_MODEL_a5db06727de94801afc821f8f0b302a4"
      }
     },
     "e404c22ca566486a99e58a618751f8c5": {
      "model_module": "@jupyter-widgets/base",
      "model_module_version": "1.2.0",
      "model_name": "LayoutModel",
      "state": {
       "height": "25px",
       "width": "33px"
      }
     },
     "e40dc19f53a64514922e28bfa0facd8a": {
      "model_module": "@jupyter-widgets/controls",
      "model_module_version": "1.5.0",
      "model_name": "DescriptionStyleModel",
      "state": {
       "description_width": ""
      }
     },
     "e40dfbed156a4ba7b7375e59fa661230": {
      "model_module": "@jupyter-widgets/base",
      "model_module_version": "1.2.0",
      "model_name": "LayoutModel",
      "state": {
       "grid_template_areas": "\"header header header\"\n\"left-sidebar center center\"\n\"footer footer footer\"",
       "grid_template_columns": "1fr 2fr 1fr",
       "grid_template_rows": "1fr 3fr 1fr"
      }
     },
     "e411ffb67da943ba8b0f052b37a0ccc1": {
      "model_module": "@jupyter-widgets/base",
      "model_module_version": "1.2.0",
      "model_name": "LayoutModel",
      "state": {
       "margin": "20px 0px 0px 20px"
      }
     },
     "e41fdde1c02a49d180b3bb14b8b19a08": {
      "model_module": "@jupyter-widgets/controls",
      "model_module_version": "1.5.0",
      "model_name": "DescriptionStyleModel",
      "state": {
       "description_width": ""
      }
     },
     "e42c851c1a464496a51cbf8f494a07c7": {
      "model_module": "@jupyter-widgets/controls",
      "model_module_version": "1.5.0",
      "model_name": "ButtonModel",
      "state": {
       "button_style": "warning",
       "description": "T",
       "layout": "IPY_MODEL_0f074a6c59a24230a977d506b5a910f9",
       "style": "IPY_MODEL_12a3f85c9445481e81433afe9423e5a7",
       "tooltip": "Click to guess T."
      }
     },
     "e452873a8e9f45aa9f33b39c493de3b0": {
      "model_module": "@jupyter-widgets/base",
      "model_module_version": "1.2.0",
      "model_name": "LayoutModel",
      "state": {
       "margin": "0px 0px 0px 100px"
      }
     },
     "e4863c161bce4e13959205ffdb9e6fe4": {
      "model_module": "@jupyter-widgets/base",
      "model_module_version": "1.2.0",
      "model_name": "LayoutModel",
      "state": {
       "height": "25px",
       "width": "33px"
      }
     },
     "e4ecfa2c7f9e4bd2bf6c027503798d55": {
      "model_module": "@jupyter-widgets/controls",
      "model_module_version": "1.5.0",
      "model_name": "ButtonStyleModel",
      "state": {}
     },
     "e5074352f4744899b1c57faaf5029e8f": {
      "model_module": "@jupyter-widgets/controls",
      "model_module_version": "1.5.0",
      "model_name": "HTMLModel",
      "state": {
       "layout": "IPY_MODEL_f682ff26678e483286720edcf2d71b76",
       "style": "IPY_MODEL_9410317e01dd4b1d89407c11bebdf98c",
       "value": "<h4>Wins: 0</h4>"
      }
     },
     "e53c1764a4b74afd96e977d3c59e1fad": {
      "model_module": "@jupyter-widgets/controls",
      "model_module_version": "1.5.0",
      "model_name": "ButtonStyleModel",
      "state": {}
     },
     "e552d536194f48938a936f4d5d56a734": {
      "model_module": "@jupyter-widgets/base",
      "model_module_version": "1.2.0",
      "model_name": "LayoutModel",
      "state": {}
     },
     "e58860266c8247c3afb8cbda75fa3714": {
      "model_module": "@jupyter-widgets/controls",
      "model_module_version": "1.5.0",
      "model_name": "ButtonStyleModel",
      "state": {}
     },
     "e5941917227a4477af468260dddfd464": {
      "model_module": "@jupyter-widgets/base",
      "model_module_version": "1.2.0",
      "model_name": "LayoutModel",
      "state": {
       "grid_area": "center"
      }
     },
     "e5976dfeee634886aedb2b5d771b0068": {
      "model_module": "@jupyter-widgets/base",
      "model_module_version": "1.2.0",
      "model_name": "LayoutModel",
      "state": {
       "height": "25px",
       "width": "33px"
      }
     },
     "e59c6346bb24489eafe4ff84f828d022": {
      "model_module": "@jupyter-widgets/base",
      "model_module_version": "1.2.0",
      "model_name": "LayoutModel",
      "state": {}
     },
     "e5b2826557b74e03aecf1a84f1ea003f": {
      "model_module": "@jupyter-widgets/controls",
      "model_module_version": "1.5.0",
      "model_name": "HTMLModel",
      "state": {
       "layout": "IPY_MODEL_964da9c553a4485a98ffd93efd62d4f4",
       "style": "IPY_MODEL_0f7bc00c19064e3487c7bbc739f8860f",
       "value": "<h4>Games: 1</h4>"
      }
     },
     "e5b67b6769c54d5d8d42bd7b69fb00ce": {
      "model_module": "@jupyter-widgets/controls",
      "model_module_version": "1.5.0",
      "model_name": "ButtonModel",
      "state": {
       "button_style": "warning",
       "description": "G",
       "disabled": true,
       "layout": "IPY_MODEL_3557d831aff7489c828ada2a56c96d26",
       "style": "IPY_MODEL_13d6d68847414fa29f778c86072a21a1"
      }
     },
     "e5bca5c6f6b54416b942ca50002b73ef": {
      "model_module": "@jupyter-widgets/controls",
      "model_module_version": "1.5.0",
      "model_name": "HTMLModel",
      "state": {
       "layout": "IPY_MODEL_b566edd43b0d40dd827e9316864e084f",
       "style": "IPY_MODEL_7ec60d5e878f4b10a427ca7f027743ed",
       "value": "<h3>Click on a letter below to guess the word.</h3>"
      }
     },
     "e5f0b29883884c6397cc818f0cac653a": {
      "model_module": "@jupyter-widgets/controls",
      "model_module_version": "1.5.0",
      "model_name": "ButtonModel",
      "state": {
       "button_style": "warning",
       "description": "R",
       "disabled": true,
       "layout": "IPY_MODEL_848345606498433faa0451a639ee5cc0",
       "style": "IPY_MODEL_598cbb0e485d4fcdb8c13e57882a9ef6"
      }
     },
     "e61872f4ba9b446680aa1d157998f53a": {
      "model_module": "@jupyter-widgets/controls",
      "model_module_version": "1.5.0",
      "model_name": "HTMLModel",
      "state": {
       "layout": "IPY_MODEL_9e124ea78dfa46c3bcb14c764d0e0b89",
       "style": "IPY_MODEL_a668b00fd4514395a97f22f735a45c7b",
       "value": "<h3>Player Result</h3>"
      }
     },
     "e65ca700898f4264ba36396c4d4144e1": {
      "model_module": "@jupyter-widgets/base",
      "model_module_version": "1.2.0",
      "model_name": "LayoutModel",
      "state": {}
     },
     "e66fbe9c2b2649558374fdff2fe1aead": {
      "buffers": [
       {
        "data": "iVBORw0KGgoAAAANSUhEUgAAATQAAAE0CAIAAAAt41jIAAAFCUlEQVR4nO3d0W6iUBRAUZ3M//8y89Ck01EEFJDtsNZTa5QQ052DVe+9XAAAAGAf15+/DMNw1HkAl8vlev2b5K8DzwOYIE6IEidEiROixAlR4oQocUKUOCFKnBAlTogSJ0SJE6LECVHihChxQpQ4IUqcECVOiBInRIkTosQJUeKEKHFClDghSpwQJU6IEidEiROixAlR4oQocUKUOCFKnBAlToj6ffQJ/D9+bhjOtoZhOPoUDmBybkOZuzrn0ytOiHJZu7FzXoDt55wz84vJCVHihChxQpQ4IUqcECVOiBInRIkTosQJUeKEKHFClDghSpwQJU6IEidEiROixAlRVkJY5f57+t+3WBKBlcT5iiVrZ6iUlcT5nJssJ8L7vufXDxLlWeJcanmWP+8gUV4mznnPZnl/Z4nyAv+tnfGzzGEYXuvq5oFnXu6R5cQ55abMlUfTJ08R50Pblnl/HH0yTZzztn2J6AUnC4lz3K7vUn4f0/Bkgjin7DflzE9miXPEOwea4ckj4nxo7+FmeDJNnLfeP8oMT0aJc9x7xprhyQRxQpQ4//H+z77efPgWvokTosQJUeKEKHFClDghSpwQJU6IEidEifMf7/9IgCW/eEScECXOce8Znj61xwRx3nr/FaZrWkaJ86G9x5qxyTRxjnj/t1Lgnjin7DfcjE1miXPcrqtX2h2QJcQ5b9s+zUwWEudDe2ydsMcWD/yvxDll2z6VyVPEOeOmz9cSvXmgMlnC5rnz1myAu2bjXU5OnEs9m6gsWUmczxlNdMlD4FnifMWSd0E1yUriXOW+Uk2yFf+thShxQpQ4IUqcECVOiBInRIkTosQJUeKEKHFClDghSpwQJU6IEidEiROixAlR4oSo08X5iQuuf+I5s94Zlym5/1tPrS0iRb6cMc57B+YqRR45XZz31Y3msVOuC1NMTXKOcro47+2XqxRZQ5wjXs710Y3TB4dR4lxkYa5LHggLifNFN9VZVJrNne59TvgU4oQocUKUOCFKnBAlTogSJ0SJE6LECVHihChxQpQ4IUqcECVOiBInRIkTosQJUeKEKHFClDghSpwQJU6IEidEiROixAlR4oQocUKUOCFKnBAlTogSJ0SJE6LECVHihCjbzm/DbvNszuSEKHFClDghSpwQJU6IEidEiROixAlR4oQocUKUOCFKnBAlTogSJ0SJE6LECVHihChxQpQ4IUqcECVOiBInRIkTosQJUeKEKHFClDghSpwQJU6IEidEiROixAlR4oQocUKUOCFKnBAlTogSJ0SJE6LECVHihChxQpQ4IUqcECVOiBInRIkTosQJUeKEKHFClDghSpwQJU6IEidEiROixAlR4oQocUKUOCFKnBAlTogSJ0SJE6LECVHihChxQpQ4IUqcECVOiBInRIkTosQJUeKEKHFClDghSpwQJU6IEidEiROixAlR4oQocUKUOCFKnBAlTogSJ0SJE6LECVHihChxQpQ4IUqcECVOiBInRIkTosQJUeKEKHFClDghSpwQJU6IEidEiROixAlR4oQocUKUOCFKnBAlTogSJ0SJE6LECVHihChxQpQ4IUqcECVOiPp99Akw73q9Hn0Kx+s/CcMwbHtAkxOixAlRLms/wObXS3wEkxOixAlR4oQocUKUOCFKnBAlTogSJ0SJE6LECVHihChxQpQ4IUqcECVOiBInRIkTosQJUeKEKHFClDgBAAAATuYPhtPmk0ATnPoAAAAASUVORK5CYII=",
        "encoding": "base64",
        "path": [
         "value"
        ]
       }
      ],
      "model_module": "@jupyter-widgets/controls",
      "model_module_version": "1.5.0",
      "model_name": "ImageModel",
      "state": {
       "layout": "IPY_MODEL_4c572c1ba38d4ed89f6792e3c3e29863",
       "value": {}
      }
     },
     "e6934f12e2b043fb842bcbeb06e91cb3": {
      "model_module": "@jupyter-widgets/controls",
      "model_module_version": "1.5.0",
      "model_name": "HTMLModel",
      "state": {
       "layout": "IPY_MODEL_ac868a853564439897d56ad4fd2468e9",
       "style": "IPY_MODEL_2822c59df9ac4e9283bf27ec529497bb",
       "value": "<h3>Click on a letter below to guess the word.</h3>"
      }
     },
     "e6c352802b9c4e0e8d4180ccce8f8950": {
      "model_module": "@jupyter-widgets/base",
      "model_module_version": "1.2.0",
      "model_name": "LayoutModel",
      "state": {
       "margin": "0px 0px 0px 70px"
      }
     },
     "e6d578aef9b14affabf71068880300da": {
      "model_module": "@jupyter-widgets/controls",
      "model_module_version": "1.5.0",
      "model_name": "ButtonModel",
      "state": {
       "button_style": "warning",
       "description": "D",
       "layout": "IPY_MODEL_7bc97c75630b459daa2082446c75bbe0",
       "style": "IPY_MODEL_71baec35317e46e580983aba4c33e916",
       "tooltip": "Click to guess D."
      }
     },
     "e6e26c53e54d4b10bbc1ce64d31efaa7": {
      "model_module": "@jupyter-widgets/base",
      "model_module_version": "1.2.0",
      "model_name": "LayoutModel",
      "state": {
       "margin": "0px 0px 0px 100px"
      }
     },
     "e6ecfff8ca934089bd4f2a6c2a56fd6b": {
      "model_module": "@jupyter-widgets/base",
      "model_module_version": "1.2.0",
      "model_name": "LayoutModel",
      "state": {
       "grid_area": "header"
      }
     },
     "e70f0c472e5a435baf748efc6ca83cab": {
      "model_module": "@jupyter-widgets/controls",
      "model_module_version": "1.5.0",
      "model_name": "VBoxModel",
      "state": {
       "children": [
        "IPY_MODEL_574a0699b2804b06b28f000b24036caf",
        "IPY_MODEL_93cbdd04e6644fa7b2d80a0e52afe44a"
       ],
       "layout": "IPY_MODEL_dba30877e3b14a99b4d160d77185e4bf"
      }
     },
     "e72913f5d9d74d639c23a84690b7588c": {
      "model_module": "@jupyter-widgets/base",
      "model_module_version": "1.2.0",
      "model_name": "LayoutModel",
      "state": {
       "margin": "0px 0px 0px 100px"
      }
     },
     "e72df2b602584c38bf53c4b72937e800": {
      "model_module": "@jupyter-widgets/controls",
      "model_module_version": "1.5.0",
      "model_name": "ButtonModel",
      "state": {
       "button_style": "success",
       "description": "Play Again",
       "layout": "IPY_MODEL_4a0fea50d1484ab88e6156bcec233337",
       "style": "IPY_MODEL_18d422e0cb3c4a018fa60154e3089e99"
      }
     },
     "e738722f44a94eef9e48439e22d8f67c": {
      "model_module": "@jupyter-widgets/controls",
      "model_module_version": "1.5.0",
      "model_name": "ButtonStyleModel",
      "state": {}
     },
     "e74298434f6b404981b32d6a644a119f": {
      "model_module": "@jupyter-widgets/controls",
      "model_module_version": "1.5.0",
      "model_name": "HTMLModel",
      "state": {
       "layout": "IPY_MODEL_7ff51006d45a4c9b82b1ba6ce12eb880",
       "style": "IPY_MODEL_dd2598f52a594db488108352b88c1ee0",
       "value": "<h4>Wins: 2</h4>"
      }
     },
     "e7551e5f941c499f97ddb2b6f67e07f4": {
      "model_module": "@jupyter-widgets/controls",
      "model_module_version": "1.5.0",
      "model_name": "HTMLModel",
      "state": {
       "layout": "IPY_MODEL_441f7dd69b494f9eb947f43432c429f5",
       "style": "IPY_MODEL_f53b9cc576634eeb9a64c117ea0217e4",
       "value": "<h3>Player Result</h3>"
      }
     },
     "e76cc7f88519481ebcbe4dfd663bd9eb": {
      "model_module": "@jupyter-widgets/base",
      "model_module_version": "1.2.0",
      "model_name": "LayoutModel",
      "state": {}
     },
     "e7707c890247493a803bad7b1a5dc713": {
      "model_module": "@jupyter-widgets/base",
      "model_module_version": "1.2.0",
      "model_name": "LayoutModel",
      "state": {
       "grid_area": "header"
      }
     },
     "e77584c9fe374b2ea1cf196b1b46ab53": {
      "model_module": "@jupyter-widgets/controls",
      "model_module_version": "1.5.0",
      "model_name": "ButtonStyleModel",
      "state": {}
     },
     "e79ec3cd638b40ba8983343dafb4c0b9": {
      "model_module": "@jupyter-widgets/base",
      "model_module_version": "1.2.0",
      "model_name": "LayoutModel",
      "state": {
       "height": "25px",
       "width": "33px"
      }
     },
     "e7a2b1f2bd184d109d282f25765f3f79": {
      "model_module": "@jupyter-widgets/base",
      "model_module_version": "1.2.0",
      "model_name": "LayoutModel",
      "state": {
       "margin": "0px 0px 0px 100px"
      }
     },
     "e7e2cafaa45d4856adcd5aa7ae295e5c": {
      "model_module": "@jupyter-widgets/base",
      "model_module_version": "1.2.0",
      "model_name": "LayoutModel",
      "state": {
       "grid_area": "footer",
       "margin": "-60px 0px 0px 0px"
      }
     },
     "e7fbddde5e5f49059609822d3de8e3aa": {
      "model_module": "@jupyter-widgets/controls",
      "model_module_version": "1.5.0",
      "model_name": "HBoxModel",
      "state": {
       "children": [
        "IPY_MODEL_05ff7894a1234a39a554085b1cfdbb8c",
        "IPY_MODEL_4353f1373cd8471eb8fdf44274a8089b"
       ],
       "layout": "IPY_MODEL_006d7771a190483dbe0e2b7e188fe281"
      }
     },
     "e804d383721b4ced9566888b02714805": {
      "model_module": "@jupyter-widgets/base",
      "model_module_version": "1.2.0",
      "model_name": "LayoutModel",
      "state": {
       "height": "25px",
       "width": "33px"
      }
     },
     "e80763e8998f4a17b706f2bf8b869665": {
      "model_module": "@jupyter-widgets/base",
      "model_module_version": "1.2.0",
      "model_name": "LayoutModel",
      "state": {}
     },
     "e82acc52395a433082b69e12df127def": {
      "model_module": "@jupyter-widgets/controls",
      "model_module_version": "1.5.0",
      "model_name": "VBoxModel",
      "state": {
       "children": [
        "IPY_MODEL_b874f93f8ea24ef28c4be2f4c89c5a13",
        "IPY_MODEL_239816c8899448609684e9d87873f806"
       ],
       "layout": "IPY_MODEL_934e1fed3d004a18a801ebabf9d693f3"
      }
     },
     "e83adb6845dd49ff8427580e375604e7": {
      "model_module": "@jupyter-widgets/base",
      "model_module_version": "1.2.0",
      "model_name": "LayoutModel",
      "state": {
       "height": "auto",
       "width": "180px"
      }
     },
     "e853e87240a44c07ac6acd4d1c1275e0": {
      "model_module": "@jupyter-widgets/base",
      "model_module_version": "1.2.0",
      "model_name": "LayoutModel",
      "state": {
       "grid_area": "center"
      }
     },
     "e85af7fe1ed445a5a85704c9ad327a16": {
      "model_module": "@jupyter-widgets/controls",
      "model_module_version": "1.5.0",
      "model_name": "DescriptionStyleModel",
      "state": {
       "description_width": ""
      }
     },
     "e86aafcaf7bb465a9342ffaff90ec1b6": {
      "model_module": "@jupyter-widgets/controls",
      "model_module_version": "1.5.0",
      "model_name": "GridBoxModel",
      "state": {
       "children": [
        "IPY_MODEL_550630c09dc941ba811a67983e2bf068",
        "IPY_MODEL_6f50b44df93d4cbabab7d881ce9b0f7d",
        "IPY_MODEL_e066d6b2124241ffb1fbe2630f1c4c25",
        "IPY_MODEL_91066ea727264fca8a95baccc1dabd2e"
       ],
       "layout": "IPY_MODEL_93346fb52edf4f08bac400d1293e417b"
      }
     },
     "e878012e13e24d49bf8eb6c281cb3ff7": {
      "model_module": "@jupyter-widgets/controls",
      "model_module_version": "1.5.0",
      "model_name": "ButtonModel",
      "state": {
       "button_style": "warning",
       "description": "U",
       "layout": "IPY_MODEL_8b1d5a4c47e24aafa947fbf36c02f1ef",
       "style": "IPY_MODEL_629e9e94560d4589871ab8e959ee0cba",
       "tooltip": "Click to guess U."
      }
     },
     "e87ce89cb4de4780ae607d997b617171": {
      "model_module": "@jupyter-widgets/controls",
      "model_module_version": "1.5.0",
      "model_name": "ButtonModel",
      "state": {
       "button_style": "warning",
       "description": "H",
       "layout": "IPY_MODEL_0e5614c585584c6b91af7fcbfca3f9bb",
       "style": "IPY_MODEL_2cd075d14b904f668d751fe5889efb67",
       "tooltip": "Click to guess H."
      }
     },
     "e88dc6d2659a4aaa82d7f19989172659": {
      "model_module": "@jupyter-widgets/base",
      "model_module_version": "1.2.0",
      "model_name": "LayoutModel",
      "state": {
       "height": "25px",
       "width": "33px"
      }
     },
     "e89e9f72f2854cdc96a8c23c78736a8a": {
      "model_module": "@jupyter-widgets/base",
      "model_module_version": "1.2.0",
      "model_name": "LayoutModel",
      "state": {
       "grid_area": "left-sidebar"
      }
     },
     "e8c2b16acfec4f3cba9c011814363295": {
      "model_module": "@jupyter-widgets/controls",
      "model_module_version": "1.5.0",
      "model_name": "DescriptionStyleModel",
      "state": {
       "description_width": ""
      }
     },
     "e8c893f7a4a2464c9e0b35cab0015f9e": {
      "model_module": "@jupyter-widgets/controls",
      "model_module_version": "1.5.0",
      "model_name": "HBoxModel",
      "state": {
       "children": [
        "IPY_MODEL_60739b6cd3bb4bfea81b72c610f4c40c",
        "IPY_MODEL_77c0739582b64b86bb9fe572d8b6fe7f"
       ],
       "layout": "IPY_MODEL_84700b8e2108440091d2e14c88cae053"
      }
     },
     "e905b3918dec4f1f8e59ea63f343111a": {
      "model_module": "@jupyter-widgets/controls",
      "model_module_version": "1.5.0",
      "model_name": "VBoxModel",
      "state": {
       "children": [
        "IPY_MODEL_698d7f820e754b36a2d4975c9d9a1b19",
        "IPY_MODEL_edc31cb7507b4037879e8601c31c0371"
       ],
       "layout": "IPY_MODEL_bdcd05497ee1491d97980080536ee982"
      }
     },
     "e9076eab8225475bbca129ffaa03d147": {
      "model_module": "@jupyter-widgets/base",
      "model_module_version": "1.2.0",
      "model_name": "LayoutModel",
      "state": {
       "grid_area": "left-sidebar"
      }
     },
     "e907cea13e65475998261ef65da8ab61": {
      "model_module": "@jupyter-widgets/controls",
      "model_module_version": "1.5.0",
      "model_name": "ButtonModel",
      "state": {
       "button_style": "warning",
       "description": "L",
       "layout": "IPY_MODEL_b4aa51d4afc545ca8050ae6eb3ae44ef",
       "style": "IPY_MODEL_dbf78f4d0ee44b788f964f214c37e560",
       "tooltip": "Click to guess L."
      }
     },
     "e9301ba48b0b49a8887a0e39232693d6": {
      "model_module": "@jupyter-widgets/controls",
      "model_module_version": "1.5.0",
      "model_name": "ButtonStyleModel",
      "state": {}
     },
     "e9639fb8a9714659bbaee664edd4840b": {
      "model_module": "@jupyter-widgets/base",
      "model_module_version": "1.2.0",
      "model_name": "LayoutModel",
      "state": {
       "grid_area": "header"
      }
     },
     "e9884037b34d4c688259e0b3f4f57eca": {
      "model_module": "@jupyter-widgets/controls",
      "model_module_version": "1.5.0",
      "model_name": "HTMLModel",
      "state": {
       "layout": "IPY_MODEL_26f08b376b264dab93044ce9ea8208e2",
       "style": "IPY_MODEL_a326e848d55d4bc488cd026e6fcfcd6f",
       "value": "<h3>Player Result</h3>"
      }
     },
     "e99220f402314a1ba9f5917d228617ce": {
      "model_module": "@jupyter-widgets/controls",
      "model_module_version": "1.5.0",
      "model_name": "ButtonModel",
      "state": {
       "button_style": "warning",
       "description": "V",
       "layout": "IPY_MODEL_02a40c5fc6dd4ae6bf039e145b36b274",
       "style": "IPY_MODEL_174ae815340844bda14c4d4acc14c3cd",
       "tooltip": "Click to guess V."
      }
     },
     "e9aea2678509432d9b70d806651023be": {
      "model_module": "@jupyter-widgets/controls",
      "model_module_version": "1.5.0",
      "model_name": "ButtonModel",
      "state": {
       "button_style": "warning",
       "description": "S",
       "disabled": true,
       "layout": "IPY_MODEL_cecd1a7e27274a028356f04176a3d2bd",
       "style": "IPY_MODEL_928ac4035d664d4fb93afed9e487030c"
      }
     },
     "e9d321446f4f4d1980b02b238df3c423": {
      "model_module": "@jupyter-widgets/controls",
      "model_module_version": "1.5.0",
      "model_name": "DescriptionStyleModel",
      "state": {
       "description_width": ""
      }
     },
     "e9d5f1b9f7a94e89a22abf8481d1a876": {
      "model_module": "@jupyter-widgets/controls",
      "model_module_version": "1.5.0",
      "model_name": "HBoxModel",
      "state": {
       "children": [
        "IPY_MODEL_a3fddff1aeae49c78e088832de611742",
        "IPY_MODEL_2cdadf1f76e64202a37fee09632ef327"
       ],
       "layout": "IPY_MODEL_52e71e0948e3427dbee24ba05e8c2beb"
      }
     },
     "e9e5a24a78c0496d92a6af61ce810ec4": {
      "model_module": "@jupyter-widgets/base",
      "model_module_version": "1.2.0",
      "model_name": "LayoutModel",
      "state": {
       "margin": "0px 0px 0px 70px"
      }
     },
     "e9f593e1ae6c4b178bf2b9b6ebf7d18f": {
      "model_module": "@jupyter-widgets/controls",
      "model_module_version": "1.5.0",
      "model_name": "ButtonStyleModel",
      "state": {}
     },
     "e9fe40f8b22e4025ad075e5595e69a91": {
      "model_module": "@jupyter-widgets/controls",
      "model_module_version": "1.5.0",
      "model_name": "DescriptionStyleModel",
      "state": {
       "description_width": ""
      }
     },
     "ea1749f8f7584fed9d5f592cf382d4e5": {
      "model_module": "@jupyter-widgets/controls",
      "model_module_version": "1.5.0",
      "model_name": "ButtonStyleModel",
      "state": {}
     },
     "ea1efbd3347e4e2c8bf88826e9bb05d6": {
      "model_module": "@jupyter-widgets/base",
      "model_module_version": "1.2.0",
      "model_name": "LayoutModel",
      "state": {
       "margin": "20px 0px 0px 20px"
      }
     },
     "ea204ff9e6724605a269c7efd0ea4236": {
      "model_module": "@jupyter-widgets/base",
      "model_module_version": "1.2.0",
      "model_name": "LayoutModel",
      "state": {
       "grid_area": "footer",
       "margin": "-60px 0px 0px 0px"
      }
     },
     "ea21ff323efc41728bbb1474a472e871": {
      "model_module": "@jupyter-widgets/base",
      "model_module_version": "1.2.0",
      "model_name": "LayoutModel",
      "state": {
       "height": "25px",
       "width": "33px"
      }
     },
     "ea40b165b1084782b5bdccc3ebfc1f1e": {
      "model_module": "@jupyter-widgets/base",
      "model_module_version": "1.2.0",
      "model_name": "LayoutModel",
      "state": {}
     },
     "ea50d36e3cba43bca302f60bd1d7381d": {
      "model_module": "@jupyter-widgets/controls",
      "model_module_version": "1.5.0",
      "model_name": "HTMLModel",
      "state": {
       "layout": "IPY_MODEL_0aad3172aa704826bfc2f8541cdf9f3a",
       "style": "IPY_MODEL_3df954b42e9c4f44906ae39976c98d65",
       "value": "<h1><font color=black>Secret Word:                          _ _ _ _ _</h1>"
      }
     },
     "ea5dcbc3b4d047d4b575253b07d73399": {
      "model_module": "@jupyter-widgets/controls",
      "model_module_version": "1.5.0",
      "model_name": "VBoxModel",
      "state": {
       "children": [
        "IPY_MODEL_912851f5f5db40f397473f052068b2cf"
       ],
       "layout": "IPY_MODEL_3ed29e55959741d8b8260eaaa39df2e2"
      }
     },
     "eaa30a0b217f469998067463328cf57a": {
      "model_module": "@jupyter-widgets/controls",
      "model_module_version": "1.5.0",
      "model_name": "HTMLModel",
      "state": {
       "layout": "IPY_MODEL_618afe4a30554d6eb502195e1415c615",
       "style": "IPY_MODEL_60d887ab78a6430a97f6bd0ed2bcc870",
       "value": "<h3>Player Result</h3>"
      }
     },
     "eab6beca4cd44ef6a923f9641545bf38": {
      "model_module": "@jupyter-widgets/controls",
      "model_module_version": "1.5.0",
      "model_name": "VBoxModel",
      "state": {
       "children": [
        "IPY_MODEL_bf03ec5d2a224c1e88e049dc33eb5f38",
        "IPY_MODEL_2242f544a6e64b7a8aa82b675e417fec",
        "IPY_MODEL_480f90a658cb46d9a51922dd02ae5cd6"
       ],
       "layout": "IPY_MODEL_2e43d4fef6aa4571b03ddeb538aae4aa"
      }
     },
     "eac76368f4074f9089c20f651eea7d89": {
      "model_module": "@jupyter-widgets/controls",
      "model_module_version": "1.5.0",
      "model_name": "VBoxModel",
      "state": {
       "children": [
        "IPY_MODEL_c4dc557847e94941b3afb798051c13eb",
        "IPY_MODEL_20154f7cacda48caa88ab4586e432ce3"
       ],
       "layout": "IPY_MODEL_777e92cfa3b447eaa76250bad4a44db1"
      }
     },
     "eacaaa46a6614763bebecdb9b6c85d32": {
      "model_module": "@jupyter-widgets/controls",
      "model_module_version": "1.5.0",
      "model_name": "ButtonStyleModel",
      "state": {}
     },
     "eada5a041b974ed89937f4b161df80f7": {
      "model_module": "@jupyter-widgets/base",
      "model_module_version": "1.2.0",
      "model_name": "LayoutModel",
      "state": {
       "height": "25px",
       "width": "33px"
      }
     },
     "eaf18320e2974300835abdeecb49c372": {
      "model_module": "@jupyter-widgets/controls",
      "model_module_version": "1.5.0",
      "model_name": "HTMLModel",
      "state": {
       "layout": "IPY_MODEL_35e518d943bb4ab28316b26ef8a37b1b",
       "style": "IPY_MODEL_de49ca4d096d4611adbe2b7c853c35f5",
       "value": "<h1><font color=black>Secret Word:                          r e _</h1>"
      }
     },
     "eaf67a37aff340fdbbd948283de658fb": {
      "model_module": "@jupyter-widgets/controls",
      "model_module_version": "1.5.0",
      "model_name": "VBoxModel",
      "state": {
       "children": [
        "IPY_MODEL_48f7f92efab04e54a650e3f05cba3124"
       ],
       "layout": "IPY_MODEL_433606cb1cd2470d98148c0553e56466"
      }
     },
     "eb46973b8df245fe8f6e2b630496eda2": {
      "model_module": "@jupyter-widgets/controls",
      "model_module_version": "1.5.0",
      "model_name": "HTMLModel",
      "state": {
       "layout": "IPY_MODEL_8fec38327e0e4123aa43b7049148520b",
       "style": "IPY_MODEL_03b8dc77c6bc441880bdc268f2eff4d1",
       "value": "<h1><font color=black>Secret Word:                          _ _ _ _</h1>"
      }
     },
     "eb56021426e54cd1b44bb6d602cf2ce3": {
      "model_module": "@jupyter-widgets/base",
      "model_module_version": "1.2.0",
      "model_name": "LayoutModel",
      "state": {
       "width": "500px"
      }
     },
     "eb5f952285984ab7bc9d4d0764d023e6": {
      "model_module": "@jupyter-widgets/base",
      "model_module_version": "1.2.0",
      "model_name": "LayoutModel",
      "state": {
       "margin": "0px 0px 0px 70px"
      }
     },
     "eb8459acd6b64f2ebb10e6c680e05515": {
      "model_module": "@jupyter-widgets/controls",
      "model_module_version": "1.5.0",
      "model_name": "HTMLModel",
      "state": {
       "layout": "IPY_MODEL_901464465a0e4ca6985e3e8ec504ed7f",
       "style": "IPY_MODEL_02d215b4a5ee4aaaacce45566757624c",
       "value": "<h3>Player Result</h3>"
      }
     },
     "eb8a760cd0984feba4f61770c6dde261": {
      "model_module": "@jupyter-widgets/base",
      "model_module_version": "1.2.0",
      "model_name": "LayoutModel",
      "state": {
       "grid_template_areas": "\"header header header\"\n\"left-sidebar center center\"\n\"footer footer footer\"",
       "grid_template_columns": "1fr 2fr 1fr",
       "grid_template_rows": "1fr 3fr 1fr"
      }
     },
     "eb9d48e417c04f969e786bde1ae6ff91": {
      "model_module": "@jupyter-widgets/controls",
      "model_module_version": "1.5.0",
      "model_name": "HTMLModel",
      "state": {
       "layout": "IPY_MODEL_a456ce86459f43f4ad72db360e6c3839",
       "style": "IPY_MODEL_391f59d5dff5455d9bc897a221b30974",
       "value": "<h4>Wins: 0</h4>"
      }
     },
     "eba32d34598e484289e27a73f1b24017": {
      "model_module": "@jupyter-widgets/base",
      "model_module_version": "1.2.0",
      "model_name": "LayoutModel",
      "state": {}
     },
     "ebc88d65ee344507b7399e4258dc1c57": {
      "model_module": "@jupyter-widgets/controls",
      "model_module_version": "1.5.0",
      "model_name": "VBoxModel",
      "state": {
       "children": [
        "IPY_MODEL_4b570a9f694b4969a0195375b9933801",
        "IPY_MODEL_9a4f2f59460d418aa157dbbe1723e1de"
       ],
       "layout": "IPY_MODEL_e80763e8998f4a17b706f2bf8b869665"
      }
     },
     "ebdce4ed1de24b218f15fe59b25a4a3c": {
      "model_module": "@jupyter-widgets/controls",
      "model_module_version": "1.5.0",
      "model_name": "ButtonModel",
      "state": {
       "button_style": "warning",
       "description": "K",
       "disabled": true,
       "layout": "IPY_MODEL_3aa28db2de0c466c9d4a5d42a0f5053c",
       "style": "IPY_MODEL_5bfd05fa90f8482f986e1c3255604152"
      }
     },
     "ec1124d00b924734adbb5a422efc8f42": {
      "model_module": "@jupyter-widgets/controls",
      "model_module_version": "1.5.0",
      "model_name": "DescriptionStyleModel",
      "state": {
       "description_width": ""
      }
     },
     "ec24af71a93b4e58a102fb3f6028a1b0": {
      "model_module": "@jupyter-widgets/base",
      "model_module_version": "1.2.0",
      "model_name": "LayoutModel",
      "state": {
       "grid_area": "left-sidebar"
      }
     },
     "ec7aa52ccea44b90ae0e13f2c34b184b": {
      "model_module": "@jupyter-widgets/controls",
      "model_module_version": "1.5.0",
      "model_name": "DescriptionStyleModel",
      "state": {
       "description_width": ""
      }
     },
     "ec87d1290a9d459597efb9d0ee003135": {
      "model_module": "@jupyter-widgets/base",
      "model_module_version": "1.2.0",
      "model_name": "LayoutModel",
      "state": {
       "grid_template_areas": "\"header header header\"\n\"left-sidebar center center\"\n\"footer footer footer\"",
       "grid_template_columns": "1fr 2fr 1fr",
       "grid_template_rows": "1fr 3fr 1fr"
      }
     },
     "ec8c93df535e4ae18a1317fe5fb164cd": {
      "model_module": "@jupyter-widgets/controls",
      "model_module_version": "1.5.0",
      "model_name": "HTMLModel",
      "state": {
       "layout": "IPY_MODEL_6691432d0ced425d92ca855b7ebccd69",
       "style": "IPY_MODEL_6baecb57912f4f63b9034cb313695b1b",
       "value": "<h1><font color=green>Secret Word:                          red</h1>"
      }
     },
     "ecd04b961fa640a1bd5eedcca864aa35": {
      "model_module": "@jupyter-widgets/base",
      "model_module_version": "1.2.0",
      "model_name": "LayoutModel",
      "state": {
       "margin": "0px 0px 0px 70px"
      }
     },
     "ecd9bd61a7f24cca850662bdde5fe249": {
      "model_module": "@jupyter-widgets/base",
      "model_module_version": "1.2.0",
      "model_name": "LayoutModel",
      "state": {
       "grid_area": "left-sidebar"
      }
     },
     "ecf18c17b1aa4ad7bd3c0c8902b782ea": {
      "model_module": "@jupyter-widgets/controls",
      "model_module_version": "1.5.0",
      "model_name": "DescriptionStyleModel",
      "state": {
       "description_width": ""
      }
     },
     "ed06cd076dda4093bb11acab53cdaa7f": {
      "model_module": "@jupyter-widgets/base",
      "model_module_version": "1.2.0",
      "model_name": "LayoutModel",
      "state": {
       "height": "25px",
       "width": "33px"
      }
     },
     "ed155da4109c4b58af0235646d094133": {
      "model_module": "@jupyter-widgets/controls",
      "model_module_version": "1.5.0",
      "model_name": "ButtonStyleModel",
      "state": {}
     },
     "ed2cf11ed00247d6b8fadd6d9bbbb00c": {
      "model_module": "@jupyter-widgets/controls",
      "model_module_version": "1.5.0",
      "model_name": "ButtonModel",
      "state": {
       "button_style": "warning",
       "description": "X",
       "disabled": true,
       "layout": "IPY_MODEL_246d24b0aa1642ebbe5ad0bcd5671386",
       "style": "IPY_MODEL_63be3ed3176b416ab52fb77a4d89a472"
      }
     },
     "ed4a837010b74ceb977f5743c60ab00a": {
      "model_module": "@jupyter-widgets/base",
      "model_module_version": "1.2.0",
      "model_name": "LayoutModel",
      "state": {
       "margin": "0px 0px 0px 100px"
      }
     },
     "ed4f269c24a34b0a906cf2ed2ee1c911": {
      "model_module": "@jupyter-widgets/controls",
      "model_module_version": "1.5.0",
      "model_name": "DescriptionStyleModel",
      "state": {
       "description_width": ""
      }
     },
     "ed50661dad6c40fa92324aaa2a6c6905": {
      "model_module": "@jupyter-widgets/base",
      "model_module_version": "1.2.0",
      "model_name": "LayoutModel",
      "state": {
       "grid_area": "footer",
       "margin": "-60px 0px 0px 0px"
      }
     },
     "ed829bdc5ae4479f8ed7030e94701424": {
      "model_module": "@jupyter-widgets/controls",
      "model_module_version": "1.5.0",
      "model_name": "ButtonStyleModel",
      "state": {}
     },
     "edc31cb7507b4037879e8601c31c0371": {
      "model_module": "@jupyter-widgets/controls",
      "model_module_version": "1.5.0",
      "model_name": "HTMLModel",
      "state": {
       "layout": "IPY_MODEL_6643e05c12d940d6924f9128b0f912da",
       "style": "IPY_MODEL_f2e1e708b4bd436fb66602cc396db0eb",
       "value": "<h2><font color='black'>Remaining Guesses:                          -4</h2>"
      }
     },
     "edc351d482874d24a5fdc83f88fcd632": {
      "model_module": "@jupyter-widgets/controls",
      "model_module_version": "1.5.0",
      "model_name": "ButtonStyleModel",
      "state": {}
     },
     "eddaea535a834ca8a13d5108708aec5e": {
      "model_module": "@jupyter-widgets/controls",
      "model_module_version": "1.5.0",
      "model_name": "DescriptionStyleModel",
      "state": {
       "description_width": ""
      }
     },
     "ee16fc09122c4a25bcb56d1705fd4250": {
      "model_module": "@jupyter-widgets/base",
      "model_module_version": "1.2.0",
      "model_name": "LayoutModel",
      "state": {
       "grid_area": "center"
      }
     },
     "ee32686a33eb4d3bb77016406f7681ad": {
      "model_module": "@jupyter-widgets/base",
      "model_module_version": "1.2.0",
      "model_name": "LayoutModel",
      "state": {
       "height": "25px",
       "width": "33px"
      }
     },
     "ee45aae2ddc442f6abe46bb9dbfb6820": {
      "model_module": "@jupyter-widgets/controls",
      "model_module_version": "1.5.0",
      "model_name": "ButtonStyleModel",
      "state": {}
     },
     "ee9e366e4cb741748432aaf7599b78eb": {
      "model_module": "@jupyter-widgets/controls",
      "model_module_version": "1.5.0",
      "model_name": "VBoxModel",
      "state": {
       "children": [
        "IPY_MODEL_48f7f92efab04e54a650e3f05cba3124"
       ],
       "layout": "IPY_MODEL_4adcdb42d4004702b2127170fcd5a963"
      }
     },
     "eea6ad5e1e3d4e09ad2e7df33c6666fc": {
      "model_module": "@jupyter-widgets/controls",
      "model_module_version": "1.5.0",
      "model_name": "VBoxModel",
      "state": {
       "children": [
        "IPY_MODEL_e9884037b34d4c688259e0b3f4f57eca",
        "IPY_MODEL_128774108380416a858ac889dfa669ba",
        "IPY_MODEL_b20f6474b1bd4b23939d144ac6af213e"
       ],
       "layout": "IPY_MODEL_71036008146143c4835fb0c0522cd920"
      }
     },
     "eeaba777d6d4483ba09ec1f90d88327b": {
      "model_module": "@jupyter-widgets/base",
      "model_module_version": "1.2.0",
      "model_name": "LayoutModel",
      "state": {
       "height": "25px",
       "width": "33px"
      }
     },
     "eeacc4e6041247d5a177acafb04b4d12": {
      "model_module": "@jupyter-widgets/base",
      "model_module_version": "1.2.0",
      "model_name": "LayoutModel",
      "state": {
       "grid_area": "footer",
       "margin": "-60px 0px 0px 0px"
      }
     },
     "eeb6159448994956ac6b6cb41fab747e": {
      "model_module": "@jupyter-widgets/controls",
      "model_module_version": "1.5.0",
      "model_name": "HTMLModel",
      "state": {
       "layout": "IPY_MODEL_f95ffa1886d24f6e8142bdbfd82fc0c1",
       "style": "IPY_MODEL_c76342fc7bca4d06a73b739a2fbe2436",
       "value": "<h1><font color='blue'> You Lose </h1>"
      }
     },
     "eeeabe7a6ab545e0927e389f145a0bb3": {
      "model_module": "@jupyter-widgets/controls",
      "model_module_version": "1.5.0",
      "model_name": "ButtonModel",
      "state": {
       "button_style": "warning",
       "description": "W",
       "layout": "IPY_MODEL_0fc3796d22984364b3e1caf4ac1872bf",
       "style": "IPY_MODEL_d340a727a1bc40f0bca87a32eee565d6",
       "tooltip": "Click to guess W."
      }
     },
     "eef808f0505c48e48553eeb051fc1436": {
      "model_module": "@jupyter-widgets/base",
      "model_module_version": "1.2.0",
      "model_name": "LayoutModel",
      "state": {
       "margin": "0px 0px 0px 100px"
      }
     },
     "ef09597b59ee4f23b1b64b715d44860c": {
      "model_module": "@jupyter-widgets/controls",
      "model_module_version": "1.5.0",
      "model_name": "ButtonModel",
      "state": {
       "button_style": "warning",
       "description": "H",
       "disabled": true,
       "layout": "IPY_MODEL_1f7f7d80457b40f284024322d177e7ba",
       "style": "IPY_MODEL_fc4f1fd7c893496db4dc0dbd897d340a"
      }
     },
     "ef215d881c81496b937bf36072cf8092": {
      "model_module": "@jupyter-widgets/base",
      "model_module_version": "1.2.0",
      "model_name": "LayoutModel",
      "state": {
       "margin": "0px 0px 0px 100px"
      }
     },
     "ef224829aa5746e1972d38cd3cde311d": {
      "model_module": "@jupyter-widgets/base",
      "model_module_version": "1.2.0",
      "model_name": "LayoutModel",
      "state": {}
     },
     "ef4da1cb8263443da477370b0cd6ca83": {
      "model_module": "@jupyter-widgets/controls",
      "model_module_version": "1.5.0",
      "model_name": "HBoxModel",
      "state": {
       "children": [
        "IPY_MODEL_b3a2d0bfbc05483c86cfd49c7ab13bd7",
        "IPY_MODEL_d691494dcf4444bba867b86025d55345"
       ],
       "layout": "IPY_MODEL_6680ed7e1f7340328dc6b3d90c73a1fd"
      }
     },
     "ef53c2159455432ea80e099c0fe7c960": {
      "model_module": "@jupyter-widgets/controls",
      "model_module_version": "1.5.0",
      "model_name": "ButtonStyleModel",
      "state": {}
     },
     "ef8a309f9dcb40f0898dfa434f8c85a7": {
      "model_module": "@jupyter-widgets/controls",
      "model_module_version": "1.5.0",
      "model_name": "DescriptionStyleModel",
      "state": {
       "description_width": ""
      }
     },
     "efb9296ab3d24cbaa858b0c76e2b2f48": {
      "model_module": "@jupyter-widgets/base",
      "model_module_version": "1.2.0",
      "model_name": "LayoutModel",
      "state": {
       "width": "500px"
      }
     },
     "efbefe3f0ed143e288253e7ca0754f50": {
      "model_module": "@jupyter-widgets/controls",
      "model_module_version": "1.5.0",
      "model_name": "DescriptionStyleModel",
      "state": {
       "description_width": ""
      }
     },
     "efc686ea49fd4d81b57fb1381d0a6909": {
      "model_module": "@jupyter-widgets/base",
      "model_module_version": "1.2.0",
      "model_name": "LayoutModel",
      "state": {
       "height": "25px",
       "width": "33px"
      }
     },
     "efd3b8682ef54cccaf657b15a03195af": {
      "model_module": "@jupyter-widgets/controls",
      "model_module_version": "1.5.0",
      "model_name": "DescriptionStyleModel",
      "state": {
       "description_width": ""
      }
     },
     "efee04b4432c480bb7c43761511cb1ab": {
      "model_module": "@jupyter-widgets/controls",
      "model_module_version": "1.5.0",
      "model_name": "HTMLModel",
      "state": {
       "layout": "IPY_MODEL_de9640d92302486fb9b44d6ff58e4043",
       "style": "IPY_MODEL_668e87e2864d42a2997f589495e3a597",
       "value": "<h3>Click on a letter below to guess the word.</h3>"
      }
     },
     "eff0224d3f864d538b7c46285c1b5c94": {
      "model_module": "@jupyter-widgets/base",
      "model_module_version": "1.2.0",
      "model_name": "LayoutModel",
      "state": {
       "height": "25px",
       "width": "33px"
      }
     },
     "eff36e046c84457d91ebfa2b4191d398": {
      "model_module": "@jupyter-widgets/controls",
      "model_module_version": "1.5.0",
      "model_name": "HTMLModel",
      "state": {
       "layout": "IPY_MODEL_08b91e94d5fe4db28dc53562a42a1e0d",
       "style": "IPY_MODEL_8b46b895930b43c48d6097e635294e09",
       "value": "<h4>Wins: 2</h4>"
      }
     },
     "f00444081b214f69b3b637505de43d35": {
      "model_module": "@jupyter-widgets/controls",
      "model_module_version": "1.5.0",
      "model_name": "ButtonModel",
      "state": {
       "button_style": "warning",
       "description": "H",
       "disabled": true,
       "layout": "IPY_MODEL_d5674e4f62044424af93f71ed0c9a614",
       "style": "IPY_MODEL_96c2407570604f87817b532250b55398"
      }
     },
     "f017a6e634e24e83a1e87987bf055a81": {
      "model_module": "@jupyter-widgets/base",
      "model_module_version": "1.2.0",
      "model_name": "LayoutModel",
      "state": {
       "height": "25px",
       "width": "33px"
      }
     },
     "f025efa9dfa946c5ad395ea111b41a35": {
      "model_module": "@jupyter-widgets/controls",
      "model_module_version": "1.5.0",
      "model_name": "ButtonModel",
      "state": {
       "button_style": "warning",
       "description": "O",
       "disabled": true,
       "layout": "IPY_MODEL_7daac67002ab4dc6a26451f3b00679ef",
       "style": "IPY_MODEL_2d3b3dce33ca417b8de20ab58860b2d3"
      }
     },
     "f028a7422d4844baabcd4c8087b6f7fa": {
      "model_module": "@jupyter-widgets/controls",
      "model_module_version": "1.5.0",
      "model_name": "ButtonStyleModel",
      "state": {}
     },
     "f03e73e91f764d8f8abd2d24af4991c9": {
      "model_module": "@jupyter-widgets/controls",
      "model_module_version": "1.5.0",
      "model_name": "ButtonModel",
      "state": {
       "button_style": "warning",
       "description": "N",
       "layout": "IPY_MODEL_c9a8a638ce124d8e8b8bb5986866a334",
       "style": "IPY_MODEL_603055caa1ce4fd9b80fae9f9ac66f76",
       "tooltip": "Click to guess N."
      }
     },
     "f041031ac9de4e82b53259c9e29d888b": {
      "model_module": "@jupyter-widgets/controls",
      "model_module_version": "1.5.0",
      "model_name": "VBoxModel",
      "state": {
       "children": [
        "IPY_MODEL_b2942515f07d4e90978be1096b50eef8",
        "IPY_MODEL_d1fcd96f72ea40bc85f76a1db29b7e3e",
        "IPY_MODEL_e5074352f4744899b1c57faaf5029e8f"
       ],
       "layout": "IPY_MODEL_bbdf42aa1d694ca6bdadd9a045a59d71"
      }
     },
     "f075b0389f02435297bb35b3b62c1850": {
      "model_module": "@jupyter-widgets/controls",
      "model_module_version": "1.5.0",
      "model_name": "ButtonStyleModel",
      "state": {}
     },
     "f089e6adebc64b50a6b1256ed4ef5e51": {
      "model_module": "@jupyter-widgets/controls",
      "model_module_version": "1.5.0",
      "model_name": "ButtonModel",
      "state": {
       "button_style": "warning",
       "description": "N",
       "disabled": true,
       "layout": "IPY_MODEL_d0e0aca6185447b3aef9702379fb4dea",
       "style": "IPY_MODEL_5e091f7e92474346b604cd03a16b4fea"
      }
     },
     "f0a2a10b96ae486abba681fcaaa29c75": {
      "model_module": "@jupyter-widgets/base",
      "model_module_version": "1.2.0",
      "model_name": "LayoutModel",
      "state": {}
     },
     "f0bfcce0e6044b51bb8c1dbd3a93cba6": {
      "buffers": [
       {
        "data": "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",
        "encoding": "base64",
        "path": [
         "value"
        ]
       }
      ],
      "model_module": "@jupyter-widgets/controls",
      "model_module_version": "1.5.0",
      "model_name": "ImageModel",
      "state": {
       "layout": "IPY_MODEL_698d6385de024234bbcb0e689ef59f4d",
       "value": {}
      }
     },
     "f0cc18df55504b38902a32cc26bab5e3": {
      "buffers": [
       {
        "data": "iVBORw0KGgoAAAANSUhEUgAAATQAAAE0CAIAAAAt41jIAAAEvUlEQVR4nO3d0W6iUBRAUZ30/3+ZeZjEsYqAArJb13pqDRJisnNQkXs6AQAAwD7O1/8Mw3DUcQCn0+l8/p/knwOPA5ggTogSJ0SJE6LECVHihChxQpQ4IUqcECVOiBInRIkTosQJUeKEKHFClDghSpwQJU6IEidEiROixAlR4oQocUKUOCFKnBAlTogSJ0SJE6LECVHihChxQpQ4IUqcECVOiPo6+gB+j+sFw9nWMAxHH8IBTM5tKHNXn/nyihOinNZu7DNPwPbzmTPzH5MTosQJUeKEKHFClDghSpwQJU6IEidEiROixAlR4oQocUKUOCFKnBAlTogSJ0SJE6LcCWGV+9/pXx5xSwRWEucrltw7Q6WsJM7n3GQ5Ed5ly39/SJRniXOp5VlebyBRXibOec9meb+xRHmBT2tnXJc5DMNrXd088ZNv98hy4pxyU+bKvemTp4jzoW3LvN+PPpkmznnbvkX0hpOFxDlu128pL/s0PJkgzin7TTnzk1niHPHOgWZ48og4H9p7uBmeTBPnrfePMsOTUeIc956xZngyQZwQJc5v3n/t683Ft3AhTogSJ0SJE6LECVHihChxQpQ4IUqcECXOb95/SYBbfvGIOCFKnOPeMzxdtccEcd56/xmmc1pGifOhvceasck0cY54/69S4J44p+w33IxNZolz3K53r7Q6IEuIc962fZqZLCTOh/ZYOmGPJR74rcQ5Zds+lclTxDnjps/XEr15ojJZwuK589YsgLtm4V0+nDiXejZRWbKSOJ8zmuiSp8CzxPmKJd+CapKVxLmKAtmPT2shSpwQJU6IEidEiROixAlR4oQocUKUOCFKnBAlTogSJ0SJE6LECVHihChxQpQ4IUqcECVOiBInRIkTosQJUeKEKHFClDghSpwQJU6IEidEiROixAlR4oQocUKUOCFKnBAlTogSJ0SJE6LECVHihChxQpQ4IUqcECVOiBInRIkTosQJUeKEKHFClDghSpwQJU6IEidEiROixAlR4oQocUKUOCFKnBAlTogSJ0SJE6LECVHihChxQpQ4IUqcECVOiBInRIkTosQJUeKEKHFClDghSpwQJU6IEidEiROixAlR4oQocUKUOCFKnBAlTogSJ0SJE6LECVHihChxQpQ4IUqcECVOiBInRIkTosQJUeKEKHFClDghSpwQJU6IEidEiROixAlR4oQocUKUOCFKnBAlTogSJ0SJE6LECVHihChxQpQ4IUqcECVOiBInRIkTosQJUeKEKHFClDghSpwQJU6IEidEiROixAlR4oQocUKUOCFKnBAlTogSJ0SJE6LECVHihChxQpQ4IUqcECVOiBInRIkTosQJUeKEKHFClDghSpwQJU6IEidEiROixAlR4oQocUKUOCFKnBAlTogSJ0SJE6LECVHihChxQpQ4IUqcECVOiBInRIkTosQJUeKEKHFClDghSpwQJU6IEidEiROixAlR4oQocUKUOCHq6+gDYN75fD76EI7XfxGGYdh2hyYnRIkTopzW/gCbny/xI5icECVOiBInRIkTosQJUeKEKHFClDghSpwQJU6IEidEiROixAlR4oQocUKUOCFKnBAlTogSJ0SJE6LECQAAAPBh/gLkBrZ9QrhuSAAAAABJRU5ErkJggg==",
        "encoding": "base64",
        "path": [
         "value"
        ]
       }
      ],
      "model_module": "@jupyter-widgets/controls",
      "model_module_version": "1.5.0",
      "model_name": "ImageModel",
      "state": {
       "layout": "IPY_MODEL_fdefcfa095d547949a39e81b19e5e309"
      }
     },
     "f0d98a5b40ce4580bb959da8bb035be0": {
      "model_module": "@jupyter-widgets/controls",
      "model_module_version": "1.5.0",
      "model_name": "DescriptionStyleModel",
      "state": {
       "description_width": ""
      }
     },
     "f0ea3fd6cd724ed88178f2bdd5de2713": {
      "model_module": "@jupyter-widgets/controls",
      "model_module_version": "1.5.0",
      "model_name": "ButtonModel",
      "state": {
       "button_style": "warning",
       "description": "J",
       "disabled": true,
       "layout": "IPY_MODEL_0163582e0049483f9ef7194466187af6",
       "style": "IPY_MODEL_c718bff50bca4516bf3f0be3aa2c9324"
      }
     },
     "f123154324be44d78152eec77f2cd04f": {
      "model_module": "@jupyter-widgets/base",
      "model_module_version": "1.2.0",
      "model_name": "LayoutModel",
      "state": {
       "margin": "0px 0px 0px 70px"
      }
     },
     "f1250cbf6b2d4ecbb9d17c2836f301ae": {
      "model_module": "@jupyter-widgets/controls",
      "model_module_version": "1.5.0",
      "model_name": "ButtonStyleModel",
      "state": {}
     },
     "f158b69242e542c282836df64e695205": {
      "model_module": "@jupyter-widgets/controls",
      "model_module_version": "1.5.0",
      "model_name": "DescriptionStyleModel",
      "state": {
       "description_width": ""
      }
     },
     "f1682114dbdb468b8cd31abcc015e46a": {
      "model_module": "@jupyter-widgets/base",
      "model_module_version": "1.2.0",
      "model_name": "LayoutModel",
      "state": {
       "height": "25px",
       "width": "33px"
      }
     },
     "f18b9006bcce4078a2da975d11a0fd02": {
      "model_module": "@jupyter-widgets/controls",
      "model_module_version": "1.5.0",
      "model_name": "ButtonModel",
      "state": {
       "button_style": "warning",
       "description": "R",
       "layout": "IPY_MODEL_7a4f541d18894d79a2e1de10e3eb5e87",
       "style": "IPY_MODEL_fc2327d74faf45a294ba5fae423d5b4a",
       "tooltip": "Click to guess R."
      }
     },
     "f18d84d5af674a49a8ea0d88db807c89": {
      "model_module": "@jupyter-widgets/controls",
      "model_module_version": "1.5.0",
      "model_name": "DescriptionStyleModel",
      "state": {
       "description_width": ""
      }
     },
     "f1a3ec7f69e94f0d9a45a22905810a99": {
      "model_module": "@jupyter-widgets/base",
      "model_module_version": "1.2.0",
      "model_name": "LayoutModel",
      "state": {
       "margin": "20px 0px 0px 20px"
      }
     },
     "f1d09bbea57847ff86be9354de5ebcef": {
      "model_module": "@jupyter-widgets/controls",
      "model_module_version": "1.5.0",
      "model_name": "HTMLModel",
      "state": {
       "layout": "IPY_MODEL_508189eebb3f420b8b2e650d615fee1b",
       "style": "IPY_MODEL_6517041c88ea439c8ec19b469f774374",
       "value": "<h2><font color='black'>Remaining Guesses:                          6</h2>"
      }
     },
     "f1d6220c705b4699be635195c4111971": {
      "model_module": "@jupyter-widgets/base",
      "model_module_version": "1.2.0",
      "model_name": "LayoutModel",
      "state": {
       "height": "auto"
      }
     },
     "f1e7d62d1683484c943ad10c27cd062d": {
      "model_module": "@jupyter-widgets/controls",
      "model_module_version": "1.5.0",
      "model_name": "ButtonStyleModel",
      "state": {}
     },
     "f1f4c9cf4f3d4112be958c8b4162984a": {
      "model_module": "@jupyter-widgets/controls",
      "model_module_version": "1.5.0",
      "model_name": "ButtonStyleModel",
      "state": {}
     },
     "f2021ad65df448efa162551106f8cdb7": {
      "model_module": "@jupyter-widgets/controls",
      "model_module_version": "1.5.0",
      "model_name": "ButtonStyleModel",
      "state": {}
     },
     "f20c59612511468da3bd103c4fe35a07": {
      "model_module": "@jupyter-widgets/base",
      "model_module_version": "1.2.0",
      "model_name": "LayoutModel",
      "state": {
       "height": "25px",
       "width": "33px"
      }
     },
     "f216cbd4e74e41e4b46f7fa8598634c8": {
      "model_module": "@jupyter-widgets/base",
      "model_module_version": "1.2.0",
      "model_name": "LayoutModel",
      "state": {
       "margin": "0px 0px 0px 100px"
      }
     },
     "f22ce78e786346e49b4f37883cfd09d5": {
      "model_module": "@jupyter-widgets/base",
      "model_module_version": "1.2.0",
      "model_name": "LayoutModel",
      "state": {
       "grid_area": "footer",
       "margin": "-60px 0px 0px 0px"
      }
     },
     "f26ef18dfbda468198b5b916b2b4e1dd": {
      "model_module": "@jupyter-widgets/base",
      "model_module_version": "1.2.0",
      "model_name": "LayoutModel",
      "state": {
       "width": "500px"
      }
     },
     "f2712eac449849f78c3b20a1c8981eca": {
      "model_module": "@jupyter-widgets/base",
      "model_module_version": "1.2.0",
      "model_name": "LayoutModel",
      "state": {
       "height": "25px",
       "width": "33px"
      }
     },
     "f27d3824a5754004ae258e633c040688": {
      "model_module": "@jupyter-widgets/base",
      "model_module_version": "1.2.0",
      "model_name": "LayoutModel",
      "state": {
       "width": "500px"
      }
     },
     "f2aa74b864134dcfbd1a449268ec7b22": {
      "model_module": "@jupyter-widgets/controls",
      "model_module_version": "1.5.0",
      "model_name": "HTMLModel",
      "state": {
       "layout": "IPY_MODEL_3f46f6dac8734036a294e5c7035d7161",
       "style": "IPY_MODEL_048b760ce3224b6a9d7544c95916e7f0",
       "value": "<h1><font color=black>Secret Word:                          _ _ _ _ e</h1>"
      }
     },
     "f2b13609e7904e72b3759fba6a691ea0": {
      "model_module": "@jupyter-widgets/controls",
      "model_module_version": "1.5.0",
      "model_name": "ButtonStyleModel",
      "state": {}
     },
     "f2e1e708b4bd436fb66602cc396db0eb": {
      "model_module": "@jupyter-widgets/controls",
      "model_module_version": "1.5.0",
      "model_name": "DescriptionStyleModel",
      "state": {
       "description_width": ""
      }
     },
     "f2ea513f072d43e0b474a2de682d1245": {
      "model_module": "@jupyter-widgets/controls",
      "model_module_version": "1.5.0",
      "model_name": "HTMLModel",
      "state": {
       "layout": "IPY_MODEL_8814b8c07df84502b977b1ebb6c78013",
       "style": "IPY_MODEL_3b838708114f4579815563da1b6bcfdd",
       "value": "<h3>Click on a letter below to guess the word.</h3>"
      }
     },
     "f30d55f4dbee4927affcbee627b67f36": {
      "model_module": "@jupyter-widgets/controls",
      "model_module_version": "1.5.0",
      "model_name": "ButtonModel",
      "state": {
       "button_style": "warning",
       "description": "M",
       "disabled": true,
       "layout": "IPY_MODEL_dd4203a4dc554b7fb2768b0bc343a3b9",
       "style": "IPY_MODEL_71a445a2d0014b97951f0956b88066d0"
      }
     },
     "f3323e9a812f4a1f9fe8fcd9d4530a5e": {
      "model_module": "@jupyter-widgets/base",
      "model_module_version": "1.2.0",
      "model_name": "LayoutModel",
      "state": {
       "width": "500px"
      }
     },
     "f338ea7e3d8945d2888cc985e9da939b": {
      "model_module": "@jupyter-widgets/controls",
      "model_module_version": "1.5.0",
      "model_name": "VBoxModel",
      "state": {
       "children": [
        "IPY_MODEL_7780c2bb4e224f59ba051667345c5457",
        "IPY_MODEL_146015a18d9f43c0a5cb78e1951bc829",
        "IPY_MODEL_c56e879244014266a7f437ff8dd2bf7f"
       ],
       "layout": "IPY_MODEL_69c9da0c589149d59ae0435420b855ad"
      }
     },
     "f34390122ada4750b9fdf9ed84fa9879": {
      "model_module": "@jupyter-widgets/controls",
      "model_module_version": "1.5.0",
      "model_name": "HBoxModel",
      "state": {
       "children": [
        "IPY_MODEL_6363087c1ec542ce80431960cf6c0694",
        "IPY_MODEL_3eba32f95f804aaf818e929d15d7ffb7"
       ],
       "layout": "IPY_MODEL_85bcacd7cfa54f7c8398e19a0d05c7dd"
      }
     },
     "f3476d4bcbe34a3ba444cd7e16f85ff6": {
      "model_module": "@jupyter-widgets/controls",
      "model_module_version": "1.5.0",
      "model_name": "ButtonStyleModel",
      "state": {}
     },
     "f36dedb3a72c4fc797f1ee44121ac1cf": {
      "model_module": "@jupyter-widgets/controls",
      "model_module_version": "1.5.0",
      "model_name": "DescriptionStyleModel",
      "state": {
       "description_width": ""
      }
     },
     "f3ad378aa3aa4e25bda4e904db91739f": {
      "model_module": "@jupyter-widgets/controls",
      "model_module_version": "1.5.0",
      "model_name": "HTMLModel",
      "state": {
       "layout": "IPY_MODEL_ae58f65c673b4c25a8567b38d4895f1c",
       "style": "IPY_MODEL_da052aba02f24777928faf0d424a7dd1",
       "value": "<h4>Games: 0</h4>"
      }
     },
     "f3f5da37b9974cb996f1b494d85783da": {
      "model_module": "@jupyter-widgets/controls",
      "model_module_version": "1.5.0",
      "model_name": "GridBoxModel",
      "state": {
       "children": [
        "IPY_MODEL_cbba5ff06e244a5cbd4629622ca52bce",
        "IPY_MODEL_c875d50346d7447dad95802301fea224",
        "IPY_MODEL_7a2f4e0867f8496daedda81dfabda8ec",
        "IPY_MODEL_8ab00abd911d45b9ac4e585a32292c41"
       ],
       "layout": "IPY_MODEL_0388dfa492f54da3b63a406767ee65d3"
      }
     },
     "f3fc6eefa5084e768ca828ecafa3a4ee": {
      "model_module": "@jupyter-widgets/controls",
      "model_module_version": "1.5.0",
      "model_name": "HTMLModel",
      "state": {
       "layout": "IPY_MODEL_2ce348673e1d44228248b0907f6313c3",
       "style": "IPY_MODEL_0625284edea64bf2be65495ddce926ac",
       "value": "<h3>Click on a letter below to guess the word.</h3>"
      }
     },
     "f405fb15890c429aa3fadb4fbd72841f": {
      "model_module": "@jupyter-widgets/controls",
      "model_module_version": "1.5.0",
      "model_name": "DescriptionStyleModel",
      "state": {
       "description_width": ""
      }
     },
     "f420a4dd82d6409c817f2a6ed04ef2c3": {
      "model_module": "@jupyter-widgets/controls",
      "model_module_version": "1.5.0",
      "model_name": "GridBoxModel",
      "state": {
       "children": [
        "IPY_MODEL_376ddd6aa43849b5ab973abb230c909c",
        "IPY_MODEL_e70f0c472e5a435baf748efc6ca83cab",
        "IPY_MODEL_68afcfb73159423bb7ea2479629bda7c",
        "IPY_MODEL_a9a9d6c97ac04eddb1e4b3495abb5a3a"
       ],
       "layout": "IPY_MODEL_8042b0b3388344e2b31bf3a1f464b969"
      }
     },
     "f4245a09d8894057a6be22f102e835bb": {
      "model_module": "@jupyter-widgets/base",
      "model_module_version": "1.2.0",
      "model_name": "LayoutModel",
      "state": {
       "margin": "0px 0px 0px 100px"
      }
     },
     "f45fef93b1fc440692b9d96c92be3270": {
      "model_module": "@jupyter-widgets/base",
      "model_module_version": "1.2.0",
      "model_name": "LayoutModel",
      "state": {
       "grid_area": "footer",
       "margin": "-60px 0px 0px 0px"
      }
     },
     "f47db670ecdf43e8b76db9eafda606fa": {
      "model_module": "@jupyter-widgets/controls",
      "model_module_version": "1.5.0",
      "model_name": "ButtonStyleModel",
      "state": {}
     },
     "f485d185da8245a68e52295ba53d2059": {
      "model_module": "@jupyter-widgets/base",
      "model_module_version": "1.2.0",
      "model_name": "LayoutModel",
      "state": {
       "grid_area": "center"
      }
     },
     "f5137fa98e45425e9a45fc4d1616f38c": {
      "model_module": "@jupyter-widgets/base",
      "model_module_version": "1.2.0",
      "model_name": "LayoutModel",
      "state": {
       "height": "25px",
       "width": "33px"
      }
     },
     "f53b9cc576634eeb9a64c117ea0217e4": {
      "model_module": "@jupyter-widgets/controls",
      "model_module_version": "1.5.0",
      "model_name": "DescriptionStyleModel",
      "state": {
       "description_width": ""
      }
     },
     "f552c1683668467cb27e3d16f1202320": {
      "model_module": "@jupyter-widgets/controls",
      "model_module_version": "1.5.0",
      "model_name": "DescriptionStyleModel",
      "state": {
       "description_width": ""
      }
     },
     "f56637b8717a417e90e5c8b1f52d8b64": {
      "model_module": "@jupyter-widgets/controls",
      "model_module_version": "1.5.0",
      "model_name": "ButtonStyleModel",
      "state": {}
     },
     "f594eb98f3f74261b786a4d902c0ec52": {
      "model_module": "@jupyter-widgets/base",
      "model_module_version": "1.2.0",
      "model_name": "LayoutModel",
      "state": {
       "height": "25px",
       "width": "33px"
      }
     },
     "f59fdb15f37e4e448ffb9b84d85823b9": {
      "model_module": "@jupyter-widgets/controls",
      "model_module_version": "1.5.0",
      "model_name": "ButtonModel",
      "state": {
       "button_style": "warning",
       "description": "Q",
       "disabled": true,
       "layout": "IPY_MODEL_e5976dfeee634886aedb2b5d771b0068",
       "style": "IPY_MODEL_c8824b5381fa4cd1b6c3e113109f20dd"
      }
     },
     "f5bece8fa0924dbca616a0027cddaf94": {
      "model_module": "@jupyter-widgets/controls",
      "model_module_version": "1.5.0",
      "model_name": "ButtonModel",
      "state": {
       "button_style": "warning",
       "description": "F",
       "layout": "IPY_MODEL_89114446d2fb492892c2780f0158090e",
       "style": "IPY_MODEL_b791a0e5471c4c52b1ff8750af43d3c3",
       "tooltip": "Click to guess F."
      }
     },
     "f5d2feaef1554c31bf43926ff9661084": {
      "model_module": "@jupyter-widgets/controls",
      "model_module_version": "1.5.0",
      "model_name": "ButtonStyleModel",
      "state": {}
     },
     "f5f5260eb6a445d5830cd58504dccb55": {
      "model_module": "@jupyter-widgets/controls",
      "model_module_version": "1.5.0",
      "model_name": "HTMLModel",
      "state": {
       "layout": "IPY_MODEL_e17c9cbcdadf4e1baed03bda2ecf175b",
       "style": "IPY_MODEL_17cfea29c27344899219e3427d273ff7",
       "value": "<h2><font color='black'>Remaining Guesses:                          5</h2>"
      }
     },
     "f5fe60c822d441bfbf30ea47d341ba93": {
      "model_module": "@jupyter-widgets/controls",
      "model_module_version": "1.5.0",
      "model_name": "HTMLModel",
      "state": {
       "layout": "IPY_MODEL_347b4e1104d349df81066cbfaeedba16",
       "style": "IPY_MODEL_6e2027d0c8934369afad6f85c658e1c1",
       "value": "<h1><font color=black>Secret Word:                          _ _ _ _</h1>"
      }
     },
     "f60c8d25cfe74cb5997fd823c526f879": {
      "model_module": "@jupyter-widgets/base",
      "model_module_version": "1.2.0",
      "model_name": "LayoutModel",
      "state": {
       "height": "25px",
       "width": "33px"
      }
     },
     "f642a38abbf540f099cbe414ea8fd92f": {
      "model_module": "@jupyter-widgets/controls",
      "model_module_version": "1.5.0",
      "model_name": "ButtonModel",
      "state": {
       "button_style": "warning",
       "description": "W",
       "disabled": true,
       "layout": "IPY_MODEL_1cdaaf9d13a6404296163672be083cd0",
       "style": "IPY_MODEL_04ad4d0d3e6741b4a550d9a4947bf5f4"
      }
     },
     "f654f259de4a45d18042434c0c6b24a9": {
      "model_module": "@jupyter-widgets/controls",
      "model_module_version": "1.5.0",
      "model_name": "ButtonModel",
      "state": {
       "button_style": "warning",
       "description": "I",
       "disabled": true,
       "layout": "IPY_MODEL_b5fa39f20b4b4fa8a831f44db9183e97",
       "style": "IPY_MODEL_cf9bfd52097b4689b16e0c6bc77b4f73"
      }
     },
     "f65b6e70d40f49a6a29e5b257e8ebd31": {
      "model_module": "@jupyter-widgets/controls",
      "model_module_version": "1.5.0",
      "model_name": "ButtonModel",
      "state": {
       "button_style": "warning",
       "description": "D",
       "disabled": true,
       "layout": "IPY_MODEL_40347070519f4ac2b41ae105bba00602",
       "style": "IPY_MODEL_acd4f606696c4c64b5d3f4f1a8a4d46b"
      }
     },
     "f661b976292749e8a7c4fe374e525008": {
      "model_module": "@jupyter-widgets/controls",
      "model_module_version": "1.5.0",
      "model_name": "ButtonStyleModel",
      "state": {}
     },
     "f681c61db2664253833d4149365edd05": {
      "model_module": "@jupyter-widgets/base",
      "model_module_version": "1.2.0",
      "model_name": "LayoutModel",
      "state": {
       "height": "25px",
       "width": "33px"
      }
     },
     "f682ff26678e483286720edcf2d71b76": {
      "model_module": "@jupyter-widgets/base",
      "model_module_version": "1.2.0",
      "model_name": "LayoutModel",
      "state": {
       "margin": "0px 0px 0px 100px"
      }
     },
     "f6a184cd29894e4f8cdca2f98ba7d1d7": {
      "model_module": "@jupyter-widgets/controls",
      "model_module_version": "1.5.0",
      "model_name": "DescriptionStyleModel",
      "state": {
       "description_width": ""
      }
     },
     "f6c56982aa494d1ca20890ad78b0cf67": {
      "model_module": "@jupyter-widgets/controls",
      "model_module_version": "1.5.0",
      "model_name": "ButtonStyleModel",
      "state": {}
     },
     "f6d7719ae85e4ab2aef46a2363fd43f0": {
      "model_module": "@jupyter-widgets/controls",
      "model_module_version": "1.5.0",
      "model_name": "DescriptionStyleModel",
      "state": {
       "description_width": ""
      }
     },
     "f6eec23922654890a34b5281ab93e4e4": {
      "model_module": "@jupyter-widgets/controls",
      "model_module_version": "1.5.0",
      "model_name": "DescriptionStyleModel",
      "state": {
       "description_width": ""
      }
     },
     "f71f4eb27e6b4954b2163f47cf2da042": {
      "model_module": "@jupyter-widgets/controls",
      "model_module_version": "1.5.0",
      "model_name": "VBoxModel",
      "state": {
       "children": [
        "IPY_MODEL_e7551e5f941c499f97ddb2b6f67e07f4",
        "IPY_MODEL_c8297c742f1c4ec7a0e744acc8166211",
        "IPY_MODEL_6c05306ecb03463fa166aceac3533e48"
       ],
       "layout": "IPY_MODEL_055300c019f94d9d8c6fa73c289c924a"
      }
     },
     "f731e0b14a9c4460b91be1d33189f340": {
      "model_module": "@jupyter-widgets/controls",
      "model_module_version": "1.5.0",
      "model_name": "ButtonModel",
      "state": {
       "button_style": "warning",
       "description": "H",
       "layout": "IPY_MODEL_31e9476038ff4573988f792229a249a5",
       "style": "IPY_MODEL_58717eaf11fe47b1b3118e69c6a40098",
       "tooltip": "Click to guess H."
      }
     },
     "f7739d5383a545ecb492481b566b247d": {
      "model_module": "@jupyter-widgets/base",
      "model_module_version": "1.2.0",
      "model_name": "LayoutModel",
      "state": {}
     },
     "f77600e9b9e744499ecee1cfe5416031": {
      "model_module": "@jupyter-widgets/controls",
      "model_module_version": "1.5.0",
      "model_name": "ButtonModel",
      "state": {
       "button_style": "warning",
       "description": "V",
       "layout": "IPY_MODEL_0620e5faa423412d80d0963cdff5617c",
       "style": "IPY_MODEL_77eb34fd409a4069bf78c82e7ac6b291",
       "tooltip": "Click to guess V."
      }
     },
     "f776d212e63b4f9b84a534d5d41c2a39": {
      "model_module": "@jupyter-widgets/base",
      "model_module_version": "1.2.0",
      "model_name": "LayoutModel",
      "state": {
       "height": "25px",
       "width": "33px"
      }
     },
     "f77b0d1529274e098d3bc3eaa2ebf1ca": {
      "model_module": "@jupyter-widgets/base",
      "model_module_version": "1.2.0",
      "model_name": "LayoutModel",
      "state": {
       "margin": "0px 0px 0px 100px"
      }
     },
     "f77c3a21da834e7f87b92f5ffd4470ed": {
      "model_module": "@jupyter-widgets/controls",
      "model_module_version": "1.5.0",
      "model_name": "HTMLModel",
      "state": {
       "layout": "IPY_MODEL_f77b0d1529274e098d3bc3eaa2ebf1ca",
       "style": "IPY_MODEL_d246bc7ab4644dcfbe0f20010d757450",
       "value": "<h4>Games: 0</h4>"
      }
     },
     "f782bbde856b431db9cf7e21b3fb93f1": {
      "model_module": "@jupyter-widgets/base",
      "model_module_version": "1.2.0",
      "model_name": "LayoutModel",
      "state": {
       "grid_template_areas": "\"header header header\"\n\"left-sidebar center center\"\n\"footer footer footer\"",
       "grid_template_columns": "1fr 2fr 1fr",
       "grid_template_rows": "1fr 3fr 1fr"
      }
     },
     "f7966b5cf4964d22998184afed10bbd1": {
      "model_module": "@jupyter-widgets/controls",
      "model_module_version": "1.5.0",
      "model_name": "ButtonModel",
      "state": {
       "button_style": "warning",
       "description": "Y",
       "layout": "IPY_MODEL_2d43a640a24c45cb88b65172b585ebac",
       "style": "IPY_MODEL_9bf82ff69eb349fc89c9d58c325aeb8e",
       "tooltip": "Click to guess Y."
      }
     },
     "f797ef3b5424421c8e40cdc6252eb493": {
      "model_module": "@jupyter-widgets/controls",
      "model_module_version": "1.5.0",
      "model_name": "HTMLModel",
      "state": {
       "layout": "IPY_MODEL_d0e23868d112475886dc034c7d5257aa",
       "style": "IPY_MODEL_6570a01df6d843f19dc35d4751edddcc",
       "value": "<h3>Click on a letter below to guess the word.</h3>"
      }
     },
     "f7c10b5f03b44c6a8a545d19e87a227e": {
      "model_module": "@jupyter-widgets/controls",
      "model_module_version": "1.5.0",
      "model_name": "ButtonStyleModel",
      "state": {}
     },
     "f7f826c12ab044f5914d4878a0732c0d": {
      "model_module": "@jupyter-widgets/controls",
      "model_module_version": "1.5.0",
      "model_name": "VBoxModel",
      "state": {
       "children": [
        "IPY_MODEL_26b0dbf1b97e494aa20c00fe41dfd40e",
        "IPY_MODEL_bbf218c8f5b74ad6b899e6f2c3aa40b9",
        "IPY_MODEL_51519eb2c8a64177a049aa2c93eb494f"
       ],
       "layout": "IPY_MODEL_239928f17d2b4813b0c2b8b83b276f12"
      }
     },
     "f800dcca262d4de08b6624b23d087a49": {
      "model_module": "@jupyter-widgets/controls",
      "model_module_version": "1.5.0",
      "model_name": "HTMLModel",
      "state": {
       "layout": "IPY_MODEL_2237456f44a54f1e84bc712ebffcd5db",
       "style": "IPY_MODEL_03281c59712949c4a850859c866762a5",
       "value": "<h3>Player Result</h3>"
      }
     },
     "f81d8f94c85d41d5b13a0e95215549ee": {
      "model_module": "@jupyter-widgets/controls",
      "model_module_version": "1.5.0",
      "model_name": "ButtonStyleModel",
      "state": {}
     },
     "f8241de351d84dafb78b993ac98f896e": {
      "model_module": "@jupyter-widgets/controls",
      "model_module_version": "1.5.0",
      "model_name": "HTMLModel",
      "state": {
       "layout": "IPY_MODEL_5008270eb1f0426999a3b1202453ecd0",
       "style": "IPY_MODEL_3350ef4758af4fc9949297e8bac76cb5",
       "value": "<h4>Wins: 1</h4>"
      }
     },
     "f84e0b443f9a46a7905df100dd2fc5ea": {
      "model_module": "@jupyter-widgets/controls",
      "model_module_version": "1.5.0",
      "model_name": "ButtonModel",
      "state": {
       "button_style": "warning",
       "description": "I",
       "layout": "IPY_MODEL_db20485e92d2445290f6da54e050b389",
       "style": "IPY_MODEL_8549997b23a7437985d9ebe26e426395",
       "tooltip": "Click to guess I."
      }
     },
     "f84fa5a965e34aa89c23456e39952975": {
      "model_module": "@jupyter-widgets/controls",
      "model_module_version": "1.5.0",
      "model_name": "ButtonStyleModel",
      "state": {}
     },
     "f8567668adb74501a976b3d86c850e9d": {
      "model_module": "@jupyter-widgets/base",
      "model_module_version": "1.2.0",
      "model_name": "LayoutModel",
      "state": {
       "grid_area": "header"
      }
     },
     "f8628f4c445743b08bb8a8ad62f50486": {
      "model_module": "@jupyter-widgets/base",
      "model_module_version": "1.2.0",
      "model_name": "LayoutModel",
      "state": {
       "grid_area": "footer",
       "margin": "-60px 0px 0px 0px"
      }
     },
     "f86a289c1f6346bd9912aa25a0164f60": {
      "model_module": "@jupyter-widgets/base",
      "model_module_version": "1.2.0",
      "model_name": "LayoutModel",
      "state": {
       "height": "auto"
      }
     },
     "f88b1289a8f347d3b96929fde91f8398": {
      "model_module": "@jupyter-widgets/base",
      "model_module_version": "1.2.0",
      "model_name": "LayoutModel",
      "state": {
       "height": "25px",
       "width": "33px"
      }
     },
     "f892c9acf30f4bd4bfd67cd9b7aa0719": {
      "model_module": "@jupyter-widgets/base",
      "model_module_version": "1.2.0",
      "model_name": "LayoutModel",
      "state": {
       "height": "25px",
       "width": "33px"
      }
     },
     "f8b10f242ee146238749976d769bb978": {
      "model_module": "@jupyter-widgets/controls",
      "model_module_version": "1.5.0",
      "model_name": "ButtonStyleModel",
      "state": {}
     },
     "f8d42e0c32844d0097674b11011a099f": {
      "model_module": "@jupyter-widgets/base",
      "model_module_version": "1.2.0",
      "model_name": "LayoutModel",
      "state": {
       "height": "25px",
       "width": "33px"
      }
     },
     "f8d6e559fac643d78377daa8b4ed5bd5": {
      "model_module": "@jupyter-widgets/base",
      "model_module_version": "1.2.0",
      "model_name": "LayoutModel",
      "state": {
       "grid_area": "left-sidebar"
      }
     },
     "f8f0ba612ed1470987f5da8abcdeaf07": {
      "model_module": "@jupyter-widgets/controls",
      "model_module_version": "1.5.0",
      "model_name": "ButtonStyleModel",
      "state": {}
     },
     "f91086fef0194cb88f0f32076a468931": {
      "model_module": "@jupyter-widgets/controls",
      "model_module_version": "1.5.0",
      "model_name": "HTMLModel",
      "state": {
       "layout": "IPY_MODEL_3eb8334529054cbe96c5762d11372806",
       "style": "IPY_MODEL_d81ef18945a24f34952233054a30b586",
       "value": "<h4>Wins: 0</h4>"
      }
     },
     "f93157def875459e98f0162df3414fc4": {
      "model_module": "@jupyter-widgets/controls",
      "model_module_version": "1.5.0",
      "model_name": "HTMLModel",
      "state": {
       "layout": "IPY_MODEL_2f4f5b09e3e84ce1ab80047d4e92034a",
       "style": "IPY_MODEL_bc686097975f4900bfd2ecfeb6bc2f85",
       "value": "<h3>Player Result</h3>"
      }
     },
     "f950305d525440d4b3eb062165599998": {
      "model_module": "@jupyter-widgets/controls",
      "model_module_version": "1.5.0",
      "model_name": "ButtonModel",
      "state": {
       "button_style": "warning",
       "description": "K",
       "disabled": true,
       "layout": "IPY_MODEL_3bee8ca347ca4a0791a47107e7e1243e",
       "style": "IPY_MODEL_04f1c4a1babe4bdcb715646d7e9c0941"
      }
     },
     "f95ffa1886d24f6e8142bdbfd82fc0c1": {
      "model_module": "@jupyter-widgets/base",
      "model_module_version": "1.2.0",
      "model_name": "LayoutModel",
      "state": {
       "margin": "20px 0px 0px 20px"
      }
     },
     "f9626cdad9e24ae99c066a2fc4aca259": {
      "model_module": "@jupyter-widgets/controls",
      "model_module_version": "1.5.0",
      "model_name": "VBoxModel",
      "state": {
       "children": [
        "IPY_MODEL_48f7f92efab04e54a650e3f05cba3124"
       ],
       "layout": "IPY_MODEL_2451686cf8fc47829dcdcd2b1613505e"
      }
     },
     "f987ecbf67bb47aca1d31cac16ab4640": {
      "model_module": "@jupyter-widgets/controls",
      "model_module_version": "1.5.0",
      "model_name": "ButtonStyleModel",
      "state": {}
     },
     "f9890b4dadea44ef9dd859edaae3ca3a": {
      "model_module": "@jupyter-widgets/controls",
      "model_module_version": "1.5.0",
      "model_name": "HBoxModel",
      "state": {
       "children": [
        "IPY_MODEL_c48220d9027148a58ffaa501f13988ea",
        "IPY_MODEL_99a7c473bf6041fea23006e40f40ded5",
        "IPY_MODEL_ff8d880f2bcc44629752bd75f59ab16c",
        "IPY_MODEL_f65b6e70d40f49a6a29e5b257e8ebd31",
        "IPY_MODEL_a3731d40382945fcaf5b99292a077c4d",
        "IPY_MODEL_4dc5397ad3b0464fbcadb64096dba3d4",
        "IPY_MODEL_e30f3e4cb43c47f6b21f17f13b4490c1",
        "IPY_MODEL_80cd176aee2041d8b9930a4b1681448c",
        "IPY_MODEL_e19550e9c4b14c128a24e0cfca1f630d",
        "IPY_MODEL_f0ea3fd6cd724ed88178f2bdd5de2713",
        "IPY_MODEL_ebdce4ed1de24b218f15fe59b25a4a3c",
        "IPY_MODEL_7520ffaf18d34a4484e8fe7329e9728d",
        "IPY_MODEL_618e6c05d5d74687ad555447e62b196d",
        "IPY_MODEL_3771b930261a4622a2e24218e9c70040",
        "IPY_MODEL_4da5a4d4b7004854b1604fcdaa558d7d",
        "IPY_MODEL_1a65330659b743faab78f98742347942",
        "IPY_MODEL_6bd47bb6f64e49418c957218437ce3f0",
        "IPY_MODEL_b9ebc5b0e98b4324ab8cb0926c0b0ca3",
        "IPY_MODEL_340e75b97b1640ee92c9911522e2e658",
        "IPY_MODEL_aba0f0bc88244faeb1abc1f255b7cbdf",
        "IPY_MODEL_8c5b1ce028ad474482cab5c223fdf81c",
        "IPY_MODEL_65858eee6d4247c8b084b140f10bbf21",
        "IPY_MODEL_fae1bc51422843a1a8004507b5088a02",
        "IPY_MODEL_2abe71cf05a1493482ad58ff910e4bf9",
        "IPY_MODEL_b42c32c0e40845d3bd5714899dc7478b",
        "IPY_MODEL_ab2dfd27326148e3931a6df3d2a18072"
       ],
       "layout": "IPY_MODEL_af4ed4233dcd42fda30201c53776ba2a"
      }
     },
     "f9a03e659d6c4a39891b421ed083d78f": {
      "model_module": "@jupyter-widgets/base",
      "model_module_version": "1.2.0",
      "model_name": "LayoutModel",
      "state": {}
     },
     "f9b19b7330fc42039a1f5acf22078ebb": {
      "model_module": "@jupyter-widgets/base",
      "model_module_version": "1.2.0",
      "model_name": "LayoutModel",
      "state": {
       "height": "25px",
       "width": "33px"
      }
     },
     "f9d83e19dfab4e1c9cc28666fc811c9b": {
      "model_module": "@jupyter-widgets/controls",
      "model_module_version": "1.5.0",
      "model_name": "ButtonModel",
      "state": {
       "button_style": "warning",
       "description": "I",
       "disabled": true,
       "layout": "IPY_MODEL_43b4b96b08a1489cb0f6d0ec00901820",
       "style": "IPY_MODEL_c6f9fe42fff143e9954ed396cee81446"
      }
     },
     "fa1050cc58374dc8bb20ac25fc521932": {
      "model_module": "@jupyter-widgets/controls",
      "model_module_version": "1.5.0",
      "model_name": "ButtonModel",
      "state": {
       "button_style": "warning",
       "description": "W",
       "disabled": true,
       "layout": "IPY_MODEL_7a5c1b367f0d485eb512e2961c687f4f",
       "style": "IPY_MODEL_63df7e818f16484a8ada249a60e3ed77"
      }
     },
     "fa138db73a0c4f8eb28ddc7866ec089b": {
      "model_module": "@jupyter-widgets/base",
      "model_module_version": "1.2.0",
      "model_name": "LayoutModel",
      "state": {
       "height": "25px",
       "width": "33px"
      }
     },
     "fa1e51d368234f1a9cdf4f5201b9c041": {
      "model_module": "@jupyter-widgets/base",
      "model_module_version": "1.2.0",
      "model_name": "LayoutModel",
      "state": {
       "grid_area": "center"
      }
     },
     "fa27f644733b4fc2a3248efbd24dee70": {
      "model_module": "@jupyter-widgets/controls",
      "model_module_version": "1.5.0",
      "model_name": "HTMLModel",
      "state": {
       "layout": "IPY_MODEL_cd6c66c1f6d0412fbc92110a76e27489",
       "style": "IPY_MODEL_72ec3230cf5a490dac5ff41088fc30c9",
       "value": "<h4>Wins: 0</h4>"
      }
     },
     "fa29e623f3754f54b0d4bfecbb6d5f28": {
      "model_module": "@jupyter-widgets/controls",
      "model_module_version": "1.5.0",
      "model_name": "HTMLModel",
      "state": {
       "layout": "IPY_MODEL_503038fd20514057ae0d9372673d933b",
       "style": "IPY_MODEL_77189773f491497c962f22ec605e033f",
       "value": "<h1><font color='blue'> You Win! </h1>"
      }
     },
     "fa502432a468408d9fa88932d30f0e00": {
      "model_module": "@jupyter-widgets/controls",
      "model_module_version": "1.5.0",
      "model_name": "HTMLModel",
      "state": {
       "layout": "IPY_MODEL_370f9a3057084e0cbb56e8f422ae7372",
       "style": "IPY_MODEL_92b3a00a9bde4808889f718a4d4b40dd",
       "value": "<h3>Click on a letter below to guess the word.</h3>"
      }
     },
     "fa6a9df056224e91a497969d1e054e8b": {
      "model_module": "@jupyter-widgets/controls",
      "model_module_version": "1.5.0",
      "model_name": "GridBoxModel",
      "state": {
       "children": [
        "IPY_MODEL_230bd9a6f4d14504b6a8d7aab1daa281",
        "IPY_MODEL_a8d557e110c746db9a7bd0bb27c20abe",
        "IPY_MODEL_c166bdd237ff4263b077ed8d45387567",
        "IPY_MODEL_a78ad2d90ced4a3eb1c942d7be470666"
       ],
       "layout": "IPY_MODEL_7a242441cbf441ffb9a227ad390aaeaf"
      }
     },
     "faa1ca9858d445f294af8d182cabbfc1": {
      "model_module": "@jupyter-widgets/controls",
      "model_module_version": "1.5.0",
      "model_name": "DescriptionStyleModel",
      "state": {
       "description_width": ""
      }
     },
     "fae1bc51422843a1a8004507b5088a02": {
      "model_module": "@jupyter-widgets/controls",
      "model_module_version": "1.5.0",
      "model_name": "ButtonModel",
      "state": {
       "button_style": "warning",
       "description": "W",
       "disabled": true,
       "layout": "IPY_MODEL_cf556723424942c5a231a7530338ed5b",
       "style": "IPY_MODEL_a4a117455856427c928051a3e19d758f"
      }
     },
     "faf6876d8f104b539230eba5ef228b37": {
      "model_module": "@jupyter-widgets/controls",
      "model_module_version": "1.5.0",
      "model_name": "HTMLModel",
      "state": {
       "layout": "IPY_MODEL_240031e23870420cbb076626258ca012",
       "style": "IPY_MODEL_bd5cd04baba44d8c8d9c39e21ebb1ff3",
       "value": "<h4>Games: 2</h4>"
      }
     },
     "fb1d1da173fc4bf3ac93dd13747d241a": {
      "model_module": "@jupyter-widgets/controls",
      "model_module_version": "1.5.0",
      "model_name": "ButtonStyleModel",
      "state": {}
     },
     "fb362e15960d41f98ddbcb999701830b": {
      "model_module": "@jupyter-widgets/controls",
      "model_module_version": "1.5.0",
      "model_name": "ButtonModel",
      "state": {
       "button_style": "warning",
       "description": "Q",
       "disabled": true,
       "layout": "IPY_MODEL_b87fc64b0cff43e89feed8cd091a4ac4",
       "style": "IPY_MODEL_0a40dd532f944cbbab91c648f305b07a"
      }
     },
     "fb3c12f00a094c40a74a8f9df2da7e14": {
      "model_module": "@jupyter-widgets/controls",
      "model_module_version": "1.5.0",
      "model_name": "DescriptionStyleModel",
      "state": {
       "description_width": ""
      }
     },
     "fb3efae09bc14c57bd4b8ee012825da9": {
      "model_module": "@jupyter-widgets/base",
      "model_module_version": "1.2.0",
      "model_name": "LayoutModel",
      "state": {
       "height": "25px",
       "width": "33px"
      }
     },
     "fb4121df037842488b35baecbd08eb79": {
      "model_module": "@jupyter-widgets/controls",
      "model_module_version": "1.5.0",
      "model_name": "HTMLModel",
      "state": {
       "layout": "IPY_MODEL_6e455b73cceb4831836e5b3eb060dec5",
       "style": "IPY_MODEL_31e4d4f5896f4ed4bda8b0261a71061d",
       "value": "<h2><font color='black'>Remaining Guesses:                          6</h2>"
      }
     },
     "fb66f449c91d476daa4797ac5b45e3cc": {
      "model_module": "@jupyter-widgets/controls",
      "model_module_version": "1.5.0",
      "model_name": "HTMLModel",
      "state": {
       "layout": "IPY_MODEL_105fa0886c95404e9eec5b0839cf9ab3",
       "style": "IPY_MODEL_5cc87284b5894bd593129484ec36f2cc",
       "value": "<h3>Click on a letter below to guess the word.</h3>"
      }
     },
     "fb838b50c54b4f978922757f757af925": {
      "model_module": "@jupyter-widgets/controls",
      "model_module_version": "1.5.0",
      "model_name": "ButtonStyleModel",
      "state": {}
     },
     "fb8660c5227541c7a5c80bab3ed74b50": {
      "model_module": "@jupyter-widgets/controls",
      "model_module_version": "1.5.0",
      "model_name": "ButtonStyleModel",
      "state": {}
     },
     "fb900482bb844dcfbaac61f41dce84f6": {
      "model_module": "@jupyter-widgets/base",
      "model_module_version": "1.2.0",
      "model_name": "LayoutModel",
      "state": {
       "grid_area": "left-sidebar"
      }
     },
     "fbc18fbe6558400a95b0b7abca3dc7c4": {
      "model_module": "@jupyter-widgets/controls",
      "model_module_version": "1.5.0",
      "model_name": "ButtonStyleModel",
      "state": {}
     },
     "fbd11aabcf0a49c9b4ad3cfcb9028a38": {
      "model_module": "@jupyter-widgets/base",
      "model_module_version": "1.2.0",
      "model_name": "LayoutModel",
      "state": {}
     },
     "fc1c554516e648cea0a4993b64755caf": {
      "model_module": "@jupyter-widgets/controls",
      "model_module_version": "1.5.0",
      "model_name": "DescriptionStyleModel",
      "state": {
       "description_width": ""
      }
     },
     "fc2327d74faf45a294ba5fae423d5b4a": {
      "model_module": "@jupyter-widgets/controls",
      "model_module_version": "1.5.0",
      "model_name": "ButtonStyleModel",
      "state": {}
     },
     "fc2b20d05bb14b7e86419ddce3c90d7a": {
      "model_module": "@jupyter-widgets/controls",
      "model_module_version": "1.5.0",
      "model_name": "VBoxModel",
      "state": {
       "children": [
        "IPY_MODEL_eaf18320e2974300835abdeecb49c372",
        "IPY_MODEL_717525daa63d4dbaa46d212142630f66"
       ],
       "layout": "IPY_MODEL_b1efbffa23e04d268f555872ff7df6d3"
      }
     },
     "fc458d24df664235b5de7b65a65425d2": {
      "model_module": "@jupyter-widgets/base",
      "model_module_version": "1.2.0",
      "model_name": "LayoutModel",
      "state": {
       "grid_area": "center"
      }
     },
     "fc4f1fd7c893496db4dc0dbd897d340a": {
      "model_module": "@jupyter-widgets/controls",
      "model_module_version": "1.5.0",
      "model_name": "ButtonStyleModel",
      "state": {}
     },
     "fc73884423fc47c389e446e1428f22e6": {
      "model_module": "@jupyter-widgets/controls",
      "model_module_version": "1.5.0",
      "model_name": "DescriptionStyleModel",
      "state": {
       "description_width": ""
      }
     },
     "fc9d900d9d20491dad795f5f038c49fa": {
      "model_module": "@jupyter-widgets/controls",
      "model_module_version": "1.5.0",
      "model_name": "ButtonModel",
      "state": {
       "button_style": "warning",
       "description": "S",
       "layout": "IPY_MODEL_58b93c223a944d06ad19e0e2aec5f7e3",
       "style": "IPY_MODEL_fb838b50c54b4f978922757f757af925",
       "tooltip": "Click to guess S."
      }
     },
     "fcbbd1cbe2454b27936cf909d52c327a": {
      "model_module": "@jupyter-widgets/base",
      "model_module_version": "1.2.0",
      "model_name": "LayoutModel",
      "state": {
       "grid_template_areas": "\"header header header\"\n\"left-sidebar center center\"\n\"footer footer footer\"",
       "grid_template_columns": "1fr 2fr 1fr",
       "grid_template_rows": "1fr 3fr 1fr"
      }
     },
     "fd023437329e424e9b0c49da9bbad5fd": {
      "model_module": "@jupyter-widgets/base",
      "model_module_version": "1.2.0",
      "model_name": "LayoutModel",
      "state": {
       "height": "25px",
       "width": "33px"
      }
     },
     "fd22e874991b4fe7870dc56bc28f0054": {
      "model_module": "@jupyter-widgets/base",
      "model_module_version": "1.2.0",
      "model_name": "LayoutModel",
      "state": {
       "height": "25px",
       "width": "33px"
      }
     },
     "fd2a5346ee1941b29e275d63fba27560": {
      "model_module": "@jupyter-widgets/base",
      "model_module_version": "1.2.0",
      "model_name": "LayoutModel",
      "state": {
       "grid_area": "footer",
       "margin": "-60px 0px 0px 0px"
      }
     },
     "fd3c158a583546308d428c7ea1afcbb0": {
      "model_module": "@jupyter-widgets/base",
      "model_module_version": "1.2.0",
      "model_name": "LayoutModel",
      "state": {
       "margin": "0px 0px 0px 100px"
      }
     },
     "fd55f1f581e74418a2bcfce11603f7e6": {
      "model_module": "@jupyter-widgets/base",
      "model_module_version": "1.2.0",
      "model_name": "LayoutModel",
      "state": {
       "width": "500px"
      }
     },
     "fd9735b92089484ea4c4aad9bba967a5": {
      "model_module": "@jupyter-widgets/controls",
      "model_module_version": "1.5.0",
      "model_name": "HBoxModel",
      "state": {
       "children": [
        "IPY_MODEL_7b22b2093ed543d0b58f10da9d688072",
        "IPY_MODEL_cde520d96af64ad7aa1840424b0120b9"
       ],
       "layout": "IPY_MODEL_707c09a336224706b52f977f4f98b325"
      }
     },
     "fda0f008d8da4897bfc9eeee7624a8f7": {
      "model_module": "@jupyter-widgets/controls",
      "model_module_version": "1.5.0",
      "model_name": "ButtonStyleModel",
      "state": {}
     },
     "fde26869fc254407a92294a159b5697c": {
      "model_module": "@jupyter-widgets/controls",
      "model_module_version": "1.5.0",
      "model_name": "VBoxModel",
      "state": {
       "children": [
        "IPY_MODEL_01b2c1f50e25455bb48b24725a718ad4",
        "IPY_MODEL_ceb5c0c6a53c4d8392c2ff2a9eeca93b",
        "IPY_MODEL_00824e63a17c45c8969952b45bdffe47"
       ],
       "layout": "IPY_MODEL_623d876836f24611b83b4d6148cce70e"
      }
     },
     "fdefcfa095d547949a39e81b19e5e309": {
      "model_module": "@jupyter-widgets/base",
      "model_module_version": "1.2.0",
      "model_name": "LayoutModel",
      "state": {
       "grid_area": "center"
      }
     },
     "fdf30a15b780443186e70ab59ef05f87": {
      "model_module": "@jupyter-widgets/controls",
      "model_module_version": "1.5.0",
      "model_name": "ButtonStyleModel",
      "state": {}
     },
     "fdf81a7bc7d94429967ee84d756908a7": {
      "model_module": "@jupyter-widgets/controls",
      "model_module_version": "1.5.0",
      "model_name": "ButtonModel",
      "state": {
       "button_style": "warning",
       "description": "Z",
       "layout": "IPY_MODEL_761d1989712144eeaefa2b932023973f",
       "style": "IPY_MODEL_f7c10b5f03b44c6a8a545d19e87a227e",
       "tooltip": "Click to guess Z."
      }
     },
     "fdf9adef99e84b4e8319bb9c4e2ac790": {
      "buffers": [
       {
        "data": "iVBORw0KGgoAAAANSUhEUgAAATQAAAE0CAIAAAAt41jIAAAD0UlEQVR4nO3dMW7DMBAAQTLw/7/MFCnsymkocG3NdGqEg4DFsaLGAAAAgGvM14e11qk5gDHGnM8kfw7OAbwhTogSJ0SJE6LECVHihChxQpQ4IUqcECVOiBInRIkTosQJUeKEKHFClDghSpwQJU6IEidEiROixAlR4oQocUKUOCFKnBAlTogSJ0SJE6LECVHihChxQpQ4IUqcECVOiHqcHuB7vP4wnL3WWqdHOMDm3EOZl7rn5xUnRDnWbnbPA9h17rkz/9icECVOiBInRIkTosQJUeKEKHFClDghSpwQJU6IEidEiROixAlR4oQocUKUOCFKnBAlTohyTckebidhO5sTosQJUeKEKHFClDghSpwQJU6IEidEiROixAlR4oQocUKUOCFKnBAlTogSJ0SJE6LECVHihChxQpQ4IUqcECVOiBInRIkTosQJUeKEKHFClDghSpwQJU6IEidEiROixAlR4oQocUKUOCFKnBAlTogSJ0SJE6LECVHihChxQpQ4IUqcECVOiBInRIkTosQJUeKEKHFClDghSpwQJU6IEidEiROixAlR4oQocUKUOCFKnBAlTogSJ0SJE6LECVHihChxQpQ4IUqcECVOiBInRIkTosQJUeKEKHFClDghSpwQJU6IEidEiROixAlR4oQocUKUOCFKnBAlTogSJ0SJE6LECVHihChxQpQ4IUqcECVOiBInRIkTosQJUeKEKHFClDghSpwQJU6IEidEiROixAlR4oQocUKUOCFKnBAlTogSJ0SJE6LECVHihChxQpQ4IUqcECVOiBInRIkTosQJUeKEKHFClDghSpwQJU6IEidEiROixAlR4oQocUKUOCFKnBAlTogSJ0SJE6LECVHihChxQpQ4IUqcECVOiBInRIkTosQJUeKEKHFClDghSpwQJU6IEidEiROixAlR4oQocUKUOCFKnBAlTogSJ0SJE6LECVHihChxQpQ4IUqcECVOiBInRIkTosQJUeKEKHFClDghSpwQJU6IEidEiROixAlR4oQocUKUOCFKnBAlTogSJ0SJE6LECVHihChxQpQ4IUqcECVOiBInRIkTosQJUeKEKHFClDghSpwQJU6IEidEiROixAlR4oQocUKUOCFKnBAlTogSJ0SJE6LECVHihChxQpQ4IUqcECVOiBInRIkToh6nB+B/c87TI5zX/whrrb0vtDkhSpwQ5Vj7Abafl/gINidEiROixAlR4oQocUKUOCFKnBAlTogSJ0SJE6LECVHihChxQpQ4IUqcECVOiBInRIkTosQJUeKEKHECAAAA3Mwv+9AUZSTGP0IAAAAASUVORK5CYII=",
        "encoding": "base64",
        "path": [
         "value"
        ]
       }
      ],
      "model_module": "@jupyter-widgets/controls",
      "model_module_version": "1.5.0",
      "model_name": "ImageModel",
      "state": {
       "layout": "IPY_MODEL_6a59cfdaa27a4cd09107eb95533129ba"
      }
     },
     "fe19a4f2535443e8ad72b0bc8d043861": {
      "model_module": "@jupyter-widgets/base",
      "model_module_version": "1.2.0",
      "model_name": "LayoutModel",
      "state": {
       "grid_area": "footer",
       "margin": "-60px 0px 0px 0px"
      }
     },
     "fe23309169c24c44b6ee2f830daaafdf": {
      "model_module": "@jupyter-widgets/controls",
      "model_module_version": "1.5.0",
      "model_name": "HBoxModel",
      "state": {
       "children": [
        "IPY_MODEL_4776f7f6a8ef458baa4c579cc126372f",
        "IPY_MODEL_eab6beca4cd44ef6a923f9641545bf38"
       ],
       "layout": "IPY_MODEL_f8567668adb74501a976b3d86c850e9d"
      }
     },
     "fe315a9a4eb2403cbcc00dd38c95674a": {
      "model_module": "@jupyter-widgets/controls",
      "model_module_version": "1.5.0",
      "model_name": "ButtonModel",
      "state": {
       "button_style": "warning",
       "description": "T",
       "layout": "IPY_MODEL_e3bd1c4bb88f4068b02556c9e5878226",
       "style": "IPY_MODEL_d464c7c7045f400b8a07b8d4a4a4912d",
       "tooltip": "Click to guess T."
      }
     },
     "fe345c7d79a3475c9cc2724cbc1f4311": {
      "model_module": "@jupyter-widgets/controls",
      "model_module_version": "1.5.0",
      "model_name": "VBoxModel",
      "state": {
       "children": [
        "IPY_MODEL_05ebe61cb55140898040645596bab187",
        "IPY_MODEL_0d29a9ce394f4e0980dbe58ca5407bab"
       ],
       "layout": "IPY_MODEL_885d5ed110e34eaf9808afc82e5b6a3a"
      }
     },
     "fe47553a3ba54c0aa1a639c906276874": {
      "model_module": "@jupyter-widgets/controls",
      "model_module_version": "1.5.0",
      "model_name": "ButtonStyleModel",
      "state": {}
     },
     "fe5facc97a104a99aa16ef04a90a10a7": {
      "model_module": "@jupyter-widgets/controls",
      "model_module_version": "1.5.0",
      "model_name": "HTMLModel",
      "state": {
       "layout": "IPY_MODEL_3f7fabe8a430419c98aab6cfe432d0df",
       "style": "IPY_MODEL_efbefe3f0ed143e288253e7ca0754f50",
       "value": "<h3>Player Result</h3>"
      }
     },
     "fe68dad5801442968747a055e10fd73d": {
      "model_module": "@jupyter-widgets/base",
      "model_module_version": "1.2.0",
      "model_name": "LayoutModel",
      "state": {
       "height": "25px",
       "width": "33px"
      }
     },
     "fe88828f53dd4ec989d1581513543756": {
      "model_module": "@jupyter-widgets/base",
      "model_module_version": "1.2.0",
      "model_name": "LayoutModel",
      "state": {
       "grid_area": "header"
      }
     },
     "fe9632def0384d19b3c22cb040424f63": {
      "model_module": "@jupyter-widgets/controls",
      "model_module_version": "1.5.0",
      "model_name": "VBoxModel",
      "state": {
       "children": [
        "IPY_MODEL_3005a6da883943e69af0c8d5ae628852",
        "IPY_MODEL_239816c8899448609684e9d87873f806"
       ],
       "layout": "IPY_MODEL_f22ce78e786346e49b4f37883cfd09d5"
      }
     },
     "fec875e2155647579b576a6ac428feb8": {
      "model_module": "@jupyter-widgets/controls",
      "model_module_version": "1.5.0",
      "model_name": "ButtonStyleModel",
      "state": {}
     },
     "ff033de66020457a868d851e95ebe498": {
      "model_module": "@jupyter-widgets/controls",
      "model_module_version": "1.5.0",
      "model_name": "DescriptionStyleModel",
      "state": {
       "description_width": ""
      }
     },
     "ff095d05041d4b7abcb73cda84bf2dd9": {
      "model_module": "@jupyter-widgets/controls",
      "model_module_version": "1.5.0",
      "model_name": "ButtonModel",
      "state": {
       "button_style": "warning",
       "description": "V",
       "layout": "IPY_MODEL_9ae3bf74b2764e839fd10c46cb10bfcc",
       "style": "IPY_MODEL_a4744525d86b412a83420725df612208",
       "tooltip": "Click to guess V."
      }
     },
     "ff2ef6c758f9467c8f8e9ac0228e555c": {
      "model_module": "@jupyter-widgets/controls",
      "model_module_version": "1.5.0",
      "model_name": "HBoxModel",
      "state": {
       "children": [
        "IPY_MODEL_c5f6d4159c864bff8f09f3c58ffa6334",
        "IPY_MODEL_c9a8bf0f197d4bd6ba838ddc8a112efe"
       ],
       "layout": "IPY_MODEL_76fbfdab0eb1486981a4fcf30f4cfe6e"
      }
     },
     "ff3e9fd422eb4c37a2888c499b276c61": {
      "model_module": "@jupyter-widgets/base",
      "model_module_version": "1.2.0",
      "model_name": "LayoutModel",
      "state": {
       "height": "25px",
       "width": "33px"
      }
     },
     "ff46063792ba40c5b5d4e6898ab57ff9": {
      "model_module": "@jupyter-widgets/base",
      "model_module_version": "1.2.0",
      "model_name": "LayoutModel",
      "state": {
       "grid_template_areas": "\"header header header\"\n\"left-sidebar center center\"\n\"footer footer footer\"",
       "grid_template_columns": "1fr 2fr 1fr",
       "grid_template_rows": "1fr 3fr 1fr"
      }
     },
     "ff7a40647ca44d4fae51278cafab7544": {
      "model_module": "@jupyter-widgets/base",
      "model_module_version": "1.2.0",
      "model_name": "LayoutModel",
      "state": {}
     },
     "ff7d9b084a6b46dc9b42e22336064c6f": {
      "model_module": "@jupyter-widgets/controls",
      "model_module_version": "1.5.0",
      "model_name": "ButtonStyleModel",
      "state": {}
     },
     "ff8d880f2bcc44629752bd75f59ab16c": {
      "model_module": "@jupyter-widgets/controls",
      "model_module_version": "1.5.0",
      "model_name": "ButtonModel",
      "state": {
       "button_style": "warning",
       "description": "C",
       "disabled": true,
       "layout": "IPY_MODEL_428d46c406f849879b9f46af846c607b",
       "style": "IPY_MODEL_1486659c8bf340209e267f33e0fd2ec7"
      }
     },
     "ff95aebfce7342f6a623b26da5f34cbd": {
      "model_module": "@jupyter-widgets/base",
      "model_module_version": "1.2.0",
      "model_name": "LayoutModel",
      "state": {
       "height": "25px",
       "width": "33px"
      }
     }
    },
    "version_major": 2,
    "version_minor": 0
   }
  }
 },
 "nbformat": 4,
 "nbformat_minor": 5
}
