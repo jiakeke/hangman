{
 "cells": [
  {
   "cell_type": "markdown",
   "id": "ec271cb3",
   "metadata": {},
   "source": [
    "# Hangman\n",
    "\n",
    "## Team Members:\n",
    "\n",
    "- Aijun Fan\n",
    "- Dharshani Nuwanmali Rathnayake Rathnayake Mudhiyanselage\n",
    "- Ke Jia\n",
    "- Lakshitha Nisal Dharmarathna Kariyawasam Pathirage\n",
    "- Qixiao Zhang"
   ]
  },
  {
   "cell_type": "markdown",
   "id": "11a2b986",
   "metadata": {},
   "source": [
    "### Project 5. Hangman\n",
    "\n",
    "#### Requirements:\n",
    "\n",
    "The game:\n",
    "\n",
    "One player thinks a word and the other needs to guess it. Every time is a wrongly guessd letter, the other player will start to draw the hanged man picture. The player who is trying to guess, wins if the hanged man picture is not finalized.\n",
    "\n",
    "The program should have the following options to choose from: friuts, animals, car brands, countries. Eeach category should contain at least 15 words to randomly choose from. The player should be abel to select the category and than game starts.\n",
    "\n",
    "The program should allow user to play over and over again until user chooses to quit using it. When the game has stoped the program should display number of plays and numer of wins.\n",
    "\n",
    "35 points"
   ]
  },
  {
   "cell_type": "code",
   "execution_count": 1,
   "id": "0bd093b1",
   "metadata": {},
   "outputs": [],
   "source": [
    "import random\n",
    "import string"
   ]
  },
  {
   "cell_type": "markdown",
   "id": "6036c0a9",
   "metadata": {},
   "source": [
    "##### Here is the Hangman's picture with characters."
   ]
  },
  {
   "cell_type": "code",
   "execution_count": 2,
   "id": "a930fce6",
   "metadata": {},
   "outputs": [],
   "source": [
    "HANGMAN_PICS = [\"\"\"\n",
    "      +---+\n",
    "      |\n",
    "      |\n",
    "      |\n",
    "      |\n",
    "      |\n",
    "     ===\"\"\", \"\"\"\n",
    "      +---+\n",
    "      |   O\n",
    "      |\n",
    "      |\n",
    "      |\n",
    "      |\n",
    "     ===\"\"\", \"\"\"\n",
    "      +---+\n",
    "      |   O\n",
    "      |   |\n",
    "      |\n",
    "      |\n",
    "      |\n",
    "     ===\"\"\", \"\"\"\n",
    "      +---+\n",
    "      |   O\n",
    "      |  /|\n",
    "      |\n",
    "      |\n",
    "      |\n",
    "     ===\"\"\", \"\"\"\n",
    "      +---+\n",
    "      |   O\n",
    "      |  /|\\ \n",
    "      |\n",
    "      |\n",
    "      |\n",
    "     ===\"\"\", \"\"\"\n",
    "      +---+\n",
    "      |   O\n",
    "      |  /|\\ \n",
    "      |  /\n",
    "      |\n",
    "      |\n",
    "     ===\"\"\", \"\"\"\n",
    "      +---+\n",
    "      |   O\n",
    "      |  /|\\ \n",
    "      |  / \\ \n",
    "      |\n",
    "      |\n",
    "     ===\"\"\", \"\"\"\n",
    "      +---+\n",
    "      |  (O\n",
    "      |  /|\\ \n",
    "      |  / \\ \n",
    "      |\n",
    "      |\n",
    "     ===\"\"\", \"\"\"\n",
    "      +---+\n",
    "      |  (O)\n",
    "      |  /|\\ \n",
    "      |  / \\ \n",
    "      |\n",
    "      |\n",
    "     ===\"\"\", \"\"\"\n",
    "      +---+\n",
    "      |   |\n",
    "      |  (O)\n",
    "      |  /|\\ \n",
    "      |  / \\ \n",
    "      |\n",
    "     ===\"\"\"]"
   ]
  },
  {
   "cell_type": "markdown",
   "id": "07b6c52c",
   "metadata": {},
   "source": [
    "##### Here is the vocabulary for guessing."
   ]
  },
  {
   "cell_type": "code",
   "execution_count": 3,
   "id": "e51b3af6",
   "metadata": {},
   "outputs": [],
   "source": [
    "words = [\n",
    "    ('Animals',\n",
    "        ('bat bear beaver cat cougar crab deer dog donkey duck eagle fish frog '\n",
    "         'goat leech lion lizard monkey moose mouse otter owl panda python '\n",
    "         'rabbit rat shark sheep skunk squid tiger turkey turtle weasel whale '\n",
    "         'wolf wombat zebra')),\n",
    "    ('Car brands',\n",
    "        ('audi bently buick chevrolet chrysler dodge ferrari ford iveco '\n",
    "         'jaguar lamborghini lincoln maybach mini nissan peugeot porsche '\n",
    "         'skoda toyota volkswagen')),\n",
    "    ('Colors',\n",
    "        ('red orange yellow green blue indigo violet white black brown')),\n",
    "    ('Countries',\n",
    "        ('america canada china denmark finland france germany iceland iran '\n",
    "         'italy japan netherland norway pakistan poland portugal spain '\n",
    "         'srilanka sweden syria')),\n",
    "    ('Fruits',\n",
    "        ('apple banana blackberry blueberry cantalope cherry grape grapefruit '\n",
    "         'grapes kiwi lemon lime litchi mango orange peach pear pineapple '\n",
    "         'strawberry tomato watermelon')),\n",
    "    ('Shapes',\n",
    "        ('square triangle rectangle circle ellipse rhombus trapazoid chevron '\n",
    "         'pentagon hexagon septagon octogon')),\n",
    "    ]\n",
    "\n",
    "words_dict = dict([(k, v.split()) for k, v in words])"
   ]
  },
  {
   "cell_type": "markdown",
   "id": "5e311bef",
   "metadata": {},
   "source": [
    "##### Add a decorator to the print function to set flush=True by default, \n",
    "    it could fix the problem that the input box would float to the top sometimes."
   ]
  },
  {
   "cell_type": "code",
   "execution_count": 4,
   "id": "93c97590",
   "metadata": {},
   "outputs": [],
   "source": [
    "def flushed_print(func):\n",
    "    printer = func\n",
    "    def wrapped(*args, **kws):\n",
    "        printer(*args, **kws, flush=True)\n",
    "    return wrapped\n",
    "\n",
    "print = flushed_print(print)"
   ]
  },
  {
   "cell_type": "markdown",
   "id": "fe550f9a",
   "metadata": {},
   "source": [
    "##### To clear previous screen for displaying the coming information.\n",
    "\n",
    "It will support to run on:\n",
    "- Windows\n",
    "- Linux\n",
    "- Mac\n",
    "- Jupyter Notebook\n",
    "- ..."
   ]
  },
  {
   "cell_type": "code",
   "execution_count": 5,
   "id": "2d1f9f50",
   "metadata": {},
   "outputs": [],
   "source": [
    "def clear_screen():\n",
    "    import os\n",
    "    if os.name == 'nt':\n",
    "        os.system('cls')\n",
    "    else:\n",
    "        os.system('clear')\n",
    "\n",
    "    import sys\n",
    "    if 'ipykernel' in sys.modules:\n",
    "        from IPython.display import clear_output\n",
    "        clear_output()\n",
    "    print('\\n================ H A N G M A N ================\\n')"
   ]
  },
  {
   "cell_type": "markdown",
   "id": "0b59429e",
   "metadata": {},
   "source": [
    "##### To get a random word by category which user entered."
   ]
  },
  {
   "cell_type": "code",
   "execution_count": 6,
   "id": "bd091ce7",
   "metadata": {},
   "outputs": [],
   "source": [
    "def get_random_word(words_dict):\n",
    "    keys = list(words_dict.keys())\n",
    "    text = 'Enter category by the sequence number: '\n",
    "    category = 0\n",
    "    choices = ', '.join(['%s: %s' % (num+1, keys[num])for num in range(len(keys))])\n",
    "    while category not in range(1, len(keys)+1):\n",
    "        print(text, choices)\n",
    "        category = int(input())\n",
    "    word_category = keys[category-1]\n",
    "    word = random.choice(words_dict[word_category])\n",
    "    return [word, word_category]"
   ]
  },
  {
   "cell_type": "markdown",
   "id": "027c8f72",
   "metadata": {},
   "source": [
    "##### To display game board\n",
    "- Display the category of the secret word\n",
    "- Display current Hangman picture\n",
    "- Display the missed letters\n",
    "- Display the secret word with spaces"
   ]
  },
  {
   "cell_type": "code",
   "execution_count": 7,
   "id": "c4a43a09",
   "metadata": {},
   "outputs": [],
   "source": [
    "def display_board(missed_letters, correct_letters, secret_word):\n",
    "    print('--------------------------')\n",
    "    print(HANGMAN_PICS[len(missed_letters)])\n",
    "    print()\n",
    "\n",
    "    print('Missed letters:', end=' ')\n",
    "    for letter in missed_letters:\n",
    "        print(letter, end=' ')\n",
    "    print()\n",
    "\n",
    "    blanks = '_' * len(secret_word)\n",
    "\n",
    "    for i in range(len(secret_word)): # replace blanks with correctly guessed letters\n",
    "        if secret_word[i] in correct_letters:\n",
    "            blanks = blanks[:i] + secret_word[i] + blanks[i+1:]\n",
    "\n",
    "    for letter in blanks: # show the secret word with spaces in between each letter\n",
    "        print(letter, end=' ')\n",
    "    print()"
   ]
  },
  {
   "cell_type": "markdown",
   "id": "87df67db",
   "metadata": {},
   "source": [
    "##### To get the guess letter entered by the user:\n",
    "- Only enter ONE guess LETTER each time\n",
    "- Re-enter a new one if user enters less/more than one letter\n",
    "- Re-enter a new one if user enters a letter has been guessed before\n",
    "- Re-enter a new one if user enters a non-letter charater\n"
   ]
  },
  {
   "cell_type": "code",
   "execution_count": 8,
   "id": "f8aedb83",
   "metadata": {},
   "outputs": [],
   "source": [
    "def get_guess(already_guessed):\n",
    "    while True:\n",
    "        print('Guess a letter:')\n",
    "        guess = input()\n",
    "        guess = guess.lower()\n",
    "        if len(guess) != 1:\n",
    "            print('Please enter a single letter.')\n",
    "        elif guess in already_guessed:\n",
    "            print('You have already guessed that letter. Choose again.')\n",
    "        elif guess not in string.ascii_lowercase:\n",
    "            print('Please enter a LETTER.')\n",
    "        else:\n",
    "            return guess"
   ]
  },
  {
   "cell_type": "markdown",
   "id": "131d774c",
   "metadata": {},
   "source": [
    "##### This function returns True if the player wants to play again, otherwise it returns False."
   ]
  },
  {
   "cell_type": "code",
   "execution_count": 9,
   "id": "a0671dd7",
   "metadata": {},
   "outputs": [],
   "source": [
    "def play_again():\n",
    "    print('Do you want to play again? (yes or no)')\n",
    "    return input().lower().startswith('y')"
   ]
  },
  {
   "cell_type": "markdown",
   "id": "a7922c46",
   "metadata": {},
   "source": [
    "##### To set the difficulty of the game. There are three levels in total."
   ]
  },
  {
   "cell_type": "code",
   "execution_count": 10,
   "id": "9ea96642",
   "metadata": {},
   "outputs": [],
   "source": [
    "def set_difficulty():\n",
    "    difficulty = 'X'\n",
    "    while difficulty not in 'EMH':\n",
    "      print('Enter difficulty: E: Easy, M: Medium, H: Hard')\n",
    "      difficulty = input().upper()\n",
    "    if difficulty == 'M':\n",
    "        del HANGMAN_PICS[8]\n",
    "        del HANGMAN_PICS[7]\n",
    "    if difficulty == 'H':\n",
    "        del HANGMAN_PICS[8]\n",
    "        del HANGMAN_PICS[7]\n",
    "        del HANGMAN_PICS[5]\n",
    "        del HANGMAN_PICS[3]"
   ]
  },
  {
   "cell_type": "markdown",
   "id": "5eda45c2",
   "metadata": {},
   "source": [
    "##### The main execution function of the game:\n",
    "- Show game board\n",
    "- Run the guessing loop\n"
   ]
  },
  {
   "cell_type": "code",
   "execution_count": 11,
   "id": "decdfca9",
   "metadata": {},
   "outputs": [],
   "source": [
    "def play():\n",
    "    missed_letters = ''\n",
    "    correct_letters = ''\n",
    "    secret_word, secretSet = get_random_word(words_dict)\n",
    "\n",
    "    while True:\n",
    "        clear_screen()\n",
    "        print('The secret word is in the set: ' + secretSet)\n",
    "        display_board(missed_letters, correct_letters, secret_word)\n",
    "\n",
    "        # Let the player type in a letter.\n",
    "        guess = get_guess(missed_letters + correct_letters)\n",
    "\n",
    "        if guess in secret_word:\n",
    "            correct_letters += guess\n",
    "\n",
    "            # Check if the player has won\n",
    "            found_all_letters = True\n",
    "            for item in secret_word:\n",
    "                if item not in correct_letters:\n",
    "                    found_all_letters = False\n",
    "                    break\n",
    "            if found_all_letters:\n",
    "                print('Perfect! You get he secret word: \"' + secret_word + '\"! You win!')\n",
    "                return 1\n",
    "        else:\n",
    "            missed_letters += guess\n",
    "\n",
    "            # Check if player has guessed too many times and lost.\n",
    "            if len(missed_letters) == len(HANGMAN_PICS) - 1:\n",
    "                clear_screen()\n",
    "                print('Unfortunately! You have run out of guesses!')\n",
    "                display_board(missed_letters, correct_letters, secret_word)\n",
    "                print(\n",
    "                    'The word is \"%s\", you got %s times correctly and you missed %s.' % (\n",
    "                        secret_word, len(correct_letters), len(missed_letters)))\n",
    "                return 0"
   ]
  },
  {
   "cell_type": "code",
   "execution_count": 12,
   "id": "877696c8",
   "metadata": {},
   "outputs": [
    {
     "name": "stdout",
     "output_type": "stream",
     "text": [
      "\n",
      "================ H A N G M A N ================\n",
      "\n",
      "Unfortunately! You have run out of guesses!\n",
      "--------------------------\n",
      "\n",
      "      +---+\n",
      "      |   |\n",
      "      |  (O)\n",
      "      |  /|\\ \n",
      "      |  / \\ \n",
      "      |\n",
      "     ===\n",
      "\n",
      "Missed letters: a i w v l \n",
      "p e u _ e o _ \n",
      "The word is \"peugeot\", you got 4 times correctly and you missed 5.\n",
      "Do you want to play again? (yes or no)\n",
      "no\n",
      "You win 0 out of 1 games\n"
     ]
    }
   ],
   "source": [
    "if __name__ == \"__main__\":\n",
    "\n",
    "    clear_screen()\n",
    "    set_difficulty()\n",
    "    tries = 0\n",
    "    wins = 0\n",
    "    first = True\n",
    "\n",
    "    while first or play_again():\n",
    "        first = False\n",
    "        win = play()\n",
    "        tries += 1\n",
    "        wins += win\n",
    "\n",
    "    print('You win %s out of %s games' % (wins, tries))"
   ]
  }
 ],
 "metadata": {
  "kernelspec": {
   "display_name": "Python 3 (ipykernel)",
   "language": "python",
   "name": "python3"
  },
  "language_info": {
   "codemirror_mode": {
    "name": "ipython",
    "version": 3
   },
   "file_extension": ".py",
   "mimetype": "text/x-python",
   "name": "python",
   "nbconvert_exporter": "python",
   "pygments_lexer": "ipython3",
   "version": "3.9.13"
  }
 },
 "nbformat": 4,
 "nbformat_minor": 5
}
