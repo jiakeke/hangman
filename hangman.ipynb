{
 "cells": [
  {
   "cell_type": "code",
   "execution_count": 1,
   "id": "0bd093b1",
   "metadata": {},
   "outputs": [],
   "source": [
    "import os\n",
    "import random\n",
    "\n",
    "from IPython.display import clear_output"
   ]
  },
  {
   "cell_type": "markdown",
   "id": "7ffa267c",
   "metadata": {},
   "source": [
    "##### Here is the Hangman's picture with characters."
   ]
  },
  {
   "cell_type": "code",
   "execution_count": 2,
   "id": "a930fce6",
   "metadata": {},
   "outputs": [],
   "source": [
    "HANGMAN_PICS = [\"\"\"\n",
    "      +---+\n",
    "      |\n",
    "      |\n",
    "      |\n",
    "      |\n",
    "      |\n",
    "     ===\"\"\", \"\"\"\n",
    "      +---+\n",
    "      |   O\n",
    "      |\n",
    "      |\n",
    "      |\n",
    "      |\n",
    "     ===\"\"\", \"\"\"\n",
    "      +---+\n",
    "      |   O\n",
    "      |   |\n",
    "      |\n",
    "      |\n",
    "      |\n",
    "     ===\"\"\", \"\"\"\n",
    "      +---+\n",
    "      |   O\n",
    "      |  /|\n",
    "      |\n",
    "      |\n",
    "      |\n",
    "     ===\"\"\", \"\"\"\n",
    "      +---+\n",
    "      |   O\n",
    "      |  /|\\ \n",
    "      |\n",
    "      |\n",
    "      |\n",
    "     ===\"\"\", \"\"\"\n",
    "      +---+\n",
    "      |   O\n",
    "      |  /|\\ \n",
    "      |  /\n",
    "      |\n",
    "      |\n",
    "     ===\"\"\", \"\"\"\n",
    "      +---+\n",
    "      |   O\n",
    "      |  /|\\ \n",
    "      |  / \\ \n",
    "      |\n",
    "      |\n",
    "     ===\"\"\", \"\"\"\n",
    "      +---+\n",
    "      |  (O\n",
    "      |  /|\\ \n",
    "      |  / \\ \n",
    "      |\n",
    "      |\n",
    "     ===\"\"\", \"\"\"\n",
    "      +---+\n",
    "      |  (O)\n",
    "      |  /|\\ \n",
    "      |  / \\ \n",
    "      |\n",
    "      |\n",
    "     ===\"\"\", \"\"\"\n",
    "      +---+\n",
    "      |   |\n",
    "      |  (O)\n",
    "      |  /|\\ \n",
    "      |  / \\ \n",
    "      |\n",
    "     ===\"\"\"]"
   ]
  },
  {
   "cell_type": "markdown",
   "id": "9791930f",
   "metadata": {},
   "source": [
    "##### Here is the vocabulary for guessing."
   ]
  },
  {
   "cell_type": "code",
   "execution_count": 3,
   "id": "e51b3af6",
   "metadata": {},
   "outputs": [],
   "source": [
    "words = [\n",
    "    ('Colors',\n",
    "        ('red orange yellow green blue indigo violet white black brown')),\n",
    "    ('Shapes',\n",
    "        ('square triangle rectangle circle ellipse rhombus trapazoid chevron '\n",
    "         'pentagon hexagon septagon octogon')),\n",
    "    ('Fruits',\n",
    "        ('apple orange lemon lime pear watermelon grape grapefruit cherry '\n",
    "         'banana cantalope mango strawberry tomato')),\n",
    "    ('Animals',\n",
    "        ('bat bear beaver cat cougar crab deer dog donkey duck eagle fish frog '\n",
    "         'goat leech lion lizard monkey moose mouse otter owl panda python '\n",
    "         'rabbit rat shark sheep skunk squid tiger turkey turtle weasel whale '\n",
    "         'wolf wombat zebra'))\n",
    "    ]\n",
    "\n",
    "words_dict = dict([(k, v.split()) for k, v in words])"
   ]
  },
  {
   "cell_type": "code",
   "execution_count": 4,
   "id": "2d1f9f50",
   "metadata": {},
   "outputs": [],
   "source": [
    "def clear_screen():\n",
    "    clear_output(wait=False)\n",
    "    print('\\n================ H A N G M A N ================\\n')"
   ]
  },
  {
   "cell_type": "code",
   "execution_count": 5,
   "id": "bd091ce7",
   "metadata": {},
   "outputs": [],
   "source": [
    "def get_random_word(words_dict):\n",
    "    keys = list(words_dict.keys())\n",
    "    text = 'Enter category: '\n",
    "    category = 0\n",
    "    choices = ', '.join(['%s - %s' % (num+1, keys[num])for num in range(len(keys))])\n",
    "    while category not in range(1, len(keys)+1):\n",
    "        print(text, choices)\n",
    "        category = int(input())\n",
    "    word_category = keys[category-1]\n",
    "    word = random.choice(words_dict[word_category])\n",
    "    return [word, word_category]"
   ]
  },
  {
   "cell_type": "code",
   "execution_count": 6,
   "id": "c4a43a09",
   "metadata": {},
   "outputs": [],
   "source": [
    "def display_board(missed_letters, correct_letters, secret_word):\n",
    "    print('--------------------------')\n",
    "    print(HANGMAN_PICS[len(missed_letters)])\n",
    "    print()\n",
    "\n",
    "    print('Missed letters:', end=' ')\n",
    "    for letter in missed_letters:\n",
    "        print(letter, end=' ')\n",
    "    print()\n",
    "\n",
    "    blanks = '_' * len(secret_word)\n",
    "\n",
    "    for i in range(len(secret_word)): # replace blanks with correctly guessed letters\n",
    "        if secret_word[i] in correct_letters:\n",
    "            blanks = blanks[:i] + secret_word[i] + blanks[i+1:]\n",
    "\n",
    "    for letter in blanks: # show the secret word with spaces in between each letter\n",
    "        print(letter, end=' ')\n",
    "    print()"
   ]
  },
  {
   "cell_type": "code",
   "execution_count": 7,
   "id": "f8aedb83",
   "metadata": {},
   "outputs": [],
   "source": [
    "def get_guess(already_guessed):\n",
    "    # Returns the letter the player entered. This function makes sure the player entered a single letter, and not something else.\n",
    "    while True:\n",
    "        print('Guess a letter.')\n",
    "        guess = input()\n",
    "        guess = guess.lower()\n",
    "        if len(guess) != 1:\n",
    "            print('Please enter a single letter.')\n",
    "        elif guess in already_guessed:\n",
    "            print('You have already guessed that letter. Choose again.')\n",
    "        elif guess not in 'abcdefghijklmnopqrstuvwxyz':\n",
    "            print('Please enter a LETTER.')\n",
    "        else:\n",
    "            return guess"
   ]
  },
  {
   "cell_type": "markdown",
   "id": "131d774c",
   "metadata": {},
   "source": [
    "This function returns True if the player wants to play again, otherwise it returns False."
   ]
  },
  {
   "cell_type": "code",
   "execution_count": 8,
   "id": "a0671dd7",
   "metadata": {},
   "outputs": [],
   "source": [
    "def play_again():\n",
    "    print('Do you want to play again? (yes or no)')\n",
    "    return input().lower().startswith('y')"
   ]
  },
  {
   "cell_type": "code",
   "execution_count": 9,
   "id": "9ea96642",
   "metadata": {},
   "outputs": [],
   "source": [
    "def set_difficulty():\n",
    "    difficulty = 'X'\n",
    "    while difficulty not in 'EMH':\n",
    "      print('Enter difficulty: E - Easy, M - Medium, H - Hard')\n",
    "      difficulty = input().upper()\n",
    "    if difficulty == 'M':\n",
    "        del HANGMAN_PICS[8]\n",
    "        del HANGMAN_PICS[7]\n",
    "    if difficulty == 'H':\n",
    "        del HANGMAN_PICS[8]\n",
    "        del HANGMAN_PICS[7]\n",
    "        del HANGMAN_PICS[5]\n",
    "        del HANGMAN_PICS[3]"
   ]
  },
  {
   "cell_type": "code",
   "execution_count": 10,
   "id": "decdfca9",
   "metadata": {},
   "outputs": [],
   "source": [
    "def play():\n",
    "    missed_letters = ''\n",
    "    correct_letters = ''\n",
    "    secret_word, secretSet = get_random_word(words_dict)\n",
    "\n",
    "    while True:\n",
    "        clear_screen()\n",
    "        print('The secret word is in the set: ' + secretSet)\n",
    "        display_board(missed_letters, correct_letters, secret_word)\n",
    "\n",
    "        # Let the player type in a letter.\n",
    "        guess = get_guess(missed_letters + correct_letters)\n",
    "\n",
    "        if guess in secret_word:\n",
    "            correct_letters += guess\n",
    "\n",
    "            # Check if the player has won\n",
    "            foundAllLetters = True\n",
    "            for i in range(len(secret_word)):\n",
    "                if secret_word[i] not in correct_letters:\n",
    "                    foundAllLetters = False\n",
    "                    break\n",
    "            if foundAllLetters:\n",
    "                print('Yes! The secret word is \"' + secret_word + '\"! You have won!')\n",
    "                return 1\n",
    "        else:\n",
    "            missed_letters = missed_letters + guess\n",
    "\n",
    "            # Check if player has guessed too many times and lost.\n",
    "            if len(missed_letters) == len(HANGMAN_PICS) - 1:\n",
    "                clear_screen()\n",
    "                print('You have run out of guesses!')\n",
    "                display_board(missed_letters, correct_letters, secret_word)\n",
    "                print('After ' + str(len(missed_letters)) + ' missed guesses and ' + str(len(correct_letters)) + ' correct guesses, the word was \"' + secret_word + '\"')\n",
    "                return 0"
   ]
  },
  {
   "cell_type": "code",
   "execution_count": null,
   "id": "877696c8",
   "metadata": {},
   "outputs": [
    {
     "name": "stdout",
     "output_type": "stream",
     "text": [
      "\n",
      "================ H A N G M A N ================\n",
      "\n",
      "You have run out of guesses!\n",
      "--------------------------\n",
      "\n",
      "      +---+\n",
      "      |   |\n",
      "      |  (O)\n",
      "      |  /|\\ \n",
      "      |  / \\ \n",
      "      |\n",
      "     ===\n",
      "\n",
      "Missed letters: a i o u q \n",
      "_ _ e e _ \n",
      "After 5 missed guesses and 1 correct guesses, the word was \"green\"\n",
      "Do you want to play again? (yes or no)\n"
     ]
    }
   ],
   "source": [
    "if __name__ == \"__main__\":\n",
    "\n",
    "    clear_screen()\n",
    "    set_difficulty()\n",
    "    tries = 0\n",
    "    wins = 0\n",
    "    first = True\n",
    "\n",
    "    while first or play_again():\n",
    "        first = False\n",
    "        win = play()\n",
    "        tries += 1\n",
    "        wins += win\n",
    "\n",
    "    print('You won %s out of %s games' % (wins, tries))"
   ]
  },
  {
   "cell_type": "code",
   "execution_count": null,
   "id": "27a532fe",
   "metadata": {},
   "outputs": [],
   "source": []
  }
 ],
 "metadata": {
  "kernelspec": {
   "display_name": "Python 3 (ipykernel)",
   "language": "python",
   "name": "python3"
  },
  "language_info": {
   "codemirror_mode": {
    "name": "ipython",
    "version": 3
   },
   "file_extension": ".py",
   "mimetype": "text/x-python",
   "name": "python",
   "nbconvert_exporter": "python",
   "pygments_lexer": "ipython3",
   "version": "3.9.13"
  }
 },
 "nbformat": 4,
 "nbformat_minor": 5
}
